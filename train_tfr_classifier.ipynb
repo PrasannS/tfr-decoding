{
 "cells": [
  {
   "cell_type": "code",
   "execution_count": 3,
   "id": "f28d9cbd-764e-4e89-883a-91c14f534b2d",
   "metadata": {
    "tags": []
   },
   "outputs": [],
   "source": [
    "import pandas as pd\n",
    "import torch\n",
    "import matplotlib.pyplot as plt\n",
    "from transformers import T5Tokenizer, T5ForConditionalGeneration\n",
    "import random \n",
    "from typing import List\n",
    "\n",
    "tokenizer = T5Tokenizer.from_pretrained(\"google/flan-t5-xxl\")"
   ]
  },
  {
   "cell_type": "code",
   "execution_count": 4,
   "id": "163e80ef-3071-4f38-a72b-ac568799c62d",
   "metadata": {
    "tags": []
   },
   "outputs": [],
   "source": [
    "%load_ext autoreload\n",
    "%autoreload 2"
   ]
  },
  {
   "cell_type": "code",
   "execution_count": 7,
   "id": "20ee953e-0452-4a2e-b479-825345472590",
   "metadata": {
    "tags": []
   },
   "outputs": [],
   "source": [
    "bd1 = pd.read_json(\"output/bigdsetp3.jsonl\", orient='records', lines=True)\n",
    "bd2 = pd.read_json(\"output/bigdsetp1.jsonl\", orient='records', lines=True)\n",
    "bd3 = pd.read_json(\"output/bigdsetp2.jsonl\", orient='records', lines=True)\n",
    "bd4 = pd.read_json(\"output/bigdsetp4.jsonl\", orient='records', lines=True)\n",
    "bd5 = pd.read_json(\"output/bigdsetp5.jsonl\", orient='records', lines=True)"
   ]
  },
  {
   "cell_type": "code",
   "execution_count": 9,
   "id": "8b86c035-cd3f-43e3-b055-aa677614f123",
   "metadata": {
    "tags": []
   },
   "outputs": [],
   "source": [
    "bdfull = pd.concat([bd1, bd2, bd3, bd4, bd5])"
   ]
  },
  {
   "cell_type": "code",
   "execution_count": 10,
   "id": "246ff0d8-62ae-41a5-9e00-8f93bb0f2e9c",
   "metadata": {
    "tags": []
   },
   "outputs": [
    {
     "data": {
      "text/html": [
       "<div>\n",
       "<style scoped>\n",
       "    .dataframe tbody tr th:only-of-type {\n",
       "        vertical-align: middle;\n",
       "    }\n",
       "\n",
       "    .dataframe tbody tr th {\n",
       "        vertical-align: top;\n",
       "    }\n",
       "\n",
       "    .dataframe thead th {\n",
       "        text-align: right;\n",
       "    }\n",
       "</style>\n",
       "<table border=\"1\" class=\"dataframe\">\n",
       "  <thead>\n",
       "    <tr style=\"text-align: right;\">\n",
       "      <th></th>\n",
       "      <th>inp</th>\n",
       "      <th>hyps</th>\n",
       "      <th>scos</th>\n",
       "      <th>stats</th>\n",
       "      <th>ver</th>\n",
       "      <th>pref</th>\n",
       "      <th>prefix</th>\n",
       "    </tr>\n",
       "  </thead>\n",
       "  <tbody>\n",
       "    <tr>\n",
       "      <th>0</th>\n",
       "      <td>Why are some people naturally talented with ma...</td>\n",
       "      <td>[Is there a brain mutation? No. But there are ...</td>\n",
       "      <td>[0.6448739171, 0.783474803, 0.843218863, 0.780...</td>\n",
       "      <td>{'mean': [], 'stdev': [], 'entropy': [[2.536, ...</td>\n",
       "      <td>first</td>\n",
       "      <td>0.0</td>\n",
       "      <td>NaN</td>\n",
       "    </tr>\n",
       "    <tr>\n",
       "      <th>1</th>\n",
       "      <td>Why are some people naturally talented with ma...</td>\n",
       "      <td>[I met someone who could square or find the lo...</td>\n",
       "      <td>[0.878369987, 0.7617390156, 0.7507990003, 0.91...</td>\n",
       "      <td>{'mean': [], 'stdev': [], 'entropy': [[0.0, 0....</td>\n",
       "      <td>best</td>\n",
       "      <td>NaN</td>\n",
       "      <td>80.0</td>\n",
       "    </tr>\n",
       "    <tr>\n",
       "      <th>2</th>\n",
       "      <td>Why Comcast \"Xfinity\" ads are allowed to conti...</td>\n",
       "      <td>[Comcast's \"Xfinity\" ads claim they are the fa...</td>\n",
       "      <td>[0.9605834484, 0.9312849045, 0.9253003597, 0.8...</td>\n",
       "      <td>{'mean': [], 'stdev': [], 'entropy': [[1.704, ...</td>\n",
       "      <td>first</td>\n",
       "      <td>0.0</td>\n",
       "      <td>NaN</td>\n",
       "    </tr>\n",
       "    <tr>\n",
       "      <th>3</th>\n",
       "      <td>Why Comcast \"Xfinity\" ads are allowed to conti...</td>\n",
       "      <td>[Comcast's \"Xfinity\" ads claim they are the fa...</td>\n",
       "      <td>[0.9487714767000001, 0.9587378502, 0.951922714...</td>\n",
       "      <td>{'mean': [], 'stdev': [], 'entropy': [[1.51900...</td>\n",
       "      <td>best</td>\n",
       "      <td>NaN</td>\n",
       "      <td>173.0</td>\n",
       "    </tr>\n",
       "    <tr>\n",
       "      <th>4</th>\n",
       "      <td>Why my computer was so brilliantly fast when I...</td>\n",
       "      <td>[The reason your computer runs so slowly after...</td>\n",
       "      <td>[0.8392536044000001, 0.6798971295, 0.491327285...</td>\n",
       "      <td>{'mean': [], 'stdev': [], 'entropy': [[2.783, ...</td>\n",
       "      <td>first</td>\n",
       "      <td>0.0</td>\n",
       "      <td>NaN</td>\n",
       "    </tr>\n",
       "    <tr>\n",
       "      <th>...</th>\n",
       "      <td>...</td>\n",
       "      <td>...</td>\n",
       "      <td>...</td>\n",
       "      <td>...</td>\n",
       "      <td>...</td>\n",
       "      <td>...</td>\n",
       "      <td>...</td>\n",
       "    </tr>\n",
       "    <tr>\n",
       "      <th>3677</th>\n",
       "      <td>Why do people sometimes expand emails when typ...</td>\n",
       "      <td>[It is a very common practice to enter email a...</td>\n",
       "      <td>[0.8973682523000001, 0.8814910650000001, 0.739...</td>\n",
       "      <td>{'mean': [], 'stdev': [], 'entropy': [[0.0, 0....</td>\n",
       "      <td>best</td>\n",
       "      <td>NaN</td>\n",
       "      <td>15.0</td>\n",
       "    </tr>\n",
       "    <tr>\n",
       "      <th>3678</th>\n",
       "      <td>Why cant we just draw blood to reduce blood pr...</td>\n",
       "      <td>[Low blood pressure is a medical emergency and...</td>\n",
       "      <td>[0.8850297332, 0.6899237037, 0.877643764000000...</td>\n",
       "      <td>{'mean': [], 'stdev': [], 'entropy': [[2.787, ...</td>\n",
       "      <td>first</td>\n",
       "      <td>0.0</td>\n",
       "      <td>NaN</td>\n",
       "    </tr>\n",
       "    <tr>\n",
       "      <th>3679</th>\n",
       "      <td>Why cant we just draw blood to reduce blood pr...</td>\n",
       "      <td>[The blood pressure needs the blood to be pump...</td>\n",
       "      <td>[0.487190485, 0.6126899123, 0.3531151414, 0.56...</td>\n",
       "      <td>{'mean': [], 'stdev': [], 'entropy': [[1.469, ...</td>\n",
       "      <td>best</td>\n",
       "      <td>NaN</td>\n",
       "      <td>17.0</td>\n",
       "    </tr>\n",
       "    <tr>\n",
       "      <th>3680</th>\n",
       "      <td>How do fingernails grow longer while being att...</td>\n",
       "      <td>[Nails grow by absorbing nutrients from the sk...</td>\n",
       "      <td>[0.5571106672, 0.5775953531, 0.8585965633, 0.7...</td>\n",
       "      <td>{'mean': [], 'stdev': [], 'entropy': [[1.211, ...</td>\n",
       "      <td>first</td>\n",
       "      <td>0.0</td>\n",
       "      <td>NaN</td>\n",
       "    </tr>\n",
       "    <tr>\n",
       "      <th>3681</th>\n",
       "      <td>How do fingernails grow longer while being att...</td>\n",
       "      <td>[The nail ridges are a dead keratinized epithe...</td>\n",
       "      <td>[0.84932971, 0.805829227, 0.8640834689, 0.7893...</td>\n",
       "      <td>{'mean': [], 'stdev': [], 'entropy': [[2.04, 2...</td>\n",
       "      <td>best</td>\n",
       "      <td>NaN</td>\n",
       "      <td>64.0</td>\n",
       "    </tr>\n",
       "  </tbody>\n",
       "</table>\n",
       "<p>20332 rows × 7 columns</p>\n",
       "</div>"
      ],
      "text/plain": [
       "                                                    inp  \\\n",
       "0     Why are some people naturally talented with ma...   \n",
       "1     Why are some people naturally talented with ma...   \n",
       "2     Why Comcast \"Xfinity\" ads are allowed to conti...   \n",
       "3     Why Comcast \"Xfinity\" ads are allowed to conti...   \n",
       "4     Why my computer was so brilliantly fast when I...   \n",
       "...                                                 ...   \n",
       "3677  Why do people sometimes expand emails when typ...   \n",
       "3678  Why cant we just draw blood to reduce blood pr...   \n",
       "3679  Why cant we just draw blood to reduce blood pr...   \n",
       "3680  How do fingernails grow longer while being att...   \n",
       "3681  How do fingernails grow longer while being att...   \n",
       "\n",
       "                                                   hyps  \\\n",
       "0     [Is there a brain mutation? No. But there are ...   \n",
       "1     [I met someone who could square or find the lo...   \n",
       "2     [Comcast's \"Xfinity\" ads claim they are the fa...   \n",
       "3     [Comcast's \"Xfinity\" ads claim they are the fa...   \n",
       "4     [The reason your computer runs so slowly after...   \n",
       "...                                                 ...   \n",
       "3677  [It is a very common practice to enter email a...   \n",
       "3678  [Low blood pressure is a medical emergency and...   \n",
       "3679  [The blood pressure needs the blood to be pump...   \n",
       "3680  [Nails grow by absorbing nutrients from the sk...   \n",
       "3681  [The nail ridges are a dead keratinized epithe...   \n",
       "\n",
       "                                                   scos  \\\n",
       "0     [0.6448739171, 0.783474803, 0.843218863, 0.780...   \n",
       "1     [0.878369987, 0.7617390156, 0.7507990003, 0.91...   \n",
       "2     [0.9605834484, 0.9312849045, 0.9253003597, 0.8...   \n",
       "3     [0.9487714767000001, 0.9587378502, 0.951922714...   \n",
       "4     [0.8392536044000001, 0.6798971295, 0.491327285...   \n",
       "...                                                 ...   \n",
       "3677  [0.8973682523000001, 0.8814910650000001, 0.739...   \n",
       "3678  [0.8850297332, 0.6899237037, 0.877643764000000...   \n",
       "3679  [0.487190485, 0.6126899123, 0.3531151414, 0.56...   \n",
       "3680  [0.5571106672, 0.5775953531, 0.8585965633, 0.7...   \n",
       "3681  [0.84932971, 0.805829227, 0.8640834689, 0.7893...   \n",
       "\n",
       "                                                  stats    ver  pref  prefix  \n",
       "0     {'mean': [], 'stdev': [], 'entropy': [[2.536, ...  first   0.0     NaN  \n",
       "1     {'mean': [], 'stdev': [], 'entropy': [[0.0, 0....   best   NaN    80.0  \n",
       "2     {'mean': [], 'stdev': [], 'entropy': [[1.704, ...  first   0.0     NaN  \n",
       "3     {'mean': [], 'stdev': [], 'entropy': [[1.51900...   best   NaN   173.0  \n",
       "4     {'mean': [], 'stdev': [], 'entropy': [[2.783, ...  first   0.0     NaN  \n",
       "...                                                 ...    ...   ...     ...  \n",
       "3677  {'mean': [], 'stdev': [], 'entropy': [[0.0, 0....   best   NaN    15.0  \n",
       "3678  {'mean': [], 'stdev': [], 'entropy': [[2.787, ...  first   0.0     NaN  \n",
       "3679  {'mean': [], 'stdev': [], 'entropy': [[1.469, ...   best   NaN    17.0  \n",
       "3680  {'mean': [], 'stdev': [], 'entropy': [[1.211, ...  first   0.0     NaN  \n",
       "3681  {'mean': [], 'stdev': [], 'entropy': [[2.04, 2...   best   NaN    64.0  \n",
       "\n",
       "[20332 rows x 7 columns]"
      ]
     },
     "execution_count": 10,
     "metadata": {},
     "output_type": "execute_result"
    }
   ],
   "source": [
    "bdfull"
   ]
  },
  {
   "cell_type": "code",
   "execution_count": 11,
   "id": "adcf99e4-6837-4bcc-ab6f-bdfbfb2d25c5",
   "metadata": {
    "tags": []
   },
   "outputs": [],
   "source": [
    "def random_prefix_dataframe(df: pd.DataFrame) -> pd.DataFrame:\n",
    "    new_rows = []\n",
    "\n",
    "    for index, row in df.iterrows():\n",
    "        input_str = row['inp']\n",
    "        hyps = row['hyps']\n",
    "        scos = row['scos']\n",
    "        \n",
    "        for hyp, sco in zip(hyps, scos):\n",
    "            words = hyp.split(' ')\n",
    "            prefix_length = random.randint(1, len(words))\n",
    "            prefix = ' '.join(words[:prefix_length])\n",
    "\n",
    "            new_row = {\n",
    "                'inp': input_str,\n",
    "                'hyp': prefix,\n",
    "                'pflen':prefix_length,\n",
    "                'sco': sco\n",
    "            }\n",
    "            new_rows.append(new_row)\n",
    "\n",
    "    new_df = pd.DataFrame(new_rows)\n",
    "    return new_df"
   ]
  },
  {
   "cell_type": "code",
   "execution_count": 21,
   "id": "525b73d2-648a-4c41-9cbc-f37988897029",
   "metadata": {
    "tags": []
   },
   "outputs": [],
   "source": [
    "import pandas as pd\n",
    "from statistics import stdev\n",
    "\n",
    "# Minimal matching prefix function\n",
    "def common_prefix(strings):\n",
    "    if not strings:\n",
    "        return \"\"\n",
    "\n",
    "    prefix = strings[0]\n",
    "    for s in strings[1:]:\n",
    "        while not s.startswith(prefix):\n",
    "            prefix = prefix[:-1]\n",
    "            if not prefix:\n",
    "                return \"\"\n",
    "    return prefix\n",
    "\n",
    "def get_common_dset(df):\n",
    "\n",
    "    # Split dataframes\n",
    "    df_first = df[df['ver'] == 'first'].reset_index(drop=True)\n",
    "    df_best = df[df['ver'] != 'first'].reset_index(drop=True)\n",
    "    print(len(df_first))\n",
    "    print(len(df_best))\n",
    "    # Merge dataframes\n",
    "    merged_df = pd.merge(df_first, df_best, on='inp', suffixes=('_first', '_best'))\n",
    "\n",
    "    # Calculate minimal matching prefix, max, and mean\n",
    "    merged_df['prefix'] = merged_df['hyps_best'].apply(common_prefix)\n",
    "    merged_df['max_scos_first'] = merged_df['scos_first'].apply(max)\n",
    "    merged_df['stdev_first'] = merged_df['scos_first'].apply(stdev)\n",
    "    merged_df['mean_scos_first'] = merged_df['scos_first'].apply(lambda x: sum(x)/len(x))\n",
    "    merged_df['max_scos_best'] = merged_df['scos_best'].apply(max)\n",
    "    merged_df['stdev_best'] = merged_df['scos_best'].apply(stdev)\n",
    "    merged_df['mean_scos_best'] = merged_df['scos_best'].apply(lambda x: sum(x)/len(x))\n",
    "\n",
    "    # Create new dataframe with required columns\n",
    "    result = merged_df[['inp', 'prefix', 'max_scos_first', 'mean_scos_first', 'max_scos_best', 'mean_scos_best', 'stdev_first', 'stdev_best']]\n",
    "    return result\n"
   ]
  },
  {
   "cell_type": "code",
   "execution_count": 22,
   "id": "c7615120-02d4-49c1-b54a-0451793bebe5",
   "metadata": {
    "tags": []
   },
   "outputs": [
    {
     "name": "stdout",
     "output_type": "stream",
     "text": [
      "10166\n",
      "10166\n"
     ]
    }
   ],
   "source": [
    "comdset = get_common_dset(bdfull)"
   ]
  },
  {
   "cell_type": "code",
   "execution_count": 28,
   "id": "6364ca1c-fd00-44d8-99ad-fc7bb31afd4b",
   "metadata": {
    "tags": []
   },
   "outputs": [
    {
     "data": {
      "text/html": [
       "<div>\n",
       "<style scoped>\n",
       "    .dataframe tbody tr th:only-of-type {\n",
       "        vertical-align: middle;\n",
       "    }\n",
       "\n",
       "    .dataframe tbody tr th {\n",
       "        vertical-align: top;\n",
       "    }\n",
       "\n",
       "    .dataframe thead th {\n",
       "        text-align: right;\n",
       "    }\n",
       "</style>\n",
       "<table border=\"1\" class=\"dataframe\">\n",
       "  <thead>\n",
       "    <tr style=\"text-align: right;\">\n",
       "      <th></th>\n",
       "      <th>inp</th>\n",
       "      <th>prefix</th>\n",
       "      <th>max_scos_first</th>\n",
       "      <th>mean_scos_first</th>\n",
       "      <th>max_scos_best</th>\n",
       "      <th>mean_scos_best</th>\n",
       "      <th>stdev_first</th>\n",
       "      <th>stdev_best</th>\n",
       "    </tr>\n",
       "  </thead>\n",
       "  <tbody>\n",
       "    <tr>\n",
       "      <th>0</th>\n",
       "      <td>Why are some people naturally talented with ma...</td>\n",
       "      <td>I met someone who could square or find the log...</td>\n",
       "      <td>0.843219</td>\n",
       "      <td>0.763136</td>\n",
       "      <td>0.914019</td>\n",
       "      <td>0.826232</td>\n",
       "      <td>0.083927</td>\n",
       "      <td>0.082208</td>\n",
       "    </tr>\n",
       "    <tr>\n",
       "      <th>2</th>\n",
       "      <td>Why my computer was so brilliantly fast when I...</td>\n",
       "      <td>I have a hp pavilion dv7 laptop that was fine ...</td>\n",
       "      <td>0.839254</td>\n",
       "      <td>0.681214</td>\n",
       "      <td>0.475056</td>\n",
       "      <td>0.333133</td>\n",
       "      <td>0.143916</td>\n",
       "      <td>0.123601</td>\n",
       "    </tr>\n",
       "    <tr>\n",
       "      <th>3</th>\n",
       "      <td>How older films can be made into 3D (eg Titani...</td>\n",
       "      <td>3D conversion of</td>\n",
       "      <td>0.800477</td>\n",
       "      <td>0.648367</td>\n",
       "      <td>0.839810</td>\n",
       "      <td>0.785747</td>\n",
       "      <td>0.205055</td>\n",
       "      <td>0.059344</td>\n",
       "    </tr>\n",
       "    <tr>\n",
       "      <th>6</th>\n",
       "      <td>Is Africa as unstable as the media portrays it...</td>\n",
       "      <td>Is Africa as stable as the media portrays it t...</td>\n",
       "      <td>0.972558</td>\n",
       "      <td>0.864264</td>\n",
       "      <td>0.937715</td>\n",
       "      <td>0.861529</td>\n",
       "      <td>0.125334</td>\n",
       "      <td>0.094180</td>\n",
       "    </tr>\n",
       "    <tr>\n",
       "      <th>8</th>\n",
       "      <td>Why are rainbows shaped like arches/parabolasS...</td>\n",
       "      <td>Rainbows are a reflection of the sun's light h...</td>\n",
       "      <td>0.612037</td>\n",
       "      <td>0.526865</td>\n",
       "      <td>0.690617</td>\n",
       "      <td>0.564146</td>\n",
       "      <td>0.086839</td>\n",
       "      <td>0.091508</td>\n",
       "    </tr>\n",
       "    <tr>\n",
       "      <th>...</th>\n",
       "      <td>...</td>\n",
       "      <td>...</td>\n",
       "      <td>...</td>\n",
       "      <td>...</td>\n",
       "      <td>...</td>\n",
       "      <td>...</td>\n",
       "      <td>...</td>\n",
       "      <td>...</td>\n",
       "    </tr>\n",
       "    <tr>\n",
       "      <th>10157</th>\n",
       "      <td>How did the light bulb become an international...</td>\n",
       "      <td>In the USA and much of Europe, it is often use...</td>\n",
       "      <td>0.863845</td>\n",
       "      <td>0.742447</td>\n",
       "      <td>0.832445</td>\n",
       "      <td>0.629819</td>\n",
       "      <td>0.133299</td>\n",
       "      <td>0.176068</td>\n",
       "    </tr>\n",
       "    <tr>\n",
       "      <th>10159</th>\n",
       "      <td>Difference between all-wheel drive and four-wh...</td>\n",
       "      <td>All-wheel drive is a form of</td>\n",
       "      <td>0.931151</td>\n",
       "      <td>0.900287</td>\n",
       "      <td>0.939959</td>\n",
       "      <td>0.795636</td>\n",
       "      <td>0.036753</td>\n",
       "      <td>0.155823</td>\n",
       "    </tr>\n",
       "    <tr>\n",
       "      <th>10160</th>\n",
       "      <td>Why did Teachers in the past focused so much o...</td>\n",
       "      <td>I believe it was because of the difficulty in ...</td>\n",
       "      <td>0.866305</td>\n",
       "      <td>0.647476</td>\n",
       "      <td>0.435417</td>\n",
       "      <td>0.355696</td>\n",
       "      <td>0.231694</td>\n",
       "      <td>0.054955</td>\n",
       "    </tr>\n",
       "    <tr>\n",
       "      <th>10163</th>\n",
       "      <td>Why do people sometimes expand emails when typ...</td>\n",
       "      <td>It is a very common practice to enter email ad...</td>\n",
       "      <td>0.780431</td>\n",
       "      <td>0.748663</td>\n",
       "      <td>0.897368</td>\n",
       "      <td>0.821019</td>\n",
       "      <td>0.040119</td>\n",
       "      <td>0.079962</td>\n",
       "    </tr>\n",
       "    <tr>\n",
       "      <th>10164</th>\n",
       "      <td>Why cant we just draw blood to reduce blood pr...</td>\n",
       "      <td>The blood pressure needs the blood to be pumpe...</td>\n",
       "      <td>0.885030</td>\n",
       "      <td>0.793841</td>\n",
       "      <td>0.612690</td>\n",
       "      <td>0.503637</td>\n",
       "      <td>0.101962</td>\n",
       "      <td>0.112804</td>\n",
       "    </tr>\n",
       "  </tbody>\n",
       "</table>\n",
       "<p>4235 rows × 8 columns</p>\n",
       "</div>"
      ],
      "text/plain": [
       "                                                     inp  \\\n",
       "0      Why are some people naturally talented with ma...   \n",
       "2      Why my computer was so brilliantly fast when I...   \n",
       "3      How older films can be made into 3D (eg Titani...   \n",
       "6      Is Africa as unstable as the media portrays it...   \n",
       "8      Why are rainbows shaped like arches/parabolasS...   \n",
       "...                                                  ...   \n",
       "10157  How did the light bulb become an international...   \n",
       "10159  Difference between all-wheel drive and four-wh...   \n",
       "10160  Why did Teachers in the past focused so much o...   \n",
       "10163  Why do people sometimes expand emails when typ...   \n",
       "10164  Why cant we just draw blood to reduce blood pr...   \n",
       "\n",
       "                                                  prefix  max_scos_first  \\\n",
       "0      I met someone who could square or find the log...        0.843219   \n",
       "2      I have a hp pavilion dv7 laptop that was fine ...        0.839254   \n",
       "3                                      3D conversion of         0.800477   \n",
       "6      Is Africa as stable as the media portrays it t...        0.972558   \n",
       "8      Rainbows are a reflection of the sun's light h...        0.612037   \n",
       "...                                                  ...             ...   \n",
       "10157  In the USA and much of Europe, it is often use...        0.863845   \n",
       "10159                      All-wheel drive is a form of         0.931151   \n",
       "10160  I believe it was because of the difficulty in ...        0.866305   \n",
       "10163  It is a very common practice to enter email ad...        0.780431   \n",
       "10164  The blood pressure needs the blood to be pumpe...        0.885030   \n",
       "\n",
       "       mean_scos_first  max_scos_best  mean_scos_best  stdev_first  stdev_best  \n",
       "0             0.763136       0.914019        0.826232     0.083927    0.082208  \n",
       "2             0.681214       0.475056        0.333133     0.143916    0.123601  \n",
       "3             0.648367       0.839810        0.785747     0.205055    0.059344  \n",
       "6             0.864264       0.937715        0.861529     0.125334    0.094180  \n",
       "8             0.526865       0.690617        0.564146     0.086839    0.091508  \n",
       "...                ...            ...             ...          ...         ...  \n",
       "10157         0.742447       0.832445        0.629819     0.133299    0.176068  \n",
       "10159         0.900287       0.939959        0.795636     0.036753    0.155823  \n",
       "10160         0.647476       0.435417        0.355696     0.231694    0.054955  \n",
       "10163         0.748663       0.897368        0.821019     0.040119    0.079962  \n",
       "10164         0.793841       0.612690        0.503637     0.101962    0.112804  \n",
       "\n",
       "[4235 rows x 8 columns]"
      ]
     },
     "execution_count": 28,
     "metadata": {},
     "output_type": "execute_result"
    }
   ],
   "source": [
    "comdset[comdset.stdev_best>0.05]"
   ]
  },
  {
   "cell_type": "code",
   "execution_count": 29,
   "id": "12058bf3-6d4e-4253-bcef-8c7d52643964",
   "metadata": {
    "tags": []
   },
   "outputs": [],
   "source": [
    "comdset['sco'] = comdset.stdev_best"
   ]
  },
  {
   "cell_type": "code",
   "execution_count": 31,
   "id": "3af7c5ba-516f-464e-b13b-00b4fb69d049",
   "metadata": {
    "tags": []
   },
   "outputs": [],
   "source": [
    "comdset.to_json(\"std_dataset.jsonl\", lines=True, orient=\"records\")"
   ]
  },
  {
   "cell_type": "code",
   "execution_count": 26,
   "id": "409f5fc8-3e5c-4757-b97a-508a84447711",
   "metadata": {
    "tags": []
   },
   "outputs": [],
   "source": [
    "alldata = random_prefix_dataframe(bdfull)"
   ]
  },
  {
   "cell_type": "code",
   "execution_count": 30,
   "id": "6839020a-c22d-406b-a0ae-7f5fa701d570",
   "metadata": {
    "tags": []
   },
   "outputs": [
    {
     "data": {
      "text/html": [
       "<div>\n",
       "<style scoped>\n",
       "    .dataframe tbody tr th:only-of-type {\n",
       "        vertical-align: middle;\n",
       "    }\n",
       "\n",
       "    .dataframe tbody tr th {\n",
       "        vertical-align: top;\n",
       "    }\n",
       "\n",
       "    .dataframe thead th {\n",
       "        text-align: right;\n",
       "    }\n",
       "</style>\n",
       "<table border=\"1\" class=\"dataframe\">\n",
       "  <thead>\n",
       "    <tr style=\"text-align: right;\">\n",
       "      <th></th>\n",
       "      <th>inp</th>\n",
       "      <th>hyp</th>\n",
       "      <th>pflen</th>\n",
       "      <th>sco</th>\n",
       "    </tr>\n",
       "  </thead>\n",
       "  <tbody>\n",
       "    <tr>\n",
       "      <th>4</th>\n",
       "      <td>Why are some people naturally talented with ma...</td>\n",
       "      <td>I met someone who could square or find the log...</td>\n",
       "      <td>30</td>\n",
       "      <td>0.878370</td>\n",
       "    </tr>\n",
       "    <tr>\n",
       "      <th>7</th>\n",
       "      <td>Why are some people naturally talented with ma...</td>\n",
       "      <td>I met</td>\n",
       "      <td>2</td>\n",
       "      <td>0.914019</td>\n",
       "    </tr>\n",
       "    <tr>\n",
       "      <th>8</th>\n",
       "      <td>Why Comcast \"Xfinity\" ads are allowed to conti...</td>\n",
       "      <td>Comcast's \"Xfinity\" ads claim they are the fas...</td>\n",
       "      <td>96</td>\n",
       "      <td>0.960583</td>\n",
       "    </tr>\n",
       "    <tr>\n",
       "      <th>9</th>\n",
       "      <td>Why Comcast \"Xfinity\" ads are allowed to conti...</td>\n",
       "      <td>Comcast has a right to market their ISP as the...</td>\n",
       "      <td>75</td>\n",
       "      <td>0.931285</td>\n",
       "    </tr>\n",
       "    <tr>\n",
       "      <th>10</th>\n",
       "      <td>Why Comcast \"Xfinity\" ads are allowed to conti...</td>\n",
       "      <td>Comcast's ads claim to be \"Xfinity\" the fastes...</td>\n",
       "      <td>84</td>\n",
       "      <td>0.925300</td>\n",
       "    </tr>\n",
       "    <tr>\n",
       "      <th>...</th>\n",
       "      <td>...</td>\n",
       "      <td>...</td>\n",
       "      <td>...</td>\n",
       "      <td>...</td>\n",
       "    </tr>\n",
       "    <tr>\n",
       "      <th>64666</th>\n",
       "      <td>Why does orange juice with pulp have the same ...</td>\n",
       "      <td>Pulp-free orange</td>\n",
       "      <td>2</td>\n",
       "      <td>0.879468</td>\n",
       "    </tr>\n",
       "    <tr>\n",
       "      <th>64667</th>\n",
       "      <td>Why does orange juice with pulp have the same ...</td>\n",
       "      <td>Pulp-free juice is made</td>\n",
       "      <td>4</td>\n",
       "      <td>0.881085</td>\n",
       "    </tr>\n",
       "    <tr>\n",
       "      <th>64668</th>\n",
       "      <td>Why does orange juice with pulp have the same ...</td>\n",
       "      <td>Fiber content is determined by the proportion ...</td>\n",
       "      <td>30</td>\n",
       "      <td>0.855274</td>\n",
       "    </tr>\n",
       "    <tr>\n",
       "      <th>64669</th>\n",
       "      <td>Why does orange juice with pulp have the same ...</td>\n",
       "      <td>Fiber content is determined by the proportion ...</td>\n",
       "      <td>15</td>\n",
       "      <td>0.883795</td>\n",
       "    </tr>\n",
       "    <tr>\n",
       "      <th>64671</th>\n",
       "      <td>Why does orange juice with pulp have the same ...</td>\n",
       "      <td>Fiber content is determined by the proportion of</td>\n",
       "      <td>8</td>\n",
       "      <td>0.891449</td>\n",
       "    </tr>\n",
       "  </tbody>\n",
       "</table>\n",
       "<p>23469 rows × 4 columns</p>\n",
       "</div>"
      ],
      "text/plain": [
       "                                                     inp  \\\n",
       "4      Why are some people naturally talented with ma...   \n",
       "7      Why are some people naturally talented with ma...   \n",
       "8      Why Comcast \"Xfinity\" ads are allowed to conti...   \n",
       "9      Why Comcast \"Xfinity\" ads are allowed to conti...   \n",
       "10     Why Comcast \"Xfinity\" ads are allowed to conti...   \n",
       "...                                                  ...   \n",
       "64666  Why does orange juice with pulp have the same ...   \n",
       "64667  Why does orange juice with pulp have the same ...   \n",
       "64668  Why does orange juice with pulp have the same ...   \n",
       "64669  Why does orange juice with pulp have the same ...   \n",
       "64671  Why does orange juice with pulp have the same ...   \n",
       "\n",
       "                                                     hyp  pflen       sco  \n",
       "4      I met someone who could square or find the log...     30  0.878370  \n",
       "7                                                  I met      2  0.914019  \n",
       "8      Comcast's \"Xfinity\" ads claim they are the fas...     96  0.960583  \n",
       "9      Comcast has a right to market their ISP as the...     75  0.931285  \n",
       "10     Comcast's ads claim to be \"Xfinity\" the fastes...     84  0.925300  \n",
       "...                                                  ...    ...       ...  \n",
       "64666                                   Pulp-free orange      2  0.879468  \n",
       "64667                            Pulp-free juice is made      4  0.881085  \n",
       "64668  Fiber content is determined by the proportion ...     30  0.855274  \n",
       "64669  Fiber content is determined by the proportion ...     15  0.883795  \n",
       "64671   Fiber content is determined by the proportion of      8  0.891449  \n",
       "\n",
       "[23469 rows x 4 columns]"
      ]
     },
     "execution_count": 30,
     "metadata": {},
     "output_type": "execute_result"
    }
   ],
   "source": [
    "alldata[alldata['sco']>0.85]"
   ]
  },
  {
   "cell_type": "code",
   "execution_count": 34,
   "id": "c6103af6-0f20-405a-a078-0bf83a0820d6",
   "metadata": {
    "tags": []
   },
   "outputs": [
    {
     "data": {
      "text/plain": [
       "<matplotlib.collections.PathCollection at 0x7f0f346d84c0>"
      ]
     },
     "execution_count": 34,
     "metadata": {},
     "output_type": "execute_result"
    },
    {
     "data": {
      "image/png": "[encoded data removed]",
      "text/plain": [
       "<Figure size 640x480 with 1 Axes>"
      ]
     },
     "metadata": {},
     "output_type": "display_data"
    }
   ],
   "source": [
    "plt.scatter(x = [2.7, 17.63], y = [7.62, 2.7])"
   ]
  },
  {
   "cell_type": "code",
   "execution_count": 32,
   "id": "04fb8032-96ac-42e1-acc5-b067cb325ba0",
   "metadata": {
    "tags": []
   },
   "outputs": [],
   "source": [
    "alldata.to_json(\"output/traingoodclassif.json\", lines=True, orient=\"records\")"
   ]
  },
  {
   "cell_type": "code",
   "execution_count": 27,
   "id": "969cc788-34f2-4c9f-90a2-4aefa9a0a809",
   "metadata": {
    "tags": []
   },
   "outputs": [
    {
     "data": {
      "text/plain": [
       "[\"Is there a brain mutation? No. But there are a lot of natural talents, some very good. Some skills can't be taught.\",\n",
       " \"Some people are talented in maths because they've learned it. It's like reading or playing an instrument, and you've innately developed the ability and a passion for it. The difference between these two cases is that one is related to your physical ability, the other is something learned. You can be born with a natural talent for music, but it takes a lot of practice. You can be born with a natural talent for maths, but it takes a lot of training and a passion. I can't answer your question about whether some people are naturally talented with maths. I can only say that it's a combination of both.\",\n",
       " \"I met someone who could square or find the log of any number you gave him, even if this is a trick, how did he do this? This is a tricky question, because he was able to do so without a calculator. How does he do this? That is where things get a little trickier, because he must have memorized the formulas that he uses to find them. However, the same formulas must be used to do algebra, calculus, etc., so we don't know exactly what he did, because we haven't uncovered the secret to it. We can tell, however, that he is very intelligent, because he does the calculations very quickly and accurately. The only way we can figure that out is by doing it ourselves. However, we can't really do it until we get a little bit older. There is some good information on how to train our brains to do complex calculations at the University of California.\",\n",
       " \"This person might be able to do all of the above because he has a brain mutation that activates the 'amygdala' in his brain. If he were to do these calculations it would be as though they were a child doing it - and that could be how the human brain originally operated, as it has in the past.\"]"
      ]
     },
     "execution_count": 27,
     "metadata": {},
     "output_type": "execute_result"
    }
   ],
   "source": [
    "bdfull.iloc[0]['hyps']"
   ]
  },
  {
   "cell_type": "code",
   "execution_count": 7,
   "id": "27f0de96-2c1d-4bc3-b0cc-93bb40ac22db",
   "metadata": {
    "tags": []
   },
   "outputs": [],
   "source": [
    "def mean(l):\n",
    "    return sum(l)/len(l)"
   ]
  },
  {
   "cell_type": "code",
   "execution_count": 8,
   "id": "daedf26d-dac7-4c9b-a2d6-d4424fb5580d",
   "metadata": {
    "tags": []
   },
   "outputs": [],
   "source": [
    "alluns = list(bdfull['inp'].unique())\n",
    "omaxes = []\n",
    "nmaxes = []\n",
    "omeans = []\n",
    "nmeans = []\n",
    "for a in alluns:\n",
    "    tmp = bdfull[bdfull['inp']==a].copy()\n",
    "    oldval = tmp[tmp['ver']=='first'].iloc[0]\n",
    "    newval = tmp[tmp['ver']!='first'].iloc[0]\n",
    "    omaxes.append(max(oldval['scos']))\n",
    "    nmaxes.append(max(newval['scos']))\n",
    "    omeans.append(mean(oldval['scos']))\n",
    "    nmeans.append(mean(newval['scos']))"
   ]
  },
  {
   "cell_type": "code",
   "execution_count": 41,
   "id": "5a617221-87ea-42c7-be1d-610d2e4df27f",
   "metadata": {
    "tags": []
   },
   "outputs": [],
   "source": [
    "diffs = [nmeans[i]-omeans[i] for i in range(len(omaxes))]"
   ]
  },
  {
   "cell_type": "code",
   "execution_count": 36,
   "id": "6599affe-f397-4357-b1de-5cfbd669dadc",
   "metadata": {
    "tags": []
   },
   "outputs": [
    {
     "data": {
      "text/plain": [
       "273"
      ]
     },
     "execution_count": 36,
     "metadata": {},
     "output_type": "execute_result"
    }
   ],
   "source": [
    "sum([d>0.1 for d in diffs])"
   ]
  },
  {
   "cell_type": "code",
   "execution_count": 43,
   "id": "2791a1c4-bc49-4edd-84f3-02e89a5bfd5e",
   "metadata": {
    "tags": []
   },
   "outputs": [
    {
     "data": {
      "text/plain": [
       "(array([   3.,   11.,   60.,  256.,  897., 2829., 2929.,  913.,  151.,\n",
       "          15.]),\n",
       " array([-0.55252679, -0.45797472, -0.36342264, -0.26887057, -0.1743185 ,\n",
       "        -0.07976643,  0.01478565,  0.10933772,  0.20388979,  0.29844186,\n",
       "         0.39299393]),\n",
       " <BarContainer object of 10 artists>)"
      ]
     },
     "execution_count": 43,
     "metadata": {},
     "output_type": "execute_result"
    },
    {
     "data": {
      "image/png": "[encoded data removed]",
      "text/plain": [
       "<Figure size 640x480 with 1 Axes>"
      ]
     },
     "metadata": {},
     "output_type": "display_data"
    }
   ],
   "source": [
    "plt.hist(diffs)"
   ]
  },
  {
   "cell_type": "code",
   "execution_count": 5,
   "id": "854c69b8-9a9d-4e41-97ff-1dd6174cc762",
   "metadata": {},
   "outputs": [],
   "source": [
    "adata = pd.read_json(\"improvedataset.jsonl\", lines=True, orient='records')"
   ]
  },
  {
   "cell_type": "code",
   "execution_count": null,
   "id": "c4c5c136-e867-496b-ac0f-f768e5f89d14",
   "metadata": {},
   "outputs": [],
   "source": []
  }
 ],
 "metadata": {
  "kernelspec": {
   "display_name": "Python 3 (ipykernel)",
   "language": "python",
   "name": "python3"
  },
  "language_info": {
   "codemirror_mode": {
    "name": "ipython",
    "version": 3
   },
   "file_extension": ".py",
   "mimetype": "text/x-python",
   "name": "python",
   "nbconvert_exporter": "python",
   "pygments_lexer": "ipython3",
   "version": "3.8.16"
  }
 },
 "nbformat": 4,
 "nbformat_minor": 5
}
