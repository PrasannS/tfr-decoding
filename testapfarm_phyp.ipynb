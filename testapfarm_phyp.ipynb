{
 "cells": [
  {
   "cell_type": "code",
   "execution_count": 3,
   "id": "67107954-fb3f-4803-8fb7-871bb34bf9a6",
   "metadata": {},
   "outputs": [],
   "source": [
    "from alpaca_farm.models import reward_model\n",
    "from alpaca_farm.inference.decode import load_model_and_tokenizer_for_inference \n",
    "from alpaca_farm.inference.score import score_sequences_with_huggingface_given_model\n",
    "from alpaca_farm import utils\n",
    "\n",
    "import torch\n",
    "from datasets import load_dataset\n",
    "import pandas as pd\n",
    "import numpy as np\n",
    "from src.tfr_decoding.custom_bs import beam_search\n",
    "from src.tfr_decoding.recurse_samp import sample\n",
    "from src.utils.samp_utils import inpsampall, dset_randsamp\n",
    "\n",
    "device = 'cuda:0' # if you have a GPU"
   ]
  },
  {
   "cell_type": "code",
   "execution_count": 4,
   "id": "a13a59b6-69bc-4251-953a-9454d2778aca",
   "metadata": {},
   "outputs": [],
   "source": [
    "elidf = pd.read_json(\"output/elidataset.jsonl\", orient=\"records\", lines=\"true\")\n",
    "# 16000 for P1\n",
    "# 25000 for P2\n",
    "# 31500 for P3\n",
    "# 50000 for P4\n",
    "# 65000 for P5\n",
    "# 70000 for P6\n",
    "elidf = elidf.drop_duplicates(subset=\"history\").iloc[15000:15050]"
   ]
  },
  {
   "cell_type": "code",
   "execution_count": 5,
   "id": "f5ff6c33-acb8-46da-aecb-0ba01c305a95",
   "metadata": {},
   "outputs": [
    {
     "ename": "NameError",
     "evalue": "name 'utils' is not defined",
     "output_type": "error",
     "traceback": [
      "\u001b[0;31m---------------------------------------------------------------------------\u001b[0m",
      "\u001b[0;31mNameError\u001b[0m                                 Traceback (most recent call last)",
      "Cell \u001b[0;32mIn[5], line 6\u001b[0m\n\u001b[1;32m      1\u001b[0m rew_model, tokenizer \u001b[38;5;241m=\u001b[39m load_model_and_tokenizer_for_inference(\n\u001b[1;32m      2\u001b[0m     model_name_or_path\u001b[38;5;241m=\u001b[39m\u001b[38;5;124m\"\u001b[39m\u001b[38;5;124m/home/prasann/Projects/tfr-decoding/apfarm_models/reward-model-human/\u001b[39m\u001b[38;5;124m\"\u001b[39m,\n\u001b[1;32m      3\u001b[0m     model_cls\u001b[38;5;241m=\u001b[39mreward_model\u001b[38;5;241m.\u001b[39mRewardModel,\n\u001b[1;32m      4\u001b[0m     cache_dir\u001b[38;5;241m=\u001b[39m\u001b[38;5;28;01mNone\u001b[39;00m,\n\u001b[1;32m      5\u001b[0m     model_kwargs\u001b[38;5;241m=\u001b[39m\u001b[38;5;28mdict\u001b[39m(\n\u001b[0;32m----> 6\u001b[0m         torch_dtype\u001b[38;5;241m=\u001b[39m\u001b[43mutils\u001b[49m\u001b[38;5;241m.\u001b[39mconvert_str_dtype_to_torch_dtype(\u001b[38;5;28;01mNone\u001b[39;00m),\n\u001b[1;32m      7\u001b[0m         flash_attn\u001b[38;5;241m=\u001b[39m\u001b[38;5;28;01mFalse\u001b[39;00m,\n\u001b[1;32m      8\u001b[0m     ),\n\u001b[1;32m      9\u001b[0m )\n",
      "\u001b[0;31mNameError\u001b[0m: name 'utils' is not defined"
     ]
    }
   ],
   "source": [
    "rew_model, tokenizer = load_model_and_tokenizer_for_inference(\n",
    "    model_name_or_path=\"/home/prasann/Projects/tfr-decoding/apfarm_models/reward-model-human/\",\n",
    "    model_cls=reward_model.RewardModel,\n",
    "    cache_dir=None,\n",
    "    model_kwargs=dict(\n",
    "        torch_dtype=utils.convert_str_dtype_to_torch_dtype(None),\n",
    "        flash_attn=False,\n",
    "    ),\n",
    ")"
   ]
  },
  {
   "cell_type": "code",
   "execution_count": null,
   "id": "9cb4e814-c66b-4e7c-a811-a1ada7ab5e00",
   "metadata": {},
   "outputs": [],
   "source": [
    "# get generation model\n",
    "tokenizer = T5Tokenizer.from_pretrained(\"google/flan-t5-xxl\")\n",
    "model = T5ForConditionalGeneration.from_pretrained(\"google/flan-t5-xxl\", device_map=\"auto\")#.to(device)\n",
    "model.beam_search = beam_search.__get__(model)\n",
    "model.sample = sample.__get__(model)\n",
    "model.eval()\n",
    "\n",
    "\n",
    "#fulleli5 = load_dataset(\"eli5\")\n",
    "#train = fulleli5['train_eli5']\n",
    "#questions = []\n",
    "#for i in range(len(train)):\n",
    "#    f = train[i]\n",
    "#    if f['selftext'] and len(f['selftext'])>10:\n",
    "#        questions.append(f['title']+f['selftext'])\n",
    "\n",
    "#elidf = pd.DataFrame({'history':questions})        \n",
    "#eli5 = load_dataset(\"stanfordnlp/shp\", data_dir=\"explainlikeimfive\")\n",
    "#eliorig = pd.DataFrame(eli5['train'])\n",
    "#elidf = pd.read_json(\"output/elidataset.jsonl\", orient=\"records\", lines=\"true\")\n",
    "#elidf = elidf.drop_duplicates(subset=\"history\").iloc[16000:]\n",
    "\n",
    "#inpsall = pd.read_json(\"baselines1.jsonl\", lines=True, orient='records')\n",
    "#inpsall = pd.concat([inpsall, pd.read_json(\"baselines2.jsonl\", lines=True, orient='records')])\n",
    "\n",
    "\n",
    "pflen = [.7]\n",
    "rchoose = [2]\n",
    "tsamps = [4]\n",
    "\n",
    "#sampfrominp(3, 0, inpsall, pflen, rchoose, tsamps)\n",
    "#isall = inpsampall(elidf.iloc[:100], tokenizer, model, steamtok, steamshp, None, pflen, rchoose, tsamps, 0, 0.9)\n",
    "#isall = inpsampall(elidf.iloc[:100], tokenizer, model, steamtok, steamshp, None, [.3, -1], rchoose, tsamps, 0, 0.9)\n",
    "with torch.no_grad():\n",
    "    #exsamp = dset_randsamp(elidf, tokenizer, model, steamtok, steamshp, rchoose, tsamps, 0.9, False, \"testset1.jsonl\")\n",
    "    #exsamp = dset_randsamp(elidf, tokenizer, model, steamtok, steamshp, rchoose, tsamps, 0.9, False, \"testset2.jsonl\")\n",
    "#isall = inpsampall(inpsall.iloc[:50], pflen, rchoose, tsamps, 1, .9)\n",
    "#isall = inpsampall(inpsall.iloc[:50], pflen, rchoose, tsamps, 2, .9)\n",
    "#isall = inpsampall(inpsall.iloc[:50], pflen, rchoose, tsamps, 3, .9)\n",
    "#isall = inpsampall(inpsall.iloc[:50], pflen, rchoose, tsamps, 4, .9)"
   ]
  }
 ],
 "metadata": {
  "kernelspec": {
   "display_name": "Python 3 (ipykernel)",
   "language": "python",
   "name": "python3"
  },
  "language_info": {
   "codemirror_mode": {
    "name": "ipython",
    "version": 3
   },
   "file_extension": ".py",
   "mimetype": "text/x-python",
   "name": "python",
   "nbconvert_exporter": "python",
   "pygments_lexer": "ipython3",
   "version": "3.9.16"
  }
 },
 "nbformat": 4,
 "nbformat_minor": 5
}
