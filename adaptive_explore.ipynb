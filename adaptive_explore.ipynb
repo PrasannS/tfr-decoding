{
 "cells": [
  {
   "cell_type": "code",
   "execution_count": 36,
   "id": "89f344f6-a831-40cf-83b7-76b4bfde5e96",
   "metadata": {
    "tags": []
   },
   "outputs": [],
   "source": [
    "import pandas as pd\n",
    "import random\n",
    "from statistics import mean\n",
    "from transformers import T5Tokenizer\n",
    "from src.tfr_decoding.shp_modeling import T5BinaryClassifier"
   ]
  },
  {
   "cell_type": "code",
   "execution_count": 2,
   "id": "905710fc-b7b7-487f-9a12-d8aa84718e0a",
   "metadata": {
    "tags": []
   },
   "outputs": [],
   "source": [
    "%load_ext autoreload\n",
    "%autoreload 2"
   ]
  },
  {
   "cell_type": "code",
   "execution_count": 3,
   "id": "8e437cc6-7b3a-4ee6-bebb-4cf5a08f7a72",
   "metadata": {
    "tags": []
   },
   "outputs": [],
   "source": [
    "tokenizer = T5Tokenizer.from_pretrained(\"google/flan-t5-xxl\")"
   ]
  },
  {
   "cell_type": "code",
   "execution_count": 38,
   "id": "483ca16f-475f-425f-84d1-897c4c0c33de",
   "metadata": {
    "tags": []
   },
   "outputs": [
    {
     "name": "stderr",
     "output_type": "stream",
     "text": [
      "/home/prasann/miniconda3/envs/rewardenv/lib/python3.8/site-packages/pytorch_lightning/utilities/migration/utils.py:49: PossibleUserWarning: The loaded checkpoint was produced with Lightning v2.0.2, which is newer than your current Lightning version: v2.0.1.post0\n",
      "  rank_zero_warn(\n"
     ]
    }
   ],
   "source": [
    "pfmod_path = \"./lightning_logs/multimodel/checkpoints/epoch=3-step=86946.ckpt\"\n",
    "pfname = 'stanfordnlp/SteamSHP-flan-t5-large'\n",
    "# get prefix model\n",
    "qpref = T5BinaryClassifier.load_from_checkpoint(pfmod_path).to(\"cuda:1\")\n",
    "preftok = T5Tokenizer.from_pretrained(pfname)"
   ]
  },
  {
   "cell_type": "code",
   "execution_count": 4,
   "id": "cd5daa74-4d8a-4027-bfc1-a1df90cb6bde",
   "metadata": {
    "tags": []
   },
   "outputs": [],
   "source": [
    "# load in data\n",
    "d1 = pd.read_json(\"output/testset1.jsonl\", orient=\"records\", lines=True).drop(columns=[\"stats\", 'ver', 'pref'])\n",
    "d2 = pd.read_json(\"output/testset2.jsonl\", orient=\"records\", lines=True).drop(columns=[\"stats\", 'ver', 'pref'])\n",
    "fulld = pd.DataFrame({'inp':d1.inp, 'hyps':[d1['hyps'][i]+d2['hyps'][i] for i in range(len(d1))], 'scos':[d1['scos'][i]+d2['scos'][i] for i in range(len(d1))]})"
   ]
  },
  {
   "cell_type": "code",
   "execution_count": 29,
   "id": "bfed592e-9613-44b8-bfcf-13fdc1163759",
   "metadata": {
    "tags": []
   },
   "outputs": [],
   "source": [
    "def make_toklen_lists(indf, tok):\n",
    "    res = []\n",
    "    for h in indf.hyps:\n",
    "        lens = [len(tok(hyp).input_ids) for hyp in h]\n",
    "        res.append(lens)\n",
    "    return res\n",
    "\n",
    "def make_prefs(indf, tok, pflen):\n",
    "    res = []\n",
    "    for h in indf.hyps:\n",
    "        prefs = [tok.decode(tok(hyp).input_ids[:pflen], skip_special_tokens=True) for hyp in h]\n",
    "        res.append(prefs)\n",
    "    return res\n",
    "\n",
    "def adaptbase(inpdf, thresh, mrange):\n",
    "    inds = list(range(8))\n",
    "    fscos = []\n",
    "    budgets = []\n",
    "    for ind in range(len(inpdf)):\n",
    "        slist = inpdf.scos[ind]\n",
    "        blist = inpdf.toklens[ind]\n",
    "        random.shuffle(inds)\n",
    "        tmp = []\n",
    "        budget = 0\n",
    "        # get adaptive score\n",
    "        for i in inds[:mrange]:\n",
    "            budget = budget+blist[i]\n",
    "            if slist[i]>thresh:\n",
    "                fscos.append(slist[i])\n",
    "                break\n",
    "            tmp.append(slist[i])\n",
    "            if i==inds[mrange-1]:\n",
    "                fscos.append(max(tmp))\n",
    "        budgets.append(budget)\n",
    "    return mean(fscos), mean(budgets)"
   ]
  },
  {
   "cell_type": "code",
   "execution_count": 6,
   "id": "a37033a2-2f03-4257-8a85-35ecddb3309a",
   "metadata": {
    "tags": []
   },
   "outputs": [],
   "source": [
    "fulld['toklens'] = make_toklen_lists(fulld, tokenizer)"
   ]
  },
  {
   "cell_type": "code",
   "execution_count": 32,
   "id": "0afe416e-7400-47f7-94fb-71137ee8bab4",
   "metadata": {
    "tags": []
   },
   "outputs": [],
   "source": [
    "fulld['pf5'] = make_prefs(fulld, tokenizer, 5)\n",
    "fulld['pf10'] = make_prefs(fulld, tokenizer, 10)\n",
    "fulld['pf15'] = make_prefs(fulld, tokenizer, 15)\n",
    "fulld['pf20'] = make_prefs(fulld, tokenizer, 20)"
   ]
  },
  {
   "cell_type": "code",
   "execution_count": 34,
   "id": "9430a9a0-bbab-4dd8-98af-7f4303d8226d",
   "metadata": {
    "tags": []
   },
   "outputs": [],
   "source": [
    "fulld.to_json(\"output/adapt_explore.jsonl\", orient='records', lines=True)"
   ]
  },
  {
   "cell_type": "code",
   "execution_count": 41,
   "id": "ca7c4dc2-8c89-4ea1-a65c-9e3c5db4fa5d",
   "metadata": {
    "tags": []
   },
   "outputs": [
    {
     "data": {
      "text/plain": [
       "GreedySearchEncoderDecoderOutput(sequences=tensor([[0, 1]], device='cuda:1'), scores=(tensor([[14.7909, 20.2716, -0.4009,  ...,  0.8677,  0.9384,  0.9633]],\n",
       "       device='cuda:1'),), encoder_attentions=None, encoder_hidden_states=None, decoder_attentions=None, cross_attentions=None, decoder_hidden_states=None)"
      ]
     },
     "execution_count": 41,
     "metadata": {},
     "output_type": "execute_result"
    }
   ],
   "source": [
    "qpref.predsingle(fulld['inp'][0], fulld['pf10'][0][0], True)"
   ]
  },
  {
   "cell_type": "code",
   "execution_count": 24,
   "id": "0f430613-8790-4c0b-bc97-9408f492ea86",
   "metadata": {
    "tags": []
   },
   "outputs": [
    {
     "name": "stdout",
     "output_type": "stream",
     "text": [
      "0.8215939434854235   106.08260413080895\n",
      "0.8415627102416797   126.43164888123924\n",
      "0.8510720460971218   139.83847676419967\n",
      "0.8564655803450021   149.46631841652322\n",
      "0.8599671189500544   156.67206884681585\n",
      "0.8622596561108932   162.50760413080894\n",
      "0.8640506297692907   167.20613425129088\n"
     ]
    }
   ],
   "source": [
    "# run adaptive baseline\n",
    "for j in range(2, 9):\n",
    "    scos, buds = [], []\n",
    "    for i in range(1000):\n",
    "        s, b = adaptbase(fulld, .8, j)\n",
    "        scos.append(s)\n",
    "        buds.append(b)\n",
    "    print(mean(scos), \" \", mean(buds))"
   ]
  },
  {
   "cell_type": "code",
   "execution_count": 65,
   "id": "85cf2fb0-506b-4446-8368-fa573ea64cd0",
   "metadata": {
    "tags": []
   },
   "outputs": [
    {
     "data": {
      "text/plain": [
       "0.9002139297487092"
      ]
     },
     "execution_count": 65,
     "metadata": {},
     "output_type": "execute_result"
    }
   ],
   "source": [
    "mean([max(m) for m in fulld.scos])"
   ]
  },
  {
   "cell_type": "code",
   "execution_count": null,
   "id": "c7d00e54-3319-4c36-9a8b-f68053bcea95",
   "metadata": {},
   "outputs": [],
   "source": [
    "0.8155690845482949   97.05854561101549\n",
    "0.8310641830621897   109.04165748709123\n",
    "0.8378271147807699   116.05017039586919\n",
    "0.8412764822139855   120.31467814113597\n",
    "0.8434293656394016   123.2454526678141\n",
    "0.8447807333112877   125.28040275387264\n",
    "0.8457303369521343   126.81544578313253"
   ]
  }
 ],
 "metadata": {
  "kernelspec": {
   "display_name": "Python 3 (ipykernel)",
   "language": "python",
   "name": "python3"
  },
  "language_info": {
   "codemirror_mode": {
    "name": "ipython",
    "version": 3
   },
   "file_extension": ".py",
   "mimetype": "text/x-python",
   "name": "python",
   "nbconvert_exporter": "python",
   "pygments_lexer": "ipython3",
   "version": "3.8.16"
  }
 },
 "nbformat": 4,
 "nbformat_minor": 5
}
