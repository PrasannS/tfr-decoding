{
 "cells": [
  {
   "cell_type": "code",
   "execution_count": 1,
   "id": "4b73474c-5a4c-475a-9d55-78be5417af46",
   "metadata": {
    "tags": []
   },
   "outputs": [],
   "source": [
    "from transformers import T5Tokenizer, T5ForConditionalGeneration\n",
    "from datasets import load_dataset\n",
    "import torch"
   ]
  },
  {
   "cell_type": "code",
   "execution_count": 2,
   "id": "c4832754-4d4c-4247-b1ba-203398925e20",
   "metadata": {
    "tags": []
   },
   "outputs": [],
   "source": [
    "%load_ext autoreload\n",
    "%autoreload 2"
   ]
  },
  {
   "cell_type": "code",
   "execution_count": 3,
   "id": "abf3b81b-9944-442d-9c2c-d9e4951c1765",
   "metadata": {
    "tags": []
   },
   "outputs": [],
   "source": [
    "tokenizer = T5Tokenizer.from_pretrained(\"google/flan-t5-xxl\")"
   ]
  },
  {
   "cell_type": "code",
   "execution_count": 7,
   "id": "fdf2bcb8-48a2-4351-a9ed-12eb8af2fda0",
   "metadata": {
    "tags": []
   },
   "outputs": [
    {
     "name": "stderr",
     "output_type": "stream",
     "text": [
      "Found cached dataset json (/home/prasann/.cache/huggingface/datasets/stanfordnlp___json/stanfordnlp--shp-dc70a528e445ea5d/0.0.0/fe5dd6ea2639a6df622901539cb550cf8797e5a6b2dd7af1cf934bed8e233e6e)\n"
     ]
    },
    {
     "data": {
      "application/vnd.jupyter.widget-view+json": {
       "model_id": "a2910dde9c144d398be607f7d64cc81b",
       "version_major": 2,
       "version_minor": 0
      },
      "text/plain": [
       "  0%|          | 0/3 [00:00<?, ?it/s]"
      ]
     },
     "metadata": {},
     "output_type": "display_data"
    }
   ],
   "source": [
    "eli5 = load_dataset(\"stanfordnlp/shp\", data_dir=\"explainlikeimfive\")"
   ]
  },
  {
   "cell_type": "code",
   "execution_count": null,
   "id": "52c873c7-b503-4a73-98c0-15d27439a95a",
   "metadata": {
    "tags": []
   },
   "outputs": [],
   "source": [
    "fulleli5 = load_dataset(\"eli5\")"
   ]
  },
  {
   "cell_type": "code",
   "execution_count": 19,
   "id": "f52602bf-cbf4-4b35-ad10-a67939e91802",
   "metadata": {
    "tags": []
   },
   "outputs": [],
   "source": [
    "train = fulleli5['train_eli5']"
   ]
  },
  {
   "cell_type": "code",
   "execution_count": 20,
   "id": "3e7b99f4-47e3-432f-8593-1f9a442477dd",
   "metadata": {
    "tags": []
   },
   "outputs": [],
   "source": [
    "questions = []\n",
    "for i in range(len(train)):\n",
    "    f = train[i]\n",
    "    if f['selftext'] and len(f['selftext'])>10:\n",
    "        questions.append(f['title']+f['selftext'])"
   ]
  },
  {
   "cell_type": "code",
   "execution_count": 25,
   "id": "b6041c05-5b40-4c2a-9343-bde846c373a6",
   "metadata": {
    "tags": []
   },
   "outputs": [],
   "source": [
    "edf = pd.DataFrame({'history':questions})"
   ]
  },
  {
   "cell_type": "code",
   "execution_count": 4,
   "id": "8a2fc5a7-bdec-4b19-b075-2161b4126b8e",
   "metadata": {
    "tags": []
   },
   "outputs": [],
   "source": [
    "from src.utils.wordstats import *"
   ]
  },
  {
   "cell_type": "code",
   "execution_count": null,
   "id": "10f3a33b-6dc4-4e45-b941-3a6ae8f881e2",
   "metadata": {
    "tags": []
   },
   "outputs": [],
   "source": [
    "model = T5ForConditionalGeneration.from_pretrained(\"google/flan-t5-xxl\", device_map=\"auto\")"
   ]
  },
  {
   "cell_type": "code",
   "execution_count": 3,
   "id": "a501cee7-fad7-45aa-8765-7b403eeeea12",
   "metadata": {
    "tags": []
   },
   "outputs": [],
   "source": [
    "import pandas as pd\n",
    "import matplotlib.pyplot as plt\n",
    "from statistics import stdev\n",
    "import numpy as np\n",
    "from scipy.stats import spearmanr\n",
    "from src.utils.analysis_utils import extract_scatter, get_traintest, hastok, aggregate_clusters"
   ]
  },
  {
   "cell_type": "code",
   "execution_count": 4,
   "id": "517ed6ef-18a8-4d8c-b4a3-b63e3bba3094",
   "metadata": {
    "tags": []
   },
   "outputs": [],
   "source": [
    "import pandas as pd"
   ]
  },
  {
   "cell_type": "code",
   "execution_count": 5,
   "id": "c29ecdb2-5d07-47c6-af7a-28027c5292f1",
   "metadata": {
    "tags": []
   },
   "outputs": [],
   "source": [
    "EBASE = \"output/\"\n",
    "e = pd.read_json(EBASE+\"bigdset.jsonl\", orient=\"records\", lines=True)"
   ]
  },
  {
   "cell_type": "code",
   "execution_count": null,
   "id": "ab9fc2c3-5f74-4c78-8680-c93f9a97cbca",
   "metadata": {
    "tags": []
   },
   "outputs": [],
   "source": [
    "e"
   ]
  },
  {
   "cell_type": "code",
   "execution_count": 5,
   "id": "9bd7a948-a015-47e6-96a3-22a6811bae83",
   "metadata": {
    "tags": []
   },
   "outputs": [],
   "source": [
    "def mean(l):\n",
    "    if len(l)==0:\n",
    "        #print(\"0 len?\")\n",
    "        return 0\n",
    "    return sum(l)/len(l)"
   ]
  },
  {
   "cell_type": "code",
   "execution_count": 7,
   "id": "dd1ab436-4c34-49bd-b105-87a5558da839",
   "metadata": {
    "tags": []
   },
   "outputs": [],
   "source": [
    "EBASE = \"output/\"\n",
    "e = pd.read_json(EBASE+\"testbigdset.jsonl\", orient=\"records\", lines=True)"
   ]
  },
  {
   "cell_type": "code",
   "execution_count": 8,
   "id": "8344ee1c-699c-4bbd-837a-e0d583e1201f",
   "metadata": {
    "tags": []
   },
   "outputs": [
    {
     "data": {
      "text/plain": [
       "(array([ 3.,  6., 13., 17., 34., 32., 44., 30., 14.,  5.]),\n",
       " array([0.34846225, 0.40811596, 0.46776967, 0.52742338, 0.58707709,\n",
       "        0.6467308 , 0.70638451, 0.76603822, 0.82569193, 0.88534564,\n",
       "        0.94499935]),\n",
       " <BarContainer object of 10 artists>)"
      ]
     },
     "execution_count": 8,
     "metadata": {},
     "output_type": "execute_result"
    },
    {
     "data": {
      "image/png": "[encoded data removed]",
      "text/plain": [
       "<Figure size 640x480 with 1 Axes>"
      ]
     },
     "metadata": {},
     "output_type": "display_data"
    }
   ],
   "source": [
    "firsts = e[e['ver']==\"first\"].reset_index()\n",
    "def random_base(fdf):\n",
    "    values = []\n",
    "    for i in range(len(fdf)):\n",
    "        values.append(mean(fdf.iloc[i]['scos']))\n",
    "    return values\n",
    "\n",
    "plt.hist(random_base(firsts))"
   ]
  },
  {
   "cell_type": "code",
   "execution_count": 46,
   "id": "3b11dbe9-a8ce-44b3-b7ce-b7bc1ca0d9e4",
   "metadata": {
    "tags": []
   },
   "outputs": [],
   "source": [
    "def mean_nidf(idict, text):\n",
    "    words = re.findall(r'\\w+', text.lower())\n",
    "    fwords = []\n",
    "    for w in words:\n",
    "        if w in idict.keys():\n",
    "            fwords.append(w)\n",
    "    return mean([idict[w] for w in fwords])"
   ]
  },
  {
   "cell_type": "code",
   "execution_count": 26,
   "id": "eb3fe890-7cec-4e47-8141-7ff4d176ea0c",
   "metadata": {
    "tags": []
   },
   "outputs": [],
   "source": [
    "resdf['meanimps'] = resdf['means']-resdf['initsco']"
   ]
  },
  {
   "cell_type": "code",
   "execution_count": 15,
   "id": "f0389c42-88eb-4810-97fe-390cae9b1771",
   "metadata": {
    "tags": []
   },
   "outputs": [],
   "source": [
    "from src.utils.analysis_utils import get_phrase_prefix_strings, get_content_prefix_strings"
   ]
  },
  {
   "cell_type": "code",
   "execution_count": null,
   "id": "835af5da-8c41-4b5f-9240-1f32f48a77b7",
   "metadata": {
    "tags": []
   },
   "outputs": [],
   "source": [
    "resdf  = extract_scatter(e, \"rand\")\n",
    "#resdf['selstrs']= resdf.apply(lambda row: [tokenizer.decode(t) for t in tokenizer(row['selstrs'][0]).input_ids], axis=1)"
   ]
  },
  {
   "cell_type": "code",
   "execution_count": 62,
   "id": "66c384b7-5fdf-4a02-b9bd-3115a6af6303",
   "metadata": {
    "tags": []
   },
   "outputs": [
    {
     "data": {
      "text/plain": [
       "['We',\n",
       " 'tend',\n",
       " 'to',\n",
       " 'play',\n",
       " '',\n",
       " 'a',\n",
       " 'song',\n",
       " 'that',\n",
       " 'we',\n",
       " 'like',\n",
       " 'over',\n",
       " 'and',\n",
       " 'over',\n",
       " 'again',\n",
       " 'to',\n",
       " 'learn',\n",
       " 'it',\n",
       " ',',\n",
       " 'and',\n",
       " 'when',\n",
       " 'we',\n",
       " 'find',\n",
       " 'it',\n",
       " 'boring',\n",
       " 'we',\n",
       " 'stop',\n",
       " 'listening',\n",
       " 'to',\n",
       " 'it',\n",
       " '.',\n",
       " '</s>']"
      ]
     },
     "execution_count": 62,
     "metadata": {},
     "output_type": "execute_result"
    }
   ],
   "source": [
    "resdf['inpstrs'].loc[100]\n"
   ]
  },
  {
   "cell_type": "code",
   "execution_count": 41,
   "id": "da65278a-6b44-4757-899b-3cb921e73602",
   "metadata": {
    "tags": []
   },
   "outputs": [],
   "source": [
    "aclusts = aggregate_clusters(resdf, \"improves\", .1)"
   ]
  },
  {
   "cell_type": "code",
   "execution_count": 35,
   "id": "6e95b18c-466e-4002-ad06-36dd027a84f1",
   "metadata": {
    "tags": []
   },
   "outputs": [
    {
     "data": {
      "text/html": [
       "<div>\n",
       "<style scoped>\n",
       "    .dataframe tbody tr th:only-of-type {\n",
       "        vertical-align: middle;\n",
       "    }\n",
       "\n",
       "    .dataframe tbody tr th {\n",
       "        vertical-align: top;\n",
       "    }\n",
       "\n",
       "    .dataframe thead th {\n",
       "        text-align: right;\n",
       "    }\n",
       "</style>\n",
       "<table border=\"1\" class=\"dataframe\">\n",
       "  <thead>\n",
       "    <tr style=\"text-align: right;\">\n",
       "      <th></th>\n",
       "      <th>scomean</th>\n",
       "      <th>startind</th>\n",
       "      <th>endind</th>\n",
       "      <th>groupid</th>\n",
       "      <th>initsco</th>\n",
       "      <th>inpstrs</th>\n",
       "      <th>phraseprefs</th>\n",
       "      <th>contprefs</th>\n",
       "    </tr>\n",
       "  </thead>\n",
       "  <tbody>\n",
       "    <tr>\n",
       "      <th>0</th>\n",
       "      <td>0.320706</td>\n",
       "      <td>2.0</td>\n",
       "      <td>2.0</td>\n",
       "      <td>(Explain like I'm five years old) Why does wat...</td>\n",
       "      <td>0.570727</td>\n",
       "      <td>[When, water, is, frozen, into, , ice, ,, the,...</td>\n",
       "      <td>[11]</td>\n",
       "      <td>[]</td>\n",
       "    </tr>\n",
       "    <tr>\n",
       "      <th>1</th>\n",
       "      <td>0.034333</td>\n",
       "      <td>5.0</td>\n",
       "      <td>5.0</td>\n",
       "      <td>(Explain like I'm five years old) Why does wat...</td>\n",
       "      <td>0.570727</td>\n",
       "      <td>[When, water, is, frozen, into, , ice, ,, the,...</td>\n",
       "      <td>[11]</td>\n",
       "      <td>[]</td>\n",
       "    </tr>\n",
       "    <tr>\n",
       "      <th>2</th>\n",
       "      <td>0.257268</td>\n",
       "      <td>8.0</td>\n",
       "      <td>14.0</td>\n",
       "      <td>(Explain like I'm five years old) Why does wat...</td>\n",
       "      <td>0.570727</td>\n",
       "      <td>[When, water, is, frozen, into, , ice, ,, the,...</td>\n",
       "      <td>[11]</td>\n",
       "      <td>[]</td>\n",
       "    </tr>\n",
       "    <tr>\n",
       "      <th>3</th>\n",
       "      <td>0.109184</td>\n",
       "      <td>17.0</td>\n",
       "      <td>17.0</td>\n",
       "      <td>(Explain like I'm five years old) Why does wat...</td>\n",
       "      <td>0.570727</td>\n",
       "      <td>[When, water, is, frozen, into, , ice, ,, the,...</td>\n",
       "      <td>[11]</td>\n",
       "      <td>[]</td>\n",
       "    </tr>\n",
       "    <tr>\n",
       "      <th>4</th>\n",
       "      <td>0.172216</td>\n",
       "      <td>20.0</td>\n",
       "      <td>20.0</td>\n",
       "      <td>(Explain like I'm five years old) Why does wat...</td>\n",
       "      <td>0.570727</td>\n",
       "      <td>[When, water, is, frozen, into, , ice, ,, the,...</td>\n",
       "      <td>[11]</td>\n",
       "      <td>[]</td>\n",
       "    </tr>\n",
       "    <tr>\n",
       "      <th>...</th>\n",
       "      <td>...</td>\n",
       "      <td>...</td>\n",
       "      <td>...</td>\n",
       "      <td>...</td>\n",
       "      <td>...</td>\n",
       "      <td>...</td>\n",
       "      <td>...</td>\n",
       "      <td>...</td>\n",
       "    </tr>\n",
       "    <tr>\n",
       "      <th>1608</th>\n",
       "      <td>0.008262</td>\n",
       "      <td>101.0</td>\n",
       "      <td>116.0</td>\n",
       "      <td>eli5: Why were laugh tracks so widely used on ...</td>\n",
       "      <td>0.892014</td>\n",
       "      <td>[I, ', m, , re, watch, ing, some, older, sit, ...</td>\n",
       "      <td>[6, 15, 16, 23, 46, 52, 60, 63, 76, 90, 116, 1...</td>\n",
       "      <td>[]</td>\n",
       "    </tr>\n",
       "    <tr>\n",
       "      <th>1609</th>\n",
       "      <td>0.019245</td>\n",
       "      <td>119.0</td>\n",
       "      <td>134.0</td>\n",
       "      <td>eli5: Why were laugh tracks so widely used on ...</td>\n",
       "      <td>0.892014</td>\n",
       "      <td>[I, ', m, , re, watch, ing, some, older, sit, ...</td>\n",
       "      <td>[6, 15, 16, 23, 46, 52, 60, 63, 76, 90, 116, 1...</td>\n",
       "      <td>[]</td>\n",
       "    </tr>\n",
       "    <tr>\n",
       "      <th>1610</th>\n",
       "      <td>0.022926</td>\n",
       "      <td>137.0</td>\n",
       "      <td>152.0</td>\n",
       "      <td>eli5: Why were laugh tracks so widely used on ...</td>\n",
       "      <td>0.892014</td>\n",
       "      <td>[I, ', m, , re, watch, ing, some, older, sit, ...</td>\n",
       "      <td>[6, 15, 16, 23, 46, 52, 60, 63, 76, 90, 116, 1...</td>\n",
       "      <td>[]</td>\n",
       "    </tr>\n",
       "    <tr>\n",
       "      <th>1611</th>\n",
       "      <td>0.001756</td>\n",
       "      <td>155.0</td>\n",
       "      <td>170.0</td>\n",
       "      <td>eli5: Why were laugh tracks so widely used on ...</td>\n",
       "      <td>0.892014</td>\n",
       "      <td>[I, ', m, , re, watch, ing, some, older, sit, ...</td>\n",
       "      <td>[6, 15, 16, 23, 46, 52, 60, 63, 76, 90, 116, 1...</td>\n",
       "      <td>[]</td>\n",
       "    </tr>\n",
       "    <tr>\n",
       "      <th>1612</th>\n",
       "      <td>0.001297</td>\n",
       "      <td>173.0</td>\n",
       "      <td>185.0</td>\n",
       "      <td>eli5: Why were laugh tracks so widely used on ...</td>\n",
       "      <td>0.892014</td>\n",
       "      <td>[I, ', m, , re, watch, ing, some, older, sit, ...</td>\n",
       "      <td>[6, 15, 16, 23, 46, 52, 60, 63, 76, 90, 116, 1...</td>\n",
       "      <td>[]</td>\n",
       "    </tr>\n",
       "  </tbody>\n",
       "</table>\n",
       "<p>1613 rows × 8 columns</p>\n",
       "</div>"
      ],
      "text/plain": [
       "       scomean  startind  endind  \\\n",
       "0     0.320706       2.0     2.0   \n",
       "1     0.034333       5.0     5.0   \n",
       "2     0.257268       8.0    14.0   \n",
       "3     0.109184      17.0    17.0   \n",
       "4     0.172216      20.0    20.0   \n",
       "...        ...       ...     ...   \n",
       "1608  0.008262     101.0   116.0   \n",
       "1609  0.019245     119.0   134.0   \n",
       "1610  0.022926     137.0   152.0   \n",
       "1611  0.001756     155.0   170.0   \n",
       "1612  0.001297     173.0   185.0   \n",
       "\n",
       "                                                groupid   initsco  \\\n",
       "0     (Explain like I'm five years old) Why does wat...  0.570727   \n",
       "1     (Explain like I'm five years old) Why does wat...  0.570727   \n",
       "2     (Explain like I'm five years old) Why does wat...  0.570727   \n",
       "3     (Explain like I'm five years old) Why does wat...  0.570727   \n",
       "4     (Explain like I'm five years old) Why does wat...  0.570727   \n",
       "...                                                 ...       ...   \n",
       "1608  eli5: Why were laugh tracks so widely used on ...  0.892014   \n",
       "1609  eli5: Why were laugh tracks so widely used on ...  0.892014   \n",
       "1610  eli5: Why were laugh tracks so widely used on ...  0.892014   \n",
       "1611  eli5: Why were laugh tracks so widely used on ...  0.892014   \n",
       "1612  eli5: Why were laugh tracks so widely used on ...  0.892014   \n",
       "\n",
       "                                                inpstrs  \\\n",
       "0     [When, water, is, frozen, into, , ice, ,, the,...   \n",
       "1     [When, water, is, frozen, into, , ice, ,, the,...   \n",
       "2     [When, water, is, frozen, into, , ice, ,, the,...   \n",
       "3     [When, water, is, frozen, into, , ice, ,, the,...   \n",
       "4     [When, water, is, frozen, into, , ice, ,, the,...   \n",
       "...                                                 ...   \n",
       "1608  [I, ', m, , re, watch, ing, some, older, sit, ...   \n",
       "1609  [I, ', m, , re, watch, ing, some, older, sit, ...   \n",
       "1610  [I, ', m, , re, watch, ing, some, older, sit, ...   \n",
       "1611  [I, ', m, , re, watch, ing, some, older, sit, ...   \n",
       "1612  [I, ', m, , re, watch, ing, some, older, sit, ...   \n",
       "\n",
       "                                            phraseprefs contprefs  \n",
       "0                                                  [11]        []  \n",
       "1                                                  [11]        []  \n",
       "2                                                  [11]        []  \n",
       "3                                                  [11]        []  \n",
       "4                                                  [11]        []  \n",
       "...                                                 ...       ...  \n",
       "1608  [6, 15, 16, 23, 46, 52, 60, 63, 76, 90, 116, 1...        []  \n",
       "1609  [6, 15, 16, 23, 46, 52, 60, 63, 76, 90, 116, 1...        []  \n",
       "1610  [6, 15, 16, 23, 46, 52, 60, 63, 76, 90, 116, 1...        []  \n",
       "1611  [6, 15, 16, 23, 46, 52, 60, 63, 76, 90, 116, 1...        []  \n",
       "1612  [6, 15, 16, 23, 46, 52, 60, 63, 76, 90, 116, 1...        []  \n",
       "\n",
       "[1613 rows x 8 columns]"
      ]
     },
     "execution_count": 35,
     "metadata": {},
     "output_type": "execute_result"
    }
   ],
   "source": [
    "aclusts"
   ]
  },
  {
   "cell_type": "code",
   "execution_count": 42,
   "id": "143a0de8-3365-44f3-9366-fc2a441d7472",
   "metadata": {
    "tags": []
   },
   "outputs": [],
   "source": [
    "def inbound(inparr, s, e):\n",
    "    for i in inparr:\n",
    "        if i>s-2 and i<e:\n",
    "            return 1\n",
    "    return 0"
   ]
  },
  {
   "cell_type": "code",
   "execution_count": 43,
   "id": "9cf15da8-9f6b-4014-a6a9-d5aebace85a7",
   "metadata": {
    "tags": []
   },
   "outputs": [],
   "source": [
    "aclusts['hascomma'] = aclusts.apply(lambda row: hastok(row['inpstrs'], int(row['startind']), int(row['endind']), \",\"), axis=1)"
   ]
  },
  {
   "cell_type": "code",
   "execution_count": 44,
   "id": "83c8df0e-4e76-43e9-8fcd-b3d1219f569a",
   "metadata": {
    "tags": []
   },
   "outputs": [],
   "source": [
    "aclusts['pbound'] = aclusts.apply(lambda row: inbound(row['phraseprefs'], int(row['startind']), int(row['endind'])), axis=1)\n",
    "aclusts['cbound'] = aclusts.apply(lambda row: inbound(row['contprefs'], int(row['startind']), int(row['endind'])), axis=1)"
   ]
  },
  {
   "cell_type": "code",
   "execution_count": 45,
   "id": "14e16db4-af3e-4491-88ea-e0df296d4002",
   "metadata": {
    "tags": []
   },
   "outputs": [
    {
     "name": "stdout",
     "output_type": "stream",
     "text": [
      ">.1 improvement\n",
      "141 / 386\n",
      "0.36528497409326427\n",
      "less improvement\n",
      "395 / 755\n",
      "0.5231788079470199\n"
     ]
    }
   ],
   "source": [
    "metric = \"pbound\"\n",
    "checkhyp = aclusts[aclusts['scomean']>0.1]\n",
    "print(\">.1 improvement\")\n",
    "print(sum(checkhyp[metric]), \"/\", len(checkhyp))\n",
    "print(sum(checkhyp[metric])/len(checkhyp))\n",
    "others = aclusts[aclusts['scomean']<=0.1]\n",
    "print(\"less improvement\")\n",
    "print(sum(others[metric]), \"/\", len(others))\n",
    "print(sum(others[metric])/len(others))"
   ]
  },
  {
   "cell_type": "code",
   "execution_count": 42,
   "id": "b53cd6f4-33a2-4038-8cfb-c1c32c86aed7",
   "metadata": {
    "tags": []
   },
   "outputs": [
    {
     "data": {
      "text/plain": [
       "(array([ 12.,  54., 104., 237., 378., 171.,  70.,  19.,   6.,   3.]),\n",
       " array([-0.38205799, -0.29393489, -0.20581178, -0.11768868, -0.02956558,\n",
       "         0.05855752,  0.14668062,  0.23480372,  0.32292683,  0.41104993,\n",
       "         0.49917303]),\n",
       " <BarContainer object of 10 artists>)"
      ]
     },
     "execution_count": 42,
     "metadata": {},
     "output_type": "execute_result"
    },
    {
     "data": {
      "image/png": "[encoded data removed]",
      "text/plain": [
       "<Figure size 640x480 with 1 Axes>"
      ]
     },
     "metadata": {},
     "output_type": "display_data"
    }
   ],
   "source": [
    "plt.hist(aclusts['scomean'])"
   ]
  },
  {
   "cell_type": "code",
   "execution_count": 122,
   "id": "24b227ba-33eb-4ad5-b96d-415d5ada9266",
   "metadata": {
    "tags": []
   },
   "outputs": [
    {
     "data": {
      "text/plain": [
       "740"
      ]
     },
     "execution_count": 122,
     "metadata": {},
     "output_type": "execute_result"
    }
   ],
   "source": [
    "sum(resdf['hascomma'])"
   ]
  },
  {
   "cell_type": "code",
   "execution_count": 179,
   "id": "b7366689-4eaf-4e43-9366-428a355a2b9d",
   "metadata": {
    "tags": []
   },
   "outputs": [
    {
     "data": {
      "text/html": [
       "<div>\n",
       "<style scoped>\n",
       "    .dataframe tbody tr th:only-of-type {\n",
       "        vertical-align: middle;\n",
       "    }\n",
       "\n",
       "    .dataframe tbody tr th {\n",
       "        vertical-align: top;\n",
       "    }\n",
       "\n",
       "    .dataframe thead th {\n",
       "        text-align: right;\n",
       "    }\n",
       "</style>\n",
       "<table border=\"1\" class=\"dataframe\">\n",
       "  <thead>\n",
       "    <tr style=\"text-align: right;\">\n",
       "      <th></th>\n",
       "      <th>mean</th>\n",
       "      <th>stdev</th>\n",
       "      <th>entropy</th>\n",
       "      <th>skewness</th>\n",
       "      <th>kurtoses</th>\n",
       "      <th>top1s</th>\n",
       "      <th>selected</th>\n",
       "      <th>inpstrs</th>\n",
       "      <th>improves</th>\n",
       "      <th>initsco</th>\n",
       "      <th>prefpercent</th>\n",
       "      <th>prefix</th>\n",
       "      <th>selstrs</th>\n",
       "      <th>prompt</th>\n",
       "      <th>stdevs</th>\n",
       "      <th>means</th>\n",
       "      <th>hascomma</th>\n",
       "    </tr>\n",
       "  </thead>\n",
       "  <tbody>\n",
       "    <tr>\n",
       "      <th>0</th>\n",
       "      <td>0.000031</td>\n",
       "      <td>0.003684</td>\n",
       "      <td>1.342</td>\n",
       "      <td>165.60</td>\n",
       "      <td>28620.0</td>\n",
       "      <td>0.6414</td>\n",
       "      <td>0.64140</td>\n",
       "      <td>[Your, body, burn, s, calories, to, perform, b...</td>\n",
       "      <td>0.202028</td>\n",
       "      <td>0.558923</td>\n",
       "      <td>0.037736</td>\n",
       "      <td>2.0</td>\n",
       "      <td>[Your body burns calories by performing variou...</td>\n",
       "      <td>Explain like I'm five years old: How does your...</td>\n",
       "      <td>0.151311</td>\n",
       "      <td>0.579674</td>\n",
       "      <td>0</td>\n",
       "    </tr>\n",
       "    <tr>\n",
       "      <th>1</th>\n",
       "      <td>0.000031</td>\n",
       "      <td>0.001827</td>\n",
       "      <td>2.618</td>\n",
       "      <td>86.83</td>\n",
       "      <td>8553.0</td>\n",
       "      <td>0.2083</td>\n",
       "      <td>0.20830</td>\n",
       "      <td>[Your, body, burn, s, calories, to, perform, b...</td>\n",
       "      <td>0.124418</td>\n",
       "      <td>0.558923</td>\n",
       "      <td>0.094340</td>\n",
       "      <td>5.0</td>\n",
       "      <td>[Your body burns calories to keep your organs ...</td>\n",
       "      <td>Explain like I'm five years old: How does your...</td>\n",
       "      <td>0.204442</td>\n",
       "      <td>0.514470</td>\n",
       "      <td>0</td>\n",
       "    </tr>\n",
       "    <tr>\n",
       "      <th>2</th>\n",
       "      <td>0.000031</td>\n",
       "      <td>0.004200</td>\n",
       "      <td>1.126</td>\n",
       "      <td>175.60</td>\n",
       "      <td>31240.0</td>\n",
       "      <td>0.7476</td>\n",
       "      <td>0.74760</td>\n",
       "      <td>[Your, body, burn, s, calories, to, perform, b...</td>\n",
       "      <td>0.111265</td>\n",
       "      <td>0.558923</td>\n",
       "      <td>0.150943</td>\n",
       "      <td>8.0</td>\n",
       "      <td>[Your body burns calories to perform basic fun...</td>\n",
       "      <td>Explain like I'm five years old: How does your...</td>\n",
       "      <td>0.064833</td>\n",
       "      <td>0.614145</td>\n",
       "      <td>0</td>\n",
       "    </tr>\n",
       "    <tr>\n",
       "      <th>3</th>\n",
       "      <td>0.000031</td>\n",
       "      <td>0.005579</td>\n",
       "      <td>0.000</td>\n",
       "      <td>179.20</td>\n",
       "      <td>32120.0</td>\n",
       "      <td>1.0000</td>\n",
       "      <td>1.00000</td>\n",
       "      <td>[Your, body, burn, s, calories, to, perform, b...</td>\n",
       "      <td>0.178249</td>\n",
       "      <td>0.558923</td>\n",
       "      <td>0.207547</td>\n",
       "      <td>11.0</td>\n",
       "      <td>[Your body burns calories to perform basic fun...</td>\n",
       "      <td>Explain like I'm five years old: How does your...</td>\n",
       "      <td>0.096091</td>\n",
       "      <td>0.659289</td>\n",
       "      <td>0</td>\n",
       "    </tr>\n",
       "    <tr>\n",
       "      <th>4</th>\n",
       "      <td>0.000031</td>\n",
       "      <td>0.003102</td>\n",
       "      <td>1.617</td>\n",
       "      <td>133.10</td>\n",
       "      <td>18800.0</td>\n",
       "      <td>0.4724</td>\n",
       "      <td>0.47240</td>\n",
       "      <td>[Your, body, burn, s, calories, to, perform, b...</td>\n",
       "      <td>0.047225</td>\n",
       "      <td>0.558923</td>\n",
       "      <td>0.264151</td>\n",
       "      <td>14.0</td>\n",
       "      <td>[Your body burns calories to perform basic fun...</td>\n",
       "      <td>Explain like I'm five years old: How does your...</td>\n",
       "      <td>0.045609</td>\n",
       "      <td>0.570132</td>\n",
       "      <td>0</td>\n",
       "    </tr>\n",
       "    <tr>\n",
       "      <th>...</th>\n",
       "      <td>...</td>\n",
       "      <td>...</td>\n",
       "      <td>...</td>\n",
       "      <td>...</td>\n",
       "      <td>...</td>\n",
       "      <td>...</td>\n",
       "      <td>...</td>\n",
       "      <td>...</td>\n",
       "      <td>...</td>\n",
       "      <td>...</td>\n",
       "      <td>...</td>\n",
       "      <td>...</td>\n",
       "      <td>...</td>\n",
       "      <td>...</td>\n",
       "      <td>...</td>\n",
       "      <td>...</td>\n",
       "      <td>...</td>\n",
       "    </tr>\n",
       "    <tr>\n",
       "      <th>3887</th>\n",
       "      <td>0.000031</td>\n",
       "      <td>0.002731</td>\n",
       "      <td>1.944</td>\n",
       "      <td>132.80</td>\n",
       "      <td>19680.0</td>\n",
       "      <td>0.4295</td>\n",
       "      <td>0.16680</td>\n",
       "      <td>[Farmers, use, the, , horn, s, of, male, bull,...</td>\n",
       "      <td>0.110497</td>\n",
       "      <td>0.621369</td>\n",
       "      <td>0.619048</td>\n",
       "      <td>26.0</td>\n",
       "      <td>[Farmers use the horns of male bulls to mate f...</td>\n",
       "      <td>Explain like I'm five years old: how do farmer...</td>\n",
       "      <td>0.106780</td>\n",
       "      <td>0.621121</td>\n",
       "      <td>0</td>\n",
       "    </tr>\n",
       "    <tr>\n",
       "      <th>3888</th>\n",
       "      <td>0.000031</td>\n",
       "      <td>0.001782</td>\n",
       "      <td>2.542</td>\n",
       "      <td>72.88</td>\n",
       "      <td>5746.0</td>\n",
       "      <td>0.1649</td>\n",
       "      <td>0.16490</td>\n",
       "      <td>[Farmers, use, the, , horn, s, of, male, bull,...</td>\n",
       "      <td>0.055990</td>\n",
       "      <td>0.621369</td>\n",
       "      <td>0.690476</td>\n",
       "      <td>29.0</td>\n",
       "      <td>[Farmers use the horns of male bulls to mate f...</td>\n",
       "      <td>Explain like I'm five years old: how do farmer...</td>\n",
       "      <td>0.065218</td>\n",
       "      <td>0.619334</td>\n",
       "      <td>0</td>\n",
       "    </tr>\n",
       "    <tr>\n",
       "      <th>3889</th>\n",
       "      <td>0.000031</td>\n",
       "      <td>0.002103</td>\n",
       "      <td>2.399</td>\n",
       "      <td>106.00</td>\n",
       "      <td>13350.0</td>\n",
       "      <td>0.2973</td>\n",
       "      <td>0.11070</td>\n",
       "      <td>[Farmers, use, the, , horn, s, of, male, bull,...</td>\n",
       "      <td>0.086492</td>\n",
       "      <td>0.621369</td>\n",
       "      <td>0.761905</td>\n",
       "      <td>32.0</td>\n",
       "      <td>[Farmers use the horns of male bulls to mate f...</td>\n",
       "      <td>Explain like I'm five years old: how do farmer...</td>\n",
       "      <td>0.038283</td>\n",
       "      <td>0.657454</td>\n",
       "      <td>0</td>\n",
       "    </tr>\n",
       "    <tr>\n",
       "      <th>3890</th>\n",
       "      <td>0.000031</td>\n",
       "      <td>0.003326</td>\n",
       "      <td>1.427</td>\n",
       "      <td>147.20</td>\n",
       "      <td>23370.0</td>\n",
       "      <td>0.5477</td>\n",
       "      <td>0.54770</td>\n",
       "      <td>[Farmers, use, the, , horn, s, of, male, bull,...</td>\n",
       "      <td>0.059511</td>\n",
       "      <td>0.621369</td>\n",
       "      <td>0.833333</td>\n",
       "      <td>35.0</td>\n",
       "      <td>[Farmers use the horns of male bulls to mate f...</td>\n",
       "      <td>Explain like I'm five years old: how do farmer...</td>\n",
       "      <td>0.009105</td>\n",
       "      <td>0.669907</td>\n",
       "      <td>0</td>\n",
       "    </tr>\n",
       "    <tr>\n",
       "      <th>3891</th>\n",
       "      <td>0.000031</td>\n",
       "      <td>0.002307</td>\n",
       "      <td>2.230</td>\n",
       "      <td>105.50</td>\n",
       "      <td>12240.0</td>\n",
       "      <td>0.3070</td>\n",
       "      <td>0.03063</td>\n",
       "      <td>[Farmers, use, the, , horn, s, of, male, bull,...</td>\n",
       "      <td>0.052414</td>\n",
       "      <td>0.621369</td>\n",
       "      <td>0.904762</td>\n",
       "      <td>38.0</td>\n",
       "      <td>[Farmers use the horns of male bulls to mate f...</td>\n",
       "      <td>Explain like I'm five years old: how do farmer...</td>\n",
       "      <td>0.032370</td>\n",
       "      <td>0.637962</td>\n",
       "      <td>0</td>\n",
       "    </tr>\n",
       "  </tbody>\n",
       "</table>\n",
       "<p>3892 rows × 17 columns</p>\n",
       "</div>"
      ],
      "text/plain": [
       "          mean     stdev  entropy  skewness  kurtoses   top1s  selected  \\\n",
       "0     0.000031  0.003684    1.342    165.60   28620.0  0.6414   0.64140   \n",
       "1     0.000031  0.001827    2.618     86.83    8553.0  0.2083   0.20830   \n",
       "2     0.000031  0.004200    1.126    175.60   31240.0  0.7476   0.74760   \n",
       "3     0.000031  0.005579    0.000    179.20   32120.0  1.0000   1.00000   \n",
       "4     0.000031  0.003102    1.617    133.10   18800.0  0.4724   0.47240   \n",
       "...        ...       ...      ...       ...       ...     ...       ...   \n",
       "3887  0.000031  0.002731    1.944    132.80   19680.0  0.4295   0.16680   \n",
       "3888  0.000031  0.001782    2.542     72.88    5746.0  0.1649   0.16490   \n",
       "3889  0.000031  0.002103    2.399    106.00   13350.0  0.2973   0.11070   \n",
       "3890  0.000031  0.003326    1.427    147.20   23370.0  0.5477   0.54770   \n",
       "3891  0.000031  0.002307    2.230    105.50   12240.0  0.3070   0.03063   \n",
       "\n",
       "                                                inpstrs  improves   initsco  \\\n",
       "0     [Your, body, burn, s, calories, to, perform, b...  0.202028  0.558923   \n",
       "1     [Your, body, burn, s, calories, to, perform, b...  0.124418  0.558923   \n",
       "2     [Your, body, burn, s, calories, to, perform, b...  0.111265  0.558923   \n",
       "3     [Your, body, burn, s, calories, to, perform, b...  0.178249  0.558923   \n",
       "4     [Your, body, burn, s, calories, to, perform, b...  0.047225  0.558923   \n",
       "...                                                 ...       ...       ...   \n",
       "3887  [Farmers, use, the, , horn, s, of, male, bull,...  0.110497  0.621369   \n",
       "3888  [Farmers, use, the, , horn, s, of, male, bull,...  0.055990  0.621369   \n",
       "3889  [Farmers, use, the, , horn, s, of, male, bull,...  0.086492  0.621369   \n",
       "3890  [Farmers, use, the, , horn, s, of, male, bull,...  0.059511  0.621369   \n",
       "3891  [Farmers, use, the, , horn, s, of, male, bull,...  0.052414  0.621369   \n",
       "\n",
       "      prefpercent  prefix                                            selstrs  \\\n",
       "0        0.037736     2.0  [Your body burns calories by performing variou...   \n",
       "1        0.094340     5.0  [Your body burns calories to keep your organs ...   \n",
       "2        0.150943     8.0  [Your body burns calories to perform basic fun...   \n",
       "3        0.207547    11.0  [Your body burns calories to perform basic fun...   \n",
       "4        0.264151    14.0  [Your body burns calories to perform basic fun...   \n",
       "...           ...     ...                                                ...   \n",
       "3887     0.619048    26.0  [Farmers use the horns of male bulls to mate f...   \n",
       "3888     0.690476    29.0  [Farmers use the horns of male bulls to mate f...   \n",
       "3889     0.761905    32.0  [Farmers use the horns of male bulls to mate f...   \n",
       "3890     0.833333    35.0  [Farmers use the horns of male bulls to mate f...   \n",
       "3891     0.904762    38.0  [Farmers use the horns of male bulls to mate f...   \n",
       "\n",
       "                                                 prompt    stdevs     means  \\\n",
       "0     Explain like I'm five years old: How does your...  0.151311  0.579674   \n",
       "1     Explain like I'm five years old: How does your...  0.204442  0.514470   \n",
       "2     Explain like I'm five years old: How does your...  0.064833  0.614145   \n",
       "3     Explain like I'm five years old: How does your...  0.096091  0.659289   \n",
       "4     Explain like I'm five years old: How does your...  0.045609  0.570132   \n",
       "...                                                 ...       ...       ...   \n",
       "3887  Explain like I'm five years old: how do farmer...  0.106780  0.621121   \n",
       "3888  Explain like I'm five years old: how do farmer...  0.065218  0.619334   \n",
       "3889  Explain like I'm five years old: how do farmer...  0.038283  0.657454   \n",
       "3890  Explain like I'm five years old: how do farmer...  0.009105  0.669907   \n",
       "3891  Explain like I'm five years old: how do farmer...  0.032370  0.637962   \n",
       "\n",
       "      hascomma  \n",
       "0            0  \n",
       "1            0  \n",
       "2            0  \n",
       "3            0  \n",
       "4            0  \n",
       "...        ...  \n",
       "3887         0  \n",
       "3888         0  \n",
       "3889         0  \n",
       "3890         0  \n",
       "3891         0  \n",
       "\n",
       "[3892 rows x 17 columns]"
      ]
     },
     "execution_count": 179,
     "metadata": {},
     "output_type": "execute_result"
    }
   ],
   "source": [
    "resdf"
   ]
  },
  {
   "cell_type": "code",
   "execution_count": null,
   "id": "22b9dec6-4cc2-47e6-96cb-8c95c2ba3f64",
   "metadata": {},
   "outputs": [],
   "source": [
    "aclusts = "
   ]
  },
  {
   "cell_type": "code",
   "execution_count": null,
   "id": "696f8b6a-f575-48a6-94c6-f0122e40465a",
   "metadata": {
    "tags": []
   },
   "outputs": [],
   "source": [
    "plt.hist(resdf['prefpercent'])"
   ]
  },
  {
   "cell_type": "code",
   "execution_count": 177,
   "id": "b6f85956-f466-4a01-9169-c5f410449182",
   "metadata": {
    "tags": []
   },
   "outputs": [
    {
     "name": "stdout",
     "output_type": "stream",
     "text": [
      "Points  16\n",
      "Explain like I'm five years old: Why is Blackjack the only mathematically beatable game in casino?\n",
      "0.6371027231\n",
      "FULL START\n",
      "['Blackjack', 'is', 'considered', 'to', 'be', 'the', 'only', 'mathematical', 'ly', 'beat', 'able', 'game', 'in', '', 'a', 'casino']\n",
      "PARTIAL START\n",
      "['Blackjack', 'is', 'considered', 'to', 'be', 'the', 'only', 'mathematical', 'ly', 'beat', 'able', 'game', 'in', '', 'a', 'casino', ',', 'because', '', 'a', 'player', 'has', 'the', 'ability', 'to', 'count', 'cards', ',', 'and', 'be', '', 'able', 'to', 'use', 'their', 'skill', 'and', 'experience', 'to', 'successfully', 'predict', 'the', 'outcome', 'of', 'each', 'blackjack', 'hand']\n",
      "49\n"
     ]
    },
    {
     "data": {
      "image/png": "[encoded data removed]",
      "text/plain": [
       "<Figure size 1200x700 with 3 Axes>"
      ]
     },
     "metadata": {},
     "output_type": "display_data"
    }
   ],
   "source": [
    "def plot_data(vind, cutoff):\n",
    "    # all unique initial scores\n",
    "    alluns = list(resdf['initsco'].unique())\n",
    "\n",
    "    # get values at given spot\n",
    "    subset = resdf[resdf['initsco']==alluns[vind]]\n",
    "    ilen = len(subset)\n",
    "    if cutoff == -1:\n",
    "        cutoff = ilen\n",
    "    print(\"Points \", ilen)\n",
    "\n",
    "    # print prompt / SteamSHP\n",
    "    print(subset['prompt'].iloc[0])\n",
    "    print(alluns[vind])\n",
    "\n",
    "    print(\"FULL START\")\n",
    "    print(subset['inpstrs'].iloc[0][:int(ilen*1)])\n",
    "    print(\"PARTIAL START\")\n",
    "    print(subset['inpstrs'].iloc[0][:int(subset['prefix'].iloc[cutoff-1])])\n",
    "    print(len(subset['inpstrs'].iloc[0]))\n",
    "    fig, ax = plt.subplots(1, 3, figsize=(12, 7))\n",
    "    ax[0].scatter(subset['prefpercent'].iloc[:cutoff], subset['improves'].iloc[:cutoff]+subset['initsco'].iloc[0])\n",
    "    ax[0].axhline(y = subset['initsco'].iloc[0], color = 'r', linestyle = '-')\n",
    "    ax[1].scatter(subset['prefpercent'].iloc[:cutoff], subset['stdevs'].iloc[:cutoff])\n",
    "    ax[2].scatter(subset['prefpercent'].iloc[:cutoff], subset['means'].iloc[:cutoff])\n",
    "    ax[2].axhline(y = subset['initsco'].iloc[0], color = 'r', linestyle = '-')\n",
    "\n",
    "vi = 12\n",
    "\n",
    "cut = -1\n",
    "plot_data(vi, cut)"
   ]
  },
  {
   "cell_type": "code",
   "execution_count": 176,
   "id": "3f900685-2783-441b-92e4-9f2a9940bb65",
   "metadata": {
    "tags": []
   },
   "outputs": [],
   "source": [
    "import spacy\n",
    "\n",
    "spacy.prefer_gpu()\n",
    "nlp = spacy.load(\"en_core_web_sm\")"
   ]
  },
  {
   "cell_type": "code",
   "execution_count": null,
   "id": "c4ca4247-020c-4910-b47e-a2182f798edd",
   "metadata": {},
   "outputs": [],
   "source": [
    "trainrdf, testrdf = get_traintest(resdf, 0.8)"
   ]
  },
  {
   "cell_type": "code",
   "execution_count": null,
   "id": "645245f0-c5a1-4e73-b9a4-6c17f80fa12a",
   "metadata": {},
   "outputs": [],
   "source": []
  },
  {
   "cell_type": "code",
   "execution_count": null,
   "id": "1e23c723-a23f-42dc-995f-75238d2a7c35",
   "metadata": {},
   "outputs": [],
   "source": [
    "# write simple code, see if simple model does the trick\n",
    "import pandas as pd\n",
    "from sklearn.model_selection import train_test_split\n",
    "from sklearn.linear_model import LinearRegression, Ridge, Lasso\n",
    "from sklearn.ensemble import RandomForestRegressor, GradientBoostingRegressor\n",
    "from sklearn.metrics import mean_squared_error, r2_score"
   ]
  },
  {
   "cell_type": "code",
   "execution_count": null,
   "id": "113469e4-f391-4fcb-b2c5-9bec978e39ff",
   "metadata": {},
   "outputs": [],
   "source": [
    "thresh = 0\n",
    "def balance_labels(df):\n",
    "    # Separate the DataFrame into two based on the condition\n",
    "    above_zero_df = df[df['improves'] >= 0]\n",
    "    below_zero_df = df[df['improves'] < 0]\n",
    "\n",
    "    # Calculate the difference in lengths\n",
    "    length_diff = len(above_zero_df) - len(below_zero_df)\n",
    "\n",
    "    # Drop rows from the dominant class\n",
    "    if length_diff > thresh:\n",
    "        above_zero_df = above_zero_df.sample(len(below_zero_df))\n",
    "    elif length_diff < thresh:\n",
    "        below_zero_df = below_zero_df.sample(len(above_zero_df))\n",
    "\n",
    "    # Concatenate the two balanced DataFrames\n",
    "    return pd.concat([above_zero_df, below_zero_df], axis=0).reset_index(drop=True)\n"
   ]
  },
  {
   "cell_type": "code",
   "execution_count": null,
   "id": "ceb6f58e-aa56-4bf9-bf79-85ea8b19afb8",
   "metadata": {},
   "outputs": [],
   "source": [
    "btraindf = balance_labels(trainrdf)\n",
    "btestdf = balance_labels(testrdf)"
   ]
  },
  {
   "cell_type": "code",
   "execution_count": null,
   "id": "441e9dc0-d863-48f8-8799-ea3b48ccc6fc",
   "metadata": {},
   "outputs": [],
   "source": [
    "X_train = btraindf.drop(\"improves\", axis=1)\n",
    "X_train = X_train.drop(\"inpstrs\", axis=1)\n",
    "y_train = btraindf['improves']\n",
    "X_test = btestdf.drop(\"improves\", axis=1)\n",
    "X_test = X_test.drop(\"inpstrs\", axis=1)\n",
    "y_test = btestdf['improves']"
   ]
  },
  {
   "cell_type": "code",
   "execution_count": null,
   "id": "61addbe9-6a97-4a2b-ac9c-2dde6fa740a0",
   "metadata": {},
   "outputs": [],
   "source": [
    "plt.hist(list([int(f) for f in y_test]))"
   ]
  },
  {
   "cell_type": "code",
   "execution_count": null,
   "id": "7a328e1a-5dfc-44a9-939c-a6ac73dc05e9",
   "metadata": {},
   "outputs": [],
   "source": [
    "# Classification Setup\n",
    "import pandas as pd\n",
    "from sklearn.model_selection import train_test_split, GridSearchCV\n",
    "from sklearn.linear_model import LogisticRegression\n",
    "from sklearn.ensemble import RandomForestClassifier, GradientBoostingClassifier\n",
    "from sklearn.svm import SVC\n",
    "from sklearn.metrics import accuracy_score, precision_score, recall_score, f1_score\n",
    "\n",
    "# Load your pandas DataFrame\n",
    "# df = pd.read_csv('your_file.csv')\n",
    "y_train = y_train > thresh\n",
    "y_test = y_test > thresh\n",
    "\n",
    "# List of models to try\n",
    "models = [\n",
    "    ('Logistic Regression', LogisticRegression(random_state=42)),\n",
    "    ('Random Forest', RandomForestClassifier(random_state=42)),\n",
    "    ('Gradient Boosting', GradientBoostingClassifier(random_state=42)),\n",
    "    ('SVM', SVC(random_state=42)),\n",
    "]\n",
    "\n",
    "# Evaluate the performance of each model\n",
    "for name, model in models:\n",
    "    model.fit(X_train, y_train)\n",
    "    y_pred = model.predict(X_test)\n",
    "    accuracy = accuracy_score(y_test, y_pred)\n",
    "    precision = precision_score(y_test, y_pred)\n",
    "    recall = recall_score(y_test, y_pred)\n",
    "    f1 = f1_score(y_test, y_pred)\n",
    "    print(\"positive preds\"+str(sum(y_pred)/len(y_pred)))\n",
    "    print(f'{name}:')\n",
    "    print(f'  Accuracy: {accuracy:.4f}')\n",
    "    print(f'  Precision: {precision:.4f}')\n",
    "    print(f'  Recall: {recall:.4f}')\n",
    "    print(f'  F1 Score: {f1:.4f}')\n",
    "    print()"
   ]
  },
  {
   "cell_type": "code",
   "execution_count": null,
   "id": "46c38b06-cb18-43f9-b51b-9a2a430bc2a1",
   "metadata": {},
   "outputs": [],
   "source": [
    "# Hyperparameter tuning for RandomForestClassifier using GridSearchCV\n",
    "param_grid = {\n",
    "    'n_estimators': [100, 200, 300],\n",
    "    'max_depth': [None, 10, 20, 30],\n",
    "    'min_samples_split': [2, 5, 10],\n",
    "    'min_samples_leaf': [1, 2, 4],\n",
    "}\n",
    "\n",
    "rf = RandomForestClassifier(random_state=42)\n",
    "grid_search = GridSearchCV(estimator=rf, param_grid=param_grid, scoring='f1', cv=5, verbose=2, n_jobs=-1)\n",
    "grid_search.fit(X_train, y_train)\n",
    "\n",
    "# Get the best hyperparameters\n",
    "best_params = grid_search.best_params_\n",
    "print(f\"Best hyperparameters for RandomForestClassifier: {best_params}\")\n",
    "\n",
    "# Train the model with the best hyperparameters and evaluate its performance\n",
    "best_rf = RandomForestClassifier(**best_params, random_state=42)\n",
    "best_rf.fit(X_train, y_train)\n",
    "y_pred = best_rf.predict(X_test)\n",
    "accuracy = accuracy_score(y_test, y_pred)\n",
    "precision = precision_score(y_test, y_pred)\n",
    "recall = recall_score(y_test, y_pred)\n",
    "f1 = f1_score(y_test, y_pred)\n",
    "print(f\"Random Forest with best hyperparameters:\")\n",
    "print(f\"  Accuracy: {accuracy:.4f}\")\n",
    "print(f\"  Precision: {precision:.4f}\")\n",
    "print(f\"  Recall: {recall:.4f}\")\n",
    "print(f\"  F1 Score: {f1:.4f}\")"
   ]
  },
  {
   "cell_type": "code",
   "execution_count": null,
   "id": "317428a1-555a-4a4f-9263-586e40a51a31",
   "metadata": {},
   "outputs": [],
   "source": [
    "# REGRESSION setup\n",
    "# List of models to try\n",
    "models = [\n",
    "    ('Linear Regression', LinearRegression()),\n",
    "    ('Ridge', Ridge()),\n",
    "    ('Lasso', Lasso()),\n",
    "    ('Random Forest', RandomForestRegressor(random_state=42)),\n",
    "    ('Gradient Boosting', GradientBoostingRegressor(random_state=42)),\n",
    "]\n",
    "\n",
    "# Evaluate the performance of each model\n",
    "for name, model in models:\n",
    "    model.fit(X_train, y_train)\n",
    "    y_pred = model.predict(X_test)\n",
    "    mse = mean_squared_error(y_test, y_pred)\n",
    "    r2 = r2_score(y_test, y_pred)\n",
    "    print(f'{name}:')\n",
    "    print(f'  Mean Squared Error: {mse:.4f}')\n",
    "    print(f'  R2 Score: {r2:.4f}')\n",
    "    print()"
   ]
  },
  {
   "cell_type": "code",
   "execution_count": null,
   "id": "a9fa49d2-19ff-4dee-a1d5-952fe63083d7",
   "metadata": {},
   "outputs": [],
   "source": [
    "from sklearn.model_selection import GridSearchCV\n",
    "\n",
    "# Hyperparameters to tune for GradientBoostingRegressor\n",
    "param_grid = {\n",
    "    'n_estimators': [100, 200, 300],\n",
    "    'learning_rate': [0.01, 0.1, 0.2],\n",
    "    'max_depth': [3, 4, 5],\n",
    "    'subsample': [0.8, 0.9, 1.0],\n",
    "}\n",
    "\n",
    "# Perform grid search on GradientBoostingRegressor\n",
    "gbm = GradientBoostingRegressor(random_state=42)\n",
    "grid_search = GridSearchCV(estimator=gbm, param_grid=param_grid, scoring='r2', cv=5, verbose=2, n_jobs=-1)\n",
    "grid_search.fit(X_train, y_train)\n",
    "\n",
    "# Get the best hyperparameters\n",
    "best_params = grid_search.best_params_\n",
    "print(f\"Best hyperparameters: {best_params}\")\n",
    "\n",
    "# Train the model with the best hyperparameters and evaluate its performance\n",
    "best_gbm = GradientBoostingRegressor(**best_params, random_state=42)\n",
    "best_gbm.fit(X_train, y_train)\n",
    "y_pred = best_gbm.predict(X_test)\n",
    "mse = mean_squared_error(y_test, y_pred)\n",
    "r2 = r2_score(y_test, y_pred)\n",
    "print(f\"Gradient Boosting with best hyperparameters:\")\n",
    "print(f\"  Mean Squared Error: {mse:.4f}\")\n",
    "print(f\"  R2 Score: {r2:.4f}\")"
   ]
  },
  {
   "cell_type": "code",
   "execution_count": null,
   "id": "29aeb681-fba9-4df1-9018-1a3b4d97ea33",
   "metadata": {},
   "outputs": [],
   "source": [
    "min_class_size = resdf['initsco'].value_counts().min()\n",
    "\n",
    "# Group by class_id, sample the rows and concatenate the result\n",
    "balanced = resdf.groupby('initsco').apply(lambda x: x.sample(min_class_size)).reset_index(drop=True)\n"
   ]
  },
  {
   "cell_type": "code",
   "execution_count": null,
   "id": "3d76a014-4317-4080-baac-a77f3f2afdd1",
   "metadata": {},
   "outputs": [],
   "source": [
    "resdf"
   ]
  },
  {
   "cell_type": "code",
   "execution_count": null,
   "id": "f2426d6e-3de8-43b9-ac1f-4cbb151e0b94",
   "metadata": {},
   "outputs": [],
   "source": [
    "start = resdf[resdf['initsco']<0.85].reset_index()"
   ]
  },
  {
   "cell_type": "code",
   "execution_count": null,
   "id": "5b8f9d2e-b020-4e8e-af82-ed0d28db5eb9",
   "metadata": {},
   "outputs": [],
   "source": [
    "# get correlation histogram plots\n",
    "smans = []\n",
    "alluns = list(start['initsco'].unique())\n",
    "\n",
    "for i in range(len(alluns)):\n",
    "    subset = start[start['initsco']==alluns[i]]\n",
    "    smans.append(spearmanr(subset['kurtoses'], subset['improves']).correlation)"
   ]
  },
  {
   "cell_type": "code",
   "execution_count": null,
   "id": "6637b5fb-977f-445c-bfcd-65616be5c15e",
   "metadata": {},
   "outputs": [],
   "source": [
    "origs = e[e['ver']==\"worst\"]"
   ]
  },
  {
   "cell_type": "code",
   "execution_count": null,
   "id": "96b7cea0-3bcb-41b9-b89a-e2eca77e5445",
   "metadata": {},
   "outputs": [],
   "source": []
  },
  {
   "cell_type": "code",
   "execution_count": null,
   "id": "6454423f-3c32-42ea-bb28-91a0172b8405",
   "metadata": {},
   "outputs": [],
   "source": [
    "# get individual prefix scatters\n",
    "smans = []\n",
    "alluns = list(resdf['initsco'].unique())\n",
    "vind = 5\n",
    "subset = resdf[resdf['initsco']==alluns[vind]]\n",
    "print(alluns[vind])\n",
    "plt.scatter(subset['prefpercent'], subset['improves'])"
   ]
  },
  {
   "cell_type": "code",
   "execution_count": null,
   "id": "6025c7cd-fd16-470f-be7e-4240d7945827",
   "metadata": {},
   "outputs": [],
   "source": [
    "inits = e[e['ver']=='first']"
   ]
  },
  {
   "cell_type": "code",
   "execution_count": null,
   "id": "75ba6eaf-2144-403a-b885-e0bb5cfcb71b",
   "metadata": {},
   "outputs": [],
   "source": [
    "inits[inits['inpstr']==\"Explain like I'm five years old: why do the fastest bicycles have really thin tyres but the fastest cars have very wide tyres\"]"
   ]
  },
  {
   "cell_type": "code",
   "execution_count": null,
   "id": "1d8da163-1cef-4003-af80-64eb22d60abd",
   "metadata": {},
   "outputs": [],
   "source": [
    "origs.iloc[565]['hyps'][0]"
   ]
  },
  {
   "cell_type": "code",
   "execution_count": null,
   "id": "5fd7a397-9d91-4c93-a8f6-9adfd3167402",
   "metadata": {},
   "outputs": [],
   "source": [
    "test = balanced[balanced['prefpercent']>0.3]"
   ]
  },
  {
   "cell_type": "code",
   "execution_count": null,
   "id": "45fb82fd-a671-4e3a-8904-3160b6b80314",
   "metadata": {},
   "outputs": [],
   "source": [
    "spearmanr(test['entropy'], test['improves'])"
   ]
  },
  {
   "cell_type": "code",
   "execution_count": null,
   "id": "2301e2fb-9bf7-49bb-b797-73147d5b5469",
   "metadata": {},
   "outputs": [],
   "source": [
    "def make_impred_dset(edf):\n",
    "    "
   ]
  },
  {
   "cell_type": "code",
   "execution_count": null,
   "id": "10193c12-96a0-44d9-a63c-57ee46b7b631",
   "metadata": {},
   "outputs": [],
   "source": [
    "plt.hist(balanced['initsco'].unique())"
   ]
  },
  {
   "cell_type": "code",
   "execution_count": null,
   "id": "3af5c25e-9be2-4bfe-a0fd-f3bf96eb8c25",
   "metadata": {},
   "outputs": [],
   "source": [
    "plt.hist(balanced['initsco'])"
   ]
  },
  {
   "cell_type": "code",
   "execution_count": null,
   "id": "8a51d939-de7c-4d5c-9275-0f68acabdb8c",
   "metadata": {},
   "outputs": [],
   "source": [
    "plt.hist(tmp['initsco'])"
   ]
  },
  {
   "cell_type": "code",
   "execution_count": null,
   "id": "dd3fa663-4b57-4510-8cac-c18ad4f51b3f",
   "metadata": {},
   "outputs": [],
   "source": [
    "tmp = resdf[resdf['prefpercent']>0.9]\n",
    "print(spearmanr(tmp['stat'], tmp['improves']))\n",
    "plt.scatter(tmp['stat'],tmp['improves'])"
   ]
  },
  {
   "cell_type": "code",
   "execution_count": 6,
   "id": "13526356-064b-4676-9597-6dce4cd7324f",
   "metadata": {},
   "outputs": [
    {
     "ename": "ValueError",
     "evalue": "Expected object or value",
     "output_type": "error",
     "traceback": [
      "\u001b[0;31m---------------------------------------------------------------------------\u001b[0m",
      "\u001b[0;31mValueError\u001b[0m                                Traceback (most recent call last)",
      "Cell \u001b[0;32mIn[6], line 2\u001b[0m\n\u001b[1;32m      1\u001b[0m BASE \u001b[38;5;241m=\u001b[39m \u001b[38;5;124m\"\u001b[39m\u001b[38;5;124moutput/prefpreds/\u001b[39m\u001b[38;5;124m\"\u001b[39m\n\u001b[0;32m----> 2\u001b[0m p0s \u001b[38;5;241m=\u001b[39m \u001b[43mpd\u001b[49m\u001b[38;5;241;43m.\u001b[39;49m\u001b[43mread_json\u001b[49m\u001b[43m(\u001b[49m\u001b[43mBASE\u001b[49m\u001b[38;5;241;43m+\u001b[39;49m\u001b[38;5;124;43m\"\u001b[39;49m\u001b[38;5;124;43mprefpreds0.jsonl\u001b[39;49m\u001b[38;5;124;43m\"\u001b[39;49m\u001b[43m,\u001b[49m\u001b[43morient\u001b[49m\u001b[38;5;241;43m=\u001b[39;49m\u001b[38;5;124;43m\"\u001b[39;49m\u001b[38;5;124;43mrecords\u001b[39;49m\u001b[38;5;124;43m\"\u001b[39;49m\u001b[43m,\u001b[49m\u001b[43m \u001b[49m\u001b[43mlines\u001b[49m\u001b[38;5;241;43m=\u001b[39;49m\u001b[38;5;28;43;01mTrue\u001b[39;49;00m\u001b[43m)\u001b[49m\n\u001b[1;32m      3\u001b[0m p1s \u001b[38;5;241m=\u001b[39m pd\u001b[38;5;241m.\u001b[39mread_json(BASE\u001b[38;5;241m+\u001b[39m\u001b[38;5;124m\"\u001b[39m\u001b[38;5;124mprefpreds1.jsonl\u001b[39m\u001b[38;5;124m\"\u001b[39m,orient\u001b[38;5;241m=\u001b[39m\u001b[38;5;124m\"\u001b[39m\u001b[38;5;124mrecords\u001b[39m\u001b[38;5;124m\"\u001b[39m, lines\u001b[38;5;241m=\u001b[39m\u001b[38;5;28;01mTrue\u001b[39;00m)\n\u001b[1;32m      4\u001b[0m p2s \u001b[38;5;241m=\u001b[39m pd\u001b[38;5;241m.\u001b[39mread_json(BASE\u001b[38;5;241m+\u001b[39m\u001b[38;5;124m\"\u001b[39m\u001b[38;5;124mprefpreds2.jsonl\u001b[39m\u001b[38;5;124m\"\u001b[39m,orient\u001b[38;5;241m=\u001b[39m\u001b[38;5;124m\"\u001b[39m\u001b[38;5;124mrecords\u001b[39m\u001b[38;5;124m\"\u001b[39m, lines\u001b[38;5;241m=\u001b[39m\u001b[38;5;28;01mTrue\u001b[39;00m)\n",
      "File \u001b[0;32m~/miniconda3/envs/rewardenv/lib/python3.8/site-packages/pandas/util/_decorators.py:211\u001b[0m, in \u001b[0;36mdeprecate_kwarg.<locals>._deprecate_kwarg.<locals>.wrapper\u001b[0;34m(*args, **kwargs)\u001b[0m\n\u001b[1;32m    209\u001b[0m     \u001b[38;5;28;01melse\u001b[39;00m:\n\u001b[1;32m    210\u001b[0m         kwargs[new_arg_name] \u001b[38;5;241m=\u001b[39m new_arg_value\n\u001b[0;32m--> 211\u001b[0m \u001b[38;5;28;01mreturn\u001b[39;00m \u001b[43mfunc\u001b[49m\u001b[43m(\u001b[49m\u001b[38;5;241;43m*\u001b[39;49m\u001b[43margs\u001b[49m\u001b[43m,\u001b[49m\u001b[43m \u001b[49m\u001b[38;5;241;43m*\u001b[39;49m\u001b[38;5;241;43m*\u001b[39;49m\u001b[43mkwargs\u001b[49m\u001b[43m)\u001b[49m\n",
      "File \u001b[0;32m~/miniconda3/envs/rewardenv/lib/python3.8/site-packages/pandas/util/_decorators.py:331\u001b[0m, in \u001b[0;36mdeprecate_nonkeyword_arguments.<locals>.decorate.<locals>.wrapper\u001b[0;34m(*args, **kwargs)\u001b[0m\n\u001b[1;32m    325\u001b[0m \u001b[38;5;28;01mif\u001b[39;00m \u001b[38;5;28mlen\u001b[39m(args) \u001b[38;5;241m>\u001b[39m num_allow_args:\n\u001b[1;32m    326\u001b[0m     warnings\u001b[38;5;241m.\u001b[39mwarn(\n\u001b[1;32m    327\u001b[0m         msg\u001b[38;5;241m.\u001b[39mformat(arguments\u001b[38;5;241m=\u001b[39m_format_argument_list(allow_args)),\n\u001b[1;32m    328\u001b[0m         \u001b[38;5;167;01mFutureWarning\u001b[39;00m,\n\u001b[1;32m    329\u001b[0m         stacklevel\u001b[38;5;241m=\u001b[39mfind_stack_level(),\n\u001b[1;32m    330\u001b[0m     )\n\u001b[0;32m--> 331\u001b[0m \u001b[38;5;28;01mreturn\u001b[39;00m \u001b[43mfunc\u001b[49m\u001b[43m(\u001b[49m\u001b[38;5;241;43m*\u001b[39;49m\u001b[43margs\u001b[49m\u001b[43m,\u001b[49m\u001b[43m \u001b[49m\u001b[38;5;241;43m*\u001b[39;49m\u001b[38;5;241;43m*\u001b[39;49m\u001b[43mkwargs\u001b[49m\u001b[43m)\u001b[49m\n",
      "File \u001b[0;32m~/miniconda3/envs/rewardenv/lib/python3.8/site-packages/pandas/io/json/_json.py:757\u001b[0m, in \u001b[0;36mread_json\u001b[0;34m(path_or_buf, orient, typ, dtype, convert_axes, convert_dates, keep_default_dates, numpy, precise_float, date_unit, encoding, encoding_errors, lines, chunksize, compression, nrows, storage_options)\u001b[0m\n\u001b[1;32m    754\u001b[0m     \u001b[38;5;28;01mreturn\u001b[39;00m json_reader\n\u001b[1;32m    756\u001b[0m \u001b[38;5;28;01mwith\u001b[39;00m json_reader:\n\u001b[0;32m--> 757\u001b[0m     \u001b[38;5;28;01mreturn\u001b[39;00m \u001b[43mjson_reader\u001b[49m\u001b[38;5;241;43m.\u001b[39;49m\u001b[43mread\u001b[49m\u001b[43m(\u001b[49m\u001b[43m)\u001b[49m\n",
      "File \u001b[0;32m~/miniconda3/envs/rewardenv/lib/python3.8/site-packages/pandas/io/json/_json.py:913\u001b[0m, in \u001b[0;36mJsonReader.read\u001b[0;34m(self)\u001b[0m\n\u001b[1;32m    911\u001b[0m         data \u001b[38;5;241m=\u001b[39m ensure_str(\u001b[38;5;28mself\u001b[39m\u001b[38;5;241m.\u001b[39mdata)\n\u001b[1;32m    912\u001b[0m         data_lines \u001b[38;5;241m=\u001b[39m data\u001b[38;5;241m.\u001b[39msplit(\u001b[38;5;124m\"\u001b[39m\u001b[38;5;130;01m\\n\u001b[39;00m\u001b[38;5;124m\"\u001b[39m)\n\u001b[0;32m--> 913\u001b[0m         obj \u001b[38;5;241m=\u001b[39m \u001b[38;5;28;43mself\u001b[39;49m\u001b[38;5;241;43m.\u001b[39;49m\u001b[43m_get_object_parser\u001b[49m\u001b[43m(\u001b[49m\u001b[38;5;28;43mself\u001b[39;49m\u001b[38;5;241;43m.\u001b[39;49m\u001b[43m_combine_lines\u001b[49m\u001b[43m(\u001b[49m\u001b[43mdata_lines\u001b[49m\u001b[43m)\u001b[49m\u001b[43m)\u001b[49m\n\u001b[1;32m    914\u001b[0m \u001b[38;5;28;01melse\u001b[39;00m:\n\u001b[1;32m    915\u001b[0m     obj \u001b[38;5;241m=\u001b[39m \u001b[38;5;28mself\u001b[39m\u001b[38;5;241m.\u001b[39m_get_object_parser(\u001b[38;5;28mself\u001b[39m\u001b[38;5;241m.\u001b[39mdata)\n",
      "File \u001b[0;32m~/miniconda3/envs/rewardenv/lib/python3.8/site-packages/pandas/io/json/_json.py:937\u001b[0m, in \u001b[0;36mJsonReader._get_object_parser\u001b[0;34m(self, json)\u001b[0m\n\u001b[1;32m    935\u001b[0m obj \u001b[38;5;241m=\u001b[39m \u001b[38;5;28;01mNone\u001b[39;00m\n\u001b[1;32m    936\u001b[0m \u001b[38;5;28;01mif\u001b[39;00m typ \u001b[38;5;241m==\u001b[39m \u001b[38;5;124m\"\u001b[39m\u001b[38;5;124mframe\u001b[39m\u001b[38;5;124m\"\u001b[39m:\n\u001b[0;32m--> 937\u001b[0m     obj \u001b[38;5;241m=\u001b[39m \u001b[43mFrameParser\u001b[49m\u001b[43m(\u001b[49m\u001b[43mjson\u001b[49m\u001b[43m,\u001b[49m\u001b[43m \u001b[49m\u001b[38;5;241;43m*\u001b[39;49m\u001b[38;5;241;43m*\u001b[39;49m\u001b[43mkwargs\u001b[49m\u001b[43m)\u001b[49m\u001b[38;5;241;43m.\u001b[39;49m\u001b[43mparse\u001b[49m\u001b[43m(\u001b[49m\u001b[43m)\u001b[49m\n\u001b[1;32m    939\u001b[0m \u001b[38;5;28;01mif\u001b[39;00m typ \u001b[38;5;241m==\u001b[39m \u001b[38;5;124m\"\u001b[39m\u001b[38;5;124mseries\u001b[39m\u001b[38;5;124m\"\u001b[39m \u001b[38;5;129;01mor\u001b[39;00m obj \u001b[38;5;129;01mis\u001b[39;00m \u001b[38;5;28;01mNone\u001b[39;00m:\n\u001b[1;32m    940\u001b[0m     \u001b[38;5;28;01mif\u001b[39;00m \u001b[38;5;129;01mnot\u001b[39;00m \u001b[38;5;28misinstance\u001b[39m(dtype, \u001b[38;5;28mbool\u001b[39m):\n",
      "File \u001b[0;32m~/miniconda3/envs/rewardenv/lib/python3.8/site-packages/pandas/io/json/_json.py:1064\u001b[0m, in \u001b[0;36mParser.parse\u001b[0;34m(self)\u001b[0m\n\u001b[1;32m   1062\u001b[0m     \u001b[38;5;28mself\u001b[39m\u001b[38;5;241m.\u001b[39m_parse_numpy()\n\u001b[1;32m   1063\u001b[0m \u001b[38;5;28;01melse\u001b[39;00m:\n\u001b[0;32m-> 1064\u001b[0m     \u001b[38;5;28;43mself\u001b[39;49m\u001b[38;5;241;43m.\u001b[39;49m\u001b[43m_parse_no_numpy\u001b[49m\u001b[43m(\u001b[49m\u001b[43m)\u001b[49m\n\u001b[1;32m   1066\u001b[0m \u001b[38;5;28;01mif\u001b[39;00m \u001b[38;5;28mself\u001b[39m\u001b[38;5;241m.\u001b[39mobj \u001b[38;5;129;01mis\u001b[39;00m \u001b[38;5;28;01mNone\u001b[39;00m:\n\u001b[1;32m   1067\u001b[0m     \u001b[38;5;28;01mreturn\u001b[39;00m \u001b[38;5;28;01mNone\u001b[39;00m\n",
      "File \u001b[0;32m~/miniconda3/envs/rewardenv/lib/python3.8/site-packages/pandas/io/json/_json.py:1340\u001b[0m, in \u001b[0;36mFrameParser._parse_no_numpy\u001b[0;34m(self)\u001b[0m\n\u001b[1;32m   1337\u001b[0m     \u001b[38;5;28mself\u001b[39m\u001b[38;5;241m.\u001b[39mobj \u001b[38;5;241m=\u001b[39m parse_table_schema(json, precise_float\u001b[38;5;241m=\u001b[39m\u001b[38;5;28mself\u001b[39m\u001b[38;5;241m.\u001b[39mprecise_float)\n\u001b[1;32m   1338\u001b[0m \u001b[38;5;28;01melse\u001b[39;00m:\n\u001b[1;32m   1339\u001b[0m     \u001b[38;5;28mself\u001b[39m\u001b[38;5;241m.\u001b[39mobj \u001b[38;5;241m=\u001b[39m DataFrame(\n\u001b[0;32m-> 1340\u001b[0m         \u001b[43mloads\u001b[49m\u001b[43m(\u001b[49m\u001b[43mjson\u001b[49m\u001b[43m,\u001b[49m\u001b[43m \u001b[49m\u001b[43mprecise_float\u001b[49m\u001b[38;5;241;43m=\u001b[39;49m\u001b[38;5;28;43mself\u001b[39;49m\u001b[38;5;241;43m.\u001b[39;49m\u001b[43mprecise_float\u001b[49m\u001b[43m)\u001b[49m, dtype\u001b[38;5;241m=\u001b[39m\u001b[38;5;28;01mNone\u001b[39;00m\n\u001b[1;32m   1341\u001b[0m     )\n",
      "\u001b[0;31mValueError\u001b[0m: Expected object or value"
     ]
    }
   ],
   "source": [
    "BASE = \"output/prefpreds/\"\n",
    "p0s = pd.read_json(BASE+\"prefpreds0.jsonl\",orient=\"records\", lines=True)\n",
    "p1s = pd.read_json(BASE+\"prefpreds1.jsonl\",orient=\"records\", lines=True)\n",
    "p2s = pd.read_json(BASE+\"prefpreds2.jsonl\",orient=\"records\", lines=True)\n",
    "p3s = pd.read_json(BASE+\"prefpreds3.jsonl\",orient=\"records\", lines=True)\n",
    "p4s = pd.read_json(BASE+\"prefpreds4.jsonl\",orient=\"records\", lines=True)"
   ]
  },
  {
   "cell_type": "code",
   "execution_count": null,
   "id": "67cf47d6-b413-46de-ac5b-728b5fa56183",
   "metadata": {},
   "outputs": [],
   "source": [
    "sdf7 = pd.read_json(BASE+\"verbprefpreds0_0.7.jsonl\",orient=\"records\", lines=True)\n",
    "sdf3 = pd.read_json(BASE+\"verbprefpreds0_0.3.jsonl\",orient=\"records\", lines=True)"
   ]
  },
  {
   "cell_type": "code",
   "execution_count": null,
   "id": "6501e60e-e659-456b-a383-18353dd3584a",
   "metadata": {},
   "outputs": [],
   "source": [
    "def ascosdist(sdf):\n",
    "    oscos = []\n",
    "    nscos = []\n",
    "    for i in range(len(sdf)):\n",
    "        oscos.extend(sdf.iloc[i]['scos'][0])\n",
    "        nscos.extend(sdf.iloc[i]['scos'][1])\n",
    "    return oscos, nscos"
   ]
  },
  {
   "cell_type": "code",
   "execution_count": null,
   "id": "12df7e77-3271-43ea-a1ef-6f702c2b6a5b",
   "metadata": {},
   "outputs": [],
   "source": [
    "os, ns = ascosdist(sdf3)\n",
    "fig, ax2 = plt.subplots(1,2)\n",
    "ax2[0].hist(os)\n",
    "ax2[1].hist(ns)\n"
   ]
  },
  {
   "cell_type": "code",
   "execution_count": null,
   "id": "162ceac6-6cdb-4fbe-a9d0-b1a86f3f5c03",
   "metadata": {},
   "outputs": [],
   "source": [
    "def showind_box(ind, sdf, newind):\n",
    "    plt.boxplot(sdf['stats'].iloc[ind][newind]['entropy'], vert=True, meanline=True)\n",
    "    plt.show()"
   ]
  },
  {
   "cell_type": "code",
   "execution_count": null,
   "id": "b2c1886d-be82-4185-ad36-97b7ebfe2601",
   "metadata": {},
   "outputs": [],
   "source": [
    "def plot_lines(ind, sdf, newind, inax, metric='entropy'):\n",
    "    row = sdf.iloc[ind]\n",
    "    data = np.array(row['stats'][newind][metric])\n",
    "    tokeddata = tokenizer(row['hyps'][newind], padding=True, truncation=True, return_tensors=\"pt\").input_ids\n",
    "    pinds = torch.sum(tokeddata==0, dim=1)\n",
    "    linds = torch.sum(tokeddata>0, dim=1)\n",
    "    print(linds)\n",
    "    #print(data.shape)\n",
    "    #print(tokeddata.shape)\n",
    "    for i in range(4):\n",
    "        # stats ignoring pad tokens\n",
    "        if pinds[i]>0:\n",
    "            ndata = data[:-int(pinds[i]), i]\n",
    "        else:\n",
    "            ndata = data[:, i]\n",
    "        #print(\"de-padded data \", ndata.shape)\n",
    "        s = linds[i]-len(ndata)#+pinds[i])\n",
    "        #print(\"start \", s)\n",
    "        #print(\"end \", linds[i])\n",
    "        inax.plot(range(s, int(linds[i])), ndata , label=str(row['scos'][newind][i]))\n",
    "    inax.legend()\n",
    "    \n"
   ]
  },
  {
   "cell_type": "code",
   "execution_count": null,
   "id": "dd30ab65-55b9-49b7-a0bc-3fa4789759d4",
   "metadata": {},
   "outputs": [],
   "source": [
    "fig, ax = plt.subplots(1, 2, figsize=(10, 5))\n",
    "\n",
    "# \"mean\", \"stdev\", \"entropy\", \"skewness\", \"kurtoses\", \"top1s\", \"selected\"\n",
    "ind = 5\n",
    "metric = \"selected\"\n",
    "plot_lines(ind, sdf7, 0, ax[0],metric )\n",
    "plot_lines(ind, sdf7, 1, ax[1], metric)"
   ]
  },
  {
   "cell_type": "code",
   "execution_count": null,
   "id": "067f9ddb-4812-43af-bfb6-bd029bd5c28c",
   "metadata": {},
   "outputs": [],
   "source": [
    "def preproc_metric(row, metric, newind):\n",
    "    data = np.array(row['stats'][newind][metric])\n",
    "    tokeddata = tokenizer(row['hyps'][newind], padding=True, truncation=True, return_tensors=\"pt\").input_ids\n",
    "    pinds = torch.sum(tokeddata==0, dim=1)\n",
    "    linds = torch.sum(tokeddata>0, dim=1)\n",
    "    #print(linds)\n",
    "    starts = []\n",
    "    ndatas = []\n",
    "    for i in range(4):\n",
    "        # stats ignoring pad tokens\n",
    "        if pinds[i]>0:\n",
    "            ndata = data[:-int(pinds[i]), i]\n",
    "        else:\n",
    "            ndata = data[:, i]\n",
    "        #print(\"de-padded data \", ndata.shape)\n",
    "        s = linds[i]-len(ndata)#+pinds[i])\n",
    "        starts.append(s)\n",
    "        ndatas.append(ndata)\n",
    "    return starts, ndatas\n",
    "    \n",
    "def get_agg_stats(row, metric):\n",
    "    _, origdatas = preproc_metric(row, metric, 0)\n",
    "    prefixes, newdatas = preproc_metric(row, metric, 1)\n",
    "    aggres = []\n",
    "    o_pre_means = []\n",
    "    o_post_means = []\n",
    "    o_full_means = []\n",
    "    n_post_means = []\n",
    "    for i in range(0, 4):\n",
    "        aggres.append({\n",
    "            \"opre\":mean(origdatas[i][:prefixes[i]]),\n",
    "            \"opost\":mean(origdatas[i][prefixes[i]:]),\n",
    "            \"ofull\":mean(origdatas[i]),\n",
    "            \"shp\":row['scos'][0][i]\n",
    "        })\n",
    "        aggres.append({\n",
    "            \"pfull\":mean(newdatas[i]),\n",
    "            \"shp\":row['scos'][1][i]\n",
    "        })\n",
    "\n",
    "    return aggres\n",
    "    \n",
    "def makedataset(sdf, metric):\n",
    "    allrows = []\n",
    "    for s in range(len(sdf)):\n",
    "        allrows.extend(get_agg_stats(sdf.iloc[s], metric))\n",
    "    return pd.DataFrame(allrows)"
   ]
  },
  {
   "cell_type": "code",
   "execution_count": null,
   "id": "e91bbd3a-576e-4903-b8dc-8d482bacaf84",
   "metadata": {},
   "outputs": [],
   "source": [
    "entdset = makedataset(sdf7, \"kurtoses\")\n",
    "predata = entdset[entdset['opre']>0]\n",
    "fig, ax = plt.subplots(3, 2)\n",
    "good = predata[predata['shp']>.8]\n",
    "ax[0][0].hist(list(good['ofull']))\n",
    "ax[1][0].hist(list(good['opre']))\n",
    "ax[2][0].hist(list(good['opost']))\n",
    "good = predata[predata['shp']<.8]\n",
    "ax[0][1].hist(list(good['ofull']))\n",
    "ax[1][1].hist(list(good['opre']))\n",
    "ax[2][1].hist(list(good['opost']))"
   ]
  },
  {
   "cell_type": "code",
   "execution_count": null,
   "id": "b63b0f2d-e8e5-4fca-8252-0902324e0af8",
   "metadata": {},
   "outputs": [],
   "source": []
  },
  {
   "cell_type": "code",
   "execution_count": null,
   "id": "c7541a29-3df6-4e99-8bdf-608a4422dd06",
   "metadata": {},
   "outputs": [],
   "source": []
  },
  {
   "cell_type": "code",
   "execution_count": null,
   "id": "d6f2bd8b-dcb1-44fb-9478-42c61089c3b6",
   "metadata": {},
   "outputs": [],
   "source": []
  },
  {
   "cell_type": "code",
   "execution_count": null,
   "id": "200f7df5-1dc3-4c12-a967-f2a37f0b04e3",
   "metadata": {},
   "outputs": [],
   "source": []
  },
  {
   "cell_type": "code",
   "execution_count": null,
   "id": "6123ca34-52cd-4f1d-a8cb-760dd8ef77c4",
   "metadata": {},
   "outputs": [],
   "source": [
    "row = sdf7.iloc[0]\n",
    "print(len(row['stats'][0]['entropy']))\n",
    "print(len(row['stats'][1]['entropy']))\n",
    "tokeddata = tokenizer(row['hyps'][0], padding=True, truncation=True, return_tensors=\"pt\").input_ids"
   ]
  },
  {
   "cell_type": "code",
   "execution_count": null,
   "id": "25330dc5-4b73-4139-8e7a-93cd1f53c395",
   "metadata": {},
   "outputs": [],
   "source": [
    "showind_box(0, statsdf3, 0)"
   ]
  },
  {
   "cell_type": "code",
   "execution_count": null,
   "id": "1e51b0f0-3f5f-4065-8bb2-adba4e0fa81e",
   "metadata": {},
   "outputs": [],
   "source": [
    "allps = pd.concat([p0s, p1s, p2s, p3s, p4s]).reset_index()"
   ]
  },
  {
   "cell_type": "code",
   "execution_count": null,
   "id": "db52998b-7988-41e7-ac09-970852363123",
   "metadata": {},
   "outputs": [],
   "source": [
    "allps['scos'].iloc[0]"
   ]
  },
  {
   "cell_type": "code",
   "execution_count": null,
   "id": "f8d4fd3a-901d-4bf6-963b-10ab124074d7",
   "metadata": {},
   "outputs": [],
   "source": [
    "stdev(allps['scos'].iloc[0][0])"
   ]
  },
  {
   "cell_type": "code",
   "execution_count": null,
   "id": "09f7adcd-152e-4388-bfc9-9926f461308c",
   "metadata": {},
   "outputs": [],
   "source": [
    "def variance_changes(aps):\n",
    "    origvars = []\n",
    "    newvars = []\n",
    "    for i in range(len(aps)):\n",
    "        scovals = aps['scos'].iloc[i]\n",
    "        origvars.append(stdev(scovals[0]))\n",
    "        newvars.append(stdev(scovals[1]))\n",
    "    return origvars, newvars\n",
    "\n",
    "def ngram_changes(aps, n):\n",
    "    origvars = []\n",
    "    newvars = []\n",
    "    for i in range(len(aps)):\n",
    "        hyps = aps['hyps'].iloc[i]\n",
    "        ongs = [len(get_unique_ngrams(h, tokenizer, n)) for h in hyps[0]]\n",
    "        nngs = [len(get_unique_ngrams(h, tokenizer, n)) for h in hyps[1]]\n",
    "        origvars.append(mean(ongs))\n",
    "        newvars.append(mean(nngs))\n",
    "    return origvars, newvars\n",
    "\n",
    "\n",
    "# let's use this as our evaluation metric for diversity\n",
    "def get_unique_ngrams(sentence, tok, n):\n",
    "    uns = set()\n",
    "    toks = tok(sentence).input_ids\n",
    "    #print(toks)\n",
    "    for i in range(len(toks)-n):\n",
    "        tmp = \"\"\n",
    "        for j in range(i, i+n):\n",
    "            tmp = tmp+\"_\"+str(toks[j])\n",
    "        uns.add(tmp)\n",
    "    return uns"
   ]
  },
  {
   "cell_type": "code",
   "execution_count": null,
   "id": "f8fa2776-d957-4998-a35e-d44c0c6cf855",
   "metadata": {},
   "outputs": [],
   "source": [
    "ov, nv = variance_changes(sdf7)"
   ]
  },
  {
   "cell_type": "code",
   "execution_count": null,
   "id": "07224a14-55a4-4301-9f71-20a0f1c0231d",
   "metadata": {},
   "outputs": [],
   "source": [
    "sdf7['varnew'] = nv"
   ]
  },
  {
   "cell_type": "code",
   "execution_count": null,
   "id": "dfd942c3-eec8-472f-b9fa-0968b6907ada",
   "metadata": {},
   "outputs": [],
   "source": [
    "sdf7[sdf7['varnew']>0.2]['scos'].iloc[1]"
   ]
  },
  {
   "cell_type": "code",
   "execution_count": null,
   "id": "b44cb324-838c-4edd-817f-bb19fde930ce",
   "metadata": {},
   "outputs": [],
   "source": [
    "plt.hist(nv)"
   ]
  },
  {
   "cell_type": "code",
   "execution_count": null,
   "id": "039254da-5c4f-43be-a306-2e6e38e7e9aa",
   "metadata": {},
   "outputs": [],
   "source": [
    "plt.hist(nv)"
   ]
  },
  {
   "cell_type": "code",
   "execution_count": null,
   "id": "974862c8-325a-44d4-8d6d-c44ccf34446b",
   "metadata": {},
   "outputs": [],
   "source": [
    "p3 = pd.read_json(BASE+\"prefpreds0_0.7.jsonl\",orient=\"records\", lines=True)"
   ]
  },
  {
   "cell_type": "code",
   "execution_count": null,
   "id": "056074c3-1c4d-4d4c-8cba-160def32303b",
   "metadata": {},
   "outputs": [],
   "source": [
    "print(p3['new_avg'].mean())\n",
    "print(p3['old_avg'].mean())"
   ]
  },
  {
   "cell_type": "code",
   "execution_count": null,
   "id": "ca6813b9-0a19-48e8-96ac-aada9ad362df",
   "metadata": {},
   "outputs": [],
   "source": [
    "orig_ngrams, new_ngrams = ngram_changes(p3, 1)\n",
    "print(mean(new_ngrams))\n",
    "print(mean(orig_ngrams))\n",
    "orig_ngrams, new_ngrams = ngram_changes(p3, 3)\n",
    "print(mean(new_ngrams))\n",
    "print(mean(orig_ngrams))"
   ]
  },
  {
   "cell_type": "code",
   "execution_count": null,
   "id": "93ca1209-d50d-44a1-86fe-45d31e5342f6",
   "metadata": {},
   "outputs": [],
   "source": [
    "ovs, nvs = variance_changes(p3)"
   ]
  },
  {
   "cell_type": "code",
   "execution_count": null,
   "id": "c70ebeb8-0036-4851-8b17-c8051e7fc210",
   "metadata": {},
   "outputs": [],
   "source": [
    "print(mean(ovs))\n",
    "print(mean(nvs))"
   ]
  },
  {
   "cell_type": "code",
   "execution_count": null,
   "id": "a54658b0-4f01-4c56-90fc-810eedc8f9ca",
   "metadata": {},
   "outputs": [],
   "source": [
    "plt.hist(orig_ngrams)"
   ]
  },
  {
   "cell_type": "code",
   "execution_count": null,
   "id": "2c402f58-c2ff-40fa-bdb5-600a7752efe7",
   "metadata": {},
   "outputs": [],
   "source": [
    "diffdist = []\n",
    "diffdist.extend(list(p0s['newmax']-p0s['oldmax']))\n",
    "diffdist.extend(list(p1s['newmax']-p0s['oldmax']))\n",
    "diffdist.extend(list(p2s['newmax']-p0s['oldmax']))\n",
    "diffdist.extend(list(p3s['newmax']-p0s['oldmax']))\n",
    "diffdist.extend(list(p4s['newmax']-p0s['oldmax']))\n"
   ]
  },
  {
   "cell_type": "code",
   "execution_count": null,
   "id": "a64cb395-2a29-44c3-a641-0db796ddc1d1",
   "metadata": {},
   "outputs": [],
   "source": [
    "plt.hist(diffdist)"
   ]
  },
  {
   "cell_type": "code",
   "execution_count": null,
   "id": "0daf1e98-bbb4-4a46-9ea0-bde33e042f97",
   "metadata": {},
   "outputs": [],
   "source": [
    "diffdist = []\n",
    "diffdist.extend(list(p0s['new_avg']-p0s['old_avg']))\n",
    "diffdist.extend(list(p1s['new_avg']-p0s['old_avg']))\n",
    "diffdist.extend(list(p2s['new_avg']-p0s['old_avg']))\n",
    "diffdist.extend(list(p3s['new_avg']-p0s['old_avg']))\n",
    "diffdist.extend(list(p4s['new_avg']-p0s['old_avg']))\n"
   ]
  },
  {
   "cell_type": "code",
   "execution_count": null,
   "id": "b70f9ded-ef59-4394-92fb-ff6389d9e4d3",
   "metadata": {},
   "outputs": [],
   "source": [
    "plt.hist(diffdist)"
   ]
  },
  {
   "cell_type": "code",
   "execution_count": null,
   "id": "597fe134-77ff-4120-8ff0-9db6373d8f70",
   "metadata": {},
   "outputs": [],
   "source": []
  }
 ],
 "metadata": {
  "kernelspec": {
   "display_name": "Python 3 (ipykernel)",
   "language": "python",
   "name": "python3"
  },
  "language_info": {
   "codemirror_mode": {
    "name": "ipython",
    "version": 3
   },
   "file_extension": ".py",
   "mimetype": "text/x-python",
   "name": "python",
   "nbconvert_exporter": "python",
   "pygments_lexer": "ipython3",
   "version": "3.8.12"
  }
 },
 "nbformat": 4,
 "nbformat_minor": 5
}
