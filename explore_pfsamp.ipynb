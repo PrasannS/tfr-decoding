{
 "cells": [
  {
   "cell_type": "code",
   "execution_count": 1,
   "id": "dbcf9396-bdbe-4f7f-ba68-ba162e784307",
   "metadata": {
    "tags": []
   },
   "outputs": [
    {
     "name": "stderr",
     "output_type": "stream",
     "text": [
      "2023-05-15 17:33:30.611982: W tensorflow/stream_executor/platform/default/dso_loader.cc:64] Could not load dynamic library 'libcudart.so.11.0'; dlerror: libcudart.so.11.0: cannot open shared object file: No such file or directory\n",
      "2023-05-15 17:33:30.612006: I tensorflow/stream_executor/cuda/cudart_stub.cc:29] Ignore above cudart dlerror if you do not have a GPU set up on your machine.\n"
     ]
    }
   ],
   "source": [
    "from transformers import T5ForConditionalGeneration, T5Tokenizer\n",
    "import torch\n",
    "from datasets import load_dataset\n",
    "import pandas as pd\n",
    "import numpy as np\n",
    "from src.tfr_decoding.finepref_sample import sample # new sampling method\n",
    "from src.utils.samp_utils import inpsampall, dset_randsamp   \n",
    "from src.tfr_decoding.shp_modeling import T5BinaryClassifier\n",
    "from prefix_sampling import PrefixSampler, test_baseline, test_pfsample, test_finesample, test_apsample"
   ]
  },
  {
   "cell_type": "code",
   "execution_count": 2,
   "id": "00c9a28c-0b66-449e-b899-59b699a96c6e",
   "metadata": {
    "tags": []
   },
   "outputs": [],
   "source": [
    "%load_ext autoreload\n",
    "%autoreload 2"
   ]
  },
  {
   "cell_type": "code",
   "execution_count": null,
   "id": "7a1ab479-7aed-4d15-8e58-ff17936ed3cb",
   "metadata": {
    "tags": []
   },
   "outputs": [],
   "source": [
    "# first load relevant models\n",
    "device = 'cuda:0' # if you have a GPU\n",
    "pfmod_path = \"./lightning_logs/version_4/checkpoints/epoch=2-step=23950.ckpt\"\n",
    "\n",
    "# get generation model\n",
    "tokenizer = T5Tokenizer.from_pretrained(\"google/flan-t5-xxl\")\n",
    "\n",
    "qpref = T5BinaryClassifier.load_from_checkpoint(pfmod_path)\n",
    "model = T5ForConditionalGeneration.from_pretrained(\"google/flan-t5-xxl\", device_map=\"auto\")#.to(device)\n",
    "#model.sample = sample.__get__(model)\n",
    "model.tokenizer = tokenizer\n",
    "model.tok = tokenizer\n",
    "pfname = 'stanfordnlp/SteamSHP-flan-t5-large'\n",
    "max_len = 512\n",
    "learning_rate = 3e-5\n",
    "preftok = T5Tokenizer.from_pretrained(pfname)\n",
    "\n",
    "model.qualitypref = qpref\n",
    "#model.stdpref = T5BinaryClassifier.load_from_checkpoint(\"./lightning_logs/version_11/checkpoints/epoch=3-step=3359.ckpt\")\n",
    "# set up relevant mdoels\n",
    "model.downmetric = T5ForConditionalGeneration.from_pretrained('stanfordnlp/SteamSHP-flan-t5-xl').to(device)\n",
    "model.downtok = T5Tokenizer.from_pretrained('stanfordnlp/SteamSHP-flan-t5-xl')\n",
    "model.eval()"
   ]
  },
  {
   "cell_type": "code",
   "execution_count": 4,
   "id": "818d366d-de92-40ac-a465-90a28df8a535",
   "metadata": {
    "tags": []
   },
   "outputs": [],
   "source": [
    "# load up our dataset\n",
    "elidf = pd.read_json(\"output/elidataset.jsonl\", orient=\"records\", lines=\"true\")\n",
    "# start from 15000 for latest exploration\n",
    "elidf = elidf.drop_duplicates(subset=\"history\").iloc[15000:15100]\n",
    "\n",
    "pfsampler = PrefixSampler(model)\n",
    "inplist = list(elidf['history'])"
   ]
  },
  {
   "cell_type": "code",
   "execution_count": null,
   "id": "618952d9-5dda-4a5d-a9c9-acfd217d1c3a",
   "metadata": {
    "tags": []
   },
   "outputs": [],
   "source": [
    "with torch.no_grad():\n",
    "    finesample_df = test_finesample(inplist, pfsampler, 9, 3, 6, 5)\n",
    "    finesample_df.to_json(\"output/hparam_explore/fsamp.jsonl\", orient=\"records\", lines=True)"
   ]
  },
  {
   "cell_type": "code",
   "execution_count": null,
   "id": "3fe83fa7-2bcc-40e6-8fb2-ca9dd2e0e0d4",
   "metadata": {
    "tags": []
   },
   "outputs": [],
   "source": [
    "with torch.no_grad():\n",
    "    finesample_df = test_apsample(inplist[:10], pfsampler, 0.85, 3, 1, 3)\n"
   ]
  },
  {
   "cell_type": "code",
   "execution_count": null,
   "id": "ad03fd2b-0f43-4dc2-925c-8b2fffcad014",
   "metadata": {},
   "outputs": [],
   "source": [
    "with torch.no_grad():\n",
    "    finesample_df = test_pfsample(inplist[:10], pfsampler, 0.85, 3, 1, 3)"
   ]
  },
  {
   "cell_type": "code",
   "execution_count": 20,
   "id": "1ae877c7-eee4-42af-b4cc-9dd5d4d344bd",
   "metadata": {
    "tags": []
   },
   "outputs": [
    {
     "data": {
      "text/plain": [
       "137.4"
      ]
     },
     "execution_count": 20,
     "metadata": {},
     "output_type": "execute_result"
    }
   ],
   "source": [
    "finesample_df['budgets'].mean()"
   ]
  },
  {
   "cell_type": "code",
   "execution_count": 3,
   "id": "31afa11d-e068-4f5e-80ac-a2584187d0fc",
   "metadata": {
    "tags": []
   },
   "outputs": [],
   "source": [
    "a1 = pd.read_json(\"output/pfsample/finesamp.jsonl\", orient=\"records\", lines=True)\n"
   ]
  },
  {
   "cell_type": "code",
   "execution_count": 5,
   "id": "0881e375-7c8d-4a53-b5fb-2dd514ee1fe9",
   "metadata": {
    "tags": []
   },
   "outputs": [
    {
     "data": {
      "text/plain": [
       "115.71"
      ]
     },
     "execution_count": 5,
     "metadata": {},
     "output_type": "execute_result"
    }
   ],
   "source": [
    "a1.budgets.mean()"
   ]
  },
  {
   "cell_type": "code",
   "execution_count": null,
   "id": "53e3bea4-c6cd-42fb-802d-5c648b4bfec0",
   "metadata": {
    "tags": []
   },
   "outputs": [
    {
     "name": "stdout",
     "output_type": "stream",
     "text": [
      "monkeysamp\n",
      "monkeysamp\n",
      "monkeysamp\n",
      "monkeysamp\n",
      "monkeysamp\n",
      "monkeysamp\n",
      "monkeysamp\n",
      "monkeysamp\n",
      "monkeysamp\n",
      "monkeysamp\n",
      "monkeysamp\n",
      "monkeysamp\n",
      "monkeysamp\n",
      "monkeysamp\n",
      "monkeysamp\n",
      "monkeysamp\n",
      "monkeysamp\n",
      "monkeysamp\n",
      "monkeysamp\n",
      "monkeysamp\n",
      "monkeysamp\n",
      "monkeysamp\n",
      "monkeysamp\n",
      "monkeysamp\n",
      "monkeysamp\n",
      "monkeysamp\n",
      "monkeysamp\n",
      "monkeysamp\n",
      "monkeysamp\n",
      "monkeysamp\n",
      "monkeysamp\n",
      "monkeysamp\n",
      "monkeysamp\n",
      "monkeysamp\n",
      "monkeysamp\n",
      "monkeysamp\n",
      "monkeysamp\n",
      "monkeysamp\n",
      "monkeysamp\n",
      "monkeysamp\n",
      "monkeysamp\n",
      "monkeysamp\n",
      "monkeysamp\n",
      "monkeysamp\n",
      "monkeysamp\n",
      "monkeysamp\n",
      "monkeysamp\n"
     ]
    }
   ],
   "source": [
    "adaptbase_df = test_baseline(inplist, pfsampler, .85, 4)\n",
    "pfsample_df = test_pfsample(inplist, pfsampler, 18, [10, 20])\n",
    "\n",
    "adaptbase_df.to_json(\"output/pfsample/abase.jsonl\", lines=True, orient='records')\n",
    "pfsample_df.to_json(\"output/pfsample/pfsample.jsonl\", lines=True, orient='records')"
   ]
  },
  {
   "cell_type": "code",
   "execution_count": 8,
   "id": "0dc29f47-d147-4514-b36f-c9d6a6722167",
   "metadata": {
    "tags": []
   },
   "outputs": [
    {
     "name": "stdout",
     "output_type": "stream",
     "text": [
      "130.4\n",
      "0.809410572052002\n"
     ]
    }
   ],
   "source": [
    "print(adaptbase_df['budgets'].mean())\n",
    "print(adaptbase_df['scos'].mean())"
   ]
  },
  {
   "cell_type": "code",
   "execution_count": 12,
   "id": "dd88b5cf-0f4a-4be8-b020-d8b76d99aa98",
   "metadata": {
    "tags": []
   },
   "outputs": [
    {
     "name": "stdout",
     "output_type": "stream",
     "text": [
      "253.6\n",
      "0.8504377722740173\n"
     ]
    }
   ],
   "source": [
    "print(pfsample_df['budgets'].mean())\n",
    "print(pfsample_df['scos'].mean())"
   ]
  },
  {
   "cell_type": "code",
   "execution_count": 26,
   "id": "024b5380-5722-40a7-b892-0c9b410042de",
   "metadata": {
    "tags": []
   },
   "outputs": [
    {
     "name": "stdout",
     "output_type": "stream",
     "text": [
      "monkeysamp\n",
      "monkeysamp\n",
      "monkeysamp\n",
      "monkeysamp\n",
      "monkeysamp\n",
      "monkeysamp\n",
      "monkeysamp\n",
      "monkeysamp\n",
      "monkeysamp\n",
      "monkeysamp\n",
      "monkeysamp\n",
      "monkeysamp\n",
      "monkeysamp\n",
      "monkeysamp\n",
      "monkeysamp\n",
      "monkeysamp\n",
      "monkeysamp\n",
      "monkeysamp\n"
     ]
    }
   ],
   "source": [
    "adaptbase_df = test_baseline(inplist, pfsampler, .85, 2)"
   ]
  },
  {
   "cell_type": "code",
   "execution_count": 27,
   "id": "e2b42ab9-bbce-4906-8785-cd1c6f0bb6ed",
   "metadata": {},
   "outputs": [
    {
     "name": "stdout",
     "output_type": "stream",
     "text": [
      "129.2\n",
      "0.8531928896903992\n"
     ]
    }
   ],
   "source": [
    "print(adaptbase_df['budgets'].mean())\n",
    "print(adaptbase_df['scos'].mean())"
   ]
  },
  {
   "cell_type": "code",
   "execution_count": null,
   "id": "a9ff40f7-eccb-44b8-b82c-f8948a862c5f",
   "metadata": {},
   "outputs": [],
   "source": []
  }
 ],
 "metadata": {
  "kernelspec": {
   "display_name": "Python 3 (ipykernel)",
   "language": "python",
   "name": "python3"
  },
  "language_info": {
   "codemirror_mode": {
    "name": "ipython",
    "version": 3
   },
   "file_extension": ".py",
   "mimetype": "text/x-python",
   "name": "python",
   "nbconvert_exporter": "python",
   "pygments_lexer": "ipython3",
   "version": "3.8.12"
  }
 },
 "nbformat": 4,
 "nbformat_minor": 5
}
