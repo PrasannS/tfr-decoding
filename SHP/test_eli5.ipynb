{
 "cells": [
  {
   "cell_type": "code",
   "execution_count": 1,
   "id": "0f63bf19-de53-4a73-b46e-f8636e78a084",
   "metadata": {},
   "outputs": [
    {
     "name": "stderr",
     "output_type": "stream",
     "text": [
      "2023-03-03 02:41:18.093361: W tensorflow/stream_executor/platform/default/dso_loader.cc:64] Could not load dynamic library 'libcudart.so.11.0'; dlerror: libcudart.so.11.0: cannot open shared object file: No such file or directory\n",
      "2023-03-03 02:41:18.093381: I tensorflow/stream_executor/cuda/cudart_stub.cc:29] Ignore above cudart dlerror if you do not have a GPU set up on your machine.\n"
     ]
    }
   ],
   "source": [
    "from transformers import T5ForConditionalGeneration, T5Tokenizer\n",
    "import torch\n",
    "from datasets import load_dataset\n",
    "import pandas as pd\n",
    "from readability import Readability\n",
    "\n",
    "device = 'cuda:3' # if you have a GPU"
   ]
  },
  {
   "cell_type": "code",
   "execution_count": 2,
   "id": "0e1ca671-1ed7-432b-9909-cbbdedfce888",
   "metadata": {},
   "outputs": [
    {
     "data": {
      "application/vnd.jupyter.widget-view+json": {
       "model_id": "abc5bb0637cf4efc8b617cc395b0383c",
       "version_major": 2,
       "version_minor": 0
      },
      "text/plain": [
       "Loading checkpoint shards:   0%|          | 0/2 [00:00<?, ?it/s]"
      ]
     },
     "metadata": {},
     "output_type": "display_data"
    }
   ],
   "source": [
    "tokenizer = T5Tokenizer.from_pretrained(\"google/flan-t5-xl\")\n",
    "model = T5ForConditionalGeneration.from_pretrained(\"google/flan-t5-xl\").to(device)"
   ]
  },
  {
   "cell_type": "code",
   "execution_count": 28,
   "id": "b5fcb5f1-77ac-4c73-aad9-bdaebb7db6f4",
   "metadata": {},
   "outputs": [
    {
     "data": {
      "application/vnd.jupyter.widget-view+json": {
       "model_id": "062d374b55b74d39ac3af9702cde5482",
       "version_major": 2,
       "version_minor": 0
      },
      "text/plain": [
       "Loading checkpoint shards:   0%|          | 0/2 [00:00<?, ?it/s]"
      ]
     },
     "metadata": {},
     "output_type": "display_data"
    }
   ],
   "source": [
    "steamtok = T5Tokenizer.from_pretrained('stanfordnlp/SteamSHP-flan-t5-xl')\n",
    "steamshp = T5ForConditionalGeneration.from_pretrained('stanfordnlp/SteamSHP-flan-t5-xl').to(device)"
   ]
  },
  {
   "cell_type": "code",
   "execution_count": 3,
   "id": "5bb2eb18-b327-4249-94c2-37efdbe8214c",
   "metadata": {},
   "outputs": [
    {
     "name": "stderr",
     "output_type": "stream",
     "text": [
      "Using custom data configuration stanfordnlp--shp-9d14343f6fc5ff1a\n",
      "Reusing dataset json (/home/prasann/.cache/huggingface/datasets/stanfordnlp___json/stanfordnlp--shp-9d14343f6fc5ff1a/0.0.0/ac0ca5f5289a6cf108e706efcf040422dbbfa8e658dee6a819f20d76bb84d26b)\n"
     ]
    },
    {
     "data": {
      "application/vnd.jupyter.widget-view+json": {
       "model_id": "d2f3d2059dd046b5bae0a831d710a902",
       "version_major": 2,
       "version_minor": 0
      },
      "text/plain": [
       "  0%|          | 0/3 [00:00<?, ?it/s]"
      ]
     },
     "metadata": {},
     "output_type": "display_data"
    }
   ],
   "source": [
    "eli5 = load_dataset(\"stanfordnlp/shp\", data_dir=\"explainlikeimfive\")"
   ]
  },
  {
   "cell_type": "code",
   "execution_count": null,
   "id": "f6a73833-5a86-40eb-8ab8-1b0ccfa5d2aa",
   "metadata": {},
   "outputs": [],
   "source": [
    "eli5['test'][20]"
   ]
  },
  {
   "cell_type": "code",
   "execution_count": 27,
   "id": "fe8f5fe6-2f56-4586-957d-77117cfcc4c0",
   "metadata": {},
   "outputs": [],
   "source": [
    "def construct_prompt(row):\n",
    "    template = \\\n",
    "\"\"\"\n",
    "The system will write a detailed and long post to respond to the user's question. Explain like the user is five years old. \n",
    "\n",
    "Question: \"\"\"\n",
    "    inp = template+row['history']+\"\\n Detailed Response:\"\n",
    "    \n",
    "    \n",
    "    return inp\n",
    "\n",
    "def get_reward_single(inpdict):\n",
    "    template = \"POST: {context:s} \\n\\nRESPONSE A:{hyp:s} \\n\\nRESPONSE B: .\\n\\n Which response is better? RESPONSE \"\n",
    "    inp = template.format(context=inpdict['context'], hyp=inpdict['hyp'])\n",
    "    x = steamtok([inp], return_tensors='pt').input_ids.to(device)\n",
    "    outputs = steamshp.generate(x, return_dict_in_generate=True, output_scores=True, max_new_tokens=1)\n",
    "    return torch.exp(outputs.scores[0][:, 71]) / torch.exp(outputs.scores[0][:,:]).sum(axis=1).item() # index 71 corresponds to the token for 'A'\n",
    "\n",
    "\n",
    "def gen_row(rw, tok, mod, greedy=False, log=False):\n",
    "    input_text = construct_prompt(rw)\n",
    "    \n",
    "    #print(input_text)\n",
    "    input_ids = tok(input_text, return_tensors=\"pt\").input_ids.to(device)\n",
    "    if greedy:\n",
    "        outputs = mod.generate(input_ids, min_new_tokens=20, max_new_tokens=200)\n",
    "        outs = [tok.decode(outputs[0], skip_special_tokens=True)]\n",
    "    else: \n",
    "        outputs = mod.generate(input_ids, min_new_tokens=20, max_new_tokens=200, do_sample=True, top_p=.9, temperature=.9, num_return_sequences=10)\n",
    "        outs = [tok.decode(o, skip_special_tokens=True) for o in outputs]\n",
    "    if log:\n",
    "        print(input_text+\"\\n\"+str(outs))\n",
    "    return rw['history'], outs\n",
    "\n",
    "def comp_rerank_greedy(row):\n",
    "    inp, outs = gen_row(row, tokenizer, model, False) # do sampling for rerank\n",
    "    _, greedy_out = gen_row(row, tokenizer, model, True) # do greedy \n",
    "    scos = [get_reward_single({'context':inp, 'hyp':o}) for o in outs]\n",
    "    greedysco = get_reward_single({'context':inp, 'hyp':greedy_out[0]})\n",
    "    # return list of stuff to put in dict \n",
    "    return pd.DataFrame(list([{'gout':greedy_out[0], 'gsco':greedysco, 'inp':inp, 'hyp':outs[i], 'sco':scos[i]} for i in range(len(scos))]))\n",
    "\n",
    "def get_many_exouts(indf, total):\n",
    "    resdfs = []\n",
    "    for i in range(total):\n",
    "        print(i)\n",
    "        resdfs.append(comp_rerank_greedy(indf.iloc[i]))\n",
    "    return pd.concat(resdfs)\n"
   ]
  },
  {
   "cell_type": "code",
   "execution_count": null,
   "id": "cf9286b8-0dc9-4fc7-90b2-213404e94bc0",
   "metadata": {},
   "outputs": [],
   "source": [
    "gen_row(eli5['test'][300], tokenizer, model, False, True)"
   ]
  },
  {
   "cell_type": "code",
   "execution_count": 23,
   "id": "d5106f1f-8c4e-4eb2-a66d-0250599c7791",
   "metadata": {},
   "outputs": [],
   "source": [
    "eli5df = pd.DataFrame(eli5['test'])\n",
    "unique_df = eli5df.drop_duplicates(subset=\"history\")"
   ]
  },
  {
   "cell_type": "code",
   "execution_count": 31,
   "id": "d9dac72a-f41f-4865-8019-25f6e6e6159a",
   "metadata": {},
   "outputs": [
    {
     "name": "stdout",
     "output_type": "stream",
     "text": [
      "86\n",
      "87\n",
      "88\n",
      "89\n",
      "90\n",
      "91\n",
      "92\n",
      "93\n",
      "94\n",
      "95\n",
      "96\n",
      "97\n",
      "98\n",
      "99\n"
     ]
    }
   ],
   "source": [
    "eli5outs = get_many_exouts(unique_df, 100)"
   ]
  },
  {
   "cell_type": "code",
   "execution_count": 49,
   "id": "17a882e4-8c68-4044-a096-cf2fd075160d",
   "metadata": {},
   "outputs": [],
   "source": [
    "eli5outs.to_csv(\"eli5_check.csv\")"
   ]
  },
  {
   "cell_type": "code",
   "execution_count": 50,
   "id": "1239160b-823e-45d7-bb0f-fba2fd8e42f2",
   "metadata": {},
   "outputs": [
    {
     "data": {
      "text/plain": [
       "0.724672908037901"
      ]
     },
     "execution_count": 50,
     "metadata": {},
     "output_type": "execute_result"
    }
   ],
   "source": [
    "eli5outs['gsco'].mean()"
   ]
  },
  {
   "cell_type": "code",
   "execution_count": 48,
   "id": "00047614-8247-4fb4-b7a5-35325e785de1",
   "metadata": {},
   "outputs": [],
   "source": [
    "eli5outs['gsco'] = [float(f) for f in eli5outs['gsco']]\n",
    "eli5outs['sco'] = [float(f) for f in eli5outs['sco']]"
   ]
  },
  {
   "cell_type": "code",
   "execution_count": 46,
   "id": "f3862fb2-d655-4cd8-a5a2-50ba69d2dedd",
   "metadata": {},
   "outputs": [],
   "source": [
    "def rer_met(rer, tgt, df, get_df=False):\n",
    "    N=1\n",
    "    fsort = df.sort_values(by=['gout', rer], ascending=[True, False]).groupby('gout', as_index=False).nth[:N]\n",
    "    if get_df:\n",
    "        return fsort\n",
    "    else:\n",
    "        return fsort[tgt].mean()\n",
    "    \n",
    "def print_data(ind, indf, outsdf):\n",
    "    hist = outsdf.iloc[ind*10]['inp']\n",
    "    pmpt = construct_prompt(indf[indf['history']==hist].iloc[0])\n",
    "    print(pmpt)\n",
    "    outs = outsdf.iloc[ind*10:(ind+1)*10]\n",
    "    print(\"Greedy Output: \\n\", outs['gsco'].iloc[0], \" \", outs['gout'].iloc[0], \"\\n\")\n",
    "    print(\"Sampling Output: \\n\")\n",
    "    for o in range(10):\n",
    "        print( outs['sco'].iloc[o], \" \",outs['hyp'].iloc[o], \"\\n\") "
   ]
  },
  {
   "cell_type": "code",
   "execution_count": 65,
   "id": "f64bf6ff-18ca-4416-bf2e-870be3387881",
   "metadata": {},
   "outputs": [
    {
     "name": "stdout",
     "output_type": "stream",
     "text": [
      "\n",
      "The system will write a detailed and long post to respond to the user's question. Explain like the user is five years old. \n",
      "\n",
      "Question: Explain like I'm five years old: Why are we so concerned with automation and/or robots taking our jobs when our society has already survived exponential shifts in machinery, such as the Industrial Revolution?\n",
      " Detailed Response:\n",
      "Greedy Output: \n",
      " 0.7006894946098328   The Industrial Revolution was a period of rapid technological change that radically changed the way we live. \n",
      "\n",
      "Sampling Output: \n",
      "\n",
      "0.4248104691505432   Yes, the Industrial Revolution was about mass production and mass production. If you think about the industrial revolution, it is an example of mass production. But what are we so concerned with? \n",
      "\n",
      "0.8918374180793762   Automation and robots taking our jobs has not been so concerning if you look at the history of technology, and especially if you look at the Industrial Revolution. It was the development of technology that produced more jobs. The same was true for the early industrial revolution, when the development of the motor fueled the economy. Today, technology and automation are often considered as the same. \n",
      "\n",
      "0.8585873246192932   \"I'm not sure you're asking the right question. If you're asking what are the effects of automation, the answer would be that it will change the way we live our lives. If you want to talk about the impact on our jobs, then you should talk about the impact of robots and automation. \n",
      "\n",
      "0.8579912781715393   We do not need to worry about the loss of our jobs. Our technology has evolved, and the majority of our existing jobs will be replaced by machines and robots. It will be the \"good\" new jobs that will be lost. \n",
      "\n",
      "0.8223679065704346   This is a great question and a great question for us to answer. The most effective way to answer it is to look at the historical context. The Industrial Revolution was a shift in technology, an industrial revolution. It was a shift from a \"soylent green\" era to an industrial one. The second industrial revolution was a shift from a \"manhattan\" era to an industrial one. \n",
      "\n",
      "0.4792371094226837   . The Industrial Revolution was a period of exponential technological progress in the history of the United Kingdom. It was followed by the 19th century Industrial Revolution. \n",
      "\n",
      "0.6773663759231567   The Industrial Revolution was a time when new technologies came on the scene and dramatically altered the way we worked. \n",
      "\n",
      "0.9062076807022095   No. Automation and robots are not the same thing. The difference between the two is the speed at which the technology is introduced into the economy and the way people are using it. Machines are designed to help humans, not replace them. \n",
      "\n",
      "0.6000019907951355   Automation and robots are not the same thing, but there is a lot of concern over robotics taking our jobs, particularly because of the fear that it will result in a loss of jobs in the future. \n",
      "\n",
      "0.8614209294319153   The system wrote: Why are we so concerned with automation and/or robots taking our jobs when our society has already survived exponential shifts in machinery, such as the Industrial Revolution? \n",
      "\n"
     ]
    }
   ],
   "source": [
    "print_data(91, unique_df, eli5outs)"
   ]
  },
  {
   "cell_type": "code",
   "execution_count": 38,
   "id": "6b13fc7e-3c9a-4b6c-a13a-2b1a1d29e6ac",
   "metadata": {},
   "outputs": [
    {
     "data": {
      "text/plain": [
       "0.8693058776855469"
      ]
     },
     "execution_count": 38,
     "metadata": {},
     "output_type": "execute_result"
    }
   ],
   "source": [
    "rer_met('sco', 'sco', eli5outs)"
   ]
  },
  {
   "cell_type": "code",
   "execution_count": 21,
   "id": "6c499268-9c1a-469f-98fa-199483528836",
   "metadata": {},
   "outputs": [],
   "source": [
    "unique_conts = list(set(hists))"
   ]
  },
  {
   "cell_type": "code",
   "execution_count": 22,
   "id": "42accd2a-1764-4259-b6fb-ef1e39908cc5",
   "metadata": {},
   "outputs": [
    {
     "data": {
      "text/plain": [
       "[\"Explain like I'm five years old What keeps bed bugs in check? Why haven't they taken over the world? Do they have any natural enemies? They seem pretty unstoppable - easy breeders, can live a long time without food, can survive harsh conditions, easy hitch hikers, and they feed on an endless supply of human blood.\",\n",
       " \"Explain like I'm five years old: Why do some animals, like sea turtles and salmon, lay eggs away from their natural habitat? This might be a strange question, but why do sea turtles lay eggs on land and not for example dig up holes inside the ocean? They live their whole lives in the ocean, so why do they lay eggs on land? Why travel so far just to lay eggs?  Same goes for some salmon, why do they leave the oceans and lakes, and go upstream on rivers and not lay their eggs where they live?   It is probably something to do with protecting their offspring, but it seems to me that they still have predators that hunt their offspring fairly easily where they hatch/lay their eggs, so maybe there is another reason as well?\",\n",
       " \"Explain like I'm five years old: How do they manage to constantly provide hot water to all the rooms in big buildings like hotels?\",\n",
       " \"Explain like I'm five years old: When searching for life on other planets, why do we look for oxygen when the species there could have a completely different structure where they don't need oxygen at all?\",\n",
       " \"Explain like I'm five years old: Why do humans move while listening to music (headbobs, dancing and foot tapping)?\",\n",
       " \"Explain like I'm five years old: Where did the ongoing ‘do a good deed and the mayor of the town congratulates you with the key to the city’ in movies & shows come from? Was that ever a real thing? I’m watching family guy & Peter found a missing kid and as a reward the mayor gave him the key to the city (or town hall?).  I’ve also seen this happen in a few other movies.   Was this ever a real thing? Is this an inside joke I’m not aware of?\",\n",
       " \"Explain like I'm five years old:Why is the ocean water so clear in places like the Caribbean but not at US beaches? I think the question speaks for itself.\",\n",
       " 'Eli5 How do animals and insects get so specific with their camouflage? Like dry leaves or shapes of animals. How do they know what to mimic??',\n",
       " \"Explain like I'm five years old - Why do harmonies sound good to our ears? Not melodies, harmonies.  Here is a good example.  I'm sure some of you will launch into complex descriptions of what harmony is, but I'm curious if anyone has cracked *why* it sounds good.\",\n",
       " \"Explain like I'm five years old: How do produce stands in NYC, Montreal, and other major cities sell their items for less than most big box chains? In NYC, there are plenty of produce vendors on the street that sell aesthetic, fresh fruit for less than cost conscious mega-chains, like Wal Mart, Trader Joes, and Wegmans. The big chains have negotiating power, wholesale discounts, and economies of scale to help them profit on tiny margins. So, how is it that my small, local, fruit stand can outcompete pricewise with national chains and still stay afloat?\",\n",
       " \"Explain like I'm five years old: How does our brain keep track of time? Last night I went to bed sorta late and forgot to set an alarm, but I remember thinking it'd be nice to wake up around nine.  I woke up at EXACTLY 9 AM - literally to a minute. Could be a coincidence, except I do tend to wake up around nine on most days, with or without an alarm. Only exceptions are when I go to bed extremely late and force my body to take longer to recover, I suppose.  Made me think of my late Grandma who kept telling me how she can set an alarm in her head and wake up at any time she wants. I always thought it's bullshit.  I mean, if that was true, how would that even work? Time is a concept, and a relatively new one at that; IIRC we only started really counting minutes and seconds around the Industrial Revolution? Of course there's sunrises and sunsets and the whole natural circadian rhytm thing, but most people are detached from it anyway.   Does our brain learn to count hours and minutes somehow because our lives revolve around that so much? Is it all just a big ol' bias of some sort?\",\n",
       " 'Explain like I\\'m five years old: Why are stars and planets named with weird combinations of letters and numbers? I was reading this article (https://www.vice.com/en/article/z34883/scie-discover-huge-extragalactic-structure-in-zone-of-avoidance) and it talks about how a new galaxy cluster is named \"VVVGCl-B J181435-381432\"  Does naming a galaxy cluster like this really help people in this field of study know what it is they\\'re talking about?',\n",
       " \"Explain like I'm five years old: Many elements found in nature are radioactive. I understand that they are probably generally in low concentrations, but you'd think with billions of people spread out all over the world, random radiation poisoning would be much more common. Why isn't it? If elements like Uranium appear in concentrations high enough to be mined how do people near Uranium or Radium deposits not just get constantly exposed to dangerous levels of radiation? Or do they and we just attribute their illnesses/cancers to other factors?\",\n",
       " \"Explain like I'm five years old: The maximum limits to human lifespan appears to be around 120 years old. Why does the limit to human life expectancy seem to hit a ceiling at this particular point?\",\n",
       " '[eli5] My friend put the car to neutral when coming to a stop light. He says it saves gas and it stops smoother. I agree on the smoother part, but does it actually save gas? He also put it to neutral when waiting for the lights to turn green for the same reason. Is it true?',\n",
       " \"Explain like I'm five years old: Why is the seemingly more complicated part of playing the guitar done with the non-dominant hand? When a right-handed person plays guitar, they typically use their right hand to strum the strings while manipulating their left hand on the neck to adjust notes and chords (or something; I’m not a musician). It seems to me the fingerings along the neck require more dexterity than the strumming and would be easier to do with the dominant hand.\",\n",
       " \"Explain like I'm five years old: How can soft drinks like Coca-Cola Zero have almost 0 calories in them? Is there some other detriment to your health because of that lack of calories?\",\n",
       " \"Explain like I'm five years old: If all noise cancelling headphones do is reverse the soundwaves coming into them in order to ‘cancel’ the background noise, why can’t they cancel a sine wave completely?\",\n",
       " \"Explain like I'm five years old: When you're at the departures/arrival immigration counter of an airport, and you hand over your passport to the immigration official, what are they doing when they start frantically typing away at their keyboard? what takes them (sometimes) so long, and what are they looking for?\",\n",
       " \"Explain like I'm five years old: How do farmers control whether a chicken lays an eating egg or a reproductive egg and how can they tell which kind is laid?\",\n",
       " \"Explain like I'm five years old: Why is heart cancer so rare compared to other types of cancer?\",\n",
       " \"Explain like I'm five years old: How do people not die when their heart is removed during a heart transplant? How are patients kept alive between the time the damaged heart is removed and when it is replaced with a healthier one?\",\n",
       " \"Explain like I'm five years old: How did ancient people know that the earth was round?\",\n",
       " \"Explain like I'm five years old: How come eyebrow, eyelash, arm hairs, ect only grow to a certain point, but when you shave them they grow back? How does it know it's been shaved? Why don't they continuously grow like head hair?\",\n",
       " \"Explain like I'm five years old: Why do I get goosebumps when listening to a particular moving piece of music?\",\n",
       " \"Explain like I'm five years old - How do we keep mass producing things like consoles without using up all of the world’s resources? I think about how there’s always millions of just one console out in the wild, and the current ones are always being produced; and mass production of consumer goods has been going on for years and it really makes me wonder.  And its not just consoles. PCs, Phones, TV’s, everything! If we keep making things using the Earth, will we eventually run out? How are we able to sustain this without completely depleting everything?\",\n",
       " \"Explain like I'm five years old: How is there so much variation in peoples voices to the point that we don't regularly encounter strangers who sound like people we know? I can walk around all day and not encounter a voice of someone who sounds like someone else I know, yet if I was facing away from someone I knew and heard their voice, I'd likely turn around at the sound of it. There are times where I'll see faces and think they look like someone I know, but I don't think I've ever thought to myself or commented to someone that they sound like someone I know. I don't think I've ever heard someone who's voice sounds like a celebrity that I'd recognize, unless they're doing an intentional impression.  Does the brain not seek out similar voices in the same way it may faces? Is the brain able to identify people that distinctly that it can remember their exact voice pattern and discern it from others?\",\n",
       " \"Explain like I'm five years old: Why do musical semitones mess around with a confusing sharps / flats system instead of going A, B, C, D, E, F, G, H, I, J, K, L ?\",\n",
       " \"Explain like I'm five years old: How did Queen Victoria manage to get her descendents onto the throne of so many European Monarchies? Always wondered how early 20th century Europe managed to get to a point where most of the monarchs were descended from Queen Victoria I\",\n",
       " 'eli5: Why did the life expectancy for people with down syndrome increase from 25 years in 1980 to 60 years today? I read that it was largely due to the end of the inhumane practice of institutionalizing people with Down syndrome but i don’t really understand what this means.',\n",
       " \"Explain like I'm five years old: How was the Soviet Union, despite being so poor that people were starving to death in famines, rival the US for the better part of a century?\",\n",
       " \"Explain like I'm five years old: Why do babies cry when they want to sleep instead of just sleeping? Saw this in a tweet and it had me wondering\",\n",
       " \"[Explain like I'm five years old] Why have some languages like Spanish kept the pronunciation of the written language so that it can still be read phonetically, while spoken English deviated so much from the original spelling?\",\n",
       " \"Explain like I'm five years old: If Chinese Mandarin is a tonal language, then how can people understand modern Chinese songs?\",\n",
       " \"Explain like I'm five years old: In regards to the James Webb telescope(congrats, NASA!): How does the solar shield NOT act like a solar wind sail, which would cause the telescope to be steadily pushed away from us and require frequent re-alignment?\",\n",
       " \"Explain like I'm five years old why boiled egg shells can sometimes be easy to peel and other times stick and take chunks of egg with them\",\n",
       " \"Explain like I'm five years old: Why is the Lion so widely used in European Heraldy even though they are mostly found in Africa? Why are Lions used so much on European Heraldry, especially British/English ones, despite lions being primarily found in Africa?\",\n",
       " \"Explain like I'm five years old how do non drug induced Visual Hallucinations work ? what happens in the brain that makes the eyes see something that isn't there?\",\n",
       " \"Explain like I'm five years old: What does the black rectangle clipper when filming films and movies actually do? Why do they need one at all? I always wondered this\",\n",
       " \"Explain like I'm five years old: at what point does electricity stop in water? Obviously if we put live electricity in the sea, the whole ocean wouldn’t then become dangerous with it. At what point does the electricity stop? What stops it?\",\n",
       " \"Explain like I'm five years old: Why do datacenters continuously use more water instead of recycling the same water in a closed loop system?\",\n",
       " \"Explain like I'm five years old: How were atomic bomb testings filmed? I know this may be a somewhat obscure question, but when Little Boy was dropped on Hiroshima, the surface temperature of the epicenter reached upwards of 6,000 Celsius. When dealing with such extreme temperatures, how were atomic bomb testings recorded, as seen in this video. (The Upshot-Knothole Grable test)  How was it possible to provide the close up shots that begin at the 1:00 mark of the above video? Wouldn't the camera melt/be absolutely destroyed in the blast?\",\n",
       " \"Explain like I'm five years old: We drink water, we eat salt, why can't we drink Saltwater?\",\n",
       " \"Explain like I'm five years old: How are different programming languages translated in countries that speak different spoken languages\",\n",
       " \"Explain like I'm five years old: Why are YouTube videos in 480p resolution almost always larger (in file size) than those in 720p resolution? 480p use a slightly higher bitrate, but why does that make sense?\",\n",
       " \"Explain like I'm five years old: Why during a car crash or any accident do we get hurt more from having our muscles tense? Don't we tense up to protect ourselves?\",\n",
       " \"Explain like I'm five years old: if the colon has no pain receptors, why does trapped gas hurt so much? I've had a colonoscopy (without pain relief) where they took biopsies. The doctors said the biopsies wouldn't hurt because the colon couldn't feel pain, and they were indeed painless. The amount of air they pumped in was horrifically painful however.   Trapped gas sounds trivial, but can also be extremely painful. Ulcerative colitis also hurts. So does diarrhoea.   So how do these pain mechanisms work? What causes the pain, if the interior of the colon is unfeeling?\",\n",
       " \"Explain like I'm five years old: How do power grids actually work? I get the idea that power is generated by large power plants that send through various transformers until it gets to my house. What I don’t understand is how the power grid knows electricity is being used. When my solar panels send electricity back to the grid, where does it go? Do the power plants constantly adjust production based on momentary demand or is there a such thing as power storage for the grid?\",\n",
       " \"Explain like I'm five years old: If all elements were created from Hydrogen, why isn't it possible to split a higher element to a lower one, eg. Oxygen into Carbon and Helium? Feel like this belongs on my high thoughts but I wanted a decent explanation\",\n",
       " \"Explain like I'm five years old: Why do small open wounds and burns get itchy while healing?\",\n",
       " \"Explain like I'm five years old: The Trans-Pacific Partnership deal Please post all your questions and explanations in this thread.   Thanks!\",\n",
       " \"Explain like I'm five years old what is the actual real-world application of prime numbers? Or is it just a math concept that’s neat to see and figure out but doesn’t have any actual use case? I read that they have some uses within online encryption, but to be honest I never really thought about why we learned them in school until this morning.\",\n",
       " \"Explain like I'm five years old: Why are Arabic numerals so much simpler in construction than Arabic letters?\",\n",
       " \"Explain like I'm five years old: How can the US power grid struggle with ACs in the summer, but be (allegedly) capable of charging millions of EVs once we all make the switch? Currently we are told the power grid struggles to handle the power load demand during the summer due to air conditioners. Yet scientists claim this same power grid could handle an entire nation of EVs. How? What am I missing?\",\n",
       " \"Explain like I'm five years old: How did we make plastic that isn't biodegradable and is so bad for the planet, out of materials only found on Earth? I just wondered how we made these sorts of things when everything on Earth works together and naturally decomposes.\",\n",
       " \"Explain like I'm five years old: How do microphones work? I just do not get it.\",\n",
       " \"Explain like I'm five years old : Why do they say the area around the sun is hotter than the surface itself, it doesn't make any sense. How can the empty space around the sun be millions of degrees hot and the surface only thousands ? it doesn't make any sense.\",\n",
       " \"Explain like I'm five years old: If depth perception works because the brain checks the difference in the position of the object between the two eyes and concludes how far away it is, how can we still see depth when one eye is closed?\",\n",
       " \"Explain like I'm five years old: Why do planets like Pluto (and non-planets like the moon) have a seemingly large number of craters in them compared to Earth? Wouldn't a small planet like Pluto be missed by the vast majority of asteroids?\",\n",
       " \"Explain like I'm five years old: Why people test cocaine on their gum line?\",\n",
       " \"Explain like I'm five years old: Why does terrific mean good and terrible mean bad while both horrific and horrible mean bad?\",\n",
       " \"Explain like I'm five years old: why can I sometimes feel my pulse really strongly in a random part of my body? For example sometimes my foot will start pulsating, or my finger, or the side of my head.\",\n",
       " \"Explain like I'm five years old: How don't those engines with start/stop technology (at red lights for example) wear down far quicker than traditional engines?\",\n",
       " 'Eli5:What prevents our bodies to get rid of excess food/calories that are not necessary, and instead turns it into fat?',\n",
       " \"Explain like I'm five years old: What does it mean for a bomber plane to be nuclear weapons capable? Is dropping nukes that different from dropping conventional bombs?\",\n",
       " \"Explain like I'm five years old Why do birds such as parakeets/parrots imitate things owners say and learn phrases to 'communicate'. It appears that they enjoy it and even are affectionate.\",\n",
       " \"Explain like I'm five years old: Can a person feel pain or other sensations in a transplanted organ? And if so, how do the severed nerves connect to the rest of the body?\",\n",
       " \"Explain like I'm five years old: Why do smaller aircraft tend to have their engines on their fuselage while larger ones tend to have them on their wings?\",\n",
       " \"Explain like I'm five years old: Why do we refer to ourselves as “in the car” and not “on the car” like we are when “on a bus”? When we message people we always say “on the bus” or “on the train” but never “in the car”, “in the bus” or “in the train”. Why is this?\",\n",
       " 'eli5 How exactly is the source code of an app/software being \"locked\"? What is protecting it from being seen?',\n",
       " \"Explain like I'm five years old: How does our body know/learn not to wet the bed when we're sleeping?\",\n",
       " \"Explain like I'm five years old: What makes younger people (infants, toddlers, etc) so able to grasp the language that's spoken to them? Why is it so much harder to learn a new language or skill as an adult when you have more maturity and brain development? We've all seen younger kids being spoken to in full sentences, and they can seemingly understand things very well when they don't have a good grasp of the language themselves. How is this?\",\n",
       " 'eli5 When countries swap prisoners how are they sure the other country will actually do it?',\n",
       " \"Explain like I'm five years old: How do nurses, drug users, etc inject a drug directly into a vein? How do they know the needle tip hasn't gone through the vein or even missed it completely? I'd imagine most veins are less than 5mm in diameter, that's a pretty small target to land the tip of the needle in. How do they do it?\",\n",
       " \"Explain like I'm five years old What's the point of a band in the military? What do they do for the military? Do they fight? Do they get paid? Are they outsourced musicians or are they actually part of the military? Also, why?\",\n",
       " \"Explain like I'm five years old: Why are we so concerned with automation and/or robots taking our jobs when our society has already survived exponential shifts in machinery, such as the Industrial Revolution?\",\n",
       " \"Explain like I'm five years old: How can we contain something that gets as hot as 100M Celsius? And how can we measure it? I have been reading articles describing the progress made towards fusion energy and got intrigued by how they do it. https://www.msn.com/en-us/money/other/nuclear-fusion-reactor-sustains-plasma-at-100-million-c-for-30-seconds/ar-AA11BpC8\",\n",
       " \"Explain like I'm five years old: Why are removable batteries for electric cars not a thing? I was reading in r/science about how 'range anxiety' is keeping people away from electric cars.  (https://www.reddit.com/r/science/comments/4xym1e/range_anxiety_is_scaring_people_away_from/)  So I was why are removable batteries for electric cars not a thing, but no one has responded.  Charging technology is getting better, but still the best we can do is wait 30 minutes at a Tesla station to get about 100 more miles.    So is there a technical reason why instead of charging stations for the cars, we don't have charging stations where you drop in, quickly pull out your battery and swap it with one that is already charged?      I understand that weight could be an issue, but if you divide it up into multiple batteries that weigh no more than say 20lbs each, that would be manageable and allow the average person to be able to change it out (or you could use attendants).    Seems a system like this would allow you recharge as quickly as you can currently gas up.\",\n",
       " \"Explain like I'm five years old: Why are we told to breathe in through our nose and out of our mouth while doing sports, meditation etc?\",\n",
       " \"Explain like I'm five years old : if you disconnect a power cable, where does the electricity that is still in the cable go?\",\n",
       " \"Explain like I'm five years old: Why can't morbidly obese people just get hundreds of pounds of fat and skin removed surgically in a small series of procedures?\",\n",
       " \"Explain like I'm five years old: Why does GPS work when underground and under big buildings but radio signals, Wi-Fi, and cell phone signals struggle?\",\n",
       " \"Explain like I'm five years old When you deposited money into your bank account before computers, how/where did they record the transaction, and how did they keep current account balances for their customers? Inspired from a tending question on here. My head is hurting trying to understand how the financial world functioned before digitization.\",\n",
       " \"Eli5: why can’t we fill deserts with human waste to make it dirt? Ok this might sound a bit silly but, if cow manure is soil, and deserts can't support much plantlife because they don't have the proper soil, wouldn't relocating all human waste to deserts make them into normal dirt that can grow stuff? I figure at least moss or mushrooms or whatever grows in that stuff would form making it better suited for life and less deserty, right?\",\n",
       " \"Explain like I'm five years old Where and how does the air bag come out when the dash is one giant piece?\",\n",
       " '[eli5] Why do you have to clean ships underbelly from barnacles?',\n",
       " \"(Explain like I'm five years old) Why does water when put in the freezer turns to ice, but never snow, while when the weather is really cold, the rain turns to sleet sometimes, but can aslo turn to snow?\",\n",
       " \"Explain like I'm five years old: how are programming languages... programmed? Basicly what the title says.      I know that you can write code to let the computer know what to do when and where. but how does it know the language? where does it come from? is it a kind of a databse?\",\n",
       " \"Explain like I'm five years old: Why is the loudest sound ever reported is considered to be the Krakatoa volcanic eruption, at 180 dB and could be directly heard 5,000km away but rocket launches regularly hits 200+ dB but are only heard within the vicinity of the ignition?\",\n",
       " \"Explain like I'm five years old: After world war 1 Germany was dirt poor but how did they manage to get such huge army and inflict huge damage in world war 2 ?\",\n",
       " \"Explain like I'm five years old: Why does the planet Venus rotate in the opposite direction than most other planets in the solar system?\",\n",
       " 'ELi5: Why specifically is it oxygen that is required for life? Why does life require oxygen and not some other gas like nitrogen for example.    Is there something specific in oxygen that life needs to survive?',\n",
       " \"Explain like I'm five years old: Why do we need to refrigerate something after it's opened? What happens to that thing when it is opened? As the question says, why do we need to refrigerate something after it's opened? I have a bottle of Chipotle Sauce I got from Target, and it was happily sitting in the shelves for who knows how long unrefrigerated. It says on the label to refrigerate after opening. Why? And I don't think it's because Target is air conditioned. Some bodegas in nyc for example are un air-conditioned and will sell similar stuff.\",\n",
       " \"Explain like I'm five years old: Why can you get food poisoning from cooked chicken that has been left out for 12 hours on the counter, but not from a piece of chicken that has been stuck in your teeth for 12 hours before you brush?\",\n",
       " \"Explain like I'm five years old: Why are there so many Islamic extremist groups in the world even though the Qur'an explicitly promotes peace regardless of beliefs, race, or nationality? In the same breath, is the amount of Islamic extremists in the world a misconception propagated by Hollywood and the news media?\",\n",
       " \"Explain like I'm five years old: Sometimes there are whatsapp text messages that say click on this emoji or text and your phone hangs. How do these actually work?\",\n",
       " \"Explain like I'm five years old - Why was Edward Snowden made out to be a traitor/enemy? Didn't he do us a favor?\",\n",
       " \"Explain like I'm five years old: Why exactly are back pains so common as people age? Why is it such a common thing, what exactly causes it?   (What can a human do to ensure the least chances they get it later in their life?)\",\n",
       " \"Explain like I'm five years old : Even with a strong battery why do cars have a hard time starting in cold weather? I don't understand what is different that prevents cars from starting right up in cold weather. Fuel is present, air is there..spark plugs are ...sparking ..and as long as you have a strong battery the starter is turning the engine...why the struggle?\",\n",
       " 'Explain like I\\'m five years old Why do some words that start with a vowel need the word \"an\" instead of \"a\" in front of them but no words that end in a vowel have a rule about the next word starting with a consonant?',\n",
       " \"Explain like I'm five years old: Death of Queen Elizabeth II Megathread Elizabeth II, queen of England, died today. We expect many people will have questions about this subject. Please direct all of those questions here: other threads will be deleted.  Please remember to **be respectful**. Rule 1 does not just apply to redditors, it applies to everyone. Regardless of anyone's personal feelings about her or the royal family, there are human beings grieving the loss of a loved one.  Please remember to **be objective**. Explain like I'm five years old is not the appropriate forum to discuss your personal feelings about the royal family, any individual members of the royal family, etc. Questions and comments should be about objective topics. Opinionated discussion can be healthy, but it belongs in subreddits like /r/changemyview, not Explain like I'm five years old.\",\n",
       " \"Explain like I'm five years old: Why does tap water in a glass sometimes create small bubbles at the inside of the glass after some time and tastes not as good anymore as it did, when it got in the glass? (and at other places tap water doesn't do that seemingly) does anyone has an explanation?\",\n",
       " 'Eli5 How did travelers/crusaders in medieval times get a clean and consistent source of water',\n",
       " \"Explain like I'm five years old: How was Thailand able to avoid colonization when every other Southeast Asian countries got colonized? Literally everyone of its neighboring countries was colonized by the West for centuries except them. How were they able to succeed in maintaining their independence when everyone around them took years of political struggle to be free?\",\n",
       " \"Explain like I'm five years old: how do farmers breed cows or cattle consistently without inbreeding? Like, wouldn't they all become biologically connected at some point?\",\n",
       " \"Explain like I'm five years old: How can phones have 8gb ram in such a small formfactor and pc needs these huge 4gb ram stick?\",\n",
       " \"Explain like I'm five years old: How did Duck Hunt for the NES know where you were pointing the gun?\",\n",
       " \"Explain like I'm five years old: If the germ theory is relatively new, how do they think fermentation was happening (like wine, ale, yogurt etc.) thousands of years ago?\",\n",
       " \"Explain like I'm five years old: Since fossil fuels like Oil and Gas come from dead plants more than they do from actual dinosaurs, why is all of the accessible oil concentrated in a few small wells, instead of spread out evenly?\",\n",
       " \"Explain like I'm five years old: If electricity speed is about 300,000 km/s, why does ping of internet depend so much on the distance?\",\n",
       " \"Explain like I'm five years old: My whole family caught the same nasty stomach bug. Some of us threw up a lot, others only pooped. What was happening in our bodies to cause the different course of actions?\",\n",
       " 'ELi5: how can a single fertlized egg/cell produce a full body with so many different cell types? are we talking about extracting a compressed file or making factories which has different products to produce?',\n",
       " \"Explain like I'm five years old: when you die from blood loss, do you feel like you are dying from not being able to breathe? Because your lungs are breathing but you're not getting oxygen where it needs to go, would it feel something like suffocating?\",\n",
       " \"Explain like I'm five years old: How come bees don't sting bee farmers? I have seen videos of bee farmers just scooping up bees with their bare hands.\",\n",
       " 'Eli5: Why does ceramic break tempered glass so easily.',\n",
       " \"Explain like I'm five years old:Why does adding salt enhance the flavor of almost every food?\",\n",
       " \"Explain like I'm five years old: How can a micro-SD card store so much more data than another one with the exact same size? What's the physical difference? I was shopping a couple days ago looking for a replacement for my phone's 2gb micro-SD card and I noticed for the first time that there exist 64gb micro-SD cards.  Same exact size, shape (of course), brand and overall look. ¿What's the physical difference?\",\n",
       " \"Explain like I'm five years old: How do series like Planet Earth capture footage of things like the inside of ant hills, or sharks feeding off of a dead whale? Partially I’m wondering the physical aspect of how they fit in these places or get close enough to dangerous situations to film them; and partially I’m wondering how they seem to be in the right place at the right time to catch things like a dead whale sinking down into the ocean?   What are the odds they’d be there to capture that and how much time do they spend waiting for these types of things?\",\n",
       " \"Explain like I'm five years old: If WhatsApp messages are end to end encrypted, how can WhatsApp show me the code used to encrypt those messages?\",\n",
       " \"Explain like I'm five years old: Why do AM and FM radio stations sound so different?\",\n",
       " \"Explain like I'm five years old: Why is Blackjack the only mathematically beatable game in casino?\",\n",
       " 'eli5: Why were laugh tracks so widely used on sitcoms in the past? Did people not know when they were supposed to laugh? I’m rewatching some older sitcoms and the laugh track is so odd to me.  I remember thinking nothing of it growing up, but now that I’ve been watching sitcoms without it, it feels completely pointless.  Who thought it was a good idea and why?',\n",
       " 'eli5: Where do queen bees come from? Does one of the current queen’s eggs have a new queen in it?',\n",
       " \"Explain like I'm five years old: Why is it advised to NOT give water to someone that's bleeding due to an accident?\",\n",
       " \"Explain like I'm five years old: Why do we tend to listen to a new song that we like over and over again and then we can’t stand hearing it anymore?\",\n",
       " \"Explain like I'm five years old: Why do we (Anglophones) use the native language name for some countries (Costa Rica, not Rich Coast), but not for others (Germany, not Deutschland)?\",\n",
       " \"Explain like I'm five years old: Why do teeth consistently grow crooked, but other bones don’t?\",\n",
       " 'ElI5 How can restaurants leave ketchup and mustard out all day but the bottles you buy in the store say to refrigerate after opening?',\n",
       " \"Explain like I'm five years old: Why do they make gummy multivitamins and supplements, but no gummy medication drugs?\",\n",
       " \"Explain like I'm five years old: Why do humans have such long lifespans compared to other animals? It seems most animals lives are measured in single digits which is kinda weird how come we can live to be 80-90 easily when most other animals die naturally a long time before that?\",\n",
       " \"Explain like I'm five years old: Since we're aware of the elements required to create water (H2O), are we able to do so? Are the elements scarce/abundant? If not/so, why don't we just create water and supply it to places in need? This might be a dumb question, but it seems so simple...which might be exactly why it isn't...\",\n",
       " \"Explain like I'm five years old: What about GPU Architecture makes them superior for training neural networks over CPUs? In ML/AI, GPUs are used to train neural networks of various sizes. They are vastly superior to training on CPUs. Why is this?\",\n",
       " \"Explain like I'm five years old: How do doctors determine what stage cancer is in and how long a patient has to live?\",\n",
       " \"Explain like I'm five years old:Why is manual transmission preferred so much when it comes to sports cars?\",\n",
       " \"Explain like I'm five years old: Why does Stephen Hawking's speech generator sound so robotic, even though today's text-to-speech engines can sound almost completely human? For example, why doesn't he sound like this?\",\n",
       " \"Explain like I'm five years old: Why is raw egg white okay to drink in fancy cocktails but considered dangerous when eating raw cookie dough? People always freak out about eating raw cookie dough for fear of salmonella due to the raw eggs.  Yet raw egg whites have been a common ingredient in fancy cocktails for ages and its never been questioned or regarded as dangerous.  What gives?\",\n",
       " \"Explain like I'm five years old: How does your body burn 2000 calories a day, but you have to run a mile to burn 100 extra? Basically the title. I saw this thing about how much you have to exercise to burn off certain foods and was wondering how your body burns so many calories by doing nothing.\",\n",
       " \"Explain like I'm five years old - If gunpowder accelerated bullets can barely travel a few feet underwater and aren’t even really lethal, how the hell does a spear accelerated by goddamn plastic bands kill fish from quite a distance?\",\n",
       " \"Explain like I'm five years old: Why does light have a finite speed? What is preventing it from going faster than it does?\",\n",
       " \"Explain like I'm five years old: I heard that recycling plants use magnets to sort aluminium from the rest of the rubbish. How, when aluminium isn't magnetic, does this work?\",\n",
       " \"Explain like I'm five years old: Why are some frogs, etc., poisonous? Unless the poison is so lethal that any predators die on contact, the frog still gets eaten. How does this help survival?\",\n",
       " \"Explain like I'm five years old What's the difference between the shiny and dull side of aluminum foil? Besides the obvious shiny/dull\",\n",
       " 'Eli5: Why do we need to sleep so much, what happens in the body when asleep that cannot happen while normal resting or relaxing? Or is it just for the brain?',\n",
       " \"Explain like I'm five years old: Why is honey dangerous to toddlers and infants?\",\n",
       " \"Explain like I'm five years old: If our cells are always dying and being replaced how does a tattoo last forever? I've read that over a period of every 7 years or so that every cell in our body has been replaced by a new cell. If you're dying or painting or doing whatever to skin/dermis cells for a tattoo, how does it remain after the old cells have died?\",\n",
       " \"Explain like I'm five years old:. How are we able to learn behavioral traits of species never documented while alive? How are we so certain about dinosaur knowledge when it's based solely on fossils?\",\n",
       " \"Explain like I'm five years old Why is it that you breathe into someone’s mouth during CPR, but we exhale carbon dioxide which is something humans shouldn’t inhale?\",\n",
       " 'Explain like I\\'m five years old: In the song \"Taxman\" the Beatles complain about the then 95% tax rate for top earners in the UK. Why was the tax rate so high back then, and was the rate sustainable?',\n",
       " \"Explain like I'm five years old how do our bodies naturally prevent us from falling off skinnier sleeping surfaces when we’re used to more space (like taking a nap on a sofa)?\",\n",
       " \"Explain like I'm five years old Why is brass not used more if it self sanitises ? I’m getting my kitchen redone & want to know why copper alloys like brass isn’t used more. It seems perfect for counter space and prep areas with its self sanitation properties.  Am I missing something bc I’m stupid or maybe just ahead of the curb ?\",\n",
       " \"Explain like I'm five years old: When a stock price goes down, is it that many people have sold and now have that value in cash OR is it that the market just decides the stock price is now worth less collectively?\",\n",
       " \"Explain like I'm five years old: Why does the brain respond so much to classical music?\",\n",
       " \"Explain like I'm five years old: Why are some electrical plugs shaped so that you can't plug anything in next to them? My lamp's plug is rather bulbous, and basically I can't plug anything next to it - there's not enough room to put even my slimmest iPhone charger into the adjacent outlet slot. Why?\",\n",
       " \"Explain like I'm five years old: Why do you usually feel so much better after throwing up when you feel nauseous?\",\n",
       " \"Explain like I'm five years old: Why is it when you get a flu shot, your arm hurts? Is my arm singlehandedly arm wrestling the flu or what\",\n",
       " \"Explain like I'm five years old: What is it that makes A, E, I, O and U vowels? Curious.\",\n",
       " 'eli5: Sugars are carbs. What is different about sugar that requires it to be listed separately on a nutritionql label?',\n",
       " 'Explain like I\\'m five years old: why aren\\'t cars something that sell for a standard price from the manufacturer? Also, how come a sticker price for a car on a lot that\\'s just designed to \"get people in the door\" isn\\'t considered false/misleading advertising? (Since the actual price usually ends up being a couple grand more)',\n",
       " \"Explain like I'm five years old- Do muscles grow and physically appear during a workout or do the effects take place in the time afterwards? I’ve wondered this for so long but don’t know how to articulate it well and also feel like it’s potentially a very dumb question but thought this would be a good place to ask it.   Essentially- while I’m working out, are the muscles building themselves during that time or is it a situation where you’d be able to see the effects afterwards like in the coming days? I hope that makes sense.\",\n",
       " 'Eli5: How do the brakes on commercial aircraft work during landing',\n",
       " 'eli5 how can a bathroom scale determine the body fat, water content and \"dry\" bone mass just from passing some electrical current?',\n",
       " 'eli5: Why do people tend to get increasingly set in their ways as they age? Is this hardwired in our biology or can you combat intellectual calcification?',\n",
       " 'Eli5: Why do animals wag their tails when they’re happy? Mostly doggos but also other animals!',\n",
       " \"Explain like I'm five years old: Why and how do banks hold so much power over companies like OnlyFans? Can OnlyFans find different ways to process payments if the banks cause them issues again?\",\n",
       " \"Explain like I'm five years old: How do companies like Walgreens make money selling gift cards for things like iTunes when the cost is the same as the value of the card? Who benefits from this and doesn't the company lose money when factoring in shipping costs?\",\n",
       " \"Explain like I'm five years old: Why do some ingredients of a recipe not scale proportionally when making multiples of the specified amount? Sorry for weird wording, not a native speaker.  I keep hearing that for example when making twice the amount of a meal as given in the recipe, I should be careful with proportionally scaling certain ingredients like salt or similar stuff. I just don't get it, why would thats be the case?\",\n",
       " 'Explain like I\\'m five years old: Why do the vast majority of good police officers and other form of L.E. protect the \"bad apples\" and not outcast/ help remove them? I believe (or maybe want to believe?) that the majority of L.E. are well meaning and have good intentions.  With all the negative events of L.E. in the past that has hit the public light of day, I wonder why doesn\\'t the majority of those well meaning L.E. people pressure to get rid of the ones that bring them and their profession down?',\n",
       " \"Explain like I'm five years old: Why does travelling, even when it is essentially sitting still, tire you more than sitting still in a stationary place?\",\n",
       " \"Explain like I'm five years old: why is it that land that was hit by an atomic bomb (Hiroshima/Nagasaki) is fairly quickly re-inhabitable but sites like Chernobyl and Fukushima take decades to be radiation free?\",\n",
       " 'Explain like I\\'m five years old Why do so many pieces of East Asian media include the occasional word or phrase in English? I\\'ve noticed this in anime, video games, advertisements, songs... I don\\'t get it.   If they\\'re doing it to appeal to westerners, there\\'s not nearly enough English, and if they\\'re not, why bother?   Is it like how Americans will sometimes throw in a Spanish phrase for emphasis (i.e. claiming a dish is \"Muy Caliente\")?',\n",
       " \"Explain like I'm five years old: Why is FM radio on only odd frequencies and only frequencies between about 90 to 110? Why can't there be a station on something like 95.4 or 56.1? Are these limitations of FM radio or are those frequencies just not allowed for public use?\",\n",
       " \"Explain like I'm five years old: how do engineers make sure wet surface (like during heavy rain) won't short circuit power transmission tower?\",\n",
       " \"Explain like I'm five years old What exactly makes cave diving so risky, even if you have experience or are with a guide?\",\n",
       " \"Explain like I'm five years old: Why do some plugs have obviously inefficient designs, e.g. cover multiple outlets, or only fit in the very last spot because they bend at a right angle downward?\",\n",
       " \"Explain like I'm five years old: Why is tupperware wet coming out of the dishwasher, when plates and glasses are all dry?\",\n",
       " 'Eli5: Instead of building a new base to orbit the moon and dumping the ISS in the ocean, why not move the ISS (very slowly) into the moon’s orbit?',\n",
       " \"Explain like I'm five years old: How can a country afford to give billions of dollars in aid to another country if they themselves are in so much debt?\",\n",
       " \"Explain like I'm five years old:Why do people get tired/fatigued more easily as they age?\",\n",
       " 'Explain like I\\'m five years old - If they could manufacture rain in Dubai last year for a heatwave, (link below,) why can\\'t they do the same thing for the massive wild fires, droughts, & heat waves that we are seeing all over the world? Yes they actually manufactured rain in dubai.  So if this capability exists -Why can\\'t they do this to help the current droughts (like in France, for example?) More obviously, why can\\'t they do this for wildfires? Is it financial? Is it a technological limitation or something? And if it is a technological limitation for whatever reason (atmospheric conditions, etc,) why aren\\'t they working on this technology more?  What are the limitations that are preventing methods (like what was done in Dubai,) from being implemented in other areas?  idk i feel like this could save lives. Not to mention ameliorate some of the economic/environmental  impact of these kinds of events  (edited to add \"environmental.\"',\n",
       " 'Eli5: When we sleep, spinal fluid washes waste from our brain. What exactly is \"waste\" in the brain?',\n",
       " \"Explain like I'm five years old: How did the original DOOM manage to play like a 3D game despite apparently being fully 2D?\",\n",
       " 'Explain like I\\'m five years old Saw a video of a squirrel getting rescued via CPR and it made me wonder... If CPR on humans has a specific \"cadence\" to it that is said to be best, would CPR be more efficient on an animal if the cadence was much faster (to match their normally quicker heartrate)? Thanks!',\n",
       " \"Explain like I'm five years old: Why do we need to send a test rocket to the moon when we've already been there? I see all the excitement over the Artemis launch, but I'm not understanding why a test rocket is needed before sending humans to the moon when we've already done this decades ago? Why can't we go straight to sending humans back up there?\",\n",
       " 'Eli5 Why is Roman concrete still functioning after 2000 years and American concrete is breaking en masse after 75?',\n",
       " 'Eli5: What’s the mechanism by which a multitude of voices become LOUDER and can be heard farther, than a lone voice at the same source? I live close enough to a sports stadium to occasionally hear the roar of the crowd. But that’s just a bunch of individuals all yelling and making various noises. If that were single individual in the same stadium, I wouldn’t be able to hear anything. Do our voices amplify each other somehow, when in a group?',\n",
       " 'Explain like I\\'m five years old: How do people who run back into a burning building to save a pet or child survive? Occasionally I see news stories like \"man runs back into burning house and rescues beloved pet\"     However, I\\'ve also been told that you will most likely die in seconds if you inhale the smoke. I\\'ve read that in a fire you have to crawl to escape. I\\'ve read that you have to sprint quickly through the flames if you have a chance (the exact opposite of crawling low?).',\n",
       " \"Explain like I'm five years old Why can't a naval ship have chains extended on sides to keep torpedos from reach it? I've always thought a navy ship could have arms extending from each side, out say 20' or so that holds some sort of draping system, like a chain or something, that extends below the bottom of the hull. Then, if a sub fired a torpedo at it, it would either explose on the chain or just get caught up in it.\",\n",
       " 'Explain like I\\'m five years old: How does Google determine how busy a business is in real time? If you\\'ve ever Googled a local business, you have probably seen a graph, indicating the average traffic (Popular Times) at a specific hour, during their normal business hours.  There is also a \"Live\" function, that shows how busy they are at that exact moment. How is that information updated in Google in real time? Does someone actually manually update this information regularly or is there some sort of algorithm that makes this determination?',\n",
       " \"Explain like I'm five years old:The difference between Sharp Cheddar and Mild Cheddar\",\n",
       " 'Eli5: How can a plants roots survive in a cup of water (root cuttings, propagation), when the same plant planted in soil can be drown if you over water it?',\n",
       " \"Explain like I'm five years old: When you bash your head, elbow or other body part why does the pain seem to dull when you rub it?\",\n",
       " \"Explain like I'm five years old: Humans have spent countless years domesticating and selectively breeding crops in order to get the best possible produce, such as bananas and watermelons. So why is there still a giant ass pit in avocados even though basically every other crop is selectively bred for the best attributes? I just thought of this and couldn't find anything on the internet as a cause for this phenomenon.\",\n",
       " \"Explain like I'm five years old: I just watched Coffeezilla about the Logan Zoo-Crypto-Scam. Can somebody explain me, how something can be worth millions of dollars, when no one is trading it? The whole stealth launch I don´t understand. Where does the value come from?\",\n",
       " \"Explain like I'm five years old: In math, what are “exploding dots?” I work with students and one of them is taking a course called Exploding Dots. I thought it sounded fun so I looked it up—I’m having trouble even understanding the concept of it, much less how it actually works.\",\n",
       " \"Explain like I'm five years old: when we get stressed, and have adrenaline and cortisol run through our system, once we calm down where do those hormones go?\",\n",
       " \"Explain like I'm five years old: Why are ingrown toenails so common but not ingrown fingernails?\",\n",
       " \"Explain like I'm five years old:How was Germany able to take on the rest of the whole world, twice in 25 years, and even almost win\",\n",
       " \"Explain like I'm five years old: why do the fastest bicycles have really thin tyres but the fastest cars have very wide tyres\"]"
      ]
     },
     "execution_count": 22,
     "metadata": {},
     "output_type": "execute_result"
    }
   ],
   "source": [
    "unique_conts"
   ]
  },
  {
   "cell_type": "code",
   "execution_count": null,
   "id": "46495029-03b0-4500-86ac-5928bf4ebfca",
   "metadata": {},
   "outputs": [],
   "source": []
  }
 ],
 "metadata": {
  "kernelspec": {
   "display_name": "Python 3 (ipykernel)",
   "language": "python",
   "name": "python3"
  },
  "language_info": {
   "codemirror_mode": {
    "name": "ipython",
    "version": 3
   },
   "file_extension": ".py",
   "mimetype": "text/x-python",
   "name": "python",
   "nbconvert_exporter": "python",
   "pygments_lexer": "ipython3",
   "version": "3.8.12"
  }
 },
 "nbformat": 4,
 "nbformat_minor": 5
}
