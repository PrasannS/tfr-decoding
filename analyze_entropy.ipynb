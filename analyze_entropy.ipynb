{
 "cells": [
  {
   "cell_type": "code",
   "execution_count": 1,
   "id": "4b73474c-5a4c-475a-9d55-78be5417af46",
   "metadata": {},
   "outputs": [
    {
     "name": "stderr",
     "output_type": "stream",
     "text": [
      "2023-04-12 03:24:32.818513: W tensorflow/stream_executor/platform/default/dso_loader.cc:64] Could not load dynamic library 'libcudart.so.11.0'; dlerror: libcudart.so.11.0: cannot open shared object file: No such file or directory\n",
      "2023-04-12 03:24:32.818534: I tensorflow/stream_executor/cuda/cudart_stub.cc:29] Ignore above cudart dlerror if you do not have a GPU set up on your machine.\n"
     ]
    }
   ],
   "source": [
    "from transformers import T5Tokenizer, T5ForConditionalGeneration\n",
    "import torch"
   ]
  },
  {
   "cell_type": "code",
   "execution_count": 2,
   "id": "c4832754-4d4c-4247-b1ba-203398925e20",
   "metadata": {},
   "outputs": [],
   "source": [
    "%load_ext autoreload\n",
    "%autoreload 2"
   ]
  },
  {
   "cell_type": "code",
   "execution_count": 3,
   "id": "abf3b81b-9944-442d-9c2c-d9e4951c1765",
   "metadata": {},
   "outputs": [],
   "source": [
    "tokenizer = T5Tokenizer.from_pretrained(\"google/flan-t5-xxl\")"
   ]
  },
  {
   "cell_type": "code",
   "execution_count": 4,
   "id": "8a2fc5a7-bdec-4b19-b075-2161b4126b8e",
   "metadata": {},
   "outputs": [],
   "source": [
    "from src.utils.wordstats import *"
   ]
  },
  {
   "cell_type": "code",
   "execution_count": 5,
   "id": "10f3a33b-6dc4-4e45-b941-3a6ae8f881e2",
   "metadata": {},
   "outputs": [
    {
     "data": {
      "text/html": [
       "<pre style=\"white-space:pre;overflow-x:auto;line-height:normal;font-family:Menlo,'DejaVu Sans Mono',consolas,'Courier New',monospace\"><span style=\"color: #800000; text-decoration-color: #800000\">╭──────────────────────────── </span><span style=\"color: #800000; text-decoration-color: #800000; font-weight: bold\">Traceback </span><span style=\"color: #bf7f7f; text-decoration-color: #bf7f7f; font-weight: bold\">(most recent call last)</span><span style=\"color: #800000; text-decoration-color: #800000\"> ────────────────────────────╮</span>\n",
       "<span style=\"color: #800000; text-decoration-color: #800000\">│</span>                                                                                           <span style=\"color: #800000; text-decoration-color: #800000\">│</span>\n",
       "<span style=\"color: #800000; text-decoration-color: #800000\">│</span> <span style=\"color: #bfbf7f; text-decoration-color: #bfbf7f\">/tmp/ipykernel_1695171/</span><span style=\"color: #808000; text-decoration-color: #808000; font-weight: bold\">1043345471.py</span>:<span style=\"color: #0000ff; text-decoration-color: #0000ff\">1</span> in <span style=\"color: #00ff00; text-decoration-color: #00ff00\">&lt;module&gt;</span>                                        <span style=\"color: #800000; text-decoration-color: #800000\">│</span>\n",
       "<span style=\"color: #800000; text-decoration-color: #800000\">│</span>                                                                                           <span style=\"color: #800000; text-decoration-color: #800000\">│</span>\n",
       "<span style=\"color: #800000; text-decoration-color: #800000\">│</span> <span style=\"color: #800000; text-decoration-color: #800000; font-style: italic\">[Errno 2] No such file or directory: '/tmp/ipykernel_1695171/1043345471.py'</span>               <span style=\"color: #800000; text-decoration-color: #800000\">│</span>\n",
       "<span style=\"color: #800000; text-decoration-color: #800000\">│</span> <span style=\"color: #bfbf7f; text-decoration-color: #bfbf7f\">/home/prasann/miniconda3/envs/rewardenv/lib/python3.8/site-packages/transformers/</span><span style=\"color: #808000; text-decoration-color: #808000; font-weight: bold\">modeling</span> <span style=\"color: #800000; text-decoration-color: #800000\">│</span>\n",
       "<span style=\"color: #800000; text-decoration-color: #800000\">│</span> <span style=\"color: #808000; text-decoration-color: #808000; font-weight: bold\">_utils.py</span>:<span style=\"color: #0000ff; text-decoration-color: #0000ff\">2403</span> in <span style=\"color: #00ff00; text-decoration-color: #00ff00\">from_pretrained</span>                                                         <span style=\"color: #800000; text-decoration-color: #800000\">│</span>\n",
       "<span style=\"color: #800000; text-decoration-color: #800000\">│</span>                                                                                           <span style=\"color: #800000; text-decoration-color: #800000\">│</span>\n",
       "<span style=\"color: #800000; text-decoration-color: #800000\">│</span>   <span style=\"color: #7f7f7f; text-decoration-color: #7f7f7f\">2400 │   │   │   </span><span style=\"color: #0000ff; text-decoration-color: #0000ff\">elif</span> device_map <span style=\"color: #ff00ff; text-decoration-color: #ff00ff\">in</span> [<span style=\"color: #808000; text-decoration-color: #808000\">\"balanced\"</span>, <span style=\"color: #808000; text-decoration-color: #808000\">\"balanced_low_0\"</span>] <span style=\"color: #ff00ff; text-decoration-color: #ff00ff\">and</span> get_balanced_mem <span style=\"color: #800000; text-decoration-color: #800000\">│</span>\n",
       "<span style=\"color: #800000; text-decoration-color: #800000\">│</span>   <span style=\"color: #7f7f7f; text-decoration-color: #7f7f7f\">2401 │   │   │   │   </span><span style=\"color: #0000ff; text-decoration-color: #0000ff\">raise</span> <span style=\"color: #00ffff; text-decoration-color: #00ffff\">ValueError</span>(<span style=\"color: #808000; text-decoration-color: #808000\">f\"`device_map={</span>device_map<span style=\"color: #808000; text-decoration-color: #808000\">}` requires a source ins</span> <span style=\"color: #800000; text-decoration-color: #800000\">│</span>\n",
       "<span style=\"color: #800000; text-decoration-color: #800000\">│</span>   <span style=\"color: #7f7f7f; text-decoration-color: #7f7f7f\">2402 │   │   │   </span><span style=\"color: #0000ff; text-decoration-color: #0000ff\">if</span> device_map != <span style=\"color: #808000; text-decoration-color: #808000\">\"sequential\"</span> <span style=\"color: #ff00ff; text-decoration-color: #ff00ff\">and</span> get_balanced_memory <span style=\"color: #ff00ff; text-decoration-color: #ff00ff\">is</span> <span style=\"color: #ff00ff; text-decoration-color: #ff00ff\">not</span> <span style=\"color: #0000ff; text-decoration-color: #0000ff\">None</span>:     <span style=\"color: #800000; text-decoration-color: #800000\">│</span>\n",
       "<span style=\"color: #800000; text-decoration-color: #800000\">│</span> <span style=\"color: #800000; text-decoration-color: #800000\">❱ </span>2403 <span style=\"color: #7f7f7f; text-decoration-color: #7f7f7f\">│   │   │   │   </span>max_memory = get_balanced_memory(                                  <span style=\"color: #800000; text-decoration-color: #800000\">│</span>\n",
       "<span style=\"color: #800000; text-decoration-color: #800000\">│</span>   <span style=\"color: #7f7f7f; text-decoration-color: #7f7f7f\">2404 │   │   │   │   │   </span>model,                                                         <span style=\"color: #800000; text-decoration-color: #800000\">│</span>\n",
       "<span style=\"color: #800000; text-decoration-color: #800000\">│</span>   <span style=\"color: #7f7f7f; text-decoration-color: #7f7f7f\">2405 │   │   │   │   │   </span>max_memory=max_memory,                                         <span style=\"color: #800000; text-decoration-color: #800000\">│</span>\n",
       "<span style=\"color: #800000; text-decoration-color: #800000\">│</span>   <span style=\"color: #7f7f7f; text-decoration-color: #7f7f7f\">2406 │   │   │   │   │   </span>no_split_module_classes=no_split_modules,                      <span style=\"color: #800000; text-decoration-color: #800000\">│</span>\n",
       "<span style=\"color: #800000; text-decoration-color: #800000\">│</span>                                                                                           <span style=\"color: #800000; text-decoration-color: #800000\">│</span>\n",
       "<span style=\"color: #800000; text-decoration-color: #800000\">│</span> <span style=\"color: #bfbf7f; text-decoration-color: #bfbf7f\">/home/prasann/miniconda3/envs/rewardenv/lib/python3.8/site-packages/accelerate/utils/</span><span style=\"color: #808000; text-decoration-color: #808000; font-weight: bold\">mode</span> <span style=\"color: #800000; text-decoration-color: #800000\">│</span>\n",
       "<span style=\"color: #800000; text-decoration-color: #800000\">│</span> <span style=\"color: #808000; text-decoration-color: #808000; font-weight: bold\">ling.py</span>:<span style=\"color: #0000ff; text-decoration-color: #0000ff\">412</span> in <span style=\"color: #00ff00; text-decoration-color: #00ff00\">get_balanced_memory</span>                                                        <span style=\"color: #800000; text-decoration-color: #800000\">│</span>\n",
       "<span style=\"color: #800000; text-decoration-color: #800000\">│</span>                                                                                           <span style=\"color: #800000; text-decoration-color: #800000\">│</span>\n",
       "<span style=\"color: #800000; text-decoration-color: #800000\">│</span>   <span style=\"color: #7f7f7f; text-decoration-color: #7f7f7f\">409 </span><span style=\"color: #bfbf7f; text-decoration-color: #bfbf7f\">│   │   │   </span><span style=\"color: #808000; text-decoration-color: #808000\">Transformers generate function).</span>                                        <span style=\"color: #800000; text-decoration-color: #800000\">│</span>\n",
       "<span style=\"color: #800000; text-decoration-color: #800000\">│</span>   <span style=\"color: #7f7f7f; text-decoration-color: #7f7f7f\">410 </span><span style=\"color: #bfbf7f; text-decoration-color: #bfbf7f\">│   </span><span style=\"color: #808000; text-decoration-color: #808000\">\"\"\"</span>                                                                             <span style=\"color: #800000; text-decoration-color: #800000\">│</span>\n",
       "<span style=\"color: #800000; text-decoration-color: #800000\">│</span>   <span style=\"color: #7f7f7f; text-decoration-color: #7f7f7f\">411 │   # Get default / clean up max_memory</span>                                             <span style=\"color: #800000; text-decoration-color: #800000\">│</span>\n",
       "<span style=\"color: #800000; text-decoration-color: #800000\">│</span> <span style=\"color: #800000; text-decoration-color: #800000\">❱ </span>412 <span style=\"color: #7f7f7f; text-decoration-color: #7f7f7f\">│   </span>max_memory = get_max_memory(max_memory)                                         <span style=\"color: #800000; text-decoration-color: #800000\">│</span>\n",
       "<span style=\"color: #800000; text-decoration-color: #800000\">│</span>   <span style=\"color: #7f7f7f; text-decoration-color: #7f7f7f\">413 │   </span>                                                                                <span style=\"color: #800000; text-decoration-color: #800000\">│</span>\n",
       "<span style=\"color: #800000; text-decoration-color: #800000\">│</span>   <span style=\"color: #7f7f7f; text-decoration-color: #7f7f7f\">414 │   </span><span style=\"color: #0000ff; text-decoration-color: #0000ff\">if</span> <span style=\"color: #ff00ff; text-decoration-color: #ff00ff\">not</span> torch.cuda.is_available():                                               <span style=\"color: #800000; text-decoration-color: #800000\">│</span>\n",
       "<span style=\"color: #800000; text-decoration-color: #800000\">│</span>   <span style=\"color: #7f7f7f; text-decoration-color: #7f7f7f\">415 │   │   </span><span style=\"color: #0000ff; text-decoration-color: #0000ff\">return</span> max_memory                                                           <span style=\"color: #800000; text-decoration-color: #800000\">│</span>\n",
       "<span style=\"color: #800000; text-decoration-color: #800000\">│</span>                                                                                           <span style=\"color: #800000; text-decoration-color: #800000\">│</span>\n",
       "<span style=\"color: #800000; text-decoration-color: #800000\">│</span> <span style=\"color: #bfbf7f; text-decoration-color: #bfbf7f\">/home/prasann/miniconda3/envs/rewardenv/lib/python3.8/site-packages/accelerate/utils/</span><span style=\"color: #808000; text-decoration-color: #808000; font-weight: bold\">mode</span> <span style=\"color: #800000; text-decoration-color: #800000\">│</span>\n",
       "<span style=\"color: #800000; text-decoration-color: #800000\">│</span> <span style=\"color: #808000; text-decoration-color: #808000; font-weight: bold\">ling.py</span>:<span style=\"color: #0000ff; text-decoration-color: #0000ff\">324</span> in <span style=\"color: #00ff00; text-decoration-color: #00ff00\">get_max_memory</span>                                                             <span style=\"color: #800000; text-decoration-color: #800000\">│</span>\n",
       "<span style=\"color: #800000; text-decoration-color: #800000\">│</span>                                                                                           <span style=\"color: #800000; text-decoration-color: #800000\">│</span>\n",
       "<span style=\"color: #800000; text-decoration-color: #800000\">│</span>   <span style=\"color: #7f7f7f; text-decoration-color: #7f7f7f\">321 │   │   </span><span style=\"color: #0000ff; text-decoration-color: #0000ff\">else</span>:                                                                       <span style=\"color: #800000; text-decoration-color: #800000\">│</span>\n",
       "<span style=\"color: #800000; text-decoration-color: #800000\">│</span>   <span style=\"color: #7f7f7f; text-decoration-color: #7f7f7f\">322 │   │   │   # Make sure CUDA is initialized on each GPU to have the right memory in</span> <span style=\"color: #800000; text-decoration-color: #800000\">│</span>\n",
       "<span style=\"color: #800000; text-decoration-color: #800000\">│</span>   <span style=\"color: #7f7f7f; text-decoration-color: #7f7f7f\">323 │   │   │   </span><span style=\"color: #0000ff; text-decoration-color: #0000ff\">for</span> i <span style=\"color: #ff00ff; text-decoration-color: #ff00ff\">in</span> <span style=\"color: #00ffff; text-decoration-color: #00ffff\">range</span>(torch.cuda.device_count()):                              <span style=\"color: #800000; text-decoration-color: #800000\">│</span>\n",
       "<span style=\"color: #800000; text-decoration-color: #800000\">│</span> <span style=\"color: #800000; text-decoration-color: #800000\">❱ </span>324 <span style=\"color: #7f7f7f; text-decoration-color: #7f7f7f\">│   │   │   │   </span>_ = torch.tensor([<span style=\"color: #0000ff; text-decoration-color: #0000ff\">0</span>], device=i)                                     <span style=\"color: #800000; text-decoration-color: #800000\">│</span>\n",
       "<span style=\"color: #800000; text-decoration-color: #800000\">│</span>   <span style=\"color: #7f7f7f; text-decoration-color: #7f7f7f\">325 │   │   │   </span>max_memory = {i: torch.cuda.mem_get_info(i)[<span style=\"color: #0000ff; text-decoration-color: #0000ff\">0</span>] <span style=\"color: #0000ff; text-decoration-color: #0000ff\">for</span> i <span style=\"color: #ff00ff; text-decoration-color: #ff00ff\">in</span> <span style=\"color: #00ffff; text-decoration-color: #00ffff\">range</span>(torch.cud <span style=\"color: #800000; text-decoration-color: #800000\">│</span>\n",
       "<span style=\"color: #800000; text-decoration-color: #800000\">│</span>   <span style=\"color: #7f7f7f; text-decoration-color: #7f7f7f\">326 │   │   </span>max_memory[<span style=\"color: #808000; text-decoration-color: #808000\">\"cpu\"</span>] = psutil.virtual_memory().available                       <span style=\"color: #800000; text-decoration-color: #800000\">│</span>\n",
       "<span style=\"color: #800000; text-decoration-color: #800000\">│</span>   <span style=\"color: #7f7f7f; text-decoration-color: #7f7f7f\">327 │   │   </span><span style=\"color: #0000ff; text-decoration-color: #0000ff\">return</span> max_memory                                                           <span style=\"color: #800000; text-decoration-color: #800000\">│</span>\n",
       "<span style=\"color: #800000; text-decoration-color: #800000\">╰───────────────────────────────────────────────────────────────────────────────────────────╯</span>\n",
       "<span style=\"color: #ff0000; text-decoration-color: #ff0000; font-weight: bold\">RuntimeError: </span>CUDA error: out of memory\n",
       "CUDA kernel errors might be asynchronously reported at some other API call,so the stacktrace \n",
       "below might be incorrect.\n",
       "For debugging consider passing <span style=\"color: #808000; text-decoration-color: #808000\">CUDA_LAUNCH_BLOCKING</span>=<span style=\"color: #008080; text-decoration-color: #008080; font-weight: bold\">1</span>.\n",
       "</pre>\n"
      ],
      "text/plain": [
       "\u001b[31m╭─\u001b[0m\u001b[31m─────────────────────────── \u001b[0m\u001b[1;31mTraceback \u001b[0m\u001b[1;2;31m(most recent call last)\u001b[0m\u001b[31m ───────────────────────────\u001b[0m\u001b[31m─╮\u001b[0m\n",
       "\u001b[31m│\u001b[0m                                                                                           \u001b[31m│\u001b[0m\n",
       "\u001b[31m│\u001b[0m \u001b[2;33m/tmp/ipykernel_1695171/\u001b[0m\u001b[1;33m1043345471.py\u001b[0m:\u001b[94m1\u001b[0m in \u001b[92m<module>\u001b[0m                                        \u001b[31m│\u001b[0m\n",
       "\u001b[31m│\u001b[0m                                                                                           \u001b[31m│\u001b[0m\n",
       "\u001b[31m│\u001b[0m \u001b[3;31m[Errno 2] No such file or directory: '/tmp/ipykernel_1695171/1043345471.py'\u001b[0m               \u001b[31m│\u001b[0m\n",
       "\u001b[31m│\u001b[0m \u001b[2;33m/home/prasann/miniconda3/envs/rewardenv/lib/python3.8/site-packages/transformers/\u001b[0m\u001b[1;33mmodeling\u001b[0m \u001b[31m│\u001b[0m\n",
       "\u001b[31m│\u001b[0m \u001b[1;33m_utils.py\u001b[0m:\u001b[94m2403\u001b[0m in \u001b[92mfrom_pretrained\u001b[0m                                                         \u001b[31m│\u001b[0m\n",
       "\u001b[31m│\u001b[0m                                                                                           \u001b[31m│\u001b[0m\n",
       "\u001b[31m│\u001b[0m   \u001b[2m2400 \u001b[0m\u001b[2m│   │   │   \u001b[0m\u001b[94melif\u001b[0m device_map \u001b[95min\u001b[0m [\u001b[33m\"\u001b[0m\u001b[33mbalanced\u001b[0m\u001b[33m\"\u001b[0m, \u001b[33m\"\u001b[0m\u001b[33mbalanced_low_0\u001b[0m\u001b[33m\"\u001b[0m] \u001b[95mand\u001b[0m get_balanced_mem \u001b[31m│\u001b[0m\n",
       "\u001b[31m│\u001b[0m   \u001b[2m2401 \u001b[0m\u001b[2m│   │   │   │   \u001b[0m\u001b[94mraise\u001b[0m \u001b[96mValueError\u001b[0m(\u001b[33mf\u001b[0m\u001b[33m\"\u001b[0m\u001b[33m`device_map=\u001b[0m\u001b[33m{\u001b[0mdevice_map\u001b[33m}\u001b[0m\u001b[33m` requires a source ins\u001b[0m \u001b[31m│\u001b[0m\n",
       "\u001b[31m│\u001b[0m   \u001b[2m2402 \u001b[0m\u001b[2m│   │   │   \u001b[0m\u001b[94mif\u001b[0m device_map != \u001b[33m\"\u001b[0m\u001b[33msequential\u001b[0m\u001b[33m\"\u001b[0m \u001b[95mand\u001b[0m get_balanced_memory \u001b[95mis\u001b[0m \u001b[95mnot\u001b[0m \u001b[94mNone\u001b[0m:     \u001b[31m│\u001b[0m\n",
       "\u001b[31m│\u001b[0m \u001b[31m❱ \u001b[0m2403 \u001b[2m│   │   │   │   \u001b[0mmax_memory = get_balanced_memory(                                  \u001b[31m│\u001b[0m\n",
       "\u001b[31m│\u001b[0m   \u001b[2m2404 \u001b[0m\u001b[2m│   │   │   │   │   \u001b[0mmodel,                                                         \u001b[31m│\u001b[0m\n",
       "\u001b[31m│\u001b[0m   \u001b[2m2405 \u001b[0m\u001b[2m│   │   │   │   │   \u001b[0mmax_memory=max_memory,                                         \u001b[31m│\u001b[0m\n",
       "\u001b[31m│\u001b[0m   \u001b[2m2406 \u001b[0m\u001b[2m│   │   │   │   │   \u001b[0mno_split_module_classes=no_split_modules,                      \u001b[31m│\u001b[0m\n",
       "\u001b[31m│\u001b[0m                                                                                           \u001b[31m│\u001b[0m\n",
       "\u001b[31m│\u001b[0m \u001b[2;33m/home/prasann/miniconda3/envs/rewardenv/lib/python3.8/site-packages/accelerate/utils/\u001b[0m\u001b[1;33mmode\u001b[0m \u001b[31m│\u001b[0m\n",
       "\u001b[31m│\u001b[0m \u001b[1;33mling.py\u001b[0m:\u001b[94m412\u001b[0m in \u001b[92mget_balanced_memory\u001b[0m                                                        \u001b[31m│\u001b[0m\n",
       "\u001b[31m│\u001b[0m                                                                                           \u001b[31m│\u001b[0m\n",
       "\u001b[31m│\u001b[0m   \u001b[2m409 \u001b[0m\u001b[2;33m│   │   │   \u001b[0m\u001b[33mTransformers generate function).\u001b[0m                                        \u001b[31m│\u001b[0m\n",
       "\u001b[31m│\u001b[0m   \u001b[2m410 \u001b[0m\u001b[2;33m│   \u001b[0m\u001b[33m\"\"\"\u001b[0m                                                                             \u001b[31m│\u001b[0m\n",
       "\u001b[31m│\u001b[0m   \u001b[2m411 \u001b[0m\u001b[2m│   \u001b[0m\u001b[2m# Get default / clean up max_memory\u001b[0m                                             \u001b[31m│\u001b[0m\n",
       "\u001b[31m│\u001b[0m \u001b[31m❱ \u001b[0m412 \u001b[2m│   \u001b[0mmax_memory = get_max_memory(max_memory)                                         \u001b[31m│\u001b[0m\n",
       "\u001b[31m│\u001b[0m   \u001b[2m413 \u001b[0m\u001b[2m│   \u001b[0m                                                                                \u001b[31m│\u001b[0m\n",
       "\u001b[31m│\u001b[0m   \u001b[2m414 \u001b[0m\u001b[2m│   \u001b[0m\u001b[94mif\u001b[0m \u001b[95mnot\u001b[0m torch.cuda.is_available():                                               \u001b[31m│\u001b[0m\n",
       "\u001b[31m│\u001b[0m   \u001b[2m415 \u001b[0m\u001b[2m│   │   \u001b[0m\u001b[94mreturn\u001b[0m max_memory                                                           \u001b[31m│\u001b[0m\n",
       "\u001b[31m│\u001b[0m                                                                                           \u001b[31m│\u001b[0m\n",
       "\u001b[31m│\u001b[0m \u001b[2;33m/home/prasann/miniconda3/envs/rewardenv/lib/python3.8/site-packages/accelerate/utils/\u001b[0m\u001b[1;33mmode\u001b[0m \u001b[31m│\u001b[0m\n",
       "\u001b[31m│\u001b[0m \u001b[1;33mling.py\u001b[0m:\u001b[94m324\u001b[0m in \u001b[92mget_max_memory\u001b[0m                                                             \u001b[31m│\u001b[0m\n",
       "\u001b[31m│\u001b[0m                                                                                           \u001b[31m│\u001b[0m\n",
       "\u001b[31m│\u001b[0m   \u001b[2m321 \u001b[0m\u001b[2m│   │   \u001b[0m\u001b[94melse\u001b[0m:                                                                       \u001b[31m│\u001b[0m\n",
       "\u001b[31m│\u001b[0m   \u001b[2m322 \u001b[0m\u001b[2m│   │   │   \u001b[0m\u001b[2m# Make sure CUDA is initialized on each GPU to have the right memory in\u001b[0m \u001b[31m│\u001b[0m\n",
       "\u001b[31m│\u001b[0m   \u001b[2m323 \u001b[0m\u001b[2m│   │   │   \u001b[0m\u001b[94mfor\u001b[0m i \u001b[95min\u001b[0m \u001b[96mrange\u001b[0m(torch.cuda.device_count()):                              \u001b[31m│\u001b[0m\n",
       "\u001b[31m│\u001b[0m \u001b[31m❱ \u001b[0m324 \u001b[2m│   │   │   │   \u001b[0m_ = torch.tensor([\u001b[94m0\u001b[0m], device=i)                                     \u001b[31m│\u001b[0m\n",
       "\u001b[31m│\u001b[0m   \u001b[2m325 \u001b[0m\u001b[2m│   │   │   \u001b[0mmax_memory = {i: torch.cuda.mem_get_info(i)[\u001b[94m0\u001b[0m] \u001b[94mfor\u001b[0m i \u001b[95min\u001b[0m \u001b[96mrange\u001b[0m(torch.cud \u001b[31m│\u001b[0m\n",
       "\u001b[31m│\u001b[0m   \u001b[2m326 \u001b[0m\u001b[2m│   │   \u001b[0mmax_memory[\u001b[33m\"\u001b[0m\u001b[33mcpu\u001b[0m\u001b[33m\"\u001b[0m] = psutil.virtual_memory().available                       \u001b[31m│\u001b[0m\n",
       "\u001b[31m│\u001b[0m   \u001b[2m327 \u001b[0m\u001b[2m│   │   \u001b[0m\u001b[94mreturn\u001b[0m max_memory                                                           \u001b[31m│\u001b[0m\n",
       "\u001b[31m╰───────────────────────────────────────────────────────────────────────────────────────────╯\u001b[0m\n",
       "\u001b[1;91mRuntimeError: \u001b[0mCUDA error: out of memory\n",
       "CUDA kernel errors might be asynchronously reported at some other API call,so the stacktrace \n",
       "below might be incorrect.\n",
       "For debugging consider passing \u001b[33mCUDA_LAUNCH_BLOCKING\u001b[0m=\u001b[1;36m1\u001b[0m.\n"
      ]
     },
     "metadata": {},
     "output_type": "display_data"
    }
   ],
   "source": [
    "model = T5ForConditionalGeneration.from_pretrained(\"google/flan-t5-xxl\", device_map=\"auto\")"
   ]
  },
  {
   "cell_type": "code",
   "execution_count": 5,
   "id": "a501cee7-fad7-45aa-8765-7b403eeeea12",
   "metadata": {
    "tags": []
   },
   "outputs": [],
   "source": [
    "import pandas as pd\n",
    "import matplotlib.pyplot as plt\n",
    "from statistics import stdev\n",
    "import numpy as np\n",
    "from scipy.stats import spearmanr"
   ]
  },
  {
   "cell_type": "code",
   "execution_count": 6,
   "id": "9bd7a948-a015-47e6-96a3-22a6811bae83",
   "metadata": {},
   "outputs": [],
   "source": [
    "def mean(l):\n",
    "    if len(l)==0:\n",
    "        #print(\"0 len?\")\n",
    "        return 0\n",
    "    return sum(l)/len(l)"
   ]
  },
  {
   "cell_type": "code",
   "execution_count": 7,
   "id": "dd1ab436-4c34-49bd-b105-87a5558da839",
   "metadata": {},
   "outputs": [],
   "source": [
    "EBASE = \"output/exhaustive/\"\n",
    "ind = 49\n",
    "e = pd.read_json(EBASE+\"ex\"+str(ind)+\".jsonl\", orient=\"records\", lines=True)"
   ]
  },
  {
   "cell_type": "code",
   "execution_count": 8,
   "id": "cff03c7c-2fac-4525-9efa-ed8488424939",
   "metadata": {},
   "outputs": [
    {
     "data": {
      "text/plain": [
       "50"
      ]
     },
     "execution_count": 8,
     "metadata": {},
     "output_type": "execute_result"
    }
   ],
   "source": [
    "len(e['inp'].unique())"
   ]
  },
  {
   "cell_type": "code",
   "execution_count": 100,
   "id": "8344ee1c-699c-4bbd-837a-e0d583e1201f",
   "metadata": {},
   "outputs": [
    {
     "data": {
      "text/plain": [
       "(array([ 1.,  0.,  1.,  5.,  8.,  7., 12.,  6.,  6.,  4.]),\n",
       " array([0.37389841, 0.42899461, 0.4840908 , 0.53918699, 0.59428319,\n",
       "        0.64937938, 0.70447557, 0.75957176, 0.81466796, 0.86976415,\n",
       "        0.92486034]),\n",
       " <BarContainer object of 10 artists>)"
      ]
     },
     "execution_count": 100,
     "metadata": {},
     "output_type": "execute_result"
    },
    {
     "data": {
      "image/png": "[encoded data removed]",
      "text/plain": [
       "<Figure size 640x480 with 1 Axes>"
      ]
     },
     "metadata": {},
     "output_type": "display_data"
    }
   ],
   "source": [
    "\n",
    "firsts = e[e['ver']==\"first\"].reset_index()\n",
    "def random_base(fdf):\n",
    "    values = []\n",
    "    for i in range(len(fdf)):\n",
    "        values.append(mean(fdf.iloc[i]['scos']))\n",
    "    return values\n",
    "\n",
    "plt.hist(random_base(firsts))"
   ]
  },
  {
   "cell_type": "code",
   "execution_count": null,
   "id": "1b9390c8-b69d-43d7-b105-872fb925f1d8",
   "metadata": {},
   "outputs": [],
   "source": [
    "e[]"
   ]
  },
  {
   "cell_type": "code",
   "execution_count": 163,
   "id": "3b11dbe9-a8ce-44b3-b7ce-b7bc1ca0d9e4",
   "metadata": {},
   "outputs": [],
   "source": [
    "def mean_nidf(idict, text):\n",
    "    words = re.findall(r'\\w+', text.lower())\n",
    "    fwords = []\n",
    "    for w in words:\n",
    "        if w in idict.keys():\n",
    "            fwords.append(w)\n",
    "    return mean([idict[w] for w in fwords])\n",
    "\n",
    "def extract_scatter(datadf, uses):\n",
    "    uns = list(datadf['inp'].unique())\n",
    "    scatys = []\n",
    "    allstats = {\n",
    "        'mean':[],\n",
    "        'stdev':[],\n",
    "        'entropy':[],\n",
    "        'skewness':[],\n",
    "        'kurtoses':[],\n",
    "        'top1s':[],\n",
    "        'selected':[]\n",
    "    }\n",
    "    scovals = []\n",
    "    prefpercs = []\n",
    "    prefs = []\n",
    "    strs = []\n",
    "    nidfs = []\n",
    "    selstrs = []\n",
    "    inprompts = []\n",
    "    shpvars = []\n",
    "    for u in uns:\n",
    "        # focus on one at a time\n",
    "        tmpdf = datadf[datadf['inp']==u]\n",
    "        # TODO compress this code\n",
    "        if \"worst\" in uses:\n",
    "            wentry = tmpdf[tmpdf['ver']=='first'].iloc[0]\n",
    "            # get worst ind\n",
    "            wind = np.argmin(wentry['scos'])\n",
    "            wtmp = tmpdf[tmpdf['ver']==\"worst\"]\n",
    "            wtoks = tokenizer(wentry['hyps'][wind]).input_ids\n",
    "            # Calculate the max of the 'scos' list for each row and store it in a new column\n",
    "            wtmp['max_scos'] = wtmp['scos'].apply(lambda x: max(x))\n",
    "            shpvars.extend(wtmp['scos'].apply(lambda x: stdev(x)))\n",
    "            # Get the value in the input array at the index of each row's prefix value\n",
    "            for a in allstats.keys():\n",
    "                # extend with prefix based indexed thing\n",
    "                allstats[a].extend(wtmp.apply(lambda row: wentry['stats'][a][int(row['prefix'])][wind], axis=1))\n",
    "            wtmp['istrs'] = wtmp.apply(lambda row: [tokenizer.decode(w) for w in wtoks], axis=1)\n",
    "            strs.extend(wtmp['istrs'])\n",
    "            \n",
    "            scatys.extend(wtmp['max_scos']- wentry['scos'][wind])\n",
    "            scovals.extend([wentry['scos'][wind]]*len(wtmp))\n",
    "            prefpercs.extend(wtmp['prefix']/len(wtmp['istrs'].iloc[0]))\n",
    "            prefs.extend(wtmp['prefix'])\n",
    "            wtmp['sel'] = wtmp.apply(lambda row: np.argmax(row['scos']), axis=1)\n",
    "            seltmp = wtmp.apply(lambda row: [tokenizer(row['hyps'][row['sel']]).input_ids], axis=1)\n",
    "            seltmp = [[tokenizer.decode(w) for w in sel] for sel in seltmp]\n",
    "            selstrs.extend(seltmp)\n",
    "            inprompts.exted(wtmp['inp'])\n",
    "        elif \"best\" in uses:\n",
    "            wentry = tmpdf[tmpdf['ver']=='first'].iloc[0]\n",
    "            # get worst ind\n",
    "            wind = np.argmax(wentry['scos'])\n",
    "            wtoks = tokenizer(wentry['hyps'][wind]).input_ids\n",
    "            wtmp = tmpdf[tmpdf['ver']==\"best\"]\n",
    "            # Calculate the max of the 'scos' list for each row and store it in a new column\n",
    "            wtmp['max_scos'] = wtmp['scos'].apply(lambda x: max(x))\n",
    "            shpvars.extend(wtmp['scos'].apply(lambda x: stdev(x)))\n",
    "            # Get the value in the input array at the index of each row's prefix value\n",
    "            for a in allstats.keys():\n",
    "                # extend with prefix based indexed thing\n",
    "                allstats[a].extend(wtmp.apply(lambda row: wentry['stats'][a][int(row['prefix'])][wind], axis=1))\n",
    "            nidfdict = nidf(wentry['hyps'][wind])\n",
    "            wtmp['istrs'] = wtmp.apply(lambda row: [tokenizer.decode(w) for w in wtoks], axis=1)\n",
    "            strs.extend(wtmp['istrs'])\n",
    "            #nidfs.extend(wtmp.apply(lambda row: mean_nidf(nidfdict, row['istrs']), axis=1))\n",
    "            scatys.extend(wtmp['max_scos'] - wentry['scos'][wind])\n",
    "            scovals.extend([wentry['scos'][wind]]*len(wtmp))\n",
    "            prefpercs.extend(wtmp['prefix']/len(wtmp['istrs'].iloc[0]))\n",
    "            prefs.extend(wtmp['prefix'])\n",
    "            wtmp['sel'] = wtmp.apply(lambda row: np.argmax(row['scos']), axis=1)\n",
    "            seltmp = wtmp.apply(lambda row: [tokenizer(row['hyps'][row['sel']]).input_ids], axis=1)\n",
    "            seltmp = [[tokenizer.decode(w) for w in sel] for sel in seltmp]\n",
    "            selstrs.extend(seltmp)\n",
    "            inprompts.extend(wtmp['inp'])\n",
    "    allstats['inpstrs'] = strs\n",
    "    allstats['improves'] = scatys\n",
    "    allstats['initsco'] = scovals\n",
    "    allstats['prefpercent'] = prefpercs\n",
    "    allstats['prefix'] = prefs\n",
    "    allstats['selstrs'] = selstrs\n",
    "    allstats['prompt'] = inprompts\n",
    "    allstats['stdevs'] = shpvars\n",
    "    #allstats['mean_nidf'] = nidfs\n",
    "    return pd.DataFrame(allstats)\n",
    "        "
   ]
  },
  {
   "cell_type": "code",
   "execution_count": null,
   "id": "835af5da-8c41-4b5f-9240-1f32f48a77b7",
   "metadata": {},
   "outputs": [],
   "source": [
    "resdf  = extract_scatter(e, ['best'])\n",
    "#resdf['selstrs'] = resdf.apply(lambda row: [tokenizer.decode(t) for t in tokenizer(row['selstrs'][0]).input_ids], axis=1)"
   ]
  },
  {
   "cell_type": "code",
   "execution_count": 165,
   "id": "9135496d-06e1-4038-8c2d-665fe1b04820",
   "metadata": {},
   "outputs": [
    {
     "data": {
      "text/html": [
       "<div>\n",
       "<style scoped>\n",
       "    .dataframe tbody tr th:only-of-type {\n",
       "        vertical-align: middle;\n",
       "    }\n",
       "\n",
       "    .dataframe tbody tr th {\n",
       "        vertical-align: top;\n",
       "    }\n",
       "\n",
       "    .dataframe thead th {\n",
       "        text-align: right;\n",
       "    }\n",
       "</style>\n",
       "<table border=\"1\" class=\"dataframe\">\n",
       "  <thead>\n",
       "    <tr style=\"text-align: right;\">\n",
       "      <th></th>\n",
       "      <th>mean</th>\n",
       "      <th>stdev</th>\n",
       "      <th>entropy</th>\n",
       "      <th>skewness</th>\n",
       "      <th>kurtoses</th>\n",
       "      <th>top1s</th>\n",
       "      <th>selected</th>\n",
       "      <th>inpstrs</th>\n",
       "      <th>improves</th>\n",
       "      <th>initsco</th>\n",
       "      <th>prefpercent</th>\n",
       "      <th>prefix</th>\n",
       "      <th>selstrs</th>\n",
       "      <th>prompt</th>\n",
       "      <th>stdevs</th>\n",
       "    </tr>\n",
       "  </thead>\n",
       "  <tbody>\n",
       "    <tr>\n",
       "      <th>0</th>\n",
       "      <td>0.000031</td>\n",
       "      <td>0.005326</td>\n",
       "      <td>0.2321</td>\n",
       "      <td>179.00</td>\n",
       "      <td>32070.0</td>\n",
       "      <td>0.9543</td>\n",
       "      <td>0.9543</td>\n",
       "      <td>[The, body, naturally, burn, s, calories, to, ...</td>\n",
       "      <td>-0.116369</td>\n",
       "      <td>0.850852</td>\n",
       "      <td>0.022388</td>\n",
       "      <td>3.0</td>\n",
       "      <td>[The body burns calories in a number of ways, ...</td>\n",
       "      <td>Explain like I'm five years old: How does your...</td>\n",
       "      <td>0.171495</td>\n",
       "    </tr>\n",
       "    <tr>\n",
       "      <th>1</th>\n",
       "      <td>0.000031</td>\n",
       "      <td>0.005579</td>\n",
       "      <td>0.0000</td>\n",
       "      <td>179.20</td>\n",
       "      <td>32120.0</td>\n",
       "      <td>1.0000</td>\n",
       "      <td>1.0000</td>\n",
       "      <td>[The, body, naturally, burn, s, calories, to, ...</td>\n",
       "      <td>-0.116918</td>\n",
       "      <td>0.850852</td>\n",
       "      <td>0.029851</td>\n",
       "      <td>4.0</td>\n",
       "      <td>[The body naturally burns a certain amount of ...</td>\n",
       "      <td>Explain like I'm five years old: How does your...</td>\n",
       "      <td>0.054129</td>\n",
       "    </tr>\n",
       "    <tr>\n",
       "      <th>2</th>\n",
       "      <td>0.000031</td>\n",
       "      <td>0.004141</td>\n",
       "      <td>1.0870</td>\n",
       "      <td>173.50</td>\n",
       "      <td>30690.0</td>\n",
       "      <td>0.7338</td>\n",
       "      <td>0.7338</td>\n",
       "      <td>[The, body, naturally, burn, s, calories, to, ...</td>\n",
       "      <td>-0.155831</td>\n",
       "      <td>0.850852</td>\n",
       "      <td>0.037313</td>\n",
       "      <td>5.0</td>\n",
       "      <td>[The body naturally burns calories at a rate o...</td>\n",
       "      <td>Explain like I'm five years old: How does your...</td>\n",
       "      <td>0.184409</td>\n",
       "    </tr>\n",
       "    <tr>\n",
       "      <th>3</th>\n",
       "      <td>0.000031</td>\n",
       "      <td>0.001755</td>\n",
       "      <td>2.7190</td>\n",
       "      <td>96.74</td>\n",
       "      <td>11510.0</td>\n",
       "      <td>0.2365</td>\n",
       "      <td>0.2365</td>\n",
       "      <td>[The, body, naturally, burn, s, calories, to, ...</td>\n",
       "      <td>-0.098341</td>\n",
       "      <td>0.850852</td>\n",
       "      <td>0.044776</td>\n",
       "      <td>6.0</td>\n",
       "      <td>[The body naturally burns calories at a slow b...</td>\n",
       "      <td>Explain like I'm five years old: How does your...</td>\n",
       "      <td>0.229578</td>\n",
       "    </tr>\n",
       "    <tr>\n",
       "      <th>4</th>\n",
       "      <td>0.000031</td>\n",
       "      <td>0.002951</td>\n",
       "      <td>1.7650</td>\n",
       "      <td>129.10</td>\n",
       "      <td>17730.0</td>\n",
       "      <td>0.4394</td>\n",
       "      <td>0.2772</td>\n",
       "      <td>[The, body, naturally, burn, s, calories, to, ...</td>\n",
       "      <td>-0.354737</td>\n",
       "      <td>0.850852</td>\n",
       "      <td>0.052239</td>\n",
       "      <td>7.0</td>\n",
       "      <td>[The body naturally burns calories throughout ...</td>\n",
       "      <td>Explain like I'm five years old: How does your...</td>\n",
       "      <td>0.094000</td>\n",
       "    </tr>\n",
       "    <tr>\n",
       "      <th>...</th>\n",
       "      <td>...</td>\n",
       "      <td>...</td>\n",
       "      <td>...</td>\n",
       "      <td>...</td>\n",
       "      <td>...</td>\n",
       "      <td>...</td>\n",
       "      <td>...</td>\n",
       "      <td>...</td>\n",
       "      <td>...</td>\n",
       "      <td>...</td>\n",
       "      <td>...</td>\n",
       "      <td>...</td>\n",
       "      <td>...</td>\n",
       "      <td>...</td>\n",
       "      <td>...</td>\n",
       "    </tr>\n",
       "    <tr>\n",
       "      <th>3372</th>\n",
       "      <td>0.000031</td>\n",
       "      <td>0.002265</td>\n",
       "      <td>1.9960</td>\n",
       "      <td>88.34</td>\n",
       "      <td>8471.0</td>\n",
       "      <td>0.2567</td>\n",
       "      <td>0.1924</td>\n",
       "      <td>[The, laugh, track, was, initially, used, to, ...</td>\n",
       "      <td>0.016264</td>\n",
       "      <td>0.947469</td>\n",
       "      <td>0.941860</td>\n",
       "      <td>81.0</td>\n",
       "      <td>[The laugh track was initially used to replace...</td>\n",
       "      <td>eli5: Why were laugh tracks so widely used on ...</td>\n",
       "      <td>0.005703</td>\n",
       "    </tr>\n",
       "    <tr>\n",
       "      <th>3373</th>\n",
       "      <td>0.000031</td>\n",
       "      <td>0.005579</td>\n",
       "      <td>0.0000</td>\n",
       "      <td>179.20</td>\n",
       "      <td>32120.0</td>\n",
       "      <td>1.0000</td>\n",
       "      <td>1.0000</td>\n",
       "      <td>[The, laugh, track, was, initially, used, to, ...</td>\n",
       "      <td>0.009833</td>\n",
       "      <td>0.947469</td>\n",
       "      <td>0.953488</td>\n",
       "      <td>82.0</td>\n",
       "      <td>[The laugh track was initially used to replace...</td>\n",
       "      <td>eli5: Why were laugh tracks so widely used on ...</td>\n",
       "      <td>0.002972</td>\n",
       "    </tr>\n",
       "    <tr>\n",
       "      <th>3374</th>\n",
       "      <td>0.000031</td>\n",
       "      <td>0.005063</td>\n",
       "      <td>0.4376</td>\n",
       "      <td>178.50</td>\n",
       "      <td>31940.0</td>\n",
       "      <td>0.9062</td>\n",
       "      <td>0.9062</td>\n",
       "      <td>[The, laugh, track, was, initially, used, to, ...</td>\n",
       "      <td>0.009444</td>\n",
       "      <td>0.947469</td>\n",
       "      <td>0.965116</td>\n",
       "      <td>83.0</td>\n",
       "      <td>[The laugh track was initially used to replace...</td>\n",
       "      <td>eli5: Why were laugh tracks so widely used on ...</td>\n",
       "      <td>0.004328</td>\n",
       "    </tr>\n",
       "    <tr>\n",
       "      <th>3375</th>\n",
       "      <td>0.000031</td>\n",
       "      <td>0.003017</td>\n",
       "      <td>1.4610</td>\n",
       "      <td>116.40</td>\n",
       "      <td>14620.0</td>\n",
       "      <td>0.4267</td>\n",
       "      <td>0.2257</td>\n",
       "      <td>[The, laugh, track, was, initially, used, to, ...</td>\n",
       "      <td>0.006975</td>\n",
       "      <td>0.947469</td>\n",
       "      <td>0.976744</td>\n",
       "      <td>84.0</td>\n",
       "      <td>[The laugh track was initially used to replace...</td>\n",
       "      <td>eli5: Why were laugh tracks so widely used on ...</td>\n",
       "      <td>0.003308</td>\n",
       "    </tr>\n",
       "    <tr>\n",
       "      <th>3376</th>\n",
       "      <td>0.000031</td>\n",
       "      <td>0.004163</td>\n",
       "      <td>1.2090</td>\n",
       "      <td>175.30</td>\n",
       "      <td>31140.0</td>\n",
       "      <td>0.7405</td>\n",
       "      <td>0.7405</td>\n",
       "      <td>[The, laugh, track, was, initially, used, to, ...</td>\n",
       "      <td>0.019951</td>\n",
       "      <td>0.947469</td>\n",
       "      <td>0.988372</td>\n",
       "      <td>85.0</td>\n",
       "      <td>[The laugh track was initially used to replace...</td>\n",
       "      <td>eli5: Why were laugh tracks so widely used on ...</td>\n",
       "      <td>0.008995</td>\n",
       "    </tr>\n",
       "  </tbody>\n",
       "</table>\n",
       "<p>3377 rows × 15 columns</p>\n",
       "</div>"
      ],
      "text/plain": [
       "          mean     stdev  entropy  skewness  kurtoses   top1s  selected  \\\n",
       "0     0.000031  0.005326   0.2321    179.00   32070.0  0.9543    0.9543   \n",
       "1     0.000031  0.005579   0.0000    179.20   32120.0  1.0000    1.0000   \n",
       "2     0.000031  0.004141   1.0870    173.50   30690.0  0.7338    0.7338   \n",
       "3     0.000031  0.001755   2.7190     96.74   11510.0  0.2365    0.2365   \n",
       "4     0.000031  0.002951   1.7650    129.10   17730.0  0.4394    0.2772   \n",
       "...        ...       ...      ...       ...       ...     ...       ...   \n",
       "3372  0.000031  0.002265   1.9960     88.34    8471.0  0.2567    0.1924   \n",
       "3373  0.000031  0.005579   0.0000    179.20   32120.0  1.0000    1.0000   \n",
       "3374  0.000031  0.005063   0.4376    178.50   31940.0  0.9062    0.9062   \n",
       "3375  0.000031  0.003017   1.4610    116.40   14620.0  0.4267    0.2257   \n",
       "3376  0.000031  0.004163   1.2090    175.30   31140.0  0.7405    0.7405   \n",
       "\n",
       "                                                inpstrs  improves   initsco  \\\n",
       "0     [The, body, naturally, burn, s, calories, to, ... -0.116369  0.850852   \n",
       "1     [The, body, naturally, burn, s, calories, to, ... -0.116918  0.850852   \n",
       "2     [The, body, naturally, burn, s, calories, to, ... -0.155831  0.850852   \n",
       "3     [The, body, naturally, burn, s, calories, to, ... -0.098341  0.850852   \n",
       "4     [The, body, naturally, burn, s, calories, to, ... -0.354737  0.850852   \n",
       "...                                                 ...       ...       ...   \n",
       "3372  [The, laugh, track, was, initially, used, to, ...  0.016264  0.947469   \n",
       "3373  [The, laugh, track, was, initially, used, to, ...  0.009833  0.947469   \n",
       "3374  [The, laugh, track, was, initially, used, to, ...  0.009444  0.947469   \n",
       "3375  [The, laugh, track, was, initially, used, to, ...  0.006975  0.947469   \n",
       "3376  [The, laugh, track, was, initially, used, to, ...  0.019951  0.947469   \n",
       "\n",
       "      prefpercent  prefix                                            selstrs  \\\n",
       "0        0.022388     3.0  [The body burns calories in a number of ways, ...   \n",
       "1        0.029851     4.0  [The body naturally burns a certain amount of ...   \n",
       "2        0.037313     5.0  [The body naturally burns calories at a rate o...   \n",
       "3        0.044776     6.0  [The body naturally burns calories at a slow b...   \n",
       "4        0.052239     7.0  [The body naturally burns calories throughout ...   \n",
       "...           ...     ...                                                ...   \n",
       "3372     0.941860    81.0  [The laugh track was initially used to replace...   \n",
       "3373     0.953488    82.0  [The laugh track was initially used to replace...   \n",
       "3374     0.965116    83.0  [The laugh track was initially used to replace...   \n",
       "3375     0.976744    84.0  [The laugh track was initially used to replace...   \n",
       "3376     0.988372    85.0  [The laugh track was initially used to replace...   \n",
       "\n",
       "                                                 prompt    stdevs  \n",
       "0     Explain like I'm five years old: How does your...  0.171495  \n",
       "1     Explain like I'm five years old: How does your...  0.054129  \n",
       "2     Explain like I'm five years old: How does your...  0.184409  \n",
       "3     Explain like I'm five years old: How does your...  0.229578  \n",
       "4     Explain like I'm five years old: How does your...  0.094000  \n",
       "...                                                 ...       ...  \n",
       "3372  eli5: Why were laugh tracks so widely used on ...  0.005703  \n",
       "3373  eli5: Why were laugh tracks so widely used on ...  0.002972  \n",
       "3374  eli5: Why were laugh tracks so widely used on ...  0.004328  \n",
       "3375  eli5: Why were laugh tracks so widely used on ...  0.003308  \n",
       "3376  eli5: Why were laugh tracks so widely used on ...  0.008995  \n",
       "\n",
       "[3377 rows x 15 columns]"
      ]
     },
     "execution_count": 165,
     "metadata": {},
     "output_type": "execute_result"
    }
   ],
   "source": [
    "resdf"
   ]
  },
  {
   "cell_type": "code",
   "execution_count": 33,
   "id": "696f8b6a-f575-48a6-94c6-f0122e40465a",
   "metadata": {},
   "outputs": [
    {
     "data": {
      "text/plain": [
       "(array([263., 350., 345., 345., 349., 344., 348., 349., 347., 337.]),\n",
       " array([0.01244813, 0.11078838, 0.20912863, 0.30746888, 0.40580913,\n",
       "        0.50414938, 0.60248963, 0.70082988, 0.79917012, 0.89751037,\n",
       "        0.99585062]),\n",
       " <BarContainer object of 10 artists>)"
      ]
     },
     "execution_count": 33,
     "metadata": {},
     "output_type": "execute_result"
    },
    {
     "data": {
      "image/png": "[encoded data removed]",
      "text/plain": [
       "<Figure size 640x480 with 1 Axes>"
      ]
     },
     "metadata": {},
     "output_type": "display_data"
    }
   ],
   "source": [
    "plt.hist(resdf['prefpercent'])"
   ]
  },
  {
   "cell_type": "code",
   "execution_count": 228,
   "id": "b6f85956-f466-4a01-9169-c5f410449182",
   "metadata": {},
   "outputs": [
    {
     "name": "stdout",
     "output_type": "stream",
     "text": [
      "Explain like I'm five years old: Why is Blackjack the only mathematically beatable game in casino?\n",
      "0.8082352281\n",
      "FULL START\n",
      "['Blackjack', 'has', 'the', 'highest', 'house', 'edge', 'of', 'any', 'casino', 'game', ',', 'at', 'nearly', '', '5%', '.', 'The', 'advantage', 'of', 'the', 'house', 'is', 'mitigate', 'd', 'by', 'the', 'rule', 'of', '21', '.', 'Therefore', ',', 'only', 'blackjack']\n",
      "PARTIAL START\n",
      "['Blackjack', 'has', 'the', 'highest', 'house', 'edge', 'of', 'any', 'casino', 'game', ',', 'at', 'nearly', '', '5%', '.', 'The', 'advantage', 'of', 'the', 'house', 'is', 'mitigate', 'd', 'by', 'the', 'rule', 'of', '21', '.', 'Therefore', ',', 'only', 'blackjack', 'can', 'be', 'mathematical', 'ly', 'beat', 'able', 'and', 'the', 'house', 'advantage', 'must', 'be', 'reduced', 'to', 'close', 'to', 'zero', '.', '</s>']\n",
      "53\n"
     ]
    },
    {
     "data": {
      "text/plain": [
       "<matplotlib.collections.PathCollection at 0x7f9c75428a60>"
      ]
     },
     "execution_count": 228,
     "metadata": {},
     "output_type": "execute_result"
    },
    {
     "data": {
      "image/png": "[encoded data removed]",
      "text/plain": [
       "<Figure size 1200x700 with 3 Axes>"
      ]
     },
     "metadata": {},
     "output_type": "display_data"
    }
   ],
   "source": [
    "# get individual prefix scatters\n",
    "smans = []\n",
    "alluns = list(resdf['initsco'].unique())\n",
    "vind = 12\n",
    "subset = resdf[resdf['initsco']==alluns[vind]]\n",
    "print(subset['prompt'].iloc[0])\n",
    "print(alluns[vind])\n",
    "print(\"FULL START\")\n",
    "print(subset['inpstrs'].iloc[0][:int(ilen*1)])\n",
    "ilen = len(subset['inpstrs'].iloc[0])\n",
    "ratio=1\n",
    "print(\"PARTIAL START\")\n",
    "print(subset['inpstrs'].iloc[0][:int(ilen*ratio)])\n",
    "print(len(subset['inpstrs'].iloc[0]))\n",
    "fig, ax = plt.subplots(1, 3, figsize=(12, 7))\n",
    "ax[0].scatter(subset['prefpercent'].iloc[:int(ilen*ratio)], subset['improves'].iloc[:int(ilen*ratio)])\n",
    "ax[1].scatter(subset['prefpercent'].iloc[:int(ilen*ratio)], subset['stdevs'].iloc[:int(ilen*ratio)])\n",
    "ax[2].scatter(subset['prefpercent'].iloc[:int(ilen*ratio)], subset['entropy'].iloc[:int(ilen*ratio)])\n"
   ]
  },
  {
   "cell_type": "code",
   "execution_count": 43,
   "id": "4d0cef39-8169-458d-aff0-f286231e79d8",
   "metadata": {},
   "outputs": [],
   "source": [
    "wauns = []\n",
    "for a in alluns:\n",
    "    if a<.75:\n",
    "        wauns.append(a)"
   ]
  },
  {
   "cell_type": "code",
   "execution_count": 22,
   "id": "ed11d038-f224-422a-855d-f3a09a0c7eb6",
   "metadata": {},
   "outputs": [
    {
     "data": {
      "text/html": [
       "<div>\n",
       "<style scoped>\n",
       "    .dataframe tbody tr th:only-of-type {\n",
       "        vertical-align: middle;\n",
       "    }\n",
       "\n",
       "    .dataframe tbody tr th {\n",
       "        vertical-align: top;\n",
       "    }\n",
       "\n",
       "    .dataframe thead th {\n",
       "        text-align: right;\n",
       "    }\n",
       "</style>\n",
       "<table border=\"1\" class=\"dataframe\">\n",
       "  <thead>\n",
       "    <tr style=\"text-align: right;\">\n",
       "      <th></th>\n",
       "      <th>mean</th>\n",
       "      <th>stdev</th>\n",
       "      <th>entropy</th>\n",
       "      <th>skewness</th>\n",
       "      <th>kurtoses</th>\n",
       "      <th>top1s</th>\n",
       "      <th>selected</th>\n",
       "      <th>inpstrs</th>\n",
       "      <th>improves</th>\n",
       "      <th>initsco</th>\n",
       "      <th>prefpercent</th>\n",
       "      <th>prefix</th>\n",
       "      <th>selstrs</th>\n",
       "    </tr>\n",
       "  </thead>\n",
       "  <tbody>\n",
       "    <tr>\n",
       "      <th>478</th>\n",
       "      <td>0.000031</td>\n",
       "      <td>0.005579</td>\n",
       "      <td>0.0000</td>\n",
       "      <td>179.2</td>\n",
       "      <td>32120.0</td>\n",
       "      <td>1.0000</td>\n",
       "      <td>1.000000</td>\n",
       "      <td>[The, faster, , a, moving, object, is, ,, the,...</td>\n",
       "      <td>0.408319</td>\n",
       "      <td>0.404301</td>\n",
       "      <td>0.033333</td>\n",
       "      <td>3.0</td>\n",
       "      <td>[The, best, -, performing, , t, y, re, s, (, f...</td>\n",
       "    </tr>\n",
       "    <tr>\n",
       "      <th>479</th>\n",
       "      <td>0.000031</td>\n",
       "      <td>0.003433</td>\n",
       "      <td>1.1030</td>\n",
       "      <td>121.7</td>\n",
       "      <td>15210.0</td>\n",
       "      <td>0.4563</td>\n",
       "      <td>0.009828</td>\n",
       "      <td>[The, faster, , a, moving, object, is, ,, the,...</td>\n",
       "      <td>0.422899</td>\n",
       "      <td>0.404301</td>\n",
       "      <td>0.044444</td>\n",
       "      <td>4.0</td>\n",
       "      <td>[The, best, compromise, between, handling, and...</td>\n",
       "    </tr>\n",
       "    <tr>\n",
       "      <th>480</th>\n",
       "      <td>0.000031</td>\n",
       "      <td>0.004778</td>\n",
       "      <td>0.5112</td>\n",
       "      <td>174.4</td>\n",
       "      <td>30870.0</td>\n",
       "      <td>0.8480</td>\n",
       "      <td>0.848000</td>\n",
       "      <td>[The, faster, , a, moving, object, is, ,, the,...</td>\n",
       "      <td>0.479819</td>\n",
       "      <td>0.404301</td>\n",
       "      <td>0.055556</td>\n",
       "      <td>5.0</td>\n",
       "      <td>[The, best, compromise, between, weight, and, ...</td>\n",
       "    </tr>\n",
       "    <tr>\n",
       "      <th>481</th>\n",
       "      <td>0.000031</td>\n",
       "      <td>0.003884</td>\n",
       "      <td>1.1760</td>\n",
       "      <td>168.2</td>\n",
       "      <td>29320.0</td>\n",
       "      <td>0.6804</td>\n",
       "      <td>0.680400</td>\n",
       "      <td>[The, faster, , a, moving, object, is, ,, the,...</td>\n",
       "      <td>0.445646</td>\n",
       "      <td>0.404301</td>\n",
       "      <td>0.066667</td>\n",
       "      <td>6.0</td>\n",
       "      <td>[The, best, compromise, between, performance, ...</td>\n",
       "    </tr>\n",
       "    <tr>\n",
       "      <th>482</th>\n",
       "      <td>0.000031</td>\n",
       "      <td>0.004997</td>\n",
       "      <td>0.4109</td>\n",
       "      <td>176.7</td>\n",
       "      <td>31490.0</td>\n",
       "      <td>0.8912</td>\n",
       "      <td>0.891200</td>\n",
       "      <td>[The, faster, , a, moving, object, is, ,, the,...</td>\n",
       "      <td>0.455465</td>\n",
       "      <td>0.404301</td>\n",
       "      <td>0.077778</td>\n",
       "      <td>7.0</td>\n",
       "      <td>[The, best, compromise, between, performance, ...</td>\n",
       "    </tr>\n",
       "    <tr>\n",
       "      <th>...</th>\n",
       "      <td>...</td>\n",
       "      <td>...</td>\n",
       "      <td>...</td>\n",
       "      <td>...</td>\n",
       "      <td>...</td>\n",
       "      <td>...</td>\n",
       "      <td>...</td>\n",
       "      <td>...</td>\n",
       "      <td>...</td>\n",
       "      <td>...</td>\n",
       "      <td>...</td>\n",
       "      <td>...</td>\n",
       "      <td>...</td>\n",
       "    </tr>\n",
       "    <tr>\n",
       "      <th>561</th>\n",
       "      <td>0.000031</td>\n",
       "      <td>0.003710</td>\n",
       "      <td>1.6200</td>\n",
       "      <td>174.0</td>\n",
       "      <td>30830.0</td>\n",
       "      <td>0.6583</td>\n",
       "      <td>0.008209</td>\n",
       "      <td>[The, faster, , a, moving, object, is, ,, the,...</td>\n",
       "      <td>0.414638</td>\n",
       "      <td>0.404301</td>\n",
       "      <td>0.955556</td>\n",
       "      <td>86.0</td>\n",
       "      <td>[The, best, compromise, between, performance, ...</td>\n",
       "    </tr>\n",
       "    <tr>\n",
       "      <th>562</th>\n",
       "      <td>0.000031</td>\n",
       "      <td>0.003705</td>\n",
       "      <td>1.6250</td>\n",
       "      <td>174.0</td>\n",
       "      <td>30830.0</td>\n",
       "      <td>0.6573</td>\n",
       "      <td>0.657300</td>\n",
       "      <td>[The, faster, , a, moving, object, is, ,, the,...</td>\n",
       "      <td>0.414795</td>\n",
       "      <td>0.404301</td>\n",
       "      <td>0.966667</td>\n",
       "      <td>87.0</td>\n",
       "      <td>[The, best, compromise, between, performance, ...</td>\n",
       "    </tr>\n",
       "    <tr>\n",
       "      <th>563</th>\n",
       "      <td>0.000031</td>\n",
       "      <td>0.003667</td>\n",
       "      <td>1.6510</td>\n",
       "      <td>173.8</td>\n",
       "      <td>30770.0</td>\n",
       "      <td>0.6503</td>\n",
       "      <td>0.650300</td>\n",
       "      <td>[The, faster, , a, moving, object, is, ,, the,...</td>\n",
       "      <td>0.417017</td>\n",
       "      <td>0.404301</td>\n",
       "      <td>0.977778</td>\n",
       "      <td>88.0</td>\n",
       "      <td>[The, best, compromise, between, performance, ...</td>\n",
       "    </tr>\n",
       "    <tr>\n",
       "      <th>564</th>\n",
       "      <td>0.000031</td>\n",
       "      <td>0.003663</td>\n",
       "      <td>1.6630</td>\n",
       "      <td>173.8</td>\n",
       "      <td>30790.0</td>\n",
       "      <td>0.6496</td>\n",
       "      <td>0.649600</td>\n",
       "      <td>[The, faster, , a, moving, object, is, ,, the,...</td>\n",
       "      <td>0.471832</td>\n",
       "      <td>0.404301</td>\n",
       "      <td>0.988889</td>\n",
       "      <td>89.0</td>\n",
       "      <td>[The, best, compromise, between, performance, ...</td>\n",
       "    </tr>\n",
       "    <tr>\n",
       "      <th>565</th>\n",
       "      <td>0.000031</td>\n",
       "      <td>0.003685</td>\n",
       "      <td>1.6390</td>\n",
       "      <td>173.9</td>\n",
       "      <td>30810.0</td>\n",
       "      <td>0.6537</td>\n",
       "      <td>0.008701</td>\n",
       "      <td>[The, faster, , a, moving, object, is, ,, the,...</td>\n",
       "      <td>0.465141</td>\n",
       "      <td>0.404301</td>\n",
       "      <td>1.000000</td>\n",
       "      <td>90.0</td>\n",
       "      <td>[The, best, compromise, between, performance, ...</td>\n",
       "    </tr>\n",
       "  </tbody>\n",
       "</table>\n",
       "<p>88 rows × 13 columns</p>\n",
       "</div>"
      ],
      "text/plain": [
       "         mean     stdev  entropy  skewness  kurtoses   top1s  selected  \\\n",
       "478  0.000031  0.005579   0.0000     179.2   32120.0  1.0000  1.000000   \n",
       "479  0.000031  0.003433   1.1030     121.7   15210.0  0.4563  0.009828   \n",
       "480  0.000031  0.004778   0.5112     174.4   30870.0  0.8480  0.848000   \n",
       "481  0.000031  0.003884   1.1760     168.2   29320.0  0.6804  0.680400   \n",
       "482  0.000031  0.004997   0.4109     176.7   31490.0  0.8912  0.891200   \n",
       "..        ...       ...      ...       ...       ...     ...       ...   \n",
       "561  0.000031  0.003710   1.6200     174.0   30830.0  0.6583  0.008209   \n",
       "562  0.000031  0.003705   1.6250     174.0   30830.0  0.6573  0.657300   \n",
       "563  0.000031  0.003667   1.6510     173.8   30770.0  0.6503  0.650300   \n",
       "564  0.000031  0.003663   1.6630     173.8   30790.0  0.6496  0.649600   \n",
       "565  0.000031  0.003685   1.6390     173.9   30810.0  0.6537  0.008701   \n",
       "\n",
       "                                               inpstrs  improves   initsco  \\\n",
       "478  [The, faster, , a, moving, object, is, ,, the,...  0.408319  0.404301   \n",
       "479  [The, faster, , a, moving, object, is, ,, the,...  0.422899  0.404301   \n",
       "480  [The, faster, , a, moving, object, is, ,, the,...  0.479819  0.404301   \n",
       "481  [The, faster, , a, moving, object, is, ,, the,...  0.445646  0.404301   \n",
       "482  [The, faster, , a, moving, object, is, ,, the,...  0.455465  0.404301   \n",
       "..                                                 ...       ...       ...   \n",
       "561  [The, faster, , a, moving, object, is, ,, the,...  0.414638  0.404301   \n",
       "562  [The, faster, , a, moving, object, is, ,, the,...  0.414795  0.404301   \n",
       "563  [The, faster, , a, moving, object, is, ,, the,...  0.417017  0.404301   \n",
       "564  [The, faster, , a, moving, object, is, ,, the,...  0.471832  0.404301   \n",
       "565  [The, faster, , a, moving, object, is, ,, the,...  0.465141  0.404301   \n",
       "\n",
       "     prefpercent  prefix                                            selstrs  \n",
       "478     0.033333     3.0  [The, best, -, performing, , t, y, re, s, (, f...  \n",
       "479     0.044444     4.0  [The, best, compromise, between, handling, and...  \n",
       "480     0.055556     5.0  [The, best, compromise, between, weight, and, ...  \n",
       "481     0.066667     6.0  [The, best, compromise, between, performance, ...  \n",
       "482     0.077778     7.0  [The, best, compromise, between, performance, ...  \n",
       "..           ...     ...                                                ...  \n",
       "561     0.955556    86.0  [The, best, compromise, between, performance, ...  \n",
       "562     0.966667    87.0  [The, best, compromise, between, performance, ...  \n",
       "563     0.977778    88.0  [The, best, compromise, between, performance, ...  \n",
       "564     0.988889    89.0  [The, best, compromise, between, performance, ...  \n",
       "565     1.000000    90.0  [The, best, compromise, between, performance, ...  \n",
       "\n",
       "[88 rows x 13 columns]"
      ]
     },
     "execution_count": 22,
     "metadata": {},
     "output_type": "execute_result"
    }
   ],
   "source": [
    "subset"
   ]
  },
  {
   "cell_type": "code",
   "execution_count": 44,
   "id": "9161ee79-01bf-42d7-ad4e-e8b07b016d48",
   "metadata": {},
   "outputs": [],
   "source": [
    "#resdf['nidf'] = resdf.apply(lambda row: nidf(row['inpstrs']), axis=1)\n",
    "#print(\"nidf\")\n",
    "#resdf['tfidf'] = resdf.apply(lambda row: tf_idf(row['inpstrs']), axis=1)\n",
    "#print(\"tfidf\")\n",
    "#resdf['f_kinc'] =  resdf.apply(lambda row: flesch_kincaid(row['inpstrs']), axis=1)\n",
    "#resdf['smog'] =  resdf.apply(lambda row: smog(row['inpstrs']), axis=1)\n",
    "#resdf['gfog'] =  resdf.apply(lambda row: gunning_fog(row['inpstrs']), axis=1)\n",
    "#resdf['f_kinc'] =  resdf.apply(lambda row: flesch_kincaid(row['inpstrs']), axis=1)\n",
    "resdf['coleman'] =  resdf.apply(lambda row: coleman_liau(row['inpstrs']), axis=1)\n"
   ]
  },
  {
   "cell_type": "code",
   "execution_count": 45,
   "id": "fdf286a3-dc36-4eee-8fc5-54cb9b65a5df",
   "metadata": {},
   "outputs": [
    {
     "data": {
      "text/html": [
       "<div>\n",
       "<style scoped>\n",
       "    .dataframe tbody tr th:only-of-type {\n",
       "        vertical-align: middle;\n",
       "    }\n",
       "\n",
       "    .dataframe tbody tr th {\n",
       "        vertical-align: top;\n",
       "    }\n",
       "\n",
       "    .dataframe thead th {\n",
       "        text-align: right;\n",
       "    }\n",
       "</style>\n",
       "<table border=\"1\" class=\"dataframe\">\n",
       "  <thead>\n",
       "    <tr style=\"text-align: right;\">\n",
       "      <th></th>\n",
       "      <th>mean</th>\n",
       "      <th>stdev</th>\n",
       "      <th>entropy</th>\n",
       "      <th>skewness</th>\n",
       "      <th>kurtoses</th>\n",
       "      <th>top1s</th>\n",
       "      <th>selected</th>\n",
       "      <th>inpstrs</th>\n",
       "      <th>improves</th>\n",
       "      <th>initsco</th>\n",
       "      <th>prefpercent</th>\n",
       "      <th>prefix</th>\n",
       "      <th>mean_nidf</th>\n",
       "      <th>coleman</th>\n",
       "    </tr>\n",
       "  </thead>\n",
       "  <tbody>\n",
       "    <tr>\n",
       "      <th>0</th>\n",
       "      <td>0.000031</td>\n",
       "      <td>0.005326</td>\n",
       "      <td>0.2321</td>\n",
       "      <td>179.00</td>\n",
       "      <td>32070.0</td>\n",
       "      <td>0.9543</td>\n",
       "      <td>0.9543</td>\n",
       "      <td>The body naturally</td>\n",
       "      <td>-0.116369</td>\n",
       "      <td>0.850852</td>\n",
       "      <td>0.022556</td>\n",
       "      <td>3.0</td>\n",
       "      <td>0.946627</td>\n",
       "      <td>5.693333</td>\n",
       "    </tr>\n",
       "    <tr>\n",
       "      <th>1</th>\n",
       "      <td>0.000031</td>\n",
       "      <td>0.005579</td>\n",
       "      <td>0.0000</td>\n",
       "      <td>179.20</td>\n",
       "      <td>32120.0</td>\n",
       "      <td>1.0000</td>\n",
       "      <td>1.0000</td>\n",
       "      <td>The body naturally burn</td>\n",
       "      <td>-0.116918</td>\n",
       "      <td>0.850852</td>\n",
       "      <td>0.030075</td>\n",
       "      <td>4.0</td>\n",
       "      <td>1.083998</td>\n",
       "      <td>6.200000</td>\n",
       "    </tr>\n",
       "    <tr>\n",
       "      <th>2</th>\n",
       "      <td>0.000031</td>\n",
       "      <td>0.004141</td>\n",
       "      <td>1.0870</td>\n",
       "      <td>173.50</td>\n",
       "      <td>30690.0</td>\n",
       "      <td>0.7338</td>\n",
       "      <td>0.7338</td>\n",
       "      <td>The body naturally burns</td>\n",
       "      <td>-0.155831</td>\n",
       "      <td>0.850852</td>\n",
       "      <td>0.037594</td>\n",
       "      <td>5.0</td>\n",
       "      <td>1.603858</td>\n",
       "      <td>7.670000</td>\n",
       "    </tr>\n",
       "    <tr>\n",
       "      <th>3</th>\n",
       "      <td>0.000031</td>\n",
       "      <td>0.001755</td>\n",
       "      <td>2.7190</td>\n",
       "      <td>96.74</td>\n",
       "      <td>11510.0</td>\n",
       "      <td>0.2365</td>\n",
       "      <td>0.2365</td>\n",
       "      <td>The body naturally burns calories</td>\n",
       "      <td>-0.098341</td>\n",
       "      <td>0.850852</td>\n",
       "      <td>0.045113</td>\n",
       "      <td>6.0</td>\n",
       "      <td>2.306285</td>\n",
       "      <td>12.384000</td>\n",
       "    </tr>\n",
       "    <tr>\n",
       "      <th>4</th>\n",
       "      <td>0.000031</td>\n",
       "      <td>0.002951</td>\n",
       "      <td>1.7650</td>\n",
       "      <td>129.10</td>\n",
       "      <td>17730.0</td>\n",
       "      <td>0.4394</td>\n",
       "      <td>0.2772</td>\n",
       "      <td>The body naturally burns calories to</td>\n",
       "      <td>-0.354737</td>\n",
       "      <td>0.850852</td>\n",
       "      <td>0.052632</td>\n",
       "      <td>7.0</td>\n",
       "      <td>1.921572</td>\n",
       "      <td>9.646667</td>\n",
       "    </tr>\n",
       "    <tr>\n",
       "      <th>...</th>\n",
       "      <td>...</td>\n",
       "      <td>...</td>\n",
       "      <td>...</td>\n",
       "      <td>...</td>\n",
       "      <td>...</td>\n",
       "      <td>...</td>\n",
       "      <td>...</td>\n",
       "      <td>...</td>\n",
       "      <td>...</td>\n",
       "      <td>...</td>\n",
       "      <td>...</td>\n",
       "      <td>...</td>\n",
       "      <td>...</td>\n",
       "      <td>...</td>\n",
       "    </tr>\n",
       "    <tr>\n",
       "      <th>3372</th>\n",
       "      <td>0.000031</td>\n",
       "      <td>0.002265</td>\n",
       "      <td>1.9960</td>\n",
       "      <td>88.34</td>\n",
       "      <td>8471.0</td>\n",
       "      <td>0.2567</td>\n",
       "      <td>0.1924</td>\n",
       "      <td>The laugh track was initially used to replace ...</td>\n",
       "      <td>0.016264</td>\n",
       "      <td>0.947469</td>\n",
       "      <td>0.952941</td>\n",
       "      <td>81.0</td>\n",
       "      <td>1.079536</td>\n",
       "      <td>10.654286</td>\n",
       "    </tr>\n",
       "    <tr>\n",
       "      <th>3373</th>\n",
       "      <td>0.000031</td>\n",
       "      <td>0.005579</td>\n",
       "      <td>0.0000</td>\n",
       "      <td>179.20</td>\n",
       "      <td>32120.0</td>\n",
       "      <td>1.0000</td>\n",
       "      <td>1.0000</td>\n",
       "      <td>The laugh track was initially used to replace ...</td>\n",
       "      <td>0.009833</td>\n",
       "      <td>0.947469</td>\n",
       "      <td>0.964706</td>\n",
       "      <td>82.0</td>\n",
       "      <td>1.079536</td>\n",
       "      <td>10.530141</td>\n",
       "    </tr>\n",
       "    <tr>\n",
       "      <th>3374</th>\n",
       "      <td>0.000031</td>\n",
       "      <td>0.005063</td>\n",
       "      <td>0.4376</td>\n",
       "      <td>178.50</td>\n",
       "      <td>31940.0</td>\n",
       "      <td>0.9062</td>\n",
       "      <td>0.9062</td>\n",
       "      <td>The laugh track was initially used to replace ...</td>\n",
       "      <td>0.009444</td>\n",
       "      <td>0.947469</td>\n",
       "      <td>0.976471</td>\n",
       "      <td>83.0</td>\n",
       "      <td>1.079536</td>\n",
       "      <td>10.778592</td>\n",
       "    </tr>\n",
       "    <tr>\n",
       "      <th>3375</th>\n",
       "      <td>0.000031</td>\n",
       "      <td>0.003017</td>\n",
       "      <td>1.4610</td>\n",
       "      <td>116.40</td>\n",
       "      <td>14620.0</td>\n",
       "      <td>0.4267</td>\n",
       "      <td>0.2257</td>\n",
       "      <td>The laugh track was initially used to replace ...</td>\n",
       "      <td>0.006975</td>\n",
       "      <td>0.947469</td>\n",
       "      <td>0.988235</td>\n",
       "      <td>84.0</td>\n",
       "      <td>1.064331</td>\n",
       "      <td>10.861408</td>\n",
       "    </tr>\n",
       "    <tr>\n",
       "      <th>3376</th>\n",
       "      <td>0.000031</td>\n",
       "      <td>0.004163</td>\n",
       "      <td>1.2090</td>\n",
       "      <td>175.30</td>\n",
       "      <td>31140.0</td>\n",
       "      <td>0.7405</td>\n",
       "      <td>0.7405</td>\n",
       "      <td>The laugh track was initially used to replace ...</td>\n",
       "      <td>0.019951</td>\n",
       "      <td>0.947469</td>\n",
       "      <td>1.000000</td>\n",
       "      <td>85.0</td>\n",
       "      <td>1.064331</td>\n",
       "      <td>10.444507</td>\n",
       "    </tr>\n",
       "  </tbody>\n",
       "</table>\n",
       "<p>3377 rows × 14 columns</p>\n",
       "</div>"
      ],
      "text/plain": [
       "          mean     stdev  entropy  skewness  kurtoses   top1s  selected  \\\n",
       "0     0.000031  0.005326   0.2321    179.00   32070.0  0.9543    0.9543   \n",
       "1     0.000031  0.005579   0.0000    179.20   32120.0  1.0000    1.0000   \n",
       "2     0.000031  0.004141   1.0870    173.50   30690.0  0.7338    0.7338   \n",
       "3     0.000031  0.001755   2.7190     96.74   11510.0  0.2365    0.2365   \n",
       "4     0.000031  0.002951   1.7650    129.10   17730.0  0.4394    0.2772   \n",
       "...        ...       ...      ...       ...       ...     ...       ...   \n",
       "3372  0.000031  0.002265   1.9960     88.34    8471.0  0.2567    0.1924   \n",
       "3373  0.000031  0.005579   0.0000    179.20   32120.0  1.0000    1.0000   \n",
       "3374  0.000031  0.005063   0.4376    178.50   31940.0  0.9062    0.9062   \n",
       "3375  0.000031  0.003017   1.4610    116.40   14620.0  0.4267    0.2257   \n",
       "3376  0.000031  0.004163   1.2090    175.30   31140.0  0.7405    0.7405   \n",
       "\n",
       "                                                inpstrs  improves   initsco  \\\n",
       "0                                    The body naturally -0.116369  0.850852   \n",
       "1                               The body naturally burn -0.116918  0.850852   \n",
       "2                              The body naturally burns -0.155831  0.850852   \n",
       "3                     The body naturally burns calories -0.098341  0.850852   \n",
       "4                  The body naturally burns calories to -0.354737  0.850852   \n",
       "...                                                 ...       ...       ...   \n",
       "3372  The laugh track was initially used to replace ...  0.016264  0.947469   \n",
       "3373  The laugh track was initially used to replace ...  0.009833  0.947469   \n",
       "3374  The laugh track was initially used to replace ...  0.009444  0.947469   \n",
       "3375  The laugh track was initially used to replace ...  0.006975  0.947469   \n",
       "3376  The laugh track was initially used to replace ...  0.019951  0.947469   \n",
       "\n",
       "      prefpercent  prefix  mean_nidf    coleman  \n",
       "0        0.022556     3.0   0.946627   5.693333  \n",
       "1        0.030075     4.0   1.083998   6.200000  \n",
       "2        0.037594     5.0   1.603858   7.670000  \n",
       "3        0.045113     6.0   2.306285  12.384000  \n",
       "4        0.052632     7.0   1.921572   9.646667  \n",
       "...           ...     ...        ...        ...  \n",
       "3372     0.952941    81.0   1.079536  10.654286  \n",
       "3373     0.964706    82.0   1.079536  10.530141  \n",
       "3374     0.976471    83.0   1.079536  10.778592  \n",
       "3375     0.988235    84.0   1.064331  10.861408  \n",
       "3376     1.000000    85.0   1.064331  10.444507  \n",
       "\n",
       "[3377 rows x 14 columns]"
      ]
     },
     "execution_count": 45,
     "metadata": {},
     "output_type": "execute_result"
    }
   ],
   "source": [
    "resdf"
   ]
  },
  {
   "cell_type": "code",
   "execution_count": 19,
   "id": "b0ed10ee-93e1-486b-8cc3-a6ef13438e8e",
   "metadata": {},
   "outputs": [],
   "source": [
    "def get_traintest(rdf, ratio):\n",
    "    auns = rdf['initsco'].unique()\n",
    "    cutind = int(len(auns)*ratio)+1\n",
    "    tmp = rdf[rdf['initsco']==auns[cutind]].reset_index()\n",
    "    cutind = int(tmp.iloc[0]['index'])\n",
    "    return rdf.iloc[:cutind], rdf.iloc[cutind:]\n",
    "        "
   ]
  },
  {
   "cell_type": "code",
   "execution_count": 47,
   "id": "c4ca4247-020c-4910-b47e-a2182f798edd",
   "metadata": {},
   "outputs": [],
   "source": [
    "trainrdf, testrdf = get_traintest(resdf, 0.8)"
   ]
  },
  {
   "cell_type": "code",
   "execution_count": null,
   "id": "645245f0-c5a1-4e73-b9a4-6c17f80fa12a",
   "metadata": {},
   "outputs": [],
   "source": []
  },
  {
   "cell_type": "code",
   "execution_count": 20,
   "id": "1e23c723-a23f-42dc-995f-75238d2a7c35",
   "metadata": {},
   "outputs": [],
   "source": [
    "# write simple code, see if simple model does the trick\n",
    "import pandas as pd\n",
    "from sklearn.model_selection import train_test_split\n",
    "from sklearn.linear_model import LinearRegression, Ridge, Lasso\n",
    "from sklearn.ensemble import RandomForestRegressor, GradientBoostingRegressor\n",
    "from sklearn.metrics import mean_squared_error, r2_score"
   ]
  },
  {
   "cell_type": "code",
   "execution_count": 21,
   "id": "113469e4-f391-4fcb-b2c5-9bec978e39ff",
   "metadata": {},
   "outputs": [],
   "source": [
    "thresh = 0\n",
    "def balance_labels(df):\n",
    "    # Separate the DataFrame into two based on the condition\n",
    "    above_zero_df = df[df['improves'] >= 0]\n",
    "    below_zero_df = df[df['improves'] < 0]\n",
    "\n",
    "    # Calculate the difference in lengths\n",
    "    length_diff = len(above_zero_df) - len(below_zero_df)\n",
    "\n",
    "    # Drop rows from the dominant class\n",
    "    if length_diff > thresh:\n",
    "        above_zero_df = above_zero_df.sample(len(below_zero_df))\n",
    "    elif length_diff < thresh:\n",
    "        below_zero_df = below_zero_df.sample(len(above_zero_df))\n",
    "\n",
    "    # Concatenate the two balanced DataFrames\n",
    "    return pd.concat([above_zero_df, below_zero_df], axis=0).reset_index(drop=True)\n"
   ]
  },
  {
   "cell_type": "code",
   "execution_count": 69,
   "id": "ceb6f58e-aa56-4bf9-bf79-85ea8b19afb8",
   "metadata": {},
   "outputs": [],
   "source": [
    "btraindf = balance_labels(trainrdf)\n",
    "btestdf = balance_labels(testrdf)"
   ]
  },
  {
   "cell_type": "code",
   "execution_count": 70,
   "id": "441e9dc0-d863-48f8-8799-ea3b48ccc6fc",
   "metadata": {},
   "outputs": [],
   "source": [
    "X_train = btraindf.drop(\"improves\", axis=1)\n",
    "X_train = X_train.drop(\"inpstrs\", axis=1)\n",
    "y_train = btraindf['improves']\n",
    "X_test = btestdf.drop(\"improves\", axis=1)\n",
    "X_test = X_test.drop(\"inpstrs\", axis=1)\n",
    "y_test = btestdf['improves']"
   ]
  },
  {
   "cell_type": "code",
   "execution_count": 71,
   "id": "61addbe9-6a97-4a2b-ac9c-2dde6fa740a0",
   "metadata": {},
   "outputs": [
    {
     "data": {
      "text/plain": [
       "(array([  0.,   0.,   0.,   0.,   0., 212.,   0.,   0.,   0.,   0.]),\n",
       " array([-0.5, -0.4, -0.3, -0.2, -0.1,  0. ,  0.1,  0.2,  0.3,  0.4,  0.5]),\n",
       " <BarContainer object of 10 artists>)"
      ]
     },
     "execution_count": 71,
     "metadata": {},
     "output_type": "execute_result"
    },
    {
     "data": {
      "image/png": "[encoded data removed]",
      "text/plain": [
       "<Figure size 640x480 with 1 Axes>"
      ]
     },
     "metadata": {},
     "output_type": "display_data"
    }
   ],
   "source": [
    "plt.hist(list([int(f) for f in y_test]))"
   ]
  },
  {
   "cell_type": "code",
   "execution_count": 72,
   "id": "7a328e1a-5dfc-44a9-939c-a6ac73dc05e9",
   "metadata": {},
   "outputs": [
    {
     "name": "stdout",
     "output_type": "stream",
     "text": [
      "positive preds0.1650943396226415\n",
      "Logistic Regression:\n",
      "  Accuracy: 0.5896\n",
      "  Precision: 0.7714\n",
      "  Recall: 0.2547\n",
      "  F1 Score: 0.3830\n",
      "\n",
      "positive preds0.5141509433962265\n",
      "Random Forest:\n",
      "  Accuracy: 0.5708\n",
      "  Precision: 0.5688\n",
      "  Recall: 0.5849\n",
      "  F1 Score: 0.5767\n",
      "\n",
      "positive preds0.5943396226415094\n",
      "Gradient Boosting:\n",
      "  Accuracy: 0.5849\n",
      "  Precision: 0.5714\n",
      "  Recall: 0.6792\n",
      "  F1 Score: 0.6207\n",
      "\n",
      "positive preds0.0\n",
      "SVM:\n",
      "  Accuracy: 0.5000\n",
      "  Precision: 0.0000\n",
      "  Recall: 0.0000\n",
      "  F1 Score: 0.0000\n",
      "\n"
     ]
    },
    {
     "name": "stderr",
     "output_type": "stream",
     "text": [
      "/home/prasann/miniconda3/envs/rewardenv/lib/python3.8/site-packages/sklearn/metrics/_classification.py:1327: UndefinedMetricWarning: Precision is ill-defined and being set to 0.0 due to no predicted samples. Use `zero_division` parameter to control this behavior.\n",
      "  _warn_prf(average, modifier, msg_start, len(result))\n"
     ]
    }
   ],
   "source": [
    "# Classification Setup\n",
    "import pandas as pd\n",
    "from sklearn.model_selection import train_test_split, GridSearchCV\n",
    "from sklearn.linear_model import LogisticRegression\n",
    "from sklearn.ensemble import RandomForestClassifier, GradientBoostingClassifier\n",
    "from sklearn.svm import SVC\n",
    "from sklearn.metrics import accuracy_score, precision_score, recall_score, f1_score\n",
    "\n",
    "# Load your pandas DataFrame\n",
    "# df = pd.read_csv('your_file.csv')\n",
    "y_train = y_train > thresh\n",
    "y_test = y_test > thresh\n",
    "\n",
    "# List of models to try\n",
    "models = [\n",
    "    ('Logistic Regression', LogisticRegression(random_state=42)),\n",
    "    ('Random Forest', RandomForestClassifier(random_state=42)),\n",
    "    ('Gradient Boosting', GradientBoostingClassifier(random_state=42)),\n",
    "    ('SVM', SVC(random_state=42)),\n",
    "]\n",
    "\n",
    "# Evaluate the performance of each model\n",
    "for name, model in models:\n",
    "    model.fit(X_train, y_train)\n",
    "    y_pred = model.predict(X_test)\n",
    "    accuracy = accuracy_score(y_test, y_pred)\n",
    "    precision = precision_score(y_test, y_pred)\n",
    "    recall = recall_score(y_test, y_pred)\n",
    "    f1 = f1_score(y_test, y_pred)\n",
    "    print(\"positive preds\"+str(sum(y_pred)/len(y_pred)))\n",
    "    print(f'{name}:')\n",
    "    print(f'  Accuracy: {accuracy:.4f}')\n",
    "    print(f'  Precision: {precision:.4f}')\n",
    "    print(f'  Recall: {recall:.4f}')\n",
    "    print(f'  F1 Score: {f1:.4f}')\n",
    "    print()"
   ]
  },
  {
   "cell_type": "code",
   "execution_count": null,
   "id": "46c38b06-cb18-43f9-b51b-9a2a430bc2a1",
   "metadata": {},
   "outputs": [],
   "source": [
    "# Hyperparameter tuning for RandomForestClassifier using GridSearchCV\n",
    "param_grid = {\n",
    "    'n_estimators': [100, 200, 300],\n",
    "    'max_depth': [None, 10, 20, 30],\n",
    "    'min_samples_split': [2, 5, 10],\n",
    "    'min_samples_leaf': [1, 2, 4],\n",
    "}\n",
    "\n",
    "rf = RandomForestClassifier(random_state=42)\n",
    "grid_search = GridSearchCV(estimator=rf, param_grid=param_grid, scoring='f1', cv=5, verbose=2, n_jobs=-1)\n",
    "grid_search.fit(X_train, y_train)\n",
    "\n",
    "# Get the best hyperparameters\n",
    "best_params = grid_search.best_params_\n",
    "print(f\"Best hyperparameters for RandomForestClassifier: {best_params}\")\n",
    "\n",
    "# Train the model with the best hyperparameters and evaluate its performance\n",
    "best_rf = RandomForestClassifier(**best_params, random_state=42)\n",
    "best_rf.fit(X_train, y_train)\n",
    "y_pred = best_rf.predict(X_test)\n",
    "accuracy = accuracy_score(y_test, y_pred)\n",
    "precision = precision_score(y_test, y_pred)\n",
    "recall = recall_score(y_test, y_pred)\n",
    "f1 = f1_score(y_test, y_pred)\n",
    "print(f\"Random Forest with best hyperparameters:\")\n",
    "print(f\"  Accuracy: {accuracy:.4f}\")\n",
    "print(f\"  Precision: {precision:.4f}\")\n",
    "print(f\"  Recall: {recall:.4f}\")\n",
    "print(f\"  F1 Score: {f1:.4f}\")"
   ]
  },
  {
   "cell_type": "code",
   "execution_count": 104,
   "id": "317428a1-555a-4a4f-9263-586e40a51a31",
   "metadata": {},
   "outputs": [
    {
     "name": "stdout",
     "output_type": "stream",
     "text": [
      "Linear Regression:\n",
      "  Mean Squared Error: 0.0035\n",
      "  R2 Score: 0.0640\n",
      "\n",
      "Ridge:\n",
      "  Mean Squared Error: 0.0035\n",
      "  R2 Score: 0.0623\n",
      "\n",
      "Lasso:\n",
      "  Mean Squared Error: 0.0041\n",
      "  R2 Score: -0.0965\n",
      "\n",
      "Random Forest:\n",
      "  Mean Squared Error: 0.0046\n",
      "  R2 Score: -0.2274\n",
      "\n",
      "Gradient Boosting:\n",
      "  Mean Squared Error: 0.0040\n",
      "  R2 Score: -0.0649\n",
      "\n"
     ]
    }
   ],
   "source": [
    "# REGRESSION setup\n",
    "# List of models to try\n",
    "models = [\n",
    "    ('Linear Regression', LinearRegression()),\n",
    "    ('Ridge', Ridge()),\n",
    "    ('Lasso', Lasso()),\n",
    "    ('Random Forest', RandomForestRegressor(random_state=42)),\n",
    "    ('Gradient Boosting', GradientBoostingRegressor(random_state=42)),\n",
    "]\n",
    "\n",
    "# Evaluate the performance of each model\n",
    "for name, model in models:\n",
    "    model.fit(X_train, y_train)\n",
    "    y_pred = model.predict(X_test)\n",
    "    mse = mean_squared_error(y_test, y_pred)\n",
    "    r2 = r2_score(y_test, y_pred)\n",
    "    print(f'{name}:')\n",
    "    print(f'  Mean Squared Error: {mse:.4f}')\n",
    "    print(f'  R2 Score: {r2:.4f}')\n",
    "    print()"
   ]
  },
  {
   "cell_type": "code",
   "execution_count": null,
   "id": "a9fa49d2-19ff-4dee-a1d5-952fe63083d7",
   "metadata": {},
   "outputs": [],
   "source": [
    "from sklearn.model_selection import GridSearchCV\n",
    "\n",
    "# Hyperparameters to tune for GradientBoostingRegressor\n",
    "param_grid = {\n",
    "    'n_estimators': [100, 200, 300],\n",
    "    'learning_rate': [0.01, 0.1, 0.2],\n",
    "    'max_depth': [3, 4, 5],\n",
    "    'subsample': [0.8, 0.9, 1.0],\n",
    "}\n",
    "\n",
    "# Perform grid search on GradientBoostingRegressor\n",
    "gbm = GradientBoostingRegressor(random_state=42)\n",
    "grid_search = GridSearchCV(estimator=gbm, param_grid=param_grid, scoring='r2', cv=5, verbose=2, n_jobs=-1)\n",
    "grid_search.fit(X_train, y_train)\n",
    "\n",
    "# Get the best hyperparameters\n",
    "best_params = grid_search.best_params_\n",
    "print(f\"Best hyperparameters: {best_params}\")\n",
    "\n",
    "# Train the model with the best hyperparameters and evaluate its performance\n",
    "best_gbm = GradientBoostingRegressor(**best_params, random_state=42)\n",
    "best_gbm.fit(X_train, y_train)\n",
    "y_pred = best_gbm.predict(X_test)\n",
    "mse = mean_squared_error(y_test, y_pred)\n",
    "r2 = r2_score(y_test, y_pred)\n",
    "print(f\"Gradient Boosting with best hyperparameters:\")\n",
    "print(f\"  Mean Squared Error: {mse:.4f}\")\n",
    "print(f\"  R2 Score: {r2:.4f}\")"
   ]
  },
  {
   "cell_type": "code",
   "execution_count": 94,
   "id": "29aeb681-fba9-4df1-9018-1a3b4d97ea33",
   "metadata": {},
   "outputs": [],
   "source": [
    "min_class_size = resdf['initsco'].value_counts().min()\n",
    "\n",
    "# Group by class_id, sample the rows and concatenate the result\n",
    "balanced = resdf.groupby('initsco').apply(lambda x: x.sample(min_class_size)).reset_index(drop=True)\n"
   ]
  },
  {
   "cell_type": "code",
   "execution_count": 40,
   "id": "3d76a014-4317-4080-baac-a77f3f2afdd1",
   "metadata": {},
   "outputs": [
    {
     "data": {
      "text/html": [
       "<div>\n",
       "<style scoped>\n",
       "    .dataframe tbody tr th:only-of-type {\n",
       "        vertical-align: middle;\n",
       "    }\n",
       "\n",
       "    .dataframe tbody tr th {\n",
       "        vertical-align: top;\n",
       "    }\n",
       "\n",
       "    .dataframe thead th {\n",
       "        text-align: right;\n",
       "    }\n",
       "</style>\n",
       "<table border=\"1\" class=\"dataframe\">\n",
       "  <thead>\n",
       "    <tr style=\"text-align: right;\">\n",
       "      <th></th>\n",
       "      <th>improves</th>\n",
       "      <th>stat</th>\n",
       "      <th>initsco</th>\n",
       "      <th>prefpercent</th>\n",
       "    </tr>\n",
       "  </thead>\n",
       "  <tbody>\n",
       "    <tr>\n",
       "      <th>0</th>\n",
       "      <td>-0.116369</td>\n",
       "      <td>0.2321</td>\n",
       "      <td>0.850852</td>\n",
       "      <td>0.022388</td>\n",
       "    </tr>\n",
       "    <tr>\n",
       "      <th>1</th>\n",
       "      <td>-0.116918</td>\n",
       "      <td>0.0000</td>\n",
       "      <td>0.850852</td>\n",
       "      <td>0.029851</td>\n",
       "    </tr>\n",
       "    <tr>\n",
       "      <th>2</th>\n",
       "      <td>-0.155831</td>\n",
       "      <td>1.0870</td>\n",
       "      <td>0.850852</td>\n",
       "      <td>0.037313</td>\n",
       "    </tr>\n",
       "    <tr>\n",
       "      <th>3</th>\n",
       "      <td>-0.098341</td>\n",
       "      <td>2.7190</td>\n",
       "      <td>0.850852</td>\n",
       "      <td>0.044776</td>\n",
       "    </tr>\n",
       "    <tr>\n",
       "      <th>4</th>\n",
       "      <td>-0.354737</td>\n",
       "      <td>1.7650</td>\n",
       "      <td>0.850852</td>\n",
       "      <td>0.052239</td>\n",
       "    </tr>\n",
       "    <tr>\n",
       "      <th>...</th>\n",
       "      <td>...</td>\n",
       "      <td>...</td>\n",
       "      <td>...</td>\n",
       "      <td>...</td>\n",
       "    </tr>\n",
       "    <tr>\n",
       "      <th>3372</th>\n",
       "      <td>0.016264</td>\n",
       "      <td>1.9960</td>\n",
       "      <td>0.947469</td>\n",
       "      <td>0.609023</td>\n",
       "    </tr>\n",
       "    <tr>\n",
       "      <th>3373</th>\n",
       "      <td>0.009833</td>\n",
       "      <td>0.0000</td>\n",
       "      <td>0.947469</td>\n",
       "      <td>0.616541</td>\n",
       "    </tr>\n",
       "    <tr>\n",
       "      <th>3374</th>\n",
       "      <td>0.009444</td>\n",
       "      <td>0.4376</td>\n",
       "      <td>0.947469</td>\n",
       "      <td>0.624060</td>\n",
       "    </tr>\n",
       "    <tr>\n",
       "      <th>3375</th>\n",
       "      <td>0.006975</td>\n",
       "      <td>1.4610</td>\n",
       "      <td>0.947469</td>\n",
       "      <td>0.631579</td>\n",
       "    </tr>\n",
       "    <tr>\n",
       "      <th>3376</th>\n",
       "      <td>0.019951</td>\n",
       "      <td>1.2090</td>\n",
       "      <td>0.947469</td>\n",
       "      <td>0.639098</td>\n",
       "    </tr>\n",
       "  </tbody>\n",
       "</table>\n",
       "<p>3377 rows × 4 columns</p>\n",
       "</div>"
      ],
      "text/plain": [
       "      improves    stat   initsco  prefpercent\n",
       "0    -0.116369  0.2321  0.850852     0.022388\n",
       "1    -0.116918  0.0000  0.850852     0.029851\n",
       "2    -0.155831  1.0870  0.850852     0.037313\n",
       "3    -0.098341  2.7190  0.850852     0.044776\n",
       "4    -0.354737  1.7650  0.850852     0.052239\n",
       "...        ...     ...       ...          ...\n",
       "3372  0.016264  1.9960  0.947469     0.609023\n",
       "3373  0.009833  0.0000  0.947469     0.616541\n",
       "3374  0.009444  0.4376  0.947469     0.624060\n",
       "3375  0.006975  1.4610  0.947469     0.631579\n",
       "3376  0.019951  1.2090  0.947469     0.639098\n",
       "\n",
       "[3377 rows x 4 columns]"
      ]
     },
     "execution_count": 40,
     "metadata": {},
     "output_type": "execute_result"
    }
   ],
   "source": [
    "resdf"
   ]
  },
  {
   "cell_type": "code",
   "execution_count": 60,
   "id": "f2426d6e-3de8-43b9-ac1f-4cbb151e0b94",
   "metadata": {},
   "outputs": [],
   "source": [
    "start = resdf[resdf['initsco']<0.85].reset_index()"
   ]
  },
  {
   "cell_type": "code",
   "execution_count": 66,
   "id": "5b8f9d2e-b020-4e8e-af82-ed0d28db5eb9",
   "metadata": {},
   "outputs": [],
   "source": [
    "# get correlation histogram plots\n",
    "smans = []\n",
    "alluns = list(start['initsco'].unique())\n",
    "\n",
    "for i in range(len(alluns)):\n",
    "    subset = start[start['initsco']==alluns[i]]\n",
    "    smans.append(spearmanr(subset['kurtoses'], subset['improves']).correlation)"
   ]
  },
  {
   "cell_type": "code",
   "execution_count": 36,
   "id": "6637b5fb-977f-445c-bfcd-65616be5c15e",
   "metadata": {},
   "outputs": [],
   "source": [
    "origs = e[e['ver']==\"worst\"]"
   ]
  },
  {
   "cell_type": "code",
   "execution_count": null,
   "id": "96b7cea0-3bcb-41b9-b89a-e2eca77e5445",
   "metadata": {},
   "outputs": [],
   "source": []
  },
  {
   "cell_type": "code",
   "execution_count": 38,
   "id": "6454423f-3c32-42ea-bb28-91a0172b8405",
   "metadata": {},
   "outputs": [
    {
     "name": "stdout",
     "output_type": "stream",
     "text": [
      "0.40430080890000003\n"
     ]
    },
    {
     "data": {
      "text/plain": [
       "<matplotlib.collections.PathCollection at 0x7f5b0d94d700>"
      ]
     },
     "execution_count": 38,
     "metadata": {},
     "output_type": "execute_result"
    },
    {
     "data": {
      "image/png": "[encoded data removed]",
      "text/plain": [
       "<Figure size 640x480 with 1 Axes>"
      ]
     },
     "metadata": {},
     "output_type": "display_data"
    }
   ],
   "source": [
    "# get individual prefix scatters\n",
    "smans = []\n",
    "alluns = list(resdf['initsco'].unique())\n",
    "vind = 5\n",
    "subset = resdf[resdf['initsco']==alluns[vind]]\n",
    "print(alluns[vind])\n",
    "plt.scatter(subset['prefpercent'], subset['improves'])"
   ]
  },
  {
   "cell_type": "code",
   "execution_count": 48,
   "id": "6025c7cd-fd16-470f-be7e-4240d7945827",
   "metadata": {},
   "outputs": [],
   "source": [
    "inits = e[e['ver']=='first']"
   ]
  },
  {
   "cell_type": "code",
   "execution_count": null,
   "id": "75ba6eaf-2144-403a-b885-e0bb5cfcb71b",
   "metadata": {},
   "outputs": [],
   "source": [
    "inits[inits['inpstr']==\"Explain like I'm five years old: why do the fastest bicycles have really thin tyres but the fastest cars have very wide tyres\"]"
   ]
  },
  {
   "cell_type": "code",
   "execution_count": 45,
   "id": "1d8da163-1cef-4003-af80-64eb22d60abd",
   "metadata": {},
   "outputs": [
    {
     "data": {
      "text/plain": [
       "'The best compromise between performance and comfort is achieved with a tyre that is essentially the same width across the contact patch, but with different pressures. The narrower the tyre, the more pressure it can take, but the thinner the tyre, the less force it can take. So if you want to travel fast, the narrower the tyre, the more force you need.'"
      ]
     },
     "execution_count": 45,
     "metadata": {},
     "output_type": "execute_result"
    }
   ],
   "source": [
    "origs.iloc[565]['hyps'][0]"
   ]
  },
  {
   "cell_type": "code",
   "execution_count": 29,
   "id": "5fd7a397-9d91-4c93-a8f6-9adfd3167402",
   "metadata": {},
   "outputs": [
    {
     "data": {
      "text/html": [
       "<pre style=\"white-space:pre;overflow-x:auto;line-height:normal;font-family:Menlo,'DejaVu Sans Mono',consolas,'Courier New',monospace\"><span style=\"color: #800000; text-decoration-color: #800000\">╭──────────────────────────── </span><span style=\"color: #800000; text-decoration-color: #800000; font-weight: bold\">Traceback </span><span style=\"color: #bf7f7f; text-decoration-color: #bf7f7f; font-weight: bold\">(most recent call last)</span><span style=\"color: #800000; text-decoration-color: #800000\"> ────────────────────────────╮</span>\n",
       "<span style=\"color: #800000; text-decoration-color: #800000\">│</span>                                                                                           <span style=\"color: #800000; text-decoration-color: #800000\">│</span>\n",
       "<span style=\"color: #800000; text-decoration-color: #800000\">│</span> <span style=\"color: #bfbf7f; text-decoration-color: #bfbf7f\">/tmp/ipykernel_1695171/</span><span style=\"color: #808000; text-decoration-color: #808000; font-weight: bold\">1021348429.py</span>:<span style=\"color: #0000ff; text-decoration-color: #0000ff\">1</span> in <span style=\"color: #00ff00; text-decoration-color: #00ff00\">&lt;module&gt;</span>                                        <span style=\"color: #800000; text-decoration-color: #800000\">│</span>\n",
       "<span style=\"color: #800000; text-decoration-color: #800000\">│</span>                                                                                           <span style=\"color: #800000; text-decoration-color: #800000\">│</span>\n",
       "<span style=\"color: #800000; text-decoration-color: #800000\">│</span> <span style=\"color: #800000; text-decoration-color: #800000; font-style: italic\">[Errno 2] No such file or directory: '/tmp/ipykernel_1695171/1021348429.py'</span>               <span style=\"color: #800000; text-decoration-color: #800000\">│</span>\n",
       "<span style=\"color: #800000; text-decoration-color: #800000\">╰───────────────────────────────────────────────────────────────────────────────────────────╯</span>\n",
       "<span style=\"color: #ff0000; text-decoration-color: #ff0000; font-weight: bold\">NameError: </span>name <span style=\"color: #008000; text-decoration-color: #008000\">'balanced'</span> is not defined\n",
       "</pre>\n"
      ],
      "text/plain": [
       "\u001b[31m╭─\u001b[0m\u001b[31m─────────────────────────── \u001b[0m\u001b[1;31mTraceback \u001b[0m\u001b[1;2;31m(most recent call last)\u001b[0m\u001b[31m ───────────────────────────\u001b[0m\u001b[31m─╮\u001b[0m\n",
       "\u001b[31m│\u001b[0m                                                                                           \u001b[31m│\u001b[0m\n",
       "\u001b[31m│\u001b[0m \u001b[2;33m/tmp/ipykernel_1695171/\u001b[0m\u001b[1;33m1021348429.py\u001b[0m:\u001b[94m1\u001b[0m in \u001b[92m<module>\u001b[0m                                        \u001b[31m│\u001b[0m\n",
       "\u001b[31m│\u001b[0m                                                                                           \u001b[31m│\u001b[0m\n",
       "\u001b[31m│\u001b[0m \u001b[3;31m[Errno 2] No such file or directory: '/tmp/ipykernel_1695171/1021348429.py'\u001b[0m               \u001b[31m│\u001b[0m\n",
       "\u001b[31m╰───────────────────────────────────────────────────────────────────────────────────────────╯\u001b[0m\n",
       "\u001b[1;91mNameError: \u001b[0mname \u001b[32m'balanced'\u001b[0m is not defined\n"
      ]
     },
     "metadata": {},
     "output_type": "display_data"
    }
   ],
   "source": [
    "test = balanced[balanced['prefpercent']>0.3]"
   ]
  },
  {
   "cell_type": "code",
   "execution_count": 91,
   "id": "45fb82fd-a671-4e3a-8904-3160b6b80314",
   "metadata": {},
   "outputs": [
    {
     "data": {
      "text/plain": [
       "SpearmanrResult(correlation=0.003782267993635742, pvalue=0.9230322120352731)"
      ]
     },
     "execution_count": 91,
     "metadata": {},
     "output_type": "execute_result"
    }
   ],
   "source": [
    "spearmanr(test['entropy'], test['improves'])"
   ]
  },
  {
   "cell_type": "code",
   "execution_count": null,
   "id": "2301e2fb-9bf7-49bb-b797-73147d5b5469",
   "metadata": {},
   "outputs": [],
   "source": [
    "def make_impred_dset(edf):\n",
    "    "
   ]
  },
  {
   "cell_type": "code",
   "execution_count": 87,
   "id": "10193c12-96a0-44d9-a63c-57ee46b7b631",
   "metadata": {},
   "outputs": [
    {
     "data": {
      "text/plain": [
       "(array([ 2.,  1.,  2.,  2.,  1.,  4.,  6., 14., 11.,  7.]),\n",
       " array([0.5616672 , 0.60214622, 0.64262524, 0.68310425, 0.72358327,\n",
       "        0.76406229, 0.8045413 , 0.84502032, 0.88549933, 0.92597835,\n",
       "        0.96645737]),\n",
       " <BarContainer object of 10 artists>)"
      ]
     },
     "execution_count": 87,
     "metadata": {},
     "output_type": "execute_result"
    },
    {
     "data": {
      "image/png": "[encoded data removed]",
      "text/plain": [
       "<Figure size 640x480 with 1 Axes>"
      ]
     },
     "metadata": {},
     "output_type": "display_data"
    }
   ],
   "source": [
    "plt.hist(balanced['initsco'].unique())"
   ]
  },
  {
   "cell_type": "code",
   "execution_count": 127,
   "id": "3af5c25e-9be2-4bfe-a0fd-f3bf96eb8c25",
   "metadata": {},
   "outputs": [
    {
     "data": {
      "text/plain": [
       "(array([ 18.,  36., 108.,  90., 144., 180.,  90.,  72.,  72.,  90.]),\n",
       " array([0.20809419, 0.27462578, 0.34115736, 0.40768895, 0.47422054,\n",
       "        0.54075212, 0.60728371, 0.67381529, 0.74034688, 0.80687846,\n",
       "        0.87341005]),\n",
       " <BarContainer object of 10 artists>)"
      ]
     },
     "execution_count": 127,
     "metadata": {},
     "output_type": "execute_result"
    },
    {
     "data": {
      "image/png": "[encoded data removed]",
      "text/plain": [
       "<Figure size 640x480 with 1 Axes>"
      ]
     },
     "metadata": {},
     "output_type": "display_data"
    }
   ],
   "source": [
    "plt.hist(balanced['initsco'])"
   ]
  },
  {
   "cell_type": "code",
   "execution_count": 119,
   "id": "8a51d939-de7c-4d5c-9275-0f68acabdb8c",
   "metadata": {},
   "outputs": [
    {
     "data": {
      "text/plain": [
       "(array([ 17.,  89., 137.,  68., 270., 117.,  72.,  49., 109.,  91.]),\n",
       " array([0.20809419, 0.27462578, 0.34115736, 0.40768895, 0.47422054,\n",
       "        0.54075212, 0.60728371, 0.67381529, 0.74034688, 0.80687846,\n",
       "        0.87341005]),\n",
       " <BarContainer object of 10 artists>)"
      ]
     },
     "execution_count": 119,
     "metadata": {},
     "output_type": "execute_result"
    },
    {
     "data": {
      "image/png": "[encoded data removed]",
      "text/plain": [
       "<Figure size 640x480 with 1 Axes>"
      ]
     },
     "metadata": {},
     "output_type": "display_data"
    }
   ],
   "source": [
    "plt.hist(tmp['initsco'])"
   ]
  },
  {
   "cell_type": "code",
   "execution_count": 138,
   "id": "dd3fa663-4b57-4510-8cac-c18ad4f51b3f",
   "metadata": {},
   "outputs": [
    {
     "name": "stdout",
     "output_type": "stream",
     "text": [
      "SpearmanrResult(correlation=0.07105710275467188, pvalue=0.31372810763270115)\n"
     ]
    },
    {
     "data": {
      "text/plain": [
       "<matplotlib.collections.PathCollection at 0x7fb9702981f0>"
      ]
     },
     "execution_count": 138,
     "metadata": {},
     "output_type": "execute_result"
    },
    {
     "data": {
      "image/png": "[encoded data removed]",
      "text/plain": [
       "<Figure size 640x480 with 1 Axes>"
      ]
     },
     "metadata": {},
     "output_type": "display_data"
    }
   ],
   "source": [
    "tmp = resdf[resdf['prefpercent']>0.9]\n",
    "print(spearmanr(tmp['stat'], tmp['improves']))\n",
    "plt.scatter(tmp['stat'],tmp['improves'])"
   ]
  },
  {
   "cell_type": "code",
   "execution_count": 112,
   "id": "13526356-064b-4676-9597-6dce4cd7324f",
   "metadata": {},
   "outputs": [],
   "source": [
    "BASE = \"output/prefpreds/\"\n",
    "p0s = pd.read_json(BASE+\"prefpreds0.jsonl\",orient=\"records\", lines=True)\n",
    "p1s = pd.read_json(BASE+\"prefpreds1.jsonl\",orient=\"records\", lines=True)\n",
    "p2s = pd.read_json(BASE+\"prefpreds2.jsonl\",orient=\"records\", lines=True)\n",
    "p3s = pd.read_json(BASE+\"prefpreds3.jsonl\",orient=\"records\", lines=True)\n",
    "p4s = pd.read_json(BASE+\"prefpreds4.jsonl\",orient=\"records\", lines=True)"
   ]
  },
  {
   "cell_type": "code",
   "execution_count": 8,
   "id": "67cf47d6-b413-46de-ac5b-728b5fa56183",
   "metadata": {},
   "outputs": [],
   "source": [
    "sdf7 = pd.read_json(BASE+\"verbprefpreds0_0.7.jsonl\",orient=\"records\", lines=True)\n",
    "sdf3 = pd.read_json(BASE+\"verbprefpreds0_0.3.jsonl\",orient=\"records\", lines=True)"
   ]
  },
  {
   "cell_type": "code",
   "execution_count": 9,
   "id": "6501e60e-e659-456b-a383-18353dd3584a",
   "metadata": {},
   "outputs": [],
   "source": [
    "def ascosdist(sdf):\n",
    "    oscos = []\n",
    "    nscos = []\n",
    "    for i in range(len(sdf)):\n",
    "        oscos.extend(sdf.iloc[i]['scos'][0])\n",
    "        nscos.extend(sdf.iloc[i]['scos'][1])\n",
    "    return oscos, nscos"
   ]
  },
  {
   "cell_type": "code",
   "execution_count": 51,
   "id": "12df7e77-3271-43ea-a1ef-6f702c2b6a5b",
   "metadata": {},
   "outputs": [
    {
     "data": {
      "text/plain": [
       "(array([ 3.,  5.,  8.,  7., 20., 21., 33., 39., 38., 26.]),\n",
       " array([0.31463179, 0.38078749, 0.44694319, 0.51309889, 0.57925459,\n",
       "        0.64541028, 0.71156598, 0.77772168, 0.84387738, 0.91003308,\n",
       "        0.97618878]),\n",
       " <BarContainer object of 10 artists>)"
      ]
     },
     "execution_count": 51,
     "metadata": {},
     "output_type": "execute_result"
    },
    {
     "data": {
      "image/png": "[encoded data removed]",
      "text/plain": [
       "<Figure size 640x480 with 2 Axes>"
      ]
     },
     "metadata": {},
     "output_type": "display_data"
    }
   ],
   "source": [
    "os, ns = ascosdist(sdf3)\n",
    "fig, ax2 = plt.subplots(1,2)\n",
    "ax2[0].hist(os)\n",
    "ax2[1].hist(ns)\n"
   ]
  },
  {
   "cell_type": "code",
   "execution_count": 7,
   "id": "162ceac6-6cdb-4fbe-a9d0-b1a86f3f5c03",
   "metadata": {},
   "outputs": [],
   "source": [
    "def showind_box(ind, sdf, newind):\n",
    "    plt.boxplot(sdf['stats'].iloc[ind][newind]['entropy'], vert=True, meanline=True)\n",
    "    plt.show()"
   ]
  },
  {
   "cell_type": "code",
   "execution_count": 8,
   "id": "b2c1886d-be82-4185-ad36-97b7ebfe2601",
   "metadata": {},
   "outputs": [],
   "source": [
    "def plot_lines(ind, sdf, newind, inax, metric='entropy'):\n",
    "    row = sdf.iloc[ind]\n",
    "    data = np.array(row['stats'][newind][metric])\n",
    "    tokeddata = tokenizer(row['hyps'][newind], padding=True, truncation=True, return_tensors=\"pt\").input_ids\n",
    "    pinds = torch.sum(tokeddata==0, dim=1)\n",
    "    linds = torch.sum(tokeddata>0, dim=1)\n",
    "    print(linds)\n",
    "    #print(data.shape)\n",
    "    #print(tokeddata.shape)\n",
    "    for i in range(4):\n",
    "        # stats ignoring pad tokens\n",
    "        if pinds[i]>0:\n",
    "            ndata = data[:-int(pinds[i]), i]\n",
    "        else:\n",
    "            ndata = data[:, i]\n",
    "        #print(\"de-padded data \", ndata.shape)\n",
    "        s = linds[i]-len(ndata)#+pinds[i])\n",
    "        #print(\"start \", s)\n",
    "        #print(\"end \", linds[i])\n",
    "        inax.plot(range(s, int(linds[i])), ndata , label=str(row['scos'][newind][i]))\n",
    "    inax.legend()\n",
    "    \n"
   ]
  },
  {
   "cell_type": "code",
   "execution_count": 9,
   "id": "dd30ab65-55b9-49b7-a0bc-3fa4789759d4",
   "metadata": {},
   "outputs": [
    {
     "name": "stdout",
     "output_type": "stream",
     "text": [
      "tensor([47, 31, 75, 37])\n",
      "tensor([31, 53, 44, 63])\n"
     ]
    },
    {
     "data": {
      "image/png": "[encoded data removed]",
      "text/plain": [
       "<Figure size 1000x500 with 2 Axes>"
      ]
     },
     "metadata": {},
     "output_type": "display_data"
    }
   ],
   "source": [
    "fig, ax = plt.subplots(1, 2, figsize=(10, 5))\n",
    "\n",
    "# \"mean\", \"stdev\", \"entropy\", \"skewness\", \"kurtoses\", \"top1s\", \"selected\"\n",
    "ind = 5\n",
    "metric = \"selected\"\n",
    "plot_lines(ind, sdf7, 0, ax[0],metric )\n",
    "plot_lines(ind, sdf7, 1, ax[1], metric)"
   ]
  },
  {
   "cell_type": "code",
   "execution_count": 10,
   "id": "067f9ddb-4812-43af-bfb6-bd029bd5c28c",
   "metadata": {},
   "outputs": [],
   "source": [
    "def preproc_metric(row, metric, newind):\n",
    "    data = np.array(row['stats'][newind][metric])\n",
    "    tokeddata = tokenizer(row['hyps'][newind], padding=True, truncation=True, return_tensors=\"pt\").input_ids\n",
    "    pinds = torch.sum(tokeddata==0, dim=1)\n",
    "    linds = torch.sum(tokeddata>0, dim=1)\n",
    "    #print(linds)\n",
    "    starts = []\n",
    "    ndatas = []\n",
    "    for i in range(4):\n",
    "        # stats ignoring pad tokens\n",
    "        if pinds[i]>0:\n",
    "            ndata = data[:-int(pinds[i]), i]\n",
    "        else:\n",
    "            ndata = data[:, i]\n",
    "        #print(\"de-padded data \", ndata.shape)\n",
    "        s = linds[i]-len(ndata)#+pinds[i])\n",
    "        starts.append(s)\n",
    "        ndatas.append(ndata)\n",
    "    return starts, ndatas\n",
    "    \n",
    "def get_agg_stats(row, metric):\n",
    "    _, origdatas = preproc_metric(row, metric, 0)\n",
    "    prefixes, newdatas = preproc_metric(row, metric, 1)\n",
    "    aggres = []\n",
    "    o_pre_means = []\n",
    "    o_post_means = []\n",
    "    o_full_means = []\n",
    "    n_post_means = []\n",
    "    for i in range(0, 4):\n",
    "        aggres.append({\n",
    "            \"opre\":mean(origdatas[i][:prefixes[i]]),\n",
    "            \"opost\":mean(origdatas[i][prefixes[i]:]),\n",
    "            \"ofull\":mean(origdatas[i]),\n",
    "            \"shp\":row['scos'][0][i]\n",
    "        })\n",
    "        aggres.append({\n",
    "            \"pfull\":mean(newdatas[i]),\n",
    "            \"shp\":row['scos'][1][i]\n",
    "        })\n",
    "\n",
    "    return aggres\n",
    "    \n",
    "def makedataset(sdf, metric):\n",
    "    allrows = []\n",
    "    for s in range(len(sdf)):\n",
    "        allrows.extend(get_agg_stats(sdf.iloc[s], metric))\n",
    "    return pd.DataFrame(allrows)"
   ]
  },
  {
   "cell_type": "code",
   "execution_count": 42,
   "id": "e91bbd3a-576e-4903-b8dc-8d482bacaf84",
   "metadata": {},
   "outputs": [
    {
     "data": {
      "text/plain": [
       "(array([35.,  0.,  1.,  2.,  1., 22., 79., 93., 31., 10.]),\n",
       " array([    0.        ,  3211.92156863,  6423.84313725,  9635.76470588,\n",
       "        12847.68627451, 16059.60784314, 19271.52941176, 22483.45098039,\n",
       "        25695.37254902, 28907.29411765, 32119.21568627]),\n",
       " <BarContainer object of 10 artists>)"
      ]
     },
     "execution_count": 42,
     "metadata": {},
     "output_type": "execute_result"
    },
    {
     "data": {
      "image/png": "[encoded data removed]",
      "text/plain": [
       "<Figure size 640x480 with 6 Axes>"
      ]
     },
     "metadata": {},
     "output_type": "display_data"
    }
   ],
   "source": [
    "entdset = makedataset(sdf7, \"kurtoses\")\n",
    "predata = entdset[entdset['opre']>0]\n",
    "fig, ax = plt.subplots(3, 2)\n",
    "good = predata[predata['shp']>.8]\n",
    "ax[0][0].hist(list(good['ofull']))\n",
    "ax[1][0].hist(list(good['opre']))\n",
    "ax[2][0].hist(list(good['opost']))\n",
    "good = predata[predata['shp']<.8]\n",
    "ax[0][1].hist(list(good['ofull']))\n",
    "ax[1][1].hist(list(good['opre']))\n",
    "ax[2][1].hist(list(good['opost']))"
   ]
  },
  {
   "cell_type": "code",
   "execution_count": 11,
   "id": "b63b0f2d-e8e5-4fca-8252-0902324e0af8",
   "metadata": {},
   "outputs": [],
   "source": []
  },
  {
   "cell_type": "code",
   "execution_count": 13,
   "id": "c7541a29-3df6-4e99-8bdf-608a4422dd06",
   "metadata": {},
   "outputs": [],
   "source": []
  },
  {
   "cell_type": "code",
   "execution_count": 15,
   "id": "d6f2bd8b-dcb1-44fb-9478-42c61089c3b6",
   "metadata": {},
   "outputs": [],
   "source": []
  },
  {
   "cell_type": "code",
   "execution_count": 17,
   "id": "200f7df5-1dc3-4c12-a967-f2a37f0b04e3",
   "metadata": {},
   "outputs": [
    {
     "data": {
      "text/html": [
       "<div>\n",
       "<style scoped>\n",
       "    .dataframe tbody tr th:only-of-type {\n",
       "        vertical-align: middle;\n",
       "    }\n",
       "\n",
       "    .dataframe tbody tr th {\n",
       "        vertical-align: top;\n",
       "    }\n",
       "\n",
       "    .dataframe thead th {\n",
       "        text-align: right;\n",
       "    }\n",
       "</style>\n",
       "<table border=\"1\" class=\"dataframe\">\n",
       "  <thead>\n",
       "    <tr style=\"text-align: right;\">\n",
       "      <th></th>\n",
       "      <th>mean</th>\n",
       "      <th>stdev</th>\n",
       "      <th>entropy</th>\n",
       "      <th>skewness</th>\n",
       "      <th>kurtoses</th>\n",
       "      <th>top1s</th>\n",
       "      <th>selected</th>\n",
       "      <th>inpstrs</th>\n",
       "      <th>improves</th>\n",
       "      <th>initsco</th>\n",
       "      <th>prefpercent</th>\n",
       "      <th>prefix</th>\n",
       "    </tr>\n",
       "  </thead>\n",
       "  <tbody>\n",
       "    <tr>\n",
       "      <th>0</th>\n",
       "      <td>0.000031</td>\n",
       "      <td>0.005326</td>\n",
       "      <td>0.2321</td>\n",
       "      <td>179.00</td>\n",
       "      <td>32070.0</td>\n",
       "      <td>0.9543</td>\n",
       "      <td>0.9543</td>\n",
       "      <td>The body naturally</td>\n",
       "      <td>-0.116369</td>\n",
       "      <td>0.850852</td>\n",
       "      <td>0.022556</td>\n",
       "      <td>3.0</td>\n",
       "    </tr>\n",
       "    <tr>\n",
       "      <th>1</th>\n",
       "      <td>0.000031</td>\n",
       "      <td>0.005579</td>\n",
       "      <td>0.0000</td>\n",
       "      <td>179.20</td>\n",
       "      <td>32120.0</td>\n",
       "      <td>1.0000</td>\n",
       "      <td>1.0000</td>\n",
       "      <td>The body naturally burn</td>\n",
       "      <td>-0.116918</td>\n",
       "      <td>0.850852</td>\n",
       "      <td>0.030075</td>\n",
       "      <td>4.0</td>\n",
       "    </tr>\n",
       "    <tr>\n",
       "      <th>2</th>\n",
       "      <td>0.000031</td>\n",
       "      <td>0.004141</td>\n",
       "      <td>1.0870</td>\n",
       "      <td>173.50</td>\n",
       "      <td>30690.0</td>\n",
       "      <td>0.7338</td>\n",
       "      <td>0.7338</td>\n",
       "      <td>The body naturally burns</td>\n",
       "      <td>-0.155831</td>\n",
       "      <td>0.850852</td>\n",
       "      <td>0.037594</td>\n",
       "      <td>5.0</td>\n",
       "    </tr>\n",
       "    <tr>\n",
       "      <th>3</th>\n",
       "      <td>0.000031</td>\n",
       "      <td>0.001755</td>\n",
       "      <td>2.7190</td>\n",
       "      <td>96.74</td>\n",
       "      <td>11510.0</td>\n",
       "      <td>0.2365</td>\n",
       "      <td>0.2365</td>\n",
       "      <td>The body naturally burns calories</td>\n",
       "      <td>-0.098341</td>\n",
       "      <td>0.850852</td>\n",
       "      <td>0.045113</td>\n",
       "      <td>6.0</td>\n",
       "    </tr>\n",
       "    <tr>\n",
       "      <th>4</th>\n",
       "      <td>0.000031</td>\n",
       "      <td>0.002951</td>\n",
       "      <td>1.7650</td>\n",
       "      <td>129.10</td>\n",
       "      <td>17730.0</td>\n",
       "      <td>0.4394</td>\n",
       "      <td>0.2772</td>\n",
       "      <td>The body naturally burns calories to</td>\n",
       "      <td>-0.354737</td>\n",
       "      <td>0.850852</td>\n",
       "      <td>0.052632</td>\n",
       "      <td>7.0</td>\n",
       "    </tr>\n",
       "    <tr>\n",
       "      <th>...</th>\n",
       "      <td>...</td>\n",
       "      <td>...</td>\n",
       "      <td>...</td>\n",
       "      <td>...</td>\n",
       "      <td>...</td>\n",
       "      <td>...</td>\n",
       "      <td>...</td>\n",
       "      <td>...</td>\n",
       "      <td>...</td>\n",
       "      <td>...</td>\n",
       "      <td>...</td>\n",
       "      <td>...</td>\n",
       "    </tr>\n",
       "    <tr>\n",
       "      <th>3372</th>\n",
       "      <td>0.000031</td>\n",
       "      <td>0.002265</td>\n",
       "      <td>1.9960</td>\n",
       "      <td>88.34</td>\n",
       "      <td>8471.0</td>\n",
       "      <td>0.2567</td>\n",
       "      <td>0.1924</td>\n",
       "      <td>The laugh track was initially used to replace ...</td>\n",
       "      <td>0.016264</td>\n",
       "      <td>0.947469</td>\n",
       "      <td>0.952941</td>\n",
       "      <td>81.0</td>\n",
       "    </tr>\n",
       "    <tr>\n",
       "      <th>3373</th>\n",
       "      <td>0.000031</td>\n",
       "      <td>0.005579</td>\n",
       "      <td>0.0000</td>\n",
       "      <td>179.20</td>\n",
       "      <td>32120.0</td>\n",
       "      <td>1.0000</td>\n",
       "      <td>1.0000</td>\n",
       "      <td>The laugh track was initially used to replace ...</td>\n",
       "      <td>0.009833</td>\n",
       "      <td>0.947469</td>\n",
       "      <td>0.964706</td>\n",
       "      <td>82.0</td>\n",
       "    </tr>\n",
       "    <tr>\n",
       "      <th>3374</th>\n",
       "      <td>0.000031</td>\n",
       "      <td>0.005063</td>\n",
       "      <td>0.4376</td>\n",
       "      <td>178.50</td>\n",
       "      <td>31940.0</td>\n",
       "      <td>0.9062</td>\n",
       "      <td>0.9062</td>\n",
       "      <td>The laugh track was initially used to replace ...</td>\n",
       "      <td>0.009444</td>\n",
       "      <td>0.947469</td>\n",
       "      <td>0.976471</td>\n",
       "      <td>83.0</td>\n",
       "    </tr>\n",
       "    <tr>\n",
       "      <th>3375</th>\n",
       "      <td>0.000031</td>\n",
       "      <td>0.003017</td>\n",
       "      <td>1.4610</td>\n",
       "      <td>116.40</td>\n",
       "      <td>14620.0</td>\n",
       "      <td>0.4267</td>\n",
       "      <td>0.2257</td>\n",
       "      <td>The laugh track was initially used to replace ...</td>\n",
       "      <td>0.006975</td>\n",
       "      <td>0.947469</td>\n",
       "      <td>0.988235</td>\n",
       "      <td>84.0</td>\n",
       "    </tr>\n",
       "    <tr>\n",
       "      <th>3376</th>\n",
       "      <td>0.000031</td>\n",
       "      <td>0.004163</td>\n",
       "      <td>1.2090</td>\n",
       "      <td>175.30</td>\n",
       "      <td>31140.0</td>\n",
       "      <td>0.7405</td>\n",
       "      <td>0.7405</td>\n",
       "      <td>The laugh track was initially used to replace ...</td>\n",
       "      <td>0.019951</td>\n",
       "      <td>0.947469</td>\n",
       "      <td>1.000000</td>\n",
       "      <td>85.0</td>\n",
       "    </tr>\n",
       "  </tbody>\n",
       "</table>\n",
       "<p>3377 rows × 12 columns</p>\n",
       "</div>"
      ],
      "text/plain": [
       "          mean     stdev  entropy  skewness  kurtoses   top1s  selected  \\\n",
       "0     0.000031  0.005326   0.2321    179.00   32070.0  0.9543    0.9543   \n",
       "1     0.000031  0.005579   0.0000    179.20   32120.0  1.0000    1.0000   \n",
       "2     0.000031  0.004141   1.0870    173.50   30690.0  0.7338    0.7338   \n",
       "3     0.000031  0.001755   2.7190     96.74   11510.0  0.2365    0.2365   \n",
       "4     0.000031  0.002951   1.7650    129.10   17730.0  0.4394    0.2772   \n",
       "...        ...       ...      ...       ...       ...     ...       ...   \n",
       "3372  0.000031  0.002265   1.9960     88.34    8471.0  0.2567    0.1924   \n",
       "3373  0.000031  0.005579   0.0000    179.20   32120.0  1.0000    1.0000   \n",
       "3374  0.000031  0.005063   0.4376    178.50   31940.0  0.9062    0.9062   \n",
       "3375  0.000031  0.003017   1.4610    116.40   14620.0  0.4267    0.2257   \n",
       "3376  0.000031  0.004163   1.2090    175.30   31140.0  0.7405    0.7405   \n",
       "\n",
       "                                                inpstrs  improves   initsco  \\\n",
       "0                                    The body naturally -0.116369  0.850852   \n",
       "1                               The body naturally burn -0.116918  0.850852   \n",
       "2                              The body naturally burns -0.155831  0.850852   \n",
       "3                     The body naturally burns calories -0.098341  0.850852   \n",
       "4                  The body naturally burns calories to -0.354737  0.850852   \n",
       "...                                                 ...       ...       ...   \n",
       "3372  The laugh track was initially used to replace ...  0.016264  0.947469   \n",
       "3373  The laugh track was initially used to replace ...  0.009833  0.947469   \n",
       "3374  The laugh track was initially used to replace ...  0.009444  0.947469   \n",
       "3375  The laugh track was initially used to replace ...  0.006975  0.947469   \n",
       "3376  The laugh track was initially used to replace ...  0.019951  0.947469   \n",
       "\n",
       "      prefpercent  prefix  \n",
       "0        0.022556     3.0  \n",
       "1        0.030075     4.0  \n",
       "2        0.037594     5.0  \n",
       "3        0.045113     6.0  \n",
       "4        0.052632     7.0  \n",
       "...           ...     ...  \n",
       "3372     0.952941    81.0  \n",
       "3373     0.964706    82.0  \n",
       "3374     0.976471    83.0  \n",
       "3375     0.988235    84.0  \n",
       "3376     1.000000    85.0  \n",
       "\n",
       "[3377 rows x 12 columns]"
      ]
     },
     "execution_count": 17,
     "metadata": {},
     "output_type": "execute_result"
    }
   ],
   "source": []
  },
  {
   "cell_type": "code",
   "execution_count": 14,
   "id": "6123ca34-52cd-4f1d-a8cb-760dd8ef77c4",
   "metadata": {},
   "outputs": [
    {
     "data": {
      "text/html": [
       "<pre style=\"white-space:pre;overflow-x:auto;line-height:normal;font-family:Menlo,'DejaVu Sans Mono',consolas,'Courier New',monospace\"><span style=\"color: #800000; text-decoration-color: #800000\">╭──────────────────────────── </span><span style=\"color: #800000; text-decoration-color: #800000; font-weight: bold\">Traceback </span><span style=\"color: #bf7f7f; text-decoration-color: #bf7f7f; font-weight: bold\">(most recent call last)</span><span style=\"color: #800000; text-decoration-color: #800000\"> ────────────────────────────╮</span>\n",
       "<span style=\"color: #800000; text-decoration-color: #800000\">│</span>                                                                                           <span style=\"color: #800000; text-decoration-color: #800000\">│</span>\n",
       "<span style=\"color: #800000; text-decoration-color: #800000\">│</span> <span style=\"color: #bfbf7f; text-decoration-color: #bfbf7f\">/tmp/ipykernel_1653044/</span><span style=\"color: #808000; text-decoration-color: #808000; font-weight: bold\">32308483.py</span>:<span style=\"color: #0000ff; text-decoration-color: #0000ff\">1</span> in <span style=\"color: #00ff00; text-decoration-color: #00ff00\">&lt;module&gt;</span>                                          <span style=\"color: #800000; text-decoration-color: #800000\">│</span>\n",
       "<span style=\"color: #800000; text-decoration-color: #800000\">│</span>                                                                                           <span style=\"color: #800000; text-decoration-color: #800000\">│</span>\n",
       "<span style=\"color: #800000; text-decoration-color: #800000\">│</span> <span style=\"color: #800000; text-decoration-color: #800000; font-style: italic\">[Errno 2] No such file or directory: '/tmp/ipykernel_1653044/32308483.py'</span>                 <span style=\"color: #800000; text-decoration-color: #800000\">│</span>\n",
       "<span style=\"color: #800000; text-decoration-color: #800000\">╰───────────────────────────────────────────────────────────────────────────────────────────╯</span>\n",
       "<span style=\"color: #ff0000; text-decoration-color: #ff0000; font-weight: bold\">NameError: </span>name <span style=\"color: #008000; text-decoration-color: #008000\">'sdf7'</span> is not defined\n",
       "</pre>\n"
      ],
      "text/plain": [
       "\u001b[31m╭─\u001b[0m\u001b[31m─────────────────────────── \u001b[0m\u001b[1;31mTraceback \u001b[0m\u001b[1;2;31m(most recent call last)\u001b[0m\u001b[31m ───────────────────────────\u001b[0m\u001b[31m─╮\u001b[0m\n",
       "\u001b[31m│\u001b[0m                                                                                           \u001b[31m│\u001b[0m\n",
       "\u001b[31m│\u001b[0m \u001b[2;33m/tmp/ipykernel_1653044/\u001b[0m\u001b[1;33m32308483.py\u001b[0m:\u001b[94m1\u001b[0m in \u001b[92m<module>\u001b[0m                                          \u001b[31m│\u001b[0m\n",
       "\u001b[31m│\u001b[0m                                                                                           \u001b[31m│\u001b[0m\n",
       "\u001b[31m│\u001b[0m \u001b[3;31m[Errno 2] No such file or directory: '/tmp/ipykernel_1653044/32308483.py'\u001b[0m                 \u001b[31m│\u001b[0m\n",
       "\u001b[31m╰───────────────────────────────────────────────────────────────────────────────────────────╯\u001b[0m\n",
       "\u001b[1;91mNameError: \u001b[0mname \u001b[32m'sdf7'\u001b[0m is not defined\n"
      ]
     },
     "metadata": {},
     "output_type": "display_data"
    }
   ],
   "source": [
    "row = sdf7.iloc[0]\n",
    "print(len(row['stats'][0]['entropy']))\n",
    "print(len(row['stats'][1]['entropy']))\n",
    "tokeddata = tokenizer(row['hyps'][0], padding=True, truncation=True, return_tensors=\"pt\").input_ids"
   ]
  },
  {
   "cell_type": "code",
   "execution_count": 9,
   "id": "25330dc5-4b73-4139-8e7a-93cd1f53c395",
   "metadata": {},
   "outputs": [
    {
     "data": {
      "text/html": [
       "<pre style=\"white-space:pre;overflow-x:auto;line-height:normal;font-family:Menlo,'DejaVu Sans Mono',consolas,'Courier New',monospace\"><span style=\"color: #800000; text-decoration-color: #800000\">╭──────────────────────────── </span><span style=\"color: #800000; text-decoration-color: #800000; font-weight: bold\">Traceback </span><span style=\"color: #bf7f7f; text-decoration-color: #bf7f7f; font-weight: bold\">(most recent call last)</span><span style=\"color: #800000; text-decoration-color: #800000\"> ────────────────────────────╮</span>\n",
       "<span style=\"color: #800000; text-decoration-color: #800000\">│</span>                                                                                           <span style=\"color: #800000; text-decoration-color: #800000\">│</span>\n",
       "<span style=\"color: #800000; text-decoration-color: #800000\">│</span> <span style=\"color: #bfbf7f; text-decoration-color: #bfbf7f\">/tmp/ipykernel_1273216/</span><span style=\"color: #808000; text-decoration-color: #808000; font-weight: bold\">1802039241.py</span>:<span style=\"color: #0000ff; text-decoration-color: #0000ff\">1</span> in <span style=\"color: #00ff00; text-decoration-color: #00ff00\">&lt;module&gt;</span>                                        <span style=\"color: #800000; text-decoration-color: #800000\">│</span>\n",
       "<span style=\"color: #800000; text-decoration-color: #800000\">│</span>                                                                                           <span style=\"color: #800000; text-decoration-color: #800000\">│</span>\n",
       "<span style=\"color: #800000; text-decoration-color: #800000\">│</span> <span style=\"color: #800000; text-decoration-color: #800000; font-style: italic\">[Errno 2] No such file or directory: '/tmp/ipykernel_1273216/1802039241.py'</span>               <span style=\"color: #800000; text-decoration-color: #800000\">│</span>\n",
       "<span style=\"color: #800000; text-decoration-color: #800000\">│</span> <span style=\"color: #bfbf7f; text-decoration-color: #bfbf7f\">/tmp/ipykernel_1273216/</span><span style=\"color: #808000; text-decoration-color: #808000; font-weight: bold\">3645042189.py</span>:<span style=\"color: #0000ff; text-decoration-color: #0000ff\">3</span> in <span style=\"color: #00ff00; text-decoration-color: #00ff00\">showind_box</span>                                     <span style=\"color: #800000; text-decoration-color: #800000\">│</span>\n",
       "<span style=\"color: #800000; text-decoration-color: #800000\">│</span>                                                                                           <span style=\"color: #800000; text-decoration-color: #800000\">│</span>\n",
       "<span style=\"color: #800000; text-decoration-color: #800000\">│</span> <span style=\"color: #800000; text-decoration-color: #800000; font-style: italic\">[Errno 2] No such file or directory: '/tmp/ipykernel_1273216/3645042189.py'</span>               <span style=\"color: #800000; text-decoration-color: #800000\">│</span>\n",
       "<span style=\"color: #800000; text-decoration-color: #800000\">╰───────────────────────────────────────────────────────────────────────────────────────────╯</span>\n",
       "<span style=\"color: #ff0000; text-decoration-color: #ff0000; font-weight: bold\">KeyError: </span><span style=\"color: #008080; text-decoration-color: #008080; font-weight: bold\">0</span>\n",
       "</pre>\n"
      ],
      "text/plain": [
       "\u001b[31m╭─\u001b[0m\u001b[31m─────────────────────────── \u001b[0m\u001b[1;31mTraceback \u001b[0m\u001b[1;2;31m(most recent call last)\u001b[0m\u001b[31m ───────────────────────────\u001b[0m\u001b[31m─╮\u001b[0m\n",
       "\u001b[31m│\u001b[0m                                                                                           \u001b[31m│\u001b[0m\n",
       "\u001b[31m│\u001b[0m \u001b[2;33m/tmp/ipykernel_1273216/\u001b[0m\u001b[1;33m1802039241.py\u001b[0m:\u001b[94m1\u001b[0m in \u001b[92m<module>\u001b[0m                                        \u001b[31m│\u001b[0m\n",
       "\u001b[31m│\u001b[0m                                                                                           \u001b[31m│\u001b[0m\n",
       "\u001b[31m│\u001b[0m \u001b[3;31m[Errno 2] No such file or directory: '/tmp/ipykernel_1273216/1802039241.py'\u001b[0m               \u001b[31m│\u001b[0m\n",
       "\u001b[31m│\u001b[0m \u001b[2;33m/tmp/ipykernel_1273216/\u001b[0m\u001b[1;33m3645042189.py\u001b[0m:\u001b[94m3\u001b[0m in \u001b[92mshowind_box\u001b[0m                                     \u001b[31m│\u001b[0m\n",
       "\u001b[31m│\u001b[0m                                                                                           \u001b[31m│\u001b[0m\n",
       "\u001b[31m│\u001b[0m \u001b[3;31m[Errno 2] No such file or directory: '/tmp/ipykernel_1273216/3645042189.py'\u001b[0m               \u001b[31m│\u001b[0m\n",
       "\u001b[31m╰───────────────────────────────────────────────────────────────────────────────────────────╯\u001b[0m\n",
       "\u001b[1;91mKeyError: \u001b[0m\u001b[1;36m0\u001b[0m\n"
      ]
     },
     "metadata": {},
     "output_type": "display_data"
    }
   ],
   "source": [
    "showind_box(0, statsdf3, 0)"
   ]
  },
  {
   "cell_type": "code",
   "execution_count": 11,
   "id": "1e51b0f0-3f5f-4065-8bb2-adba4e0fa81e",
   "metadata": {},
   "outputs": [],
   "source": [
    "allps = pd.concat([p0s, p1s, p2s, p3s, p4s]).reset_index()"
   ]
  },
  {
   "cell_type": "code",
   "execution_count": 11,
   "id": "db52998b-7988-41e7-ac09-970852363123",
   "metadata": {},
   "outputs": [
    {
     "data": {
      "text/plain": [
       "[[0.6351320744,\n",
       "  0.6012812257,\n",
       "  0.6015455127,\n",
       "  0.4468139708,\n",
       "  0.4857266545,\n",
       "  0.8580931425],\n",
       " [0.5999557376, 0.4914311469, 0.6020961404, 0.7033241391]]"
      ]
     },
     "execution_count": 11,
     "metadata": {},
     "output_type": "execute_result"
    }
   ],
   "source": [
    "allps['scos'].iloc[0]"
   ]
  },
  {
   "cell_type": "code",
   "execution_count": 18,
   "id": "f8d4fd3a-901d-4bf6-963b-10ab124074d7",
   "metadata": {},
   "outputs": [
    {
     "data": {
      "text/plain": [
       "0.1443873014468865"
      ]
     },
     "execution_count": 18,
     "metadata": {},
     "output_type": "execute_result"
    }
   ],
   "source": [
    "stdev(allps['scos'].iloc[0][0])"
   ]
  },
  {
   "cell_type": "code",
   "execution_count": 11,
   "id": "09f7adcd-152e-4388-bfc9-9926f461308c",
   "metadata": {},
   "outputs": [],
   "source": [
    "def variance_changes(aps):\n",
    "    origvars = []\n",
    "    newvars = []\n",
    "    for i in range(len(aps)):\n",
    "        scovals = aps['scos'].iloc[i]\n",
    "        origvars.append(stdev(scovals[0]))\n",
    "        newvars.append(stdev(scovals[1]))\n",
    "    return origvars, newvars\n",
    "\n",
    "def ngram_changes(aps, n):\n",
    "    origvars = []\n",
    "    newvars = []\n",
    "    for i in range(len(aps)):\n",
    "        hyps = aps['hyps'].iloc[i]\n",
    "        ongs = [len(get_unique_ngrams(h, tokenizer, n)) for h in hyps[0]]\n",
    "        nngs = [len(get_unique_ngrams(h, tokenizer, n)) for h in hyps[1]]\n",
    "        origvars.append(mean(ongs))\n",
    "        newvars.append(mean(nngs))\n",
    "    return origvars, newvars\n",
    "\n",
    "\n",
    "# let's use this as our evaluation metric for diversity\n",
    "def get_unique_ngrams(sentence, tok, n):\n",
    "    uns = set()\n",
    "    toks = tok(sentence).input_ids\n",
    "    #print(toks)\n",
    "    for i in range(len(toks)-n):\n",
    "        tmp = \"\"\n",
    "        for j in range(i, i+n):\n",
    "            tmp = tmp+\"_\"+str(toks[j])\n",
    "        uns.add(tmp)\n",
    "    return uns"
   ]
  },
  {
   "cell_type": "code",
   "execution_count": 14,
   "id": "f8fa2776-d957-4998-a35e-d44c0c6cf855",
   "metadata": {},
   "outputs": [],
   "source": [
    "ov, nv = variance_changes(sdf7)"
   ]
  },
  {
   "cell_type": "code",
   "execution_count": 18,
   "id": "07224a14-55a4-4301-9f71-20a0f1c0231d",
   "metadata": {},
   "outputs": [],
   "source": [
    "sdf7['varnew'] = nv"
   ]
  },
  {
   "cell_type": "code",
   "execution_count": 25,
   "id": "dfd942c3-eec8-472f-b9fa-0968b6907ada",
   "metadata": {},
   "outputs": [
    {
     "data": {
      "text/plain": [
       "[[0.3888301849, 0.5778717399000001, 0.4461915493, 0.42369952800000005],\n",
       " [0.843935132, 0.40807494520000004, 0.7288525701, 0.2776490748]]"
      ]
     },
     "execution_count": 25,
     "metadata": {},
     "output_type": "execute_result"
    }
   ],
   "source": [
    "sdf7[sdf7['varnew']>0.2]['scos'].iloc[1]"
   ]
  },
  {
   "cell_type": "code",
   "execution_count": 13,
   "id": "b44cb324-838c-4edd-817f-bb19fde930ce",
   "metadata": {},
   "outputs": [
    {
     "data": {
      "text/plain": [
       "(array([14., 17., 16., 13., 14.,  6., 10.,  4.,  3.,  3.]),\n",
       " array([0.01254368, 0.03576759, 0.05899151, 0.08221542, 0.10543933,\n",
       "        0.12866324, 0.15188715, 0.17511106, 0.19833497, 0.22155888,\n",
       "        0.24478279]),\n",
       " <BarContainer object of 10 artists>)"
      ]
     },
     "execution_count": 13,
     "metadata": {},
     "output_type": "execute_result"
    },
    {
     "data": {
      "image/png": "[encoded data removed]",
      "text/plain": [
       "<Figure size 640x480 with 1 Axes>"
      ]
     },
     "metadata": {},
     "output_type": "display_data"
    }
   ],
   "source": [
    "plt.hist(nv)"
   ]
  },
  {
   "cell_type": "code",
   "execution_count": 15,
   "id": "039254da-5c4f-43be-a306-2e6e38e7e9aa",
   "metadata": {},
   "outputs": [
    {
     "data": {
      "text/plain": [
       "(array([21., 28., 22., 11.,  7.,  6.,  1.,  3.,  0.,  1.]),\n",
       " array([0.01007499, 0.03564115, 0.06120732, 0.08677349, 0.11233966,\n",
       "        0.13790583, 0.163472  , 0.18903817, 0.21460434, 0.24017051,\n",
       "        0.26573668]),\n",
       " <BarContainer object of 10 artists>)"
      ]
     },
     "execution_count": 15,
     "metadata": {},
     "output_type": "execute_result"
    },
    {
     "data": {
      "image/png": "[encoded data removed]",
      "text/plain": [
       "<Figure size 640x480 with 1 Axes>"
      ]
     },
     "metadata": {},
     "output_type": "display_data"
    }
   ],
   "source": [
    "plt.hist(nv)"
   ]
  },
  {
   "cell_type": "code",
   "execution_count": 60,
   "id": "974862c8-325a-44d4-8d6d-c44ccf34446b",
   "metadata": {},
   "outputs": [],
   "source": [
    "p3 = pd.read_json(BASE+\"prefpreds0_0.7.jsonl\",orient=\"records\", lines=True)"
   ]
  },
  {
   "cell_type": "code",
   "execution_count": 61,
   "id": "056074c3-1c4d-4d4c-8cba-160def32303b",
   "metadata": {},
   "outputs": [
    {
     "name": "stdout",
     "output_type": "stream",
     "text": [
      "0.8064980737820001\n",
      "0.7130256715460002\n"
     ]
    }
   ],
   "source": [
    "print(p3['new_avg'].mean())\n",
    "print(p3['old_avg'].mean())"
   ]
  },
  {
   "cell_type": "code",
   "execution_count": 40,
   "id": "ca6813b9-0a19-48e8-96ac-aada9ad362df",
   "metadata": {},
   "outputs": [
    {
     "name": "stdout",
     "output_type": "stream",
     "text": [
      "43.115\n",
      "36.60666666666666\n",
      "61.67\n",
      "49.94666666666667\n"
     ]
    }
   ],
   "source": [
    "orig_ngrams, new_ngrams = ngram_changes(p3, 1)\n",
    "print(mean(new_ngrams))\n",
    "print(mean(orig_ngrams))\n",
    "orig_ngrams, new_ngrams = ngram_changes(p3, 3)\n",
    "print(mean(new_ngrams))\n",
    "print(mean(orig_ngrams))"
   ]
  },
  {
   "cell_type": "code",
   "execution_count": 41,
   "id": "93ca1209-d50d-44a1-86fe-45d31e5342f6",
   "metadata": {},
   "outputs": [],
   "source": [
    "ovs, nvs = variance_changes(p3)"
   ]
  },
  {
   "cell_type": "code",
   "execution_count": 42,
   "id": "c70ebeb8-0036-4851-8b17-c8051e7fc210",
   "metadata": {},
   "outputs": [
    {
     "name": "stdout",
     "output_type": "stream",
     "text": [
      "0.11803499348864849\n",
      "0.05760081108092043\n"
     ]
    }
   ],
   "source": [
    "print(mean(ovs))\n",
    "print(mean(nvs))"
   ]
  },
  {
   "cell_type": "code",
   "execution_count": 34,
   "id": "a54658b0-4f01-4c56-90fc-810eedc8f9ca",
   "metadata": {},
   "outputs": [
    {
     "data": {
      "text/plain": [
       "(array([11., 14.,  6.,  5.,  5.,  4.,  2.,  0.,  1.,  2.]),\n",
       " array([ 24.5       ,  33.23333333,  41.96666667,  50.7       ,\n",
       "         59.43333333,  68.16666667,  76.9       ,  85.63333333,\n",
       "         94.36666667, 103.1       , 111.83333333]),\n",
       " <BarContainer object of 10 artists>)"
      ]
     },
     "execution_count": 34,
     "metadata": {},
     "output_type": "execute_result"
    },
    {
     "data": {
      "image/png": "[encoded data removed]",
      "text/plain": [
       "<Figure size 640x480 with 1 Axes>"
      ]
     },
     "metadata": {},
     "output_type": "display_data"
    }
   ],
   "source": [
    "plt.hist(orig_ngrams)"
   ]
  },
  {
   "cell_type": "code",
   "execution_count": 15,
   "id": "2c402f58-c2ff-40fa-bdb5-600a7752efe7",
   "metadata": {},
   "outputs": [],
   "source": [
    "diffdist = []\n",
    "diffdist.extend(list(p0s['newmax']-p0s['oldmax']))\n",
    "diffdist.extend(list(p1s['newmax']-p0s['oldmax']))\n",
    "diffdist.extend(list(p2s['newmax']-p0s['oldmax']))\n",
    "diffdist.extend(list(p3s['newmax']-p0s['oldmax']))\n",
    "diffdist.extend(list(p4s['newmax']-p0s['oldmax']))\n"
   ]
  },
  {
   "cell_type": "code",
   "execution_count": 11,
   "id": "a64cb395-2a29-44c3-a641-0db796ddc1d1",
   "metadata": {},
   "outputs": [
    {
     "data": {
      "text/plain": [
       "(array([ 7., 15., 17., 45., 50., 67., 24., 17.,  3.,  5.]),\n",
       " array([-0.22907507, -0.18476073, -0.14044639, -0.09613205, -0.0518177 ,\n",
       "        -0.00750336,  0.03681098,  0.08112532,  0.12543967,  0.16975401,\n",
       "         0.21406835]),\n",
       " <BarContainer object of 10 artists>)"
      ]
     },
     "execution_count": 11,
     "metadata": {},
     "output_type": "execute_result"
    },
    {
     "data": {
      "image/png": "[encoded data removed]",
      "text/plain": [
       "<Figure size 640x480 with 1 Axes>"
      ]
     },
     "metadata": {},
     "output_type": "display_data"
    }
   ],
   "source": [
    "plt.hist(diffdist)"
   ]
  },
  {
   "cell_type": "code",
   "execution_count": 13,
   "id": "0daf1e98-bbb4-4a46-9ea0-bde33e042f97",
   "metadata": {},
   "outputs": [],
   "source": [
    "diffdist = []\n",
    "diffdist.extend(list(p0s['new_avg']-p0s['old_avg']))\n",
    "diffdist.extend(list(p1s['new_avg']-p0s['old_avg']))\n",
    "diffdist.extend(list(p2s['new_avg']-p0s['old_avg']))\n",
    "diffdist.extend(list(p3s['new_avg']-p0s['old_avg']))\n",
    "diffdist.extend(list(p4s['new_avg']-p0s['old_avg']))\n"
   ]
  },
  {
   "cell_type": "code",
   "execution_count": 14,
   "id": "b70f9ded-ef59-4394-92fb-ff6389d9e4d3",
   "metadata": {},
   "outputs": [
    {
     "data": {
      "text/plain": [
       "(array([ 1.,  1.,  3., 16., 40., 61., 71., 32., 18.,  7.]),\n",
       " array([-0.29910376, -0.24597837, -0.19285299, -0.1397276 , -0.08660221,\n",
       "        -0.03347682,  0.01964856,  0.07277395,  0.12589934,  0.17902473,\n",
       "         0.23215011]),\n",
       " <BarContainer object of 10 artists>)"
      ]
     },
     "execution_count": 14,
     "metadata": {},
     "output_type": "execute_result"
    },
    {
     "data": {
      "image/png": "[encoded data removed]",
      "text/plain": [
       "<Figure size 640x480 with 1 Axes>"
      ]
     },
     "metadata": {},
     "output_type": "display_data"
    }
   ],
   "source": [
    "plt.hist(diffdist)"
   ]
  },
  {
   "cell_type": "code",
   "execution_count": null,
   "id": "597fe134-77ff-4120-8ff0-9db6373d8f70",
   "metadata": {},
   "outputs": [],
   "source": []
  }
 ],
 "metadata": {
  "kernelspec": {
   "display_name": "Python 3 (ipykernel)",
   "language": "python",
   "name": "python3"
  },
  "language_info": {
   "codemirror_mode": {
    "name": "ipython",
    "version": 3
   },
   "file_extension": ".py",
   "mimetype": "text/x-python",
   "name": "python",
   "nbconvert_exporter": "python",
   "pygments_lexer": "ipython3",
   "version": "3.8.12"
  }
 },
 "nbformat": 4,
 "nbformat_minor": 5
}
