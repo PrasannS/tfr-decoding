{
 "cells": [
  {
   "cell_type": "code",
   "execution_count": 1,
   "id": "f1ab9a68-4744-4f5a-8629-2a881bcda8d4",
   "metadata": {},
   "outputs": [
    {
     "name": "stderr",
     "output_type": "stream",
     "text": [
      "/home/prasann/miniconda3/envs/aplora/lib/python3.9/site-packages/tqdm/auto.py:21: TqdmWarning: IProgress not found. Please update jupyter and ipywidgets. See https://ipywidgets.readthedocs.io/en/stable/user_install.html\n",
      "  from .autonotebook import tqdm as notebook_tqdm\n"
     ]
    },
    {
     "name": "stdout",
     "output_type": "stream",
     "text": [
      "\n",
      "===================================BUG REPORT===================================\n",
      "Welcome to bitsandbytes. For bug reports, please run\n",
      "\n",
      "python -m bitsandbytes\n",
      "\n",
      " and submit this information together with your error trace to: https://github.com/TimDettmers/bitsandbytes/issues\n",
      "================================================================================\n",
      "bin /home/prasann/miniconda3/envs/aplora/lib/python3.9/site-packages/bitsandbytes/libbitsandbytes_cuda120.so\n",
      "CUDA_SETUP: WARNING! libcudart.so not found in any environmental path. Searching in backup paths...\n",
      "CUDA SETUP: CUDA runtime path found: /usr/local/cuda/lib64/libcudart.so\n",
      "CUDA SETUP: Highest compute capability among GPUs detected: 8.6\n",
      "CUDA SETUP: Detected CUDA version 120\n",
      "CUDA SETUP: Loading binary /home/prasann/miniconda3/envs/aplora/lib/python3.9/site-packages/bitsandbytes/libbitsandbytes_cuda120.so...\n"
     ]
    },
    {
     "name": "stderr",
     "output_type": "stream",
     "text": [
      "/home/prasann/miniconda3/envs/aplora/lib/python3.9/site-packages/bitsandbytes/cuda_setup/main.py:149: UserWarning: /home/prasann/miniconda3/envs/aplora did not contain ['libcudart.so', 'libcudart.so.11.0', 'libcudart.so.12.0'] as expected! Searching further paths...\n",
      "  warn(msg)\n",
      "/home/prasann/miniconda3/envs/aplora/lib/python3.9/site-packages/bitsandbytes/cuda_setup/main.py:149: UserWarning: WARNING: The following directories listed in your path were found to be non-existent: {PosixPath('//matplotlib_inline.backend_inline'), PosixPath('module')}\n",
      "  warn(msg)\n"
     ]
    },
    {
     "ename": "ImportError",
     "evalue": "cannot import name 'inpsampall' from 'src.utils.ap_samp_utils' (/data/users/prasann/Projects/tfr-decoding/src/utils/ap_samp_utils.py)",
     "output_type": "error",
     "traceback": [
      "\u001b[0;31m---------------------------------------------------------------------------\u001b[0m",
      "\u001b[0;31mImportError\u001b[0m                               Traceback (most recent call last)",
      "Cell \u001b[0;32mIn[1], line 14\u001b[0m\n\u001b[1;32m     12\u001b[0m \u001b[38;5;28;01mfrom\u001b[39;00m \u001b[38;5;21;01msrc\u001b[39;00m\u001b[38;5;21;01m.\u001b[39;00m\u001b[38;5;21;01mtfr_decoding\u001b[39;00m\u001b[38;5;21;01m.\u001b[39;00m\u001b[38;5;21;01mcustom_bs\u001b[39;00m \u001b[38;5;28;01mimport\u001b[39;00m beam_search\n\u001b[1;32m     13\u001b[0m \u001b[38;5;28;01mfrom\u001b[39;00m \u001b[38;5;21;01msrc\u001b[39;00m\u001b[38;5;21;01m.\u001b[39;00m\u001b[38;5;21;01mtfr_decoding\u001b[39;00m\u001b[38;5;21;01m.\u001b[39;00m\u001b[38;5;21;01mrecurse_samp\u001b[39;00m \u001b[38;5;28;01mimport\u001b[39;00m sample\n\u001b[0;32m---> 14\u001b[0m \u001b[38;5;28;01mfrom\u001b[39;00m \u001b[38;5;21;01msrc\u001b[39;00m\u001b[38;5;21;01m.\u001b[39;00m\u001b[38;5;21;01mutils\u001b[39;00m\u001b[38;5;21;01m.\u001b[39;00m\u001b[38;5;21;01map_samp_utils\u001b[39;00m \u001b[38;5;28;01mimport\u001b[39;00m inpsampall, dset_randsamp, sampfrominp, exhaustive_samp\n\u001b[1;32m     16\u001b[0m device \u001b[38;5;241m=\u001b[39m \u001b[38;5;124m'\u001b[39m\u001b[38;5;124mcuda:0\u001b[39m\u001b[38;5;124m'\u001b[39m \u001b[38;5;66;03m# if you have a GPU\u001b[39;00m\n",
      "\u001b[0;31mImportError\u001b[0m: cannot import name 'inpsampall' from 'src.utils.ap_samp_utils' (/data/users/prasann/Projects/tfr-decoding/src/utils/ap_samp_utils.py)"
     ]
    }
   ],
   "source": [
    "from alpaca_farm.models import reward_model\n",
    "from alpaca_farm.inference.decode import load_model_and_tokenizer_for_inference \n",
    "from alpaca_farm.inference.score import score_sequences_with_huggingface_given_model\n",
    "from alpaca_farm import utils\n",
    "import alpaca_farm.data_preprocessor as data_preprocessor\n",
    "\n",
    "\n",
    "import torch\n",
    "from datasets import load_dataset\n",
    "import pandas as pd\n",
    "import numpy as np\n",
    "from src.tfr_decoding.custom_bs import beam_search\n",
    "from src.tfr_decoding.recurse_samp import sample\n",
    "from src.utils.ap_samp_utils import inpsampall, dset_randsamp, sampfrominp, exhaustive_samp\n",
    "\n",
    "device = 'cuda:0' # if you have a GPU"
   ]
  },
  {
   "cell_type": "code",
   "execution_count": 2,
   "id": "80dc65de-ca61-4143-b787-7dbd72a72b41",
   "metadata": {},
   "outputs": [],
   "source": [
    "%load_ext autoreload\n",
    "%autoreload 2"
   ]
  },
  {
   "cell_type": "code",
   "execution_count": 3,
   "id": "320de6ee-199e-47a8-bc3a-c074d875aefc",
   "metadata": {},
   "outputs": [],
   "source": [
    "elidf = pd.read_json(\"output/elidataset.jsonl\", orient=\"records\", lines=\"true\")\n",
    "# 16000 for P1\n",
    "# 25000 for P2\n",
    "# 31500 for P3\n",
    "# 50000 for P4\n",
    "# 65000 for P5\n",
    "# 70000 for P6\n",
    "elidf = elidf.drop_duplicates(subset=\"history\").iloc[15000:15050]"
   ]
  },
  {
   "cell_type": "code",
   "execution_count": 5,
   "id": "829f0dba-a36e-47ca-bd33-0a2e6a2bd316",
   "metadata": {},
   "outputs": [
    {
     "name": "stderr",
     "output_type": "stream",
     "text": [
      "Loading model for inference: /home/prasann/Projects/tfr-decoding/apfarm_models/reward-model-human/\n",
      "One of the `_name_or_path` to the root node is not a pretrained model name or local path on disk. This may be due to copying checkpoints across machines. Falling back to hardcoded rule to figure out the pretrained model based on config.json.\n",
      "Loading checkpoint shards: 100%|███████████████████████████████████████████████████████████████████████████████████████████████████████| 3/3 [00:10<00:00,  3.62s/it]\n",
      "Loading checkpoint shards: 100%|███████████████████████████████████████████████████████████████████████████████████████████████████████| 3/3 [00:13<00:00,  4.63s/it]\n"
     ]
    }
   ],
   "source": [
    "rew_model, tokenizer = load_model_and_tokenizer_for_inference(\n",
    "    model_name_or_path=\"/home/prasann/Projects/tfr-decoding/apfarm_models/reward-model-human/\",\n",
    "    model_cls=reward_model.RewardModel,\n",
    "    cache_dir=None,\n",
    "    model_kwargs=dict(\n",
    "        torch_dtype=utils.convert_str_dtype_to_torch_dtype(None),\n",
    "        flash_attn=False,\n",
    "    ),\n",
    ")"
   ]
  },
  {
   "cell_type": "code",
   "execution_count": 6,
   "id": "09dab886-6d04-4133-ab6a-3e75c7dff6f4",
   "metadata": {},
   "outputs": [
    {
     "data": {
      "text/plain": [
       "device(type='cuda', index=0)"
      ]
     },
     "execution_count": 6,
     "metadata": {},
     "output_type": "execute_result"
    }
   ],
   "source": [
    "rew_model.device"
   ]
  },
  {
   "cell_type": "code",
   "execution_count": 7,
   "id": "0c468e84-6fff-4d06-bcfb-c6151503489f",
   "metadata": {},
   "outputs": [],
   "source": [
    "torch.cuda.empty_cache()"
   ]
  },
  {
   "cell_type": "code",
   "execution_count": 8,
   "id": "90bbf25e-2306-45cf-ad8a-9be54adacfe3",
   "metadata": {},
   "outputs": [
    {
     "name": "stderr",
     "output_type": "stream",
     "text": [
      "Loading model for inference: /home/prasann/Projects/tfr-decoding/apfarm_models/ppo-human/\n",
      "Loading checkpoint shards: 100%|███████████████████████████████████████████████████████████████████████████████████████████████████████| 3/3 [00:13<00:00,  4.62s/it]\n"
     ]
    }
   ],
   "source": [
    "model, tokenizer = load_model_and_tokenizer_for_inference(\n",
    "    model_name_or_path='/home/prasann/Projects/tfr-decoding/apfarm_models/ppo-human/',\n",
    "    cache_dir=None,\n",
    "    model_kwargs=dict(torch_dtype=utils.convert_str_dtype_to_torch_dtype(None)),\n",
    ")"
   ]
  },
  {
   "cell_type": "code",
   "execution_count": 9,
   "id": "b4fe7a08-71ea-470c-a8c8-7c6332870a44",
   "metadata": {},
   "outputs": [],
   "source": [
    "def generate_stuff(question):\n",
    "    pdict_path = \"/home/prasann/Projects/tfr-decoding/alpaca_farm/examples/prompts/v0_inputs_noinputs.json\"\n",
    "    prompts, list_dict_data, metadata = data_preprocessor.format_prompt_with_data_frame(\n",
    "        df=pd.DataFrame({'instruction':[question], 'input':[\"\"]}),\n",
    "        prompt_dict=utils.jload(pdict_path),\n",
    "    )\n",
    "    inps = tokenizer(prompts, return_tensors=\"pt\").to(\"cuda\")\n",
    "    outs = model.generate(inps.input_ids, attention_mask=inps.attention_mask, do_sample=True, temperature=1.0,max_new_tokens=300,num_return_sequences=2,)\n",
    "    return tokenizer.batch_decode(outs, skip_special_tokens=True)"
   ]
  },
  {
   "cell_type": "code",
   "execution_count": null,
   "id": "a8033c01-9f12-46bd-9581-4a85583a89b1",
   "metadata": {},
   "outputs": [],
   "source": [
    "#model.sample = sample.__get__(model)\n",
    "model.eval()"
   ]
  },
  {
   "cell_type": "code",
   "execution_count": 11,
   "id": "2cf4d757-2c3c-4bfb-a7ca-3d18e62e1005",
   "metadata": {},
   "outputs": [],
   "source": [
    "instrs = []\n",
    "pdict_path = \"/home/prasann/Projects/tfr-decoding/alpaca_farm/examples/prompts/v0_inputs_noinputs.json\"\n",
    "for i, r in elidf.iterrows():\n",
    "    prompts, list_dict_data, metadata = data_preprocessor.format_prompt_with_data_frame(\n",
    "        df=pd.DataFrame({'instruction':[r['history']], 'input':[\"\"]}),\n",
    "        prompt_dict=utils.jload(pdict_path),\n",
    "    )\n",
    "    instrs.append(prompts[0])\n"
   ]
  },
  {
   "cell_type": "code",
   "execution_count": 12,
   "id": "c6b60299-4ea4-4b16-9b40-d2e09087c698",
   "metadata": {},
   "outputs": [],
   "source": [
    "elidf['history'] = instrs"
   ]
  },
  {
   "cell_type": "code",
   "execution_count": 15,
   "id": "4f6d520c-1f33-4d5d-9031-a7350328e24e",
   "metadata": {},
   "outputs": [
    {
     "name": "stderr",
     "output_type": "stream",
     "text": [
      "Unknown mixed precision mode: None, falling back to fp32.\n",
      "mixed_precision = None\n"
     ]
    },
    {
     "name": "stdout",
     "output_type": "stream",
     "text": [
      "cuda:0\n"
     ]
    },
    {
     "name": "stderr",
     "output_type": "stream",
     "text": [
      "evaluating rewards for batches: 100%|██████████████████████████████████████████████████████████████████████████████████████████████████| 1/1 [00:00<00:00,  2.55it/s]"
     ]
    },
    {
     "name": "stdout",
     "output_type": "stream",
     "text": [
      "[180]\n",
      "prefcut  90\n",
      "PREFIX: \n",
      "['<s> Below is an instruction that describes a task. Write a response that appropriately completes the request.\\n\\n### Instruction:\\nSyrian Protests and Bashar al-AssadIm constantly hearing information about this, but i really have no idea what is going on. \\n\\n### Response:Since the start of the COVID-19 pandemic, Syria has been facing a major crisis, leading to protest']\n",
      "newbest  0.7613333463668823 ; oldbest  0.7613333463668823\n",
      "newavg  0.7613333463668823 ; oldavg 0.7613333463668823\n"
     ]
    },
    {
     "name": "stderr",
     "output_type": "stream",
     "text": [
      "\n"
     ]
    }
   ],
   "source": [
    "prompt, orig_os, orig_scos, nav, oav, obests, oavgs, nb, ob, stats = sampfrominp(elidf, tokenizer, model, tokenizer, rew_model, 0, 0,  None, [0.5], [1], [1], 0.9)"
   ]
  },
  {
   "cell_type": "code",
   "execution_count": null,
   "id": "055c8e8f-22a8-4abf-80f8-d807733ce829",
   "metadata": {},
   "outputs": [],
   "source": [
    "isall = inpsampall(elidf.iloc[:1], tokenizer, model, steamtok, steamshp, None, pflen, rchoose, tsamps, 0, 0.9)"
   ]
  },
  {
   "cell_type": "code",
   "execution_count": 23,
   "id": "434b6719-a848-46ce-88b2-3eb9e6c9fa7a",
   "metadata": {},
   "outputs": [
    {
     "data": {
      "text/plain": [
       "266"
      ]
     },
     "execution_count": 23,
     "metadata": {},
     "output_type": "execute_result"
    }
   ],
   "source": [
    "len(tokenizer(orig_os[0]).input_ids[0])"
   ]
  },
  {
   "cell_type": "code",
   "execution_count": 32,
   "id": "425b798e-b089-4100-b06f-3d8c3a4c8edb",
   "metadata": {},
   "outputs": [
    {
     "name": "stdout",
     "output_type": "stream",
     "text": [
      "Inputs: \n",
      "['<s> Below is an instruction that describes a task. Write a response that appropriately completes the request.\\n\\n### Instruction:\\nSyrian Protests and Bashar al-AssadIm constantly hearing information about this, but i really have no idea what is going on. \\n\\n### Response:']\n"
     ]
    },
    {
     "name": "stderr",
     "output_type": "stream",
     "text": [
      "Unknown mixed precision mode: None, falling back to fp32.\n",
      "mixed_precision = None\n"
     ]
    },
    {
     "name": "stdout",
     "output_type": "stream",
     "text": [
      "Outputs: \n",
      " ['Below is an instruction that describes a task. Write a response that appropriately completes the request.\\n\\n### Instruction:\\nSyrian Protests and Bashar al-AssadIm constantly hearing information about this, but i really have no idea what is going on. \\n\\n### Response:Since 2011, the people of Syria have been protesting against the regime of President Bashar al-Assad, who has been in power since 2000. The protests began as demonstrations against the authoritarian government, but quickly escalated into a civil war as the Syrian military responded with violence against the protesters. Since then, the conflict has gotten much larger, involving various rebel groups, jihadist factions, and other foreign powers such as Russia and the United States. The Syrian Civil War has resulted in the deaths of hundreds of thousands of people, and has caused a massive humanitarian crisis, with millions of Syrians displaced from their homes and in need of aid. It is currently an ongoing conflict, with no clear resolution in sight.', 'Below is an instruction that describes a task. Write a response that appropriately completes the request.\\n\\n### Instruction:\\nSyrian Protests and Bashar al-AssadIm constantly hearing information about this, but i really have no idea what is going on. \\n\\n### Response:The ongoing conflict in Syria began as a popular uprising against the Bashar al-Assad regime in 2011. Protests were led by citizens seeking democratic reforms, but the government responded with violence, leading to further unrest. The civil war has since escalated into a regional conflict involving many countries, and has resulted in the deaths of hundreds of thousands of Syrians and displaced millions more. The Syrian government has been accused of using chemical weapons against its own citizens, leading to international sanctions against the Assad regime. The conflict shows no sign of resolution, and has led to a humanitarian crisis as well as the rise of militant groups such as ISIS.', 'Below is an instruction that describes a task. Write a response that appropriately completes the request.\\n\\n### Instruction:\\nSyrian Protests and Bashar al-AssadIm constantly hearing information about this, but i really have no idea what is going on. \\n\\n### Response:Protests have been taking place in Syria since 2011, as citizens have been calling for the resignation of President Bashar al-Assad. The protests began as a response to the Syrian government’s crackdown on protesters in the country’s capital of Damascus, and quickly escalated into a full-blown civil war. Assad has responded to the protests with brutal force, resulting in an estimated 500,000 deaths, and has been accused of using chemical weapons against civilians. Tensions have been further heightened by foreign intervention, as various countries have sought to arm the rebels fighting against the Syrian government. Despite these attempts to remove Assad from power, he has remained in control of the country, and the conflict continues to this day.', 'Below is an instruction that describes a task. Write a response that appropriately completes the request.\\n\\n### Instruction:\\nSyrian Protests and Bashar al-AssadIm constantly hearing information about this, but i really have no idea what is going on. \\n\\n### Response:The Syrian Civil War began in 2011, when protesters took to the streets demanding democratic reforms from the Bashar al-Assad regime. The regime responded with violent crackdowns, and the conflict has since escalated into a full-blown civil war. \\n\\nThe Syrian government has been accused of multiple human rights violations, including the use of chemical weapons, torture, and extrajudicial killings. The civil war has resulted in an estimated 500,000 dead, millions of displaced civilians, and immense destruction of infrastructure and property.\\n\\nIn 2013, the United States, France, and United Kingdom launched an attack against the Syrian government in response to a chemical weapons attack on civilians. This military intervention was widely criticized, and led to a Russian-backed peace deal that saw Bashar al-Assad']\n",
      "cuda:0\n"
     ]
    },
    {
     "name": "stderr",
     "output_type": "stream",
     "text": [
      "Unknown mixed precision mode: None, falling back to fp32.\n",
      "mixed_precision = None\n"
     ]
    },
    {
     "name": "stdout",
     "output_type": "stream",
     "text": [
      "cuda:0\n"
     ]
    },
    {
     "name": "stderr",
     "output_type": "stream",
     "text": [
      "Unknown mixed precision mode: None, falling back to fp32.\n",
      "mixed_precision = None\n"
     ]
    },
    {
     "name": "stdout",
     "output_type": "stream",
     "text": [
      "cuda:0\n"
     ]
    },
    {
     "name": "stderr",
     "output_type": "stream",
     "text": [
      "Unknown mixed precision mode: None, falling back to fp32.\n",
      "mixed_precision = None\n"
     ]
    },
    {
     "name": "stdout",
     "output_type": "stream",
     "text": [
      "cuda:0\n",
      "Inputs: \n",
      "['Below is an instruction that describes a task. Write a response that appropriately completes the request.\\n\\n### Instruction:\\nSyrian Protests and Bashar al-AssadIm constantly hearing information about this, but i really have no idea what is going on. \\n\\n### Response:Since 2', 'Below is an instruction that describes a task. Write a response that appropriately completes the request.\\n\\n### Instruction:\\nSyrian Protests and Bashar al-AssadIm constantly hearing information about this, but i really have no idea what is going on. \\n\\n### Response:Since 2', 'Below is an instruction that describes a task. Write a response that appropriately completes the request.\\n\\n### Instruction:\\nSyrian Protests and Bashar al-AssadIm constantly hearing information about this, but i really have no idea what is going on. \\n\\n### Response:Since 2', 'Below is an instruction that describes a task. Write a response that appropriately completes the request.\\n\\n### Instruction:\\nSyrian Protests and Bashar al-AssadIm constantly hearing information about this, but i really have no idea what is going on. \\n\\n### Response:Since 2']\n"
     ]
    },
    {
     "name": "stderr",
     "output_type": "stream",
     "text": [
      "Unknown mixed precision mode: None, falling back to fp32.\n",
      "mixed_precision = None\n"
     ]
    },
    {
     "name": "stdout",
     "output_type": "stream",
     "text": [
      "Outputs: \n",
      " ['Below is an instruction that describes a task. Write a response that appropriately completes the request.\\n\\n### Instruction:\\nSyrian Protests and Bashar al-AssadIm constantly hearing information about this, but i really have no idea what is going on. \\n\\n### Response:Since 2011, there have been protests in Syria against the current president, Bashar al-Assad. The protests began as demonstrations for more freedom and democracy, but they quickly escalated into a full-blown civil war. The Syrian government has responded with extreme force, unleashing military forces and carrying out widespread human rights abuses. Today, the war has claimed the lives of over half a million people, displaced millions more, and created a humanitarian crisis of epic proportions.', \"Below is an instruction that describes a task. Write a response that appropriately completes the request.\\n\\n### Instruction:\\nSyrian Protests and Bashar al-AssadIm constantly hearing information about this, but i really have no idea what is going on. \\n\\n### Response:Since 2011, Syria has been engulfed in a civil war, with the Syrian people protesting against the current government of Bashar al-Assad. The protests began as a response to the regime's brutal crackdown on protesters, with reports of torture, killing, and forced disappearances of civilians. The Syrian people called for the resignation of the Syrian government and the implementation of a democratic system, however, the Syrian government responded with even more brutality.\\n\\nIn response to the protests, the Syrian government unleashed a violent crackdown on the Syrian people, leading to a violent internal conflict which has lasted for years. Despite the brutality of the Syrian government, the Syrian people have continued to fight for their rights, and there have been multiple peaceful protests and attacks against the Syrian government.\\n\\nAs the conflict has continued, other countries have become\", 'Below is an instruction that describes a task. Write a response that appropriately completes the request.\\n\\n### Instruction:\\nSyrian Protests and Bashar al-AssadIm constantly hearing information about this, but i really have no idea what is going on. \\n\\n### Response:Since 2011, Syria has been facing a brutal civil war, sparked by protests against the government of Bashar al-Assad. The initial protests were aimed at ending the authoritarian rule of Assad and his family, who have held power in Syria since 2000, and calling for more political and economic freedom. However, the Syrian government responded to the protests with violence, leading to an escalation of the conflict.\\n\\nOver the past eight years, the conflict in Syria has grown increasingly complex, drawing in multiple different actors from both inside and outside of the country. These include numerous rebel groups, some backed by various foreign governments, who have been fighting to overthrow the Syrian government. Additionally, the Syrian government has been supported by various foreign countries, including Russia and Iran, who have supplied it with weapons and other aid. Finally, the Islamic State, a militant', 'Below is an instruction that describes a task. Write a response that appropriately completes the request.\\n\\n### Instruction:\\nSyrian Protests and Bashar al-AssadIm constantly hearing information about this, but i really have no idea what is going on. \\n\\n### Response:Since 2011, there have been ongoing protests in Syria calling for the resignation of President Bashar al-Assad. The protests began as a response to the Syrian government’s crackdown on demonstrators who had been peacefully protesting for more democracy and freedom in the country. The government’s response was brutal, and soon the protests escalated into an armed conflict, with many different groups fighting against the government. This has resulted in a civil war that has left many civilians dead or displaced, and has caused immense destruction to the country. \\n\\nDespite this, President Assad has remained in power and is still in control of the Syrian government. He has relied heavily on Russian military support, and has been repeatedly accused of committing war crimes, including the use of chemical weapons against his own people. The Syrian government has also been in violation of several international agreements, and']\n",
      "cuda:0\n"
     ]
    },
    {
     "name": "stderr",
     "output_type": "stream",
     "text": [
      "Unknown mixed precision mode: None, falling back to fp32.\n",
      "mixed_precision = None\n"
     ]
    },
    {
     "name": "stdout",
     "output_type": "stream",
     "text": [
      "cuda:0\n"
     ]
    },
    {
     "name": "stderr",
     "output_type": "stream",
     "text": [
      "Unknown mixed precision mode: None, falling back to fp32.\n",
      "mixed_precision = None\n"
     ]
    },
    {
     "name": "stdout",
     "output_type": "stream",
     "text": [
      "cuda:0\n"
     ]
    },
    {
     "name": "stderr",
     "output_type": "stream",
     "text": [
      "Unknown mixed precision mode: None, falling back to fp32.\n",
      "mixed_precision = None\n"
     ]
    },
    {
     "name": "stdout",
     "output_type": "stream",
     "text": [
      "cuda:0\n",
      "Inputs: \n",
      "['Below is an instruction that describes a task. Write a response that appropriately completes the request.\\n\\n### Instruction:\\nSyrian Protests and Bashar al-AssadIm constantly hearing information about this, but i really have no idea what is going on. \\n\\n### Response:Since 2011', 'Below is an instruction that describes a task. Write a response that appropriately completes the request.\\n\\n### Instruction:\\nSyrian Protests and Bashar al-AssadIm constantly hearing information about this, but i really have no idea what is going on. \\n\\n### Response:Since 2011', 'Below is an instruction that describes a task. Write a response that appropriately completes the request.\\n\\n### Instruction:\\nSyrian Protests and Bashar al-AssadIm constantly hearing information about this, but i really have no idea what is going on. \\n\\n### Response:Since 2011', 'Below is an instruction that describes a task. Write a response that appropriately completes the request.\\n\\n### Instruction:\\nSyrian Protests and Bashar al-AssadIm constantly hearing information about this, but i really have no idea what is going on. \\n\\n### Response:Since 2011']\n"
     ]
    },
    {
     "name": "stderr",
     "output_type": "stream",
     "text": [
      "Unknown mixed precision mode: None, falling back to fp32.\n",
      "mixed_precision = None\n"
     ]
    },
    {
     "name": "stdout",
     "output_type": "stream",
     "text": [
      "Outputs: \n",
      " ['Below is an instruction that describes a task. Write a response that appropriately completes the request.\\n\\n### Instruction:\\nSyrian Protests and Bashar al-AssadIm constantly hearing information about this, but i really have no idea what is going on. \\n\\n### Response:Since 2011, there have been widespread protests in Syria against the government of Bashar al-Assad. The protests began as a result of the Arab Spring protests in other countries in the region, and initially called for political reform and the end of Assad’s authoritarian rule. However, the Syrian government responded to the protests with brutal crackdowns, resulting in an escalation of violence that has since turned into an armed conflict. The conflict has since spread to other countries in the region and has resulted in a humanitarian crisis, with millions of Syrians displaced from their homes and living in refugee camps. The majority of the conflict is being fought between the Syrian government forces and various opposition groups, with both sides receiving military aid from foreign countries. There have been multiple peace talks attempted to end the conflict, however, there is still no resolution in sight.', 'Below is an instruction that describes a task. Write a response that appropriately completes the request.\\n\\n### Instruction:\\nSyrian Protests and Bashar al-AssadIm constantly hearing information about this, but i really have no idea what is going on. \\n\\n### Response:Since 2011, there have been widespread protests in Syria against the government of Bashar al-Assad. The protests began as largely peaceful demonstrations against the government’s authoritarian rule, but quickly escalated into an armed rebellion, with many protestors taking up arms against the government. This was sparked by the Syrian Civil War, which has resulted in the deaths of over 500,000 people and the displacement of millions of others. While the civil war has been ongoing, Assad has also been forced to contend with the rise of various militant groups, including ISIS and Al-Qaeda, resulting in a complex and multi-sided conflict. In addition, the conflict has become increasingly internationalized, drawing in the involvement of numerous countries, including the United States, Russia, and other nations. As a result of the conflict, the Syrian government has lost control of', 'Below is an instruction that describes a task. Write a response that appropriately completes the request.\\n\\n### Instruction:\\nSyrian Protests and Bashar al-AssadIm constantly hearing information about this, but i really have no idea what is going on. \\n\\n### Response:Since 2011, there have been numerous protests in Syria against the rule of Bashar al-Assad, the country’s president. The protests began as peaceful demonstrations against the government, but soon escalated into a full-blown civil war. Tens of thousands of people have been killed in the conflict, and millions have been displaced from their homes. The Syrian government has responded to the protests with brutal force, leading to international condemnation of its actions. Many countries, including the United States, have imposed economic sanctions on the Syrian government in an effort to pressure it to end the violence. However, President al-Assad has remained in power, and the conflict continues to this day.', 'Below is an instruction that describes a task. Write a response that appropriately completes the request.\\n\\n### Instruction:\\nSyrian Protests and Bashar al-AssadIm constantly hearing information about this, but i really have no idea what is going on. \\n\\n### Response:Since 2011, Syria has been embroiled in a civil war as citizens of the country protested against the rule of President Bashar al-Assad. The protests were ignited by the Arab Spring protests that spread across the Middle East, and initially focused on democratic reforms and an end to the authoritarian rule of al-Assad’s family. However, the government responded to the protests with brutal crackdowns, and the conflict quickly escalated into an all-out civil war. Today, the fighting has mainly focused on the Syrian regime and various opposition groups, as well as Islamic militant organizations such as ISIS and al-Qaeda’s Jabhat Fateh al-Sham. The conflict has resulted in the deaths of hundreds of thousands of people, displacement of millions of civilians, and the destruction of much of the country’s infrastructure. The United States, European countries']\n",
      "cuda:0\n"
     ]
    },
    {
     "name": "stderr",
     "output_type": "stream",
     "text": [
      "Unknown mixed precision mode: None, falling back to fp32.\n",
      "mixed_precision = None\n"
     ]
    },
    {
     "name": "stdout",
     "output_type": "stream",
     "text": [
      "cuda:0\n"
     ]
    },
    {
     "name": "stderr",
     "output_type": "stream",
     "text": [
      "Unknown mixed precision mode: None, falling back to fp32.\n",
      "mixed_precision = None\n"
     ]
    },
    {
     "name": "stdout",
     "output_type": "stream",
     "text": [
      "cuda:0\n"
     ]
    },
    {
     "name": "stderr",
     "output_type": "stream",
     "text": [
      "Unknown mixed precision mode: None, falling back to fp32.\n",
      "mixed_precision = None\n"
     ]
    },
    {
     "name": "stdout",
     "output_type": "stream",
     "text": [
      "cuda:0\n",
      "Inputs: \n",
      "['Below is an instruction that describes a task. Write a response that appropriately completes the request.\\n\\n### Instruction:\\nSyrian Protests and Bashar al-AssadIm constantly hearing information about this, but i really have no idea what is going on. \\n\\n### Response:Since 2011, the people', 'Below is an instruction that describes a task. Write a response that appropriately completes the request.\\n\\n### Instruction:\\nSyrian Protests and Bashar al-AssadIm constantly hearing information about this, but i really have no idea what is going on. \\n\\n### Response:Since 2011, the people', 'Below is an instruction that describes a task. Write a response that appropriately completes the request.\\n\\n### Instruction:\\nSyrian Protests and Bashar al-AssadIm constantly hearing information about this, but i really have no idea what is going on. \\n\\n### Response:Since 2011, the people', 'Below is an instruction that describes a task. Write a response that appropriately completes the request.\\n\\n### Instruction:\\nSyrian Protests and Bashar al-AssadIm constantly hearing information about this, but i really have no idea what is going on. \\n\\n### Response:Since 2011, the people']\n"
     ]
    },
    {
     "name": "stderr",
     "output_type": "stream",
     "text": [
      "Unknown mixed precision mode: None, falling back to fp32.\n",
      "mixed_precision = None\n"
     ]
    },
    {
     "name": "stdout",
     "output_type": "stream",
     "text": [
      "Outputs: \n",
      " [\"Below is an instruction that describes a task. Write a response that appropriately completes the request.\\n\\n### Instruction:\\nSyrian Protests and Bashar al-AssadIm constantly hearing information about this, but i really have no idea what is going on. \\n\\n### Response:Since 2011, the people of Syria have been protesting against the rule of Bashar al-Assad, the country's President. The protests began as a result of the Arab Spring, a series of protests against corrupt governments in the region, and were driven by Syrians' desire for more freedom, democracy, and human rights. At first, the protests were largely peaceful, but as the Syrian government responded with violence, more and more Syrians took up arms to fight back. This has led to a brutal civil war, during which many more Syrians have been killed, displaced, or subjected to human rights violations. \\n\\nWhile some countries, such as the United States, have offered support to the rebel forces, the Syrian government has been largely successful in battling the rebel forces. Despite this, the civil war has gone on for years, and there is no clear resolution in sight. Many\", \"Below is an instruction that describes a task. Write a response that appropriately completes the request.\\n\\n### Instruction:\\nSyrian Protests and Bashar al-AssadIm constantly hearing information about this, but i really have no idea what is going on. \\n\\n### Response:Since 2011, the people of Syria have been protesting against the government of President Bashar al-Assad, who has been in power since 2000. The protests began as a response to the Syrian government's authoritarian policies, and soon escalated into a full-blown civil war, with the Syrian military fighting against both domestic and foreign opposition groups. The war has been brutal, resulting in the deaths of millions of Syrians, and has forced millions more to flee the country in search of safety. President al-Assad has continued to cling to power throughout the conflict, but his grip has slowly been weakening, and his fate remains uncertain.\", \"Below is an instruction that describes a task. Write a response that appropriately completes the request.\\n\\n### Instruction:\\nSyrian Protests and Bashar al-AssadIm constantly hearing information about this, but i really have no idea what is going on. \\n\\n### Response:Since 2011, the people of Syria have been protesting against the government of Bashar al-Assad in a series of peaceful demonstrations that have been met with brutal crackdowns from the Syrian government. The protests began as a result of the Syrian people's growing frustration with the Assad regime's authoritarian rule, corruption, and failure to respond to the needs of the people. \\n\\nSince then, the conflict has escalated into a full-blown civil war, with numerous rebel groups fighting against the Syrian government and its allies. The government has responded to the protests with military force, leading to an immense loss of life and a massive humanitarian crisis as millions of Syrians have been displaced from their homes. \\n\\nIn 2013, the United States, along with several other countries, intervened in the conflict in order to provide aid to the Syrian people,\", \"Below is an instruction that describes a task. Write a response that appropriately completes the request.\\n\\n### Instruction:\\nSyrian Protests and Bashar al-AssadIm constantly hearing information about this, but i really have no idea what is going on. \\n\\n### Response:Since 2011, the people of Syria have been protesting against the government of Bashar al-Assad, who has been the country's President since 2000. The protests began as a response to the Arab Spring protests in other countries, and quickly escalated into a full-blown civil war, with the majority of the Syrian population seeking to overthrow the government and Bashar al-Assad. The Syrian government has responded with extreme force, resulting in the deaths of hundreds of thousands of people and the displacement of millions more. The conflict has since drawn in numerous countries and organizations, including the United States, Russia, and the United Nations, and has resulted in a humanitarian crisis of immense proportions.\"]\n",
      "cuda:0\n"
     ]
    },
    {
     "name": "stderr",
     "output_type": "stream",
     "text": [
      "Unknown mixed precision mode: None, falling back to fp32.\n",
      "mixed_precision = None\n"
     ]
    },
    {
     "name": "stdout",
     "output_type": "stream",
     "text": [
      "cuda:0\n"
     ]
    },
    {
     "name": "stderr",
     "output_type": "stream",
     "text": [
      "Unknown mixed precision mode: None, falling back to fp32.\n",
      "mixed_precision = None\n"
     ]
    },
    {
     "name": "stdout",
     "output_type": "stream",
     "text": [
      "cuda:0\n"
     ]
    },
    {
     "name": "stderr",
     "output_type": "stream",
     "text": [
      "Unknown mixed precision mode: None, falling back to fp32.\n",
      "mixed_precision = None\n"
     ]
    },
    {
     "name": "stdout",
     "output_type": "stream",
     "text": [
      "cuda:0\n",
      "Inputs: \n",
      "['Below is an instruction that describes a task. Write a response that appropriately completes the request.\\n\\n### Instruction:\\nSyrian Protests and Bashar al-AssadIm constantly hearing information about this, but i really have no idea what is going on. \\n\\n### Response:Since 2011, the people of Syria', 'Below is an instruction that describes a task. Write a response that appropriately completes the request.\\n\\n### Instruction:\\nSyrian Protests and Bashar al-AssadIm constantly hearing information about this, but i really have no idea what is going on. \\n\\n### Response:Since 2011, the people of Syria', 'Below is an instruction that describes a task. Write a response that appropriately completes the request.\\n\\n### Instruction:\\nSyrian Protests and Bashar al-AssadIm constantly hearing information about this, but i really have no idea what is going on. \\n\\n### Response:Since 2011, the people of Syria', 'Below is an instruction that describes a task. Write a response that appropriately completes the request.\\n\\n### Instruction:\\nSyrian Protests and Bashar al-AssadIm constantly hearing information about this, but i really have no idea what is going on. \\n\\n### Response:Since 2011, the people of Syria']\n"
     ]
    },
    {
     "name": "stderr",
     "output_type": "stream",
     "text": [
      "Unknown mixed precision mode: None, falling back to fp32.\n",
      "mixed_precision = None\n"
     ]
    },
    {
     "name": "stdout",
     "output_type": "stream",
     "text": [
      "Outputs: \n",
      " ['Below is an instruction that describes a task. Write a response that appropriately completes the request.\\n\\n### Instruction:\\nSyrian Protests and Bashar al-AssadIm constantly hearing information about this, but i really have no idea what is going on. \\n\\n### Response:Since 2011, the people of Syria have been engaging in protests against the government of Bashar al-Assad. The protests began as a result of the Arab Spring uprisings in other countries, and quickly escalated into a full-scale civil war. The Syrian government responded to the protests with brutal force, unleashing a wave of violence against the protesters and their families. The conflict has since evolved into a complex proxy war, with countries such as the United States, Russia, and Iran sending weapons and troops to the conflict in support of various factions. The conflict has resulted in the deaths of millions of Syrians, and has left many more displaced from their homes. Despite numerous attempts at peace negotiations, the conflict still continues today, with neither side showing any signs of relenting.', 'Below is an instruction that describes a task. Write a response that appropriately completes the request.\\n\\n### Instruction:\\nSyrian Protests and Bashar al-AssadIm constantly hearing information about this, but i really have no idea what is going on. \\n\\n### Response:Since 2011, the people of Syria have been protesting against the government of Bashar al-Assad due to the Assad family’s oppressive rule and their response to the country’s financial crisis. The demonstrations began as peaceful protests, but soon escalated into a full-blown civil war as the Syrian government responded with force. Since then, there has been a devastating humanitarian crisis, with millions of Syrians fleeing their homes and seeking refuge in other countries. Additionally, the conflict has resulted in the rise of several militant organizations, including ISIS and Al-Qaeda, which have further destabilized the region. Despite a 2015 peace agreement, the conflict in Syria continues to this day, with the Syrian government continuing to fight against numerous opposition groups and militant organizations. The international community has been largely unable to end the conflict, resulting in thousands of deaths and millions of refugees.', 'Below is an instruction that describes a task. Write a response that appropriately completes the request.\\n\\n### Instruction:\\nSyrian Protests and Bashar al-AssadIm constantly hearing information about this, but i really have no idea what is going on. \\n\\n### Response:Since 2011, the people of Syria have been protesting against the ruling government of Bashar al-Assad. These protests have escalated into a civil war, with both government forces and opposition forces engaging in armed conflict. The Syrian government has been accused of numerous human rights violations, including the use of chemical weapons, and has faced widespread international condemnation for its actions. Although the exact circumstances of the conflict are complex, the people of Syria are continuing to fight for more rights and freedoms, with many calling for the ousting of the Assad government.', \"Below is an instruction that describes a task. Write a response that appropriately completes the request.\\n\\n### Instruction:\\nSyrian Protests and Bashar al-AssadIm constantly hearing information about this, but i really have no idea what is going on. \\n\\n### Response:Since 2011, the people of Syria have been protesting against the government of President Bashar al-Assad. This started as a peaceful protest against the government's rule, but eventually escalated into a full-blown civil war. The Syrian military has responded to the protests with brutal force, leading to widespread violence and human rights abuses. The opposition has grown in size, and now includes several different political and religious groups. There have been multiple peace talks held to try and end the conflict, but so far none of them have been successful. There have also been international interventions, including military actions by the United States and other countries. Despite all of this, the conflict in Syria continues, with both the Syrian government and the opposition still fighting. The situation in Syria is incredibly complex and it is difficult to predict how it will end. What is clear, however, is that the crisis in Syria is still ongoing and has had\"]\n",
      "cuda:0\n"
     ]
    },
    {
     "name": "stderr",
     "output_type": "stream",
     "text": [
      "Unknown mixed precision mode: None, falling back to fp32.\n",
      "mixed_precision = None\n"
     ]
    },
    {
     "name": "stdout",
     "output_type": "stream",
     "text": [
      "cuda:0\n"
     ]
    },
    {
     "name": "stderr",
     "output_type": "stream",
     "text": [
      "Unknown mixed precision mode: None, falling back to fp32.\n",
      "mixed_precision = None\n"
     ]
    },
    {
     "name": "stdout",
     "output_type": "stream",
     "text": [
      "cuda:0\n"
     ]
    },
    {
     "name": "stderr",
     "output_type": "stream",
     "text": [
      "Unknown mixed precision mode: None, falling back to fp32.\n",
      "mixed_precision = None\n"
     ]
    },
    {
     "name": "stdout",
     "output_type": "stream",
     "text": [
      "cuda:0\n",
      "Inputs: \n",
      "['Below is an instruction that describes a task. Write a response that appropriately completes the request.\\n\\n### Instruction:\\nSyrian Protests and Bashar al-AssadIm constantly hearing information about this, but i really have no idea what is going on. \\n\\n### Response:Since 2011, the people of Syria have been protest', 'Below is an instruction that describes a task. Write a response that appropriately completes the request.\\n\\n### Instruction:\\nSyrian Protests and Bashar al-AssadIm constantly hearing information about this, but i really have no idea what is going on. \\n\\n### Response:Since 2011, the people of Syria have been protest', 'Below is an instruction that describes a task. Write a response that appropriately completes the request.\\n\\n### Instruction:\\nSyrian Protests and Bashar al-AssadIm constantly hearing information about this, but i really have no idea what is going on. \\n\\n### Response:Since 2011, the people of Syria have been protest', 'Below is an instruction that describes a task. Write a response that appropriately completes the request.\\n\\n### Instruction:\\nSyrian Protests and Bashar al-AssadIm constantly hearing information about this, but i really have no idea what is going on. \\n\\n### Response:Since 2011, the people of Syria have been protest']\n"
     ]
    },
    {
     "name": "stderr",
     "output_type": "stream",
     "text": [
      "Unknown mixed precision mode: None, falling back to fp32.\n",
      "mixed_precision = None\n"
     ]
    },
    {
     "name": "stdout",
     "output_type": "stream",
     "text": [
      "Outputs: \n",
      " [\"Below is an instruction that describes a task. Write a response that appropriately completes the request.\\n\\n### Instruction:\\nSyrian Protests and Bashar al-AssadIm constantly hearing information about this, but i really have no idea what is going on. \\n\\n### Response:Since 2011, the people of Syria have been protesting against the government of President Bashar al-Assad. The protests began as opposition to Assad's rule and eventually grew into a full-blown civil war, with multiple rebel groups fighting against the Syrian army. The Syrian government has responded with a fierce crackdown, resulting in the deaths of hundreds of thousands of people and the displacement of millions.\\n\\nThe United States and other Western countries have intervened in the conflict, conducting airstrikes against the Syrian government and providing support to rebel groups. However, the conflict has largely been unsuccessful in ending the violence. Despite the heavy losses, the Syrian government has remained in power, and the civil war shows no sign of ending soon.\", \"Below is an instruction that describes a task. Write a response that appropriately completes the request.\\n\\n### Instruction:\\nSyrian Protests and Bashar al-AssadIm constantly hearing information about this, but i really have no idea what is going on. \\n\\n### Response:Since 2011, the people of Syria have been protesting against the government of Bashar al-Assad, the President of Syria. The protests began as a response to the government's brutal crackdown on peaceful protesters, demanding democratic reforms and an end to the Assad family's 40-year dictatorship. The government responded to the protests with violence, leading to an armed rebellion against the government. This escalated into a full-blown civil war, with the Syrian army fighting against numerous opposition groups, many of which are made up of defected soldiers. The conflict has been going on for over a decade, and has caused massive displacement of the Syrian population, with more than 6 million people being displaced from their homes. As a result of the conflict, the Syrian economy has collapsed, and the country has become a haven for terrorist organizations such as ISIS and Al-Qaeda.\", 'Below is an instruction that describes a task. Write a response that appropriately completes the request.\\n\\n### Instruction:\\nSyrian Protests and Bashar al-AssadIm constantly hearing information about this, but i really have no idea what is going on. \\n\\n### Response:Since 2011, the people of Syria have been protesting against the government of Bashar al-Assad, who has been in power since 2000. The protests started as a response to the Arab Spring protests in other countries, and quickly escalated into a full-scale rebellion against the Syrian government. The protests called for more political freedoms and democratic reforms, but the government responded with violence, and the conflict quickly descended into a civil war.\\n\\nSince then, the conflict has become increasingly complex, involving multiple rebel groups, foreign fighters, and several nations who are supporting or opposing the Syrian government. Additionally, the Syrian government has used chemical weapons, barrel bombs, and siege warfare in an attempt to quell the rebellion. The Syrian government has also resorted to mass executions and torture of prisoners to maintain their hold on power, leading to widespread human rights abuses', 'Below is an instruction that describes a task. Write a response that appropriately completes the request.\\n\\n### Instruction:\\nSyrian Protests and Bashar al-AssadIm constantly hearing information about this, but i really have no idea what is going on. \\n\\n### Response:Since 2011, the people of Syria have been protesting against their government due to the rising costs of living, unemployment, and dictatorship. The government, led by Bashar al-Assad, responded with violent crackdowns, and a brutal war has been raging ever since. Tens of thousands of people have been killed, and millions have been displaced from their homes. There have been multiple peace negotiations, but due to the brutality of the Syrian government, these have failed to produce any lasting results. In the last few years, the Syrian government has been largely pushed back, but the war continues to this day.']\n",
      "cuda:0\n"
     ]
    },
    {
     "name": "stderr",
     "output_type": "stream",
     "text": [
      "Unknown mixed precision mode: None, falling back to fp32.\n",
      "mixed_precision = None\n"
     ]
    },
    {
     "name": "stdout",
     "output_type": "stream",
     "text": [
      "cuda:0\n"
     ]
    },
    {
     "name": "stderr",
     "output_type": "stream",
     "text": [
      "Unknown mixed precision mode: None, falling back to fp32.\n",
      "mixed_precision = None\n"
     ]
    },
    {
     "name": "stdout",
     "output_type": "stream",
     "text": [
      "cuda:0\n"
     ]
    },
    {
     "name": "stderr",
     "output_type": "stream",
     "text": [
      "Unknown mixed precision mode: None, falling back to fp32.\n",
      "mixed_precision = None\n"
     ]
    },
    {
     "name": "stdout",
     "output_type": "stream",
     "text": [
      "cuda:0\n",
      "Inputs: \n",
      "['Below is an instruction that describes a task. Write a response that appropriately completes the request.\\n\\n### Instruction:\\nSyrian Protests and Bashar al-AssadIm constantly hearing information about this, but i really have no idea what is going on. \\n\\n### Response:Since 2011, the people of Syria have been protesting against the', 'Below is an instruction that describes a task. Write a response that appropriately completes the request.\\n\\n### Instruction:\\nSyrian Protests and Bashar al-AssadIm constantly hearing information about this, but i really have no idea what is going on. \\n\\n### Response:Since 2011, the people of Syria have been protesting against the', 'Below is an instruction that describes a task. Write a response that appropriately completes the request.\\n\\n### Instruction:\\nSyrian Protests and Bashar al-AssadIm constantly hearing information about this, but i really have no idea what is going on. \\n\\n### Response:Since 2011, the people of Syria have been protesting against the', 'Below is an instruction that describes a task. Write a response that appropriately completes the request.\\n\\n### Instruction:\\nSyrian Protests and Bashar al-AssadIm constantly hearing information about this, but i really have no idea what is going on. \\n\\n### Response:Since 2011, the people of Syria have been protesting against the']\n"
     ]
    },
    {
     "name": "stderr",
     "output_type": "stream",
     "text": [
      "Unknown mixed precision mode: None, falling back to fp32.\n",
      "mixed_precision = None\n"
     ]
    },
    {
     "name": "stdout",
     "output_type": "stream",
     "text": [
      "Outputs: \n",
      " ['Below is an instruction that describes a task. Write a response that appropriately completes the request.\\n\\n### Instruction:\\nSyrian Protests and Bashar al-AssadIm constantly hearing information about this, but i really have no idea what is going on. \\n\\n### Response:Since 2011, the people of Syria have been protesting against the government of Bashar al-Assad. The initial protests were in response to the Syrian government’s decision to increase taxes and implement economic reforms. These protests grew into a larger movement against the al-Assad regime, calling for the downfall of the government and more democratic reforms. This movement has since escalated into an armed conflict, with the Syrian Army battling rebel groups, jihadist organizations, and other opposition forces.\\n\\nThe Syrian civil war has had devastating effects on the Syrian people. It has resulted in the deaths of hundreds of thousands of people, displaced millions, and caused widespread destruction of infrastructure, buildings, and other property. In addition, the conflict has spilled over into neighboring countries, resulting in further conflict and displacement of people.\\n\\nThe Syrian government has been heavily criticized for its response to the protests. The al', 'Below is an instruction that describes a task. Write a response that appropriately completes the request.\\n\\n### Instruction:\\nSyrian Protests and Bashar al-AssadIm constantly hearing information about this, but i really have no idea what is going on. \\n\\n### Response:Since 2011, the people of Syria have been protesting against the regime of President Bashar al-Assad due to increasing authoritarianism, corruption, and economic hardship. The resulting civil war has had devastating effects, leading to the displacement of millions of people, an increase in violence and human rights abuses, and a weakening of Syria’s already-fragile economy. Despite some limited military success, President Assad has been unable to quell the uprising and maintain control over the country. His regime continues to face widespread opposition and international sanctions, leaving his future in doubt.', 'Below is an instruction that describes a task. Write a response that appropriately completes the request.\\n\\n### Instruction:\\nSyrian Protests and Bashar al-AssadIm constantly hearing information about this, but i really have no idea what is going on. \\n\\n### Response:Since 2011, the people of Syria have been protesting against the government of Bashar al-Assad, which has resulted in a civil war. The protests began as a result of the Arab Spring, a wave of protests against authoritarian governments in the Middle East, and initially called for reform in the Syrian government. When the Syrian government responded to the protests with violence, the protests grew into an armed rebellion, and the civil war began. Since then, there have been several rounds of UN-led peace talks and ceasefire agreements, but the civil war has continued to rage on, with both sides committing Human Rights violations. Additionally, the conflict has become increasingly complicated, with various terrorist organizations such as ISIS and Al-Qaeda gaining a foothold in the country. The civil war in Syria has resulted in the deaths of hundreds of thousands of people, and has caused millions of Syrians to become displaced from their', \"Below is an instruction that describes a task. Write a response that appropriately completes the request.\\n\\n### Instruction:\\nSyrian Protests and Bashar al-AssadIm constantly hearing information about this, but i really have no idea what is going on. \\n\\n### Response:Since 2011, the people of Syria have been protesting against the government of Bashar al-Assad. The protests began as a response to the president's decision to use violence to suppress peaceful protests, and have since escalated into an armed conflict involving numerous rebel groups, the Syrian government, and various countries involved in the conflict. The Syrian people are calling for the removal of the Assad regime, which has been in power since 2000, and have been engaged in an ongoing civil war with the Syrian government in an attempt to overthrow it. The conflict has resulted in the death of over 400,000 people, and has caused many more to flee the country as refugees. The Assad government has also used chemical weapons against its own people, which has led to widespread condemnation from around the world. While a ceasefire has been agreed to in recent months, it is uncertain whether the Assad government will remain in power,\"]\n",
      "cuda:0\n"
     ]
    },
    {
     "name": "stderr",
     "output_type": "stream",
     "text": [
      "Unknown mixed precision mode: None, falling back to fp32.\n",
      "mixed_precision = None\n"
     ]
    },
    {
     "name": "stdout",
     "output_type": "stream",
     "text": [
      "cuda:0\n"
     ]
    },
    {
     "name": "stderr",
     "output_type": "stream",
     "text": [
      "Unknown mixed precision mode: None, falling back to fp32.\n",
      "mixed_precision = None\n"
     ]
    },
    {
     "name": "stdout",
     "output_type": "stream",
     "text": [
      "cuda:0\n"
     ]
    },
    {
     "name": "stderr",
     "output_type": "stream",
     "text": [
      "Unknown mixed precision mode: None, falling back to fp32.\n",
      "mixed_precision = None\n"
     ]
    },
    {
     "name": "stdout",
     "output_type": "stream",
     "text": [
      "cuda:0\n",
      "Inputs: \n",
      "['Below is an instruction that describes a task. Write a response that appropriately completes the request.\\n\\n### Instruction:\\nSyrian Protests and Bashar al-AssadIm constantly hearing information about this, but i really have no idea what is going on. \\n\\n### Response:Since 2011, the people of Syria have been protesting against the regime of President', 'Below is an instruction that describes a task. Write a response that appropriately completes the request.\\n\\n### Instruction:\\nSyrian Protests and Bashar al-AssadIm constantly hearing information about this, but i really have no idea what is going on. \\n\\n### Response:Since 2011, the people of Syria have been protesting against the regime of President', 'Below is an instruction that describes a task. Write a response that appropriately completes the request.\\n\\n### Instruction:\\nSyrian Protests and Bashar al-AssadIm constantly hearing information about this, but i really have no idea what is going on. \\n\\n### Response:Since 2011, the people of Syria have been protesting against the regime of President', 'Below is an instruction that describes a task. Write a response that appropriately completes the request.\\n\\n### Instruction:\\nSyrian Protests and Bashar al-AssadIm constantly hearing information about this, but i really have no idea what is going on. \\n\\n### Response:Since 2011, the people of Syria have been protesting against the regime of President']\n"
     ]
    },
    {
     "name": "stderr",
     "output_type": "stream",
     "text": [
      "\n",
      "KeyboardInterrupt\n",
      "\n"
     ]
    }
   ],
   "source": [
    "exhaustive_samp(elidf.iloc[:1], tokenizer, model, tokenizer, rew_model, [4, 4], [4, 4], 1)"
   ]
  },
  {
   "cell_type": "code",
   "execution_count": null,
   "id": "c7624106-614c-4733-b102-6b9a48413ca0",
   "metadata": {},
   "outputs": [],
   "source": []
  }
 ],
 "metadata": {
  "kernelspec": {
   "display_name": "Python 3 (ipykernel)",
   "language": "python",
   "name": "python3"
  },
  "language_info": {
   "codemirror_mode": {
    "name": "ipython",
    "version": 3
   },
   "file_extension": ".py",
   "mimetype": "text/x-python",
   "name": "python",
   "nbconvert_exporter": "python",
   "pygments_lexer": "ipython3",
   "version": "3.9.0"
  }
 },
 "nbformat": 4,
 "nbformat_minor": 5
}
