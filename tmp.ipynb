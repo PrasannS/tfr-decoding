{
 "cells": [
  {
   "cell_type": "code",
   "execution_count": 1,
   "id": "4a0e55ca-b371-451f-936a-5a3c5a4948e6",
   "metadata": {
    "tags": []
   },
   "outputs": [],
   "source": [
    "import matplotlib.pyplot as plt\n",
    "import pandas as pd"
   ]
  },
  {
   "cell_type": "code",
   "execution_count": 3,
   "id": "348ce2ff-733e-4673-8200-ead4796bcbe1",
   "metadata": {},
   "outputs": [],
   "source": [
    "abase = pd.read_json(\"output/pfsample/abase.jsonl\", lines=True, orient=\"records\")"
   ]
  },
  {
   "cell_type": "code",
   "execution_count": 8,
   "id": "7c03f387-2c2e-4d3f-8b44-e80adfaa9cd0",
   "metadata": {
    "tags": []
   },
   "outputs": [
    {
     "name": "stdout",
     "output_type": "stream",
     "text": [
      "0.858024182911\n",
      "173.77\n"
     ]
    }
   ],
   "source": [
    "print(abase['scos'].mean())\n",
    "print(abase['budgets'].mean())"
   ]
  },
  {
   "cell_type": "code",
   "execution_count": 9,
   "id": "de9140c9-919f-4f7a-a607-a072c6bef4ad",
   "metadata": {
    "tags": []
   },
   "outputs": [
    {
     "name": "stdout",
     "output_type": "stream",
     "text": [
      "0.834382548922\n",
      "146.12\n"
     ]
    }
   ],
   "source": [
    "psamp = pd.read_json(\"output/pfsample/pfsample.jsonl\", lines=True, orient=\"records\")\n",
    "print(psamp['scos'].mean())\n",
    "print(psamp['budgets'].mean())"
   ]
  }
 ],
 "metadata": {
  "kernelspec": {
   "display_name": "Python 3 (ipykernel)",
   "language": "python",
   "name": "python3"
  },
  "language_info": {
   "codemirror_mode": {
    "name": "ipython",
    "version": 3
   },
   "file_extension": ".py",
   "mimetype": "text/x-python",
   "name": "python",
   "nbconvert_exporter": "python",
   "pygments_lexer": "ipython3",
   "version": "3.8.16"
  }
 },
 "nbformat": 4,
 "nbformat_minor": 5
}
