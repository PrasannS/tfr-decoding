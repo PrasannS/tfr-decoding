{
 "cells": [
  {
   "cell_type": "code",
   "execution_count": 1,
   "id": "9c4fb6fe-7a04-41ca-9ab2-8a5e0b462885",
   "metadata": {
    "scrolled": true
   },
   "outputs": [
    {
     "name": "stderr",
     "output_type": "stream",
     "text": [
      "/home/prasann/miniconda3/envs/apfarmenv/lib/python3.9/site-packages/tqdm/auto.py:21: TqdmWarning: IProgress not found. Please update jupyter and ipywidgets. See https://ipywidgets.readthedocs.io/en/stable/user_install.html\n",
      "  from .autonotebook import tqdm as notebook_tqdm\n"
     ]
    }
   ],
   "source": [
    "from alpaca_farm.models import reward_model\n",
    "from alpaca_farm.inference.decode import load_model_and_tokenizer_for_inference \n",
    "from alpaca_farm.inference.score import score_sequences_with_huggingface_given_model\n",
    "from transformers import T5Tokenizer, T5ForConditionalGeneration\n",
    "from alpaca_farm import utils\n",
    "import pandas as pd\n",
    "from statistics import mean, stdev\n",
    "import matplotlib.pyplot as plt\n",
    "from scipy.stats import spearmanr\n",
    "from src.utils.samp_utils import gen_row, get_reward_single, get_reward_double\n",
    "import alpaca_farm.data_preprocessor as data_preprocessor\n",
    "import random\n",
    "\n",
    "device=\"cuda:1\""
   ]
  },
  {
   "cell_type": "code",
   "execution_count": null,
   "id": "d8ccef20-5410-4039-a738-20220bc09aea",
   "metadata": {},
   "outputs": [],
   "source": [
    "steamtok = T5Tokenizer.from_pretrained('stanfordnlp/SteamSHP-flan-t5-xl')\n",
    "steamshp = T5ForConditionalGeneration.from_pretrained('stanfordnlp/SteamSHP-flan-t5-xl').to(device)\n",
    "steamshp.eval()"
   ]
  },
  {
   "cell_type": "code",
   "execution_count": 2,
   "id": "8612bd8a-0ddf-4aeb-9db6-057ecc23453c",
   "metadata": {
    "scrolled": true
   },
   "outputs": [
    {
     "name": "stderr",
     "output_type": "stream",
     "text": [
      "Loading model for inference: /home/prasann/Projects/tfr-decoding/apfarm_models/reward-model-human/\n",
      "Loading checkpoint shards: 100%|█████████████████████████████████████████████████████████████████████████████████████████████████████████████| 3/3 [02:25<00:00, 48.56s/it]\n",
      "Loading checkpoint shards: 100%|█████████████████████████████████████████████████████████████████████████████████████████████████████████████| 3/3 [02:29<00:00, 49.68s/it]\n"
     ]
    }
   ],
   "source": [
    "model, tokenizer = load_model_and_tokenizer_for_inference(\n",
    "    model_name_or_path=\"/home/prasann/Projects/tfr-decoding/apfarm_models/reward-model-human/\",\n",
    "    model_cls=reward_model.RewardModel,\n",
    "    cache_dir=None,\n",
    "    model_kwargs=dict(\n",
    "        torch_dtype=utils.convert_str_dtype_to_torch_dtype(None),\n",
    "        flash_attn=False,\n",
    "    ),\n",
    ")"
   ]
  },
  {
   "cell_type": "code",
   "execution_count": null,
   "id": "a5a93dbf-2a67-4958-9896-efe43a97d48d",
   "metadata": {},
   "outputs": [],
   "source": [
    "model, tokenizer = load_model_and_tokenizer_for_inference(\n",
    "    model_name_or_path='/home/prasann/Projects/tfr-decoding/apfarm_models/ppo-human/',\n",
    "    cache_dir=None,\n",
    "    model_kwargs=dict(torch_dtype=utils.convert_str_dtype_to_torch_dtype(None)),\n",
    ")"
   ]
  },
  {
   "cell_type": "code",
   "execution_count": null,
   "id": "437640b4-59b1-49e6-aabd-4b7ecfd8748e",
   "metadata": {},
   "outputs": [],
   "source": [
    "def generate_stuff(question):\n",
    "    pdict_path = \"/home/prasann/Projects/tfr-decoding/alpaca_farm/examples/prompts/v0_inputs_noinputs.json\"\n",
    "    prompts, list_dict_data, metadata = data_preprocessor.format_prompt_with_data_frame(\n",
    "        df=pd.DataFrame({'instruction':[question], 'input':[\"\"]}),\n",
    "        prompt_dict=utils.jload(pdict_path),\n",
    "    )\n",
    "    inps = tokenizer(prompts, return_tensors=\"pt\").to(\"cuda\")\n",
    "    outs = model.generate(inps.input_ids, attention_mask=inps.attention_mask, do_sample=True, temperature=1.0,max_new_tokens=300,num_return_sequences=2,)\n",
    "    return tokenizer.batch_decode(outs, skip_special_tokens=True)"
   ]
  },
  {
   "cell_type": "code",
   "execution_count": null,
   "id": "debe9d9e-046c-4c97-9562-7be1ad7f51a0",
   "metadata": {},
   "outputs": [],
   "source": [
    "otmp = generate_stuff(alldfs['instruction'].loc[0])"
   ]
  },
  {
   "cell_type": "code",
   "execution_count": null,
   "id": "1a9d156a-34a5-4361-8c54-4007822f27b4",
   "metadata": {},
   "outputs": [],
   "source": [
    "scos = [float(get_reward_single({\"context\": alldfs['instruction'].loc[0], \"hyp\":o}, steamtok, steamshp)) for o in otmp]\n",
    "print(scos)"
   ]
  },
  {
   "cell_type": "code",
   "execution_count": null,
   "id": "18542446-0158-4388-be74-f4add0591274",
   "metadata": {},
   "outputs": [],
   "source": [
    "print(otmp[1])"
   ]
  },
  {
   "cell_type": "code",
   "execution_count": null,
   "id": "d00ce21d-2474-4af4-9929-7c152181fd38",
   "metadata": {},
   "outputs": [],
   "source": [
    "ppoouts = pd.read_json(\"alpaca_farm/bon_outs/ppohum.jsonl\", orient=\"records\").drop(columns=['input', 'scorer_name_or_path'])\n",
    "sftouts = pd.read_json(\"alpaca_farm/bon_outs/sft.jsonl\", orient=\"records\").drop(columns=['input', 'scorer_name_or_path'])\n"
   ]
  },
  {
   "cell_type": "code",
   "execution_count": null,
   "id": "9bfc0070-632d-4ac6-a461-e110f784b347",
   "metadata": {},
   "outputs": [],
   "source": [
    "def scoreseq(inp, ans):\n",
    "    # TODO make a batched version if necessary\n",
    "    template = \"Below is an instruction that describes a task. Write a response that appropriately completes the request.\\n\\n### Instruction:\\n{instruction}\\n\\n### Response:{response}\"\n",
    "    seq = template.format(instruction=inp, response=ans)\n",
    "    return score_sequences_with_huggingface_given_model(model, tokenizer, [seq], per_device_batch_size=1)\n",
    "    "
   ]
  },
  {
   "cell_type": "code",
   "execution_count": null,
   "id": "279f70a2-69d4-40c5-94bc-2206c37ab7ab",
   "metadata": {},
   "outputs": [],
   "source": [
    "inp = ppoouts.loc[1]['instruction']\n",
    "hyp = ppoouts.loc[1]['output'][1]\n",
    "scoreseq(inp, hyp)"
   ]
  },
  {
   "cell_type": "code",
   "execution_count": null,
   "id": "99eb00d4-29ee-4374-816b-5790ea519b3b",
   "metadata": {},
   "outputs": [],
   "source": [
    "ppoouts.loc[1].top_index[0]"
   ]
  },
  {
   "cell_type": "code",
   "execution_count": null,
   "id": "81259a38-a673-4ad6-84ef-0567e5459f05",
   "metadata": {},
   "outputs": [],
   "source": [
    "def printex(row):\n",
    "    print(row.instruction)\n",
    "    for i in [1, 2, 6, 7]:\n",
    "        topind = row.top_index[i]\n",
    "        print(row.top_scores[topind])\n",
    "        print(row.output[topind])"
   ]
  },
  {
   "cell_type": "code",
   "execution_count": null,
   "id": "adbe537f-b6c9-410a-81ae-35857c798fb7",
   "metadata": {},
   "outputs": [],
   "source": []
  },
  {
   "cell_type": "code",
   "execution_count": null,
   "id": "91afb61b-62e0-4de3-9de5-b59f82998e1d",
   "metadata": {
    "scrolled": true
   },
   "outputs": [],
   "source": [
    "\n",
    "ind = 15\n",
    "print(\"_________\")\n",
    "print(\"BEFORE PPO\")\n",
    "printex(sftouts.loc[ind])\n",
    "print(\"_________\")\n",
    "print(\"AFTER PPO\")\n",
    "printex(ppoouts.loc[ind])\n"
   ]
  },
  {
   "cell_type": "code",
   "execution_count": null,
   "id": "6896b22a-7a28-4a00-ae80-4f9184c4d560",
   "metadata": {},
   "outputs": [],
   "source": [
    "mean([mean(m) for m in ppoouts.top_scores])"
   ]
  },
  {
   "cell_type": "code",
   "execution_count": null,
   "id": "7c30f21a-582f-4a3e-872f-c2d8338617b7",
   "metadata": {},
   "outputs": [],
   "source": [
    "lendist = []\n",
    "for sc in sftouts.output:\n",
    "    lendist.extend([len(tokenizer(s).input_ids) for s in sc])\n",
    "print(mean(lendist))\n",
    "plt.hist(lendist)"
   ]
  },
  {
   "cell_type": "code",
   "execution_count": null,
   "id": "c6442b6f-587c-4305-a47a-d93b4e055b26",
   "metadata": {},
   "outputs": [],
   "source": [
    "scodist = []\n",
    "for sc in sftouts.top_scores:\n",
    "    scodist.extend(sc)\n",
    "plt.hist(scodist)"
   ]
  },
  {
   "cell_type": "code",
   "execution_count": null,
   "id": "ed64c2f7-ea74-4879-bec1-501de78fe2fd",
   "metadata": {},
   "outputs": [],
   "source": [
    "nldist = []\n",
    "nsdist = []\n",
    "for i in range(len(lendist)):\n",
    "    if lendist[i]>=300:\n",
    "        continue\n",
    "    nldist.append(lendist[i])\n",
    "    nsdist.append(scodist[i])"
   ]
  },
  {
   "cell_type": "code",
   "execution_count": null,
   "id": "7a94986e-7dc4-4f0b-8729-8cb774bfa01b",
   "metadata": {},
   "outputs": [],
   "source": [
    "spearmanr(nldist, nsdist)"
   ]
  },
  {
   "cell_type": "code",
   "execution_count": null,
   "id": "31642e21-e5b2-4a33-97df-f89580dc12d0",
   "metadata": {},
   "outputs": [],
   "source": [
    "plt.scatter(nldist, nsdist)"
   ]
  },
  {
   "cell_type": "code",
   "execution_count": null,
   "id": "5356ef46-7129-4cbc-9599-77a6ebb1ff67",
   "metadata": {},
   "outputs": [],
   "source": [
    "sftouts.loc[7]['output']"
   ]
  },
  {
   "cell_type": "code",
   "execution_count": 2,
   "id": "7b7f990b-c1fa-4c3b-855c-29b2e633d8dc",
   "metadata": {},
   "outputs": [],
   "source": [
    "from os import listdir"
   ]
  },
  {
   "cell_type": "code",
   "execution_count": 3,
   "id": "8f33d246-7f6d-420d-924b-3ada72f8aff8",
   "metadata": {},
   "outputs": [],
   "source": [
    "dfs = []\n",
    "for dir in listdir(\"alpaca_farm/bon_outs/\"):\n",
    "    if 'eli' in dir:\n",
    "        dfs.append(pd.read_json(\"alpaca_farm/bon_outs/\"+dir, orient='records'))"
   ]
  },
  {
   "cell_type": "code",
   "execution_count": 5,
   "id": "8f7ecb3a-0c1f-46ee-9efa-9aa07bc803c2",
   "metadata": {},
   "outputs": [],
   "source": [
    "ppo_diag = pd.read_json(\"alpaca_farm/bon_outs/ppohum_diag.jsonl\", orient='records')\n",
    "sft_diag = pd.read_json(\"alpaca_farm/bon_outs/sft_diag.jsonl\", orient='records')"
   ]
  },
  {
   "cell_type": "code",
   "execution_count": 16,
   "id": "7e83bbbc-eefe-4bfa-84b2-76e3865caa5c",
   "metadata": {},
   "outputs": [],
   "source": [
    "sft_diag.to_json(\"alpaca_farm/bon_outs/sft_diag.jsonl\", orient='records')"
   ]
  },
  {
   "cell_type": "code",
   "execution_count": 4,
   "id": "c56107a8-b5fa-4a29-805a-54e879f82a2a",
   "metadata": {},
   "outputs": [],
   "source": [
    "alldfs = pd.concat(dfs).reset_index(drop=True).drop(columns=['input', 'scorer_name_or_path'])"
   ]
  },
  {
   "cell_type": "code",
   "execution_count": 5,
   "id": "b506de5b-4a11-4043-ba1a-7f4858aa7ac6",
   "metadata": {},
   "outputs": [
    {
     "data": {
      "text/html": [
       "<div>\n",
       "<style scoped>\n",
       "    .dataframe tbody tr th:only-of-type {\n",
       "        vertical-align: middle;\n",
       "    }\n",
       "\n",
       "    .dataframe tbody tr th {\n",
       "        vertical-align: top;\n",
       "    }\n",
       "\n",
       "    .dataframe thead th {\n",
       "        text-align: right;\n",
       "    }\n",
       "</style>\n",
       "<table border=\"1\" class=\"dataframe\">\n",
       "  <thead>\n",
       "    <tr style=\"text-align: right;\">\n",
       "      <th></th>\n",
       "      <th>instruction</th>\n",
       "      <th>output</th>\n",
       "      <th>top_sequence</th>\n",
       "      <th>top_index</th>\n",
       "      <th>top_scores</th>\n",
       "    </tr>\n",
       "  </thead>\n",
       "  <tbody>\n",
       "    <tr>\n",
       "      <th>0</th>\n",
       "      <td>Gorillaz and their virtual band \"history\"I am ...</td>\n",
       "      <td>[Gorillaz is a British virtual band created in...</td>\n",
       "      <td>[Below is an instruction that describes a task...</td>\n",
       "      <td>[1, 0]</td>\n",
       "      <td>[0.39429283142089805, 0.7290570735931391]</td>\n",
       "    </tr>\n",
       "    <tr>\n",
       "      <th>1</th>\n",
       "      <td>If a RAR or ZIP file just make another file/gr...</td>\n",
       "      <td>[Yes, you can keep compressing RAR and ZIP fil...</td>\n",
       "      <td>[Below is an instruction that describes a task...</td>\n",
       "      <td>[1, 0]</td>\n",
       "      <td>[1.037175416946411, 1.441125512123108]</td>\n",
       "    </tr>\n",
       "    <tr>\n",
       "      <th>2</th>\n",
       "      <td>Why do Catalonia and the rest of Spain think e...</td>\n",
       "      <td>[The conflict between Catalonia and the rest o...</td>\n",
       "      <td>[Below is an instruction that describes a task...</td>\n",
       "      <td>[0, 1]</td>\n",
       "      <td>[1.635269045829773, 0.12795141339302002]</td>\n",
       "    </tr>\n",
       "    <tr>\n",
       "      <th>3</th>\n",
       "      <td>Who chooses where the Olympics are going to be...</td>\n",
       "      <td>[The International Olympic Committee (IOC) is ...</td>\n",
       "      <td>[Below is an instruction that describes a task...</td>\n",
       "      <td>[1, 0]</td>\n",
       "      <td>[-0.598800957202911, 2.12459659576416]</td>\n",
       "    </tr>\n",
       "    <tr>\n",
       "      <th>4</th>\n",
       "      <td>How could the governments of USA / UK have giv...</td>\n",
       "      <td>[It is understandable that you may be confused...</td>\n",
       "      <td>[Below is an instruction that describes a task...</td>\n",
       "      <td>[0, 1]</td>\n",
       "      <td>[0.7304080724716181, 0.454102754592895]</td>\n",
       "    </tr>\n",
       "    <tr>\n",
       "      <th>...</th>\n",
       "      <td>...</td>\n",
       "      <td>...</td>\n",
       "      <td>...</td>\n",
       "      <td>...</td>\n",
       "      <td>...</td>\n",
       "    </tr>\n",
       "    <tr>\n",
       "      <th>16695</th>\n",
       "      <td>Pangaea: Why was there just a single giant lan...</td>\n",
       "      <td>[The hypothesis of a single super-continent is...</td>\n",
       "      <td>[Below is an instruction that describes a task...</td>\n",
       "      <td>[0, 1]</td>\n",
       "      <td>[2.8094208240509033, 2.256419658660888]</td>\n",
       "    </tr>\n",
       "    <tr>\n",
       "      <th>16696</th>\n",
       "      <td>All the different FPS \"netcode\" terminology li...</td>\n",
       "      <td>[Netcode is a term used to refer to the networ...</td>\n",
       "      <td>[Below is an instruction that describes a task...</td>\n",
       "      <td>[0, 1]</td>\n",
       "      <td>[1.205457210540771, 0.6027202010154721]</td>\n",
       "    </tr>\n",
       "    <tr>\n",
       "      <th>16697</th>\n",
       "      <td>Where do last names come from?There's a few qu...</td>\n",
       "      <td>[Last names are thought to have originated in ...</td>\n",
       "      <td>[Below is an instruction that describes a task...</td>\n",
       "      <td>[1, 0]</td>\n",
       "      <td>[1.125969529151916, 1.569443464279174]</td>\n",
       "    </tr>\n",
       "    <tr>\n",
       "      <th>16698</th>\n",
       "      <td>Why is the skin on penises so dark, compared t...</td>\n",
       "      <td>[The skin on penises is darker than other area...</td>\n",
       "      <td>[Below is an instruction that describes a task...</td>\n",
       "      <td>[0, 1]</td>\n",
       "      <td>[1.840420961380004, 1.813018083572387]</td>\n",
       "    </tr>\n",
       "    <tr>\n",
       "      <th>16699</th>\n",
       "      <td>Why is 16:9 the standard ratio for visual medi...</td>\n",
       "      <td>[The 16:9 ratio is the most commonly used aspe...</td>\n",
       "      <td>[Below is an instruction that describes a task...</td>\n",
       "      <td>[1, 0]</td>\n",
       "      <td>[1.719490766525268, 1.7504816055297852]</td>\n",
       "    </tr>\n",
       "  </tbody>\n",
       "</table>\n",
       "<p>16700 rows × 5 columns</p>\n",
       "</div>"
      ],
      "text/plain": [
       "                                             instruction  \\\n",
       "0      Gorillaz and their virtual band \"history\"I am ...   \n",
       "1      If a RAR or ZIP file just make another file/gr...   \n",
       "2      Why do Catalonia and the rest of Spain think e...   \n",
       "3      Who chooses where the Olympics are going to be...   \n",
       "4      How could the governments of USA / UK have giv...   \n",
       "...                                                  ...   \n",
       "16695  Pangaea: Why was there just a single giant lan...   \n",
       "16696  All the different FPS \"netcode\" terminology li...   \n",
       "16697  Where do last names come from?There's a few qu...   \n",
       "16698  Why is the skin on penises so dark, compared t...   \n",
       "16699  Why is 16:9 the standard ratio for visual medi...   \n",
       "\n",
       "                                                  output  \\\n",
       "0      [Gorillaz is a British virtual band created in...   \n",
       "1      [Yes, you can keep compressing RAR and ZIP fil...   \n",
       "2      [The conflict between Catalonia and the rest o...   \n",
       "3      [The International Olympic Committee (IOC) is ...   \n",
       "4      [It is understandable that you may be confused...   \n",
       "...                                                  ...   \n",
       "16695  [The hypothesis of a single super-continent is...   \n",
       "16696  [Netcode is a term used to refer to the networ...   \n",
       "16697  [Last names are thought to have originated in ...   \n",
       "16698  [The skin on penises is darker than other area...   \n",
       "16699  [The 16:9 ratio is the most commonly used aspe...   \n",
       "\n",
       "                                            top_sequence top_index  \\\n",
       "0      [Below is an instruction that describes a task...    [1, 0]   \n",
       "1      [Below is an instruction that describes a task...    [1, 0]   \n",
       "2      [Below is an instruction that describes a task...    [0, 1]   \n",
       "3      [Below is an instruction that describes a task...    [1, 0]   \n",
       "4      [Below is an instruction that describes a task...    [0, 1]   \n",
       "...                                                  ...       ...   \n",
       "16695  [Below is an instruction that describes a task...    [0, 1]   \n",
       "16696  [Below is an instruction that describes a task...    [0, 1]   \n",
       "16697  [Below is an instruction that describes a task...    [1, 0]   \n",
       "16698  [Below is an instruction that describes a task...    [0, 1]   \n",
       "16699  [Below is an instruction that describes a task...    [1, 0]   \n",
       "\n",
       "                                      top_scores  \n",
       "0      [0.39429283142089805, 0.7290570735931391]  \n",
       "1         [1.037175416946411, 1.441125512123108]  \n",
       "2       [1.635269045829773, 0.12795141339302002]  \n",
       "3         [-0.598800957202911, 2.12459659576416]  \n",
       "4        [0.7304080724716181, 0.454102754592895]  \n",
       "...                                          ...  \n",
       "16695    [2.8094208240509033, 2.256419658660888]  \n",
       "16696    [1.205457210540771, 0.6027202010154721]  \n",
       "16697     [1.125969529151916, 1.569443464279174]  \n",
       "16698     [1.840420961380004, 1.813018083572387]  \n",
       "16699    [1.719490766525268, 1.7504816055297852]  \n",
       "\n",
       "[16700 rows x 5 columns]"
      ]
     },
     "execution_count": 5,
     "metadata": {},
     "output_type": "execute_result"
    }
   ],
   "source": [
    "alldfs"
   ]
  },
  {
   "cell_type": "code",
   "execution_count": null,
   "id": "356c029a-9b7f-48c6-a160-ac5e51758558",
   "metadata": {},
   "outputs": [],
   "source": [
    "alldfs"
   ]
  },
  {
   "cell_type": "code",
   "execution_count": 38,
   "id": "dae705b5-6a71-49ae-8ce2-38fdd9d394b1",
   "metadata": {},
   "outputs": [],
   "source": [
    "def scoind(ind, adf):\n",
    "    row = adf.loc[ind]\n",
    "    scos = [float(get_reward_single({\"context\": row['instruction'], \"hyp\":o}, steamtok, steamshp)) for o in row['output']]\n",
    "    return scos\n",
    "\n",
    "def budgind(ind, adf):\n",
    "    row = adf.loc[ind]\n",
    "    budgs = [len(preftok(o).input_ids) for o in row['output']]\n",
    "    return budgs\n",
    "\n",
    "def adaptbase(inpdf, thresh, mrange):\n",
    "    inds = list(range(8))\n",
    "    fscos = []\n",
    "    budgets = []\n",
    "    for ind in range(len(inpdf)):\n",
    "        slist = inpdf.shpscos[ind]\n",
    "        blist = inpdf.budgs[ind]\n",
    "        random.shuffle(inds)\n",
    "        tmp = []\n",
    "        budget = 0\n",
    "        # get adaptive score\n",
    "        for i in inds[:mrange]:\n",
    "            budget = budget+blist[i]\n",
    "            if slist[i]>thresh:\n",
    "                fscos.append(slist[i])\n",
    "                break\n",
    "            tmp.append(slist[i])\n",
    "            if i==inds[mrange-1]:\n",
    "                fscos.append(max(tmp))\n",
    "        budgets.append(budget)\n",
    "    return mean(fscos), mean(budgets)\n",
    "\n",
    "def adaptive_prefsort(inpdf, thresh, mrange, pf, hstop):\n",
    "    inds = list(range(8))\n",
    "    fscos = []\n",
    "    budgets = []\n",
    "    for ind in range(len(inpdf)):\n",
    "        # score list and list of budgets\n",
    "        slist = inpdf.shpscos[ind]\n",
    "        blist = inpdf.budgs[ind]\n",
    "        # list with prefix metric scores (specifically final class)\n",
    "        plist = [a[-1] for a in inpdf[\"probs\"+str(pf)][ind]]\n",
    "        # mix up what order we get stuff in\n",
    "        random.shuffle(inds)\n",
    "        tmp = []\n",
    "        # get prob values\n",
    "        nplist = [plist[p] for p in inds[:mrange]]\n",
    "        \n",
    "        # get indices to use\n",
    "        sortps = [inds[pl] for pl in np.argsort(nplist)]\n",
    "        sortps.reverse()\n",
    "        # if ind==0:\n",
    "        #     print(plist)\n",
    "        #     print(slist)\n",
    "        #     print(sortps)\n",
    "        budget = pf*mrange\n",
    "        # get adaptive score\n",
    "        for i in sortps[:hstop]:\n",
    "            budget = budget+blist[i]\n",
    "            budget = budget-pf # already part of budget, remove\n",
    "            if slist[i]>thresh:\n",
    "                fscos.append(slist[i])\n",
    "                break\n",
    "            tmp.append(slist[i])\n",
    "            if i==sortps[hstop-1]:\n",
    "                fscos.append(max(tmp))\n",
    "        budgets.append(budget)\n",
    "    return mean(fscos), mean(budgets)"
   ]
  },
  {
   "cell_type": "code",
   "execution_count": 39,
   "id": "c014e430-8d42-46b0-8e4c-74e1543f11c8",
   "metadata": {},
   "outputs": [
    {
     "name": "stdout",
     "output_type": "stream",
     "text": [
      "0.9100416481494904   260.28\n",
      "0.9312801229953765   314.22\n",
      "0.9333545243740082   350.52\n",
      "0.9348818624019622   385.82\n",
      "0.9363791239261627   419.74\n",
      "0.9372864806652069   451.46\n",
      "0.9381633234024048   486.02\n",
      "0.9395368981361389   515.96\n"
     ]
    }
   ],
   "source": [
    "for j in range(1, 9):\n",
    "    scos, buds = [], []\n",
    "    for i in range(500):\n",
    "        s, b = adaptive_prefsort(sft_diag, .94, 8, 20, j)\n",
    "        # s, b = samprer(fulld,  j)\n",
    "        scos.append(s)\n",
    "        buds.append(b)\n",
    "    print(mean(scos), \" \", mean(buds))"
   ]
  },
  {
   "cell_type": "code",
   "execution_count": null,
   "id": "6c9d0e85-7337-456e-b95c-d7121084cbcb",
   "metadata": {},
   "outputs": [],
   "source": [
    "ascos = []\n",
    "for i in range(50):\n",
    "    print(i)\n",
    "    ascos.append(scoind(i, sft_diag))"
   ]
  },
  {
   "cell_type": "code",
   "execution_count": 11,
   "id": "d88b0a4d-b388-44ac-974a-6f45ebc76e56",
   "metadata": {},
   "outputs": [],
   "source": [
    "sft_diag['shpscos'] = ascos"
   ]
  },
  {
   "cell_type": "code",
   "execution_count": 14,
   "id": "9ecd53cd-3466-4da7-be24-0a08f603638f",
   "metadata": {},
   "outputs": [],
   "source": [
    "sft_diag['budgs'] = [budgind(i, sft_diag) for i in range(len(sft_diag))]"
   ]
  },
  {
   "cell_type": "code",
   "execution_count": null,
   "id": "1cc14b05-bfeb-48ae-9cf7-0e0695f3a74e",
   "metadata": {},
   "outputs": [],
   "source": [
    "mean([mean(m) for m in sft_diag['budgs']])"
   ]
  },
  {
   "cell_type": "code",
   "execution_count": 30,
   "id": "3b57049d-bffd-4e98-bbf6-24738fdee11d",
   "metadata": {},
   "outputs": [],
   "source": [
    "def make_prefs(indf, tok, pflen):\n",
    "    res = []\n",
    "    for h in indf.output:\n",
    "        prefs = [tok.decode(tok(hyp).input_ids[:pflen], skip_special_tokens=True) for hyp in h]\n",
    "        res.append(prefs)\n",
    "    return res\n",
    "CLASSES = [71, 272, 205, 309]\n",
    "def getprobs(indf, ex):\n",
    "    allprobs = []\n",
    "    for num in range(8):\n",
    "        out = qpref.predsingle(indf['instruction'][ex], indf['pf20'][ex][num], True)\n",
    "        cprobs = []\n",
    "        for c in CLASSES:\n",
    "            out.sequences[0][1] = c\n",
    "            transition_scores = qpref.model.compute_transition_scores(\n",
    "                out.sequences, out.scores, normalize_logits=True\n",
    "            )\n",
    "            cprobs.append(float(np.exp(transition_scores[0][0].cpu())))\n",
    "        allprobs.append(cprobs)\n",
    "    return allprobs"
   ]
  },
  {
   "cell_type": "code",
   "execution_count": 32,
   "id": "76a74983-6081-4498-9e4d-7f06f719fa1b",
   "metadata": {},
   "outputs": [],
   "source": [
    "import numpy as np\n",
    "import torch\n",
    "torch.cuda.empty_cache()"
   ]
  },
  {
   "cell_type": "code",
   "execution_count": 4,
   "id": "2aec76e4-604c-4a7e-9a03-e514ef7f06a8",
   "metadata": {},
   "outputs": [],
   "source": [
    "from src.tfr_decoding.shp_modeling import T5BinaryClassifier\n",
    "\n",
    "pfmod_path = \"./lightning_logs/multimodel/checkpoints/epoch=3-step=86946.ckpt\"\n",
    "pfname = 'stanfordnlp/SteamSHP-flan-t5-large'\n",
    "# get prefix model\n",
    "qpref = T5BinaryClassifier.load_from_checkpoint(pfmod_path, device_map=\"auto\")\n",
    "preftok = T5Tokenizer.from_pretrained(pfname)"
   ]
  },
  {
   "cell_type": "code",
   "execution_count": 21,
   "id": "d13ca74e-9ccf-4a2b-9441-02ea62039c82",
   "metadata": {},
   "outputs": [],
   "source": [
    "sft_diag['pf20'] = make_prefs(sft_diag, preftok, 20)"
   ]
  },
  {
   "cell_type": "code",
   "execution_count": 33,
   "id": "f672a100-f701-4e09-9c6d-83ecb9708512",
   "metadata": {},
   "outputs": [
    {
     "name": "stdout",
     "output_type": "stream",
     "text": [
      "0\n",
      "10\n",
      "20\n",
      "30\n",
      "40\n"
     ]
    }
   ],
   "source": [
    "with torch.no_grad():\n",
    "    allprobs = []\n",
    "    for val in range(len(sft_diag)):\n",
    "        if val%10==0:\n",
    "            print(val)\n",
    "        allprobs.append(getprobs(sft_diag, val))"
   ]
  },
  {
   "cell_type": "code",
   "execution_count": 34,
   "id": "54274e72-c3ff-4227-a597-59763a9bd2ac",
   "metadata": {},
   "outputs": [],
   "source": [
    "sft_diag['probs20'] = allprobs"
   ]
  },
  {
   "cell_type": "code",
   "execution_count": null,
   "id": "ed1dcd24-f089-4b9f-9f64-5b3ab2b59fb4",
   "metadata": {},
   "outputs": [],
   "source": [
    "# get dataframes with prefix scores for different outs that we'll use in reranking\n",
    "tokenizer = T5Tokenizer.from_pretrained(\"google/flan-t5-xxl\")"
   ]
  },
  {
   "cell_type": "code",
   "execution_count": null,
   "id": "6c4d25f3-42b2-4461-890d-f3955a275ffb",
   "metadata": {},
   "outputs": [],
   "source": [
    "sft_diag"
   ]
  },
  {
   "cell_type": "code",
   "execution_count": null,
   "id": "3594ea4a-980d-472a-9f4f-913ada0dd0c5",
   "metadata": {},
   "outputs": [],
   "source": []
  }
 ],
 "metadata": {
  "kernelspec": {
   "display_name": "Python 3 (ipykernel)",
   "language": "python",
   "name": "python3"
  },
  "language_info": {
   "codemirror_mode": {
    "name": "ipython",
    "version": 3
   },
   "file_extension": ".py",
   "mimetype": "text/x-python",
   "name": "python",
   "nbconvert_exporter": "python",
   "pygments_lexer": "ipython3",
   "version": "3.9.16"
  }
 },
 "nbformat": 4,
 "nbformat_minor": 5
}
