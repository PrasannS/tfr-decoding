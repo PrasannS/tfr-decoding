{
 "cells": [
  {
   "cell_type": "code",
   "execution_count": 22,
   "id": "dbcf9396-bdbe-4f7f-ba68-ba162e784307",
   "metadata": {
    "tags": []
   },
   "outputs": [],
   "source": [
    "from transformers import T5ForConditionalGeneration, T5Tokenizer\n",
    "import torch\n",
    "from datasets import load_dataset\n",
    "import pandas as pd\n",
    "import numpy as np\n",
    "from src.tfr_decoding.finepref_sample import sample # new sampling method\n",
    "from src.utils.samp_utils import inpsampall, dset_randsamp   \n",
    "from src.tfr_decoding.shp_modeling import T5BinaryClassifier\n",
    "from prefix_sampling import PrefixSampler, test_baseline, test_pfsample, test_finesample, test_apsample"
   ]
  },
  {
   "cell_type": "code",
   "execution_count": 23,
   "id": "00c9a28c-0b66-449e-b899-59b699a96c6e",
   "metadata": {
    "tags": []
   },
   "outputs": [
    {
     "name": "stdout",
     "output_type": "stream",
     "text": [
      "The autoreload extension is already loaded. To reload it, use:\n",
      "  %reload_ext autoreload\n"
     ]
    }
   ],
   "source": [
    "%load_ext autoreload\n",
    "%autoreload 2"
   ]
  },
  {
   "cell_type": "code",
   "execution_count": 3,
   "id": "7a1ab479-7aed-4d15-8e58-ff17936ed3cb",
   "metadata": {
    "tags": []
   },
   "outputs": [
    {
     "data": {
      "application/vnd.jupyter.widget-view+json": {
       "model_id": "11f8a40070ff4390944ebb07dbb1f5a4",
       "version_major": 2,
       "version_minor": 0
      },
      "text/plain": [
       "Loading checkpoint shards:   0%|          | 0/5 [00:00<?, ?it/s]"
      ]
     },
     "metadata": {},
     "output_type": "display_data"
    },
    {
     "data": {
      "application/vnd.jupyter.widget-view+json": {
       "model_id": "2af6313f8a8b40c19e8521872dddb097",
       "version_major": 2,
       "version_minor": 0
      },
      "text/plain": [
       "Loading checkpoint shards:   0%|          | 0/2 [00:00<?, ?it/s]"
      ]
     },
     "metadata": {},
     "output_type": "display_data"
    }
   ],
   "source": [
    "# first load relevant models\n",
    "device = 'cuda:1' # if you have a GPU\n",
    "\n",
    "\n",
    "# get generation model\n",
    "tokenizer = T5Tokenizer.from_pretrained(\"google/flan-t5-xxl\")\n",
    "qpref = T5BinaryClassifier.load_from_checkpoint(\"./lightning_logs/version_4/checkpoints/epoch=2-step=11896.ckpt\")\n",
    "model = T5ForConditionalGeneration.from_pretrained(\"google/flan-t5-xxl\", device_map=\"auto\")#.to(device)\n",
    "#model.sample = sample.__get__(model)\n",
    "model.tokenizer = tokenizer\n",
    "model.tok = tokenizer\n",
    "pfname = 'stanfordnlp/SteamSHP-flan-t5-large'\n",
    "max_len = 512\n",
    "learning_rate = 3e-5\n",
    "preftok = T5Tokenizer.from_pretrained(pfname)\n",
    "\n",
    "model.qualitypref = qpref\n",
    "#model.stdpref = T5BinaryClassifier.load_from_checkpoint(\"./lightning_logs/version_11/checkpoints/epoch=3-step=3359.ckpt\")\n",
    "# set up relevant mdoels\n",
    "model.downmetric = T5ForConditionalGeneration.from_pretrained('stanfordnlp/SteamSHP-flan-t5-xl').to(device)\n",
    "model.downtok = T5Tokenizer.from_pretrained('stanfordnlp/SteamSHP-flan-t5-xl')\n",
    "model.eval()\n",
    "\n",
    "# load up our dataset\n",
    "elidf = pd.read_json(\"output/elidataset.jsonl\", orient=\"records\", lines=\"true\")\n",
    "# start from 15000 for latest exploration\n",
    "elidf = elidf.drop_duplicates(subset=\"history\").iloc[15000:15100]\n",
    "\n",
    "pfsampler = PrefixSampler(model)\n",
    "inplist = list(elidf['history'])"
   ]
  },
  {
   "cell_type": "code",
   "execution_count": 4,
   "id": "618952d9-5dda-4a5d-a9c9-acfd217d1c3a",
   "metadata": {
    "tags": []
   },
   "outputs": [],
   "source": [
    "torch.backends.cuda.enable_flash_sdp(True)"
   ]
  },
  {
   "cell_type": "code",
   "execution_count": 24,
   "id": "3fe83fa7-2bcc-40e6-8fb2-ca9dd2e0e0d4",
   "metadata": {
    "tags": []
   },
   "outputs": [
    {
     "name": "stdout",
     "output_type": "stream",
     "text": [
      "monkeysamp\n",
      "-\n",
      "-\n",
      "[tensor([0]), tensor([0]), tensor([0]), tensor([0]), tensor([0]), tensor([0]), tensor([0]), tensor([0]), tensor([0]), tensor([0]), tensor([0]), tensor([0])]\n",
      "[-1, -2, -3, -4, -5, -6, -7, -8, -9, -10, -11, -12]\n",
      "tensor([0.6804], device='cuda:1')   Whats the current status of the protests in Syria? Who is the president? What is the government doing to keep them down? Do they really need the US to help?\n",
      "monkeysamp\n",
      "-\n",
      "-\n",
      "-\n",
      "-\n",
      "[tensor([0]), tensor([0]), tensor([0]), tensor([0]), tensor([0]), tensor([1]), tensor([1]), tensor([1]), tensor([1]), tensor([1]), tensor([1]), tensor([1]), tensor([1]), tensor([1]), tensor([1]), tensor([1]), tensor([1]), tensor([1]), tensor([1]), tensor([1])]\n",
      "[-1, -2, -3, -4, -5, -4, -3, -2, -1, 0, 1, 2, 3, 4, 5, 6, 7, 8, 9, 10]\n",
      "tensor([0.7525], device='cuda:1')   I am a little confused on Syria but here is the information I have: President Bashar al-Assad's response to the unrest began on March 18 with a crackdown on protesters that turned violent as the Syrian state reacted by using force, tanks and aircraft.\n",
      "monkeysamp\n",
      "-\n",
      "[tensor([0]), tensor([0]), tensor([0]), tensor([0]), tensor([0]), tensor([1]), tensor([1]), tensor([1]), tensor([1]), tensor([1]), tensor([1]), tensor([1]), tensor([1]), tensor([1]), tensor([1]), tensor([1]), tensor([1])]\n",
      "[-1, -2, -3, -4, -5, -4, -3, -2, -1, 0, 1, 2, 3, 4, 5, 6, 7]\n",
      "tensor([0.7407], device='cuda:1')   I am a little confused on Syria but here is the information I have: President Bashar al-Assad's response to the unrest in Syria's suburbs was characterized by an attempt to quell the demonstrations.\n",
      "monkeysamp\n",
      "-\n",
      "-\n",
      "-\n",
      "-\n",
      "-\n",
      "-\n",
      "-\n",
      "-\n",
      "-\n",
      "-\n",
      "[tensor([0]), tensor([1]), tensor([1]), tensor([1]), tensor([1]), tensor([1]), tensor([1]), tensor([1]), tensor([1]), tensor([0]), tensor([1]), tensor([1]), tensor([1]), tensor([1]), tensor([1]), tensor([1]), tensor([1]), tensor([1]), tensor([1]), tensor([1]), tensor([1]), tensor([1]), tensor([1]), tensor([1]), tensor([1]), tensor([1]), tensor([1]), tensor([1]), tensor([1]), tensor([1]), tensor([1]), tensor([1]), tensor([1]), tensor([1]), tensor([1]), tensor([1]), tensor([1]), tensor([1]), tensor([1]), tensor([1]), tensor([1]), tensor([1]), tensor([1]), tensor([1]), tensor([1]), tensor([1]), tensor([1]), tensor([1]), tensor([1]), tensor([1]), tensor([1]), tensor([1]), tensor([1])]\n",
      "[-1, 0, 1, 2, 3, 4, 5, 6, 7, 6, 7, 8, 9, 10, 11, 12, 13, 14, 15, 16, 17, 18, 19, 20, 21, 22, 23, 24, 25, 26, 27, 28, 29, 30, 31, 32, 33, 34, 35, 36, 37, 38, 39, 40, 41, 42, 43, 44, 45, 46, 47, 48, 49]\n",
      "tensor([0.9193], device='cuda:1')   If you think the only thing stopping submarines from diving is the enormous about of pressure that is put on the sub, then I would have to disagree. The force on a submarine increases dramatically as the depth of the water increases. A ten foot thick submarine can still be sunk with enough effort but a 30 foot sub would be rendered useless. The pressure that is put on a submarine increases as the level of the water increases. The water also gets denser as the level of the water increases. The pressure can be released with pressure valves but that can take a lot of time. The problem is that submarines can't be made any thicker without creating a huge underwater mass which would block the air holes needed for proper buoyancy.\n",
      "monkeysamp\n",
      "-\n",
      "-\n",
      "-\n",
      "-\n",
      "-\n",
      "-\n",
      "-\n",
      "-\n",
      "[tensor([0]), tensor([1]), tensor([0]), tensor([0]), tensor([1]), tensor([1]), tensor([1]), tensor([1]), tensor([1]), tensor([1]), tensor([1]), tensor([1]), tensor([1]), tensor([1]), tensor([1]), tensor([1]), tensor([1]), tensor([1]), tensor([1]), tensor([1]), tensor([1]), tensor([1]), tensor([1]), tensor([1]), tensor([1]), tensor([1]), tensor([1]), tensor([1]), tensor([1]), tensor([1]), tensor([1]), tensor([1]), tensor([1]), tensor([1]), tensor([1]), tensor([1]), tensor([1]), tensor([1]), tensor([1]), tensor([1]), tensor([1]), tensor([1]), tensor([1])]\n",
      "[-1, 0, -1, -2, -1, 0, 1, 2, 3, 4, 5, 6, 7, 8, 9, 10, 11, 12, 13, 14, 15, 16, 17, 18, 19, 20, 21, 22, 23, 24, 25, 26, 27, 28, 29, 30, 31, 32, 33, 34, 35, 36, 37]\n",
      "tensor([0.8743], device='cuda:1')   The ISON experiment is very interesting. They have been monitoring comets on their way in and out of the Suns gravity. Basically, they use the comets mass to calculate the speed it has to slow down to on its way past the Sun. With the right speed, it could escape the Suns gravity and not change its course. They are very close to the Sun and can even measure this, which is very helpful. They could even use a radar instrument to detect how much mass ISON has lost. However, that is pretty expensive and it could take months or even years to get the signal.\n",
      "monkeysamp\n",
      "-\n",
      "-\n",
      "-\n",
      "-\n",
      "-\n",
      "-\n",
      "[tensor([1]), tensor([1]), tensor([1]), tensor([1]), tensor([1]), tensor([1]), tensor([0]), tensor([0]), tensor([0]), tensor([0]), tensor([0]), tensor([1]), tensor([1]), tensor([1]), tensor([1]), tensor([1]), tensor([1]), tensor([1]), tensor([1]), tensor([1]), tensor([1]), tensor([1]), tensor([1]), tensor([1]), tensor([1]), tensor([1]), tensor([1]), tensor([1]), tensor([1]), tensor([1])]\n",
      "[1, 2, 3, 4, 5, 6, 5, 4, 3, 2, 1, 2, 3, 4, 5, 6, 7, 8, 9, 10, 11, 12, 13, 14, 15, 16, 17, 18, 19, 20]\n",
      "tensor([0.8566], device='cuda:1')   The first step is to make sure that you have the correct gloves. Choose the size that you want based on the size of your hands and the size of your drum sticks. For example, if your hands are big and you use drum sticks that are sized to fit your fingers, you may have difficulty playing the drums. Having the wrong size gloves can lead to blisters as your skin rubs against the drum sticks.\n",
      "monkeysamp\n",
      "-\n",
      "-\n",
      "[tensor([0]), tensor([0]), tensor([0]), tensor([0]), tensor([0]), tensor([0]), tensor([0]), tensor([0]), tensor([0]), tensor([0]), tensor([0])]\n",
      "[-1, -2, -3, -4, -5, -6, -7, -8, -9, -10, -11]\n",
      "tensor([0.7755], device='cuda:1')   I am trying to learn to code, but I feel a bit empty because I lack understanding of what I am doing and why stuff is the way it is.\n",
      "monkeysamp\n",
      "-\n",
      "[tensor([0]), tensor([0]), tensor([0]), tensor([0]), tensor([0]), tensor([0]), tensor([0]), tensor([0]), tensor([0])]\n",
      "[-1, -2, -3, -4, -5, -6, -7, -8, -9]\n",
      "tensor([0.2925], device='cuda:1')   What's the difference between a function and a procedure, then? And how do I do that in Java?\n",
      "monkeysamp\n",
      "-\n",
      "[tensor([0]), tensor([0]), tensor([0]), tensor([0]), tensor([0]), tensor([0]), tensor([0])]\n",
      "[-1, -2, -3, -4, -5, -6, -7]\n",
      "tensor([0.6827], device='cuda:1')   To understand the inner workings of a programming language, you need to understand the way it works.\n",
      "monkeysamp\n",
      "-\n",
      "-\n",
      "-\n",
      "[tensor([0]), tensor([0]), tensor([0]), tensor([0]), tensor([0]), tensor([0]), tensor([0]), tensor([0]), tensor([0]), tensor([0]), tensor([0]), tensor([0]), tensor([0]), tensor([0]), tensor([0]), tensor([0])]\n",
      "[-1, -2, -3, -4, -5, -6, -7, -8, -9, -10, -11, -12, -13, -14, -15, -16]\n",
      "tensor([0.4759], device='cuda:1')   Computers can use harddrives as long as the power goes out. However, the logical harddrive (where all the files are stored) is usually powered down so the data will be erased and the files will be lost.\n",
      "monkeysamp\n",
      "-\n",
      "[tensor([0]), tensor([0]), tensor([0]), tensor([0]), tensor([0]), tensor([0]), tensor([0]), tensor([0])]\n",
      "[-1, -2, -3, -4, -5, -6, -7, -8]\n",
      "tensor([0.6809], device='cuda:1')   Computers perform tasks such as deleting files or formatting hard drives by sending electrical signals to the hard drive.\n",
      "monkeysamp\n",
      "-\n",
      "-\n",
      "-\n",
      "-\n",
      "[tensor([0]), tensor([0]), tensor([0]), tensor([0]), tensor([0]), tensor([0]), tensor([0]), tensor([0]), tensor([0]), tensor([0]), tensor([0]), tensor([0]), tensor([0]), tensor([0]), tensor([0]), tensor([0]), tensor([0]), tensor([0]), tensor([0]), tensor([0])]\n",
      "[-1, -2, -3, -4, -5, -6, -7, -8, -9, -10, -11, -12, -13, -14, -15, -16, -17, -18, -19, -20]\n",
      "tensor([0.5927], device='cuda:1')   Some files, such as.docs and.jpgs, have an uninstall process that a computer can use to remove the file permanently. When a program that you are no longer using wants to use that harddrive space, it tells the computer to delete that file.\n",
      "monkeysamp\n",
      "-\n",
      "-\n",
      "-\n",
      "[tensor([0]), tensor([0]), tensor([0]), tensor([0]), tensor([0]), tensor([0]), tensor([0]), tensor([0]), tensor([0]), tensor([0]), tensor([1]), tensor([0]), tensor([1]), tensor([1]), tensor([0])]\n",
      "[-1, -2, -3, -4, -5, -6, -7, -8, -9, -10, -9, -10, -9, -8, -9]\n",
      "tensor([0.7180], device='cuda:1')   I guess they were trying to make it seem like eating breakfast is important. In reality, people tend to skip meals. The commercials are highlighting that a healthy breakfast is important for people of all ages.\n",
      "monkeysamp\n",
      "-\n",
      "-\n",
      "-\n",
      "-\n",
      "-\n",
      "-\n",
      "-\n",
      "-\n",
      "-\n",
      "-\n",
      "-\n",
      "-\n",
      "-\n",
      "-\n",
      "-\n",
      "-\n",
      "-\n",
      "-\n",
      "-\n",
      "-\n",
      "[tensor([1]), tensor([1]), tensor([1]), tensor([1]), tensor([1]), tensor([1]), tensor([1]), tensor([1]), tensor([1]), tensor([1]), tensor([1]), tensor([1]), tensor([1]), tensor([1]), tensor([1]), tensor([1]), tensor([1]), tensor([1]), tensor([1]), tensor([1]), tensor([1]), tensor([1]), tensor([1]), tensor([1]), tensor([1]), tensor([1]), tensor([1]), tensor([1]), tensor([1]), tensor([1]), tensor([1]), tensor([1]), tensor([1]), tensor([1]), tensor([1]), tensor([1]), tensor([1]), tensor([1]), tensor([1]), tensor([1]), tensor([1]), tensor([1]), tensor([1]), tensor([1]), tensor([1]), tensor([1]), tensor([1]), tensor([1]), tensor([1]), tensor([1]), tensor([1]), tensor([1]), tensor([1]), tensor([1]), tensor([1]), tensor([1]), tensor([1]), tensor([1]), tensor([1]), tensor([1]), tensor([1]), tensor([1]), tensor([1]), tensor([1]), tensor([1]), tensor([1]), tensor([1]), tensor([1]), tensor([1]), tensor([1]), tensor([1]), tensor([1]), tensor([1]), tensor([1]), tensor([1]), tensor([1]), tensor([1]), tensor([1]), tensor([1]), tensor([1]), tensor([1]), tensor([1]), tensor([1]), tensor([1]), tensor([1]), tensor([1]), tensor([1]), tensor([1]), tensor([1]), tensor([1]), tensor([1]), tensor([1]), tensor([1]), tensor([1]), tensor([1]), tensor([1]), tensor([1]), tensor([1]), tensor([1]), tensor([1])]\n",
      "[1, 2, 3, 4, 5, 6, 7, 8, 9, 10, 11, 12, 13, 14, 15, 16, 17, 18, 19, 20, 21, 22, 23, 24, 25, 26, 27, 28, 29, 30, 31, 32, 33, 34, 35, 36, 37, 38, 39, 40, 41, 42, 43, 44, 45, 46, 47, 48, 49, 50, 51, 52, 53, 54, 55, 56, 57, 58, 59, 60, 61, 62, 63, 64, 65, 66, 67, 68, 69, 70, 71, 72, 73, 74, 75, 76, 77, 78, 79, 80, 81, 82, 83, 84, 85, 86, 87, 88, 89, 90, 91, 92, 93, 94, 95, 96, 97, 98, 99, 100]\n",
      "tensor([0.9383], device='cuda:1')   Some of the cereal commercials of yesteryear were meant to give children ideas of what a \"healthy\" breakfast consisted of. The ads were meant to be fun and creative to get children interested in the idea of a nutritious breakfast. The ads were usually filmed at the same time as a meal which was served in a home kitchen. Parents were encouraged to cook for their children and eat with them. The ads showed a mother preparing a breakfast for her son while her son looked on at her with admiration. The ads were based on the \"My Plate\" campaign of the USDA which aimed to help children learn about the food pyramid and how healthy eating relates to eating a balanced diet. This campaign encouraged children to consume a diet rich in fruits, vegetables, whole grains, meats, and dairy products. The campaign was intended to show children that eating breakfast was just as important as any other meal. However, some of the ads that I remember were a bit too corny for my taste. The ads for \"Crunchy Rice Chex\" had a man resembling a child atop a large bowl of rice krispies that would get the cereal to squirt out of the bowl and onto the floor for children to play with. I remember one time when the cereal company showed the \"My Plate\" campaign being used by a frog\n",
      "monkeysamp\n",
      "-\n",
      "-\n",
      "-\n",
      "-\n",
      "[tensor([0]), tensor([0]), tensor([0]), tensor([0]), tensor([0]), tensor([0]), tensor([0]), tensor([0]), tensor([0]), tensor([0]), tensor([0]), tensor([0]), tensor([0]), tensor([0]), tensor([0]), tensor([0]), tensor([0]), tensor([0]), tensor([0]), tensor([0]), tensor([0])]\n",
      "[-1, -2, -3, -4, -5, -6, -7, -8, -9, -10, -11, -12, -13, -14, -15, -16, -17, -18, -19, -20, -21]\n",
      "tensor([0.8093], device='cuda:1')   Web crawlers crawl websites to collect information about the pages on those websites. Once they have collected the information, the crawler sends it to an indexing server. The indexing server uses software to scan the information in the web crawler and find the exact location of the page within the web.\n",
      "monkeysamp\n",
      "-\n",
      "-\n",
      "-\n",
      "-\n",
      "-\n",
      "-\n",
      "-\n",
      "[tensor([0]), tensor([0]), tensor([0]), tensor([0]), tensor([0]), tensor([0]), tensor([0]), tensor([0]), tensor([0]), tensor([0]), tensor([0]), tensor([0]), tensor([0]), tensor([0]), tensor([0]), tensor([0]), tensor([0]), tensor([0]), tensor([0]), tensor([0]), tensor([0]), tensor([0]), tensor([0]), tensor([0]), tensor([0]), tensor([0]), tensor([0]), tensor([0]), tensor([1]), tensor([0]), tensor([1]), tensor([1]), tensor([1]), tensor([1]), tensor([0])]\n",
      "[-1, -2, -3, -4, -5, -6, -7, -8, -9, -10, -11, -12, -13, -14, -15, -16, -17, -18, -19, -20, -21, -22, -23, -24, -25, -26, -27, -28, -27, -28, -27, -26, -25, -24, -25]\n",
      "tensor([0.7782], device='cuda:1')   A search engine crawls the web looking for information about a web page. It does this by sending a search query to an indexer which translates the query into a machine readable format. Then a robot is sent to find the page and to index it. When a search query is entered into the indexer, the robot crawls the internet looking for pages matching the search query. The robot then finds the page, downloads it, and adds it to an index.\n",
      "monkeysamp\n",
      "-\n",
      "-\n",
      "-\n",
      "-\n",
      "-\n",
      "[tensor([0]), tensor([0]), tensor([0]), tensor([0]), tensor([0]), tensor([0]), tensor([0]), tensor([0]), tensor([0]), tensor([0]), tensor([0]), tensor([0]), tensor([0]), tensor([0]), tensor([0]), tensor([0]), tensor([0]), tensor([0]), tensor([1]), tensor([1]), tensor([1]), tensor([1]), tensor([1]), tensor([1]), tensor([1]), tensor([1])]\n",
      "[-1, -2, -3, -4, -5, -6, -7, -8, -9, -10, -11, -12, -13, -14, -15, -16, -17, -18, -17, -16, -15, -14, -13, -12, -11, -10]\n",
      "tensor([0.8105], device='cuda:1')   This is done by crawling web pages and other information - using software called an 'indexer'. This software gathers information about the site from the web server and creates a list of files, which are known as the 'index'. The index is then saved and can be accessed by other computer programs called 'crawlers'.\n",
      "monkeysamp\n",
      "-\n",
      "-\n",
      "-\n",
      "-\n",
      "-\n",
      "-\n",
      "-\n",
      "-\n",
      "-\n",
      "-\n",
      "-\n",
      "-\n",
      "-\n",
      "-\n",
      "-\n",
      "-\n",
      "-\n",
      "-\n",
      "-\n",
      "-\n",
      "[tensor([0]), tensor([0]), tensor([0]), tensor([0]), tensor([0]), tensor([0]), tensor([0]), tensor([0]), tensor([0]), tensor([0]), tensor([0]), tensor([0]), tensor([0]), tensor([0]), tensor([0]), tensor([0]), tensor([0]), tensor([0]), tensor([0]), tensor([0]), tensor([0]), tensor([0]), tensor([0]), tensor([0]), tensor([0]), tensor([0]), tensor([0]), tensor([0]), tensor([0]), tensor([0]), tensor([0]), tensor([0]), tensor([0]), tensor([0]), tensor([0]), tensor([0]), tensor([0]), tensor([0]), tensor([0]), tensor([0]), tensor([0]), tensor([0]), tensor([0]), tensor([0]), tensor([0]), tensor([0]), tensor([0]), tensor([0]), tensor([0]), tensor([0]), tensor([0]), tensor([0]), tensor([0]), tensor([0]), tensor([0]), tensor([0]), tensor([0]), tensor([0]), tensor([0]), tensor([0]), tensor([0]), tensor([0]), tensor([0]), tensor([0]), tensor([0]), tensor([0]), tensor([0]), tensor([0]), tensor([0]), tensor([0]), tensor([0]), tensor([0]), tensor([0]), tensor([0]), tensor([0]), tensor([0]), tensor([0]), tensor([0]), tensor([0]), tensor([0]), tensor([0]), tensor([0]), tensor([0]), tensor([0]), tensor([0]), tensor([0]), tensor([0]), tensor([0]), tensor([0]), tensor([0]), tensor([0]), tensor([0]), tensor([0]), tensor([0]), tensor([0]), tensor([0]), tensor([0]), tensor([0]), tensor([0]), tensor([0])]\n",
      "[-1, -2, -3, -4, -5, -6, -7, -8, -9, -10, -11, -12, -13, -14, -15, -16, -17, -18, -19, -20, -21, -22, -23, -24, -25, -26, -27, -28, -29, -30, -31, -32, -33, -34, -35, -36, -37, -38, -39, -40, -41, -42, -43, -44, -45, -46, -47, -48, -49, -50, -51, -52, -53, -54, -55, -56, -57, -58, -59, -60, -61, -62, -63, -64, -65, -66, -67, -68, -69, -70, -71, -72, -73, -74, -75, -76, -77, -78, -79, -80, -81, -82, -83, -84, -85, -86, -87, -88, -89, -90, -91, -92, -93, -94, -95, -96, -97, -98, -99, -100]\n",
      "tensor([0.8488], device='cuda:1')   This article discusses the hazards associated with arc welding, and is a must read before any welding project. http://www.osha.gov/ehs/welding/pubs/hazard.html This article discusses the hazards associated with welding, and is a must read before any welding project. http://www.osha.gov/ehs/welding/pubs/hazard.html This article discusses the hazards associated with welding, and is a must read before any welding project. http://www.osha.gov/ehs/welding/pubs/hazard.html This article discusses the hazards associated with welding, and is a must read before any welding project. http://www.osha.gov/ehs/welding/pubs/hazard.html This article discusses the hazards associated with welding, and is a must read before any welding project. http://www.osha.gov/ehs/welding/pubs/hazard.html This article discusses the hazards associated with welding, and is a must read before any welding project. http://www.osha.gov/ehs/welding/pubs/hazard.html This article discusses the hazards associated with welding, and is a must read before any welding project. http\n",
      "monkeysamp\n",
      "-\n",
      "-\n",
      "-\n",
      "-\n",
      "-\n",
      "-\n",
      "-\n",
      "-\n",
      "[tensor([0]), tensor([0]), tensor([0]), tensor([0]), tensor([0]), tensor([0]), tensor([0]), tensor([0]), tensor([0]), tensor([0]), tensor([0]), tensor([0]), tensor([0]), tensor([0]), tensor([0]), tensor([1]), tensor([1]), tensor([1]), tensor([1]), tensor([1]), tensor([1]), tensor([1]), tensor([1]), tensor([1]), tensor([1]), tensor([1]), tensor([1]), tensor([1]), tensor([1]), tensor([1]), tensor([1]), tensor([1]), tensor([1]), tensor([1]), tensor([1]), tensor([1]), tensor([1]), tensor([1]), tensor([1]), tensor([1]), tensor([1]), tensor([1]), tensor([1]), tensor([1])]\n",
      "[-1, -2, -3, -4, -5, -6, -7, -8, -9, -10, -11, -12, -13, -14, -15, -14, -13, -12, -11, -10, -9, -8, -7, -6, -5, -4, -3, -2, -1, 0, 1, 2, 3, 4, 5, 6, 7, 8, 9, 10, 11, 12, 13, 14]\n",
      "tensor([0.8844], device='cuda:1')   If you look directly at the arc, it will burn the cornea. However, because we are told not to look directly at welding arcs, we assume that watching the welding arc on TV is fine. The reason for this assumption is that viewing an arc on a screen will not cause it to burn the cornea of the eye. The light from a screen is a very low intensity, and thus does not burn the eye. This is why it's okay to look at an arc on a TV screen. The only thing that causes burning to your eyes is if you look directly at the arc.\n",
      "monkeysamp\n",
      "-\n",
      "-\n",
      "[tensor([1]), tensor([1]), tensor([1]), tensor([1]), tensor([1]), tensor([1]), tensor([1]), tensor([1]), tensor([1]), tensor([1])]\n",
      "[1, 2, 3, 4, 5, 6, 7, 8, 9, 10]\n",
      "tensor([0.9176], device='cuda:1')   The broken windows theory describes the phenomenon whereby seemingly small acts of vandalism have a disproportionately negative impact on surrounding areas.\n"
     ]
    }
   ],
   "source": [
    "finesample_df = test_apsample(inplist[:10], pfsampler, 0.85, 3, 1, 3)\n"
   ]
  },
  {
   "cell_type": "code",
   "execution_count": 20,
   "id": "1ae877c7-eee4-42af-b4cc-9dd5d4d344bd",
   "metadata": {
    "tags": []
   },
   "outputs": [
    {
     "data": {
      "text/plain": [
       "137.4"
      ]
     },
     "execution_count": 20,
     "metadata": {},
     "output_type": "execute_result"
    }
   ],
   "source": [
    "finesample_df['budgets'].mean()"
   ]
  },
  {
   "cell_type": "code",
   "execution_count": 3,
   "id": "31afa11d-e068-4f5e-80ac-a2584187d0fc",
   "metadata": {
    "tags": []
   },
   "outputs": [],
   "source": [
    "a1 = pd.read_json(\"output/pfsample/finesamp.jsonl\", orient=\"records\", lines=True)\n"
   ]
  },
  {
   "cell_type": "code",
   "execution_count": 5,
   "id": "0881e375-7c8d-4a53-b5fb-2dd514ee1fe9",
   "metadata": {
    "tags": []
   },
   "outputs": [
    {
     "data": {
      "text/plain": [
       "115.71"
      ]
     },
     "execution_count": 5,
     "metadata": {},
     "output_type": "execute_result"
    }
   ],
   "source": [
    "a1.budgets.mean()"
   ]
  },
  {
   "cell_type": "code",
   "execution_count": null,
   "id": "53e3bea4-c6cd-42fb-802d-5c648b4bfec0",
   "metadata": {
    "tags": []
   },
   "outputs": [
    {
     "name": "stdout",
     "output_type": "stream",
     "text": [
      "monkeysamp\n",
      "monkeysamp\n",
      "monkeysamp\n",
      "monkeysamp\n",
      "monkeysamp\n",
      "monkeysamp\n",
      "monkeysamp\n",
      "monkeysamp\n",
      "monkeysamp\n",
      "monkeysamp\n",
      "monkeysamp\n",
      "monkeysamp\n",
      "monkeysamp\n",
      "monkeysamp\n",
      "monkeysamp\n",
      "monkeysamp\n",
      "monkeysamp\n",
      "monkeysamp\n",
      "monkeysamp\n",
      "monkeysamp\n",
      "monkeysamp\n",
      "monkeysamp\n",
      "monkeysamp\n",
      "monkeysamp\n",
      "monkeysamp\n",
      "monkeysamp\n",
      "monkeysamp\n",
      "monkeysamp\n",
      "monkeysamp\n",
      "monkeysamp\n",
      "monkeysamp\n",
      "monkeysamp\n",
      "monkeysamp\n",
      "monkeysamp\n",
      "monkeysamp\n",
      "monkeysamp\n",
      "monkeysamp\n",
      "monkeysamp\n",
      "monkeysamp\n",
      "monkeysamp\n",
      "monkeysamp\n",
      "monkeysamp\n",
      "monkeysamp\n",
      "monkeysamp\n",
      "monkeysamp\n",
      "monkeysamp\n",
      "monkeysamp\n"
     ]
    }
   ],
   "source": [
    "adaptbase_df = test_baseline(inplist, pfsampler, .85, 4)\n",
    "pfsample_df = test_pfsample(inplist, pfsampler, 18, [10, 20])\n",
    "\n",
    "adaptbase_df.to_json(\"output/pfsample/abase.jsonl\", lines=True, orient='records')\n",
    "pfsample_df.to_json(\"output/pfsample/pfsample.jsonl\", lines=True, orient='records')"
   ]
  },
  {
   "cell_type": "code",
   "execution_count": 8,
   "id": "0dc29f47-d147-4514-b36f-c9d6a6722167",
   "metadata": {
    "tags": []
   },
   "outputs": [
    {
     "name": "stdout",
     "output_type": "stream",
     "text": [
      "130.4\n",
      "0.809410572052002\n"
     ]
    }
   ],
   "source": [
    "print(adaptbase_df['budgets'].mean())\n",
    "print(adaptbase_df['scos'].mean())"
   ]
  },
  {
   "cell_type": "code",
   "execution_count": 12,
   "id": "dd88b5cf-0f4a-4be8-b020-d8b76d99aa98",
   "metadata": {
    "tags": []
   },
   "outputs": [
    {
     "name": "stdout",
     "output_type": "stream",
     "text": [
      "253.6\n",
      "0.8504377722740173\n"
     ]
    }
   ],
   "source": [
    "print(pfsample_df['budgets'].mean())\n",
    "print(pfsample_df['scos'].mean())"
   ]
  },
  {
   "cell_type": "code",
   "execution_count": 26,
   "id": "024b5380-5722-40a7-b892-0c9b410042de",
   "metadata": {
    "tags": []
   },
   "outputs": [
    {
     "name": "stdout",
     "output_type": "stream",
     "text": [
      "monkeysamp\n",
      "monkeysamp\n",
      "monkeysamp\n",
      "monkeysamp\n",
      "monkeysamp\n",
      "monkeysamp\n",
      "monkeysamp\n",
      "monkeysamp\n",
      "monkeysamp\n",
      "monkeysamp\n",
      "monkeysamp\n",
      "monkeysamp\n",
      "monkeysamp\n",
      "monkeysamp\n",
      "monkeysamp\n",
      "monkeysamp\n",
      "monkeysamp\n",
      "monkeysamp\n"
     ]
    }
   ],
   "source": [
    "adaptbase_df = test_baseline(inplist, pfsampler, .85, 2)"
   ]
  },
  {
   "cell_type": "code",
   "execution_count": 27,
   "id": "e2b42ab9-bbce-4906-8785-cd1c6f0bb6ed",
   "metadata": {},
   "outputs": [
    {
     "name": "stdout",
     "output_type": "stream",
     "text": [
      "129.2\n",
      "0.8531928896903992\n"
     ]
    }
   ],
   "source": [
    "print(adaptbase_df['budgets'].mean())\n",
    "print(adaptbase_df['scos'].mean())"
   ]
  },
  {
   "cell_type": "code",
   "execution_count": null,
   "id": "a9ff40f7-eccb-44b8-b82c-f8948a862c5f",
   "metadata": {},
   "outputs": [],
   "source": []
  }
 ],
 "metadata": {
  "kernelspec": {
   "display_name": "Python 3 (ipykernel)",
   "language": "python",
   "name": "python3"
  },
  "language_info": {
   "codemirror_mode": {
    "name": "ipython",
    "version": 3
   },
   "file_extension": ".py",
   "mimetype": "text/x-python",
   "name": "python",
   "nbconvert_exporter": "python",
   "pygments_lexer": "ipython3",
   "version": "3.8.16"
  }
 },
 "nbformat": 4,
 "nbformat_minor": 5
}
