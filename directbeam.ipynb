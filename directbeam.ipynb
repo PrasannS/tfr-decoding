{
 "cells": [
  {
   "cell_type": "code",
   "execution_count": 1,
   "id": "3dcdff71-d165-4cb6-be1a-1301ec61a2e2",
   "metadata": {},
   "outputs": [],
   "source": [
    "%load_ext autoreload"
   ]
  },
  {
   "cell_type": "code",
   "execution_count": null,
   "id": "5492fffe-c994-42fc-88df-6248fdedc460",
   "metadata": {},
   "outputs": [],
   "source": []
  },
  {
   "cell_type": "code",
   "execution_count": 2,
   "id": "d7151c95-d7d6-4d83-8522-13832a3f1b33",
   "metadata": {},
   "outputs": [],
   "source": [
    "%autoreload 2"
   ]
  },
  {
   "cell_type": "code",
   "execution_count": 3,
   "id": "1d6ab8d9-6e2b-41cc-851e-1eb57ccb90b7",
   "metadata": {},
   "outputs": [
    {
     "name": "stderr",
     "output_type": "stream",
     "text": [
      "2023-04-06 15:47:22.781000: W tensorflow/stream_executor/platform/default/dso_loader.cc:64] Could not load dynamic library 'libcudart.so.11.0'; dlerror: libcudart.so.11.0: cannot open shared object file: No such file or directory\n",
      "2023-04-06 15:47:22.781022: I tensorflow/stream_executor/cuda/cudart_stub.cc:29] Ignore above cudart dlerror if you do not have a GPU set up on your machine.\n"
     ]
    }
   ],
   "source": [
    "from transformers import T5ForConditionalGeneration, T5Tokenizer\n",
    "import torch\n",
    "from datasets import load_dataset\n",
    "import pandas as pd\n",
    "from readability import Readability\n",
    "import numpy as np\n",
    "from src.tfr_decoding.custom_bs import beam_search\n",
    "from src.tfr_decoding.recurse_samp import sample\n",
    "from src.utils.samp_utils import inpsampall\n",
    "\n",
    "device = 'cuda:3' # if you have a GPU"
   ]
  },
  {
   "cell_type": "code",
   "execution_count": 4,
   "id": "e245dad1-3345-481f-9b98-19b82a9658a8",
   "metadata": {},
   "outputs": [
    {
     "data": {
      "application/json": {
       "ascii": false,
       "bar_format": null,
       "colour": null,
       "elapsed": 0.005685091018676758,
       "initial": 0,
       "n": 0,
       "ncols": null,
       "nrows": 13,
       "postfix": null,
       "prefix": "Loading checkpoint shards",
       "rate": null,
       "total": 5,
       "unit": "it",
       "unit_divisor": 1000,
       "unit_scale": false
      },
      "application/vnd.jupyter.widget-view+json": {
       "model_id": "52fb4f4c1682412d8d0e32f3059a1f4c",
       "version_major": 2,
       "version_minor": 0
      },
      "text/plain": [
       "Loading checkpoint shards:   0%|          | 0/5 [00:00<?, ?it/s]"
      ]
     },
     "metadata": {},
     "output_type": "display_data"
    },
    {
     "data": {
      "application/json": {
       "ascii": false,
       "bar_format": null,
       "colour": null,
       "elapsed": 0.004361391067504883,
       "initial": 0,
       "n": 0,
       "ncols": null,
       "nrows": 14,
       "postfix": null,
       "prefix": "Loading checkpoint shards",
       "rate": null,
       "total": 2,
       "unit": "it",
       "unit_divisor": 1000,
       "unit_scale": false
      },
      "application/vnd.jupyter.widget-view+json": {
       "model_id": "9b17bb975b7e45acbab1ae83d340c599",
       "version_major": 2,
       "version_minor": 0
      },
      "text/plain": [
       "Loading checkpoint shards:   0%|          | 0/2 [00:00<?, ?it/s]"
      ]
     },
     "metadata": {},
     "output_type": "display_data"
    }
   ],
   "source": [
    "# get generation model\n",
    "tokenizer = T5Tokenizer.from_pretrained(\"google/flan-t5-xxl\")\n",
    "model = T5ForConditionalGeneration.from_pretrained(\"google/flan-t5-xxl\", device_map=\"auto\")#.to(device)\n",
    "\n",
    "model.eval()\n",
    "\n",
    "# get shp model\n",
    "steamtok = T5Tokenizer.from_pretrained('stanfordnlp/SteamSHP-flan-t5-xl')\n",
    "steamshp = T5ForConditionalGeneration.from_pretrained('stanfordnlp/SteamSHP-flan-t5-xl').to(device)"
   ]
  },
  {
   "cell_type": "code",
   "execution_count": 5,
   "id": "c6b214cb-ee03-4f5a-81e0-3bc85498a4ea",
   "metadata": {},
   "outputs": [],
   "source": [
    "model.beam_search = beam_search.__get__(model)\n",
    "model.sample = sample.__get__(model)"
   ]
  },
  {
   "cell_type": "code",
   "execution_count": 6,
   "id": "4dbd39b1-aaa3-44c2-883d-c430504b986f",
   "metadata": {},
   "outputs": [
    {
     "name": "stderr",
     "output_type": "stream",
     "text": [
      "Using custom data configuration stanfordnlp--shp-3cfba0d7340ad90b\n",
      "Reusing dataset json (/home/prasann/.cache/huggingface/datasets/stanfordnlp___json/stanfordnlp--shp-3cfba0d7340ad90b/0.0.0/ac0ca5f5289a6cf108e706efcf040422dbbfa8e658dee6a819f20d76bb84d26b)\n"
     ]
    },
    {
     "data": {
      "application/json": {
       "ascii": false,
       "bar_format": null,
       "colour": null,
       "elapsed": 0.014626264572143555,
       "initial": 0,
       "n": 0,
       "ncols": null,
       "nrows": 14,
       "postfix": null,
       "prefix": "",
       "rate": null,
       "total": 3,
       "unit": "it",
       "unit_divisor": 1000,
       "unit_scale": false
      },
      "application/vnd.jupyter.widget-view+json": {
       "model_id": "952a2b6a2cd445a5801d469747db5cee",
       "version_major": 2,
       "version_minor": 0
      },
      "text/plain": [
       "  0%|          | 0/3 [00:00<?, ?it/s]"
      ]
     },
     "metadata": {},
     "output_type": "display_data"
    }
   ],
   "source": [
    "eli5 = load_dataset(\"stanfordnlp/shp\", data_dir=\"explainlikeimfive\")\n",
    "eliorig = pd.DataFrame(eli5['test'])\n",
    "elidf = eliorig.drop_duplicates(subset=\"history\")"
   ]
  },
  {
   "cell_type": "code",
   "execution_count": 19,
   "id": "19e239f1-8054-4c8d-9cce-0a9c69c72068",
   "metadata": {},
   "outputs": [
    {
     "name": "stdout",
     "output_type": "stream",
     "text": [
      "monkeysamp\n"
     ]
    },
    {
     "name": "stderr",
     "output_type": "stream",
     "text": [
      "/home/prasann/miniconda3/envs/rewardenv/lib/python3.8/site-packages/sigfig/sigfig.py:586: UserWarning: warning: 4 significant figures requested from number with only 1 significant figures\n",
      "  warn(\"warning: %d significant figures requested from number with only %d significant figures\" % (given['sigfigs'], len(num.map)))\n",
      "/home/prasann/miniconda3/envs/rewardenv/lib/python3.8/site-packages/sigfig/sigfig.py:586: UserWarning: warning: 4 significant figures requested from number with only 2 significant figures\n",
      "  warn(\"warning: %d significant figures requested from number with only %d significant figures\" % (given['sigfigs'], len(num.map)))\n"
     ]
    },
    {
     "name": "stdout",
     "output_type": "stream",
     "text": [
      "[36, 35]\n",
      "prefcut  24\n",
      "PREFIX: \n",
      "['<pad>The average person spends a total of 8 hours a day resting, performing no work. The total', '<pad>Your body burns 2000 calories a day by having to keep your internal body temperature up. By doing nothing,', '<pad>The average person spends a total of 8 hours a day resting, performing no work. The total', '<pad>Your body burns 2000 calories a day by having to keep your internal body temperature up. By doing nothing,']\n",
      "monkeysamp\n",
      "[40, 37]\n",
      "prefcut  -38\n",
      "PREFIX: \n",
      "['<pad>Your body burns 2000 calories a day by having to', '<pad>The average person spends a total of 8 hours', '<pad>Your body burns 2000 calories a day by having to', '<pad>The average person spends a total of 8 hours']\n",
      "newbest  0.7608951926231384 ; oldbest  0.7963003516197205\n",
      "newavg  0.7328636050224304 ; oldavg 0.7251375764608383\n"
     ]
    }
   ],
   "source": [
    "pflen = [.7, -1]\n",
    "rchoose = [2, 2]\n",
    "tsamps = [4, 4]\n",
    "\n",
    "#sampfrominp(3, 0, inpsall, pflen, rchoose, tsamps)\n",
    "isall = inpsampall(elidf.iloc[:1], tokenizer, model, steamtok, steamshp, None, pflen, rchoose, tsamps, 0.9)"
   ]
  },
  {
   "cell_type": "code",
   "execution_count": 25,
   "id": "664c361e-8ac0-4984-981e-b94b45507048",
   "metadata": {},
   "outputs": [
    {
     "data": {
      "text/plain": [
       "[[124.6, 124.6, 124.6, 124.6],\n",
       " [179.0, 138.7, 138.7, 138.7],\n",
       " [165.6, 123.3, 94.06, 155.0],\n",
       " [179.2, 158.1, 151.6, 179.2],\n",
       " [174.6, 179.2, 178.3, 178.1],\n",
       " [179.2, 107.4, 179.2, 98.21],\n",
       " [176.9, 178.4, 179.2, 131.6],\n",
       " [179.2, 125.0, 130.0, 119.7],\n",
       " [179.2, 179.2, 111.7, 115.9],\n",
       " [90.37, 103.7, 163.6, 76.7],\n",
       " [133.3, 175.6, 179.2, 134.2],\n",
       " [92.17, 102.9, 179.2, 158.8],\n",
       " [93.79, 179.2, 179.2, 151.1],\n",
       " [147.7, 179.2, 179.2, 122.3],\n",
       " [136.2, 109.0, 151.7, 156.3],\n",
       " [105.9, 179.2, 149.0, 179.2],\n",
       " [178.6, 112.1, 137.6, 126.8],\n",
       " [81.26, 113.1, 177.9, 171.3],\n",
       " [142.4, 58.11, 164.3, 159.8],\n",
       " [81.86, 146.7, 168.0, 179.2],\n",
       " [120.1, 107.0, 129.9, 179.2],\n",
       " [136.6, 129.6, 179.2, 179.2],\n",
       " [166.6, 104.3, 179.2, 179.2],\n",
       " [124.2, 91.55, 171.8, 179.2],\n",
       " [103.2, 108.8, 82.0, 179.2],\n",
       " [166.9, 179.2, 106.0, 175.0],\n",
       " [66.51, 123.1, 167.1, 179.2],\n",
       " [179.2, 119.6, 126.6, 103.8],\n",
       " [101.4, 102.1, 179.2, 81.4],\n",
       " [96.35, 179.2, 86.37, 177.1],\n",
       " [99.0, 167.4, 148.9, 121.6],\n",
       " [165.7, 179.1, 114.3, 150.3],\n",
       " [160.8, 92.25, 78.51, 153.3],\n",
       " [93.53, 172.3, 146.5, 136.5],\n",
       " [173.2, 166.2, 178.4, 168.9],\n",
       " [93.88, 173.0, 122.2, 175.3],\n",
       " [146.1, 105.8, 108.4, 115.8],\n",
       " [106.6, 177.3, 179.0, 179.2],\n",
       " [161.0, 179.2, 136.0, 178.7],\n",
       " [151.4, 130.9, 88.05, 84.83],\n",
       " [170.0, 140.0, 178.9, 173.6],\n",
       " [150.6, 86.39, 110.7, 178.5],\n",
       " [108.7, 177.4, 90.03, 169.6],\n",
       " [104.8, 104.7, 177.6, 152.8],\n",
       " [105.8, 154.3, 155.3, 97.05],\n",
       " [96.23, 88.5, 175.9, 147.1],\n",
       " [86.42, 144.4, 179.2, 150.9],\n",
       " [84.65, 130.5, 169.4, 109.6],\n",
       " [94.43, 131.9, 128.0, 179.2],\n",
       " [109.6, 170.8, 126.4, 110.1],\n",
       " [122.1, 172.9, 137.0, 79.7],\n",
       " [129.4, 125.0, 177.8, 145.4],\n",
       " [134.5, 73.62, 179.2, 113.5],\n",
       " [137.8, 158.0, 175.1, 179.2],\n",
       " [138.3, 175.7, 128.2, 163.9],\n",
       " [138.3, 176.1, 178.7, 106.1],\n",
       " [137.3, 175.4, 179.2, 136.1],\n",
       " [136.9, 173.7, 179.2, 104.2],\n",
       " [136.0, 170.1, 175.4, 140.8],\n",
       " [135.5, 165.2, 140.4, 179.2],\n",
       " [134.5, 158.3, 179.2, 179.2],\n",
       " [131.6, 151.0, 157.4, 156.8],\n",
       " [130.3, 144.0, 179.2, 96.18],\n",
       " [129.0, 135.8, 179.2, 137.4],\n",
       " [128.3, 129.1, 175.3, 179.2],\n",
       " [126.7, 124.2, 178.9, 178.8],\n",
       " [126.0, 122.4, 179.2, 148.6],\n",
       " [125.3, 121.8, 162.1, 176.6],\n",
       " [124.9, 121.8, 179.2, 127.5],\n",
       " [125.0, 122.9, 115.7, 179.2],\n",
       " [124.5, 125.6, 98.34, 176.8],\n",
       " [124.2, 129.3, 178.8, 166.7],\n",
       " [124.1, 131.2, 178.5, 170.2],\n",
       " [124.0, 133.8, 170.9, 88.83],\n",
       " [124.0, 134.2, 73.97, 138.6],\n",
       " [124.1, 135.0, 144.1, 106.3],\n",
       " [124.3, 136.8, 177.3, 163.6],\n",
       " [124.4, 137.4, 177.7, 154.2],\n",
       " [124.5, 135.4, 177.3, 127.2],\n",
       " [124.5, 134.9, 176.2, 179.0],\n",
       " [124.7, 135.2, 174.1, 175.1],\n",
       " [124.9, 134.4, 171.6, 137.4],\n",
       " [125.4, 134.6, 168.3, 148.6],\n",
       " [125.7, 134.4, 163.2, 178.8],\n",
       " [125.9, 133.6, 157.4, 168.3],\n",
       " [126.3, 132.5, 149.9, 97.83],\n",
       " [126.5, 131.8, 141.0, 93.72],\n",
       " [126.8, 131.1, 133.9, 101.9],\n",
       " [127.1, 128.4, 129.3, 147.1],\n",
       " [127.3, 126.9, 124.3, 178.2],\n",
       " [127.3, 126.8, 120.0, 171.6],\n",
       " [127.5, 126.6, 115.6, 136.8],\n",
       " [127.8, 126.8, 113.1, 179.2],\n",
       " [128.0, 126.9, 110.4, 155.7],\n",
       " [128.2, 126.5, 109.0, 95.07],\n",
       " [128.5, 126.0, 108.7, 177.3],\n",
       " [128.8, 125.8, 109.0, 179.2],\n",
       " [129.7, 126.0, 109.7, 111.9],\n",
       " [129.8, 126.2, 111.3, 128.2],\n",
       " [129.7, 125.4, 111.6, 169.9],\n",
       " [130.0, 124.1, 111.3, 139.7],\n",
       " [129.4, 124.0, 112.6, 135.6],\n",
       " [128.9, 124.5, 112.8, 177.1],\n",
       " [128.1, 125.0, 112.3, 91.96],\n",
       " [127.7, 125.4, 113.5, 176.1],\n",
       " [127.5, 125.5, 114.8, 159.6],\n",
       " [127.5, 125.7, 115.4, 133.5],\n",
       " [128.5, 126.2, 115.3, 164.0],\n",
       " [128.6, 126.5, 116.0, 179.2],\n",
       " [128.3, 125.8, 116.5, 76.34],\n",
       " [128.2, 125.3, 117.1, 117.7],\n",
       " [127.9, 124.9, 117.9, 175.3],\n",
       " [127.7, 124.4, 117.2, 175.2],\n",
       " [120.2, 136.9, 116.7, 110.0],\n",
       " [131.8, 116.9, 102.4, 179.2],\n",
       " [135.2, 116.3, 111.3, 168.4],\n",
       " [132.3, 121.5, 115.2, 119.2],\n",
       " [135.3, 124.2, 114.2, 154.1],\n",
       " [135.6, 125.0, 116.9, 130.7],\n",
       " [136.7, 125.9, 121.4, 172.8],\n",
       " [135.0, 125.0, 121.8, 129.3],\n",
       " [134.0, 126.3, 123.1, 119.4],\n",
       " [132.9, 126.1, 120.5, 137.3],\n",
       " [131.2, 126.8, 120.3, 128.3],\n",
       " [129.9, 127.7, 119.3, 179.2],\n",
       " [127.1, 128.8, 118.5, 162.6],\n",
       " [126.0, 129.3, 116.6, 117.2],\n",
       " [125.6, 130.5, 114.8, 99.1],\n",
       " [125.4, 133.5, 111.3, 137.5],\n",
       " [124.5, 136.3, 107.0, 179.0],\n",
       " [122.4, 138.9, 107.2, 122.6],\n",
       " [121.1, 139.2, 107.1, 106.2],\n",
       " [120.5, 139.6, 107.3, 88.16],\n",
       " [120.3, 141.5, 107.1, 179.2],\n",
       " [119.5, 140.3, 106.9, 122.7],\n",
       " [118.9, 136.8, 107.1, 96.11],\n",
       " [119.2, 134.1, 106.9, 81.15],\n",
       " [118.7, 133.4, 106.7, 179.2],\n",
       " [118.1, 132.0, 105.9, 160.9],\n",
       " [117.4, 131.4, 105.5, 102.4],\n",
       " [116.9, 130.6, 105.9, 95.34],\n",
       " [116.6, 129.9, 105.6, 154.7],\n",
       " [116.3, 131.8, 105.9, 178.2],\n",
       " [116.0, 133.6, 106.1, 126.4],\n",
       " [116.0, 133.8, 106.0, 179.2],\n",
       " [116.1, 131.9, 105.0, 147.4],\n",
       " [116.3, 130.7, 104.5, 150.9],\n",
       " [114.7, 130.8, 104.2, 134.1],\n",
       " [114.8, 131.2, 104.8, 171.4],\n",
       " [114.5, 130.9, 104.7, 120.0],\n",
       " [113.3, 131.1, 105.4, 121.8],\n",
       " [111.6, 131.7, 105.4, 120.7]]"
      ]
     },
     "execution_count": 25,
     "metadata": {},
     "output_type": "execute_result"
    }
   ],
   "source": [
    "isall['stats'].iloc[0][0]['skewness']"
   ]
  },
  {
   "cell_type": "code",
   "execution_count": 6,
   "id": "abf6545d-2fab-4b05-bd56-c49bfef84118",
   "metadata": {},
   "outputs": [],
   "source": [
    "# make prompt for eli5\n",
    "def construct_prompt(row):\n",
    "    otemplate = \\\n",
    "\"\"\"\n",
    "The system will write a detailed and long post to respond to the user's question. Explain like the user is five years old. \n",
    "\n",
    "Question: \"\"\"\n",
    "    template = \\\n",
    "\"\"\"\n",
    "Give a lengthy, detailed response. \n",
    "\n",
    "Question: \"\"\"\n",
    "    inp = template+row['history']+\"\\n Detailed Response:\"\n",
    "    \n",
    "    \n",
    "    return inp\n",
    "\n",
    "# score a single example (I don't think there's enough space to batch this?)\n",
    "def get_reward_single(inpdict):\n",
    "    template = \"POST: {context:s} \\n\\nRESPONSE A:{hyp:s} \\n\\nRESPONSE B: .\\n\\n Which response is better? RESPONSE \"\n",
    "    inp = template.format(context=inpdict['context'], hyp=inpdict['hyp'])\n",
    "    x = steamtok([inp], return_tensors='pt').input_ids.to(device)\n",
    "    outputs = steamshp.generate(x, return_dict_in_generate=True, output_scores=True, max_new_tokens=1)\n",
    "    return torch.exp(outputs.scores[0][:, 71]) / torch.exp(outputs.scores[0][:,:]).sum(axis=1).item() # index 71 corresponds to the token for 'A'\n",
    "\n",
    "# generate output for an input row\n",
    "def gen_row(rw, tok, mod, method=\"greedy\", num_hyps=10, temp=.9):\n",
    "    input_text = construct_prompt(rw)\n",
    "    \n",
    "    #print(input_text)\n",
    "    input_ids = tok(input_text, return_tensors=\"pt\").input_ids.to(device)\n",
    "    if method==\"greedy\":\n",
    "        outputs = mod.generate(input_ids, min_new_tokens=20, max_new_tokens=200)\n",
    "        outs = [tok.decode(outputs[0], skip_special_tokens=True)]\n",
    "    elif method==\"sample\": \n",
    "        outputs = mod.generate(input_ids, min_new_tokens=20, max_new_tokens=300, do_sample=True, top_p=.95, temperature=temp, num_return_sequences=num_hyps)\n",
    "        outs = [tok.decode(o, skip_special_tokens=True) for o in outputs]\n",
    "    elif method==\"beam\":\n",
    "        outputs = mod.generate(input_ids, min_new_tokens=20, max_new_tokens=200, num_beams=num_hyps, num_return_sequences=num_hyps)\n",
    "        outs = [tok.decode(o, skip_special_tokens=True) for o in outputs]\n",
    "\n",
    "    return rw['history'], outs\n",
    "\n",
    "def gen_dir_beam(rw, tok, mod, pflen, keepR, newBeams, ssamps):\n",
    "    model.man_pref=None\n",
    "    # generate with initial sample\n",
    "    inp, outs = gen_row(rw, tok, mod, \"sample\", ssamps)\n",
    "    # generate scores to re-rank, only use best options for next step\n",
    "    shp_scores = [float(get_reward_single({\"context\": inp, \"hyp\":o})) for o in outs]\n",
    "    bestopts = list(np.argsort(shp_scores))\n",
    "    bestopts.reverse()\n",
    "    bestopts = bestopts[:keepR]\n",
    "    nouts = [\"<pad> \"+outs[bo].strip() for bo in bestopts]\n",
    "    spls = [nout.split() for nout in nouts]\n",
    "    spls = [sp[:int(len(sp)*pfs[i])] for sp in spls]\n",
    "    splens = [len(l) for l in spls]\n",
    "\n",
    "    # cut based on average of decoded seq lens\n",
    "    prefcut = int(int(sum(splens)/len(splens))*pflen)\n",
    "    # TODO setup for multiple inputs\n",
    "    forced = tok(nouts, return_tensors=\"pt\", padding=True, truncation=True).input_ids.to(device)[:, :-1][:, :prefcut]\n",
    "    print(\"PREFIX: \")\n",
    "    print(tok.batch_decode(forced))\n",
    "    mod.man_pref = forced\n",
    "    \n",
    "    inp, dirouts = gen_row(rw, tok, mod, \"beam\", newBeams)\n",
    "    \n",
    "    dir_scos = [float(get_reward_single({\"context\": inp, \"hyp\":o})) for o in dirouts]\n",
    "    \n",
    "    return inp, outs, shp_scores, dirouts, dir_scos\n",
    "\n",
    "def printout(p, oros, orscs, os, scs):\n",
    "    print(\"PROMPT: \")\n",
    "    print(p)\n",
    "    print(\"ORIGINAL SAMPS: \")\n",
    "    for s in list(zip(orscs, oros)):\n",
    "        print(s)\n",
    "    print(\"NEW: \")\n",
    "    for s in list(zip(scs, os)):\n",
    "        print(s)\n",
    "\n",
    "\n",
    "def gen_rec_samp(rw, tok, mod, pfs, keepR, tsamps, startinp=None, srow=-1, temp=.9):\n",
    "    model.man_pref=None\n",
    "    # generate with initial sample\n",
    "    interm_hyps = []\n",
    "    interm_scos = []\n",
    "    for i in range(len(keepR)):\n",
    "        if startinp is not None and i==0:\n",
    "            outs = startinp[\"allhyps\"][srow]\n",
    "            shp_scores = startinp['allscos'][srow]\n",
    "        else:\n",
    "            inp, outs = gen_row(rw, tok, mod, \"sample\", tsamps[i], temp)\n",
    "            # generate scores to re-rank, only use best options for next step\n",
    "            shp_scores = [float(get_reward_single({\"context\": inp, \"hyp\":o})) for o in outs]\n",
    "        interm_hyps.append(outs)\n",
    "        interm_scos.append(shp_scores)\n",
    "        # sort by shp scores\n",
    "        bestopts = list(np.argsort(shp_scores))\n",
    "        bestopts.reverse()\n",
    "        bestopts = bestopts[:keepR[i]]\n",
    "        nouts = [\"<pad>\"+outs[bo].strip() for bo in bestopts]\n",
    "        # calculate prefix lens for prefcut calculation\n",
    "        spls = [nout.split() for nout in nouts]\n",
    "        #spls = [sp[:int(len(sp)*pfs[i])] for sp in spls]\n",
    "        splens = [len(l) for l in spls]\n",
    "        print(splens)\n",
    "        \n",
    "        prefcut = int(int(sum(splens)/len(splens))*pfs[i])\n",
    "        print(\"prefcut \", prefcut)\n",
    "        # TODO setup for multiple inputs\n",
    "        forced = tok(nouts, return_tensors=\"pt\", padding=True, truncation=True).input_ids.to(device)[:, :-1]\n",
    "        forced = forced[:, :prefcut]\n",
    "        if i==len(tsamps)-1:\n",
    "            tlen = tsamps[i]\n",
    "        else:\n",
    "            tlen = tsamps[i+1]\n",
    "        forced = forced.repeat(int(tlen/keepR[i]), 1)\n",
    "        print(\"PREFIX: \")\n",
    "        print(tok.batch_decode(forced))\n",
    "        if pfs[i]>0:\n",
    "            mod.man_pref = forced\n",
    "    \n",
    "    return inp, interm_hyps, interm_scos, outs, shp_scores"
   ]
  },
  {
   "cell_type": "code",
   "execution_count": 7,
   "id": "ca47acc8-585f-4ba8-a831-832cce8c7600",
   "metadata": {},
   "outputs": [],
   "source": [
    "inpsall = pd.read_json(\"baselines1.jsonl\", lines=True, orient='records')\n",
    "inpsall = pd.concat([inpsall, pd.read_json(\"baselines2.jsonl\", lines=True, orient='records')])"
   ]
  },
  {
   "cell_type": "code",
   "execution_count": 60,
   "id": "ab06f5da-fe1a-431e-9a60-d5f834ec8cee",
   "metadata": {},
   "outputs": [],
   "source": [
    "maxes = []\n",
    "for isall in inpsall['allscos']:\n",
    "    maxes.append(max([max(m) for m in isall]))"
   ]
  },
  {
   "cell_type": "code",
   "execution_count": 62,
   "id": "37680ecb-c5f9-48d3-973d-4ba79ac1a7fe",
   "metadata": {},
   "outputs": [
    {
     "data": {
      "text/plain": [
       "(array([ 1.,  2.,  0.,  3.,  6., 20., 19., 16., 20., 12.]),\n",
       " array([0.70688838, 0.7349834 , 0.76307843, 0.79117345, 0.81926848,\n",
       "        0.8473635 , 0.87545853, 0.90355355, 0.93164858, 0.9597436 ,\n",
       "        0.98783863]),\n",
       " <BarContainer object of 10 artists>)"
      ]
     },
     "execution_count": 62,
     "metadata": {},
     "output_type": "execute_result"
    },
    {
     "data": {
      "image/png": "[encoded data removed]",
      "text/plain": [
       "<Figure size 640x480 with 1 Axes>"
      ]
     },
     "metadata": {},
     "output_type": "display_data"
    }
   ],
   "source": [
    "plt.hist(maxes)"
   ]
  },
  {
   "cell_type": "code",
   "execution_count": 59,
   "id": "3e02b408-82d4-4bf2-a539-cc65f095bab5",
   "metadata": {},
   "outputs": [
    {
     "name": "stdout",
     "output_type": "stream",
     "text": [
      "INPUT:  Explain like I'm five years old What keeps bed bugs in check? Why haven't they taken over the world? Do they have any natural enemies? They seem pretty unstoppable - easy breeders, can live a long time without food, can survive harsh conditions, easy hitch hikers, and they feed on an endless supply of human blood.\n",
      "OUTPUTS\n",
      "(0.7549263239, \"When bed bugs feed on humans, they produce chemicals that reduce the host's desire to feed. However, when humans live in close proximity, it can be hard for them to avoid waking up with them. Bed bugs may also become confused for other pests if they start to develop a strong odor. Because of these reasons, bed bugs have not taken over the world, but have spread to over 20 countries.\")\n",
      "(0.9180637002, \"Fortunately for humans, bed bugs have a surprisingly modest population. The bugs can reproduce at an astounding rate of 300 to 400 per day, yet they're rarely able to take over a house, apartment or hotel room. In the United States and Canada, infestations are so uncommon that the Centers for Disease Control and Prevention (CDC) classifies them as a Category 3 pest. As a result, they are not the source of public health concern that they were in the 1950s, when they were thought to be spread by homeless people on the streets.\")\n",
      "(0.6148861051, 'Insecticides - insecticides are one of the only ways to kill bed bugs. Unfortunately, most of them are harsh and have unwanted side effects like destroying the environment, and may kill off beneficial insects as well.')\n",
      "(0.4746412337, 'In their natural environment, the bed bug is preyed upon by many predators such as birds, spiders, fleas and mites. They feed on the blood of their prey by biting or sucking. Once the prey is gorged, the adult bed bug dies and leaves the victim.')\n",
      "(0.7511737943, \"The primary reason they haven't been more successful than they are today is that the human population is generally very poor. Thus, while it takes a long time for the bed bug's population to grow, it's population is small. As a result, bed bugs aren't as successful as they once were.\")\n",
      "(0.9423692822, \"This is a question I've been asked before. Bed bugs are the most famous of the insects that feed on human blood and bite humans. So the answer is a bit simple. There are some predators and parasites that eat them, but they also outcompete them. The big problem is they are very resilient. They can withstand a lot. They are easy to hitchhike on clothing and furniture. They live a very long time. They are able to survive in extremely dry conditions. They aren't easily killed off by pesticides and they aren't really a vector for serious diseases.\")\n"
     ]
    }
   ],
   "source": [
    "ind = 4\n",
    "ins = inpsall.iloc[ind]\n",
    "hyps = ins['allhyps'][0]\n",
    "scos = ins['allscos'][0]\n",
    "print(\"INPUT: \", ins[\"input\"])\n",
    "print(\"OUTPUTS\")\n",
    "for a in list(zip(scos, hyps)):\n",
    "    print(a)"
   ]
  },
  {
   "cell_type": "code",
   "execution_count": null,
   "id": "603b7afa-c06c-4462-9d93-d43d9999d0af",
   "metadata": {},
   "outputs": [],
   "source": [
    "pflen = [.1, .2, .3]\n",
    "rchoose = [2, 2, 2]\n",
    "tsamps = [4, 4, 4]\n",
    "\n",
    "#sampfrominp(3, 0, inpsall, pflen, rchoose, tsamps)\n",
    "isall = inpsampall(inpsall.iloc[:20], pflen, rchoose, tsamps, 0, .7)"
   ]
  },
  {
   "cell_type": "code",
   "execution_count": 47,
   "id": "fab5440b-3b51-4c8f-a8d6-f84585c9bb68",
   "metadata": {},
   "outputs": [],
   "source": [
    "import matplotlib.pyplot as plt"
   ]
  },
  {
   "cell_type": "code",
   "execution_count": 49,
   "id": "492be9db-25d0-4244-b344-740665b77ebb",
   "metadata": {},
   "outputs": [
    {
     "data": {
      "text/plain": [
       "(array([2., 0., 1., 1., 2., 6., 4., 2., 0., 2.]),\n",
       " array([-0.22032201, -0.18764285, -0.15496368, -0.12228452, -0.08960536,\n",
       "        -0.05692619, -0.02424703,  0.00843214,  0.0411113 ,  0.07379047,\n",
       "         0.10646963]),\n",
       " <BarContainer object of 10 artists>)"
      ]
     },
     "execution_count": 49,
     "metadata": {},
     "output_type": "execute_result"
    },
    {
     "data": {
      "image/png": "[encoded data removed]",
      "text/plain": [
       "<Figure size 640x480 with 1 Axes>"
      ]
     },
     "metadata": {},
     "output_type": "display_data"
    }
   ],
   "source": [
    "plt.hist(isall['newmax']-isall['oldmax'])"
   ]
  },
  {
   "cell_type": "code",
   "execution_count": 41,
   "id": "e2ea2b1c-dea9-4a35-8d42-315c59cd66dc",
   "metadata": {},
   "outputs": [],
   "source": [
    "def sampfrominp(ind, row, inps, pflen, rchoose, tsamps, temp):\n",
    "    prompt, orig_os, orig_scos, outs, scos = gen_rec_samp(elidf.iloc[ind], tokenizer, model, pflen, rchoose, tsamps, inps.iloc[ind], row, temp)\n",
    "    nb = max(orig_scos[-1])\n",
    "    ob = max(orig_scos[0])\n",
    "    nav = mean(orig_scos[-1])\n",
    "    oav = mean(orig_scos[0])\n",
    "    oldscos = inps.iloc[ind]['allscos']\n",
    "    obests = list([max(m) for m in oldscos])\n",
    "    oavgs = list([sum(m)/len(m) for m in oldscos])\n",
    "    \n",
    "    print(\"newbest \", nb, \"; oldbest \", ob)\n",
    "    print(\"newavg \", nav, \"; oldavg\", oav)\n",
    "    \n",
    "    print(\"manybest \", mean(obests))\n",
    "    print(\"manyavg\", mean(oavgs))\n",
    "    return prompt, orig_os, orig_scos, nav, oav, obests, oavgs, nb, ob\n",
    "\n",
    "def inpsampall(inps, pflen, rchoose, tsamps, numind, temp):\n",
    "    allvals = []\n",
    "    for i in range(len(inps)):\n",
    "        prompt, orig_os, orig_scos, nav, oav, obests, oavgs, nb, ob = sampfrominp(i, numind, inps, pflen, rchoose, tsamps, temp)\n",
    "        allvals.append({\n",
    "            'inp':prompt,\n",
    "            'hyps':orig_os,\n",
    "            'scos':orig_scos,\n",
    "            'new_avg':nav,\n",
    "            \"old_avg\":oav,\n",
    "            \"newmax\":nb,\n",
    "            \"oldmax\":ob,\n",
    "            \"obests\":obests,\n",
    "            \"oavgs\":oavgs\n",
    "        })\n",
    "        tmp = pd.DataFrame(allvals)\n",
    "        tmp.to_json(\"prefpreds.jsonl\", lines=True, orient=\"records\")\n",
    "    return tmp\n",
    "\n",
    "def mean(l):\n",
    "    return sum(l)/len(l)"
   ]
  },
  {
   "cell_type": "code",
   "execution_count": 25,
   "id": "4f68431e-576e-4c01-84c3-45bb973fcee9",
   "metadata": {},
   "outputs": [],
   "source": [
    "def samprecind(ind, pflen, rchoose, tsamps, log=False):\n",
    "    # algorithm 2\n",
    "   \n",
    "    prompt, orig_os, orig_scos, outs, scos = gen_rec_samp(elidf.iloc[ind], tokenizer, model, pflen, rchoose, tsamps)\n",
    "    if log:\n",
    "        print(\"Prefix len \", pflen, \"; Chosen Top-N \", rchoose)\n",
    "        printout(prompt, orig_os, orig_scos, outs, scos)\n",
    "    return prompt, orig_os, orig_scos, outs, scos\n",
    "\n",
    "def sampbase(ind, log=False):\n",
    "    # algorithm 2\n",
    "    pflen = [.1, .1, .1]\n",
    "    rchoose = [2, 2, 2]\n",
    "    tsamps = [4, 4,4]\n",
    "    prompt, orig_os, orig_scos, outs, scos = gen_rec_samp(elidf.iloc[ind], tokenizer, model, pflen, rchoose, tsamps)\n",
    "    if log:\n",
    "        print(\"Prefix len \", pflen, \"; Chosen Top-N \", rchoose)\n",
    "        printout(prompt, orig_os, orig_scos, outs, scos)\n",
    "    return prompt, orig_os, orig_scos, outs, scos\n",
    "\n",
    "def gendirind(ind, log=False):\n",
    "    pflen = .125\n",
    "    startsamps = 8\n",
    "    rchoose = 2\n",
    "    tsamps = 2\n",
    "    prompt, orig_os, orig_scos, outs, scos = gen_dir_beam(elidf.iloc[ind], tokenizer, model, pflen, rchoose, tsamps, startsamps)\n",
    "    if log:\n",
    "        print(\"Prefix len \", pflen, \"; Chosen Top-N \", rchoose)\n",
    "        printout(prompt, orig_os, orig_scos, outs, scos)\n",
    "    return prompt, orig_os, orig_scos, outs, scos\n",
    "\n",
    "def samprecall(start, end, pfls, rchs, tsmps):\n",
    "    res = []\n",
    "    for i in range(start, end):\n",
    "        print(i)\n",
    "        prompt, orig_os, orig_scos, outs, scos = samprecind(i, pfls, rchs, tsmps)\n",
    "        # store all data\n",
    "        res.append({\n",
    "            'input':prompt,\n",
    "            'allhyps':orig_os,\n",
    "            'allscos':orig_scos\n",
    "        })\n",
    "    return pd.DataFrame(res)\n",
    "    \n"
   ]
  },
  {
   "cell_type": "code",
   "execution_count": null,
   "id": "3adee9e5-2b01-40a8-8a60-40b1a4452cb8",
   "metadata": {},
   "outputs": [],
   "source": [
    "pflen = [0, 0, 0, 0, 0]\n",
    "rchoose = [2, 2, 2, 2, 2]\n",
    "tsamps = [4, 4, 4, 4, 4]\n",
    "#samprecind(2, pflen, rchoose, tsamps)\n",
    "\n",
    "df1 = samprecall(0,2, pflen, rchoose, tsamps)\n",
    "df1.to_json(\"baselines1.jsonl\", orient=\"records\", lines=True)"
   ]
  },
  {
   "cell_type": "code",
   "execution_count": 75,
   "id": "64e6aff2-c004-4bbb-ad73-7f7f4ee5a0c4",
   "metadata": {},
   "outputs": [
    {
     "data": {
      "text/plain": [
       "[[0.511057436466217,\n",
       "  0.7633963227272034,\n",
       "  0.8289591670036316,\n",
       "  0.6666605472564697],\n",
       " [0.6761478185653687,\n",
       "  0.7859654426574707,\n",
       "  0.5408999919891357,\n",
       "  0.5924620628356934],\n",
       " [0.6430632472038269,\n",
       "  0.6309277415275574,\n",
       "  0.6928672194480896,\n",
       "  0.7909512519836426],\n",
       " [0.8620328307151794,\n",
       "  0.8311976790428162,\n",
       "  0.7524057030677795,\n",
       "  0.7398936748504639],\n",
       " [0.6539881229400635,\n",
       "  0.8679606914520264,\n",
       "  0.7424838542938232,\n",
       "  0.8543801307678223]]"
      ]
     },
     "execution_count": 75,
     "metadata": {},
     "output_type": "execute_result"
    }
   ],
   "source": [
    "df1['allscos'].iloc[1]"
   ]
  },
  {
   "cell_type": "code",
   "execution_count": 11,
   "id": "890dfbb1-7cf5-4694-96d6-3f2ac0e26fba",
   "metadata": {},
   "outputs": [],
   "source": [
    "model.man_pref = None"
   ]
  },
  {
   "cell_type": "code",
   "execution_count": 18,
   "id": "510fa253-7869-4359-844a-1c16d564b1e0",
   "metadata": {},
   "outputs": [
    {
     "name": "stdout",
     "output_type": "stream",
     "text": [
      "monkeysamp\n"
     ]
    },
    {
     "data": {
      "text/plain": [
       "(\"Explain like I'm five years old: Why are we told to breathe in through our nose and out of our mouth while doing sports, meditation etc?\",\n",
       " ['This breathing pattern is called a diaphragmatic breathing pattern, and is used for breathing out the stress of exercise, or in meditation.',\n",
       "  'The nose is the main source of air flow and oxygen into the lungs. The mouth is the major source of carbon dioxide in the lungs. This makes it difficult for oxygen to get to the brain and other parts of the body, especially during a sports event.',\n",
       "  'When we breathe through our nose, we take in oxygen and our body uses it to energize the muscles in our body. When we breathe through our mouth, we take out carbon dioxide and release it into the atmosphere, so that there is no carbon buildup inside of us.',\n",
       "  'This technique is used to control your breathing and reduce panic attacks in athletes. The theory behind this method of breathing is that it causes you to calm down and allows you to focus on your breathing instead of your panic.'])"
      ]
     },
     "execution_count": 18,
     "metadata": {},
     "output_type": "execute_result"
    }
   ],
   "source": [
    "gen_row(elidf.iloc[8], tokenizer, model, \"sample\", 4)"
   ]
  },
  {
   "cell_type": "code",
   "execution_count": null,
   "id": "b1d9c4f4-3d0c-4a65-8a75-86a5177d852f",
   "metadata": {},
   "outputs": [],
   "source": [
    "samprecind(1)"
   ]
  },
  {
   "cell_type": "code",
   "execution_count": null,
   "id": "a50b083b-cec1-422a-9488-d3a5d178cbca",
   "metadata": {},
   "outputs": [],
   "source": [
    "sampport = samprecall(20)"
   ]
  },
  {
   "cell_type": "code",
   "execution_count": null,
   "id": "f79a3266-7150-4023-a3f7-42db05568a5a",
   "metadata": {},
   "outputs": [],
   "source": [
    "samplall = samprecall(100)"
   ]
  },
  {
   "cell_type": "code",
   "execution_count": 32,
   "id": "87e5e63c-3711-43a7-8d6b-30f6abea72f0",
   "metadata": {},
   "outputs": [],
   "source": [
    "salldf = pd.DataFrame(samplall)"
   ]
  },
  {
   "cell_type": "code",
   "execution_count": 35,
   "id": "a4c1014e-fa88-425d-a97e-c516da1e1543",
   "metadata": {},
   "outputs": [],
   "source": [
    "salldf.to_json(\"salldf.jsonl\", orient=\"records\",lines=True)"
   ]
  },
  {
   "cell_type": "code",
   "execution_count": null,
   "id": "c4a572fa-00af-4d81-9a7f-67e121c97c6d",
   "metadata": {},
   "outputs": [],
   "source": [
    "# algorithm 1\n",
    "ind = 7\n",
    "pflen = 10\n",
    "bsize = 4\n",
    "rchoose = 2\n",
    "prompt, orig_os, orig_scos, outs, scos = gen_dir_beam(elidf.iloc[ind], tokenizer, model, pflen, rchoose, bsize)\n",
    "print(\"Prefix len \", pflen, \"; Beam size \", bsize, \"; Chosen Top-N \", rchoose)\n",
    "printout(prompt, orig_os, orig_scos, outs, scos)"
   ]
  },
  {
   "cell_type": "code",
   "execution_count": 94,
   "id": "02742f28-f336-4b35-92e6-c56f88678fe0",
   "metadata": {},
   "outputs": [],
   "source": [
    "def getdatastats(allinps):\n",
    "    ascos = []\n",
    "    alens = []\n",
    "    bscos = [[], [], []]\n",
    "    for s in allinps:\n",
    "        for scs in s['allscos']:\n",
    "\n",
    "            ascos.extend(scs)\n",
    "        for i in range(len(bscos)):\n",
    "            bscos[i].append(max(s['allscos'][i]))\n",
    "        for hy in s['allhyps']:\n",
    "            alens.extend([len(h.split()) for h in hy])\n",
    "    return ascos, alens, bscos"
   ]
  },
  {
   "cell_type": "code",
   "execution_count": 107,
   "id": "77ab0e47-35b0-443a-b120-321838808389",
   "metadata": {},
   "outputs": [],
   "source": [
    "ascos, alens, bscos = getdatastats(sampport)"
   ]
  },
  {
   "cell_type": "code",
   "execution_count": 108,
   "id": "33a5673e-6a20-48b5-b882-ee92c10eccf3",
   "metadata": {},
   "outputs": [
    {
     "data": {
      "text/plain": [
       "560"
      ]
     },
     "execution_count": 108,
     "metadata": {},
     "output_type": "execute_result"
    }
   ],
   "source": [
    "len(ascos)"
   ]
  },
  {
   "cell_type": "code",
   "execution_count": 88,
   "id": "216f40f6-2b33-4169-a3ee-f490eb6d259e",
   "metadata": {},
   "outputs": [],
   "source": [
    "import matplotlib.pyplot as plt\n",
    "from scipy.stats import pearsonr"
   ]
  },
  {
   "cell_type": "code",
   "execution_count": 109,
   "id": "19be6049-b575-4cad-ba30-114b349a80c4",
   "metadata": {},
   "outputs": [
    {
     "data": {
      "text/plain": [
       "<matplotlib.collections.PathCollection at 0x7f959cd76f70>"
      ]
     },
     "execution_count": 109,
     "metadata": {},
     "output_type": "execute_result"
    },
    {
     "data": {
      "image/png": "[encoded data removed]",
      "text/plain": [
       "<Figure size 640x480 with 1 Axes>"
      ]
     },
     "metadata": {},
     "output_type": "display_data"
    }
   ],
   "source": [
    "plt.scatter(alens, ascos)"
   ]
  },
  {
   "cell_type": "code",
   "execution_count": 110,
   "id": "85784113-7bcf-4fd0-b2e2-8114f5331ece",
   "metadata": {},
   "outputs": [
    {
     "data": {
      "text/plain": [
       "[0.8846133410930633, 0.887361803650856, 0.8702863931655884]"
      ]
     },
     "execution_count": 110,
     "metadata": {},
     "output_type": "execute_result"
    }
   ],
   "source": [
    "list([sum(s)/len(s) for s in bscos])"
   ]
  },
  {
   "cell_type": "code",
   "execution_count": 111,
   "id": "641f4858-b69d-40ea-8b9f-7d733deed022",
   "metadata": {},
   "outputs": [
    {
     "data": {
      "text/plain": [
       "PearsonRResult(statistic=0.40841173866952357, pvalue=6.346891566967767e-24)"
      ]
     },
     "execution_count": 111,
     "metadata": {},
     "output_type": "execute_result"
    }
   ],
   "source": [
    "pearsonr(alens, ascos)"
   ]
  },
  {
   "cell_type": "code",
   "execution_count": null,
   "id": "47b7d828-2313-4a1f-b2ab-53938b6d5556",
   "metadata": {},
   "outputs": [],
   "source": [
    "orig_scos"
   ]
  },
  {
   "cell_type": "code",
   "execution_count": 71,
   "id": "5ebd487a-9185-4428-8b15-e362d84f33ce",
   "metadata": {},
   "outputs": [
    {
     "data": {
      "text/plain": [
       "'<pad>'"
      ]
     },
     "execution_count": 71,
     "metadata": {},
     "output_type": "execute_result"
    }
   ],
   "source": [
    "tokenizer.decode(model.config.decoder_start_token_id)"
   ]
  },
  {
   "cell_type": "code",
   "execution_count": 30,
   "id": "b8219493-61bf-425c-848f-85f3e527aa07",
   "metadata": {},
   "outputs": [],
   "source": [
    "# sanity check for data leakage "
   ]
  },
  {
   "cell_type": "code",
   "execution_count": 37,
   "id": "73a66cd8-665b-419d-b832-3b6ad35ab695",
   "metadata": {},
   "outputs": [],
   "source": [
    "def get_unhist_answers(orig):\n",
    "    allas = []\n",
    "    for h in orig['history'].unique():\n",
    "        tmpans = []\n",
    "        # get relevant stuff\n",
    "        select = orig[orig['history']==h]\n",
    "        tmpans.extend(list(select['human_ref_A']))\n",
    "        tmpans.extend(list(select['human_ref_B']))\n",
    "        allas.append({\n",
    "            'inp':h,\n",
    "            'answers':list(set(tmpans))\n",
    "        })\n",
    "    return allas\n",
    "    "
   ]
  },
  {
   "cell_type": "code",
   "execution_count": 33,
   "id": "ee4f76d3-d77d-4511-a60b-f5460655c167",
   "metadata": {},
   "outputs": [
    {
     "data": {
      "text/plain": [
       "\"Explain like I'm five years old: How does your body burn 2000 calories a day, but you have to run a mile to burn 100 extra? Basically the title. I saw this thing about how much you have to exercise to burn off certain foods and was wondering how your body burns so many calories by doing nothing.\""
      ]
     },
     "execution_count": 33,
     "metadata": {},
     "output_type": "execute_result"
    }
   ],
   "source": [
    "eliorig.loc[0]['history']"
   ]
  },
  {
   "cell_type": "code",
   "execution_count": 38,
   "id": "ac588661-f86a-4b87-9652-d4ea74304d25",
   "metadata": {},
   "outputs": [],
   "source": [
    "allunans = get_unhist_answers(eliorig)"
   ]
  },
  {
   "cell_type": "code",
   "execution_count": 42,
   "id": "e4885011-ddd7-46dd-8c71-1a75b388db4a",
   "metadata": {},
   "outputs": [
    {
     "data": {
      "text/plain": [
       "{'inp': \"Explain like I'm five years old: How does your body burn 2000 calories a day, but you have to run a mile to burn 100 extra? Basically the title. I saw this thing about how much you have to exercise to burn off certain foods and was wondering how your body burns so many calories by doing nothing.\",\n",
       " 'answers': ['A lot of you guys are missing the eli5.  2000 calories is your body doing all the \"keeping you alive\" and it never stops and this is over 24 hours.   100 calories is you making the body work really fast but over a short period... 10 minutes say. If you keep that effort up for 24 hours, you\\'d be using err... 14,000 calories or so.  The difference you\\'re missing is the time frame.',\n",
       "  'Because generating body heat is much more intensive than moving around. Try to warm your hands by rubbing them against each other, it’s very difficult. Which is why trying to loose weight by physical exercise alone is going to be super difficult.  A lot of people are asking if being in the cold can loose you weight, I don’t know. It is not necessarily the case that if you’re cold your body will produce significantly more heat.',\n",
       "  \"You're not doing nothing.  Your heart is beating, your brain is processing, your eyes and ears are collecting information, your muscle tissue is idling, awaiting command.  You're maintaining a core temp of precisely 98.6F.  None of this is free, you'll consume 1500-2500 calories a day simply keeping the biological lights on.  We're highly efficient runners, and burn little energy to do so compared to many other animals.\",\n",
       "  \"Well it entirely depends on your weight and age to begin with. 2000 is just the generalized number for the entire population. A small woman might only burn 1100-1200 and a 6'8 Norwegian dude might burn 3200.   Most of that is your basic metabolic processes. Maintaining a steady body temperature is huge, running your brain is huge, beating your heart, inflating your lungs, digestion, etc. And then you have all of your normal activities like walking, doing your job, etc.   Running in general is kinda what we evolved to do. We're very efficient at it. That 100kcal figure is for a typical runner that is not grossly out of shape. If you are out of shape, running a mile will burn more.\",\n",
       "  'Rough estimate, you burn 2,400 calories per day staying alive.  That is 100 calories per hour.    You burn about 100 calories jogging for 10 minutes.  That means jogging burns 6x as many calories as just standing still.',\n",
       "  'Your body is never doing nothing. It takes energy to keep your metabolism going—maintaining an appropriate internal temperature, digesting, breathing, circulating blood, etc. The number of calories burned by being alive varies by person.']}"
      ]
     },
     "execution_count": 42,
     "metadata": {},
     "output_type": "execute_result"
    }
   ],
   "source": [
    "allunans[0]"
   ]
  },
  {
   "cell_type": "code",
   "execution_count": null,
   "id": "8d91dcc4-c026-45d7-8517-b7b7f94e4906",
   "metadata": {},
   "outputs": [],
   "source": []
  }
 ],
 "metadata": {
  "kernelspec": {
   "display_name": "Python 3 (ipykernel)",
   "language": "python",
   "name": "python3"
  },
  "language_info": {
   "codemirror_mode": {
    "name": "ipython",
    "version": 3
   },
   "file_extension": ".py",
   "mimetype": "text/x-python",
   "name": "python",
   "nbconvert_exporter": "python",
   "pygments_lexer": "ipython3",
   "version": "3.8.12"
  }
 },
 "nbformat": 4,
 "nbformat_minor": 5
}
