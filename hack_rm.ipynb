{
 "cells": [
  {
   "cell_type": "code",
   "execution_count": 200,
   "id": "76fdb220-dd46-416a-ac58-ebb5e498bd1d",
   "metadata": {},
   "outputs": [],
   "source": [
    "import pandas as pd\n",
    "import matplotlib.pyplot as plt\n",
    "from transformers import T5Tokenizer, T5ForConditionalGeneration\n",
    "from src.utils.samp_utils import gen_row, get_reward_single, get_reward_double\n",
    "from statistics import mean, stdev\n",
    "from src.utils.hack_utils import modify_hyps, score_mhyp, competency_analysis\n",
    "import re\n",
    "\n",
    "\n",
    "\n",
    "device='cuda:0'"
   ]
  },
  {
   "cell_type": "code",
   "execution_count": 39,
   "id": "abd512b5-0df9-4a71-8652-c0bfbd86a8d4",
   "metadata": {},
   "outputs": [],
   "source": [
    "%load_ext autoreload\n",
    "%autoreload 2"
   ]
  },
  {
   "cell_type": "code",
   "execution_count": 2,
   "id": "9714ae73-8a93-4d9f-8369-aec0cf307ae3",
   "metadata": {},
   "outputs": [
    {
     "data": {
      "application/json": {
       "ascii": false,
       "bar_format": null,
       "colour": null,
       "elapsed": 0.005167484283447266,
       "initial": 0,
       "n": 0,
       "ncols": null,
       "nrows": 20,
       "postfix": null,
       "prefix": "Loading checkpoint shards",
       "rate": null,
       "total": 2,
       "unit": "it",
       "unit_divisor": 1000,
       "unit_scale": false
      },
      "application/vnd.jupyter.widget-view+json": {
       "model_id": "90451a5c9b8a4a8a832805755699bb25",
       "version_major": 2,
       "version_minor": 0
      },
      "text/plain": [
       "Loading checkpoint shards:   0%|          | 0/2 [00:00<?, ?it/s]"
      ]
     },
     "metadata": {},
     "output_type": "display_data"
    },
    {
     "name": "stdout",
     "output_type": "stream",
     "text": [
      "loaded\n"
     ]
    }
   ],
   "source": [
    "steamtok = T5Tokenizer.from_pretrained('stanfordnlp/SteamSHP-flan-t5-xl')\n",
    "steamshp = T5ForConditionalGeneration.from_pretrained('stanfordnlp/SteamSHP-flan-t5-xl').to(device)\n",
    "steamshp.eval()\n",
    "print(\"loaded\")"
   ]
  },
  {
   "cell_type": "code",
   "execution_count": null,
   "id": "b0910aff-5a33-457a-9234-d6ee9f20ac3c",
   "metadata": {},
   "outputs": [],
   "source": [
    "tokenizer = T5Tokenizer.from_pretrained(\"google/flan-t5-xxl\")\n",
    "genmodel = T5ForConditionalGeneration.from_pretrained(\"google/flan-t5-xxl\", device_map=\"auto\")#.to(device)\n",
    "genmodel.eval()\n",
    "print(\"loaded\")"
   ]
  },
  {
   "cell_type": "code",
   "execution_count": 8,
   "id": "c8a1aed1-53c9-4ad3-a9a2-0b2db40c7f96",
   "metadata": {},
   "outputs": [],
   "source": [
    "def hypsco_pairs(indf):\n",
    "    allscos = []\n",
    "    allhyps = []\n",
    "    for ind, row in indf.iterrows():\n",
    "        allscos.extend(row['scos'])\n",
    "        allhyps.extend(row['hyps'])\n",
    "    return allscos, allhyps\n",
    "\n",
    "data = pd.read_json(\"output/rawdata/bigdsetp1.jsonl\", orient='records', lines=True).drop(columns=['stats'])\n",
    "ascos, ahyps = hypsco_pairs(data)"
   ]
  },
  {
   "cell_type": "code",
   "execution_count": null,
   "id": "fcf116a7-2e1c-4112-85db-9b73b4627a4a",
   "metadata": {
    "tags": []
   },
   "outputs": [],
   "source": [
    "companalysis = competency_analysis(ascos, ahyps)"
   ]
  },
  {
   "cell_type": "code",
   "execution_count": 118,
   "id": "dd481a30-c74b-4477-bce2-f67619f35520",
   "metadata": {},
   "outputs": [],
   "source": [
    "probs, counts = companalysis"
   ]
  },
  {
   "cell_type": "code",
   "execution_count": 119,
   "id": "66765d8c-2147-4fc7-b083-aa410ef4bc83",
   "metadata": {},
   "outputs": [],
   "source": [
    "words = []\n",
    "probvals = []\n",
    "countvals = []\n",
    "for k in probs.keys():\n",
    "    words.append(k)\n",
    "    probvals.append(probs[k])\n",
    "    countvals.append(sum(counts[k]))"
   ]
  },
  {
   "cell_type": "code",
   "execution_count": 126,
   "id": "1c887a32-f262-4edc-9e27-e473fad6721f",
   "metadata": {},
   "outputs": [
    {
     "name": "stdout",
     "output_type": "stream",
     "text": [
      "Is   0.17261904761904762   168\n",
      "heat   0.15789473684210525   209\n",
      "waves   0.12345679012345678   81\n",
      "Each   0.16071428571428573   56\n",
      "electricity   0.1643835616438356   73\n",
      "dry   0.19696969696969696   66\n",
      "travels   0.13333333333333333   60\n"
     ]
    }
   ],
   "source": [
    "for i in range(len(words)):\n",
    "    if probvals[i]<.2 and countvals[i]>50:\n",
    "        print(words[i], \" \", probvals[i], \" \", countvals[i])"
   ]
  },
  {
   "cell_type": "code",
   "execution_count": 18,
   "id": "7d4fd8b6-6e52-4caa-b766-dea2b7859d19",
   "metadata": {},
   "outputs": [],
   "source": [
    "inp, outs, _ = gen_row({'history':data['inp'][0]}, tokenizer, genmodel, 200, \"sample\", 2, .9)\n",
    "shp_scores = [float(get_reward_single({\"context\": inp, \"hyp\":o}, steamtok, steamshp)) for o in outs]"
   ]
  },
  {
   "cell_type": "code",
   "execution_count": null,
   "id": "be22f6f1-247c-49fe-adb5-ab443af2ad85",
   "metadata": {},
   "outputs": [],
   "source": [
    "print(outs)\n",
    "print(shp_scores)"
   ]
  },
  {
   "cell_type": "code",
   "execution_count": 56,
   "id": "4c492306-10a5-4f48-bb2a-ed3e99e2e780",
   "metadata": {},
   "outputs": [],
   "source": [
    "mhyps = modify_hyps(list(data['scos']), list(data['hyps']), list(data['inp']))"
   ]
  },
  {
   "cell_type": "code",
   "execution_count": 67,
   "id": "d0736016-f99e-422a-aead-a926ff7fa150",
   "metadata": {},
   "outputs": [
    {
     "name": "stdout",
     "output_type": "stream",
     "text": [
      "812\n",
      "813\n",
      "814\n"
     ]
    }
   ],
   "source": [
    "heurscores = []\n",
    "for m in mhyps:\n",
    "    print(len(heurscores))\n",
    "    heurscores.append(score_mhyp(m, steamtok, steamshp, True))"
   ]
  },
  {
   "cell_type": "code",
   "execution_count": 209,
   "id": "ab2a6b8c-75b2-41b0-a585-2aea97e418e8",
   "metadata": {},
   "outputs": [
    {
     "name": "stdout",
     "output_type": "stream",
     "text": [
      "0.9223629832267761\n",
      "0.9566524624824524\n",
      "0.9381784796714783\n",
      "0.9018288850784302\n",
      "0.5499758124351501\n",
      "0.8421530723571777\n",
      "0.8827367424964905\n",
      "0.7924007773399353\n",
      "0.9188359975814819\n",
      "0.8979532122612\n",
      "0.865385890007019\n",
      "0.6713961362838745\n",
      "0.8964040875434875\n",
      "0.8845836520195007\n",
      "0.918313205242157\n",
      "0.6031108498573303\n",
      "0.9297599792480469\n",
      "0.8211050033569336\n",
      "0.8872085809707642\n",
      "0.8505074977874756\n",
      "0.7182126641273499\n",
      "0.8236317038536072\n",
      "0.8272920846939087\n",
      "0.8686907887458801\n",
      "0.5491950511932373\n",
      "0.8800878524780273\n",
      "0.9433391690254211\n",
      "0.8820124268531799\n",
      "0.8681997656822205\n",
      "0.9157498478889465\n",
      "0.871453583240509\n",
      "0.857115626335144\n",
      "0.8637531995773315\n",
      "0.9005765318870544\n",
      "0.8903903961181641\n"
     ]
    },
    {
     "data": {
      "text/html": [
       "<pre style=\"white-space:pre;overflow-x:auto;line-height:normal;font-family:Menlo,'DejaVu Sans Mono',consolas,'Courier New',monospace\"></pre>\n"
      ],
      "text/plain": []
     },
     "metadata": {},
     "output_type": "display_data"
    },
    {
     "name": "stderr",
     "output_type": "stream",
     "text": [
      "\n",
      "KeyboardInterrupt\n",
      "\n"
     ]
    }
   ],
   "source": [
    "addscos = []\n",
    "addsent = \"\"\n",
    "for i in range(len(hscodf)):\n",
    "    scotmp = float(get_reward_double({\"context\": hscodf['inp'][i], \"hyp\":addsent, \"comp\":hscodf['lsent'][i]}, steamtok, steamshp))\n",
    "    addscos.append(scotmp)\n",
    "    print(scotmp)\n",
    "hscodf['research_hack_sco_h'] = addscos"
   ]
  },
  {
   "cell_type": "code",
   "execution_count": 190,
   "id": "13d48c6f-7bc5-4e82-92c7-bed069a6296a",
   "metadata": {},
   "outputs": [
    {
     "data": {
      "text/plain": [
       "0.9148354652469144"
      ]
     },
     "execution_count": 190,
     "metadata": {},
     "output_type": "execute_result"
    }
   ],
   "source": [
    "hscodf['research_hack_sco_h'].mean()"
   ]
  },
  {
   "cell_type": "code",
   "execution_count": 69,
   "id": "60203a12-29a3-4529-bd95-935f59150742",
   "metadata": {},
   "outputs": [],
   "source": [
    "hscodf = pd.DataFrame(heurscores)"
   ]
  },
  {
   "cell_type": "code",
   "execution_count": 84,
   "id": "c8d8a2db-45b9-41da-914f-9a6a67859b1f",
   "metadata": {},
   "outputs": [
    {
     "name": "stdout",
     "output_type": "stream",
     "text": [
      "0.11756357232079091\n",
      "0.6217412439317791\n"
     ]
    }
   ],
   "source": [
    "keyval = \"dup_lower_score\"\n",
    "print(stdev(hscodf[keyval]))\n",
    "print(mean(hscodf[keyval]))"
   ]
  },
  {
   "cell_type": "code",
   "execution_count": 90,
   "id": "63ebaae8-9c7a-4bff-ae94-01eb42cb454b",
   "metadata": {},
   "outputs": [
    {
     "data": {
      "text/plain": [
       "(array([  4.,  11.,  22.,  57., 145., 241., 263.,  68.,   2.,   2.]),\n",
       " array([-0.59502801, -0.51024978, -0.42547156, -0.34069333, -0.2559151 ,\n",
       "        -0.17113687, -0.08635864, -0.00158041,  0.08319781,  0.16797604,\n",
       "         0.25275427]),\n",
       " <BarContainer object of 10 artists>)"
      ]
     },
     "execution_count": 90,
     "metadata": {},
     "output_type": "execute_result"
    },
    {
     "data": {
      "image/png": "[encoded data removed]",
      "text/plain": [
       "<Figure size 640x480 with 1 Axes>"
      ]
     },
     "metadata": {},
     "output_type": "display_data"
    }
   ],
   "source": [
    "plt.hist(hscodf.first_add_score-hscodf.hsco)"
   ]
  },
  {
   "cell_type": "code",
   "execution_count": 65,
   "id": "edd12d0a-84dc-4727-93a7-97cf684f3be7",
   "metadata": {},
   "outputs": [
    {
     "name": "stdout",
     "output_type": "stream",
     "text": [
      "first_add\n",
      "last_add\n",
      "first_rep\n",
      "last_rep\n",
      "dup_lower\n"
     ]
    },
    {
     "data": {
      "text/plain": [
       "{'lsent': 'Is this a practical or theoretical issue? I have seen people say 10 cents, but I have not seen anyone state what this difference is based on.',\n",
       " 'hsent': \"The fact that the gas is a tier, and that the price is usually a 10 cents difference is very telling. People tend to think of gas as an arbitrary tier, but actually it isn't. Typically the gas is a tier in the price structure, but the tier in price is always 10 cents off the next tier.\",\n",
       " 'lsco': 0.3256509602,\n",
       " 'hsco': 0.9307213426000001,\n",
       " 'first_add': 'The fact that the gas is a tier, and that the price is usually a 10 cents difference is very telling. Is this a practical or theoretical issue? I have seen people say 10 cents, but I have not seen anyone state what this difference is based on.',\n",
       " 'first_add_score': 0.7327279448509216,\n",
       " 'last_add': 'Is this a practical or theoretical issue? I have seen people say 10 cents, but I have not seen anyone state what this difference is based on. Typically the gas is a tier in the price structure, but the tier in price is always 10 cents off the next tier.',\n",
       " 'last_add_score': 0.43441712856292725,\n",
       " 'first_rep': 'The fact that the gas is a tier, and that the price is usually a 10 cents difference is very telling. I have seen people say 10 cents, but I have not seen anyone state what this difference is based on.',\n",
       " 'first_rep_score': 0.8632681965827942,\n",
       " 'last_rep': 'Is this a practical or theoretical issue? Typically the gas is a tier in the price structure, but the tier in price is always 10 cents off the next tier.',\n",
       " 'last_rep_score': 0.24675819277763367,\n",
       " 'dup_lower': 'Is this a practical or theoretical issue? I have seen people say 10 cents, but I have not seen anyone state what this difference is based on. Is this a practical or theoretical issue? I have seen people say 10 cents, but I have not seen anyone state what this difference is based on.',\n",
       " 'dup_lower_score': 0.3380725681781769,\n",
       " 'inp': \"Why are different tiers (regular < mid < premium) of gas' prices almost always 10 cents different?I've noticed that the difference in price between regular gas and midrange, and between midrange and premium, is almost always 10 cents. This seems to hold true no matter what the price for regular gas. This doesn't seem to make sense, as the difference between $2 and $2.10 and the difference between $4 and $4.10 /gal are proportionally very different. Is this just an arbitrary convention that undermines arguments of a rational basis for gasoline prices? \"}"
      ]
     },
     "execution_count": 65,
     "metadata": {},
     "output_type": "execute_result"
    }
   ],
   "source": [
    "score_mhyp(mhyps[0], steamtok, steamshp)"
   ]
  },
  {
   "cell_type": "code",
   "execution_count": 31,
   "id": "45902a1d-be78-4e6d-b962-7d40485742a5",
   "metadata": {},
   "outputs": [],
   "source": [
    "def qcond(instr):\n",
    "    return '?' in instr[:50]\n",
    "        \n",
    "def occur_distr(scores, outputs, cond):\n",
    "    condhyps = []\n",
    "    condscos = []\n",
    "    for i in range(len(outputs)):\n",
    "        if cond(outputs[i]):\n",
    "            condhyps.append(outputs[i])\n",
    "            condscos.append(scores[i])\n",
    "    return condhyps, condscos\n",
    "            "
   ]
  },
  {
   "cell_type": "code",
   "execution_count": 34,
   "id": "5ca69f88-0d05-4d98-9294-cac8455fa86e",
   "metadata": {},
   "outputs": [
    {
     "name": "stdout",
     "output_type": "stream",
     "text": [
      "0.716610349939394\n"
     ]
    }
   ],
   "source": [
    "qhyps, qscos = occur_distr(ascos, ahyps, qcond)\n",
    "print(mean(qscos))"
   ]
  },
  {
   "cell_type": "code",
   "execution_count": 35,
   "id": "f78a86d0-d9c3-4793-85c8-75f54f51c99c",
   "metadata": {},
   "outputs": [
    {
     "data": {
      "text/plain": [
       "(array([ 2.,  4.,  5.,  9., 11., 14., 11., 33., 24., 19.]),\n",
       " array([0.18907288, 0.26827275, 0.34747262, 0.42667249, 0.50587236,\n",
       "        0.58507223, 0.66427211, 0.74347198, 0.82267185, 0.90187172,\n",
       "        0.98107159]),\n",
       " <BarContainer object of 10 artists>)"
      ]
     },
     "execution_count": 35,
     "metadata": {},
     "output_type": "execute_result"
    },
    {
     "data": {
      "image/png": "[encoded data removed]",
      "text/plain": [
       "<Figure size 640x480 with 1 Axes>"
      ]
     },
     "metadata": {},
     "output_type": "display_data"
    }
   ],
   "source": [
    "plt.hist(qscos)"
   ]
  },
  {
   "cell_type": "code",
   "execution_count": 36,
   "id": "ac579694-e677-482d-8fab-5296caf7b79f",
   "metadata": {},
   "outputs": [
    {
     "name": "stdout",
     "output_type": "stream",
     "text": [
      "[(0.3256509602, 'Is this a practical or theoretical issue? I have seen people say 10 cents, but I have not seen anyone state what this difference is based on.'), (0.7998151779, \"Why didn't the turtle eat? The turtle eats because it lives in a warm climate. The turtle lives on a hot island.\"), (0.8292976022, \"I'm not sure what you mean by make money? You're comparing rental income with mortgage payments. Rent is what you get in exchange for the use of a house, which is what the landlord invests in. He pays himself interest on the investment. It would take you months to pay off the mortgage, so the money is going to come out of the tenants' rents. If you're lucky, your landlord will raise the rent to cover the expenses he's having to pay for the property. Eventually, his profits will be bigger than his expenses.\"), (0.4641477764, 'What causes the urinate twice as much back out?always wondered this never have gotten an answer'), (0.9014465809000001, \"What are the main changes to Paypal's policies? Basically, they are changing their payment method to require a bank account, and making it impossible to use it for purchases outside of the United States. Is this good? Bad? I'm not really sure.\"), (0.8596321344000001, \"What are the main changes to Paypal's policies? Basically, they are changing their payment method to require a bank account. What does this mean, and what does it mean for me?\"), (0.9345176220000001, \"What are the main changes to Paypal's policies? Basically, they are changing their payment method to require a bank account for transactions, not just a debit card. If you are a business, you will also need a merchant account with them in order to use their service. If you are an individual, you should be able to use Paypal without getting a bank account.\"), (0.9502561688000001, \"What are the main changes to Paypal's policies? Basically, they are changing their payment method to require a bank account for each Paypal account. Its a big deal, and a move away from credit cards for all transactions. Its also a step towards a more cash based economy. Why does this matter to me? I have an e-commerce business with paypal, and its in need of a restructure.\"), (0.9458215237, \"What are the main changes to Paypal's policies? Basically, they are changing their payment method to require a bank account (the money is transferred from your debit card to your bank account). The change will likely have a negative effect on small/independent business owners who use PayPal to accept payments. The payment method is currently available at http://www.paypal.com/us/webapps/mpp/ua/privacy.php#acceptable_use, but it does say that they plan to change their policy soon to allow the payment methods to be used with Paypal accounts and that they are testing a payment option without having to have a bank account.\"), (0.6504570842, 'Why are Protestants different from Catholics? How are Protestants different from Protestants? The History of Protestantism: How a Non-Catholic Group Became Protestant')]\n"
     ]
    }
   ],
   "source": [
    "print(list(zip(qscos[:10], qhyps[:10])))"
   ]
  },
  {
   "cell_type": "code",
   "execution_count": 27,
   "id": "313b5300-bcd3-4835-befe-9af1a7453fb4",
   "metadata": {},
   "outputs": [
    {
     "data": {
      "text/plain": [
       "(array([  3.,   6.,   8.,  32.,  80.,  92., 133., 183., 181., 107.]),\n",
       " array([0.11633313, 0.20414906, 0.29196499, 0.37978092, 0.46759685,\n",
       "        0.55541277, 0.6432287 , 0.73104463, 0.81886056, 0.90667648,\n",
       "        0.99449241]),\n",
       " <BarContainer object of 10 artists>)"
      ]
     },
     "execution_count": 27,
     "metadata": {},
     "output_type": "execute_result"
    },
    {
     "data": {
      "image/png": "[encoded data removed]",
      "text/plain": [
       "<Figure size 640x480 with 1 Axes>"
      ]
     },
     "metadata": {},
     "output_type": "display_data"
    }
   ],
   "source": [
    "plt.hist(qscos)"
   ]
  },
  {
   "cell_type": "code",
   "execution_count": 13,
   "id": "ec26b0a5-6a9d-47d9-9871-cf06049ddebd",
   "metadata": {},
   "outputs": [
    {
     "data": {
      "text/html": [
       "<div>\n",
       "<style scoped>\n",
       "    .dataframe tbody tr th:only-of-type {\n",
       "        vertical-align: middle;\n",
       "    }\n",
       "\n",
       "    .dataframe tbody tr th {\n",
       "        vertical-align: top;\n",
       "    }\n",
       "\n",
       "    .dataframe thead th {\n",
       "        text-align: right;\n",
       "    }\n",
       "</style>\n",
       "<table border=\"1\" class=\"dataframe\">\n",
       "  <thead>\n",
       "    <tr style=\"text-align: right;\">\n",
       "      <th></th>\n",
       "      <th>inp</th>\n",
       "      <th>hyps</th>\n",
       "      <th>scos</th>\n",
       "      <th>ver</th>\n",
       "      <th>pref</th>\n",
       "      <th>prefix</th>\n",
       "    </tr>\n",
       "  </thead>\n",
       "  <tbody>\n",
       "    <tr>\n",
       "      <th>0</th>\n",
       "      <td>Why are different tiers (regular &lt; mid &lt; premi...</td>\n",
       "      <td>[Is this a practical or theoretical issue? I h...</td>\n",
       "      <td>[0.3256509602, 0.9307213426000001, 0.765635073...</td>\n",
       "      <td>first</td>\n",
       "      <td>0.0</td>\n",
       "      <td>NaN</td>\n",
       "    </tr>\n",
       "    <tr>\n",
       "      <th>1</th>\n",
       "      <td>Why are different tiers (regular &lt; mid &lt; premi...</td>\n",
       "      <td>[The fact that the gas is a tier, and that the...</td>\n",
       "      <td>[0.9758809805, 0.9251629710000001, 0.967072069...</td>\n",
       "      <td>rand</td>\n",
       "      <td>NaN</td>\n",
       "      <td>53.0</td>\n",
       "    </tr>\n",
       "    <tr>\n",
       "      <th>2</th>\n",
       "      <td>Stars and VisibilityWhy do stars in the night'...</td>\n",
       "      <td>[The ephemeris of a star can provide some info...</td>\n",
       "      <td>[0.7836418152, 0.7945138216000001, 0.758988022...</td>\n",
       "      <td>first</td>\n",
       "      <td>0.0</td>\n",
       "      <td>NaN</td>\n",
       "    </tr>\n",
       "    <tr>\n",
       "      <th>3</th>\n",
       "      <td>Stars and VisibilityWhy do stars in the night'...</td>\n",
       "      <td>[The eponymous dark-adapted eye (DAE) may seem...</td>\n",
       "      <td>[0.9133156538, 0.7046486139, 0.981576561900000...</td>\n",
       "      <td>rand</td>\n",
       "      <td>NaN</td>\n",
       "      <td>5.0</td>\n",
       "    </tr>\n",
       "    <tr>\n",
       "      <th>4</th>\n",
       "      <td>How do we know all the money the government is...</td>\n",
       "      <td>[JPMorgan Chase’s record $13 billion mortgage ...</td>\n",
       "      <td>[0.721021533, 0.7394787073, 0.8426040411, 0.67...</td>\n",
       "      <td>first</td>\n",
       "      <td>0.0</td>\n",
       "      <td>NaN</td>\n",
       "    </tr>\n",
       "    <tr>\n",
       "      <th>...</th>\n",
       "      <td>...</td>\n",
       "      <td>...</td>\n",
       "      <td>...</td>\n",
       "      <td>...</td>\n",
       "      <td>...</td>\n",
       "      <td>...</td>\n",
       "    </tr>\n",
       "    <tr>\n",
       "      <th>3003</th>\n",
       "      <td>Can't remember what it's calledWhen people loo...</td>\n",
       "      <td>[It's called \"groupthink\". It's when you're un...</td>\n",
       "      <td>[0.9565895796, 0.9091305733, 0.9350448847, 0.8...</td>\n",
       "      <td>rand</td>\n",
       "      <td>NaN</td>\n",
       "      <td>4.0</td>\n",
       "    </tr>\n",
       "    <tr>\n",
       "      <th>3004</th>\n",
       "      <td>Other than making room for other patients, why...</td>\n",
       "      <td>[Many dentists would rather see each patient a...</td>\n",
       "      <td>[0.7729679346, 0.6318202615, 0.550170838800000...</td>\n",
       "      <td>first</td>\n",
       "      <td>0.0</td>\n",
       "      <td>NaN</td>\n",
       "    </tr>\n",
       "    <tr>\n",
       "      <th>3005</th>\n",
       "      <td>Other than making room for other patients, why...</td>\n",
       "      <td>[As the patient, you probably feel that a visi...</td>\n",
       "      <td>[0.8107921481, 0.7608217001, 0.9219293594, 0.8...</td>\n",
       "      <td>rand</td>\n",
       "      <td>NaN</td>\n",
       "      <td>33.0</td>\n",
       "    </tr>\n",
       "    <tr>\n",
       "      <th>3006</th>\n",
       "      <td>Why does the law never go after rappers who co...</td>\n",
       "      <td>[The law only wants to deal with actual crimin...</td>\n",
       "      <td>[0.8216223121, 0.8157137632, 0.80394274, 0.856...</td>\n",
       "      <td>first</td>\n",
       "      <td>0.0</td>\n",
       "      <td>NaN</td>\n",
       "    </tr>\n",
       "    <tr>\n",
       "      <th>3007</th>\n",
       "      <td>Why does the law never go after rappers who co...</td>\n",
       "      <td>[The law never goes after rappers who constant...</td>\n",
       "      <td>[0.7444615364, 0.8250694871, 0.8399130106, 0.8...</td>\n",
       "      <td>rand</td>\n",
       "      <td>NaN</td>\n",
       "      <td>41.0</td>\n",
       "    </tr>\n",
       "  </tbody>\n",
       "</table>\n",
       "<p>3008 rows × 6 columns</p>\n",
       "</div>"
      ],
      "text/plain": [
       "                                                    inp  \\\n",
       "0     Why are different tiers (regular < mid < premi...   \n",
       "1     Why are different tiers (regular < mid < premi...   \n",
       "2     Stars and VisibilityWhy do stars in the night'...   \n",
       "3     Stars and VisibilityWhy do stars in the night'...   \n",
       "4     How do we know all the money the government is...   \n",
       "...                                                 ...   \n",
       "3003  Can't remember what it's calledWhen people loo...   \n",
       "3004  Other than making room for other patients, why...   \n",
       "3005  Other than making room for other patients, why...   \n",
       "3006  Why does the law never go after rappers who co...   \n",
       "3007  Why does the law never go after rappers who co...   \n",
       "\n",
       "                                                   hyps  \\\n",
       "0     [Is this a practical or theoretical issue? I h...   \n",
       "1     [The fact that the gas is a tier, and that the...   \n",
       "2     [The ephemeris of a star can provide some info...   \n",
       "3     [The eponymous dark-adapted eye (DAE) may seem...   \n",
       "4     [JPMorgan Chase’s record $13 billion mortgage ...   \n",
       "...                                                 ...   \n",
       "3003  [It's called \"groupthink\". It's when you're un...   \n",
       "3004  [Many dentists would rather see each patient a...   \n",
       "3005  [As the patient, you probably feel that a visi...   \n",
       "3006  [The law only wants to deal with actual crimin...   \n",
       "3007  [The law never goes after rappers who constant...   \n",
       "\n",
       "                                                   scos    ver  pref  prefix  \n",
       "0     [0.3256509602, 0.9307213426000001, 0.765635073...  first   0.0     NaN  \n",
       "1     [0.9758809805, 0.9251629710000001, 0.967072069...   rand   NaN    53.0  \n",
       "2     [0.7836418152, 0.7945138216000001, 0.758988022...  first   0.0     NaN  \n",
       "3     [0.9133156538, 0.7046486139, 0.981576561900000...   rand   NaN     5.0  \n",
       "4     [0.721021533, 0.7394787073, 0.8426040411, 0.67...  first   0.0     NaN  \n",
       "...                                                 ...    ...   ...     ...  \n",
       "3003  [0.9565895796, 0.9091305733, 0.9350448847, 0.8...   rand   NaN     4.0  \n",
       "3004  [0.7729679346, 0.6318202615, 0.550170838800000...  first   0.0     NaN  \n",
       "3005  [0.8107921481, 0.7608217001, 0.9219293594, 0.8...   rand   NaN    33.0  \n",
       "3006  [0.8216223121, 0.8157137632, 0.80394274, 0.856...  first   0.0     NaN  \n",
       "3007  [0.7444615364, 0.8250694871, 0.8399130106, 0.8...   rand   NaN    41.0  \n",
       "\n",
       "[3008 rows x 6 columns]"
      ]
     },
     "execution_count": 13,
     "metadata": {},
     "output_type": "execute_result"
    }
   ],
   "source": [
    "data"
   ]
  },
  {
   "cell_type": "code",
   "execution_count": 10,
   "id": "64e755d8-d621-4074-afc7-51cce840bced",
   "metadata": {},
   "outputs": [
    {
     "data": {
      "text/plain": [
       "12032"
      ]
     },
     "execution_count": 10,
     "metadata": {},
     "output_type": "execute_result"
    }
   ],
   "source": [
    "len(ahyps)"
   ]
  },
  {
   "cell_type": "code",
   "execution_count": 12,
   "id": "17d525f1-34e7-49d8-a1af-24ce2a83a661",
   "metadata": {},
   "outputs": [
    {
     "data": {
      "text/plain": [
       "(array([  15.,   40.,  123.,  290.,  564.,  960., 1660., 2864., 3623.,\n",
       "        1893.]),\n",
       " array([0.11273485, 0.20110694, 0.28947902, 0.3778511 , 0.46622318,\n",
       "        0.55459526, 0.64296734, 0.73133942, 0.81971151, 0.90808359,\n",
       "        0.99645567]),\n",
       " <BarContainer object of 10 artists>)"
      ]
     },
     "execution_count": 12,
     "metadata": {},
     "output_type": "execute_result"
    },
    {
     "data": {
      "image/png": "[encoded data removed]",
      "text/plain": [
       "<Figure size 640x480 with 1 Axes>"
      ]
     },
     "metadata": {},
     "output_type": "display_data"
    }
   ],
   "source": [
    "plt.hist(ascos)"
   ]
  },
  {
   "cell_type": "code",
   "execution_count": null,
   "id": "c60dae8d-93e6-4250-9687-57644bd6be5c",
   "metadata": {},
   "outputs": [],
   "source": []
  }
 ],
 "metadata": {
  "kernelspec": {
   "display_name": "Python 3 (ipykernel)",
   "language": "python",
   "name": "python3"
  },
  "language_info": {
   "codemirror_mode": {
    "name": "ipython",
    "version": 3
   },
   "file_extension": ".py",
   "mimetype": "text/x-python",
   "name": "python",
   "nbconvert_exporter": "python",
   "pygments_lexer": "ipython3",
   "version": "3.9.16"
  }
 },
 "nbformat": 4,
 "nbformat_minor": 5
}
