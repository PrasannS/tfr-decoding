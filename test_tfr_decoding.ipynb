{
 "cells": [
  {
   "cell_type": "code",
   "execution_count": 1,
   "id": "64670c90-85bc-4136-8c3c-7ac6f01ef2eb",
   "metadata": {},
   "outputs": [
    {
     "name": "stderr",
     "output_type": "stream",
     "text": [
      "2023-02-06 09:41:18.712997: W tensorflow/stream_executor/platform/default/dso_loader.cc:64] Could not load dynamic library 'libcudart.so.11.0'; dlerror: libcudart.so.11.0: cannot open shared object file: No such file or directory\n",
      "2023-02-06 09:41:18.713028: I tensorflow/stream_executor/cuda/cudart_stub.cc:29] Ignore above cudart dlerror if you do not have a GPU set up on your machine.\n"
     ]
    }
   ],
   "source": [
    "from transformers import AutoModelForSeq2SeqLM, AutoTokenizer\n",
    "from src.models.models import load_from_checkpoint as lfc\n",
    "from src.utils.score_utils import metrics_mapping\n",
    "from src.utils.generation_utils import load_model, all_tfr_decode\n",
    "import matplotlib.pyplot as plt\n",
    "\n",
    "import logging\n",
    "import pandas as pd\n",
    "import torch\n",
    "import time"
   ]
  },
  {
   "cell_type": "code",
   "execution_count": 2,
   "id": "1844de5b-7cb2-4c66-a346-9832f5763bfd",
   "metadata": {
    "tags": []
   },
   "outputs": [
    {
     "name": "stderr",
     "output_type": "stream",
     "text": [
      "Some weights of the model checkpoint at facebook/bart-base were not used when initializing CustomBartModel: ['final_logits_bias']\n",
      "- This IS expected if you are initializing CustomBartModel from the checkpoint of a model trained on another task or with another architecture (e.g. initializing a BertForSequenceClassification model from a BertForPreTraining model).\n",
      "- This IS NOT expected if you are initializing CustomBartModel from the checkpoint of a model that you expect to be exactly identical (initializing a BertForSequenceClassification model from a BertForSequenceClassification model).\n",
      "Encoder model frozen.\n",
      "Loading weights from /mnt/data1/prasann/latticegen/lattice-generation/COMET/lightning_logs/version_57/checkpoints/epoch=1-step=50000.ckpt.\n"
     ]
    },
    {
     "name": "stdout",
     "output_type": "stream",
     "text": [
      "using correct weight adjustments\n",
      "using model  bart-base\n",
      "FREEZE BART SHARED EMBEDS\n",
      "freeze embeds\n"
     ]
    }
   ],
   "source": [
    "setting = \"table2text\"\n",
    "# get generation model with monkey patching based on setting\n",
    "mod, tok, dset, dec_pref = load_model(setting, True, \"cuda:2\", False)\n",
    "dset = list(dset)"
   ]
  },
  {
   "cell_type": "code",
   "execution_count": 3,
   "id": "71e8240b-4297-4112-8360-50cc2b8fc706",
   "metadata": {},
   "outputs": [],
   "source": [
    "def weightdecay(numtoks):\n",
    "    return 5/numtoks\n",
    "\n",
    "def onlytfr(numtoks):\n",
    "    return 0\n",
    "\n",
    "#allcands = pd.read_csv(\"tmp.csv\", index_col=0)\n",
    "def rer_met(rer, tgt, df):\n",
    "    N=1\n",
    "    fsort = df.sort_values(by=['ref', rer], ascending=[True, False]).groupby('ref', as_index=False).nth[:N]\n",
    "    return fsort[tgt].mean()"
   ]
  },
  {
   "cell_type": "code",
   "execution_count": 4,
   "id": "bbc5af27-ec64-4e33-ab72-d4a7ed595572",
   "metadata": {},
   "outputs": [],
   "source": [
    "# get results in a df for a given configuration \n",
    "def test_config(mod, tok, data, config):\n",
    "    allcands = all_tfr_decode(mod, tok, data, config)\n",
    "    allcands['modsco'] = [float(f) for f in allcands['modsco']]\n",
    "    metrics_mapping(\"pqe\", allcands)\n",
    "    metrics_mapping(\"parent\",allcands)\n",
    "    return allcands"
   ]
  },
  {
   "cell_type": "code",
   "execution_count": 5,
   "id": "11641fdb-132c-4670-bc55-3a5d6bc28c17",
   "metadata": {},
   "outputs": [
    {
     "data": {
      "text/plain": [
       "931"
      ]
     },
     "execution_count": 5,
     "metadata": {},
     "output_type": "execute_result"
    }
   ],
   "source": [
    "len(dset)"
   ]
  },
  {
   "cell_type": "code",
   "execution_count": 13,
   "id": "b3f32c02-709a-4d0a-8a13-a137520b3a39",
   "metadata": {},
   "outputs": [
    {
     "name": "stdout",
     "output_type": "stream",
     "text": [
      "Using TFR Rerank Beam Search\n",
      "Using TFR Rerank Beam Search\n",
      "Using TFR Rerank Beam Search\n",
      "Using TFR Rerank Beam Search\n",
      "Using TFR Rerank Beam Search\n",
      "Using TFR Rerank Beam Search\n",
      "Using TFR Rerank Beam Search\n",
      "Using TFR Rerank Beam Search\n",
      "Using TFR Rerank Beam Search\n",
      "Using TFR Rerank Beam Search\n",
      "Using TFR Rerank Beam Search\n",
      "Using TFR Rerank Beam Search\n",
      "Using TFR Rerank Beam Search\n",
      "Using TFR Rerank Beam Search\n",
      "Using TFR Rerank Beam Search\n",
      "Using TFR Rerank Beam Search\n",
      "Using TFR Rerank Beam Search\n",
      "Using TFR Rerank Beam Search\n",
      "Using TFR Rerank Beam Search\n",
      "20\n",
      "Using TFR Rerank Beam Search\n",
      "Using TFR Rerank Beam Search\n",
      "Using TFR Rerank Beam Search\n",
      "Using TFR Rerank Beam Search\n",
      "Using TFR Rerank Beam Search\n",
      "Using TFR Rerank Beam Search\n",
      "Using TFR Rerank Beam Search\n",
      "Using TFR Rerank Beam Search\n",
      "Using TFR Rerank Beam Search\n",
      "Using TFR Rerank Beam Search\n",
      "Using TFR Rerank Beam Search\n",
      "Using TFR Rerank Beam Search\n",
      "Using TFR Rerank Beam Search\n",
      "Using TFR Rerank Beam Search\n",
      "Using TFR Rerank Beam Search\n",
      "Using TFR Rerank Beam Search\n",
      "Using TFR Rerank Beam Search\n",
      "Using TFR Rerank Beam Search\n",
      "Using TFR Rerank Beam Search\n",
      "Using TFR Rerank Beam Search\n",
      "40\n",
      "Using TFR Rerank Beam Search\n",
      "Using TFR Rerank Beam Search\n",
      "Using TFR Rerank Beam Search\n",
      "Using TFR Rerank Beam Search\n",
      "Using TFR Rerank Beam Search\n",
      "Using TFR Rerank Beam Search\n",
      "Using TFR Rerank Beam Search\n",
      "Using TFR Rerank Beam Search\n",
      "Using TFR Rerank Beam Search\n",
      "Using TFR Rerank Beam Search\n",
      "Using TFR Rerank Beam Search\n",
      "Using TFR Rerank Beam Search\n",
      "Using TFR Rerank Beam Search\n",
      "Using TFR Rerank Beam Search\n",
      "Using TFR Rerank Beam Search\n",
      "Using TFR Rerank Beam Search\n",
      "Using TFR Rerank Beam Search\n",
      "Using TFR Rerank Beam Search\n",
      "Using TFR Rerank Beam Search\n",
      "Using TFR Rerank Beam Search\n",
      "60\n",
      "Using TFR Rerank Beam Search\n",
      "Using TFR Rerank Beam Search\n",
      "Using TFR Rerank Beam Search\n",
      "Using TFR Rerank Beam Search\n",
      "Using TFR Rerank Beam Search\n",
      "Using TFR Rerank Beam Search\n",
      "Using TFR Rerank Beam Search\n",
      "Using TFR Rerank Beam Search\n",
      "Using TFR Rerank Beam Search\n",
      "Using TFR Rerank Beam Search\n",
      "Using TFR Rerank Beam Search\n",
      "Using TFR Rerank Beam Search\n",
      "Using TFR Rerank Beam Search\n",
      "Using TFR Rerank Beam Search\n",
      "Using TFR Rerank Beam Search\n",
      "Using TFR Rerank Beam Search\n",
      "Using TFR Rerank Beam Search\n",
      "Using TFR Rerank Beam Search\n",
      "Using TFR Rerank Beam Search\n",
      "Using TFR Rerank Beam Search\n",
      "80\n",
      "Using TFR Rerank Beam Search\n",
      "Using TFR Rerank Beam Search\n",
      "Using TFR Rerank Beam Search\n",
      "Using TFR Rerank Beam Search\n",
      "Using TFR Rerank Beam Search\n",
      "Using TFR Rerank Beam Search\n",
      "Using TFR Rerank Beam Search\n",
      "Using TFR Rerank Beam Search\n",
      "Using TFR Rerank Beam Search\n",
      "Using TFR Rerank Beam Search\n",
      "Using TFR Rerank Beam Search\n",
      "Using TFR Rerank Beam Search\n",
      "Using TFR Rerank Beam Search\n",
      "Using TFR Rerank Beam Search\n",
      "Using TFR Rerank Beam Search\n",
      "Using TFR Rerank Beam Search\n",
      "Using TFR Rerank Beam Search\n",
      "Using TFR Rerank Beam Search\n",
      "Using TFR Rerank Beam Search\n",
      "Using TFR Rerank Beam Search\n",
      "100\n",
      "Using TFR Rerank Beam Search\n",
      "Time taken :  63.46533393859863\n"
     ]
    },
    {
     "name": "stderr",
     "output_type": "stream",
     "text": [
      "Some weights of the model checkpoint at facebook/bart-base were not used when initializing CustomBartModel: ['final_logits_bias']\n",
      "- This IS expected if you are initializing CustomBartModel from the checkpoint of a model trained on another task or with another architecture (e.g. initializing a BertForSequenceClassification model from a BertForPreTraining model).\n",
      "- This IS NOT expected if you are initializing CustomBartModel from the checkpoint of a model that you expect to be exactly identical (initializing a BertForSequenceClassification model from a BertForSequenceClassification model).\n",
      "Encoder model frozen.\n",
      "Loading weights from /mnt/data1/prasann/latticegen/lattice-generation/COMET/lightning_logs/version_57/checkpoints/epoch=1-step=50000.ckpt.\n"
     ]
    },
    {
     "name": "stdout",
     "output_type": "stream",
     "text": [
      "using correct weight adjustments\n",
      "using model  bart-base\n",
      "FREEZE BART SHARED EMBEDS\n",
      "freeze embeds\n",
      "0.0 %\n",
      "3.2 %\n",
      "6.4 %\n",
      "9.6 %\n",
      "12.8 %\n",
      "16.0 %\n",
      "19.2 %\n",
      "22.400000000000002 %\n",
      "25.6 %\n",
      "28.799999999999997 %\n",
      "32.0 %\n",
      "35.199999999999996 %\n",
      "38.4 %\n",
      "41.6 %\n",
      "44.800000000000004 %\n",
      "48.0 %\n",
      "51.2 %\n",
      "54.400000000000006 %\n",
      "57.599999999999994 %\n",
      "60.8 %\n",
      "64.0 %\n",
      "67.2 %\n",
      "70.39999999999999 %\n",
      "73.6 %\n",
      "76.8 %\n",
      "80.0 %\n",
      "83.2 %\n",
      "86.4 %\n",
      "89.60000000000001 %\n",
      "92.80000000000001 %\n",
      "96.0 %\n",
      "99.2 %\n",
      "TOOK TIME  53.04\n",
      "references loaded\n",
      "0\n",
      "1000\n",
      "0\n",
      "1000\n",
      "0\n",
      "1000\n",
      "references processed\n",
      "0\n",
      "1000\n",
      "2000\n",
      "3000\n",
      "4000\n",
      "hyps processed\n",
      "<module 'tqdm' from '/home/prasann/miniconda3/envs/latclone/lib/python3.8/site-packages/tqdm/__init__.py'>\n",
      "Using 4 processes, starting now\n",
      "huggingface/tokenizers: The current process just got forked, after parallelism has already been used. Disabling parallelism to avoid deadlocks...\n",
      "To disable this warning, you can either:\n",
      "\t- Avoid using `tokenizers` before the fork if possible\n",
      "\t- Explicitly set the environment variable TOKENIZERS_PARALLELISM=(true | false)\n",
      "huggingface/tokenizers: The current process just got forked, after parallelism has already been used. Disabling parallelism to avoid deadlocks...\n",
      "To disable this warning, you can either:\n",
      "\t- Avoid using `tokenizers` before the fork if possible\n",
      "\t- Explicitly set the environment variable TOKENIZERS_PARALLELISM=(true | false)\n",
      "huggingface/tokenizers: The current process just got forked, after parallelism has already been used. Disabling parallelism to avoid deadlocks...\n",
      "To disable this warning, you can either:\n",
      "\t- Avoid using `tokenizers` before the fork if possible\n",
      "\t- Explicitly set the environment variable TOKENIZERS_PARALLELISM=(true | false)\n",
      "huggingface/tokenizers: The current process just got forked, after parallelism has already been used. Disabling parallelism to avoid deadlocks...\n",
      "To disable this warning, you can either:\n",
      "\t- Avoid using `tokenizers` before the fork if possible\n",
      "\t- Explicitly set the environment variable TOKENIZERS_PARALLELISM=(true | false)\n"
     ]
    },
    {
     "name": "stderr",
     "output_type": "stream",
     "text": [
      "Computing PARENT: 100%|██████████████████████████████████████████████████████| 5000/5000 [00:02<00:00, 1795.07it/s]\n"
     ]
    }
   ],
   "source": [
    "allcands = test_config(mod, tok, dset[:100], {\n",
    "        \"max_len\":90,\n",
    "        \"device\":'cuda:2',\n",
    "        \"beam_size\":50,\n",
    "        \"dec_prefix\":dec_pref,\n",
    "        \"tfr_interv\":6,\n",
    "        \"tfr_beams\":13,\n",
    "        \"weightfunc\":onlytfr\n",
    "})"
   ]
  },
  {
   "cell_type": "code",
   "execution_count": 15,
   "id": "eeccf537-ae73-4fc2-a6a9-5ecd6803c90c",
   "metadata": {},
   "outputs": [
    {
     "data": {
      "text/plain": [
       "0.6763291611468527"
      ]
     },
     "execution_count": 15,
     "metadata": {},
     "output_type": "execute_result"
    }
   ],
   "source": [
    "rer_met(\"pqe\",\"precision\", allcands)"
   ]
  },
  {
   "cell_type": "code",
   "execution_count": 16,
   "id": "33d94f45-1ab9-46a6-94d8-44208b1e9c70",
   "metadata": {},
   "outputs": [
    {
     "data": {
      "text/plain": [
       "0.6018812601044835"
      ]
     },
     "execution_count": 16,
     "metadata": {},
     "output_type": "execute_result"
    }
   ],
   "source": [
    "allcands['precision'].mean()"
   ]
  },
  {
   "cell_type": "code",
   "execution_count": 9,
   "id": "ea3e867d-a189-4f5a-bf99-d51eb34bda96",
   "metadata": {},
   "outputs": [],
   "source": [
    "allcands.to_csv(\"output/tfr_cands/t2t_I6_R13_1000.csv\")"
   ]
  },
  {
   "cell_type": "code",
   "execution_count": 81,
   "id": "897fed8f-feb0-4a45-9dc3-0a78fe138bf8",
   "metadata": {},
   "outputs": [],
   "source": [
    "allcands['weighteoutput/= allcands['modsco']+allcands['pqe']"
   ]
  },
  {
   "cell_type": "code",
   "execution_count": 82,
   "id": "5c131eb8-964b-4f0a-bf12-511c1ac3e06d",
   "metadata": {},
   "outputs": [
    {
     "data": {
      "image/png": "[encoded data removed]",
      "text/plain": [
       "<Figure size 864x648 with 4 Axes>"
      ]
     },
     "metadata": {
      "needs_background": "light"
     },
     "output_type": "display_data"
    }
   ],
   "source": [
    "figure, axis = plt.subplots(2, 2, figsize=(12,9))\n",
    "axis[0, 0].hist(allcands['modsco'])\n",
    "axis[0, 0].title.set_text(\"Model Score Hist\")\n",
    "axis[0, 1].scatter(allcands['pqe'], allcands['precision'])\n",
    "axis[0, 1].title.set_text(\"PQE (x-axis) vs PARENT (y-axis)\")\n",
    "axis[1, 0].scatter(allcands['modsco'], allcands['precision'])\n",
    "axis[1, 0].title.set_text(\"MSCO (x-axis) vs PARENT (y-axis)\")\n",
    "axis[1, 1].hist(allcands['precision'])\n",
    "axis[1, 1].title.set_text(\"PARENT Hist\")\n",
    "plt.show()"
   ]
  },
  {
   "cell_type": "code",
   "execution_count": 85,
   "id": "edc5ce9a-89c5-439f-a24a-67c732f122cc",
   "metadata": {},
   "outputs": [
    {
     "data": {
      "text/plain": [
       "0.7840100457254089"
      ]
     },
     "execution_count": 85,
     "metadata": {},
     "output_type": "execute_result"
    }
   ],
   "source": [
    "rer_met(\"pqe\", \"precision\", allcands)"
   ]
  },
  {
   "cell_type": "code",
   "execution_count": null,
   "id": "f7df6f3d-ee8a-4b9a-9caa-1c20f0b5976f",
   "metadata": {},
   "outputs": [],
   "source": [
    "# b12 I5 R1 - 12 unique nouns\n",
    "# b12 I2 R1 - 17 unique nouns\n",
    "# b12 I2 R2 - 14.9 unique nouns\n",
    "# b12 I2 R3 - 12.2 unique nouns\n",
    "# b12 I1 R1 - 30.1 unique nouns (~5x slower though pre-optimization)\n",
    "# b50 I2 R2 - 23.9 unique nouns (~6x slower)"
   ]
  },
  {
   "cell_type": "code",
   "execution_count": 31,
   "id": "fceeaf41-6544-427f-a83f-c1c9010b77c7",
   "metadata": {},
   "outputs": [
    {
     "data": {
      "text/plain": [
       "\"Robert Louis Stevenson and Charles Dickens fans have had a Christmas present sent from China - footage of Joseph Poor Joe's death on film.\""
      ]
     },
     "execution_count": 31,
     "metadata": {},
     "output_type": "execute_result"
    }
   ],
   "source": [
    "allcands['hyp'][200]"
   ]
  },
  {
   "cell_type": "code",
   "execution_count": 10,
   "id": "758b4fe3-f140-41f4-b768-66adf848204e",
   "metadata": {},
   "outputs": [],
   "source": [
    "alldf = []\n",
    "for i in range(len(dset)):\n",
    "    for c in allcands[i]:\n",
    "        alldf.append({\n",
    "            'ref':dset[i][1],\n",
    "            'hyp':c\n",
    "        })"
   ]
  },
  {
   "cell_type": "code",
   "execution_count": 11,
   "id": "11b513e8-d60f-44a6-ae70-9f3640996ba5",
   "metadata": {},
   "outputs": [],
   "source": [
    "alldf = pd.DataFrame(alldf)"
   ]
  },
  {
   "cell_type": "code",
   "execution_count": 12,
   "id": "390586e2-4134-4202-aa44-d4f54b6cf7a8",
   "metadata": {},
   "outputs": [],
   "source": [
    "#alldf.to_csv(\"output/tfr_cands/b12_f5_r1.csv\")"
   ]
  },
  {
   "cell_type": "code",
   "execution_count": 4,
   "id": "b3298608-10e6-4a84-b2ae-0cc1ba233b9c",
   "metadata": {},
   "outputs": [],
   "source": [
    "alldf= pd.read_csv(\"output/tfr_cands/b12_f5_r1.csv\", index_col=0)"
   ]
  },
  {
   "cell_type": "code",
   "execution_count": 5,
   "id": "1d373bf8-a7b7-4199-8665-b63c6ac82396",
   "metadata": {},
   "outputs": [
    {
     "name": "stderr",
     "output_type": "stream",
     "text": [
      "Some weights of the model checkpoint at xlm-roberta-large were not used when initializing XLMRobertaModel: ['lm_head.layer_norm.weight', 'lm_head.bias', 'lm_head.dense.bias', 'roberta.pooler.dense.bias', 'roberta.pooler.dense.weight', 'lm_head.layer_norm.bias', 'lm_head.dense.weight', 'lm_head.decoder.weight']\n",
      "- This IS expected if you are initializing XLMRobertaModel from the checkpoint of a model trained on another task or with another architecture (e.g. initializing a BertForSequenceClassification model from a BertForPreTraining model).\n",
      "- This IS NOT expected if you are initializing XLMRobertaModel from the checkpoint of a model that you expect to be exactly identical (initializing a BertForSequenceClassification model from a BertForSequenceClassification model).\n",
      "Encoder model frozen.\n",
      "Loading weights from /mnt/data1/prasann/latticegen/lattice-generation/COMET/lightning_logs/version_44/checkpoints/epoch=9-step=40000.ckpt.\n"
     ]
    },
    {
     "name": "stdout",
     "output_type": "stream",
     "text": [
      "using model  xlm-roberta-large\n",
      "FREEZE BART SHARED EMBEDS\n",
      "freeze embeds\n",
      "0.0 %\n",
      "8.88888888888889 %\n",
      "17.77777777777778 %\n",
      "26.666666666666668 %\n",
      "35.55555555555556 %\n",
      "44.44444444444444 %\n",
      "53.333333333333336 %\n",
      "62.22222222222222 %\n",
      "71.11111111111111 %\n",
      "80.0 %\n",
      "88.88888888888889 %\n",
      "97.77777777777777 %\n",
      "TOOK TIME  55.81\n"
     ]
    }
   ],
   "source": [
    "metrics_mapping(\"utnoun\", alldf)"
   ]
  },
  {
   "cell_type": "code",
   "execution_count": 8,
   "id": "283fd8b8-9ce3-4f61-aa4f-ee5bdcec8e9c",
   "metadata": {},
   "outputs": [
    {
     "data": {
      "text/plain": [
       "9.902916666666666"
      ]
     },
     "execution_count": 8,
     "metadata": {},
     "output_type": "execute_result"
    }
   ],
   "source": [
    "alldf['unique_nouns'].mean()"
   ]
  },
  {
   "cell_type": "code",
   "execution_count": null,
   "id": "38683e07-d231-46a7-9bd8-c2a2ad359df7",
   "metadata": {},
   "outputs": [],
   "source": []
  },
  {
   "cell_type": "code",
   "execution_count": 11,
   "id": "fdfa01bf-5daf-483d-bb0a-3cf879d24361",
   "metadata": {},
   "outputs": [
    {
     "data": {
      "text/plain": [
       "1.17603822718064"
      ]
     },
     "execution_count": 11,
     "metadata": {},
     "output_type": "execute_result"
    }
   ],
   "source": [
    "rer_met(\"utnoun\", \"utnoun\", alldf)"
   ]
  },
  {
   "cell_type": "code",
   "execution_count": 21,
   "id": "154c9980-bed6-42b4-944a-f9580daf54ca",
   "metadata": {},
   "outputs": [
    {
     "name": "stdout",
     "output_type": "stream",
     "text": [
      "Using TFR Rerank Beam Search\n"
     ]
    }
   ],
   "source": [
    "ind = 0\n",
    "source, ref = dset[ind]\n",
    "\n",
    "baseline = tfr_decode_ind(mod, tok, source, {\n",
    "    \"max_len\":90,\n",
    "    \"device\":'cuda:2',\n",
    "    \"beam_size\":12,\n",
    "    \"dec_prefix\":dec_pref,\n",
    "    \"tfr_interv\":3,\n",
    "    \"tfr_beams\":1\n",
    "})"
   ]
  },
  {
   "cell_type": "code",
   "execution_count": 22,
   "id": "57cbfa87-d787-4994-8768-f009d1fbb2db",
   "metadata": {},
   "outputs": [
    {
     "data": {
      "text/plain": [
       "[1.2420637607574463,\n",
       " 1.2428767681121826,\n",
       " 1.5245153903961182,\n",
       " 1.2357728481292725,\n",
       " 1.2348281145095825,\n",
       " 1.2429105043411255,\n",
       " 1.24106764793396,\n",
       " 1.237522840499878,\n",
       " 1.7258000373840332,\n",
       " 1.4346632957458496,\n",
       " 2.02728271484375,\n",
       " 1.5319263935089111,\n",
       " 1.5341334342956543,\n",
       " 1.958558201789856,\n",
       " 2.0257554054260254,\n",
       " 0.9216064214706421,\n",
       " 1.943184733390808,\n",
       " 1.935782551765442,\n",
       " 1.5066735744476318,\n",
       " 1.70225191116333,\n",
       " 1.9389169216156006,\n",
       " 1.7082898616790771,\n",
       " 1.8339855670928955,\n",
       " 1.9897265434265137,\n",
       " 1.7195689678192139,\n",
       " 1.736982822418213,\n",
       " 1.8327267169952393,\n",
       " 1.5383846759796143,\n",
       " 1.7082898616790771,\n",
       " 1.8403806686401367,\n",
       " 1.9211424589157104,\n",
       " 1.8606631755828857,\n",
       " 1.7180145978927612,\n",
       " 1.9858286380767822,\n",
       " 1.922081708908081,\n",
       " 1.9935083389282227,\n",
       " 1.7258000373840332,\n",
       " 1.7258050441741943,\n",
       " 2.032583236694336,\n",
       " 1.9496103525161743,\n",
       " 1.7324702739715576,\n",
       " 2.017495632171631,\n",
       " 2.000446319580078,\n",
       " 1.9897929430007935,\n",
       " 2.0217442512512207,\n",
       " 1.995353102684021,\n",
       " 2.0008511543273926,\n",
       " 1.9992010593414307,\n",
       " 1.9907348155975342,\n",
       " 2.022731304168701]"
      ]
     },
     "execution_count": 22,
     "metadata": {},
     "output_type": "execute_result"
    }
   ],
   "source": [
    "hypsco_dist(\"noun\", baseline, mod, \"cuda:2\")"
   ]
  },
  {
   "cell_type": "code",
   "execution_count": 23,
   "id": "92b1feb9-7dd5-46d9-94b3-53844e8cb107",
   "metadata": {},
   "outputs": [
    {
     "data": {
      "text/plain": [
       "['Security forces in Somali capital Mog Somalia say their forces have killed all militants in a gun and explosion attack at Beach View restaurant.',\n",
       " 'Security forces in Somali capital Mog Somalia say their forces have killed all militants in a gun and explosion attack at Beach View Restaurant.',\n",
       " 'Security forces in Somali capital Mog Somalia say their forces have killed all militants in a gun and explosion attack at Beach View seafood restaurant in the harbour area.',\n",
       " 'Security forces in Somali capital Mog Somalia say their forces have killed all militants in a gun and explosion attack at Beach View restaurants.',\n",
       " 'Security forces in Somali capital Mog Somalia say their forces have killed all militants in a gun and explosion attack at Beach View hotel.',\n",
       " 'Security forces in Somali capital Mog Somalia say their forces have killed all militants in a gun and explosion attack at Beach View Hotel.',\n",
       " 'Security forces in Somali capital Mog Somalia say their forces have killed all militants in a gun and explosion attack at Beach View Grill.',\n",
       " 'Security forces in Somali capital Mog Somalia say their forces have killed all militants in a gun and explosion attack at Beach View cafe.',\n",
       " 'Security forces in Somali capital Mog Somalia say their forces have killed all militants in a gun and explosion attack at Beach View seafood restaurant in the harbour area on Thursday night.',\n",
       " 'Security forces in Somali capital Mog Somalia say their forces have killed all militants in a gun and explosion attack at Beach View seafood restaurant in town.',\n",
       " 'Security forces in Somali capital Mog Somalia say their forces have killed all militants in a gun and explosion attack at Beach View seafood restaurant in the harbour area on Thursday night, state media report.',\n",
       " 'Security forces in Somali capital Mog Somalia say their forces have killed all militants in a gun and explosion attack at Beach View seafood restaurant in the harbour area there.',\n",
       " 'Security forces in Somali capital Mog Somalia say their forces have killed all militants in a gun and explosion attack at Beach View seafood restaurant in the harbour area nearby.',\n",
       " 'Security forces in Somali capital Mog Somalia say their forces have killed all militants in a gun and explosion attack at Beach View seafood restaurant in the harbour area on Thursday night, state media say.',\n",
       " 'Security forces in Somali capital Mog Somalia say their forces have killed all militants in a gun and explosion attack at Beach View seafood restaurant in the harbour area on Thursday night, state media reports.',\n",
       " 'Security forces in Somali capital Mog Somalia say their forces have killed all militants in a gun and explosion attack.',\n",
       " 'Security forces in Somali capital Mog Somalia say their forces have killed all militants in a gun and explosion attack at Beach View seafood restaurant in the harbour area on Thursday night, state media reported.',\n",
       " 'Security forces in Somali capital Mog Somalia say their forces have killed all militants in a gun and explosion attack at Beach View seafood restaurant in the harbour area on Thursday night, state media said.',\n",
       " 'Security forces in Somali capital Mog Somalia say their forces have killed all militants in a gun and explosion attack at Beach View seafood restaurant in the harbour area,.',\n",
       " 'Security forces in Somali capital Mog Somalia say their forces have killed all militants in a gun and explosion attack at Beach View seafood restaurant in the harbour area on Thursday night..',\n",
       " 'Security forces in Somali capital Mog Somalia say their forces have killed all militants in a gun and explosion attack at Beach View seafood restaurant in the harbour area on Thursday night, state media says.',\n",
       " 'Security forces in Somali capital Mog Somalia say their forces have killed all militants in a gun and explosion attack at Beach View seafood restaurant in the harbour area on Thursday night,.',\n",
       " 'Security forces in Somali capital Mog Somalia say their forces have killed all militants in a gun and explosion attack at Beach View seafood restaurant in the harbour area on Thursday night night.',\n",
       " 'Security forces in Somali capital Mog Somalia say their forces have killed all militants in a gun and explosion attack at Beach View seafood restaurant in the harbour area on Thursday night, state media reporting.',\n",
       " 'Security forces in Somali capital Mog Somalia say their forces have killed all militants in a gun and explosion attack at Beach View seafood restaurant in the harbour area on Thursday night:.',\n",
       " 'Security forces in Somali capital Mog Somalia say their forces have killed all militants in a gun and explosion attack at Beach View seafood restaurant in the harbour area on Thursday night. and',\n",
       " 'Security forces in Somali capital Mog Somalia say their forces have killed all militants in a gun and explosion attack at Beach View seafood restaurant in the harbour area on Thursday night evening.',\n",
       " 'Security forces in Somali capital Mog Somalia say their forces have killed all militants in a gun and explosion attack at Beach View seafood restaurant in the harbour area',\n",
       " 'Security forces in Somali capital Mog Somalia say their forces have killed all militants in a gun and explosion attack at Beach View seafood restaurant in the harbour area on Thursday night,.',\n",
       " 'Security forces in Somali capital Mog Somalia say their forces have killed all militants in a gun and explosion attack at Beach View seafood restaurant in the harbour area on Thursday night. proteins',\n",
       " 'Security forces in Somali capital Mog Somalia say their forces have killed all militants in a gun and explosion attack at Beach View seafood restaurant in the harbour area on Thursday night, state media.',\n",
       " 'Security forces in Somali capital Mog Somalia say their forces have killed all militants in a gun and explosion attack at Beach View seafood restaurant in the harbour area on Thursday night, state mediareported.',\n",
       " 'Security forces in Somali capital Mog Somalia say their forces have killed all militants in a gun and explosion attack at Beach View seafood restaurant in the harbour area on Thursday night).',\n",
       " 'Security forces in Somali capital Mog Somalia say their forces have killed all militants in a gun and explosion attack at Beach View seafood restaurant in the harbour area on Thursday night, state media describe.',\n",
       " 'Security forces in Somali capital Mog Somalia say their forces have killed all militants in a gun and explosion attack at Beach View seafood restaurant in the harbour area on Thursday night, state mediareport.',\n",
       " 'Security forces in Somali capital Mog Somalia say their forces have killed all militants in a gun and explosion attack at Beach View seafood restaurant in the harbour area on Thursday night, state media relay.',\n",
       " 'Security forces in Somali capital Mog Somalia say their forces have killed all militants in a gun and explosion attack at Beach View seafood restaurant in the harbour area on Thursday night.',\n",
       " 'Security forces in Somali capital Mog Somalia say their forces have killed all militants in a gun and explosion attack at Beach View seafood restaurant in the harbour area on Thursday night.\"',\n",
       " 'Security forces in Somali capital Mog Somalia say their forces have killed all militants in a gun and explosion attack at Beach View seafood restaurant in the harbour area on Thursday night, state media Report.',\n",
       " 'Security forces in Somali capital Mog Somalia say their forces have killed all militants in a gun and explosion attack at Beach View seafood restaurant in the harbour area on Thursday night, state media state.',\n",
       " 'Security forces in Somali capital Mog Somalia say their forces have killed all militants in a gun and explosion attack at Beach View seafood restaurant in the harbour area on Thursday night!',\n",
       " 'Security forces in Somali capital Mog Somalia say their forces have killed all militants in a gun and explosion attack at Beach View seafood restaurant in the harbour area on Thursday night, state media publish.',\n",
       " 'Security forces in Somali capital Mog Somalia say their forces have killed all militants in a gun and explosion attack at Beach View seafood restaurant in the harbour area on Thursday night, state media write.',\n",
       " 'Security forces in Somali capital Mog Somalia say their forces have killed all militants in a gun and explosion attack at Beach View seafood restaurant in the harbour area on Thursday night, state media add.',\n",
       " 'Security forces in Somali capital Mog Somalia say their forces have killed all militants in a gun and explosion attack at Beach View seafood restaurant in the harbour area on Thursday night, state media show.',\n",
       " 'Security forces in Somali capital Mog Somalia say their forces have killed all militants in a gun and explosion attack at Beach View seafood restaurant in the harbour area on Thursday night, state media confirm.',\n",
       " 'Security forces in Somali capital Mog Somalia say their forces have killed all militants in a gun and explosion attack at Beach View seafood restaurant in the harbour area on Thursday night, state media repeat.',\n",
       " 'Security forces in Somali capital Mog Somalia say their forces have killed all militants in a gun and explosion attack at Beach View seafood restaurant in the harbour area on Thursday night, state media announce.',\n",
       " 'Security forces in Somali capital Mog Somalia say their forces have killed all militants in a gun and explosion attack at Beach View seafood restaurant in the harbour area on Thursday night, state media translate.',\n",
       " 'Security forces in Somali capital Mog Somalia say their forces have killed all militants in a gun and explosion attack at Beach View seafood restaurant in the harbour area on Thursday night, state media broadcast.']"
      ]
     },
     "execution_count": 23,
     "metadata": {},
     "output_type": "execute_result"
    }
   ],
   "source": [
    "baseline"
   ]
  },
  {
   "cell_type": "code",
   "execution_count": null,
   "id": "ac729fcf-a3a7-40f3-99c3-073e9c8606bd",
   "metadata": {},
   "outputs": [],
   "source": [
    "if __name__==\"__main__\":\n",
    "    # get model, tokenizer\n",
    "    mod, tok, dset, dec_pref = load_model(\"xsum\", \"cuda:2\")\n",
    "\n",
    "    # get eval version of model (scores given separately)\n",
    "    # TODO make things efficient to minimize re-calculation of stuff\n",
    "    tfrmodel = lfc(\"noun\", True).to(\"cuda:2\")\n",
    "    tfrmodel.eval()\n",
    "\n",
    "    # manually override to insert our beam_search method \n",
    "    mod.beam_search = beam_search.__get__(mod)\n",
    "    mod.tfr = tfrmodel\n",
    "    mod.tokenizer = tok\n",
    "    mod.tfr_interv = 5\n",
    "    mod.tfr_beams = 1\n",
    "\n",
    "    # TODO will need to insert TFR model for use as well\n",
    "\n",
    "    # have some input string\n",
    "    source, ref = list(dset)[0]\n",
    "    print(\"SRC: \", source)\n",
    "    print(\"REF: \", ref)\n",
    "    \n",
    "\n",
    "    # run algorithm / cross fingers\n",
    "    base = run_hf_baseline(mod, tok, source, args, False)\n",
    "    # our goal is for this to match\n",
    "    preds = run_hf_baseline(mod, tok, source, args, True)\n",
    "    \n",
    "    print(preds)"
   ]
  }
 ],
 "metadata": {
  "kernelspec": {
   "display_name": "Python 3 (ipykernel)",
   "language": "python",
   "name": "python3"
  },
  "language_info": {
   "codemirror_mode": {
    "name": "ipython",
    "version": 3
   },
   "file_extension": ".py",
   "mimetype": "text/x-python",
   "name": "python",
   "nbconvert_exporter": "python",
   "pygments_lexer": "ipython3",
   "version": "3.8.12"
  }
 },
 "nbformat": 4,
 "nbformat_minor": 5
}
