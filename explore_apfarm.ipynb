{
 "cells": [
  {
   "cell_type": "code",
   "execution_count": 1,
   "id": "9c4fb6fe-7a04-41ca-9ab2-8a5e0b462885",
   "metadata": {
    "scrolled": true
   },
   "outputs": [
    {
     "name": "stderr",
     "output_type": "stream",
     "text": [
      "/home/prasann/miniconda3/envs/apfarmenv/lib/python3.9/site-packages/tqdm/auto.py:21: TqdmWarning: IProgress not found. Please update jupyter and ipywidgets. See https://ipywidgets.readthedocs.io/en/stable/user_install.html\n",
      "  from .autonotebook import tqdm as notebook_tqdm\n"
     ]
    }
   ],
   "source": [
    "from alpaca_farm.models import reward_model\n",
    "from alpaca_farm.inference.decode import load_model_and_tokenizer_for_inference \n",
    "from alpaca_farm.inference.score import score_sequences_with_huggingface_given_model\n",
    "from alpaca_farm import utils\n",
    "import pandas as pd\n",
    "from statistics import mean, stdev\n",
    "import matplotlib.pyplot as plt\n",
    "from scipy.stats import spearmanr"
   ]
  },
  {
   "cell_type": "code",
   "execution_count": 48,
   "id": "8612bd8a-0ddf-4aeb-9db6-057ecc23453c",
   "metadata": {},
   "outputs": [
    {
     "name": "stderr",
     "output_type": "stream",
     "text": [
      "Loading model for inference: /mnt/data1/prasann/prefixdecoding/tfr-decoding/apfarm_models/reward-model-human/\n",
      "One of the `_name_or_path` to the root node is not a pretrained model name or local path on disk. This may be due to copying checkpoints across machines. Falling back to hardcoded rule to figure out the pretrained model based on config.json.\n",
      "Loading checkpoint shards: 100%|████████████████████████████████████████████████████████████████████████████████████████████████████████| 3/3 [00:11<00:00,  3.71s/it]\n",
      "Loading checkpoint shards: 100%|████████████████████████████████████████████████████████████████████████████████████████████████████████| 3/3 [00:15<00:00,  5.02s/it]\n"
     ]
    }
   ],
   "source": [
    "model, tokenizer = load_model_and_tokenizer_for_inference(\n",
    "    model_name_or_path=\"/mnt/data1/prasann/prefixdecoding/tfr-decoding/apfarm_models/reward-model-human/\",\n",
    "    model_cls=reward_model.RewardModel,\n",
    "    cache_dir=None,\n",
    "    model_kwargs=dict(\n",
    "        torch_dtype=utils.convert_str_dtype_to_torch_dtype(None),\n",
    "        flash_attn=False,\n",
    "    ),\n",
    ")"
   ]
  },
  {
   "cell_type": "code",
   "execution_count": 51,
   "id": "8bc0d10c-e88f-414e-91c4-b669419796b0",
   "metadata": {},
   "outputs": [
    {
     "data": {
      "text/plain": [
       "Index(['instruction', 'output', 'top_sequence', 'top_index', 'top_scores'], dtype='object')"
      ]
     },
     "execution_count": 51,
     "metadata": {},
     "output_type": "execute_result"
    }
   ],
   "source": [
    "ppoouts.keys()"
   ]
  },
  {
   "cell_type": "code",
   "execution_count": 7,
   "id": "d00ce21d-2474-4af4-9929-7c152181fd38",
   "metadata": {},
   "outputs": [],
   "source": [
    "ppoouts = pd.read_json(\"alpaca_farm/bon_outs/ppohum.jsonl\", orient=\"records\").drop(columns=['input', 'scorer_name_or_path'])\n",
    "sftouts = pd.read_json(\"alpaca_farm/bon_outs/sft.jsonl\", orient=\"records\").drop(columns=['input', 'scorer_name_or_path'])\n"
   ]
  },
  {
   "cell_type": "code",
   "execution_count": 62,
   "id": "9bfc0070-632d-4ac6-a461-e110f784b347",
   "metadata": {},
   "outputs": [],
   "source": [
    "def scoreseq(inp, ans):\n",
    "    # TODO make a batched version if necessary\n",
    "    template = \"Below is an instruction that describes a task. Write a response that appropriately completes the request.\\n\\n### Instruction:\\n{instruction}\\n\\n### Response:{response}\"\n",
    "    seq = template.format(instruction=inp, response=ans)\n",
    "    return score_sequences_with_huggingface_given_model(model, tokenizer, [seq], per_device_batch_size=1)\n",
    "    "
   ]
  },
  {
   "cell_type": "code",
   "execution_count": 68,
   "id": "279f70a2-69d4-40c5-94bc-2206c37ab7ab",
   "metadata": {},
   "outputs": [
    {
     "name": "stderr",
     "output_type": "stream",
     "text": [
      "Unknown mixed precision mode: None, falling back to fp32.\n",
      "mixed_precision = None\n"
     ]
    },
    {
     "name": "stdout",
     "output_type": "stream",
     "text": [
      "getting rewards\n"
     ]
    },
    {
     "name": "stderr",
     "output_type": "stream",
     "text": [
      "evaluating rewards for batches: 100%|███████████████████████████████████████████████████████████████████████████████████████████████████| 1/1 [00:00<00:00,  1.72it/s]\n"
     ]
    },
    {
     "data": {
      "text/plain": [
       "[1.6832951307296753]"
      ]
     },
     "execution_count": 68,
     "metadata": {},
     "output_type": "execute_result"
    }
   ],
   "source": [
    "inp = ppoouts.loc[1]['instruction']\n",
    "hyp = ppoouts.loc[1]['output'][1]\n",
    "scoreseq(inp, hyp)"
   ]
  },
  {
   "cell_type": "code",
   "execution_count": 57,
   "id": "99eb00d4-29ee-4374-816b-5790ea519b3b",
   "metadata": {},
   "outputs": [
    {
     "data": {
      "text/plain": [
       "1"
      ]
     },
     "execution_count": 57,
     "metadata": {},
     "output_type": "execute_result"
    }
   ],
   "source": [
    "ppoouts.loc[1].top_index[0]"
   ]
  },
  {
   "cell_type": "code",
   "execution_count": 77,
   "id": "81259a38-a673-4ad6-84ef-0567e5459f05",
   "metadata": {},
   "outputs": [],
   "source": [
    "def printex(row):\n",
    "    print(row.instruction)\n",
    "    for i in [1, 2, 6, 7]:\n",
    "        topind = row.top_index[i]\n",
    "        print(row.top_scores[topind])\n",
    "        print(row.output[topind])"
   ]
  },
  {
   "cell_type": "code",
   "execution_count": null,
   "id": "adbe537f-b6c9-410a-81ae-35857c798fb7",
   "metadata": {},
   "outputs": [],
   "source": []
  },
  {
   "cell_type": "code",
   "execution_count": 95,
   "id": "91afb61b-62e0-4de3-9de5-b59f82998e1d",
   "metadata": {
    "scrolled": true
   },
   "outputs": [
    {
     "name": "stdout",
     "output_type": "stream",
     "text": [
      "_________\n",
      "BEFORE PPO\n",
      "I want to get better at networking at work\n",
      "1.63993239402771\n",
      "Networking is an important part of success at work, and it can be learned. Start by getting comfortable with the concept of networking and identifying your own strengths and weaknesses in this area. Research ways to build relationships with colleagues, managers and other professionals in your field. Develop a strategy for making connections, such as attending professional events or building an online presence. Identify opportunities to put your strategy into action, and practice using social media, in person events and other methods to make connections and build relationships. It may also help to find a mentor who can provide support and advice. Through consistent effort and practice, you can build your networking skills and become more successful at work.\n",
      "1.541395664215088\n",
      "To get better at networking at work, start by making a conscious effort to get to know your colleagues better. Introduce yourself to new people, join a lunch or coffee hour and ask questions. Show genuine interest in them and their careers, and offer help when needed. Seek out opportunities to collaborate, and offer your own help when possible. Join professional organizations or groups related to your field, and attend events to make connections with people outside of your office. Make sure to follow up after a networking event, and keep in touch with the people you meet.\n",
      "1.097175121307373\n",
      "Networking at work can be a great way to build relationships, learn about new opportunities, and create a more supportive work environment. To get better at networking at work, try creating a plan to reach out to new people. Start by making a list of your goals and the skills and experience you can offer. Then look for ways to connect with people who can help you reach those goals. Consider joining professional organizations, attending industry events, and making a point to introduce yourself to new people. It may also help to find a mentor who can offer advice and support as you learn to network more effectively.\n",
      "0.8484203815460201\n",
      "Building strong relationships with colleagues and clients is a critical part of success in many industries. Take steps to get better at networking at work by being friendly and approachable, offering help when needed, and establishing trust. Be proactive in seeking out conversations and actively listen when networking. Additionally, be aware of your online presence and make sure that any information posted does not reflect negatively on your professional reputation.\n",
      "_________\n",
      "AFTER PPO\n",
      "I want to get better at networking at work\n",
      "1.832435131072998\n",
      "To get better at networking at work, it is important to first understand what networking involves. Networking is the process of building relationships and exchanging information in order to advance your career, find a job, or create business opportunities. In order to effectively network at work, it is important to be proactive, be a good listener, and be prepared. Be proactive by reaching out to people and creating opportunities to get involved in networking events and meetings. Be a good listener and focus on listening to and understanding the views and ideas of others. Be prepared by having a clear understanding of your skills and goals, and be able to articulate these clearly. Additionally, make sure to maintain your professional image, stay connected with people, and follow up on any leads or opportunities that may arise. With these strategies, you will be well on your way to becoming a successful networker and advancing your career.\n",
      "1.8074531555175781\n",
      "Networking at work can be a great way to build relationships, gain knowledge, and find job opportunities. To get better at networking at work, you should first understand what networking is and how it can be beneficial. Networking involves building connections and creating relationships with people that can help you in your career. It is a great way to share information, learn new skills, and make connections with people who may be able to help you find a new job or give you advice on your career. \n",
      "\n",
      "Next, you should get comfortable talking to people and introducing yourself. Start by introducing yourself to your colleagues, managers, and anyone else you come into contact with in the office. You should be able to tell them about yourself, what you do, and why you are passionate about your work. Being able to articulate who you are and what you do can help you feel more confident when networking. \n",
      "\n",
      "Finally, you should find ways to stay in touch with the people you meet through networking. This can be done through social media, email, or even just keeping in touch over coffee or lunch. Staying in touch can help you build and maintain relationships, and create an environment of trust and understanding. It can also help you stay up to date on the latest news and opportunities in your field. \n",
      "\n",
      "Networking can be a great tool for those looking to further their careers, and by taking these steps you can\n",
      "1.690705180168151\n",
      "Getting better at networking at work is a matter of taking intentional steps to build relationships with colleagues, managers, and clients. Start by being open and friendly with your colleagues, and don't be afraid to introduce yourself to new people. Participate in workplace events and get to know the people you meet outside of your immediate team. Seek out your manager to discuss your work and goals, and be proactive in asking for their advice. Finally, stay in touch with clients and other contacts in the industry, and be sure to follow up after meetings or conversations to reinforce your connection. With these simple steps, you can build a powerful network of contacts that will serve you well in your career.\n",
      "0.757259130477905\n",
      "Networking at work is an important skill that can help you advance your career and find opportunities that might not be available through other means. The first step in improving your networking skills is to identify specific goals that you want to achieve through networking. Once you have identified these goals, you can then brainstorm ways to make connections with the people who can help you achieve them. \n",
      "\n",
      "Networking involves more than just introducing yourself to people and asking for help. It is important to be proactive and establish relationships with people who can help you. Start by researching people who are in positions of authority or who have achieved the type of success you are hoping to achieve. Read their bios and learn more about their professional history. Join professional networking sites and LinkedIn groups related to your industry, and use these platforms to connect with people. You can also use these platforms to ask questions, show interest in their work, and stay up-to-date on industry news and trends.\n",
      "\n",
      "Another important step in networking is having face-to-face conversations. Attend industry events and conferences, and make an effort to introduce yourself to people. Be prepared to ask questions and have a conversation, rather than just asking for help. Show genuine interest in the person you are talking to, and be sincere in your requests. You may also want to consider joining a professional organization related to your industry, as these organizations often offer networking opportunities\n"
     ]
    }
   ],
   "source": [
    "\n",
    "ind = 15\n",
    "print(\"_________\")\n",
    "print(\"BEFORE PPO\")\n",
    "printex(sftouts.loc[ind])\n",
    "print(\"_________\")\n",
    "print(\"AFTER PPO\")\n",
    "printex(ppoouts.loc[ind])\n"
   ]
  },
  {
   "cell_type": "code",
   "execution_count": 32,
   "id": "6896b22a-7a28-4a00-ae80-4f9184c4d560",
   "metadata": {},
   "outputs": [
    {
     "data": {
      "text/plain": [
       "1.5167918519955126"
      ]
     },
     "execution_count": 32,
     "metadata": {},
     "output_type": "execute_result"
    }
   ],
   "source": [
    "mean([mean(m) for m in ppoouts.top_scores])"
   ]
  },
  {
   "cell_type": "code",
   "execution_count": 112,
   "id": "7c30f21a-582f-4a3e-872f-c2d8338617b7",
   "metadata": {},
   "outputs": [
    {
     "name": "stdout",
     "output_type": "stream",
     "text": [
      "93.915\n"
     ]
    },
    {
     "data": {
      "text/plain": [
       "(array([ 56.,  77., 109.,  81.,  39.,  17.,   8.,   8.,   1.,   4.]),\n",
       " array([ 14. ,  42.7,  71.4, 100.1, 128.8, 157.5, 186.2, 214.9, 243.6,\n",
       "        272.3, 301. ]),\n",
       " <BarContainer object of 10 artists>)"
      ]
     },
     "execution_count": 112,
     "metadata": {},
     "output_type": "execute_result"
    },
    {
     "data": {
      "image/png": "[encoded data removed]",
      "text/plain": [
       "<Figure size 640x480 with 1 Axes>"
      ]
     },
     "metadata": {},
     "output_type": "display_data"
    }
   ],
   "source": [
    "lendist = []\n",
    "for sc in sftouts.output:\n",
    "    lendist.extend([len(tokenizer(s).input_ids) for s in sc])\n",
    "print(mean(lendist))\n",
    "plt.hist(lendist)"
   ]
  },
  {
   "cell_type": "code",
   "execution_count": 113,
   "id": "c6442b6f-587c-4305-a47a-d93b4e055b26",
   "metadata": {},
   "outputs": [
    {
     "data": {
      "text/plain": [
       "(array([ 4., 22., 23., 64., 85., 86., 45., 36., 24., 11.]),\n",
       " array([-0.76558864, -0.46093694, -0.15628524,  0.14836646,  0.45301816,\n",
       "         0.75766987,  1.06232157,  1.36697327,  1.67162497,  1.97627667,\n",
       "         2.28092837]),\n",
       " <BarContainer object of 10 artists>)"
      ]
     },
     "execution_count": 113,
     "metadata": {},
     "output_type": "execute_result"
    },
    {
     "data": {
      "image/png": "[encoded data removed]",
      "text/plain": [
       "<Figure size 640x480 with 1 Axes>"
      ]
     },
     "metadata": {},
     "output_type": "display_data"
    }
   ],
   "source": [
    "scodist = []\n",
    "for sc in sftouts.top_scores:\n",
    "    scodist.extend(sc)\n",
    "plt.hist(scodist)"
   ]
  },
  {
   "cell_type": "code",
   "execution_count": 114,
   "id": "ed64c2f7-ea74-4879-bec1-501de78fe2fd",
   "metadata": {},
   "outputs": [],
   "source": [
    "nldist = []\n",
    "nsdist = []\n",
    "for i in range(len(lendist)):\n",
    "    if lendist[i]>=300:\n",
    "        continue\n",
    "    nldist.append(lendist[i])\n",
    "    nsdist.append(scodist[i])"
   ]
  },
  {
   "cell_type": "code",
   "execution_count": 116,
   "id": "7a94986e-7dc4-4f0b-8729-8cb774bfa01b",
   "metadata": {},
   "outputs": [
    {
     "data": {
      "text/plain": [
       "SignificanceResult(statistic=0.7520376811943459, pvalue=2.5054009220275723e-73)"
      ]
     },
     "execution_count": 116,
     "metadata": {},
     "output_type": "execute_result"
    }
   ],
   "source": [
    "spearmanr(nldist, nsdist)"
   ]
  },
  {
   "cell_type": "code",
   "execution_count": 115,
   "id": "31642e21-e5b2-4a33-97df-f89580dc12d0",
   "metadata": {},
   "outputs": [
    {
     "data": {
      "text/plain": [
       "<matplotlib.collections.PathCollection at 0x7fb8036f3f40>"
      ]
     },
     "execution_count": 115,
     "metadata": {},
     "output_type": "execute_result"
    },
    {
     "data": {
      "image/png": "[encoded data removed]",
      "text/plain": [
       "<Figure size 640x480 with 1 Axes>"
      ]
     },
     "metadata": {},
     "output_type": "display_data"
    }
   ],
   "source": [
    "plt.scatter(nldist, nsdist)"
   ]
  },
  {
   "cell_type": "code",
   "execution_count": 16,
   "id": "5356ef46-7129-4cbc-9599-77a6ebb1ff67",
   "metadata": {},
   "outputs": [
    {
     "data": {
      "text/plain": [
       "['Larry Page is an American computer scientist and internet entrepreneur who is best known for co-founding Google with Sergey Brin in 1998. He is currently the CEO of Alphabet, Inc., the parent company of Google.',\n",
       " 'Larry Page is an American computer scientist and businessman who is the co-founder and CEO of Google. He is also the co-founder of Alphabet, the parent company of Google. Page is a Harvard alumnus and was named the 40th richest person in the world by Forbes magazine in 2019. He is known for his strong passion for robotics, artificial intelligence, and space travel.',\n",
       " 'Larry Page is an American computer scientist and entrepreneur who co-founded Google in 1998. He served as Google’s CEO from 2001 to 2011 and is currently the company’s Executive Chairman. He is also the co-founder of the spaceflight company, Planetary Ventures, and the charitable organization, Google.org.',\n",
       " \"Larry Page is an American computer scientist and entrepreneur who is the co-founder of Google with Sergey Brin. He is currently the CEO of the company and focuses on the company's product and technology strategy. He is also a major shareholder and serves on the board of directors.\",\n",
       " 'Larry Page is the co-founder of Google and the CEO of Alphabet, Inc. He is also the co-founder of several other technology companies, including Chrysalix Technologies, Blade Runner Technologies, and Titan Aerospace.',\n",
       " \"Larry Page is an American computer scientist and internet entrepreneur who is best known for co-founding Google with Sergey Brin. He is the CEO of Google's parent company, Alphabet, and is currently focused on developing new technologies that could have a positive impact on society.\",\n",
       " \"Larry Page is an American computer scientist and entrepreneur who is the co-founder and CEO of Google. He is also a co-founder of Google's parent company, Alphabet, and the inventor of Google's web crawler, Googlebot.\",\n",
       " \"Larry Page is the co-founder of Google and the current CEO of Alphabet, Google's parent company. He is also a computer scientist, inventor, and entrepreneur.\"]"
      ]
     },
     "execution_count": 16,
     "metadata": {},
     "output_type": "execute_result"
    }
   ],
   "source": [
    "sftouts.loc[7]['output']"
   ]
  },
  {
   "cell_type": "code",
   "execution_count": null,
   "id": "7b7f990b-c1fa-4c3b-855c-29b2e633d8dc",
   "metadata": {},
   "outputs": [],
   "source": []
  }
 ],
 "metadata": {
  "kernelspec": {
   "display_name": "Python 3 (ipykernel)",
   "language": "python",
   "name": "python3"
  },
  "language_info": {
   "codemirror_mode": {
    "name": "ipython",
    "version": 3
   },
   "file_extension": ".py",
   "mimetype": "text/x-python",
   "name": "python",
   "nbconvert_exporter": "python",
   "pygments_lexer": "ipython3",
   "version": "3.9.16"
  }
 },
 "nbformat": 4,
 "nbformat_minor": 5
}
