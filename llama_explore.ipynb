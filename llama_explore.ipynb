{
 "cells": [
  {
   "cell_type": "code",
   "execution_count": 1,
   "id": "b1ff8aa2-2907-4d92-8932-cdc744b080a1",
   "metadata": {
    "tags": []
   },
   "outputs": [],
   "source": [
    "from transformers import LlamaForCausalLM, LlamaTokenizer\n",
    "device = \"cuda:1\""
   ]
  },
  {
   "cell_type": "code",
   "execution_count": 2,
   "id": "0f347565-2283-4135-b5bd-d3bfda2caaf3",
   "metadata": {
    "tags": []
   },
   "outputs": [],
   "source": [
    "tokenizer = LlamaTokenizer.from_pretrained(\"/home/prasann/Projects/tfr-decoding/llama/llama\")"
   ]
  },
  {
   "cell_type": "code",
   "execution_count": 3,
   "id": "190efafb-311a-4fef-9c0e-03ede0b54e68",
   "metadata": {
    "tags": []
   },
   "outputs": [
    {
     "data": {
      "text/plain": [
       "1"
      ]
     },
     "execution_count": 3,
     "metadata": {},
     "output_type": "execute_result"
    }
   ],
   "source": [
    "tokenizer.bos_token_id"
   ]
  },
  {
   "cell_type": "code",
   "execution_count": null,
   "id": "7bcd1533-1da6-4518-85b0-8a2271b667f3",
   "metadata": {},
   "outputs": [],
   "source": [
    "model = LlamaForCausalLM.from_pretrained(\"/home/prasann/Projects/tfr-decoding/llama/llama\")\n",
    "\n",
    "tokenizer = LlamaTokenizer.from_pretrained(\"/home/prasann/Projects/tfr-decoding/llama/llama\")"
   ]
  },
  {
   "cell_type": "code",
   "execution_count": null,
   "id": "72c74717-0fc7-4286-ac0f-a994f14085a1",
   "metadata": {},
   "outputs": [],
   "source": [
    "model.to(device)\n",
    "print(\"loaded\")"
   ]
  },
  {
   "cell_type": "code",
   "execution_count": 1,
   "id": "08353885-362e-408d-8ba7-8ee7cfa1ebb0",
   "metadata": {
    "tags": []
   },
   "outputs": [],
   "source": [
    "from transformers import LlamaForCausalLM, LlamaTokenizer\n",
    "device = \"cuda:1\""
   ]
  },
  {
   "cell_type": "code",
   "execution_count": 2,
   "id": "2334437f-e02b-4936-99b8-62bcc2759c8d",
   "metadata": {
    "tags": []
   },
   "outputs": [
    {
     "data": {
      "application/vnd.jupyter.widget-view+json": {
       "model_id": "2cb6ff62d3554280adebdd8c8ff017d7",
       "version_major": 2,
       "version_minor": 0
      },
      "text/plain": [
       "Loading checkpoint shards:   0%|          | 0/2 [00:00<?, ?it/s]"
      ]
     },
     "metadata": {},
     "output_type": "display_data"
    }
   ],
   "source": [
    "genmodel = LlamaForCausalLM.from_pretrained(\"./llama/llama/\").to(device)\n",
    "tokenizer = LlamaTokenizer.from_pretrained(\"./llama/llama/\")"
   ]
  },
  {
   "cell_type": "code",
   "execution_count": 3,
   "id": "e11b5f35-83e1-49e5-b830-7ae0afee532a",
   "metadata": {
    "tags": []
   },
   "outputs": [
    {
     "data": {
      "text/plain": [
       "[\"<s>Question: Why can't penguins fly? \\n Detailed, Long Answer:\\n  \\nA. The problem of flight is a combination of two separate but related issues:\\n   1. The mechanics of flight (specifically the aerodynamics involved), and\\n   2. The physiology of flight (living in water rather than air). \\n   3. I suspect that the answer can be split up into two separate sections.\\n\\n  B. The mechanical issue. \\n   1) This may sound too simple, but there's a reason penguins can't fly. \\n      There's no air to fly in! They live in water, and fly where there's air,\\n      not where there's water, and they're surrounded completely by water. \\n   2) They have a layer of under-feathers that keep them warm. \\n      So if they could fly, they'd drown from a lack of buoyancy. \\n\\n   3) This may be the only case where wingbeats are counterproductive. \\n      If a penguin took flight, its powerful wingbeats would quickly produce\\n      waves of water, which would keep the penguin underwater. \\n    C. The physiological issue. \\n      1) The penguin's natural environment keeps their insides very moist. \\n        If they were to enter the air environment, their insides would be \\n          very uncomfortable with all that dryness (similar to dehydration). \\n   2) Their natural environment encourages the swallowing of air. The\\n  avenue, airway and pharynx (throat part of the digestive tract) is short,\\n  wide (the esophagus) and coated with mucus. This makes it a good place \\n  for the penguin to\"]"
      ]
     },
     "execution_count": 3,
     "metadata": {},
     "output_type": "execute_result"
    }
   ],
   "source": [
    "inpstring = \"Question: Why can't penguins fly? \\n Detailed, Long Answer:\"\n",
    "inputs = tokenizer(inpstring, return_tensors=\"pt\").to(device)\n",
    "outs = genmodel.generate(**inputs, min_length=50, max_new_tokens=400, do_sample=True)\n",
    "\n",
    "tokenizer.batch_decode(outs)"
   ]
  },
  {
   "cell_type": "code",
   "execution_count": null,
   "id": "d0f3b97f-6b1d-4cf6-8f5d-2733159d8bb7",
   "metadata": {},
   "outputs": [],
   "source": []
  }
 ],
 "metadata": {
  "kernelspec": {
   "display_name": "Python 3 (ipykernel)",
   "language": "python",
   "name": "python3"
  },
  "language_info": {
   "codemirror_mode": {
    "name": "ipython",
    "version": 3
   },
   "file_extension": ".py",
   "mimetype": "text/x-python",
   "name": "python",
   "nbconvert_exporter": "python",
   "pygments_lexer": "ipython3",
   "version": "3.8.16"
  }
 },
 "nbformat": 4,
 "nbformat_minor": 5
}
