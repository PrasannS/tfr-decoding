{
 "cells": [
  {
   "cell_type": "code",
   "execution_count": 6,
   "id": "dbcf9396-bdbe-4f7f-ba68-ba162e784307",
   "metadata": {
    "tags": []
   },
   "outputs": [],
   "source": [
    "from transformers import T5ForConditionalGeneration, T5Tokenizer\n",
    "import torch\n",
    "from datasets import load_dataset\n",
    "import pandas as pd\n",
    "import numpy as np\n",
    "from src.tfr_decoding.finepref_sample import sample # new sampling method\n",
    "from src.utils.samp_utils import inpsampall, dset_randsamp   \n",
    "from src.tfr_decoding.shp_modeling import T5BinaryClassifier\n",
    "from prefix_sampling import PrefixSampler, test_baseline, test_pfsample, test_finesample"
   ]
  },
  {
   "cell_type": "code",
   "execution_count": 7,
   "id": "00c9a28c-0b66-449e-b899-59b699a96c6e",
   "metadata": {
    "tags": []
   },
   "outputs": [
    {
     "name": "stdout",
     "output_type": "stream",
     "text": [
      "The autoreload extension is already loaded. To reload it, use:\n",
      "  %reload_ext autoreload\n"
     ]
    }
   ],
   "source": [
    "%load_ext autoreload\n",
    "%autoreload 2"
   ]
  },
  {
   "cell_type": "code",
   "execution_count": 8,
   "id": "7a1ab479-7aed-4d15-8e58-ff17936ed3cb",
   "metadata": {
    "tags": []
   },
   "outputs": [
    {
     "data": {
      "application/vnd.jupyter.widget-view+json": {
       "model_id": "071cc15763824924909630ef06441c28",
       "version_major": 2,
       "version_minor": 0
      },
      "text/plain": [
       "Loading checkpoint shards:   0%|          | 0/5 [00:00<?, ?it/s]"
      ]
     },
     "metadata": {},
     "output_type": "display_data"
    },
    {
     "data": {
      "application/vnd.jupyter.widget-view+json": {
       "model_id": "49365bd48d8a4b77b1501c4e5e6af5a1",
       "version_major": 2,
       "version_minor": 0
      },
      "text/plain": [
       "Loading checkpoint shards:   0%|          | 0/2 [00:00<?, ?it/s]"
      ]
     },
     "metadata": {},
     "output_type": "display_data"
    }
   ],
   "source": [
    "# first load relevant models\n",
    "device = 'cuda:1' # if you have a GPU\n",
    "\n",
    "\n",
    "# get generation model\n",
    "tokenizer = T5Tokenizer.from_pretrained(\"google/flan-t5-xxl\")\n",
    "qpref = T5BinaryClassifier.load_from_checkpoint(\"./lightning_logs/version_4/checkpoints/epoch=2-step=11896.ckpt\")\n",
    "model = T5ForConditionalGeneration.from_pretrained(\"google/flan-t5-xxl\", device_map=\"auto\")#.to(device)\n",
    "model.sample = sample.__get__(model)\n",
    "model.tokenizer = tokenizer\n",
    "model.tok = tokenizer\n",
    "pfname = 'stanfordnlp/SteamSHP-flan-t5-large'\n",
    "max_len = 512\n",
    "learning_rate = 3e-5\n",
    "preftok = T5Tokenizer.from_pretrained(pfname)\n",
    "\n",
    "model.qualitypref = qpref\n",
    "#model.stdpref = T5BinaryClassifier.load_from_checkpoint(\"./lightning_logs/version_11/checkpoints/epoch=3-step=3359.ckpt\")\n",
    "# set up relevant mdoels\n",
    "model.downmetric = T5ForConditionalGeneration.from_pretrained('stanfordnlp/SteamSHP-flan-t5-xl').to(device)\n",
    "model.downtok = T5Tokenizer.from_pretrained('stanfordnlp/SteamSHP-flan-t5-xl')\n",
    "model.eval()\n",
    "\n",
    "# load up our dataset\n",
    "elidf = pd.read_json(\"output/elidataset.jsonl\", orient=\"records\", lines=\"true\")\n",
    "# start from 15000 for latest exploration\n",
    "elidf = elidf.drop_duplicates(subset=\"history\").iloc[15000:15100]\n",
    "\n",
    "pfsampler = PrefixSampler(model)\n",
    "inplist = list(elidf['history'])"
   ]
  },
  {
   "cell_type": "code",
   "execution_count": 10,
   "id": "618952d9-5dda-4a5d-a9c9-acfd217d1c3a",
   "metadata": {
    "tags": []
   },
   "outputs": [],
   "source": [
    "torch.backends.cuda.enable_flash_sdp(True)"
   ]
  },
  {
   "cell_type": "code",
   "execution_count": 11,
   "id": "3fe83fa7-2bcc-40e6-8fb2-ca9dd2e0e0d4",
   "metadata": {
    "tags": []
   },
   "outputs": [
    {
     "name": "stdout",
     "output_type": "stream",
     "text": [
      "setting values\n",
      "monkeysamp\n",
      "has check_n\n",
      "___\n",
      "18 / 162\n",
      "Is the US sending the military in to fight Bashar al-Assad in Syria\n",
      "[tensor([0]), tensor([0]), tensor([0]), tensor([0]), tensor([0]), tensor([0])] ,  tensor([1.])\n",
      "18\n",
      "___\n",
      "35 / 162\n",
      "Bashar al-Assad is the current President in Syria. I really have no idea\n",
      "[tensor([1]), tensor([0]), tensor([1]), tensor([1]), tensor([0]), tensor([0])] ,  tensor([0.7600])\n",
      "18\n",
      "___\n",
      "59 / 162\n",
      "Bashar al-Assad is the current President in Syria's Bashar al-Assad is reportedly dead, but his country's ongoing political crisis may well be his\n",
      "[tensor([1]), tensor([0]), tensor([1]), tensor([1]), tensor([1]), tensor([0]), tensor([0]), tensor([0]), tensor([0]), tensor([0]), tensor([0]), tensor([1])] ,  tensor([0.8000])\n",
      "36\n",
      "___\n",
      "77 / 162\n",
      "Bashar al-Assad is the current President in Syria's Bashar al-Assad is reportedly dead, but his country's ongoing political crisis may well be his name is bashar al-Assad he is the Syrian President and leader of the Syrian\n",
      "[tensor([1]), tensor([0]), tensor([1]), tensor([1]), tensor([1]), tensor([0]), tensor([0]), tensor([0]), tensor([0]), tensor([0]), tensor([0]), tensor([1]), tensor([0]), tensor([0]), tensor([0]), tensor([0]), tensor([0]), tensor([0])] ,  tensor([1.])\n",
      "54\n",
      "0.8883787393569946\n",
      "setting values\n",
      "monkeysamp\n",
      "has check_n\n",
      "___\n",
      "18 / 162\n",
      "The ocean floor is very rough and can damage a submarine. Also, with enough\n",
      "[tensor([0]), tensor([0]), tensor([0]), tensor([0]), tensor([0]), tensor([0])] ,  tensor([1.])\n",
      "18\n",
      "___\n",
      "35 / 162\n",
      "It is theoretically possible, but this would require a submarine very heavy to move\n",
      "[tensor([0]), tensor([0]), tensor([0]), tensor([0]), tensor([0]), tensor([0])] ,  tensor([1.])\n",
      "18\n",
      "___\n",
      "70 / 162\n",
      "Most subs are currently about 30 feet thick. At the current design, they would not be able to withstand the pressure at 3,000 ft depth without failure\n",
      "[tensor([0]), tensor([0]), tensor([0]), tensor([1]), tensor([1]), tensor([1]), tensor([0]), tensor([0]), tensor([0]), tensor([1]), tensor([1]), tensor([1])] ,  tensor([0.4000])\n",
      "36\n",
      "0.8149805068969727\n",
      "setting values\n",
      "monkeysamp\n",
      "has check_n\n",
      "___\n",
      "18 / 162\n",
      "The mass that ISON loses will be measured with the use of the NASA Deep\n",
      "[tensor([0]), tensor([0]), tensor([0]), tensor([0]), tensor([0]), tensor([0])] ,  tensor([1.])\n",
      "18\n",
      "___\n",
      "35 / 162\n",
      "Since ISON is an asteroid, it has a high surface gravity,\n",
      "[tensor([0]), tensor([0]), tensor([0]), tensor([0]), tensor([0]), tensor([0])] ,  tensor([1.])\n",
      "18\n",
      "___\n",
      "70 / 162\n",
      "Astronomers have been able to estimate the amount of mass that would be lost, and have used this information to create models of comet paths around the Sun. If\n",
      "[tensor([0]), tensor([0]), tensor([1]), tensor([1]), tensor([1]), tensor([1]), tensor([1]), tensor([1]), tensor([1]), tensor([1]), tensor([1]), tensor([1])] ,  0\n",
      "36\n",
      "___\n",
      "88 / 162\n",
      "Astronomers have been able to estimate the amount of mass that would be lost, and have used this information to create models of comet paths around the Sun. If you could take the time to look for a comet around the Sun and plot its\n",
      "[tensor([0]), tensor([0]), tensor([1]), tensor([1]), tensor([1]), tensor([1]), tensor([1]), tensor([1]), tensor([1]), tensor([1]), tensor([1]), tensor([1]), tensor([1]), tensor([1]), tensor([1]), tensor([1]), tensor([1]), tensor([1])] ,  0\n",
      "54\n",
      "___\n",
      "106 / 162\n",
      "Astronomers have been able to estimate the amount of mass that would be lost, and have used this information to create models of comet paths around the Sun. If you could take the time to look for a comet around the Sun and plot its path over time, you could determine its mass loss rate, and then use this to calculate\n",
      "[tensor([0]), tensor([0]), tensor([1]), tensor([1]), tensor([1]), tensor([1]), tensor([1]), tensor([1]), tensor([1]), tensor([1]), tensor([1]), tensor([1]), tensor([1]), tensor([1]), tensor([1]), tensor([1]), tensor([1]), tensor([1]), tensor([1]), tensor([1]), tensor([0]), tensor([0]), tensor([1]), tensor([0])] ,  tensor([0.6000])\n",
      "72\n",
      "___\n",
      "109 / 162\n",
      "Astronomers have been able to estimate the amount of mass that would be lost, and have used this information to create models of comet paths around the Sun. If you could take the time to look for a comet around the Sun and plot its path over time, you could determine its mass loss rate, and then use the orbit to\n",
      "[tensor([0]), tensor([0]), tensor([1]), tensor([1]), tensor([1]), tensor([1]), tensor([1]), tensor([1]), tensor([1]), tensor([1]), tensor([1]), tensor([1]), tensor([1]), tensor([1]), tensor([1]), tensor([1]), tensor([1]), tensor([1]), tensor([1]), tensor([1]), tensor([0]), tensor([0]), tensor([1]), tensor([1])] ,  tensor([0.4000])\n",
      "72\n",
      "0.736846923828125\n",
      "setting values\n",
      "monkeysamp\n",
      "has check_n\n",
      "___\n",
      "18 / 162\n",
      "The skin in your hands is a thin layer that is not designed to endure repeated\n",
      "[tensor([0]), tensor([0]), tensor([1]), tensor([0]), tensor([0]), tensor([1])] ,  tensor([0.7600])\n",
      "18\n",
      "___\n",
      "36 / 162\n",
      "The skin in your hands is a thin layer that is not designed to endure repeated friction or friction caused by prolonged exposure to a hot or dry surface, such as\n",
      "[tensor([0]), tensor([0]), tensor([1]), tensor([0]), tensor([0]), tensor([1]), tensor([1]), tensor([1]), tensor([1]), tensor([1]), tensor([1]), tensor([1])] ,  0\n",
      "36\n",
      "0.8832669854164124\n",
      "setting values\n",
      "monkeysamp\n",
      "has check_n\n",
      "___\n",
      "18 / 162\n",
      "The fundamentals are easy to grasp. First of all, they are languages. Like\n",
      "[tensor([0]), tensor([0]), tensor([0]), tensor([1]), tensor([1]), tensor([0])] ,  tensor([0.7600])\n",
      "18\n",
      "___\n",
      "21 / 162\n",
      "The fundamentals are easy to grasp. First of all, they are not a\n",
      "[tensor([0]), tensor([0]), tensor([0]), tensor([1]), tensor([1]), tensor([1])] ,  tensor([0.6400])\n",
      "18\n",
      "___\n",
      "39 / 162\n",
      "The fundamentals are easy to grasp. First of all, they are not a'set'. The code I write in Ruby is not the same in Python or\n",
      "[tensor([0]), tensor([0]), tensor([0]), tensor([1]), tensor([1]), tensor([1]), tensor([1]), tensor([1]), tensor([1]), tensor([1]), tensor([1]), tensor([1])] ,  0\n",
      "36\n",
      "___\n",
      "57 / 162\n",
      "The fundamentals are easy to grasp. First of all, they are not a'set'. The code I write in Ruby is not the same in Python or Java. The program I write in Ruby is very different from the code I write in Python\n",
      "[tensor([0]), tensor([0]), tensor([0]), tensor([1]), tensor([1]), tensor([1]), tensor([1]), tensor([1]), tensor([1]), tensor([1]), tensor([1]), tensor([1]), tensor([1]), tensor([1]), tensor([1]), tensor([1]), tensor([1]), tensor([1])] ,  0\n",
      "54\n",
      "___\n",
      "75 / 162\n",
      "The fundamentals are easy to grasp. First of all, they are not a'set'. The code I write in Ruby is not the same in Python or Java. The program I write in Ruby is very different from the code I write in Python or Java. So it isn't necessarily 'correct', but it'\n",
      "[tensor([0]), tensor([0]), tensor([0]), tensor([1]), tensor([1]), tensor([1]), tensor([1]), tensor([1]), tensor([1]), tensor([1]), tensor([1]), tensor([1]), tensor([1]), tensor([1]), tensor([1]), tensor([1]), tensor([1]), tensor([1]), tensor([1]), tensor([1]), tensor([1]), tensor([1]), tensor([1]), tensor([1])] ,  0\n",
      "72\n",
      "___\n",
      "93 / 162\n",
      "The fundamentals are easy to grasp. First of all, they are not a'set'. The code I write in Ruby is not the same in Python or Java. The program I write in Ruby is very different from the code I write in Python or Java. So it isn't necessarily 'correct', but it's your own code and you need to have a good understanding of the differences between the\n",
      "[tensor([0]), tensor([0]), tensor([0]), tensor([1]), tensor([1]), tensor([1]), tensor([1]), tensor([1]), tensor([1]), tensor([1]), tensor([1]), tensor([1]), tensor([1]), tensor([1]), tensor([1]), tensor([1]), tensor([1]), tensor([1]), tensor([1]), tensor([1]), tensor([1]), tensor([1]), tensor([1]), tensor([1]), tensor([1]), tensor([1]), tensor([1]), tensor([1]), tensor([1]), tensor([1])] ,  0\n",
      "90\n",
      "0.8964406847953796\n",
      "setting values\n",
      "monkeysamp\n",
      "has check_n\n",
      "___\n",
      "18 / 162\n",
      "When a file on a computer is deleted, the disk tracks containing the\n",
      "[tensor([0]), tensor([0]), tensor([0]), tensor([0]), tensor([0]), tensor([0])] ,  tensor([1.])\n",
      "18\n",
      "___\n",
      "35 / 162\n",
      "The removal of a file on a hard drive actually involves deleting bits of\n",
      "[tensor([0]), tensor([0]), tensor([0]), tensor([0]), tensor([0]), tensor([0])] ,  tensor([1.])\n",
      "18\n",
      "0.5777982473373413\n",
      "setting values\n",
      "monkeysamp\n",
      "has check_n\n",
      "___\n",
      "18 / 162\n",
      "I think this is an important question. A balanced breakfast is important for any diet,\n",
      "[tensor([0]), tensor([0]), tensor([1]), tensor([1]), tensor([1]), tensor([1])] ,  tensor([0.5200])\n",
      "18\n",
      "0.6639955043792725\n",
      "setting values\n",
      "monkeysamp\n",
      "has check_n\n",
      "___\n",
      "18 / 162\n",
      "A search engine uses an algorithm to look for websites on the web, and then comp\n",
      "[tensor([0]), tensor([0]), tensor([0]), tensor([0]), tensor([0]), tensor([0])] ,  tensor([1.])\n",
      "18\n",
      "___\n",
      "35 / 162\n",
      "A search engine is a website that automatically indexes and displays websites. When\n",
      "[tensor([0]), tensor([0]), tensor([0]), tensor([0]), tensor([0]), tensor([0])] ,  tensor([1.])\n",
      "18\n",
      "___\n",
      "70 / 162\n",
      "This involves an algorithm called a \"bot\" that scans the pages of the web in order to index the pages and then index them into their database. A search engine\n",
      "[tensor([0]), tensor([0]), tensor([0]), tensor([0]), tensor([0]), tensor([0]), tensor([0]), tensor([0]), tensor([0]), tensor([0]), tensor([0]), tensor([0])] ,  tensor([1.])\n",
      "36\n",
      "___\n",
      "105 / 162\n",
      "This includes crawling (initial indexing) and ranking. The crawling process indexes every URL on the Internet and makes it accessible to users, so that\n",
      "[tensor([0]), tensor([0]), tensor([0]), tensor([0]), tensor([0]), tensor([0]), tensor([0]), tensor([0]), tensor([0]), tensor([0]), tensor([0]), tensor([0])] ,  tensor([1.])\n",
      "36\n",
      "___\n",
      "158 / 162\n",
      "Google uses several crawling methods to crawl web pages and index them to make them searchable by crawling is the process of looking through a website to find things such as HTML codes, title tags, alt tags, and meta descriptions. It is the act of\n",
      "[tensor([0]), tensor([0]), tensor([0]), tensor([0]), tensor([0]), tensor([0]), tensor([0]), tensor([0]), tensor([0]), tensor([0]), tensor([0]), tensor([0]), tensor([0]), tensor([0]), tensor([0]), tensor([0]), tensor([0]), tensor([0])] ,  tensor([1.])\n",
      "54\n",
      "0.802222490310669\n",
      "setting values\n",
      "monkeysamp\n",
      "has check_n\n",
      "___\n",
      "18 / 162\n",
      "I'm not really sure what you are trying to get at here. Is\n",
      "[tensor([0]), tensor([0]), tensor([0]), tensor([0]), tensor([0]), tensor([0])] ,  tensor([1.])\n",
      "18\n",
      "___\n",
      "35 / 162\n",
      "I agree that it is dangerous to look directly at a sparking arc (\n",
      "[tensor([0]), tensor([0]), tensor([0]), tensor([0]), tensor([0]), tensor([0])] ,  tensor([1.])\n",
      "18\n"
     ]
    },
    {
     "name": "stderr",
     "output_type": "stream",
     "text": [
      "\n",
      "KeyboardInterrupt\n",
      "\n"
     ]
    }
   ],
   "source": [
    "finesample_df = test_finesample(inplist[:10], pfsampler, 9, 3, 6, 5)\n"
   ]
  },
  {
   "cell_type": "code",
   "execution_count": 25,
   "id": "1ae877c7-eee4-42af-b4cc-9dd5d4d344bd",
   "metadata": {
    "tags": []
   },
   "outputs": [
    {
     "data": {
      "text/plain": [
       "90.1"
      ]
     },
     "execution_count": 25,
     "metadata": {},
     "output_type": "execute_result"
    }
   ],
   "source": [
    "finesample_df['budgets'].mean()"
   ]
  },
  {
   "cell_type": "code",
   "execution_count": 3,
   "id": "31afa11d-e068-4f5e-80ac-a2584187d0fc",
   "metadata": {
    "tags": []
   },
   "outputs": [],
   "source": [
    "a1 = pd.read_json(\"output/pfsample/finesamp.jsonl\", orient=\"records\", lines=True)\n"
   ]
  },
  {
   "cell_type": "code",
   "execution_count": 5,
   "id": "0881e375-7c8d-4a53-b5fb-2dd514ee1fe9",
   "metadata": {
    "tags": []
   },
   "outputs": [
    {
     "data": {
      "text/plain": [
       "115.71"
      ]
     },
     "execution_count": 5,
     "metadata": {},
     "output_type": "execute_result"
    }
   ],
   "source": [
    "a1.budgets.mean()"
   ]
  },
  {
   "cell_type": "code",
   "execution_count": null,
   "id": "53e3bea4-c6cd-42fb-802d-5c648b4bfec0",
   "metadata": {
    "tags": []
   },
   "outputs": [
    {
     "name": "stdout",
     "output_type": "stream",
     "text": [
      "monkeysamp\n",
      "monkeysamp\n",
      "monkeysamp\n",
      "monkeysamp\n",
      "monkeysamp\n",
      "monkeysamp\n",
      "monkeysamp\n",
      "monkeysamp\n",
      "monkeysamp\n",
      "monkeysamp\n",
      "monkeysamp\n",
      "monkeysamp\n",
      "monkeysamp\n",
      "monkeysamp\n",
      "monkeysamp\n",
      "monkeysamp\n",
      "monkeysamp\n",
      "monkeysamp\n",
      "monkeysamp\n",
      "monkeysamp\n",
      "monkeysamp\n",
      "monkeysamp\n",
      "monkeysamp\n",
      "monkeysamp\n",
      "monkeysamp\n",
      "monkeysamp\n",
      "monkeysamp\n",
      "monkeysamp\n",
      "monkeysamp\n",
      "monkeysamp\n",
      "monkeysamp\n",
      "monkeysamp\n",
      "monkeysamp\n",
      "monkeysamp\n",
      "monkeysamp\n",
      "monkeysamp\n",
      "monkeysamp\n",
      "monkeysamp\n",
      "monkeysamp\n",
      "monkeysamp\n",
      "monkeysamp\n",
      "monkeysamp\n",
      "monkeysamp\n",
      "monkeysamp\n",
      "monkeysamp\n",
      "monkeysamp\n",
      "monkeysamp\n"
     ]
    }
   ],
   "source": [
    "adaptbase_df = test_baseline(inplist, pfsampler, .85, 4)\n",
    "pfsample_df = test_pfsample(inplist, pfsampler, 18, [10, 20])\n",
    "\n",
    "adaptbase_df.to_json(\"output/pfsample/abase.jsonl\", lines=True, orient='records')\n",
    "pfsample_df.to_json(\"output/pfsample/pfsample.jsonl\", lines=True, orient='records')"
   ]
  },
  {
   "cell_type": "code",
   "execution_count": 8,
   "id": "0dc29f47-d147-4514-b36f-c9d6a6722167",
   "metadata": {
    "tags": []
   },
   "outputs": [
    {
     "name": "stdout",
     "output_type": "stream",
     "text": [
      "130.4\n",
      "0.809410572052002\n"
     ]
    }
   ],
   "source": [
    "print(adaptbase_df['budgets'].mean())\n",
    "print(adaptbase_df['scos'].mean())"
   ]
  },
  {
   "cell_type": "code",
   "execution_count": 12,
   "id": "dd88b5cf-0f4a-4be8-b020-d8b76d99aa98",
   "metadata": {
    "tags": []
   },
   "outputs": [
    {
     "name": "stdout",
     "output_type": "stream",
     "text": [
      "253.6\n",
      "0.8504377722740173\n"
     ]
    }
   ],
   "source": [
    "print(pfsample_df['budgets'].mean())\n",
    "print(pfsample_df['scos'].mean())"
   ]
  },
  {
   "cell_type": "code",
   "execution_count": 26,
   "id": "024b5380-5722-40a7-b892-0c9b410042de",
   "metadata": {
    "tags": []
   },
   "outputs": [
    {
     "name": "stdout",
     "output_type": "stream",
     "text": [
      "monkeysamp\n",
      "monkeysamp\n",
      "monkeysamp\n",
      "monkeysamp\n",
      "monkeysamp\n",
      "monkeysamp\n",
      "monkeysamp\n",
      "monkeysamp\n",
      "monkeysamp\n",
      "monkeysamp\n",
      "monkeysamp\n",
      "monkeysamp\n",
      "monkeysamp\n",
      "monkeysamp\n",
      "monkeysamp\n",
      "monkeysamp\n",
      "monkeysamp\n",
      "monkeysamp\n"
     ]
    }
   ],
   "source": [
    "adaptbase_df = test_baseline(inplist, pfsampler, .85, 2)"
   ]
  },
  {
   "cell_type": "code",
   "execution_count": 27,
   "id": "e2b42ab9-bbce-4906-8785-cd1c6f0bb6ed",
   "metadata": {},
   "outputs": [
    {
     "name": "stdout",
     "output_type": "stream",
     "text": [
      "129.2\n",
      "0.8531928896903992\n"
     ]
    }
   ],
   "source": [
    "print(adaptbase_df['budgets'].mean())\n",
    "print(adaptbase_df['scos'].mean())"
   ]
  },
  {
   "cell_type": "code",
   "execution_count": null,
   "id": "a9ff40f7-eccb-44b8-b82c-f8948a862c5f",
   "metadata": {},
   "outputs": [],
   "source": []
  }
 ],
 "metadata": {
  "kernelspec": {
   "display_name": "Python 3 (ipykernel)",
   "language": "python",
   "name": "python3"
  },
  "language_info": {
   "codemirror_mode": {
    "name": "ipython",
    "version": 3
   },
   "file_extension": ".py",
   "mimetype": "text/x-python",
   "name": "python",
   "nbconvert_exporter": "python",
   "pygments_lexer": "ipython3",
   "version": "3.8.16"
  }
 },
 "nbformat": 4,
 "nbformat_minor": 5
}
