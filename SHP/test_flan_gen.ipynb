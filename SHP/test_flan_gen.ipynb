{
 "cells": [
  {
   "cell_type": "code",
   "execution_count": 1,
   "id": "475e3030-b9ed-4a8b-9431-2d35bc7a2e85",
   "metadata": {},
   "outputs": [
    {
     "name": "stderr",
     "output_type": "stream",
     "text": [
      "2023-03-01 03:20:48.683530: W tensorflow/stream_executor/platform/default/dso_loader.cc:64] Could not load dynamic library 'libcudart.so.11.0'; dlerror: libcudart.so.11.0: cannot open shared object file: No such file or directory\n",
      "2023-03-01 03:20:48.683569: I tensorflow/stream_executor/cuda/cudart_stub.cc:29] Ignore above cudart dlerror if you do not have a GPU set up on your machine.\n"
     ]
    }
   ],
   "source": [
    "from transformers import T5ForConditionalGeneration, T5Tokenizer\n",
    "import torch\n",
    "from datasets import load_dataset\n",
    "import pandas as pd\n",
    "from readability import Readability\n",
    "\n",
    "device = 'cuda:3' # if you have a GPU"
   ]
  },
  {
   "cell_type": "code",
   "execution_count": 50,
   "id": "7c3048b5-68a0-4d41-9721-57e37369e3fe",
   "metadata": {},
   "outputs": [
    {
     "data": {
      "application/vnd.jupyter.widget-view+json": {
       "model_id": "a09df35008ec49bc8ef103866d8686bf",
       "version_major": 2,
       "version_minor": 0
      },
      "text/plain": [
       "Loading checkpoint shards:   0%|          | 0/2 [00:00<?, ?it/s]"
      ]
     },
     "metadata": {},
     "output_type": "display_data"
    }
   ],
   "source": [
    "tokenizer = T5Tokenizer.from_pretrained(\"google/flan-t5-xl\")\n",
    "model = T5ForConditionalGeneration.from_pretrained(\"google/flan-t5-xl\").to(device)"
   ]
  },
  {
   "cell_type": "code",
   "execution_count": 48,
   "id": "f8a9263e-d46f-408f-84fe-5a613688894b",
   "metadata": {},
   "outputs": [
    {
     "name": "stdout",
     "output_type": "stream",
     "text": [
      "<pad> It's true that green is the color of money and Ireland. It's also the color between blue and yellow on the visible spectrum.</s>\n"
     ]
    }
   ],
   "source": [
    "\n",
    "input_text = \"\"\"\n",
    "The system uses and synthesizes the knowledge interactively. How does it respond to make an interesting conversation?\n",
    "\n",
    "Knowledge: Dylan's Candy Bar is a chain of boutique candy shops and candy supplier currently located in New York City; East Hampton, New York; Los Angeles, Chicago and Miami Beach, as well as in wholesale venues around the globe.\n",
    "User: I really love candy.\n",
    "System: \n",
    "\"\"\"\n",
    "\n",
    "input_text = \"\"\"\n",
    "\n",
    "The system gives a detailed and interesting answer.\n",
    "\n",
    "User: Why is Omicron considered a variant, rather than a novel coronavirus? I'm no expert, but from what I read it seems that the omicron variant has different symptoms and little-to-no shared immunity. At what point is it just a new coronavirus like the other coronaviruses in the world as opposed to a variant of Covid-19?\n",
    "System: \n",
    "\"\"\"\n",
    "\n",
    "input_text = \"\"\"\n",
    "The system uses and synthesizes the knowledge interactively. How does it respond to make an interesting conversation?\n",
    "\n",
    "Knowledge: Green is the color between blue and yellow on the visible spectrum.\n",
    "User: I love green! It's the color of money, and Ireland. \n",
    "System: \n",
    "\n",
    "\"\"\"\n",
    "\n",
    "\n",
    "\n",
    "input_ids = tokenizer(input_text, return_tensors=\"pt\").input_ids.to(device)\n",
    "\n",
    "outputs = model.generate(input_ids, min_new_tokens=20, max_new_tokens=200)\n",
    "print(tokenizer.decode(outputs[0]))"
   ]
  },
  {
   "cell_type": "code",
   "execution_count": 41,
   "id": "126f9c70-966d-41eb-822f-dc6e06f696b6",
   "metadata": {},
   "outputs": [
    {
     "name": "stdout",
     "output_type": "stream",
     "text": [
      "<pad> The Omicron variant is considered a variant of Covid-19 because it has different symptoms and little-to-no shared immunity.</s>\n"
     ]
    },
    {
     "data": {
      "text/html": [
       "<pre style=\"white-space:pre;overflow-x:auto;line-height:normal;font-family:Menlo,'DejaVu Sans Mono',consolas,'Courier New',monospace\"><span style=\"color: #800000; text-decoration-color: #800000\">╭──────────────────────────── </span><span style=\"color: #800000; text-decoration-color: #800000; font-weight: bold\">Traceback </span><span style=\"color: #bf7f7f; text-decoration-color: #bf7f7f; font-weight: bold\">(most recent call last)</span><span style=\"color: #800000; text-decoration-color: #800000\"> ────────────────────────────╮</span>\n",
       "<span style=\"color: #800000; text-decoration-color: #800000\">│</span>                                                                                           <span style=\"color: #800000; text-decoration-color: #800000\">│</span>\n",
       "<span style=\"color: #800000; text-decoration-color: #800000\">│</span> <span style=\"color: #bfbf7f; text-decoration-color: #bfbf7f\">/tmp/ipykernel_1700035/</span><span style=\"color: #808000; text-decoration-color: #808000; font-weight: bold\">1020103368.py</span>:<span style=\"color: #0000ff; text-decoration-color: #0000ff\">3</span> in <span style=\"color: #00ff00; text-decoration-color: #00ff00\">&lt;module&gt;</span>                                        <span style=\"color: #800000; text-decoration-color: #800000\">│</span>\n",
       "<span style=\"color: #800000; text-decoration-color: #800000\">│</span>                                                                                           <span style=\"color: #800000; text-decoration-color: #800000\">│</span>\n",
       "<span style=\"color: #800000; text-decoration-color: #800000\">│</span> <span style=\"color: #800000; text-decoration-color: #800000; font-style: italic\">[Errno 2] No such file or directory: '/tmp/ipykernel_1700035/1020103368.py'</span>               <span style=\"color: #800000; text-decoration-color: #800000\">│</span>\n",
       "<span style=\"color: #800000; text-decoration-color: #800000\">╰───────────────────────────────────────────────────────────────────────────────────────────╯</span>\n",
       "<span style=\"color: #ff0000; text-decoration-color: #ff0000; font-weight: bold\">IndexError: </span>index <span style=\"color: #008080; text-decoration-color: #008080; font-weight: bold\">1</span> is out of bounds for dimension <span style=\"color: #008080; text-decoration-color: #008080; font-weight: bold\">0</span> with size <span style=\"color: #008080; text-decoration-color: #008080; font-weight: bold\">1</span>\n",
       "</pre>\n"
      ],
      "text/plain": [
       "\u001b[31m╭─\u001b[0m\u001b[31m─────────────────────────── \u001b[0m\u001b[1;31mTraceback \u001b[0m\u001b[1;2;31m(most recent call last)\u001b[0m\u001b[31m ───────────────────────────\u001b[0m\u001b[31m─╮\u001b[0m\n",
       "\u001b[31m│\u001b[0m                                                                                           \u001b[31m│\u001b[0m\n",
       "\u001b[31m│\u001b[0m \u001b[2;33m/tmp/ipykernel_1700035/\u001b[0m\u001b[1;33m1020103368.py\u001b[0m:\u001b[94m3\u001b[0m in \u001b[92m<module>\u001b[0m                                        \u001b[31m│\u001b[0m\n",
       "\u001b[31m│\u001b[0m                                                                                           \u001b[31m│\u001b[0m\n",
       "\u001b[31m│\u001b[0m \u001b[3;31m[Errno 2] No such file or directory: '/tmp/ipykernel_1700035/1020103368.py'\u001b[0m               \u001b[31m│\u001b[0m\n",
       "\u001b[31m╰───────────────────────────────────────────────────────────────────────────────────────────╯\u001b[0m\n",
       "\u001b[1;91mIndexError: \u001b[0mindex \u001b[1;36m1\u001b[0m is out of bounds for dimension \u001b[1;36m0\u001b[0m with size \u001b[1;36m1\u001b[0m\n"
      ]
     },
     "metadata": {},
     "output_type": "display_data"
    }
   ],
   "source": [
    "for i in range(3):\n",
    "    \n",
    "    print(tokenizer.decode(outputs[i]))\n"
   ]
  },
  {
   "cell_type": "code",
   "execution_count": 19,
   "id": "9de31b9c-a988-4e4b-8a16-9bd4ff4d3ace",
   "metadata": {},
   "outputs": [
    {
     "name": "stderr",
     "output_type": "stream",
     "text": [
      "Using custom data configuration stanfordnlp--shp-cac89759658d55c7\n"
     ]
    },
    {
     "name": "stdout",
     "output_type": "stream",
     "text": [
      "Downloading and preparing dataset json/stanfordnlp--shp to /home/prasann/.cache/huggingface/datasets/stanfordnlp___json/stanfordnlp--shp-cac89759658d55c7/0.0.0/0f7e3662623656454fcd2b650f34e886a7db4b9104504885bd462096cc7a9f51...\n"
     ]
    },
    {
     "data": {
      "application/vnd.jupyter.widget-view+json": {
       "model_id": "8a2478fa32f64ad1aaeb11120b368c5d",
       "version_major": 2,
       "version_minor": 0
      },
      "text/plain": [
       "Downloading data files:   0%|          | 0/3 [00:00<?, ?it/s]"
      ]
     },
     "metadata": {},
     "output_type": "display_data"
    },
    {
     "data": {
      "application/vnd.jupyter.widget-view+json": {
       "model_id": "b828e05127dd4b0d96621910b32fa215",
       "version_major": 2,
       "version_minor": 0
      },
      "text/plain": [
       "Downloading data:   0%|          | 0.00/61.0M [00:00<?, ?B/s]"
      ]
     },
     "metadata": {},
     "output_type": "display_data"
    },
    {
     "data": {
      "application/vnd.jupyter.widget-view+json": {
       "model_id": "5fbc35ba9617469c902a58ea2b196d14",
       "version_major": 2,
       "version_minor": 0
      },
      "text/plain": [
       "Downloading data:   0%|          | 0.00/3.07M [00:00<?, ?B/s]"
      ]
     },
     "metadata": {},
     "output_type": "display_data"
    },
    {
     "data": {
      "application/vnd.jupyter.widget-view+json": {
       "model_id": "e3e3e1d2ba03427d9e015b9278e54630",
       "version_major": 2,
       "version_minor": 0
      },
      "text/plain": [
       "Downloading data:   0%|          | 0.00/3.37M [00:00<?, ?B/s]"
      ]
     },
     "metadata": {},
     "output_type": "display_data"
    },
    {
     "data": {
      "application/vnd.jupyter.widget-view+json": {
       "model_id": "2da3cf6045ae4231818c85dd2812d6ec",
       "version_major": 2,
       "version_minor": 0
      },
      "text/plain": [
       "Extracting data files:   0%|          | 0/3 [00:00<?, ?it/s]"
      ]
     },
     "metadata": {},
     "output_type": "display_data"
    },
    {
     "data": {
      "application/vnd.jupyter.widget-view+json": {
       "model_id": "",
       "version_major": 2,
       "version_minor": 0
      },
      "text/plain": [
       "Generating train split: 0 examples [00:00, ? examples/s]"
      ]
     },
     "metadata": {},
     "output_type": "display_data"
    },
    {
     "data": {
      "application/vnd.jupyter.widget-view+json": {
       "model_id": "",
       "version_major": 2,
       "version_minor": 0
      },
      "text/plain": [
       "Generating test split: 0 examples [00:00, ? examples/s]"
      ]
     },
     "metadata": {},
     "output_type": "display_data"
    },
    {
     "data": {
      "application/vnd.jupyter.widget-view+json": {
       "model_id": "",
       "version_major": 2,
       "version_minor": 0
      },
      "text/plain": [
       "Generating validation split: 0 examples [00:00, ? examples/s]"
      ]
     },
     "metadata": {},
     "output_type": "display_data"
    },
    {
     "name": "stdout",
     "output_type": "stream",
     "text": [
      "Dataset json downloaded and prepared to /home/prasann/.cache/huggingface/datasets/stanfordnlp___json/stanfordnlp--shp-cac89759658d55c7/0.0.0/0f7e3662623656454fcd2b650f34e886a7db4b9104504885bd462096cc7a9f51. Subsequent calls will reuse this data.\n"
     ]
    },
    {
     "data": {
      "application/vnd.jupyter.widget-view+json": {
       "model_id": "d4442d4a509b446bbae89358f97287d8",
       "version_major": 2,
       "version_minor": 0
      },
      "text/plain": [
       "  0%|          | 0/3 [00:00<?, ?it/s]"
      ]
     },
     "metadata": {},
     "output_type": "display_data"
    }
   ],
   "source": [
    "dataset = load_dataset(\"stanfordnlp/shp\", data_dir=\"legaladvice\")"
   ]
  },
  {
   "cell_type": "code",
   "execution_count": 20,
   "id": "54a10c16-ef0c-46b3-8487-de135f855a6d",
   "metadata": {},
   "outputs": [],
   "source": [
    "# predict based on number of words\n",
    "def length_heur(ex):\n",
    "    lA = len(ex['human_ref_A'].split())\n",
    "    lB = len(ex['human_ref_B'].split())\n",
    "    #print(lA>lB, \" \", ex['score_A']>ex['score_B'])\n",
    "    if lA>lB and ex['score_A']>ex['score_B']:\n",
    "        return 1\n",
    "    elif lB>lA and ex['score_B']>ex['score_A']:\n",
    "        return 1\n",
    "    return 0\n",
    "\n",
    "def fleschkincaid(ex):\n",
    "\n",
    "    lA = FleschKincaidTest(ex['human_ref_A'])\n",
    "    \n",
    "    lB = FleschKincaidTest(ex['human_ref_B'])\n",
    "    # print(lA, \" \", lB)\n",
    "    if lA>lB and ex['score_A']>ex['score_B']:\n",
    "        return 1\n",
    "    elif lB>lA and ex['score_B']>ex['score_A']:\n",
    "        return 1\n",
    "    return 0\n",
    "\n",
    "\n",
    "def FleschKincaidTest(text):\n",
    "\tscore = 0.0\n",
    "\tif len(text) > 0:\n",
    "\t\tscore = (0.39 * len(text.split()) / len(text.split('.')) ) + 11.8 * ( sum(list(map(lambda x: 1 if x in [\"a\",\"i\",\"e\",\"o\",\"u\",\"y\",\"A\",\"E\",\"I\",\"O\",\"U\",\"y\"] else 0,text))) / len(text.split())) - 15.59\n",
    "\t\treturn score if score > 0 else 0\n",
    "\n",
    "\n",
    "def heur_acc(dset, heur):\n",
    "    acc = 0\n",
    "    tot = 0\n",
    "    for d in dset:\n",
    "        try:\n",
    "            acc+=heur(d)\n",
    "            tot+=1\n",
    "        except:\n",
    "            \"\"\n",
    "    print(len(dset)-tot, \" \", len(dset))\n",
    "    return acc/tot"
   ]
  },
  {
   "cell_type": "code",
   "execution_count": 22,
   "id": "ae85aa95-d170-4d6b-8244-89d3d7e372e7",
   "metadata": {},
   "outputs": [
    {
     "name": "stdout",
     "output_type": "stream",
     "text": [
      "2   1011\n"
     ]
    },
    {
     "data": {
      "text/plain": [
       "0.5411298315163529"
      ]
     },
     "execution_count": 22,
     "metadata": {},
     "output_type": "execute_result"
    }
   ],
   "source": [
    "heur_acc(dataset['test'], fleschkincaid)"
   ]
  },
  {
   "cell_type": "code",
   "execution_count": 26,
   "id": "d6de2b40-138b-4e02-bfa3-29e1f57d91ca",
   "metadata": {},
   "outputs": [],
   "source": [
    "from os import listdir"
   ]
  },
  {
   "cell_type": "code",
   "execution_count": 30,
   "id": "2c15572c-cb2b-4cca-a202-e569f44c60d6",
   "metadata": {},
   "outputs": [],
   "source": [
    "wizar = pd.read_json(\"/home/prasann/miniconda3/envs/rewardenv/lib/python3.8/site-packages/data/wizard_of_wikipedia/test_random_split.json\")"
   ]
  },
  {
   "cell_type": "code",
   "execution_count": 73,
   "id": "42549827-bb23-4089-8bd6-ee33795edb0c",
   "metadata": {},
   "outputs": [],
   "source": [
    "def construct_prompt(row):\n",
    "    template = \"\"\"The System uses the Knowledge interactively and in detail. How does it start a long and interesting conversation with User about the topic {topic:s}? \n",
    "    \n",
    "Knowledge: {knowledge:s}\n",
    "    \n",
    "User: {start:s}\n",
    "System:\"\"\"\n",
    "    know = \"\"\n",
    "    for c in row['chosen_topic_passage']:\n",
    "        know = know + c + \" \"\n",
    "    inp = template.format(topic=row['chosen_topic'], start=row['dialog'][0]['text'], knowledge=know)\n",
    "    return inp\n",
    "\n",
    "def gen_row(rw, tok, mod):\n",
    "    input_text = construct_prompt(rw)\n",
    "    \n",
    "    print(input_text)\n",
    "    input_ids = tok(input_text, return_tensors=\"pt\").input_ids.to(device)\n",
    "    \n",
    "    outputs = mod.generate(input_ids, min_new_tokens=20, max_new_tokens=200)\n",
    "    return prompt+tok.decode(outputs[0])"
   ]
  },
  {
   "cell_type": "code",
   "execution_count": null,
   "id": "25679835-9197-4812-a921-b3c34aa20a34",
   "metadata": {},
   "outputs": [],
   "source": [
    "gen_row(wizar.iloc[0], tokenizer, model)"
   ]
  },
  {
   "cell_type": "code",
   "execution_count": 43,
   "id": "f9557d39-122f-485c-a5c4-6a4c56c1e61e",
   "metadata": {},
   "outputs": [
    {
     "data": {
      "text/plain": [
       "{'post_id': 'ans8wm',\n",
       " 'domain': 'legaladvice_test',\n",
       " 'upvote_ratio': 0.72,\n",
       " 'history': '(va) My son stole a rare toy from my brother. My brother is refusing to take it back and is threatening to get the police involved. What do I do? Right now my brother is threatening to \"sue\" me for my son taking a figure from his collection and get the police involved. Here is the story.  &#x200B;  Last week my brother invited me and my family over for diner. While we were there my son asked to see my brothers collection of toys and figures. My brother has spent a good deal of money on his collection and from what I know it\\'s one of his biggest hobbies. Well, after diner we left and everything seemed normal  &#x200B;  Well, until yesterday. My brother called me up furiously and told me my \"little shit\" stole something from his collection and I needed to return it immediately. I honestly was upset at this, but if my son had taken something that was wrong,especially if it was from my own brother. Well, it turns out that my son slipped away during dinner and took a Boba Fett figure from his collection. He confirmed it because he has footage from his porch camera of him taking it out to our car.  &#x200B;  I was furious and took it from him. Here is the problem though, after I confirmed with my brother it was his I found out that my son had removed it from it\\'s packaging. Apparently the figure is worth almost 2000$ in it\\'s package and almost nothing out of it. So my brother broke down over the phone and refused to take it back before hanging up. Well, he just called me again today and said he wanted me to pay for a replacement immediately or he will get the police involved and sue me. I told him I would help pay for one but not fully to which he said \"not good enough\" and hung up.   &#x200B;  Honestly, what are my options here? I can\\'t afford to pay him back right now. If he does go the police will my son get arrested? He\\'s only 15. It was very wrong of him to do but I think my brother is over reacting. What can I expect if he does take me to court or call the police?',\n",
       " 'c_root_id_A': 'efvl0kd',\n",
       " 'c_root_id_B': 'efvkuaw',\n",
       " 'created_at_utc_A': 1549469764,\n",
       " 'created_at_utc_B': 1549469638,\n",
       " 'score_A': 30923,\n",
       " 'score_B': 5129,\n",
       " 'human_ref_A': 'While first reading, I assumed you were talking about an actual kid, not a 15 year old.  Yes, your son can be arrested and yes could be liable for the 2000 bucks.    Why do you think the brother is over reacting?  Would you feel any different had your son stole 2000 dollars cash?',\n",
       " 'human_ref_B': \"If he's offered to return the figure, that will be the end of the involvement of the police.  Probably.  But he can absolutely sue you, and you'll have to pay him the in-package value of the item based on your son's actions.\",\n",
       " 'labels': 1,\n",
       " 'seconds_difference': 126.0,\n",
       " 'score_ratio': 6.0290504972}"
      ]
     },
     "execution_count": 43,
     "metadata": {},
     "output_type": "execute_result"
    }
   ],
   "source": [
    "dataset['test'][0]"
   ]
  },
  {
   "cell_type": "code",
   "execution_count": 20,
   "id": "d24a8b71-2fae-4275-893c-dbf025c3303c",
   "metadata": {},
   "outputs": [],
   "source": [
    "inpdata = pd.read_csv(\"../UniEval/faithdial.csv\")"
   ]
  },
  {
   "cell_type": "code",
   "execution_count": 48,
   "id": "782022ca-2e90-4dac-90e7-68a344d70da8",
   "metadata": {},
   "outputs": [
    {
     "data": {
      "text/plain": [
       "'Green is the color between blue and yellow on the visible spectrum.'"
      ]
     },
     "execution_count": 48,
     "metadata": {},
     "output_type": "execute_result"
    }
   ],
   "source": [
    "inpdata.iloc[300]['context']"
   ]
  },
  {
   "cell_type": "code",
   "execution_count": null,
   "id": "d762d505-e50e-4ab2-8f8f-d9f83dc4463a",
   "metadata": {},
   "outputs": [],
   "source": []
  }
 ],
 "metadata": {
  "kernelspec": {
   "display_name": "Python 3 (ipykernel)",
   "language": "python",
   "name": "python3"
  },
  "language_info": {
   "codemirror_mode": {
    "name": "ipython",
    "version": 3
   },
   "file_extension": ".py",
   "mimetype": "text/x-python",
   "name": "python",
   "nbconvert_exporter": "python",
   "pygments_lexer": "ipython3",
   "version": "3.8.12"
  }
 },
 "nbformat": 4,
 "nbformat_minor": 5
}
