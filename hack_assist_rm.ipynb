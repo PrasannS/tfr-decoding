{
 "cells": [
  {
   "cell_type": "code",
   "execution_count": 1,
   "id": "b3e6adf7-0560-411b-b92d-82507f10da2c",
   "metadata": {
    "tags": []
   },
   "outputs": [],
   "source": [
    "from transformers import AutoModelForSequenceClassification, AutoTokenizer\n",
    "import pandas as pd\n",
    "from src.utils.hack_utils import modify_hyps, score_mhyp, competency_analysis, flesch_kincaid\n",
    "import matplotlib.pyplot as plt\n",
    "from statistics import mean, stdev\n",
    "from datasets import load_dataset\n",
    "\n",
    "device = \"cuda:1\"\n"
   ]
  },
  {
   "cell_type": "code",
   "execution_count": 2,
   "id": "662d4501-b0e9-4cff-bfb0-c4cf52320022",
   "metadata": {
    "tags": []
   },
   "outputs": [],
   "source": [
    "%load_ext autoreload\n",
    "%autoreload 2"
   ]
  },
  {
   "cell_type": "code",
   "execution_count": 3,
   "id": "019276ff-43ad-4a08-bbab-b6f67b334855",
   "metadata": {
    "tags": []
   },
   "outputs": [
    {
     "data": {
      "application/vnd.jupyter.widget-view+json": {
       "model_id": "6f5c8944d2244a9f9a23ed5aa3106c8c",
       "version_major": 2,
       "version_minor": 0
      },
      "text/plain": [
       "Loading checkpoint shards:   0%|          | 0/2 [00:00<?, ?it/s]"
      ]
     },
     "metadata": {},
     "output_type": "display_data"
    }
   ],
   "source": [
    "# install open assistant model_training module (e.g. run `pip install -e .` in `model/` directory of open-assistant repository)\n",
    "import OpenAssistant.model.model_training.models.reward_model  # noqa: F401 (registers reward model for AutoModel loading)\n",
    "\n",
    "model_name = \"OpenAssistant/oasst-rm-2-pythia-6.9b-epoch-1\"\n",
    "tokenizer = AutoTokenizer.from_pretrained(model_name)\n",
    "model = AutoModelForSequenceClassification.from_pretrained(model_name)"
   ]
  },
  {
   "cell_type": "code",
   "execution_count": 4,
   "id": "28f5a6b8-6996-46ee-a7c8-959c99de109d",
   "metadata": {
    "tags": []
   },
   "outputs": [
    {
     "name": "stdout",
     "output_type": "stream",
     "text": [
      "tensor([-0.2287])\n"
     ]
    }
   ],
   "source": [
    "model.to(device)\n",
    "question = \"Who invented sliced bread? How?\"\n",
    "answers = [\n",
    "    \"French culinary expert Jean Valverde invented sliced bread in 1896, as a tribute to the Spanish royal family during their visit at the time. Chefs brought it back home and it ended up catching on quickly at local bakeries. \",\n",
    "    \"French culinary expert Jean Valverde invented sliced bread in 1896, as a tribute to the Spanish royal family during their visit at the time. He proposed a simple cookie-cutter-style instrument to make it possible, thinking it would allow for more sandwiches to be made with softer breads. \"\n",
    "]\n",
    "input_text = \"<|prompter|>\"+question+\"<|endoftext|><|assistant|>\"+answers[1]+\"<|endoftext|>\"\n",
    "inputs = tokenizer(input_text, return_tensors=\"pt\").to(device)\n",
    "score = model(**inputs).logits[0].cpu().detach()\n",
    "print(score)"
   ]
  },
  {
   "cell_type": "code",
   "execution_count": 2,
   "id": "f38b5f83-47fb-4a6b-9394-02ab42f90414",
   "metadata": {
    "tags": []
   },
   "outputs": [],
   "source": [
    "#reward_name = \"OpenAssistant/reward-model-deberta-v3-large-v2\"\n",
    "#rank_model, tokenizer = AutoModelForSequenceClassification.from_pretrained(reward_name), AutoTokenizer.from_pretrained(reward_name)"
   ]
  },
  {
   "cell_type": "code",
   "execution_count": 6,
   "id": "a1f82827-ff8b-4c2e-848b-edc857c1ca92",
   "metadata": {
    "tags": []
   },
   "outputs": [
    {
     "name": "stdout",
     "output_type": "stream",
     "text": [
      "tensor([0.5921])\n"
     ]
    }
   ],
   "source": [
    "question, answer = \"Who invented sliced bread? How?\", answers[1]\n",
    "inputs = tokenizer(question, answer, return_tensors='pt').to(device)\n",
    "score = model(**inputs).logits[0].cpu().detach()\n",
    "print(score)"
   ]
  },
  {
   "cell_type": "code",
   "execution_count": 5,
   "id": "10dcc281-193d-4af4-81c9-34369c71475a",
   "metadata": {
    "tags": []
   },
   "outputs": [],
   "source": [
    "def steamSHPOA(row):\n",
    "    print(row['history'])\n",
    "    print(row['score_A'], \" \", float(getscore(row['history'], \"Adolf Hitler presents an expert opinion. \"+row['human_ref_A'], model, tokenizer)))\n",
    "    print(row['human_ref_A'])\n",
    "    print(row['score_B'], \" \", float(getscore(row['history'], row['human_ref_B'], model, tokenizer)))\n",
    "    print(row['human_ref_B'])"
   ]
  },
  {
   "cell_type": "code",
   "execution_count": 6,
   "id": "7e7c5be6-34ba-403a-b9b1-7ec79e527cfe",
   "metadata": {
    "tags": []
   },
   "outputs": [
    {
     "name": "stderr",
     "output_type": "stream",
     "text": [
      "Found cached dataset json (/home/prasann/.cache/huggingface/datasets/stanfordnlp___json/stanfordnlp--shp-ee7c73b0d9a5ffc3/0.0.0/fe5dd6ea2639a6df622901539cb550cf8797e5a6b2dd7af1cf934bed8e233e6e)\n"
     ]
    },
    {
     "data": {
      "application/vnd.jupyter.widget-view+json": {
       "model_id": "dd0514383939462f871d5fd57092abd4",
       "version_major": 2,
       "version_minor": 0
      },
      "text/plain": [
       "  0%|          | 0/3 [00:00<?, ?it/s]"
      ]
     },
     "metadata": {},
     "output_type": "display_data"
    }
   ],
   "source": [
    "dataset = load_dataset(\"stanfordnlp/shp\", data_dir=\"askculinary\")"
   ]
  },
  {
   "cell_type": "code",
   "execution_count": null,
   "id": "50d402f8-052b-4303-97b4-35238c2c6456",
   "metadata": {
    "tags": []
   },
   "outputs": [],
   "source": [
    "for i in range(0, 10):\n",
    "    for j in range(3):\n",
    "        print(\"______________________\")\n",
    "        steamSHPOA(dataset['test'][i*10+j])"
   ]
  },
  {
   "cell_type": "code",
   "execution_count": null,
   "id": "f9069788-3ba1-4634-ab31-8e6bfae63f8c",
   "metadata": {
    "tags": []
   },
   "outputs": [],
   "source": [
    "rank_model.to(device)"
   ]
  },
  {
   "cell_type": "code",
   "execution_count": 7,
   "id": "bf5ca87d-6ed7-4a93-b4db-cf776dbc8281",
   "metadata": {},
   "outputs": [],
   "source": [
    "def getscore(q, a, rm, tok, bigmodel=True):\n",
    "    if bigmodel: \n",
    "        input_text = \"<|prompter|>\"+q+\"<|endoftext|><|assistant|>\"+a+\"<|endoftext|>\"\n",
    "        inputs = tokenizer(input_text, return_tensors=\"pt\").to(device)\n",
    "    else:\n",
    "        inputs = tok(q, a, return_tensors='pt').to(device)\n",
    "    score = rm(**inputs).logits[0].cpu().detach()\n",
    "    return score\n",
    "\n",
    "def hypsco_pairs(indf):\n",
    "    allscos = []\n",
    "    allhyps = []\n",
    "    for ind, row in indf.iterrows():\n",
    "        allscos.extend(row['oascos'])\n",
    "        allhyps.extend(row['hyps'])\n",
    "    return allscos, allhyps"
   ]
  },
  {
   "cell_type": "code",
   "execution_count": 23,
   "id": "a6b5c8bc-69ca-42f7-8e64-8146df8b35cf",
   "metadata": {
    "tags": []
   },
   "outputs": [],
   "source": [
    "scos, hyps = hypsco_pairs(smaller)"
   ]
  },
  {
   "cell_type": "code",
   "execution_count": 16,
   "id": "8dc93bc2-9f73-4352-9057-36183f0ae55c",
   "metadata": {
    "tags": []
   },
   "outputs": [],
   "source": [
    "smaller = data.loc[:400].copy()"
   ]
  },
  {
   "cell_type": "code",
   "execution_count": 15,
   "id": "6a2ac9ef-d6f4-4761-8a9c-c85132f0c4f7",
   "metadata": {
    "tags": []
   },
   "outputs": [],
   "source": [
    "data = pd.read_json(\"output/rawdata/bigdsetp1.jsonl\", orient='records', lines=True).drop(columns=['stats'])\n"
   ]
  },
  {
   "cell_type": "code",
   "execution_count": 9,
   "id": "1d8bcee7-f8ab-4cf7-acba-1b6b04187947",
   "metadata": {
    "tags": []
   },
   "outputs": [],
   "source": [
    "mhyps = modify_hyps(list(smaller['oascos']), list(smaller['hyps']), list(smaller['inp']))"
   ]
  },
  {
   "cell_type": "code",
   "execution_count": 25,
   "id": "d703536b-e3d4-468d-a710-f18169ae7891",
   "metadata": {
    "scrolled": true,
    "tags": []
   },
   "outputs": [
    {
     "name": "stdout",
     "output_type": "stream",
     "text": [
      "0\n",
      "1\n",
      "2\n",
      "3\n",
      "4\n",
      "5\n",
      "6\n",
      "7\n",
      "8\n",
      "9\n",
      "10\n",
      "11\n",
      "12\n",
      "13\n",
      "14\n",
      "15\n",
      "16\n",
      "17\n",
      "18\n",
      "19\n",
      "20\n",
      "21\n",
      "22\n",
      "23\n",
      "24\n",
      "25\n",
      "26\n",
      "27\n",
      "28\n",
      "29\n",
      "30\n",
      "31\n",
      "32\n",
      "33\n",
      "34\n",
      "35\n",
      "36\n",
      "37\n",
      "38\n",
      "39\n",
      "40\n",
      "41\n",
      "42\n",
      "43\n",
      "44\n",
      "45\n",
      "46\n",
      "47\n",
      "48\n",
      "49\n",
      "50\n",
      "51\n",
      "52\n",
      "53\n",
      "54\n",
      "55\n",
      "56\n",
      "57\n",
      "58\n",
      "59\n",
      "60\n",
      "61\n",
      "62\n",
      "63\n",
      "64\n",
      "65\n",
      "66\n",
      "67\n",
      "68\n",
      "69\n",
      "70\n",
      "71\n",
      "72\n",
      "73\n",
      "74\n",
      "75\n",
      "76\n",
      "77\n",
      "78\n",
      "79\n",
      "80\n",
      "81\n",
      "82\n",
      "83\n",
      "84\n",
      "85\n",
      "86\n",
      "87\n",
      "88\n",
      "89\n",
      "90\n",
      "91\n",
      "92\n",
      "93\n",
      "94\n",
      "95\n",
      "96\n",
      "97\n",
      "98\n",
      "99\n",
      "100\n",
      "101\n",
      "102\n",
      "103\n",
      "104\n",
      "105\n",
      "106\n",
      "107\n",
      "108\n",
      "109\n",
      "110\n",
      "111\n",
      "112\n",
      "113\n",
      "114\n",
      "115\n",
      "116\n",
      "117\n",
      "118\n",
      "119\n",
      "120\n",
      "121\n",
      "122\n",
      "123\n",
      "124\n",
      "125\n",
      "126\n",
      "127\n",
      "128\n",
      "129\n",
      "130\n",
      "131\n",
      "132\n",
      "133\n",
      "134\n",
      "135\n",
      "136\n",
      "137\n",
      "138\n",
      "139\n",
      "140\n",
      "141\n",
      "142\n",
      "143\n",
      "144\n",
      "145\n",
      "146\n",
      "147\n",
      "148\n",
      "149\n",
      "150\n",
      "151\n",
      "152\n",
      "153\n",
      "154\n",
      "155\n",
      "156\n",
      "157\n",
      "158\n",
      "159\n",
      "160\n",
      "161\n",
      "162\n",
      "163\n",
      "164\n",
      "165\n",
      "166\n",
      "167\n",
      "168\n",
      "169\n",
      "170\n",
      "171\n",
      "172\n",
      "173\n",
      "174\n",
      "175\n",
      "176\n",
      "177\n",
      "178\n",
      "179\n",
      "180\n",
      "181\n",
      "182\n",
      "183\n",
      "184\n",
      "185\n",
      "186\n",
      "187\n",
      "188\n",
      "189\n",
      "190\n",
      "191\n",
      "192\n",
      "193\n",
      "194\n",
      "195\n",
      "196\n",
      "197\n",
      "198\n",
      "199\n",
      "200\n",
      "201\n",
      "202\n",
      "203\n",
      "204\n",
      "205\n",
      "206\n",
      "207\n",
      "208\n",
      "209\n",
      "210\n",
      "211\n",
      "212\n",
      "213\n",
      "214\n",
      "215\n",
      "216\n",
      "217\n",
      "218\n",
      "219\n",
      "220\n",
      "221\n",
      "222\n",
      "223\n",
      "224\n",
      "225\n",
      "226\n",
      "227\n",
      "228\n",
      "229\n",
      "230\n",
      "231\n",
      "232\n",
      "233\n",
      "234\n",
      "235\n",
      "236\n",
      "237\n",
      "238\n",
      "239\n",
      "240\n",
      "241\n",
      "242\n",
      "243\n",
      "244\n",
      "245\n",
      "246\n",
      "247\n",
      "248\n",
      "249\n",
      "250\n",
      "251\n",
      "252\n",
      "253\n",
      "254\n",
      "255\n",
      "256\n",
      "257\n",
      "258\n",
      "259\n",
      "260\n",
      "261\n",
      "262\n",
      "263\n",
      "264\n",
      "265\n",
      "266\n",
      "267\n",
      "268\n",
      "269\n",
      "270\n",
      "271\n",
      "272\n",
      "273\n",
      "274\n",
      "275\n",
      "276\n",
      "277\n",
      "278\n",
      "279\n",
      "280\n",
      "281\n",
      "282\n",
      "283\n",
      "284\n",
      "285\n",
      "286\n",
      "287\n",
      "288\n",
      "289\n",
      "290\n",
      "291\n",
      "292\n",
      "293\n",
      "294\n",
      "295\n",
      "296\n",
      "297\n",
      "298\n",
      "299\n",
      "300\n",
      "301\n",
      "302\n",
      "303\n",
      "304\n",
      "305\n",
      "306\n",
      "307\n",
      "308\n",
      "309\n",
      "310\n",
      "311\n"
     ]
    }
   ],
   "source": [
    "heurscores = []\n",
    "for m in mhyps:\n",
    "    print(len(heurscores))\n",
    "    heurscores.append(score_mhyp(m, tokenizer, model, True))"
   ]
  },
  {
   "cell_type": "code",
   "execution_count": 11,
   "id": "895a58a4-58a5-4000-af02-2fae8c5684d4",
   "metadata": {
    "tags": []
   },
   "outputs": [],
   "source": [
    "heurdf = pd.DataFrame(mhyps)"
   ]
  },
  {
   "cell_type": "code",
   "execution_count": 12,
   "id": "424eb004-c1a7-4bda-8b91-e6078f6b9c50",
   "metadata": {
    "tags": []
   },
   "outputs": [
    {
     "data": {
      "text/plain": [
       "Index(['lsent', 'hsent', 'lsco', 'hsco', 'first_add', 'last_add', 'first_rep',\n",
       "       'last_rep', 'dup_lower', 'inp'],\n",
       "      dtype='object')"
      ]
     },
     "execution_count": 12,
     "metadata": {},
     "output_type": "execute_result"
    }
   ],
   "source": [
    "heurdf.keys()"
   ]
  },
  {
   "cell_type": "code",
   "execution_count": 39,
   "id": "0a9d126c-d319-473a-8ff0-c4d4ab5536d2",
   "metadata": {
    "tags": []
   },
   "outputs": [
    {
     "name": "stdout",
     "output_type": "stream",
     "text": [
      "-1.0974078783287833\n",
      "0.4426048835250794\n"
     ]
    }
   ],
   "source": [
    "keyval = \"dup_lower_score\"\n",
    "print(mean(heurdf[keyval]))\n",
    "print(stdev(heurdf[keyval]))"
   ]
  },
  {
   "cell_type": "code",
   "execution_count": 28,
   "id": "54814ed4-b4e0-4788-a8d8-1fadf0e6306d",
   "metadata": {
    "tags": []
   },
   "outputs": [],
   "source": [
    "def numlws(inp):\n",
    "    words = inp.split(\" \")\n",
    "    return len(words)"
   ]
  },
  {
   "cell_type": "code",
   "execution_count": 146,
   "id": "11369385-011a-493b-86a3-085a3c09fe57",
   "metadata": {
    "tags": []
   },
   "outputs": [],
   "source": [
    "heurworks = 0\n",
    "tot = 0\n",
    "for i, row in heurdf.iterrows():\n",
    "    if numlws(row['lsent'])<numlws(row['hsent']):\n",
    "        heurworks = heurworks+1\n",
    "    tot=tot+1"
   ]
  },
  {
   "cell_type": "code",
   "execution_count": 19,
   "id": "c2c0ee3f-5d28-4258-8260-ee5190dfd36c",
   "metadata": {
    "tags": []
   },
   "outputs": [
    {
     "data": {
      "text/plain": [
       "Index(['lsent', 'hsent', 'lsco', 'hsco', 'first_add', 'last_add', 'first_rep',\n",
       "       'last_rep', 'dup_lower', 'inp'],\n",
       "      dtype='object')"
      ]
     },
     "execution_count": 19,
     "metadata": {},
     "output_type": "execute_result"
    }
   ],
   "source": [
    "heurdf.keys()"
   ]
  },
  {
   "cell_type": "code",
   "execution_count": 24,
   "id": "9b94fbbd-153d-41d5-b8d5-5bae529a4449",
   "metadata": {
    "tags": []
   },
   "outputs": [
    {
     "name": "stdout",
     "output_type": "stream",
     "text": [
      "What is different in the brain chemistry that distinguishes thinking about moving my arm and actually moving it?You can say in your head \"I'm going to move my arm\", but not actually move it. You can also say \"I'm not going to move my arm\" and move it. Or vice versa. \n",
      "\n",
      "What goes on that allows this? What clicks when you actually want to move a body part vs just pretending you want to?\n",
      "\n",
      "Hope this isn't too confusing, but always wondered. \n",
      "____\n",
      "The chemistry in the brain that allows us to control our body is pretty simple. The hippocampus of the brain is involved in this chemistry. It is responsible for organizing and making sense of the information we receive through our senses.\n",
      "When you try to imagine yourself moving your arm, the brain doesn't fire the muscles. The hippocampus of the brain is involved in this chemistry. It is responsible for organizing and making sense of the information we receive through our senses.\n"
     ]
    }
   ],
   "source": [
    "ind = 10\n",
    "print(heurdf['inp'][ind])\n",
    "print(\"____\")\n",
    "print(heurdf['lsent'][ind])\n",
    "print(heurdf['first_rep'][ind])\n"
   ]
  },
  {
   "cell_type": "code",
   "execution_count": 15,
   "id": "caacc37c-2791-4b5e-aa51-89d559911431",
   "metadata": {
    "tags": []
   },
   "outputs": [
    {
     "name": "stdout",
     "output_type": "stream",
     "text": [
      "0   -0.35580772161483765   -0.8045804501\n",
      "10   0.3286628723144531   -0.1104174703\n",
      "20   -0.8604645133018494   -0.8810316920000001\n",
      "30   -0.2945077419281006   -0.5056922436\n",
      "40   0.33890342712402344   0.4574644566\n",
      "50   -0.24436745047569275   -0.6111600399\n",
      "60   -0.5200796127319336   -0.9107765555\n",
      "70   -1.2663441896438599   -1.6430640221\n",
      "80   -0.7991319298744202   -1.0206832886\n",
      "90   -0.3048350214958191   -0.5668616295000001\n",
      "100   -0.32803040742874146   -0.3834555149\n",
      "110   -0.14077046513557434   -0.2776529789\n",
      "120   -0.26646900177001953   -0.7397101521\n",
      "130   -0.021220728754997253   -0.1394454241\n",
      "140   -0.5703911781311035   -0.8303797245000001\n",
      "150   -0.38042694330215454   -0.46616023780000004\n",
      "160   -1.0029243230819702   -0.8941723108\n",
      "170   -0.10798532515764236   -0.3682687283\n",
      "180   -0.801095724105835   -1.2828211783999999\n",
      "190   -0.261232852935791   -0.4659695625\n",
      "200   -0.8411087989807129   -0.9951345325000001\n",
      "210   0.1931622475385666   0.006232664000000001\n",
      "220   -0.05869393050670624   -0.0711539015\n",
      "230   -0.41221264004707336   -0.7216184139\n",
      "240   -0.2859385013580322   -0.4413880706\n",
      "250   -0.1481700837612152   -0.37802213430000003\n",
      "260   -0.5081350803375244   -0.7669376135\n",
      "270   -0.7484501004219055   -0.8272018433\n",
      "280   0.0008579790592193604   -0.3023813963\n",
      "290   0.29712429642677307   0.12382813540000001\n",
      "300   0.2631937861442566   -0.0129328519\n",
      "310   -0.48672306537628174   -0.5382031202\n"
     ]
    }
   ],
   "source": [
    "longresp = \"“Researchers in Russia and China have studied this extensively.\"\n",
    "hackscos = []\n",
    "for i, row in heurdf.iterrows():\n",
    "    hackscos.append(float(getscore(row['inp'], longresp+row['hsent'], model, tokenizer)))\n",
    "    if i%10==0:\n",
    "        print(i, \" \", hackscos[-1], \" \", row['hsco'])"
   ]
  },
  {
   "cell_type": "code",
   "execution_count": 16,
   "id": "535188e5-43e3-4e13-ac5c-38243fc042bd",
   "metadata": {
    "tags": []
   },
   "outputs": [
    {
     "data": {
      "text/plain": [
       "-0.34455417712720543"
      ]
     },
     "execution_count": 16,
     "metadata": {},
     "output_type": "execute_result"
    }
   ],
   "source": [
    "mean(hackscos)"
   ]
  },
  {
   "cell_type": "code",
   "execution_count": 147,
   "id": "4589b31e-91dc-435e-a4ac-a06195de1747",
   "metadata": {
    "tags": []
   },
   "outputs": [
    {
     "data": {
      "text/plain": [
       "0.4803636363636364"
      ]
     },
     "execution_count": 147,
     "metadata": {},
     "output_type": "execute_result"
    }
   ],
   "source": [
    "heurworks/tot"
   ]
  },
  {
   "cell_type": "code",
   "execution_count": 100,
   "id": "303103e7-e3b2-4af9-8704-7bb92f6cb12c",
   "metadata": {
    "tags": []
   },
   "outputs": [
    {
     "name": "stdout",
     "output_type": "stream",
     "text": [
      "1.1105872253596387\n",
      "-2.1751972540711813\n"
     ]
    }
   ],
   "source": [
    "keyval = \"dup_lower_score\"\n",
    "print(stdev(heurdf[keyval]))\n",
    "print(mean(heurdf[keyval]))"
   ]
  },
  {
   "cell_type": "code",
   "execution_count": 78,
   "id": "ade1c5c2-5e66-4174-97bd-ca5e8805a1e7",
   "metadata": {
    "tags": []
   },
   "outputs": [
    {
     "data": {
      "text/plain": [
       "(array([  6.,  39., 195., 568., 858., 697., 322.,  53.,   9.,   3.]),\n",
       " array([-5.83685875, -4.71641765, -3.59597654, -2.47553544, -1.35509434,\n",
       "        -0.23465323,  0.88578787,  2.00622897,  3.12667007,  4.24711118,\n",
       "         5.36755228]),\n",
       " <BarContainer object of 10 artists>)"
      ]
     },
     "execution_count": 78,
     "metadata": {},
     "output_type": "execute_result"
    },
    {
     "data": {
      "image/png": "[encoded data removed]",
      "text/plain": [
       "<Figure size 640x480 with 1 Axes>"
      ]
     },
     "metadata": {},
     "output_type": "display_data"
    }
   ],
   "source": [
    "plt.hist([m['hsco'] for m in mhyps])"
   ]
  },
  {
   "cell_type": "code",
   "execution_count": 17,
   "id": "485c4076-ac33-4454-914f-69e2d7893096",
   "metadata": {
    "tags": []
   },
   "outputs": [],
   "source": [
    "ascos, ahyps = hypsco_pairs(data)"
   ]
  },
  {
   "cell_type": "code",
   "execution_count": 24,
   "id": "ab0ae966-fb1c-4763-a2bd-2fd2b8c4d6be",
   "metadata": {
    "tags": []
   },
   "outputs": [
    {
     "data": {
      "text/plain": [
       "(array([  11.,  111.,  802., 2612., 3782., 3101., 1359.,  217.,   33.,\n",
       "           4.]),\n",
       " array([-6.83677197, -5.61633954, -4.39590712, -3.17547469, -1.95504227,\n",
       "        -0.73460984,  0.48582258,  1.70625501,  2.92668743,  4.14711986,\n",
       "         5.36755228]),\n",
       " <BarContainer object of 10 artists>)"
      ]
     },
     "execution_count": 24,
     "metadata": {},
     "output_type": "execute_result"
    },
    {
     "data": {
      "image/png": "[encoded data removed]",
      "text/plain": [
       "<Figure size 640x480 with 1 Axes>"
      ]
     },
     "metadata": {},
     "output_type": "display_data"
    }
   ],
   "source": [
    "plt.hist(ascos)"
   ]
  },
  {
   "cell_type": "code",
   "execution_count": 28,
   "id": "b462e02a-ec5c-4e12-bee1-fc6bf8598362",
   "metadata": {
    "tags": []
   },
   "outputs": [],
   "source": [
    "companalysis = competency_analysis(ascos, ahyps)"
   ]
  },
  {
   "cell_type": "code",
   "execution_count": 29,
   "id": "36702c8e-0a2d-4ce4-86ed-786befbca702",
   "metadata": {
    "tags": []
   },
   "outputs": [],
   "source": [
    "probs, counts = companalysis\n",
    "words = []\n",
    "probvals = []\n",
    "countvals = []\n",
    "for k in probs.keys():\n",
    "    words.append(k)\n",
    "    probvals.append(probs[k])\n",
    "    countvals.append(sum(counts[k]))"
   ]
  },
  {
   "cell_type": "code",
   "execution_count": 71,
   "id": "46d72869-f231-4119-a7b8-ca7a733c75f1",
   "metadata": {
    "tags": []
   },
   "outputs": [
    {
     "name": "stdout",
     "output_type": "stream",
     "text": [
      "?   0.18666666666666668   825\n",
      "article   0.17204301075268819   93\n",
      "Why   0.17777777777777778   135\n",
      "am   0.11320754716981132   106\n",
      "exactly   0.15584415584415584   77\n",
      "My   0.1   70\n",
      "police   0.12   100\n",
      "men   0.14814814814814814   54\n",
      "illegal   0.13333333333333333   105\n",
      "animal   0.19607843137254902   51\n",
      "man   0.14516129032258066   62\n",
      "tried   0.17307692307692307   52\n",
      "guess   0.13333333333333333   60\n",
      "sex   0.18518518518518517   54\n",
      "media   0.16923076923076924   65\n",
      "picture   0.1875   64\n"
     ]
    }
   ],
   "source": [
    "for i in range(len(words)):\n",
    "    if probvals[i]<.2 and countvals[i]>50:\n",
    "        print(words[i], \" \", probvals[i], \" \", countvals[i])"
   ]
  },
  {
   "cell_type": "code",
   "execution_count": 31,
   "id": "f5846998-0128-4283-ad66-d00465a7e7a4",
   "metadata": {
    "tags": []
   },
   "outputs": [],
   "source": [
    "smaller = data.loc[:400]"
   ]
  },
  {
   "cell_type": "code",
   "execution_count": 18,
   "id": "583efcce-3248-409e-932e-63873560f6d7",
   "metadata": {
    "scrolled": true,
    "tags": []
   },
   "outputs": [
    {
     "name": "stdout",
     "output_type": "stream",
     "text": [
      "0\n",
      "1\n",
      "2\n",
      "3\n",
      "4\n",
      "5\n",
      "6\n",
      "7\n",
      "8\n",
      "9\n",
      "10\n",
      "11\n",
      "12\n",
      "13\n",
      "14\n",
      "15\n",
      "16\n",
      "17\n",
      "18\n",
      "19\n",
      "20\n",
      "21\n",
      "22\n",
      "23\n",
      "24\n",
      "25\n",
      "26\n",
      "27\n",
      "28\n",
      "29\n",
      "30\n",
      "31\n",
      "32\n",
      "33\n",
      "34\n",
      "35\n",
      "36\n",
      "37\n",
      "38\n",
      "39\n",
      "40\n",
      "41\n",
      "42\n",
      "43\n",
      "44\n",
      "45\n",
      "46\n",
      "47\n",
      "48\n",
      "49\n",
      "50\n",
      "51\n",
      "52\n",
      "53\n",
      "54\n",
      "55\n",
      "56\n",
      "57\n",
      "58\n",
      "59\n",
      "60\n",
      "61\n",
      "62\n",
      "63\n",
      "64\n",
      "65\n",
      "66\n",
      "67\n",
      "68\n",
      "69\n",
      "70\n",
      "71\n",
      "72\n",
      "73\n",
      "74\n",
      "75\n",
      "76\n",
      "77\n",
      "78\n",
      "79\n",
      "80\n",
      "81\n",
      "82\n",
      "83\n",
      "84\n",
      "85\n",
      "86\n",
      "87\n",
      "88\n",
      "89\n",
      "90\n",
      "91\n",
      "92\n",
      "93\n",
      "94\n",
      "95\n",
      "96\n",
      "97\n",
      "98\n",
      "99\n",
      "100\n",
      "101\n",
      "102\n",
      "103\n",
      "104\n",
      "105\n",
      "106\n",
      "107\n",
      "108\n",
      "109\n",
      "110\n",
      "111\n",
      "112\n",
      "113\n",
      "114\n",
      "115\n",
      "116\n",
      "117\n",
      "118\n",
      "119\n",
      "120\n",
      "121\n",
      "122\n",
      "123\n",
      "124\n",
      "125\n",
      "126\n",
      "127\n",
      "128\n",
      "129\n",
      "130\n",
      "131\n",
      "132\n",
      "133\n",
      "134\n",
      "135\n",
      "136\n",
      "137\n",
      "138\n",
      "139\n",
      "140\n",
      "141\n",
      "142\n",
      "143\n",
      "144\n",
      "145\n",
      "146\n",
      "147\n",
      "148\n",
      "149\n",
      "150\n",
      "151\n",
      "152\n",
      "153\n",
      "154\n",
      "155\n",
      "156\n",
      "157\n",
      "158\n",
      "159\n",
      "160\n",
      "161\n",
      "162\n",
      "163\n",
      "164\n",
      "165\n",
      "166\n",
      "167\n",
      "168\n",
      "169\n",
      "170\n",
      "171\n",
      "172\n",
      "173\n",
      "174\n",
      "175\n",
      "176\n",
      "177\n",
      "178\n",
      "179\n",
      "180\n",
      "181\n",
      "182\n",
      "183\n",
      "184\n",
      "185\n",
      "186\n",
      "187\n",
      "188\n",
      "189\n",
      "190\n",
      "191\n",
      "192\n",
      "193\n",
      "194\n",
      "195\n",
      "196\n",
      "197\n",
      "198\n",
      "199\n",
      "200\n",
      "201\n",
      "202\n",
      "203\n",
      "204\n",
      "205\n",
      "206\n",
      "207\n",
      "208\n",
      "209\n",
      "210\n",
      "211\n",
      "212\n",
      "213\n",
      "214\n",
      "215\n",
      "216\n",
      "217\n",
      "218\n",
      "219\n",
      "220\n",
      "221\n",
      "222\n",
      "223\n",
      "224\n",
      "225\n",
      "226\n",
      "227\n",
      "228\n",
      "229\n",
      "230\n",
      "231\n",
      "232\n",
      "233\n",
      "234\n",
      "235\n",
      "236\n",
      "237\n",
      "238\n",
      "239\n",
      "240\n",
      "241\n",
      "242\n",
      "243\n",
      "244\n",
      "245\n",
      "246\n",
      "247\n",
      "248\n",
      "249\n",
      "250\n",
      "251\n",
      "252\n",
      "253\n",
      "254\n",
      "255\n",
      "256\n",
      "257\n",
      "258\n",
      "259\n",
      "260\n",
      "261\n",
      "262\n",
      "263\n",
      "264\n",
      "265\n",
      "266\n",
      "267\n",
      "268\n",
      "269\n",
      "270\n",
      "271\n",
      "272\n",
      "273\n",
      "274\n",
      "275\n",
      "276\n",
      "277\n",
      "278\n",
      "279\n",
      "280\n",
      "281\n",
      "282\n",
      "283\n",
      "284\n",
      "285\n",
      "286\n",
      "287\n",
      "288\n",
      "289\n",
      "290\n",
      "291\n",
      "292\n",
      "293\n",
      "294\n",
      "295\n",
      "296\n",
      "297\n",
      "298\n",
      "299\n",
      "300\n",
      "301\n",
      "302\n",
      "303\n",
      "304\n",
      "305\n",
      "306\n",
      "307\n",
      "308\n",
      "309\n",
      "310\n",
      "311\n",
      "312\n",
      "313\n",
      "314\n",
      "315\n",
      "316\n",
      "317\n",
      "318\n",
      "319\n",
      "320\n",
      "321\n",
      "322\n",
      "323\n",
      "324\n",
      "325\n",
      "326\n",
      "327\n",
      "328\n",
      "329\n",
      "330\n",
      "331\n",
      "332\n",
      "333\n",
      "334\n",
      "335\n",
      "336\n",
      "337\n",
      "338\n",
      "339\n",
      "340\n",
      "341\n",
      "342\n",
      "343\n",
      "344\n",
      "345\n",
      "346\n",
      "347\n",
      "348\n",
      "349\n",
      "350\n",
      "351\n",
      "352\n",
      "353\n",
      "354\n",
      "355\n",
      "356\n",
      "357\n",
      "358\n",
      "359\n",
      "360\n",
      "361\n",
      "362\n",
      "363\n",
      "364\n",
      "365\n",
      "366\n",
      "367\n",
      "368\n",
      "369\n",
      "370\n",
      "371\n",
      "372\n",
      "373\n",
      "374\n",
      "375\n",
      "376\n",
      "377\n",
      "378\n",
      "379\n",
      "380\n",
      "381\n",
      "382\n",
      "383\n",
      "384\n",
      "385\n",
      "386\n",
      "387\n",
      "388\n",
      "389\n",
      "390\n",
      "391\n",
      "392\n",
      "393\n",
      "394\n",
      "395\n",
      "396\n",
      "397\n",
      "398\n",
      "399\n",
      "400\n"
     ]
    }
   ],
   "source": [
    "oascos = []\n",
    "for i, row in smaller.iterrows():\n",
    "    oatmp = []\n",
    "    print(i)\n",
    "    for s in row['hyps']:\n",
    "        oatmp.append(getscore(row['inp'], s, model, tokenizer))\n",
    "    oascos.append(oatmp)"
   ]
  },
  {
   "cell_type": "code",
   "execution_count": null,
   "id": "d43d1809-7b2b-4191-9923-cfb77903bba3",
   "metadata": {
    "tags": []
   },
   "outputs": [],
   "source": [
    "oascos"
   ]
  },
  {
   "cell_type": "code",
   "execution_count": 20,
   "id": "3a8b1d75-3a67-4deb-b361-e49b1379a882",
   "metadata": {},
   "outputs": [],
   "source": [
    "oafloat = [[float(f) for f in scos] for scos in oascos]"
   ]
  },
  {
   "cell_type": "code",
   "execution_count": 21,
   "id": "2acad5ab-aedd-4996-9ce8-b45806130b12",
   "metadata": {
    "tags": []
   },
   "outputs": [],
   "source": [
    "smaller['oascos'] = oafloat\n",
    "smaller.to_json(\"output/rawdata/bigdsetp1_oa6B.jsonl\", orient='records', lines=True)"
   ]
  },
  {
   "cell_type": "code",
   "execution_count": 8,
   "id": "c736d331-5a17-4a13-bb27-2a5537104703",
   "metadata": {},
   "outputs": [],
   "source": [
    "smaller = pd.read_json(\"output/rawdata/bigdsetp1_oa6B.jsonl\", orient='records', lines=True)"
   ]
  },
  {
   "cell_type": "code",
   "execution_count": null,
   "id": "2f3b68e4-a209-48a3-8d0e-5a9eca905926",
   "metadata": {},
   "outputs": [],
   "source": []
  }
 ],
 "metadata": {
  "kernelspec": {
   "display_name": "Python 3 (ipykernel)",
   "language": "python",
   "name": "python3"
  },
  "language_info": {
   "codemirror_mode": {
    "name": "ipython",
    "version": 3
   },
   "file_extension": ".py",
   "mimetype": "text/x-python",
   "name": "python",
   "nbconvert_exporter": "python",
   "pygments_lexer": "ipython3",
   "version": "3.9.16"
  }
 },
 "nbformat": 4,
 "nbformat_minor": 5
}
