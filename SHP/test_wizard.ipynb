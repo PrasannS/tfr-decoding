{
 "cells": [
  {
   "cell_type": "code",
   "execution_count": 1,
   "id": "1546f4dc-b164-4d37-b503-7f83f8784268",
   "metadata": {},
   "outputs": [
    {
     "name": "stderr",
     "output_type": "stream",
     "text": [
      "2023-03-01 04:25:19.009316: W tensorflow/stream_executor/platform/default/dso_loader.cc:64] Could not load dynamic library 'libcudart.so.11.0'; dlerror: libcudart.so.11.0: cannot open shared object file: No such file or directory\n",
      "2023-03-01 04:25:19.009339: I tensorflow/stream_executor/cuda/cudart_stub.cc:29] Ignore above cudart dlerror if you do not have a GPU set up on your machine.\n"
     ]
    }
   ],
   "source": [
    "from transformers import T5ForConditionalGeneration, T5Tokenizer\n",
    "import torch\n",
    "from datasets import load_dataset\n",
    "import pandas as pd\n",
    "from readability import Readability\n",
    "\n",
    "device = 'cuda:3' # if you have a GPU"
   ]
  },
  {
   "cell_type": "code",
   "execution_count": 2,
   "id": "c9bc29ea-fe88-48c9-8817-b559416ab5de",
   "metadata": {},
   "outputs": [
    {
     "data": {
      "application/vnd.jupyter.widget-view+json": {
       "model_id": "40de39dd527f4271a0d9a9bf2f2f6e43",
       "version_major": 2,
       "version_minor": 0
      },
      "text/plain": [
       "Loading checkpoint shards:   0%|          | 0/2 [00:00<?, ?it/s]"
      ]
     },
     "metadata": {},
     "output_type": "display_data"
    }
   ],
   "source": [
    "tokenizer = T5Tokenizer.from_pretrained(\"google/flan-t5-xl\")\n",
    "model = T5ForConditionalGeneration.from_pretrained(\"google/flan-t5-xl\").to(device)"
   ]
  },
  {
   "cell_type": "code",
   "execution_count": 3,
   "id": "1355df45-e7b5-4bcd-a363-56f73a86fae0",
   "metadata": {},
   "outputs": [],
   "source": [
    "wizard = pd.read_json(\"/home/prasann/miniconda3/envs/rewardenv/lib/python3.8/site-packages/data/wizard_of_wikipedia/test_random_split.json\")"
   ]
  },
  {
   "cell_type": "code",
   "execution_count": 106,
   "id": "82323243-22aa-4b2f-bd98-36d4f8753ee5",
   "metadata": {},
   "outputs": [],
   "source": [
    "def construct_prompt(row):\n",
    "    template = \\\n",
    "\"\"\"Knowledge: {knowledge:s}\n",
    "    \n",
    "The System summarizes the Knowledge, and responds in an engaging conversation with the user. It asks the user for more to continue the conversation.\n",
    " \n",
    "System: Hello! What do you want to talk about today?\n",
    "User: {start:s}\n",
    "System:\"\"\"\n",
    "    know = \"\"\n",
    "    for c in row['chosen_topic_passage']:\n",
    "        know = know + c + \" \"\n",
    "    inp = template.format(topic=row['chosen_topic'], start=row['dialog'][0]['text'], knowledge=know)\n",
    "    return inp\n",
    "\n",
    "def gen_row(rw, tok, mod, greedy=False, log=False):\n",
    "    input_text = construct_prompt(rw)\n",
    "    \n",
    "    #print(input_text)\n",
    "    input_ids = tok(input_text, return_tensors=\"pt\").input_ids.to(device)\n",
    "    if greedy:\n",
    "        outputs = mod.generate(input_ids, min_new_tokens=20, max_new_tokens=200)\n",
    "        outs = [tok.decode(outputs[0], skip_special_tokens=True)]\n",
    "    else: \n",
    "        outputs = mod.generate(input_ids, min_new_tokens=20, max_new_tokens=200, do_sample=True, top_p=.9, temperature=.9, num_return_sequences=10)\n",
    "        outs = [tok.decode(o, skip_special_tokens=True) for o in outputs]\n",
    "    if log:\n",
    "        print(input_text+\"\\n\"+str(outs))\n",
    "    return rw['dialog'][0]['text'], outs"
   ]
  },
  {
   "cell_type": "code",
   "execution_count": 107,
   "id": "593ee8e9-bea3-48ab-bb72-0102f68e38d5",
   "metadata": {},
   "outputs": [],
   "source": [
    "inp, outs = gen_row(wizard.iloc[6], tokenizer, model, False)"
   ]
  },
  {
   "cell_type": "code",
   "execution_count": 104,
   "id": "2388ac4b-c5b0-4b08-85df-f78e32525e7d",
   "metadata": {},
   "outputs": [
    {
     "data": {
      "application/vnd.jupyter.widget-view+json": {
       "model_id": "24b6fe1451d8489a98432eae3d9c247e",
       "version_major": 2,
       "version_minor": 0
      },
      "text/plain": [
       "Loading checkpoint shards:   0%|          | 0/2 [00:00<?, ?it/s]"
      ]
     },
     "metadata": {},
     "output_type": "display_data"
    }
   ],
   "source": [
    "steamtok = T5Tokenizer.from_pretrained('stanfordnlp/SteamSHP-flan-t5-xl')\n",
    "steamshp = T5ForConditionalGeneration.from_pretrained('stanfordnlp/SteamSHP-flan-t5-xl').to(device)"
   ]
  },
  {
   "cell_type": "code",
   "execution_count": 126,
   "id": "79061f54-41d2-4bef-aa6a-89a2057a9fb9",
   "metadata": {},
   "outputs": [],
   "source": [
    "def get_reward_single(inpdict):\n",
    "    template = \"POST: {context:s} \\n\\nRESPONSE A:{hyp:s} \\n\\nRESPONSE B: .\\n\\n Which response is better? RESPONSE \"\n",
    "    inp = template.format(context=inpdict['context'], hyp=inpdict['hyp'])\n",
    "    x = steamtok([inp], return_tensors='pt').input_ids.to(device)\n",
    "    outputs = steamshp.generate(x, return_dict_in_generate=True, output_scores=True, max_new_tokens=1)\n",
    "    return torch.exp(outputs.scores[0][:, 71]) / torch.exp(outputs.scores[0][:,:]).sum(axis=1).item() # index 71 corresponds to the token for 'A'\n",
    "\n",
    "def score_dialogue(start, hyp):\n",
    "    cont = start+\" Does anyone have any relevant thoughts or information? More details would be better.\"\n",
    "    sco = float(get_reward_single({\"context\":cont , \"hyp\":hyp}))\n",
    "    return sco\n",
    "\n",
    "def comp_rerank_greedy(row):\n",
    "    inp, outs = gen_row(row, tokenizer, model, False) # do sampling for rerank\n",
    "    _, greedy_out = gen_row(row, tokenizer, model, True) # do greedy \n",
    "    scos = [score_dialogue(inp, o) for o in outs]\n",
    "    greedysco = score_dialogue(inp, greedy_out[0])\n",
    "    # return list of stuff to put in dict \n",
    "    return pd.DataFrame(list([{'gout':greedy_out[0], 'gsco':greedysco, 'inp':inp, 'hyp':outs[i], 'sco':scos[i]} for i in range(len(scos))]))\n",
    "    \n"
   ]
  },
  {
   "cell_type": "code",
   "execution_count": 133,
   "id": "a2ef45a7-52bb-496a-8605-a48af88238e6",
   "metadata": {},
   "outputs": [],
   "source": [
    "def get_many_exouts(total):\n",
    "    resdfs = []\n",
    "    for i in range(total):\n",
    "        print(i)\n",
    "        resdfs.append(comp_rerank_greedy(wizard.iloc[i]))\n",
    "    return resdfs"
   ]
  },
  {
   "cell_type": "code",
   "execution_count": 172,
   "id": "04079440-d0da-4faa-931b-f2d30e8bbe9b",
   "metadata": {},
   "outputs": [],
   "source": [
    "def print_wiz_data(ind):\n",
    "    pmpt = construct_prompt(wizard.iloc[ind])\n",
    "    print(pmpt)\n",
    "    outs = check_df.iloc[ind*10:(ind+1)*10]\n",
    "    print(\"Greedy Output: \\n\", outs['gsco'].iloc[0], \" \", outs['gout'].iloc[0], \"\\n\")\n",
    "    print(\"Sampling Output: \\n\")\n",
    "    for o in range(10):\n",
    "        print( outs['sco'].iloc[o], \" \",outs['hyp'].iloc[o], \"\\n\")\n",
    "    "
   ]
  },
  {
   "cell_type": "code",
   "execution_count": 186,
   "id": "53e15115-9d50-429b-a2c1-b6cbd737abba",
   "metadata": {},
   "outputs": [
    {
     "name": "stdout",
     "output_type": "stream",
     "text": [
      "Knowledge: Science fiction (often shortened to SF or sci-fi) is a genre of speculative fiction, typically dealing with imaginative concepts such as futuristic science and technology, space travel, time travel, faster than light travel, parallel universes, and extraterrestrial life. Science fiction often explores the potential consequences of scientific and other innovations, and has been called a \"literature of ideas\". It usually avoids the supernatural, unlike the related genre of fantasy. Historically, science-fiction stories have had a grounding in actual science, but now this is only expected of hard science fiction. Science fiction is difficult to define, as it includes a wide range of subgenres and themes. Hugo Gernsback, who suggested the term \"scientifiction\" for his \"Amazing Stories\" magazine, wrote: \"By 'scientifiction' I mean the Jules Verne, H. G. Wells and Edgar Allan Poe type of story—a charming romance intermingled with scientific fact and prophetic vision... Not only do these amazing tales make tremendously interesting reading—they are always instructive. They supply knowledge... in a very palatable form... New adventures pictured for us in the scientifiction of today are not at all impossible of realization tomorrow... \n",
      "    \n",
      "The System summarizes the Knowledge, and responds in an engaging conversation with the user. It asks the user for more to continue the conversation.\n",
      " \n",
      "System: Hello! What do you want to talk about today?\n",
      "User: Science fiction used to be based on actual science, but now it is pretty much only hard science fiction that bases itself on real science.\n",
      "System:\n",
      "Greedy Output: \n",
      " 0.7954511642456055   That's right. Science fiction is a genre of speculative fiction, typically dealing with imaginative concepts such as futuristic science and technology, space travel, time travel, faster than light travel, parallel universes, and extraterrestrial life. \n",
      "\n",
      "Sampling Output: \n",
      "\n",
      "0.35746636986732483   Great question! Let's look up some related information. You mentioned hard science fiction, and I found some articles about that. \n",
      "\n",
      "0.38801324367523193   Yes. I understand. So what does science fiction include? What do you like in it? What can you tell me about it? \n",
      "\n",
      "0.31788399815559387   How interesting! I thought it was about space travel, time travel, and all things space related. \n",
      "\n",
      "0.7388776540756226   That’s interesting! I thought you meant hard sci-fi. And I think you are right. Hard sci-fi is not the only type of science fiction. \n",
      "\n",
      "0.7893607020378113   Alright, let's talk about science fiction. The term has been around for many centuries. \n",
      "\n",
      "0.6600367426872253   What does \"hard science fiction\" mean? And what is a good example of a hard science fiction novel? \n",
      "\n",
      "0.8320276141166687   Yes, that's right. I was just wondering why the word \"hard science fiction\" is now only used for the stories that involve actual science and actual science fiction. \n",
      "\n",
      "0.427930623292923   Okay, and what else would you like to know? I can help you with that. What is it you want to know? \n",
      "\n",
      "0.5782846212387085   I didn't know that! I thought that science fiction hasn't gotten much harder to define. \n",
      "\n",
      "0.5497127771377563   Sure. I've tried to find the most popular kinds of science fiction. If you want to change anything, just let me know. \n",
      "\n"
     ]
    }
   ],
   "source": [
    "print_wiz_data(16)"
   ]
  },
  {
   "cell_type": "code",
   "execution_count": null,
   "id": "192f7f46-c37a-46b9-aee6-501ebc286fe8",
   "metadata": {},
   "outputs": [],
   "source": [
    "check_outs = get_many_exouts(50)"
   ]
  },
  {
   "cell_type": "code",
   "execution_count": 135,
   "id": "a55c57da-65df-4c22-a06f-8edf579585c5",
   "metadata": {},
   "outputs": [],
   "source": [
    "check_df = pd.concat(check_outs)"
   ]
  },
  {
   "cell_type": "code",
   "execution_count": 187,
   "id": "dc0ede36-eca3-4b40-85d7-c4cd52e62526",
   "metadata": {},
   "outputs": [
    {
     "data": {
      "text/plain": [
       "0.7093579197824001"
      ]
     },
     "execution_count": 187,
     "metadata": {},
     "output_type": "execute_result"
    }
   ],
   "source": [
    "check_df['sco'].mean()"
   ]
  },
  {
   "cell_type": "code",
   "execution_count": 141,
   "id": "7bb14820-fd88-4113-a0b0-e62167f21977",
   "metadata": {},
   "outputs": [
    {
     "data": {
      "text/html": [
       "<div>\n",
       "<style scoped>\n",
       "    .dataframe tbody tr th:only-of-type {\n",
       "        vertical-align: middle;\n",
       "    }\n",
       "\n",
       "    .dataframe tbody tr th {\n",
       "        vertical-align: top;\n",
       "    }\n",
       "\n",
       "    .dataframe thead th {\n",
       "        text-align: right;\n",
       "    }\n",
       "</style>\n",
       "<table border=\"1\" class=\"dataframe\">\n",
       "  <thead>\n",
       "    <tr style=\"text-align: right;\">\n",
       "      <th></th>\n",
       "      <th>gout</th>\n",
       "      <th>gsco</th>\n",
       "      <th>inp</th>\n",
       "      <th>hyp</th>\n",
       "      <th>sco</th>\n",
       "    </tr>\n",
       "  </thead>\n",
       "  <tbody>\n",
       "    <tr>\n",
       "      <th>0</th>\n",
       "      <td>Ok. Here are some facts about blue. Blue is on...</td>\n",
       "      <td>0.807007</td>\n",
       "      <td>Blue is my favorite primary color.</td>\n",
       "      <td>Happy to help! Let me just confirm that the co...</td>\n",
       "      <td>0.624099</td>\n",
       "    </tr>\n",
       "    <tr>\n",
       "      <th>1</th>\n",
       "      <td>Ok. Here are some facts about blue. Blue is on...</td>\n",
       "      <td>0.807007</td>\n",
       "      <td>Blue is my favorite primary color.</td>\n",
       "      <td>What would you like to learn about? You can fi...</td>\n",
       "      <td>0.505249</td>\n",
       "    </tr>\n",
       "    <tr>\n",
       "      <th>2</th>\n",
       "      <td>Ok. Here are some facts about blue. Blue is on...</td>\n",
       "      <td>0.807007</td>\n",
       "      <td>Blue is my favorite primary color.</td>\n",
       "      <td>What is blue? rnrnrnrn</td>\n",
       "      <td>0.523563</td>\n",
       "    </tr>\n",
       "    <tr>\n",
       "      <th>3</th>\n",
       "      <td>Ok. Here are some facts about blue. Blue is on...</td>\n",
       "      <td>0.807007</td>\n",
       "      <td>Blue is my favorite primary color.</td>\n",
       "      <td>Well, let me do some research. Blue is one of ...</td>\n",
       "      <td>0.482060</td>\n",
       "    </tr>\n",
       "    <tr>\n",
       "      <th>4</th>\n",
       "      <td>Ok. Here are some facts about blue. Blue is on...</td>\n",
       "      <td>0.807007</td>\n",
       "      <td>Blue is my favorite primary color.</td>\n",
       "      <td>Yes, I can help you with that. Let me look som...</td>\n",
       "      <td>0.533534</td>\n",
       "    </tr>\n",
       "    <tr>\n",
       "      <th>...</th>\n",
       "      <td>...</td>\n",
       "      <td>...</td>\n",
       "      <td>...</td>\n",
       "      <td>...</td>\n",
       "      <td>...</td>\n",
       "    </tr>\n",
       "    <tr>\n",
       "      <th>5</th>\n",
       "      <td>Oh, I see. Walmart is a very large company. It...</td>\n",
       "      <td>0.715410</td>\n",
       "      <td>Walmart is the only big box store in my town s...</td>\n",
       "      <td>Yeah, but it's a chain, so you are able to fin...</td>\n",
       "      <td>0.514161</td>\n",
       "    </tr>\n",
       "    <tr>\n",
       "      <th>6</th>\n",
       "      <td>Oh, I see. Walmart is a very large company. It...</td>\n",
       "      <td>0.715410</td>\n",
       "      <td>Walmart is the only big box store in my town s...</td>\n",
       "      <td>Do you have a specific type of Walmart? I can ...</td>\n",
       "      <td>0.413809</td>\n",
       "    </tr>\n",
       "    <tr>\n",
       "      <th>7</th>\n",
       "      <td>Oh, I see. Walmart is a very large company. It...</td>\n",
       "      <td>0.715410</td>\n",
       "      <td>Walmart is the only big box store in my town s...</td>\n",
       "      <td>Oh! Walmart is one of the biggest retailers in...</td>\n",
       "      <td>0.825878</td>\n",
       "    </tr>\n",
       "    <tr>\n",
       "      <th>8</th>\n",
       "      <td>Oh, I see. Walmart is a very large company. It...</td>\n",
       "      <td>0.715410</td>\n",
       "      <td>Walmart is the only big box store in my town s...</td>\n",
       "      <td>What do you do there? Do you want me to do som...</td>\n",
       "      <td>0.251252</td>\n",
       "    </tr>\n",
       "    <tr>\n",
       "      <th>9</th>\n",
       "      <td>Oh, I see. Walmart is a very large company. It...</td>\n",
       "      <td>0.715410</td>\n",
       "      <td>Walmart is the only big box store in my town s...</td>\n",
       "      <td>Ok, what would you like to know? Walmart is a ...</td>\n",
       "      <td>0.711837</td>\n",
       "    </tr>\n",
       "  </tbody>\n",
       "</table>\n",
       "<p>500 rows × 5 columns</p>\n",
       "</div>"
      ],
      "text/plain": [
       "                                                 gout      gsco  \\\n",
       "0   Ok. Here are some facts about blue. Blue is on...  0.807007   \n",
       "1   Ok. Here are some facts about blue. Blue is on...  0.807007   \n",
       "2   Ok. Here are some facts about blue. Blue is on...  0.807007   \n",
       "3   Ok. Here are some facts about blue. Blue is on...  0.807007   \n",
       "4   Ok. Here are some facts about blue. Blue is on...  0.807007   \n",
       "..                                                ...       ...   \n",
       "5   Oh, I see. Walmart is a very large company. It...  0.715410   \n",
       "6   Oh, I see. Walmart is a very large company. It...  0.715410   \n",
       "7   Oh, I see. Walmart is a very large company. It...  0.715410   \n",
       "8   Oh, I see. Walmart is a very large company. It...  0.715410   \n",
       "9   Oh, I see. Walmart is a very large company. It...  0.715410   \n",
       "\n",
       "                                                  inp  \\\n",
       "0                  Blue is my favorite primary color.   \n",
       "1                  Blue is my favorite primary color.   \n",
       "2                  Blue is my favorite primary color.   \n",
       "3                  Blue is my favorite primary color.   \n",
       "4                  Blue is my favorite primary color.   \n",
       "..                                                ...   \n",
       "5   Walmart is the only big box store in my town s...   \n",
       "6   Walmart is the only big box store in my town s...   \n",
       "7   Walmart is the only big box store in my town s...   \n",
       "8   Walmart is the only big box store in my town s...   \n",
       "9   Walmart is the only big box store in my town s...   \n",
       "\n",
       "                                                  hyp       sco  \n",
       "0   Happy to help! Let me just confirm that the co...  0.624099  \n",
       "1   What would you like to learn about? You can fi...  0.505249  \n",
       "2                              What is blue? rnrnrnrn  0.523563  \n",
       "3   Well, let me do some research. Blue is one of ...  0.482060  \n",
       "4   Yes, I can help you with that. Let me look som...  0.533534  \n",
       "..                                                ...       ...  \n",
       "5   Yeah, but it's a chain, so you are able to fin...  0.514161  \n",
       "6   Do you have a specific type of Walmart? I can ...  0.413809  \n",
       "7   Oh! Walmart is one of the biggest retailers in...  0.825878  \n",
       "8   What do you do there? Do you want me to do som...  0.251252  \n",
       "9   Ok, what would you like to know? Walmart is a ...  0.711837  \n",
       "\n",
       "[500 rows x 5 columns]"
      ]
     },
     "execution_count": 141,
     "metadata": {},
     "output_type": "execute_result"
    }
   ],
   "source": [
    "check_df"
   ]
  },
  {
   "cell_type": "code",
   "execution_count": 154,
   "id": "13b569bb-83e5-48ff-9132-a0ea1b9aa364",
   "metadata": {},
   "outputs": [
    {
     "data": {
      "text/plain": [
       "0.895716643333435"
      ]
     },
     "execution_count": 154,
     "metadata": {},
     "output_type": "execute_result"
    }
   ],
   "source": [
    "rer_met('sco', 'sco', check_df, False)"
   ]
  },
  {
   "cell_type": "code",
   "execution_count": 145,
   "id": "47456779-6d6d-4c35-b41f-dbfb6378d253",
   "metadata": {},
   "outputs": [],
   "source": [
    "def rer_met(rer, tgt, df, get_df=True):\n",
    "    N=1\n",
    "    fsort = df.sort_values(by=['gout', rer], ascending=[True, False]).groupby('gout', as_index=False).nth[:N]\n",
    "    if get_df:\n",
    "        return fsort\n",
    "    else:\n",
    "        return fsort[tgt].mean()"
   ]
  },
  {
   "cell_type": "code",
   "execution_count": 130,
   "id": "de4b805f-b862-4cb8-bb64-68cedccbdd9b",
   "metadata": {},
   "outputs": [
    {
     "data": {
      "text/plain": [
       "[('OK. Here are some basic facts about blue. Blue is one of the three primary colors of pigments in painting and traditional color theory, as well as in the RGB color model. It lies between violet and green on the spectrum of visible light. The eye perceives blue when observing light with a dominant wavelength between approximately 450 and 495 nanometres. Most blues contain a slight mixture of other colors; azure contains some green, while ultramarine contains some violet. The clear daytime sky and the deep sea appear blue because of an optical effect known as Rayleigh scattering. An optical effect called Tyndall scattering explains blue eyes. Distant objects appear more blue because of another optical effect called atmospheric perspective. In the eighth century Chinese artists used cobalt blue to colour fine blue and white porcelain. In the Middle Ages, European artists used it in the windows of Cathedrals. Europeans wore clothing coloured with the',\n",
       "  0.8639145493507385),\n",
       " ('How is your favorite color blue? Have you decided on a name for it? Its also known as cyan or smoky blue.',\n",
       "  0.5918046832084656),\n",
       " (\"Oh cool, let's look into some other primary colors! What is your favorite? I found some interesting facts about blue.\",\n",
       "  0.6300709843635559),\n",
       " (\"That's right. It has been the most important color in art and decoration since ancient times.\",\n",
       "  0.7962784171104431),\n",
       " ('Cool. Are you interested in what blue is? I can help you with that. What is your question?',\n",
       "  0.6126123070716858),\n",
       " ('Oh cool. I found some interesting articles about the color blue. What would you like to know?',\n",
       "  0.6506255865097046),\n",
       " ('OK. Do you know how blue is described in the color wheel? Is it purple, green, or blue?',\n",
       "  0.40492019057273865),\n",
       " ('Happy to help! Let me just confirm that the color blue is one of the three primary colors of pigments in painting and traditional color theory, as well as in the RGB color model.',\n",
       "  0.6240993142127991),\n",
       " (\"That's great! How about more information about Blue? The blue that you're interested in is the color cobalt blue.\",\n",
       "  0.6683710813522339),\n",
       " ('Happy to help! Let me just confirm that the color blue is one of the three primary colors of pigments in painting and traditional color theory, as well as in the RGB color model.',\n",
       "  0.6240993142127991)]"
      ]
     },
     "execution_count": 130,
     "metadata": {},
     "output_type": "execute_result"
    }
   ],
   "source": [
    "list(zip(list(exout['hyp']), list(exout['sco'])))"
   ]
  },
  {
   "cell_type": "code",
   "execution_count": 119,
   "id": "96c2652c-b2b4-4fca-bae9-591612bab093",
   "metadata": {},
   "outputs": [],
   "source": [
    "scos = []\n",
    "for o in outs:\n",
    "    scos.append(score_dialogue(inp, o))"
   ]
  },
  {
   "cell_type": "code",
   "execution_count": 120,
   "id": "481660b3-177e-46d6-ba48-c514eee34173",
   "metadata": {},
   "outputs": [
    {
     "name": "stdout",
     "output_type": "stream",
     "text": [
      "[(0.9600575566291809, 'Adolph Coors and Jacob Schueler from Prussia. In 1873, German immigrants Adolph Coors and Jacob Schueler from Prussia emigrated to the United States and established a brewery in Golden, Colorado, after buying a recipe for a Pilsner-style beer from a Czech immigrant William Silhan.'), (0.7504631280899048, 'Sure. Which question are you asking me?. For example, \"who founded Coors Brewing Company?\".'), (0.9470096230506897, 'Adolph Coors and Jacob Schueler. They founded the Coors Brewing Company in Colorado.'), (0.9588615894317627, \"Sure. I can help you with that. Let's do this. You want to talk about Adolph Coors and Jacob Schueler.\"), (0.9791781902313232, 'Adolph Coors and Jacob Schueler from Prussia emigrated to the United States and established a brewery in Golden, Colorado, after buying a recipe for a Pilsner-style beer from a Czech immigrant William Silhan.'), (0.9568148851394653, 'Adolph Coors and Jacob Schueler. Adolph Coors and Jacob Schueler from Prussia emigrated to the United States and established a brewery in Golden, Colorado, after buying a recipe for a Pilsner-style beer from a Czech immigrant William Silhan.'), (0.9412631988525391, 'Sure! Would you like to learn about Adolph Coors? He was the first owner of Coors Brewing Company.'), (0.9855255484580994, 'German immigrants Adolph Coors and Jacob Schueler from Prussia emigrated to the United States and established a brewery in Golden, Colorado, after buying a recipe for a Pilsner-style beer from a Czech immigrant William Silhan.'), (0.808519721031189, \"Yes, I'm looking into Adolph Coors and Jacob Schueler from Prussia.\"), (0.4848349988460541, \"What's the name of the brewery? I want to know the history of the name. I know it's the name of a beer.\")]\n"
     ]
    }
   ],
   "source": [
    "print(list(zip(scos, outs)))"
   ]
  },
  {
   "cell_type": "code",
   "execution_count": null,
   "id": "dbbe31e0-9835-4e19-bf4c-6af70132a33d",
   "metadata": {},
   "outputs": [],
   "source": []
  }
 ],
 "metadata": {
  "kernelspec": {
   "display_name": "Python 3 (ipykernel)",
   "language": "python",
   "name": "python3"
  },
  "language_info": {
   "codemirror_mode": {
    "name": "ipython",
    "version": 3
   },
   "file_extension": ".py",
   "mimetype": "text/x-python",
   "name": "python",
   "nbconvert_exporter": "python",
   "pygments_lexer": "ipython3",
   "version": "3.8.12"
  }
 },
 "nbformat": 4,
 "nbformat_minor": 5
}
