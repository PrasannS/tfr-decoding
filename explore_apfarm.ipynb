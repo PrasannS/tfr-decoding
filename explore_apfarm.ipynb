{
 "cells": [
  {
   "cell_type": "code",
   "execution_count": 1,
   "id": "9c4fb6fe-7a04-41ca-9ab2-8a5e0b462885",
   "metadata": {
    "scrolled": true
   },
   "outputs": [
    {
     "name": "stderr",
     "output_type": "stream",
     "text": [
      "/home/prasann/miniconda3/envs/aplora/lib/python3.9/site-packages/tqdm/auto.py:21: TqdmWarning: IProgress not found. Please update jupyter and ipywidgets. See https://ipywidgets.readthedocs.io/en/stable/user_install.html\n",
      "  from .autonotebook import tqdm as notebook_tqdm\n"
     ]
    },
    {
     "name": "stdout",
     "output_type": "stream",
     "text": [
      "\n",
      "===================================BUG REPORT===================================\n",
      "Welcome to bitsandbytes. For bug reports, please run\n",
      "\n",
      "python -m bitsandbytes\n",
      "\n",
      " and submit this information together with your error trace to: https://github.com/TimDettmers/bitsandbytes/issues\n",
      "================================================================================\n",
      "bin /home/prasann/miniconda3/envs/aplora/lib/python3.9/site-packages/bitsandbytes/libbitsandbytes_cuda120.so\n",
      "CUDA_SETUP: WARNING! libcudart.so not found in any environmental path. Searching in backup paths...\n",
      "CUDA SETUP: CUDA runtime path found: /usr/local/cuda/lib64/libcudart.so\n",
      "CUDA SETUP: Highest compute capability among GPUs detected: 8.6\n",
      "CUDA SETUP: Detected CUDA version 120\n",
      "CUDA SETUP: Loading binary /home/prasann/miniconda3/envs/aplora/lib/python3.9/site-packages/bitsandbytes/libbitsandbytes_cuda120.so...\n"
     ]
    },
    {
     "name": "stderr",
     "output_type": "stream",
     "text": [
      "/home/prasann/miniconda3/envs/aplora/lib/python3.9/site-packages/bitsandbytes/cuda_setup/main.py:149: UserWarning: /home/prasann/miniconda3/envs/aplora did not contain ['libcudart.so', 'libcudart.so.11.0', 'libcudart.so.12.0'] as expected! Searching further paths...\n",
      "  warn(msg)\n",
      "/home/prasann/miniconda3/envs/aplora/lib/python3.9/site-packages/bitsandbytes/cuda_setup/main.py:149: UserWarning: WARNING: The following directories listed in your path were found to be non-existent: {PosixPath('module'), PosixPath('//matplotlib_inline.backend_inline')}\n",
      "  warn(msg)\n"
     ]
    }
   ],
   "source": [
    "from alpaca_farm.models import reward_model\n",
    "from alpaca_farm.inference.decode import load_model_and_tokenizer_for_inference \n",
    "from alpaca_farm.inference.score import score_sequences_with_huggingface_given_model\n",
    "from transformers import T5Tokenizer, T5ForConditionalGeneration\n",
    "from alpaca_farm import utils\n",
    "import pandas as pd\n",
    "from statistics import mean, stdev\n",
    "import matplotlib.pyplot as plt\n",
    "from scipy.stats import spearmanr\n",
    "from src.utils.samp_utils import gen_row, get_reward_single, get_reward_double\n",
    "import alpaca_farm.data_preprocessor as data_preprocessor\n",
    "import random\n",
    "import math\n",
    "device=\"cuda:1\""
   ]
  },
  {
   "cell_type": "code",
   "execution_count": 2,
   "id": "75efd7bf-df2a-4b21-b9aa-7f8109dbe524",
   "metadata": {},
   "outputs": [],
   "source": [
    "%load_ext autoreload\n",
    "%autoreload 2"
   ]
  },
  {
   "cell_type": "code",
   "execution_count": null,
   "id": "d8ccef20-5410-4039-a738-20220bc09aea",
   "metadata": {},
   "outputs": [],
   "source": [
    "steamtok = T5Tokenizer.from_pretrained('stanfordnlp/SteamSHP-flan-t5-xl')\n",
    "steamshp = T5ForConditionalGeneration.from_pretrained('stanfordnlp/SteamSHP-flan-t5-xl').to(device)\n",
    "steamshp.eval()"
   ]
  },
  {
   "cell_type": "code",
   "execution_count": 2,
   "id": "8612bd8a-0ddf-4aeb-9db6-057ecc23453c",
   "metadata": {
    "scrolled": true
   },
   "outputs": [
    {
     "name": "stderr",
     "output_type": "stream",
     "text": [
      "Loading model for inference: /home/prasann/Projects/tfr-decoding/apfarm_models/reward-model-human/\n",
      "Loading checkpoint shards: 100%|███████████████████████████████████████████████████████████████████████████████████████████████████████████████████| 3/3 [00:12<00:00,  4.05s/it]\n",
      "Loading checkpoint shards: 100%|███████████████████████████████████████████████████████████████████████████████████████████████████████████████████| 3/3 [00:16<00:00,  5.37s/it]\n"
     ]
    }
   ],
   "source": [
    "model, tokenizer = load_model_and_tokenizer_for_inference(\n",
    "    model_name_or_path=\"/home/prasann/Projects/tfr-decoding/apfarm_models/reward-model-human/\",\n",
    "    model_cls=reward_model.RewardModel,\n",
    "    cache_dir=None,\n",
    "    model_kwargs=dict(\n",
    "        torch_dtype=utils.convert_str_dtype_to_torch_dtype(None),\n",
    "        flash_attn=False,\n",
    "    ),\n",
    ")"
   ]
  },
  {
   "cell_type": "code",
   "execution_count": null,
   "id": "a5a93dbf-2a67-4958-9896-efe43a97d48d",
   "metadata": {},
   "outputs": [],
   "source": [
    "model, tokenizer = load_model_and_tokenizer_for_inference(\n",
    "    model_name_or_path='/home/prasann/Projects/tfr-decoding/apfarm_models/ppo-human/',\n",
    "    cache_dir=None,\n",
    "    model_kwargs=dict(torch_dtype=utils.convert_str_dtype_to_torch_dtype(None)),\n",
    ")"
   ]
  },
  {
   "cell_type": "code",
   "execution_count": 3,
   "id": "437640b4-59b1-49e6-aabd-4b7ecfd8748e",
   "metadata": {},
   "outputs": [],
   "source": [
    "def generate_stuff(question):\n",
    "    pdict_path = \"/home/prasann/Projects/tfr-decoding/alpaca_farm/examples/prompts/v0_inputs_noinputs.json\"\n",
    "    prompts, list_dict_data, metadata = data_preprocessor.format_prompt_with_data_frame(\n",
    "        df=pd.DataFrame({'instruction':[question], 'input':[\"\"]}),\n",
    "        prompt_dict=utils.jload(pdict_path),\n",
    "    )\n",
    "    inps = tokenizer(prompts, return_tensors=\"pt\").to(\"cuda\")\n",
    "    outs = model.generate(inps.input_ids, attention_mask=inps.attention_mask, do_sample=True, temperature=1.0,max_new_tokens=300,num_return_sequences=2,)\n",
    "    return tokenizer.batch_decode(outs, skip_special_tokens=True)"
   ]
  },
  {
   "cell_type": "code",
   "execution_count": null,
   "id": "debe9d9e-046c-4c97-9562-7be1ad7f51a0",
   "metadata": {},
   "outputs": [],
   "source": [
    "otmp = generate_stuff(alldfs['instruction'].loc[0])"
   ]
  },
  {
   "cell_type": "code",
   "execution_count": null,
   "id": "1a9d156a-34a5-4361-8c54-4007822f27b4",
   "metadata": {},
   "outputs": [],
   "source": [
    "scos = [float(get_reward_single({\"context\": alldfs['instruction'].loc[0], \"hyp\":o}, steamtok, steamshp)) for o in otmp]\n",
    "print(scos)"
   ]
  },
  {
   "cell_type": "code",
   "execution_count": null,
   "id": "18542446-0158-4388-be74-f4add0591274",
   "metadata": {},
   "outputs": [],
   "source": [
    "print(otmp[1])"
   ]
  },
  {
   "cell_type": "code",
   "execution_count": 9,
   "id": "d00ce21d-2474-4af4-9929-7c152181fd38",
   "metadata": {},
   "outputs": [],
   "source": [
    "ppoouts = pd.read_json(\"alpaca_farm/bon_outs/ppohum.jsonl\", orient=\"records\").drop(columns=['input', 'scorer_name_or_path'])\n",
    "sftouts = pd.read_json(\"alpaca_farm/bon_outs/sft.jsonl\", orient=\"records\").drop(columns=['input', 'scorer_name_or_path'])\n"
   ]
  },
  {
   "cell_type": "code",
   "execution_count": 4,
   "id": "9bfc0070-632d-4ac6-a461-e110f784b347",
   "metadata": {},
   "outputs": [],
   "source": [
    "def scoreseq(inp, ans):\n",
    "    # TODO make a batched version if necessary\n",
    "    template = \"Below is an instruction that describes a task. Write a response that appropriately completes the request.\\n\\n### Instruction:\\n{instruction}\\n\\n### Response:{response}\"\n",
    "    seq = template.format(instruction=inp, response=ans)\n",
    "    return score_sequences_with_huggingface_given_model(model, tokenizer, [seq], per_device_batch_size=1)\n",
    "    "
   ]
  },
  {
   "cell_type": "code",
   "execution_count": null,
   "id": "279f70a2-69d4-40c5-94bc-2206c37ab7ab",
   "metadata": {},
   "outputs": [],
   "source": [
    "inp = ppoouts.loc[1]['instruction']\n",
    "hyp = ppoouts.loc[1]['output'][1]\n",
    "scoreseq(inp, hyp)"
   ]
  },
  {
   "cell_type": "code",
   "execution_count": null,
   "id": "99eb00d4-29ee-4374-816b-5790ea519b3b",
   "metadata": {},
   "outputs": [],
   "source": [
    "ppoouts.loc[1].top_index[0]"
   ]
  },
  {
   "cell_type": "code",
   "execution_count": 4,
   "id": "81259a38-a673-4ad6-84ef-0567e5459f05",
   "metadata": {},
   "outputs": [],
   "source": [
    "def printex(row):\n",
    "    print(row.instruction)\n",
    "    for i in [1, 2, 6, 7]:\n",
    "        topind = row.top_index[i]\n",
    "        print(row.top_scores[topind])\n",
    "        print(row.output[topind])"
   ]
  },
  {
   "cell_type": "code",
   "execution_count": null,
   "id": "adbe537f-b6c9-410a-81ae-35857c798fb7",
   "metadata": {},
   "outputs": [],
   "source": []
  },
  {
   "cell_type": "code",
   "execution_count": null,
   "id": "91afb61b-62e0-4de3-9de5-b59f82998e1d",
   "metadata": {
    "scrolled": true
   },
   "outputs": [],
   "source": [
    "\n",
    "ind = 15\n",
    "print(\"_________\")\n",
    "print(\"BEFORE PPO\")\n",
    "printex(sftouts.loc[ind])\n",
    "print(\"_________\")\n",
    "print(\"AFTER PPO\")\n",
    "printex(ppoouts.loc[ind])\n"
   ]
  },
  {
   "cell_type": "code",
   "execution_count": null,
   "id": "6896b22a-7a28-4a00-ae80-4f9184c4d560",
   "metadata": {},
   "outputs": [],
   "source": [
    "mean([mean(m) for m in ppoouts.top_scores])"
   ]
  },
  {
   "cell_type": "code",
   "execution_count": null,
   "id": "7c30f21a-582f-4a3e-872f-c2d8338617b7",
   "metadata": {},
   "outputs": [],
   "source": [
    "lendist = []\n",
    "for sc in sftouts.output:\n",
    "    lendist.extend([len(tokenizer(s).input_ids) for s in sc])\n",
    "print(mean(lendist))\n",
    "plt.hist(lendist)"
   ]
  },
  {
   "cell_type": "code",
   "execution_count": null,
   "id": "c6442b6f-587c-4305-a47a-d93b4e055b26",
   "metadata": {},
   "outputs": [],
   "source": [
    "scodist = []\n",
    "for sc in sftouts.top_scores:\n",
    "    scodist.extend(sc)\n",
    "plt.hist(scodist)"
   ]
  },
  {
   "cell_type": "code",
   "execution_count": null,
   "id": "ed64c2f7-ea74-4879-bec1-501de78fe2fd",
   "metadata": {},
   "outputs": [],
   "source": [
    "nldist = []\n",
    "nsdist = []\n",
    "for i in range(len(lendist)):\n",
    "    if lendist[i]>=300:\n",
    "        continue\n",
    "    nldist.append(lendist[i])\n",
    "    nsdist.append(scodist[i])"
   ]
  },
  {
   "cell_type": "code",
   "execution_count": null,
   "id": "7a94986e-7dc4-4f0b-8729-8cb774bfa01b",
   "metadata": {},
   "outputs": [],
   "source": [
    "spearmanr(nldist, nsdist)"
   ]
  },
  {
   "cell_type": "code",
   "execution_count": null,
   "id": "31642e21-e5b2-4a33-97df-f89580dc12d0",
   "metadata": {},
   "outputs": [],
   "source": [
    "plt.scatter(nldist, nsdist)"
   ]
  },
  {
   "cell_type": "code",
   "execution_count": null,
   "id": "5356ef46-7129-4cbc-9599-77a6ebb1ff67",
   "metadata": {},
   "outputs": [],
   "source": [
    "sftouts.loc[7]['output']"
   ]
  },
  {
   "cell_type": "code",
   "execution_count": 8,
   "id": "7b7f990b-c1fa-4c3b-855c-29b2e633d8dc",
   "metadata": {},
   "outputs": [],
   "source": [
    "from os import listdir"
   ]
  },
  {
   "cell_type": "code",
   "execution_count": 3,
   "id": "8f33d246-7f6d-420d-924b-3ada72f8aff8",
   "metadata": {},
   "outputs": [],
   "source": [
    "dfs = []\n",
    "for dir in listdir(\"alpaca_farm/bon_outs/\"):\n",
    "    if 'eli' in dir:\n",
    "        dfs.append(pd.read_json(\"alpaca_farm/bon_outs/\"+dir, orient='records'))"
   ]
  },
  {
   "cell_type": "code",
   "execution_count": 5,
   "id": "8f7ecb3a-0c1f-46ee-9efa-9aa07bc803c2",
   "metadata": {},
   "outputs": [],
   "source": [
    "ppo_diag = pd.read_json(\"alpaca_farm/bon_outs/ppohum_diag.jsonl\", orient='records').drop(columns=[\"scorer_name_or_path\", 'input'])\n",
    "sft_diag = pd.read_json(\"alpaca_farm/bon_outs/sft_diag.jsonl\", orient='records')"
   ]
  },
  {
   "cell_type": "code",
   "execution_count": 33,
   "id": "2a8c6313-f680-4654-b55e-b3254ab16b1b",
   "metadata": {},
   "outputs": [
    {
     "data": {
      "text/plain": [
       "torch.return_types.topk(\n",
       "values=tensor([[-2.6328, -2.8228, -5.6379, -6.0552, -8.4292]], device='cuda:0'),\n",
       "indices=tensor([[2163, 4273,  465,  150,    3]], device='cuda:0'))"
      ]
     },
     "execution_count": 33,
     "metadata": {},
     "output_type": "execute_result"
    }
   ],
   "source": [
    "out = qpref.predsingle(sft_diag.instruction[1], sft_diag.output[1][0], True)\n",
    "torch.topk(out[1][0], 5)"
   ]
  },
  {
   "cell_type": "code",
   "execution_count": 30,
   "id": "f360c2fa-4c5e-4f03-862f-854f6c870c5a",
   "metadata": {},
   "outputs": [],
   "source": [
    "cprobs = []\n",
    "for c in [2163, 4273, 465, 150]:\n",
    "    out.sequences[0][1] = c\n",
    "    transition_scores = qpref.model.compute_transition_scores(\n",
    "        out.sequences, out.scores, normalize_logits=True\n",
    "    )\n",
    "    cprobs.append(float(np.exp(transition_scores[0][0].cpu())))\n",
    "#allprobs.append(cprobs)"
   ]
  },
  {
   "cell_type": "code",
   "execution_count": 29,
   "id": "2fcc6dbc-7120-4958-8e4a-b4818605892b",
   "metadata": {},
   "outputs": [
    {
     "data": {
      "text/plain": [
       "torch.return_types.topk(\n",
       "values=tensor([[-2.5651, -2.7877, -3.8611, -4.2022, -6.7743]], device='cuda:0'),\n",
       "indices=tensor([[2163, 4273,  465,  150,   94]], device='cuda:0'))"
      ]
     },
     "execution_count": 29,
     "metadata": {},
     "output_type": "execute_result"
    }
   ],
   "source": []
  },
  {
   "cell_type": "code",
   "execution_count": 23,
   "id": "b15eb274-08e4-4822-9833-74a16f9edf96",
   "metadata": {},
   "outputs": [
    {
     "data": {
      "text/plain": [
       "[0.0015379308024421334,\n",
       " 0.0051237186416983604,\n",
       " 3.077745350310579e-05,\n",
       " 2.3826558390283026e-05]"
      ]
     },
     "execution_count": 23,
     "metadata": {},
     "output_type": "execute_result"
    }
   ],
   "source": [
    "cprobs"
   ]
  },
  {
   "cell_type": "code",
   "execution_count": 14,
   "id": "e27d21f1-b580-4558-86d5-1b0fc7364b10",
   "metadata": {},
   "outputs": [],
   "source": [
    "out = qpref.predsingle(sft_diag.instruction[0], sft_diag.output[0][0], True)"
   ]
  },
  {
   "cell_type": "code",
   "execution_count": 19,
   "id": "b7893433-96e9-4960-964a-60f7541ded3d",
   "metadata": {},
   "outputs": [
    {
     "data": {
      "text/plain": [
       "array([[-61.952282,  -8.138006, -13.045629, ..., -61.759758, -65.776535,\n",
       "        -64.98529 ]], dtype=float32)"
      ]
     },
     "execution_count": 19,
     "metadata": {},
     "output_type": "execute_result"
    }
   ],
   "source": [
    "out.scores[0].cpu().numpy()"
   ]
  },
  {
   "cell_type": "code",
   "execution_count": null,
   "id": "e8a2b7fb-46ab-425e-8711-530559e5e11b",
   "metadata": {},
   "outputs": [],
   "source": [
    "sft_diag"
   ]
  },
  {
   "cell_type": "code",
   "execution_count": 16,
   "id": "7e83bbbc-eefe-4bfa-84b2-76e3865caa5c",
   "metadata": {},
   "outputs": [],
   "source": [
    "ppo_diag.to_json(\"alpaca_farm/bon_outs/sft_diag.jsonl\", orient='records')"
   ]
  },
  {
   "cell_type": "code",
   "execution_count": 18,
   "id": "7d81e296-5218-42ae-9ea1-c7ea770c73a7",
   "metadata": {},
   "outputs": [
    {
     "ename": "NameError",
     "evalue": "name 'ppo_diag' is not defined",
     "output_type": "error",
     "traceback": [
      "\u001b[0;31m---------------------------------------------------------------------------\u001b[0m",
      "\u001b[0;31mNameError\u001b[0m                                 Traceback (most recent call last)",
      "Cell \u001b[0;32mIn[18], line 1\u001b[0m\n\u001b[0;32m----> 1\u001b[0m \u001b[43mppo_diag\u001b[49m\n",
      "\u001b[0;31mNameError\u001b[0m: name 'ppo_diag' is not defined"
     ]
    }
   ],
   "source": [
    "ppo_diag"
   ]
  },
  {
   "cell_type": "code",
   "execution_count": 4,
   "id": "c56107a8-b5fa-4a29-805a-54e879f82a2a",
   "metadata": {},
   "outputs": [],
   "source": [
    "alldfs = pd.concat(dfs).reset_index(drop=True).drop(columns=['input', 'scorer_name_or_path'])"
   ]
  },
  {
   "cell_type": "code",
   "execution_count": 5,
   "id": "b506de5b-4a11-4043-ba1a-7f4858aa7ac6",
   "metadata": {},
   "outputs": [
    {
     "data": {
      "text/html": [
       "<div>\n",
       "<style scoped>\n",
       "    .dataframe tbody tr th:only-of-type {\n",
       "        vertical-align: middle;\n",
       "    }\n",
       "\n",
       "    .dataframe tbody tr th {\n",
       "        vertical-align: top;\n",
       "    }\n",
       "\n",
       "    .dataframe thead th {\n",
       "        text-align: right;\n",
       "    }\n",
       "</style>\n",
       "<table border=\"1\" class=\"dataframe\">\n",
       "  <thead>\n",
       "    <tr style=\"text-align: right;\">\n",
       "      <th></th>\n",
       "      <th>instruction</th>\n",
       "      <th>output</th>\n",
       "      <th>top_sequence</th>\n",
       "      <th>top_index</th>\n",
       "      <th>top_scores</th>\n",
       "    </tr>\n",
       "  </thead>\n",
       "  <tbody>\n",
       "    <tr>\n",
       "      <th>0</th>\n",
       "      <td>Gorillaz and their virtual band \"history\"I am ...</td>\n",
       "      <td>[Gorillaz is a British virtual band created in...</td>\n",
       "      <td>[Below is an instruction that describes a task...</td>\n",
       "      <td>[1, 0]</td>\n",
       "      <td>[0.39429283142089805, 0.7290570735931391]</td>\n",
       "    </tr>\n",
       "    <tr>\n",
       "      <th>1</th>\n",
       "      <td>If a RAR or ZIP file just make another file/gr...</td>\n",
       "      <td>[Yes, you can keep compressing RAR and ZIP fil...</td>\n",
       "      <td>[Below is an instruction that describes a task...</td>\n",
       "      <td>[1, 0]</td>\n",
       "      <td>[1.037175416946411, 1.441125512123108]</td>\n",
       "    </tr>\n",
       "    <tr>\n",
       "      <th>2</th>\n",
       "      <td>Why do Catalonia and the rest of Spain think e...</td>\n",
       "      <td>[The conflict between Catalonia and the rest o...</td>\n",
       "      <td>[Below is an instruction that describes a task...</td>\n",
       "      <td>[0, 1]</td>\n",
       "      <td>[1.635269045829773, 0.12795141339302002]</td>\n",
       "    </tr>\n",
       "    <tr>\n",
       "      <th>3</th>\n",
       "      <td>Who chooses where the Olympics are going to be...</td>\n",
       "      <td>[The International Olympic Committee (IOC) is ...</td>\n",
       "      <td>[Below is an instruction that describes a task...</td>\n",
       "      <td>[1, 0]</td>\n",
       "      <td>[-0.598800957202911, 2.12459659576416]</td>\n",
       "    </tr>\n",
       "    <tr>\n",
       "      <th>4</th>\n",
       "      <td>How could the governments of USA / UK have giv...</td>\n",
       "      <td>[It is understandable that you may be confused...</td>\n",
       "      <td>[Below is an instruction that describes a task...</td>\n",
       "      <td>[0, 1]</td>\n",
       "      <td>[0.7304080724716181, 0.454102754592895]</td>\n",
       "    </tr>\n",
       "    <tr>\n",
       "      <th>...</th>\n",
       "      <td>...</td>\n",
       "      <td>...</td>\n",
       "      <td>...</td>\n",
       "      <td>...</td>\n",
       "      <td>...</td>\n",
       "    </tr>\n",
       "    <tr>\n",
       "      <th>16695</th>\n",
       "      <td>Pangaea: Why was there just a single giant lan...</td>\n",
       "      <td>[The hypothesis of a single super-continent is...</td>\n",
       "      <td>[Below is an instruction that describes a task...</td>\n",
       "      <td>[0, 1]</td>\n",
       "      <td>[2.8094208240509033, 2.256419658660888]</td>\n",
       "    </tr>\n",
       "    <tr>\n",
       "      <th>16696</th>\n",
       "      <td>All the different FPS \"netcode\" terminology li...</td>\n",
       "      <td>[Netcode is a term used to refer to the networ...</td>\n",
       "      <td>[Below is an instruction that describes a task...</td>\n",
       "      <td>[0, 1]</td>\n",
       "      <td>[1.205457210540771, 0.6027202010154721]</td>\n",
       "    </tr>\n",
       "    <tr>\n",
       "      <th>16697</th>\n",
       "      <td>Where do last names come from?There's a few qu...</td>\n",
       "      <td>[Last names are thought to have originated in ...</td>\n",
       "      <td>[Below is an instruction that describes a task...</td>\n",
       "      <td>[1, 0]</td>\n",
       "      <td>[1.125969529151916, 1.569443464279174]</td>\n",
       "    </tr>\n",
       "    <tr>\n",
       "      <th>16698</th>\n",
       "      <td>Why is the skin on penises so dark, compared t...</td>\n",
       "      <td>[The skin on penises is darker than other area...</td>\n",
       "      <td>[Below is an instruction that describes a task...</td>\n",
       "      <td>[0, 1]</td>\n",
       "      <td>[1.840420961380004, 1.813018083572387]</td>\n",
       "    </tr>\n",
       "    <tr>\n",
       "      <th>16699</th>\n",
       "      <td>Why is 16:9 the standard ratio for visual medi...</td>\n",
       "      <td>[The 16:9 ratio is the most commonly used aspe...</td>\n",
       "      <td>[Below is an instruction that describes a task...</td>\n",
       "      <td>[1, 0]</td>\n",
       "      <td>[1.719490766525268, 1.7504816055297852]</td>\n",
       "    </tr>\n",
       "  </tbody>\n",
       "</table>\n",
       "<p>16700 rows × 5 columns</p>\n",
       "</div>"
      ],
      "text/plain": [
       "                                             instruction  \\\n",
       "0      Gorillaz and their virtual band \"history\"I am ...   \n",
       "1      If a RAR or ZIP file just make another file/gr...   \n",
       "2      Why do Catalonia and the rest of Spain think e...   \n",
       "3      Who chooses where the Olympics are going to be...   \n",
       "4      How could the governments of USA / UK have giv...   \n",
       "...                                                  ...   \n",
       "16695  Pangaea: Why was there just a single giant lan...   \n",
       "16696  All the different FPS \"netcode\" terminology li...   \n",
       "16697  Where do last names come from?There's a few qu...   \n",
       "16698  Why is the skin on penises so dark, compared t...   \n",
       "16699  Why is 16:9 the standard ratio for visual medi...   \n",
       "\n",
       "                                                  output  \\\n",
       "0      [Gorillaz is a British virtual band created in...   \n",
       "1      [Yes, you can keep compressing RAR and ZIP fil...   \n",
       "2      [The conflict between Catalonia and the rest o...   \n",
       "3      [The International Olympic Committee (IOC) is ...   \n",
       "4      [It is understandable that you may be confused...   \n",
       "...                                                  ...   \n",
       "16695  [The hypothesis of a single super-continent is...   \n",
       "16696  [Netcode is a term used to refer to the networ...   \n",
       "16697  [Last names are thought to have originated in ...   \n",
       "16698  [The skin on penises is darker than other area...   \n",
       "16699  [The 16:9 ratio is the most commonly used aspe...   \n",
       "\n",
       "                                            top_sequence top_index  \\\n",
       "0      [Below is an instruction that describes a task...    [1, 0]   \n",
       "1      [Below is an instruction that describes a task...    [1, 0]   \n",
       "2      [Below is an instruction that describes a task...    [0, 1]   \n",
       "3      [Below is an instruction that describes a task...    [1, 0]   \n",
       "4      [Below is an instruction that describes a task...    [0, 1]   \n",
       "...                                                  ...       ...   \n",
       "16695  [Below is an instruction that describes a task...    [0, 1]   \n",
       "16696  [Below is an instruction that describes a task...    [0, 1]   \n",
       "16697  [Below is an instruction that describes a task...    [1, 0]   \n",
       "16698  [Below is an instruction that describes a task...    [0, 1]   \n",
       "16699  [Below is an instruction that describes a task...    [1, 0]   \n",
       "\n",
       "                                      top_scores  \n",
       "0      [0.39429283142089805, 0.7290570735931391]  \n",
       "1         [1.037175416946411, 1.441125512123108]  \n",
       "2       [1.635269045829773, 0.12795141339302002]  \n",
       "3         [-0.598800957202911, 2.12459659576416]  \n",
       "4        [0.7304080724716181, 0.454102754592895]  \n",
       "...                                          ...  \n",
       "16695    [2.8094208240509033, 2.256419658660888]  \n",
       "16696    [1.205457210540771, 0.6027202010154721]  \n",
       "16697     [1.125969529151916, 1.569443464279174]  \n",
       "16698     [1.840420961380004, 1.813018083572387]  \n",
       "16699    [1.719490766525268, 1.7504816055297852]  \n",
       "\n",
       "[16700 rows x 5 columns]"
      ]
     },
     "execution_count": 5,
     "metadata": {},
     "output_type": "execute_result"
    }
   ],
   "source": [
    "alldfs"
   ]
  },
  {
   "cell_type": "code",
   "execution_count": null,
   "id": "356c029a-9b7f-48c6-a160-ac5e51758558",
   "metadata": {},
   "outputs": [],
   "source": [
    "alldfs"
   ]
  },
  {
   "cell_type": "code",
   "execution_count": 6,
   "id": "dae705b5-6a71-49ae-8ce2-38fdd9d394b1",
   "metadata": {},
   "outputs": [],
   "source": [
    "def scoind(ind, adf):\n",
    "    row = adf.loc[ind]\n",
    "    scos = [float(get_reward_single({\"context\": row['instruction'], \"hyp\":o}, steamtok, steamshp)) for o in row['output']]\n",
    "    return scos\n",
    "\n",
    "def budgind(ind, adf):\n",
    "    row = adf.loc[ind]\n",
    "    budgs = [len(preftok(o).input_ids) for o in row['output']]\n",
    "    return budgs\n",
    "\n",
    "def adaptbase(inpdf, thresh, mrange):\n",
    "    inds = list(range(8))\n",
    "    fscos = []\n",
    "    budgets = []\n",
    "    for ind in range(len(inpdf)):\n",
    "        slist = inpdf.top_scores[ind]\n",
    "        blist = inpdf.budgs[ind]\n",
    "        random.shuffle(inds)\n",
    "        tmp = []\n",
    "        budget = 0\n",
    "        # get adaptive score\n",
    "        for i in inds[:mrange]:\n",
    "            budget = budget+blist[i]\n",
    "            if slist[i]>thresh:\n",
    "                fscos.append(slist[i])\n",
    "                break\n",
    "            tmp.append(slist[i])\n",
    "            if i==inds[mrange-1]:\n",
    "                fscos.append(max(tmp))\n",
    "        budgets.append(budget)\n",
    "    return mean(fscos), mean(budgets)\n",
    "\n",
    "def adaptive_prefsort(inpdf, thresh, mrange, pf, hstop):\n",
    "    inds = list(range(8))\n",
    "    fscos = []\n",
    "    budgets = []\n",
    "    for ind in range(len(inpdf)):\n",
    "        # score list and list of budgets\n",
    "        slist = inpdf.top_scores[ind]\n",
    "        blist = inpdf.budgs[ind]\n",
    "        # list with prefix metric scores (specifically final class)\n",
    "        plist = [(a[-1]) for a in inpdf[\"probs\"+str(pf)][ind]]\n",
    "        # mix up what order we get stuff in\n",
    "        random.shuffle(inds)\n",
    "        tmp = []\n",
    "        # get prob values\n",
    "        nplist = [plist[p] for p in inds[:mrange]]\n",
    "        \n",
    "        # get indices to use\n",
    "        sortps = [inds[pl] for pl in np.argsort(nplist)]\n",
    "        sortps.reverse()\n",
    "        # if ind==0:\n",
    "        #     print(plist)\n",
    "        #     print(slist)\n",
    "        #     print(sortps)\n",
    "        budget = pf*mrange\n",
    "        # get adaptive score\n",
    "        for i in sortps[:hstop]:\n",
    "            budget = budget+blist[i]\n",
    "            budget = budget-pf # already part of budget, remove\n",
    "            if slist[i]>thresh:\n",
    "                fscos.append(slist[i])\n",
    "                break\n",
    "            tmp.append(slist[i])\n",
    "            if i==sortps[hstop-1]:\n",
    "                fscos.append(max(tmp))\n",
    "        budgets.append(budget)\n",
    "    return mean(fscos), mean(budgets)"
   ]
  },
  {
   "cell_type": "code",
   "execution_count": null,
   "id": "f6be1f72-6bb5-4697-85b2-eb3a04a0a20e",
   "metadata": {},
   "outputs": [],
   "source": [
    "mean([mean(m) for m in ])"
   ]
  },
  {
   "cell_type": "code",
   "execution_count": 74,
   "id": "1205158d-30eb-483b-853e-d1134c5af402",
   "metadata": {},
   "outputs": [
    {
     "name": "stdout",
     "output_type": "stream",
     "text": [
      "1   1.6619658419674632   200.37536\n",
      "2   1.8759138082480427   332.33832\n",
      "3   1.9542514915072915   436.78604\n",
      "4   2.0008125191187855   519.75\n",
      "5   2.034500072739124   589.67936\n",
      "6   2.055715355763435   651.35396\n",
      "7   2.0730803957986828   706.13488\n",
      "8   2.0851175624513623   754.21032\n"
     ]
    }
   ],
   "source": [
    "for j in range(1, 9):\n",
    "    scos, buds = [], []\n",
    "    for i in range(500):\n",
    "        s, b = adaptbase(ppo_diag, 1.9, j)\n",
    "        # s, b = samprer(fulld,  j)\n",
    "        scos.append(s)\n",
    "        buds.append(b)\n",
    "    print(j, \" \", mean(scos), \" \", mean(buds))"
   ]
  },
  {
   "cell_type": "code",
   "execution_count": 75,
   "id": "c014e430-8d42-46b0-8e4c-74e1543f11c8",
   "metadata": {},
   "outputs": [
    {
     "name": "stdout",
     "output_type": "stream",
     "text": [
      "1   1.6459653782844539   328.4\n",
      "2   1.8412334251403806   453.6448\n",
      "3   1.9048488052892683   546.46916\n",
      "4   1.9699764615392683   642.05956\n",
      "5   2.00027773258686   701.71116\n",
      "6   2.0102007935047146   765.09068\n",
      "7   2.0384804749488827   830.03264\n",
      "8   2.062990820407867   877.5112\n"
     ]
    }
   ],
   "source": [
    "for j in range(1, 9):\n",
    "    scos, buds = [], []\n",
    "    for i in range(500):\n",
    "        s, b = adaptive_prefsort(ppo_diag, 1.9, 8, 20, j)\n",
    "        # s, b = samprer(fulld,  j)\n",
    "        scos.append(s)\n",
    "        buds.append(b)\n",
    "    print(j, \" \", mean(scos), \" \", mean(buds))"
   ]
  },
  {
   "cell_type": "code",
   "execution_count": null,
   "id": "6c9d0e85-7337-456e-b95c-d7121084cbcb",
   "metadata": {},
   "outputs": [],
   "source": [
    "ascos = []\n",
    "for i in range(50):\n",
    "    print(i)\n",
    "    ascos.append(scoind(i, sft_diag))"
   ]
  },
  {
   "cell_type": "code",
   "execution_count": 11,
   "id": "d88b0a4d-b388-44ac-974a-6f45ebc76e56",
   "metadata": {},
   "outputs": [],
   "source": [
    "sft_diag['shpscos'] = ascos"
   ]
  },
  {
   "cell_type": "code",
   "execution_count": 73,
   "id": "9ecd53cd-3466-4da7-be24-0a08f603638f",
   "metadata": {},
   "outputs": [],
   "source": [
    "ppo_diag['budgs'] = [budgind(i, ppo_diag) for i in range(len(ppo_diag))]"
   ]
  },
  {
   "cell_type": "code",
   "execution_count": null,
   "id": "1cc14b05-bfeb-48ae-9cf7-0e0695f3a74e",
   "metadata": {},
   "outputs": [],
   "source": [
    "mean([mean(m) for m in sft_diag['budgs']])"
   ]
  },
  {
   "cell_type": "code",
   "execution_count": 7,
   "id": "3b57049d-bffd-4e98-bbf6-24738fdee11d",
   "metadata": {},
   "outputs": [],
   "source": [
    "def make_prefs(indf, tok, pflen):\n",
    "    res = []\n",
    "    for h in indf.output:\n",
    "        prefs = [tok.decode(tok(hyp).input_ids[:pflen], skip_special_tokens=True) for hyp in h]\n",
    "        res.append(prefs)\n",
    "    return res\n",
    "CLASSES = [71, 272, 205, 309]\n",
    "def getprobs(indf, ex):\n",
    "    allprobs = []\n",
    "    for num in range(8):\n",
    "        out = qpref.predsingle(indf['instruction'][ex], indf['pf20'][ex][num], True)\n",
    "        cprobs = []\n",
    "        for c in CLASSES:\n",
    "            out.sequences[0][1] = c\n",
    "            transition_scores = qpref.model.compute_transition_scores(\n",
    "                out.sequences, out.scores, normalize_logits=True\n",
    "            )\n",
    "            cprobs.append(float(np.exp(transition_scores[0][0].cpu())))\n",
    "        allprobs.append(cprobs)\n",
    "    return allprobs"
   ]
  },
  {
   "cell_type": "code",
   "execution_count": null,
   "id": "ca6221f8-b50a-4b91-a457-d7cbda5b4f06",
   "metadata": {},
   "outputs": [],
   "source": [
    "ppo_diag['probs20'][0]"
   ]
  },
  {
   "cell_type": "code",
   "execution_count": 8,
   "id": "76a74983-6081-4498-9e4d-7f06f719fa1b",
   "metadata": {},
   "outputs": [],
   "source": [
    "import numpy as np\n",
    "import torch\n",
    "torch.cuda.empty_cache()"
   ]
  },
  {
   "cell_type": "code",
   "execution_count": 9,
   "id": "eb1eb28f-79ff-4a51-ba34-cd12c33e818d",
   "metadata": {},
   "outputs": [],
   "source": [
    "from train_prefmod_multi import T5BinaryClassifier, validate"
   ]
  },
  {
   "cell_type": "code",
   "execution_count": 52,
   "id": "e1d709d0-906e-4cfa-97f7-0840036c1592",
   "metadata": {},
   "outputs": [],
   "source": [
    "pfname = 'stanfordnlp/SteamSHP-flan-t5-xl'\n",
    "pfmod_path = \"/home/prasann/Projects/tfr-decoding/lightning_logs/bigmulti_model/checkpoints/epoch=3-step=5311.ckpt/\" #\"./lightning_logs/aphuman_multi/checkpoints/epoch=4-step=20708.ckpt\""
   ]
  },
  {
   "cell_type": "code",
   "execution_count": 19,
   "id": "eee7e6d8-0c00-4cfa-8dd4-5936234542ba",
   "metadata": {},
   "outputs": [],
   "source": [
    "del qpref"
   ]
  },
  {
   "cell_type": "code",
   "execution_count": 30,
   "id": "d9113eb0-fbd0-4f32-b51c-b7a7845b360c",
   "metadata": {},
   "outputs": [],
   "source": [
    "import deepspeed\n",
    "import torch"
   ]
  },
  {
   "cell_type": "code",
   "execution_count": 12,
   "id": "88ea938f-fb5b-47ca-b9ae-c5f3b74a3f87",
   "metadata": {
    "scrolled": true
   },
   "outputs": [
    {
     "name": "stderr",
     "output_type": "stream",
     "text": [
      "Loading checkpoint shards: 100%|███████████████████████████████████████████████████████████████████████████████████████████████████████| 2/2 [00:06<00:00,  3.14s/it]\n"
     ]
    }
   ],
   "source": [
    "# get prefix model\n",
    "qpref = T5BinaryClassifier()"
   ]
  },
  {
   "cell_type": "code",
   "execution_count": 35,
   "id": "f88ff412-0f66-4560-86da-cd631e046f37",
   "metadata": {},
   "outputs": [],
   "source": [
    "checkpoint = torch.load(pfmod_path+\"pytorch_model.bin\", map_location=lambda storage, loc: storage)"
   ]
  },
  {
   "cell_type": "code",
   "execution_count": 53,
   "id": "186de1e6-32f1-459e-9a8b-d1d2b79d371a",
   "metadata": {},
   "outputs": [],
   "source": [
    "left = torch.load(pfmod_path+\"checkpoint/mp_rank_00_model_states.pt\")"
   ]
  },
  {
   "cell_type": "code",
   "execution_count": 60,
   "id": "3e3e1d26-8e52-46bc-a153-f61e0e711001",
   "metadata": {
    "scrolled": true
   },
   "outputs": [
    {
     "data": {
      "text/plain": [
       "odict_keys(['_forward_module.model.shared.weight', '_forward_module.model.encoder.embed_tokens.weight', '_forward_module.model.encoder.block.0.layer.0.SelfAttention.q.weight', '_forward_module.model.encoder.block.0.layer.0.SelfAttention.k.weight', '_forward_module.model.encoder.block.0.layer.0.SelfAttention.v.weight', '_forward_module.model.encoder.block.0.layer.0.SelfAttention.o.weight', '_forward_module.model.encoder.block.0.layer.0.SelfAttention.relative_attention_bias.weight', '_forward_module.model.encoder.block.0.layer.0.layer_norm.weight', '_forward_module.model.encoder.block.0.layer.1.DenseReluDense.wi_0.weight', '_forward_module.model.encoder.block.0.layer.1.DenseReluDense.wi_1.weight', '_forward_module.model.encoder.block.0.layer.1.DenseReluDense.wo.weight', '_forward_module.model.encoder.block.0.layer.1.layer_norm.weight', '_forward_module.model.encoder.block.1.layer.0.SelfAttention.q.weight', '_forward_module.model.encoder.block.1.layer.0.SelfAttention.k.weight', '_forward_module.model.encoder.block.1.layer.0.SelfAttention.v.weight', '_forward_module.model.encoder.block.1.layer.0.SelfAttention.o.weight', '_forward_module.model.encoder.block.1.layer.0.layer_norm.weight', '_forward_module.model.encoder.block.1.layer.1.DenseReluDense.wi_0.weight', '_forward_module.model.encoder.block.1.layer.1.DenseReluDense.wi_1.weight', '_forward_module.model.encoder.block.1.layer.1.DenseReluDense.wo.weight', '_forward_module.model.encoder.block.1.layer.1.layer_norm.weight', '_forward_module.model.encoder.block.2.layer.0.SelfAttention.q.weight', '_forward_module.model.encoder.block.2.layer.0.SelfAttention.k.weight', '_forward_module.model.encoder.block.2.layer.0.SelfAttention.v.weight', '_forward_module.model.encoder.block.2.layer.0.SelfAttention.o.weight', '_forward_module.model.encoder.block.2.layer.0.layer_norm.weight', '_forward_module.model.encoder.block.2.layer.1.DenseReluDense.wi_0.weight', '_forward_module.model.encoder.block.2.layer.1.DenseReluDense.wi_1.weight', '_forward_module.model.encoder.block.2.layer.1.DenseReluDense.wo.weight', '_forward_module.model.encoder.block.2.layer.1.layer_norm.weight', '_forward_module.model.encoder.block.3.layer.0.SelfAttention.q.weight', '_forward_module.model.encoder.block.3.layer.0.SelfAttention.k.weight', '_forward_module.model.encoder.block.3.layer.0.SelfAttention.v.weight', '_forward_module.model.encoder.block.3.layer.0.SelfAttention.o.weight', '_forward_module.model.encoder.block.3.layer.0.layer_norm.weight', '_forward_module.model.encoder.block.3.layer.1.DenseReluDense.wi_0.weight', '_forward_module.model.encoder.block.3.layer.1.DenseReluDense.wi_1.weight', '_forward_module.model.encoder.block.3.layer.1.DenseReluDense.wo.weight', '_forward_module.model.encoder.block.3.layer.1.layer_norm.weight', '_forward_module.model.encoder.block.4.layer.0.SelfAttention.q.weight', '_forward_module.model.encoder.block.4.layer.0.SelfAttention.k.weight', '_forward_module.model.encoder.block.4.layer.0.SelfAttention.v.weight', '_forward_module.model.encoder.block.4.layer.0.SelfAttention.o.weight', '_forward_module.model.encoder.block.4.layer.0.layer_norm.weight', '_forward_module.model.encoder.block.4.layer.1.DenseReluDense.wi_0.weight', '_forward_module.model.encoder.block.4.layer.1.DenseReluDense.wi_1.weight', '_forward_module.model.encoder.block.4.layer.1.DenseReluDense.wo.weight', '_forward_module.model.encoder.block.4.layer.1.layer_norm.weight', '_forward_module.model.encoder.block.5.layer.0.SelfAttention.q.weight', '_forward_module.model.encoder.block.5.layer.0.SelfAttention.k.weight', '_forward_module.model.encoder.block.5.layer.0.SelfAttention.v.weight', '_forward_module.model.encoder.block.5.layer.0.SelfAttention.o.weight', '_forward_module.model.encoder.block.5.layer.0.layer_norm.weight', '_forward_module.model.encoder.block.5.layer.1.DenseReluDense.wi_0.weight', '_forward_module.model.encoder.block.5.layer.1.DenseReluDense.wi_1.weight', '_forward_module.model.encoder.block.5.layer.1.DenseReluDense.wo.weight', '_forward_module.model.encoder.block.5.layer.1.layer_norm.weight', '_forward_module.model.encoder.block.6.layer.0.SelfAttention.q.weight', '_forward_module.model.encoder.block.6.layer.0.SelfAttention.k.weight', '_forward_module.model.encoder.block.6.layer.0.SelfAttention.v.weight', '_forward_module.model.encoder.block.6.layer.0.SelfAttention.o.weight', '_forward_module.model.encoder.block.6.layer.0.layer_norm.weight', '_forward_module.model.encoder.block.6.layer.1.DenseReluDense.wi_0.weight', '_forward_module.model.encoder.block.6.layer.1.DenseReluDense.wi_1.weight', '_forward_module.model.encoder.block.6.layer.1.DenseReluDense.wo.weight', '_forward_module.model.encoder.block.6.layer.1.layer_norm.weight', '_forward_module.model.encoder.block.7.layer.0.SelfAttention.q.weight', '_forward_module.model.encoder.block.7.layer.0.SelfAttention.k.weight', '_forward_module.model.encoder.block.7.layer.0.SelfAttention.v.weight', '_forward_module.model.encoder.block.7.layer.0.SelfAttention.o.weight', '_forward_module.model.encoder.block.7.layer.0.layer_norm.weight', '_forward_module.model.encoder.block.7.layer.1.DenseReluDense.wi_0.weight', '_forward_module.model.encoder.block.7.layer.1.DenseReluDense.wi_1.weight', '_forward_module.model.encoder.block.7.layer.1.DenseReluDense.wo.weight', '_forward_module.model.encoder.block.7.layer.1.layer_norm.weight', '_forward_module.model.encoder.block.8.layer.0.SelfAttention.q.weight', '_forward_module.model.encoder.block.8.layer.0.SelfAttention.k.weight', '_forward_module.model.encoder.block.8.layer.0.SelfAttention.v.weight', '_forward_module.model.encoder.block.8.layer.0.SelfAttention.o.weight', '_forward_module.model.encoder.block.8.layer.0.layer_norm.weight', '_forward_module.model.encoder.block.8.layer.1.DenseReluDense.wi_0.weight', '_forward_module.model.encoder.block.8.layer.1.DenseReluDense.wi_1.weight', '_forward_module.model.encoder.block.8.layer.1.DenseReluDense.wo.weight', '_forward_module.model.encoder.block.8.layer.1.layer_norm.weight', '_forward_module.model.encoder.block.9.layer.0.SelfAttention.q.weight', '_forward_module.model.encoder.block.9.layer.0.SelfAttention.k.weight', '_forward_module.model.encoder.block.9.layer.0.SelfAttention.v.weight', '_forward_module.model.encoder.block.9.layer.0.SelfAttention.o.weight', '_forward_module.model.encoder.block.9.layer.0.layer_norm.weight', '_forward_module.model.encoder.block.9.layer.1.DenseReluDense.wi_0.weight', '_forward_module.model.encoder.block.9.layer.1.DenseReluDense.wi_1.weight', '_forward_module.model.encoder.block.9.layer.1.DenseReluDense.wo.weight', '_forward_module.model.encoder.block.9.layer.1.layer_norm.weight', '_forward_module.model.encoder.block.10.layer.0.SelfAttention.q.weight', '_forward_module.model.encoder.block.10.layer.0.SelfAttention.k.weight', '_forward_module.model.encoder.block.10.layer.0.SelfAttention.v.weight', '_forward_module.model.encoder.block.10.layer.0.SelfAttention.o.weight', '_forward_module.model.encoder.block.10.layer.0.layer_norm.weight', '_forward_module.model.encoder.block.10.layer.1.DenseReluDense.wi_0.weight', '_forward_module.model.encoder.block.10.layer.1.DenseReluDense.wi_1.weight', '_forward_module.model.encoder.block.10.layer.1.DenseReluDense.wo.weight', '_forward_module.model.encoder.block.10.layer.1.layer_norm.weight', '_forward_module.model.encoder.block.11.layer.0.SelfAttention.q.weight', '_forward_module.model.encoder.block.11.layer.0.SelfAttention.k.weight', '_forward_module.model.encoder.block.11.layer.0.SelfAttention.v.weight', '_forward_module.model.encoder.block.11.layer.0.SelfAttention.o.weight', '_forward_module.model.encoder.block.11.layer.0.layer_norm.weight', '_forward_module.model.encoder.block.11.layer.1.DenseReluDense.wi_0.weight', '_forward_module.model.encoder.block.11.layer.1.DenseReluDense.wi_1.weight', '_forward_module.model.encoder.block.11.layer.1.DenseReluDense.wo.weight', '_forward_module.model.encoder.block.11.layer.1.layer_norm.weight', '_forward_module.model.encoder.block.12.layer.0.SelfAttention.q.weight', '_forward_module.model.encoder.block.12.layer.0.SelfAttention.k.weight', '_forward_module.model.encoder.block.12.layer.0.SelfAttention.v.weight', '_forward_module.model.encoder.block.12.layer.0.SelfAttention.o.weight', '_forward_module.model.encoder.block.12.layer.0.layer_norm.weight', '_forward_module.model.encoder.block.12.layer.1.DenseReluDense.wi_0.weight', '_forward_module.model.encoder.block.12.layer.1.DenseReluDense.wi_1.weight', '_forward_module.model.encoder.block.12.layer.1.DenseReluDense.wo.weight', '_forward_module.model.encoder.block.12.layer.1.layer_norm.weight', '_forward_module.model.encoder.block.13.layer.0.SelfAttention.q.weight', '_forward_module.model.encoder.block.13.layer.0.SelfAttention.k.weight', '_forward_module.model.encoder.block.13.layer.0.SelfAttention.v.weight', '_forward_module.model.encoder.block.13.layer.0.SelfAttention.o.weight', '_forward_module.model.encoder.block.13.layer.0.layer_norm.weight', '_forward_module.model.encoder.block.13.layer.1.DenseReluDense.wi_0.weight', '_forward_module.model.encoder.block.13.layer.1.DenseReluDense.wi_1.weight', '_forward_module.model.encoder.block.13.layer.1.DenseReluDense.wo.weight', '_forward_module.model.encoder.block.13.layer.1.layer_norm.weight', '_forward_module.model.encoder.block.14.layer.0.SelfAttention.q.weight', '_forward_module.model.encoder.block.14.layer.0.SelfAttention.k.weight', '_forward_module.model.encoder.block.14.layer.0.SelfAttention.v.weight', '_forward_module.model.encoder.block.14.layer.0.SelfAttention.o.weight', '_forward_module.model.encoder.block.14.layer.0.layer_norm.weight', '_forward_module.model.encoder.block.14.layer.1.DenseReluDense.wi_0.weight', '_forward_module.model.encoder.block.14.layer.1.DenseReluDense.wi_1.weight', '_forward_module.model.encoder.block.14.layer.1.DenseReluDense.wo.weight', '_forward_module.model.encoder.block.14.layer.1.layer_norm.weight', '_forward_module.model.encoder.block.15.layer.0.SelfAttention.q.weight', '_forward_module.model.encoder.block.15.layer.0.SelfAttention.k.weight', '_forward_module.model.encoder.block.15.layer.0.SelfAttention.v.weight', '_forward_module.model.encoder.block.15.layer.0.SelfAttention.o.weight', '_forward_module.model.encoder.block.15.layer.0.layer_norm.weight', '_forward_module.model.encoder.block.15.layer.1.DenseReluDense.wi_0.weight', '_forward_module.model.encoder.block.15.layer.1.DenseReluDense.wi_1.weight', '_forward_module.model.encoder.block.15.layer.1.DenseReluDense.wo.weight', '_forward_module.model.encoder.block.15.layer.1.layer_norm.weight', '_forward_module.model.encoder.block.16.layer.0.SelfAttention.q.weight', '_forward_module.model.encoder.block.16.layer.0.SelfAttention.k.weight', '_forward_module.model.encoder.block.16.layer.0.SelfAttention.v.weight', '_forward_module.model.encoder.block.16.layer.0.SelfAttention.o.weight', '_forward_module.model.encoder.block.16.layer.0.layer_norm.weight', '_forward_module.model.encoder.block.16.layer.1.DenseReluDense.wi_0.weight', '_forward_module.model.encoder.block.16.layer.1.DenseReluDense.wi_1.weight', '_forward_module.model.encoder.block.16.layer.1.DenseReluDense.wo.weight', '_forward_module.model.encoder.block.16.layer.1.layer_norm.weight', '_forward_module.model.encoder.block.17.layer.0.SelfAttention.q.weight', '_forward_module.model.encoder.block.17.layer.0.SelfAttention.k.weight', '_forward_module.model.encoder.block.17.layer.0.SelfAttention.v.weight', '_forward_module.model.encoder.block.17.layer.0.SelfAttention.o.weight', '_forward_module.model.encoder.block.17.layer.0.layer_norm.weight', '_forward_module.model.encoder.block.17.layer.1.DenseReluDense.wi_0.weight', '_forward_module.model.encoder.block.17.layer.1.DenseReluDense.wi_1.weight', '_forward_module.model.encoder.block.17.layer.1.DenseReluDense.wo.weight', '_forward_module.model.encoder.block.17.layer.1.layer_norm.weight', '_forward_module.model.encoder.block.18.layer.0.SelfAttention.q.weight', '_forward_module.model.encoder.block.18.layer.0.SelfAttention.k.weight', '_forward_module.model.encoder.block.18.layer.0.SelfAttention.v.weight', '_forward_module.model.encoder.block.18.layer.0.SelfAttention.o.weight', '_forward_module.model.encoder.block.18.layer.0.layer_norm.weight', '_forward_module.model.encoder.block.18.layer.1.DenseReluDense.wi_0.weight', '_forward_module.model.encoder.block.18.layer.1.DenseReluDense.wi_1.weight', '_forward_module.model.encoder.block.18.layer.1.DenseReluDense.wo.weight', '_forward_module.model.encoder.block.18.layer.1.layer_norm.weight', '_forward_module.model.encoder.block.19.layer.0.SelfAttention.q.weight', '_forward_module.model.encoder.block.19.layer.0.SelfAttention.k.weight', '_forward_module.model.encoder.block.19.layer.0.SelfAttention.v.weight', '_forward_module.model.encoder.block.19.layer.0.SelfAttention.o.weight', '_forward_module.model.encoder.block.19.layer.0.layer_norm.weight', '_forward_module.model.encoder.block.19.layer.1.DenseReluDense.wi_0.weight', '_forward_module.model.encoder.block.19.layer.1.DenseReluDense.wi_1.weight', '_forward_module.model.encoder.block.19.layer.1.DenseReluDense.wo.weight', '_forward_module.model.encoder.block.19.layer.1.layer_norm.weight', '_forward_module.model.encoder.block.20.layer.0.SelfAttention.q.weight', '_forward_module.model.encoder.block.20.layer.0.SelfAttention.k.weight', '_forward_module.model.encoder.block.20.layer.0.SelfAttention.v.weight', '_forward_module.model.encoder.block.20.layer.0.SelfAttention.o.weight', '_forward_module.model.encoder.block.20.layer.0.layer_norm.weight', '_forward_module.model.encoder.block.20.layer.1.DenseReluDense.wi_0.weight', '_forward_module.model.encoder.block.20.layer.1.DenseReluDense.wi_1.weight', '_forward_module.model.encoder.block.20.layer.1.DenseReluDense.wo.weight', '_forward_module.model.encoder.block.20.layer.1.layer_norm.weight', '_forward_module.model.encoder.block.21.layer.0.SelfAttention.q.weight', '_forward_module.model.encoder.block.21.layer.0.SelfAttention.k.weight', '_forward_module.model.encoder.block.21.layer.0.SelfAttention.v.weight', '_forward_module.model.encoder.block.21.layer.0.SelfAttention.o.weight', '_forward_module.model.encoder.block.21.layer.0.layer_norm.weight', '_forward_module.model.encoder.block.21.layer.1.DenseReluDense.wi_0.weight', '_forward_module.model.encoder.block.21.layer.1.DenseReluDense.wi_1.weight', '_forward_module.model.encoder.block.21.layer.1.DenseReluDense.wo.weight', '_forward_module.model.encoder.block.21.layer.1.layer_norm.weight', '_forward_module.model.encoder.block.22.layer.0.SelfAttention.q.weight', '_forward_module.model.encoder.block.22.layer.0.SelfAttention.k.weight', '_forward_module.model.encoder.block.22.layer.0.SelfAttention.v.weight', '_forward_module.model.encoder.block.22.layer.0.SelfAttention.o.weight', '_forward_module.model.encoder.block.22.layer.0.layer_norm.weight', '_forward_module.model.encoder.block.22.layer.1.DenseReluDense.wi_0.weight', '_forward_module.model.encoder.block.22.layer.1.DenseReluDense.wi_1.weight', '_forward_module.model.encoder.block.22.layer.1.DenseReluDense.wo.weight', '_forward_module.model.encoder.block.22.layer.1.layer_norm.weight', '_forward_module.model.encoder.block.23.layer.0.SelfAttention.q.weight', '_forward_module.model.encoder.block.23.layer.0.SelfAttention.k.weight', '_forward_module.model.encoder.block.23.layer.0.SelfAttention.v.weight', '_forward_module.model.encoder.block.23.layer.0.SelfAttention.o.weight', '_forward_module.model.encoder.block.23.layer.0.layer_norm.weight', '_forward_module.model.encoder.block.23.layer.1.DenseReluDense.wi_0.weight', '_forward_module.model.encoder.block.23.layer.1.DenseReluDense.wi_1.weight', '_forward_module.model.encoder.block.23.layer.1.DenseReluDense.wo.weight', '_forward_module.model.encoder.block.23.layer.1.layer_norm.weight', '_forward_module.model.encoder.final_layer_norm.weight', '_forward_module.model.decoder.embed_tokens.weight', '_forward_module.model.decoder.block.0.layer.0.SelfAttention.q.weight', '_forward_module.model.decoder.block.0.layer.0.SelfAttention.k.weight', '_forward_module.model.decoder.block.0.layer.0.SelfAttention.v.weight', '_forward_module.model.decoder.block.0.layer.0.SelfAttention.o.weight', '_forward_module.model.decoder.block.0.layer.0.SelfAttention.relative_attention_bias.weight', '_forward_module.model.decoder.block.0.layer.0.layer_norm.weight', '_forward_module.model.decoder.block.0.layer.1.EncDecAttention.q.weight', '_forward_module.model.decoder.block.0.layer.1.EncDecAttention.k.weight', '_forward_module.model.decoder.block.0.layer.1.EncDecAttention.v.weight', '_forward_module.model.decoder.block.0.layer.1.EncDecAttention.o.weight', '_forward_module.model.decoder.block.0.layer.1.layer_norm.weight', '_forward_module.model.decoder.block.0.layer.2.DenseReluDense.wi_0.weight', '_forward_module.model.decoder.block.0.layer.2.DenseReluDense.wi_1.weight', '_forward_module.model.decoder.block.0.layer.2.DenseReluDense.wo.weight', '_forward_module.model.decoder.block.0.layer.2.layer_norm.weight', '_forward_module.model.decoder.block.1.layer.0.SelfAttention.q.weight', '_forward_module.model.decoder.block.1.layer.0.SelfAttention.k.weight', '_forward_module.model.decoder.block.1.layer.0.SelfAttention.v.weight', '_forward_module.model.decoder.block.1.layer.0.SelfAttention.o.weight', '_forward_module.model.decoder.block.1.layer.0.layer_norm.weight', '_forward_module.model.decoder.block.1.layer.1.EncDecAttention.q.weight', '_forward_module.model.decoder.block.1.layer.1.EncDecAttention.k.weight', '_forward_module.model.decoder.block.1.layer.1.EncDecAttention.v.weight', '_forward_module.model.decoder.block.1.layer.1.EncDecAttention.o.weight', '_forward_module.model.decoder.block.1.layer.1.layer_norm.weight', '_forward_module.model.decoder.block.1.layer.2.DenseReluDense.wi_0.weight', '_forward_module.model.decoder.block.1.layer.2.DenseReluDense.wi_1.weight', '_forward_module.model.decoder.block.1.layer.2.DenseReluDense.wo.weight', '_forward_module.model.decoder.block.1.layer.2.layer_norm.weight', '_forward_module.model.decoder.block.2.layer.0.SelfAttention.q.weight', '_forward_module.model.decoder.block.2.layer.0.SelfAttention.k.weight', '_forward_module.model.decoder.block.2.layer.0.SelfAttention.v.weight', '_forward_module.model.decoder.block.2.layer.0.SelfAttention.o.weight', '_forward_module.model.decoder.block.2.layer.0.layer_norm.weight', '_forward_module.model.decoder.block.2.layer.1.EncDecAttention.q.weight', '_forward_module.model.decoder.block.2.layer.1.EncDecAttention.k.weight', '_forward_module.model.decoder.block.2.layer.1.EncDecAttention.v.weight', '_forward_module.model.decoder.block.2.layer.1.EncDecAttention.o.weight', '_forward_module.model.decoder.block.2.layer.1.layer_norm.weight', '_forward_module.model.decoder.block.2.layer.2.DenseReluDense.wi_0.weight', '_forward_module.model.decoder.block.2.layer.2.DenseReluDense.wi_1.weight', '_forward_module.model.decoder.block.2.layer.2.DenseReluDense.wo.weight', '_forward_module.model.decoder.block.2.layer.2.layer_norm.weight', '_forward_module.model.decoder.block.3.layer.0.SelfAttention.q.weight', '_forward_module.model.decoder.block.3.layer.0.SelfAttention.k.weight', '_forward_module.model.decoder.block.3.layer.0.SelfAttention.v.weight', '_forward_module.model.decoder.block.3.layer.0.SelfAttention.o.weight', '_forward_module.model.decoder.block.3.layer.0.layer_norm.weight', '_forward_module.model.decoder.block.3.layer.1.EncDecAttention.q.weight', '_forward_module.model.decoder.block.3.layer.1.EncDecAttention.k.weight', '_forward_module.model.decoder.block.3.layer.1.EncDecAttention.v.weight', '_forward_module.model.decoder.block.3.layer.1.EncDecAttention.o.weight', '_forward_module.model.decoder.block.3.layer.1.layer_norm.weight', '_forward_module.model.decoder.block.3.layer.2.DenseReluDense.wi_0.weight', '_forward_module.model.decoder.block.3.layer.2.DenseReluDense.wi_1.weight', '_forward_module.model.decoder.block.3.layer.2.DenseReluDense.wo.weight', '_forward_module.model.decoder.block.3.layer.2.layer_norm.weight', '_forward_module.model.decoder.block.4.layer.0.SelfAttention.q.weight', '_forward_module.model.decoder.block.4.layer.0.SelfAttention.k.weight', '_forward_module.model.decoder.block.4.layer.0.SelfAttention.v.weight', '_forward_module.model.decoder.block.4.layer.0.SelfAttention.o.weight', '_forward_module.model.decoder.block.4.layer.0.layer_norm.weight', '_forward_module.model.decoder.block.4.layer.1.EncDecAttention.q.weight', '_forward_module.model.decoder.block.4.layer.1.EncDecAttention.k.weight', '_forward_module.model.decoder.block.4.layer.1.EncDecAttention.v.weight', '_forward_module.model.decoder.block.4.layer.1.EncDecAttention.o.weight', '_forward_module.model.decoder.block.4.layer.1.layer_norm.weight', '_forward_module.model.decoder.block.4.layer.2.DenseReluDense.wi_0.weight', '_forward_module.model.decoder.block.4.layer.2.DenseReluDense.wi_1.weight', '_forward_module.model.decoder.block.4.layer.2.DenseReluDense.wo.weight', '_forward_module.model.decoder.block.4.layer.2.layer_norm.weight', '_forward_module.model.decoder.block.5.layer.0.SelfAttention.q.weight', '_forward_module.model.decoder.block.5.layer.0.SelfAttention.k.weight', '_forward_module.model.decoder.block.5.layer.0.SelfAttention.v.weight', '_forward_module.model.decoder.block.5.layer.0.SelfAttention.o.weight', '_forward_module.model.decoder.block.5.layer.0.layer_norm.weight', '_forward_module.model.decoder.block.5.layer.1.EncDecAttention.q.weight', '_forward_module.model.decoder.block.5.layer.1.EncDecAttention.k.weight', '_forward_module.model.decoder.block.5.layer.1.EncDecAttention.v.weight', '_forward_module.model.decoder.block.5.layer.1.EncDecAttention.o.weight', '_forward_module.model.decoder.block.5.layer.1.layer_norm.weight', '_forward_module.model.decoder.block.5.layer.2.DenseReluDense.wi_0.weight', '_forward_module.model.decoder.block.5.layer.2.DenseReluDense.wi_1.weight', '_forward_module.model.decoder.block.5.layer.2.DenseReluDense.wo.weight', '_forward_module.model.decoder.block.5.layer.2.layer_norm.weight', '_forward_module.model.decoder.block.6.layer.0.SelfAttention.q.weight', '_forward_module.model.decoder.block.6.layer.0.SelfAttention.k.weight', '_forward_module.model.decoder.block.6.layer.0.SelfAttention.v.weight', '_forward_module.model.decoder.block.6.layer.0.SelfAttention.o.weight', '_forward_module.model.decoder.block.6.layer.0.layer_norm.weight', '_forward_module.model.decoder.block.6.layer.1.EncDecAttention.q.weight', '_forward_module.model.decoder.block.6.layer.1.EncDecAttention.k.weight', '_forward_module.model.decoder.block.6.layer.1.EncDecAttention.v.weight', '_forward_module.model.decoder.block.6.layer.1.EncDecAttention.o.weight', '_forward_module.model.decoder.block.6.layer.1.layer_norm.weight', '_forward_module.model.decoder.block.6.layer.2.DenseReluDense.wi_0.weight', '_forward_module.model.decoder.block.6.layer.2.DenseReluDense.wi_1.weight', '_forward_module.model.decoder.block.6.layer.2.DenseReluDense.wo.weight', '_forward_module.model.decoder.block.6.layer.2.layer_norm.weight', '_forward_module.model.decoder.block.7.layer.0.SelfAttention.q.weight', '_forward_module.model.decoder.block.7.layer.0.SelfAttention.k.weight', '_forward_module.model.decoder.block.7.layer.0.SelfAttention.v.weight', '_forward_module.model.decoder.block.7.layer.0.SelfAttention.o.weight', '_forward_module.model.decoder.block.7.layer.0.layer_norm.weight', '_forward_module.model.decoder.block.7.layer.1.EncDecAttention.q.weight', '_forward_module.model.decoder.block.7.layer.1.EncDecAttention.k.weight', '_forward_module.model.decoder.block.7.layer.1.EncDecAttention.v.weight', '_forward_module.model.decoder.block.7.layer.1.EncDecAttention.o.weight', '_forward_module.model.decoder.block.7.layer.1.layer_norm.weight', '_forward_module.model.decoder.block.7.layer.2.DenseReluDense.wi_0.weight', '_forward_module.model.decoder.block.7.layer.2.DenseReluDense.wi_1.weight', '_forward_module.model.decoder.block.7.layer.2.DenseReluDense.wo.weight', '_forward_module.model.decoder.block.7.layer.2.layer_norm.weight', '_forward_module.model.decoder.block.8.layer.0.SelfAttention.q.weight', '_forward_module.model.decoder.block.8.layer.0.SelfAttention.k.weight', '_forward_module.model.decoder.block.8.layer.0.SelfAttention.v.weight', '_forward_module.model.decoder.block.8.layer.0.SelfAttention.o.weight', '_forward_module.model.decoder.block.8.layer.0.layer_norm.weight', '_forward_module.model.decoder.block.8.layer.1.EncDecAttention.q.weight', '_forward_module.model.decoder.block.8.layer.1.EncDecAttention.k.weight', '_forward_module.model.decoder.block.8.layer.1.EncDecAttention.v.weight', '_forward_module.model.decoder.block.8.layer.1.EncDecAttention.o.weight', '_forward_module.model.decoder.block.8.layer.1.layer_norm.weight', '_forward_module.model.decoder.block.8.layer.2.DenseReluDense.wi_0.weight', '_forward_module.model.decoder.block.8.layer.2.DenseReluDense.wi_1.weight', '_forward_module.model.decoder.block.8.layer.2.DenseReluDense.wo.weight', '_forward_module.model.decoder.block.8.layer.2.layer_norm.weight', '_forward_module.model.decoder.block.9.layer.0.SelfAttention.q.weight', '_forward_module.model.decoder.block.9.layer.0.SelfAttention.k.weight', '_forward_module.model.decoder.block.9.layer.0.SelfAttention.v.weight', '_forward_module.model.decoder.block.9.layer.0.SelfAttention.o.weight', '_forward_module.model.decoder.block.9.layer.0.layer_norm.weight', '_forward_module.model.decoder.block.9.layer.1.EncDecAttention.q.weight', '_forward_module.model.decoder.block.9.layer.1.EncDecAttention.k.weight', '_forward_module.model.decoder.block.9.layer.1.EncDecAttention.v.weight', '_forward_module.model.decoder.block.9.layer.1.EncDecAttention.o.weight', '_forward_module.model.decoder.block.9.layer.1.layer_norm.weight', '_forward_module.model.decoder.block.9.layer.2.DenseReluDense.wi_0.weight', '_forward_module.model.decoder.block.9.layer.2.DenseReluDense.wi_1.weight', '_forward_module.model.decoder.block.9.layer.2.DenseReluDense.wo.weight', '_forward_module.model.decoder.block.9.layer.2.layer_norm.weight', '_forward_module.model.decoder.block.10.layer.0.SelfAttention.q.weight', '_forward_module.model.decoder.block.10.layer.0.SelfAttention.k.weight', '_forward_module.model.decoder.block.10.layer.0.SelfAttention.v.weight', '_forward_module.model.decoder.block.10.layer.0.SelfAttention.o.weight', '_forward_module.model.decoder.block.10.layer.0.layer_norm.weight', '_forward_module.model.decoder.block.10.layer.1.EncDecAttention.q.weight', '_forward_module.model.decoder.block.10.layer.1.EncDecAttention.k.weight', '_forward_module.model.decoder.block.10.layer.1.EncDecAttention.v.weight', '_forward_module.model.decoder.block.10.layer.1.EncDecAttention.o.weight', '_forward_module.model.decoder.block.10.layer.1.layer_norm.weight', '_forward_module.model.decoder.block.10.layer.2.DenseReluDense.wi_0.weight', '_forward_module.model.decoder.block.10.layer.2.DenseReluDense.wi_1.weight', '_forward_module.model.decoder.block.10.layer.2.DenseReluDense.wo.weight', '_forward_module.model.decoder.block.10.layer.2.layer_norm.weight', '_forward_module.model.decoder.block.11.layer.0.SelfAttention.q.weight', '_forward_module.model.decoder.block.11.layer.0.SelfAttention.k.weight', '_forward_module.model.decoder.block.11.layer.0.SelfAttention.v.weight', '_forward_module.model.decoder.block.11.layer.0.SelfAttention.o.weight', '_forward_module.model.decoder.block.11.layer.0.layer_norm.weight', '_forward_module.model.decoder.block.11.layer.1.EncDecAttention.q.weight', '_forward_module.model.decoder.block.11.layer.1.EncDecAttention.k.weight', '_forward_module.model.decoder.block.11.layer.1.EncDecAttention.v.weight', '_forward_module.model.decoder.block.11.layer.1.EncDecAttention.o.weight', '_forward_module.model.decoder.block.11.layer.1.layer_norm.weight', '_forward_module.model.decoder.block.11.layer.2.DenseReluDense.wi_0.weight', '_forward_module.model.decoder.block.11.layer.2.DenseReluDense.wi_1.weight', '_forward_module.model.decoder.block.11.layer.2.DenseReluDense.wo.weight', '_forward_module.model.decoder.block.11.layer.2.layer_norm.weight', '_forward_module.model.decoder.block.12.layer.0.SelfAttention.q.weight', '_forward_module.model.decoder.block.12.layer.0.SelfAttention.k.weight', '_forward_module.model.decoder.block.12.layer.0.SelfAttention.v.weight', '_forward_module.model.decoder.block.12.layer.0.SelfAttention.o.weight', '_forward_module.model.decoder.block.12.layer.0.layer_norm.weight', '_forward_module.model.decoder.block.12.layer.1.EncDecAttention.q.weight', '_forward_module.model.decoder.block.12.layer.1.EncDecAttention.k.weight', '_forward_module.model.decoder.block.12.layer.1.EncDecAttention.v.weight', '_forward_module.model.decoder.block.12.layer.1.EncDecAttention.o.weight', '_forward_module.model.decoder.block.12.layer.1.layer_norm.weight', '_forward_module.model.decoder.block.12.layer.2.DenseReluDense.wi_0.weight', '_forward_module.model.decoder.block.12.layer.2.DenseReluDense.wi_1.weight', '_forward_module.model.decoder.block.12.layer.2.DenseReluDense.wo.weight', '_forward_module.model.decoder.block.12.layer.2.layer_norm.weight', '_forward_module.model.decoder.block.13.layer.0.SelfAttention.q.weight', '_forward_module.model.decoder.block.13.layer.0.SelfAttention.k.weight', '_forward_module.model.decoder.block.13.layer.0.SelfAttention.v.weight', '_forward_module.model.decoder.block.13.layer.0.SelfAttention.o.weight', '_forward_module.model.decoder.block.13.layer.0.layer_norm.weight', '_forward_module.model.decoder.block.13.layer.1.EncDecAttention.q.weight', '_forward_module.model.decoder.block.13.layer.1.EncDecAttention.k.weight', '_forward_module.model.decoder.block.13.layer.1.EncDecAttention.v.weight', '_forward_module.model.decoder.block.13.layer.1.EncDecAttention.o.weight', '_forward_module.model.decoder.block.13.layer.1.layer_norm.weight', '_forward_module.model.decoder.block.13.layer.2.DenseReluDense.wi_0.weight', '_forward_module.model.decoder.block.13.layer.2.DenseReluDense.wi_1.weight', '_forward_module.model.decoder.block.13.layer.2.DenseReluDense.wo.weight', '_forward_module.model.decoder.block.13.layer.2.layer_norm.weight', '_forward_module.model.decoder.block.14.layer.0.SelfAttention.q.weight', '_forward_module.model.decoder.block.14.layer.0.SelfAttention.k.weight', '_forward_module.model.decoder.block.14.layer.0.SelfAttention.v.weight', '_forward_module.model.decoder.block.14.layer.0.SelfAttention.o.weight', '_forward_module.model.decoder.block.14.layer.0.layer_norm.weight', '_forward_module.model.decoder.block.14.layer.1.EncDecAttention.q.weight', '_forward_module.model.decoder.block.14.layer.1.EncDecAttention.k.weight', '_forward_module.model.decoder.block.14.layer.1.EncDecAttention.v.weight', '_forward_module.model.decoder.block.14.layer.1.EncDecAttention.o.weight', '_forward_module.model.decoder.block.14.layer.1.layer_norm.weight', '_forward_module.model.decoder.block.14.layer.2.DenseReluDense.wi_0.weight', '_forward_module.model.decoder.block.14.layer.2.DenseReluDense.wi_1.weight', '_forward_module.model.decoder.block.14.layer.2.DenseReluDense.wo.weight', '_forward_module.model.decoder.block.14.layer.2.layer_norm.weight', '_forward_module.model.decoder.block.15.layer.0.SelfAttention.q.weight', '_forward_module.model.decoder.block.15.layer.0.SelfAttention.k.weight', '_forward_module.model.decoder.block.15.layer.0.SelfAttention.v.weight', '_forward_module.model.decoder.block.15.layer.0.SelfAttention.o.weight', '_forward_module.model.decoder.block.15.layer.0.layer_norm.weight', '_forward_module.model.decoder.block.15.layer.1.EncDecAttention.q.weight', '_forward_module.model.decoder.block.15.layer.1.EncDecAttention.k.weight', '_forward_module.model.decoder.block.15.layer.1.EncDecAttention.v.weight', '_forward_module.model.decoder.block.15.layer.1.EncDecAttention.o.weight', '_forward_module.model.decoder.block.15.layer.1.layer_norm.weight', '_forward_module.model.decoder.block.15.layer.2.DenseReluDense.wi_0.weight', '_forward_module.model.decoder.block.15.layer.2.DenseReluDense.wi_1.weight', '_forward_module.model.decoder.block.15.layer.2.DenseReluDense.wo.weight', '_forward_module.model.decoder.block.15.layer.2.layer_norm.weight', '_forward_module.model.decoder.block.16.layer.0.SelfAttention.q.weight', '_forward_module.model.decoder.block.16.layer.0.SelfAttention.k.weight', '_forward_module.model.decoder.block.16.layer.0.SelfAttention.v.weight', '_forward_module.model.decoder.block.16.layer.0.SelfAttention.o.weight', '_forward_module.model.decoder.block.16.layer.0.layer_norm.weight', '_forward_module.model.decoder.block.16.layer.1.EncDecAttention.q.weight', '_forward_module.model.decoder.block.16.layer.1.EncDecAttention.k.weight', '_forward_module.model.decoder.block.16.layer.1.EncDecAttention.v.weight', '_forward_module.model.decoder.block.16.layer.1.EncDecAttention.o.weight', '_forward_module.model.decoder.block.16.layer.1.layer_norm.weight', '_forward_module.model.decoder.block.16.layer.2.DenseReluDense.wi_0.weight', '_forward_module.model.decoder.block.16.layer.2.DenseReluDense.wi_1.weight', '_forward_module.model.decoder.block.16.layer.2.DenseReluDense.wo.weight', '_forward_module.model.decoder.block.16.layer.2.layer_norm.weight', '_forward_module.model.decoder.block.17.layer.0.SelfAttention.q.weight', '_forward_module.model.decoder.block.17.layer.0.SelfAttention.k.weight', '_forward_module.model.decoder.block.17.layer.0.SelfAttention.v.weight', '_forward_module.model.decoder.block.17.layer.0.SelfAttention.o.weight', '_forward_module.model.decoder.block.17.layer.0.layer_norm.weight', '_forward_module.model.decoder.block.17.layer.1.EncDecAttention.q.weight', '_forward_module.model.decoder.block.17.layer.1.EncDecAttention.k.weight', '_forward_module.model.decoder.block.17.layer.1.EncDecAttention.v.weight', '_forward_module.model.decoder.block.17.layer.1.EncDecAttention.o.weight', '_forward_module.model.decoder.block.17.layer.1.layer_norm.weight', '_forward_module.model.decoder.block.17.layer.2.DenseReluDense.wi_0.weight', '_forward_module.model.decoder.block.17.layer.2.DenseReluDense.wi_1.weight', '_forward_module.model.decoder.block.17.layer.2.DenseReluDense.wo.weight', '_forward_module.model.decoder.block.17.layer.2.layer_norm.weight', '_forward_module.model.decoder.block.18.layer.0.SelfAttention.q.weight', '_forward_module.model.decoder.block.18.layer.0.SelfAttention.k.weight', '_forward_module.model.decoder.block.18.layer.0.SelfAttention.v.weight', '_forward_module.model.decoder.block.18.layer.0.SelfAttention.o.weight', '_forward_module.model.decoder.block.18.layer.0.layer_norm.weight', '_forward_module.model.decoder.block.18.layer.1.EncDecAttention.q.weight', '_forward_module.model.decoder.block.18.layer.1.EncDecAttention.k.weight', '_forward_module.model.decoder.block.18.layer.1.EncDecAttention.v.weight', '_forward_module.model.decoder.block.18.layer.1.EncDecAttention.o.weight', '_forward_module.model.decoder.block.18.layer.1.layer_norm.weight', '_forward_module.model.decoder.block.18.layer.2.DenseReluDense.wi_0.weight', '_forward_module.model.decoder.block.18.layer.2.DenseReluDense.wi_1.weight', '_forward_module.model.decoder.block.18.layer.2.DenseReluDense.wo.weight', '_forward_module.model.decoder.block.18.layer.2.layer_norm.weight', '_forward_module.model.decoder.block.19.layer.0.SelfAttention.q.weight', '_forward_module.model.decoder.block.19.layer.0.SelfAttention.k.weight', '_forward_module.model.decoder.block.19.layer.0.SelfAttention.v.weight', '_forward_module.model.decoder.block.19.layer.0.SelfAttention.o.weight', '_forward_module.model.decoder.block.19.layer.0.layer_norm.weight', '_forward_module.model.decoder.block.19.layer.1.EncDecAttention.q.weight', '_forward_module.model.decoder.block.19.layer.1.EncDecAttention.k.weight', '_forward_module.model.decoder.block.19.layer.1.EncDecAttention.v.weight', '_forward_module.model.decoder.block.19.layer.1.EncDecAttention.o.weight', '_forward_module.model.decoder.block.19.layer.1.layer_norm.weight', '_forward_module.model.decoder.block.19.layer.2.DenseReluDense.wi_0.weight', '_forward_module.model.decoder.block.19.layer.2.DenseReluDense.wi_1.weight', '_forward_module.model.decoder.block.19.layer.2.DenseReluDense.wo.weight', '_forward_module.model.decoder.block.19.layer.2.layer_norm.weight', '_forward_module.model.decoder.block.20.layer.0.SelfAttention.q.weight', '_forward_module.model.decoder.block.20.layer.0.SelfAttention.k.weight', '_forward_module.model.decoder.block.20.layer.0.SelfAttention.v.weight', '_forward_module.model.decoder.block.20.layer.0.SelfAttention.o.weight', '_forward_module.model.decoder.block.20.layer.0.layer_norm.weight', '_forward_module.model.decoder.block.20.layer.1.EncDecAttention.q.weight', '_forward_module.model.decoder.block.20.layer.1.EncDecAttention.k.weight', '_forward_module.model.decoder.block.20.layer.1.EncDecAttention.v.weight', '_forward_module.model.decoder.block.20.layer.1.EncDecAttention.o.weight', '_forward_module.model.decoder.block.20.layer.1.layer_norm.weight', '_forward_module.model.decoder.block.20.layer.2.DenseReluDense.wi_0.weight', '_forward_module.model.decoder.block.20.layer.2.DenseReluDense.wi_1.weight', '_forward_module.model.decoder.block.20.layer.2.DenseReluDense.wo.weight', '_forward_module.model.decoder.block.20.layer.2.layer_norm.weight', '_forward_module.model.decoder.block.21.layer.0.SelfAttention.q.weight', '_forward_module.model.decoder.block.21.layer.0.SelfAttention.k.weight', '_forward_module.model.decoder.block.21.layer.0.SelfAttention.v.weight', '_forward_module.model.decoder.block.21.layer.0.SelfAttention.o.weight', '_forward_module.model.decoder.block.21.layer.0.layer_norm.weight', '_forward_module.model.decoder.block.21.layer.1.EncDecAttention.q.weight', '_forward_module.model.decoder.block.21.layer.1.EncDecAttention.k.weight', '_forward_module.model.decoder.block.21.layer.1.EncDecAttention.v.weight', '_forward_module.model.decoder.block.21.layer.1.EncDecAttention.o.weight', '_forward_module.model.decoder.block.21.layer.1.layer_norm.weight', '_forward_module.model.decoder.block.21.layer.2.DenseReluDense.wi_0.weight', '_forward_module.model.decoder.block.21.layer.2.DenseReluDense.wi_1.weight', '_forward_module.model.decoder.block.21.layer.2.DenseReluDense.wo.weight', '_forward_module.model.decoder.block.21.layer.2.layer_norm.weight', '_forward_module.model.decoder.block.22.layer.0.SelfAttention.q.weight', '_forward_module.model.decoder.block.22.layer.0.SelfAttention.k.weight', '_forward_module.model.decoder.block.22.layer.0.SelfAttention.v.weight', '_forward_module.model.decoder.block.22.layer.0.SelfAttention.o.weight', '_forward_module.model.decoder.block.22.layer.0.layer_norm.weight', '_forward_module.model.decoder.block.22.layer.1.EncDecAttention.q.weight', '_forward_module.model.decoder.block.22.layer.1.EncDecAttention.k.weight', '_forward_module.model.decoder.block.22.layer.1.EncDecAttention.v.weight', '_forward_module.model.decoder.block.22.layer.1.EncDecAttention.o.weight', '_forward_module.model.decoder.block.22.layer.1.layer_norm.weight', '_forward_module.model.decoder.block.22.layer.2.DenseReluDense.wi_0.weight', '_forward_module.model.decoder.block.22.layer.2.DenseReluDense.wi_1.weight', '_forward_module.model.decoder.block.22.layer.2.DenseReluDense.wo.weight', '_forward_module.model.decoder.block.22.layer.2.layer_norm.weight', '_forward_module.model.decoder.block.23.layer.0.SelfAttention.q.weight', '_forward_module.model.decoder.block.23.layer.0.SelfAttention.k.weight', '_forward_module.model.decoder.block.23.layer.0.SelfAttention.v.weight', '_forward_module.model.decoder.block.23.layer.0.SelfAttention.o.weight', '_forward_module.model.decoder.block.23.layer.0.layer_norm.weight', '_forward_module.model.decoder.block.23.layer.1.EncDecAttention.q.weight', '_forward_module.model.decoder.block.23.layer.1.EncDecAttention.k.weight', '_forward_module.model.decoder.block.23.layer.1.EncDecAttention.v.weight', '_forward_module.model.decoder.block.23.layer.1.EncDecAttention.o.weight', '_forward_module.model.decoder.block.23.layer.1.layer_norm.weight', '_forward_module.model.decoder.block.23.layer.2.DenseReluDense.wi_0.weight', '_forward_module.model.decoder.block.23.layer.2.DenseReluDense.wi_1.weight', '_forward_module.model.decoder.block.23.layer.2.DenseReluDense.wo.weight', '_forward_module.model.decoder.block.23.layer.2.layer_norm.weight', '_forward_module.model.decoder.final_layer_norm.weight', '_forward_module.model.lm_head.weight'])"
      ]
     },
     "execution_count": 60,
     "metadata": {},
     "output_type": "execute_result"
    }
   ],
   "source": [
    "left['module'].keys()"
   ]
  },
  {
   "cell_type": "code",
   "execution_count": 47,
   "id": "bd44ab2d-5428-4d66-880f-11fb30e31d95",
   "metadata": {},
   "outputs": [],
   "source": [
    "from collections import OrderedDict\n",
    "new_state_dict = OrderedDict()\n",
    "\n",
    "for key, value in checkpoint.items():\n",
    "    if \"forward\" in key:\n",
    "        name = key.replace(\"_forward_module\", \"module\")  # remove `forward_module_.`\n",
    "        new_state_dict[name] = value\n",
    "    else:\n",
    "        print(key)"
   ]
  },
  {
   "cell_type": "code",
   "execution_count": null,
   "id": "154f126d-7f9b-415f-a1f0-67812f3d3da6",
   "metadata": {},
   "outputs": [],
   "source": [
    "new_state_dict.keys()"
   ]
  },
  {
   "cell_type": "code",
   "execution_count": 49,
   "id": "252ce71b-673b-4a76-9b3a-45d54123c255",
   "metadata": {},
   "outputs": [],
   "source": [
    "for k in new_state_dict.keys():\n",
    "    if \"tokens\" in k:\n",
    "        print(k)"
   ]
  },
  {
   "cell_type": "code",
   "execution_count": 61,
   "id": "7fe38532-b87e-4767-9c44-1b1756ffac86",
   "metadata": {},
   "outputs": [],
   "source": [
    "new_state_dict[\"module.model.encoder.embed_tokens.weight\"] = left['module']['_forward_module.model.encoder.embed_tokens.weight']\n",
    "new_state_dict[\"module.model.decoder.embed_tokens.weight\"] = left['module']['_forward_module.model.decoder.embed_tokens.weight']"
   ]
  },
  {
   "cell_type": "code",
   "execution_count": 62,
   "id": "95c035ca-19b3-4066-b0c4-045fffb9629c",
   "metadata": {},
   "outputs": [
    {
     "data": {
      "text/plain": [
       "<All keys matched successfully>"
      ]
     },
     "execution_count": 62,
     "metadata": {},
     "output_type": "execute_result"
    }
   ],
   "source": [
    "qpref.load_state_dict(new_state_dict)"
   ]
  },
  {
   "cell_type": "code",
   "execution_count": null,
   "id": "0932459a-081c-46be-b5eb-39f624eec9cc",
   "metadata": {},
   "outputs": [],
   "source": [
    "qpref.to(\"cuda:0\")"
   ]
  },
  {
   "cell_type": "code",
   "execution_count": 64,
   "id": "06b7b50b-bcc3-4662-9357-9adb3629b5ca",
   "metadata": {},
   "outputs": [],
   "source": [
    "preftok = T5Tokenizer.from_pretrained(pfname)"
   ]
  },
  {
   "cell_type": "code",
   "execution_count": 65,
   "id": "f86fd986-6301-4436-9cb7-7277b739822f",
   "metadata": {},
   "outputs": [],
   "source": [
    "CLASSES = [71, 272, 205, 309]\n",
    "#CLASSES = [71, 272]\n",
    "# old boundaries (<1.1, <1.7, <2.1, +)\n",
    "def getclass(val):\n",
    "    if val<0.75:\n",
    "        return CLASSES[0]\n",
    "    elif val<1.5:\n",
    "        return CLASSES[1]\n",
    "    elif val<1.9:\n",
    "        return CLASSES[2]\n",
    "    else:\n",
    "        return CLASSES[3]\n",
    "        \n",
    "def eval_df(indf, pfcol):\n",
    "    ndf = []\n",
    "    for i, row in indf.iterrows():\n",
    "        for j in range(len(row.top_scores)):\n",
    "            ndf.append({'inp':row['instruction'], 'hyp':row[pfcol][j], 'label':getclass(row.top_scores[j])})\n",
    "    return pd.DataFrame(ndf)"
   ]
  },
  {
   "cell_type": "code",
   "execution_count": 66,
   "id": "d13ca74e-9ccf-4a2b-9441-02ea62039c82",
   "metadata": {},
   "outputs": [],
   "source": [
    "ppo_diag['pf20'] = make_prefs(sft_diag, preftok, 20)"
   ]
  },
  {
   "cell_type": "code",
   "execution_count": 67,
   "id": "f672a100-f701-4e09-9c6d-83ecb9708512",
   "metadata": {},
   "outputs": [
    {
     "name": "stdout",
     "output_type": "stream",
     "text": [
      "0\n",
      "10\n",
      "20\n",
      "30\n",
      "40\n"
     ]
    }
   ],
   "source": [
    "with torch.no_grad():\n",
    "    allprobs = []\n",
    "    for val in range(len(ppo_diag)):\n",
    "        if val%10==0:\n",
    "            print(val)\n",
    "        allprobs.append(getprobs(ppo_diag, val))"
   ]
  },
  {
   "cell_type": "code",
   "execution_count": null,
   "id": "3e35a0c5-dde8-4605-9a08-cb76704d6303",
   "metadata": {},
   "outputs": [],
   "source": [
    "allprobs[0]"
   ]
  },
  {
   "cell_type": "code",
   "execution_count": 70,
   "id": "54274e72-c3ff-4227-a597-59763a9bd2ac",
   "metadata": {},
   "outputs": [],
   "source": [
    "ppo_diag['probs20'] = allprobs"
   ]
  },
  {
   "cell_type": "code",
   "execution_count": null,
   "id": "ed1dcd24-f089-4b9f-9f64-5b3ab2b59fb4",
   "metadata": {},
   "outputs": [],
   "source": [
    "# get dataframes with prefix scores for different outs that we'll use in reranking\n",
    "tokenizer = T5Tokenizer.from_pretrained(\"google/flan-t5-xxl\")"
   ]
  },
  {
   "cell_type": "code",
   "execution_count": null,
   "id": "6c4d25f3-42b2-4461-890d-f3955a275ffb",
   "metadata": {},
   "outputs": [],
   "source": [
    "sft_diag"
   ]
  },
  {
   "cell_type": "code",
   "execution_count": 85,
   "id": "3594ea4a-980d-472a-9f4f-913ada0dd0c5",
   "metadata": {},
   "outputs": [],
   "source": [
    "ppo_data = pd.read_json(\"output/apexhaust/ppoexhaust.jsonl\", orient='records', lines=True)\n",
    "ppo_data = ppo_data.fillna(0).drop(columns=['pref'])\n",
    "sft_data = pd.read_json(\"output/apexhaust/sftexhaust.jsonl\", orient='records', lines=True)\n",
    "sft_data = sft_data.fillna(0).drop(columns=['pref'])"
   ]
  },
  {
   "cell_type": "code",
   "execution_count": 86,
   "id": "474c379d-215b-42c4-991b-d3e98f453d42",
   "metadata": {},
   "outputs": [],
   "source": [
    "def ind_scatters(ind, df):\n",
    "    uns = list(df['inp'].unique())\n",
    "    subdf = df[df['inp']==uns[ind]].copy()\n",
    "    fig, axs = plt.subplots(1, 2)\n",
    "    smin = subdf.iloc[1]['prefix']-3\n",
    "    subdf['aprefs'] = [s-smin if s>0 else s for s in subdf['prefix']] \n",
    "    #print(subdf['aprefs'])\n",
    "    axs[0].scatter(subdf['aprefs'], [mean(s) for s in subdf['scos']])\n",
    "    axs[0].set_title(\"Means Over Resamples\")\n",
    "    axs[1].scatter(subdf['aprefs'], [stdev(s) for s in subdf['scos']])\n",
    "    axs[1].set_title(\"Std Over Resamples\")\n",
    "\n",
    "def get_aprefs(df):\n",
    "    aprefs = []\n",
    "    curmin = 0\n",
    "    for i in range(0, len(df)):\n",
    "        if df['prefix'][i]==0:\n",
    "            aprefs.append(0)\n",
    "            continue\n",
    "        elif df['prefix'][i-1]==0:\n",
    "            curmin = df['prefix'][i]-3\n",
    "        aprefs.append(df['prefix'][i]-curmin)\n",
    "    return aprefs\n"
   ]
  },
  {
   "cell_type": "code",
   "execution_count": 88,
   "id": "3b914158-6d93-4dcf-acaf-75e9d2cf6cd6",
   "metadata": {},
   "outputs": [],
   "source": [
    "sft_data['adj_prefs'] = get_aprefs(sft_data)"
   ]
  },
  {
   "cell_type": "code",
   "execution_count": 90,
   "id": "6fef9492-6fb2-40f6-abb7-e0b531169f63",
   "metadata": {},
   "outputs": [
    {
     "data": {
      "text/plain": [
       "0.35574613030042035"
      ]
     },
     "execution_count": 90,
     "metadata": {},
     "output_type": "execute_result"
    }
   ],
   "source": [
    "mean([stdev(s) for s in sft_data[sft_data.adj_prefs<20].scos])"
   ]
  },
  {
   "cell_type": "code",
   "execution_count": 97,
   "id": "6a87290e-82ae-4107-a889-e12dbee5b817",
   "metadata": {},
   "outputs": [
    {
     "data": {
      "image/png": "[encoded data removed]",
      "text/plain": [
       "<Figure size 640x480 with 2 Axes>"
      ]
     },
     "metadata": {},
     "output_type": "display_data"
    }
   ],
   "source": [
    "ind_scatters(1, ppo_data)"
   ]
  },
  {
   "cell_type": "code",
   "execution_count": 62,
   "id": "fb27dba5-5671-4ca9-be77-e709f0080df7",
   "metadata": {},
   "outputs": [
    {
     "data": {
      "text/plain": [
       "(array([9.830e+02, 1.199e+03, 5.090e+02, 2.930e+02, 2.220e+02, 9.600e+01,\n",
       "        4.900e+01, 2.400e+01, 3.000e+00, 1.000e+00]),\n",
       " array([0.        , 0.1822044 , 0.36440879, 0.54661319, 0.72881759,\n",
       "        0.91102198, 1.09322638, 1.27543078, 1.45763517, 1.63983957,\n",
       "        1.82204397]),\n",
       " <BarContainer object of 10 artists>)"
      ]
     },
     "execution_count": 62,
     "metadata": {},
     "output_type": "execute_result"
    },
    {
     "data": {
      "image/png": "[encoded data removed]",
      "text/plain": [
       "<Figure size 640x480 with 1 Axes>"
      ]
     },
     "metadata": {},
     "output_type": "display_data"
    }
   ],
   "source": [
    "plt.hist([stdev(s) for s in ppo_data.scos])"
   ]
  },
  {
   "cell_type": "code",
   "execution_count": 7,
   "id": "e8ca8781-2d0f-454c-a993-9ef28e3d3fbe",
   "metadata": {},
   "outputs": [
    {
     "data": {
      "text/plain": [
       "(array([  7.,  20.,  52.,  98., 243., 630., 957., 965., 369.,  38.]),\n",
       " array([-0.3565889 , -0.05911712,  0.23835466,  0.53582644,  0.83329822,\n",
       "         1.13077   ,  1.42824178,  1.72571356,  2.02318534,  2.32065712,\n",
       "         2.6181289 ]),\n",
       " <BarContainer object of 10 artists>)"
      ]
     },
     "execution_count": 7,
     "metadata": {},
     "output_type": "execute_result"
    },
    {
     "data": {
      "image/png": "[encoded data removed]",
      "text/plain": [
       "<Figure size 640x480 with 1 Axes>"
      ]
     },
     "metadata": {},
     "output_type": "display_data"
    }
   ],
   "source": [
    "plt.hist([mean(s) for s in ppo_data.scos])"
   ]
  },
  {
   "cell_type": "code",
   "execution_count": 5,
   "id": "0ae86a6a-3bd8-480b-9cb6-1ad53a870191",
   "metadata": {},
   "outputs": [
    {
     "data": {
      "text/html": [
       "<div>\n",
       "<style scoped>\n",
       "    .dataframe tbody tr th:only-of-type {\n",
       "        vertical-align: middle;\n",
       "    }\n",
       "\n",
       "    .dataframe tbody tr th {\n",
       "        vertical-align: top;\n",
       "    }\n",
       "\n",
       "    .dataframe thead th {\n",
       "        text-align: right;\n",
       "    }\n",
       "</style>\n",
       "<table border=\"1\" class=\"dataframe\">\n",
       "  <thead>\n",
       "    <tr style=\"text-align: right;\">\n",
       "      <th></th>\n",
       "      <th>inp</th>\n",
       "      <th>hyps</th>\n",
       "      <th>scos</th>\n",
       "      <th>prefix</th>\n",
       "    </tr>\n",
       "  </thead>\n",
       "  <tbody>\n",
       "    <tr>\n",
       "      <th>0</th>\n",
       "      <td>Below is an instruction that describes a task....</td>\n",
       "      <td>[Below is an instruction that describes a task...</td>\n",
       "      <td>[1.4455330372000001, 1.3290436267999999, 1.329...</td>\n",
       "      <td>0.0</td>\n",
       "    </tr>\n",
       "    <tr>\n",
       "      <th>1</th>\n",
       "      <td>Below is an instruction that describes a task....</td>\n",
       "      <td>[Below is an instruction that describes a task...</td>\n",
       "      <td>[-0.5736763477, 1.594229579, -0.1385508627, 1....</td>\n",
       "      <td>69.0</td>\n",
       "    </tr>\n",
       "    <tr>\n",
       "      <th>2</th>\n",
       "      <td>Below is an instruction that describes a task....</td>\n",
       "      <td>[Below is an instruction that describes a task...</td>\n",
       "      <td>[1.6271995306, 1.572941184, 1.3370450735000001...</td>\n",
       "      <td>72.0</td>\n",
       "    </tr>\n",
       "    <tr>\n",
       "      <th>3</th>\n",
       "      <td>Below is an instruction that describes a task....</td>\n",
       "      <td>[Below is an instruction that describes a task...</td>\n",
       "      <td>[1.2783640623, 1.3673614264, 0.894701719300000...</td>\n",
       "      <td>75.0</td>\n",
       "    </tr>\n",
       "    <tr>\n",
       "      <th>4</th>\n",
       "      <td>Below is an instruction that describes a task....</td>\n",
       "      <td>[Below is an instruction that describes a task...</td>\n",
       "      <td>[1.2990484238, 1.7066233158, 1.552518367799999...</td>\n",
       "      <td>78.0</td>\n",
       "    </tr>\n",
       "    <tr>\n",
       "      <th>...</th>\n",
       "      <td>...</td>\n",
       "      <td>...</td>\n",
       "      <td>...</td>\n",
       "      <td>...</td>\n",
       "    </tr>\n",
       "    <tr>\n",
       "      <th>3374</th>\n",
       "      <td>Below is an instruction that describes a task....</td>\n",
       "      <td>[Below is an instruction that describes a task...</td>\n",
       "      <td>[1.8994317055, 1.7169818878, 2.4637775421, 1.4...</td>\n",
       "      <td>127.0</td>\n",
       "    </tr>\n",
       "    <tr>\n",
       "      <th>3375</th>\n",
       "      <td>Below is an instruction that describes a task....</td>\n",
       "      <td>[Below is an instruction that describes a task...</td>\n",
       "      <td>[1.6888713837, 2.0935816765, 1.5731861591, 2.0...</td>\n",
       "      <td>130.0</td>\n",
       "    </tr>\n",
       "    <tr>\n",
       "      <th>3376</th>\n",
       "      <td>Below is an instruction that describes a task....</td>\n",
       "      <td>[Below is an instruction that describes a task...</td>\n",
       "      <td>[2.2624211311, 1.8927211761, 2.1232714653, 1.5...</td>\n",
       "      <td>133.0</td>\n",
       "    </tr>\n",
       "    <tr>\n",
       "      <th>3377</th>\n",
       "      <td>Below is an instruction that describes a task....</td>\n",
       "      <td>[Below is an instruction that describes a task...</td>\n",
       "      <td>[2.3049564362, 2.0557906628, 1.3633817434, 2.3...</td>\n",
       "      <td>136.0</td>\n",
       "    </tr>\n",
       "    <tr>\n",
       "      <th>3378</th>\n",
       "      <td>Below is an instruction that describes a task....</td>\n",
       "      <td>[Below is an instruction that describes a task...</td>\n",
       "      <td>[1.7160017490000001, 2.6847505569, 2.003501653...</td>\n",
       "      <td>139.0</td>\n",
       "    </tr>\n",
       "  </tbody>\n",
       "</table>\n",
       "<p>3379 rows × 4 columns</p>\n",
       "</div>"
      ],
      "text/plain": [
       "                                                    inp  \\\n",
       "0     Below is an instruction that describes a task....   \n",
       "1     Below is an instruction that describes a task....   \n",
       "2     Below is an instruction that describes a task....   \n",
       "3     Below is an instruction that describes a task....   \n",
       "4     Below is an instruction that describes a task....   \n",
       "...                                                 ...   \n",
       "3374  Below is an instruction that describes a task....   \n",
       "3375  Below is an instruction that describes a task....   \n",
       "3376  Below is an instruction that describes a task....   \n",
       "3377  Below is an instruction that describes a task....   \n",
       "3378  Below is an instruction that describes a task....   \n",
       "\n",
       "                                                   hyps  \\\n",
       "0     [Below is an instruction that describes a task...   \n",
       "1     [Below is an instruction that describes a task...   \n",
       "2     [Below is an instruction that describes a task...   \n",
       "3     [Below is an instruction that describes a task...   \n",
       "4     [Below is an instruction that describes a task...   \n",
       "...                                                 ...   \n",
       "3374  [Below is an instruction that describes a task...   \n",
       "3375  [Below is an instruction that describes a task...   \n",
       "3376  [Below is an instruction that describes a task...   \n",
       "3377  [Below is an instruction that describes a task...   \n",
       "3378  [Below is an instruction that describes a task...   \n",
       "\n",
       "                                                   scos  prefix  \n",
       "0     [1.4455330372000001, 1.3290436267999999, 1.329...     0.0  \n",
       "1     [-0.5736763477, 1.594229579, -0.1385508627, 1....    69.0  \n",
       "2     [1.6271995306, 1.572941184, 1.3370450735000001...    72.0  \n",
       "3     [1.2783640623, 1.3673614264, 0.894701719300000...    75.0  \n",
       "4     [1.2990484238, 1.7066233158, 1.552518367799999...    78.0  \n",
       "...                                                 ...     ...  \n",
       "3374  [1.8994317055, 1.7169818878, 2.4637775421, 1.4...   127.0  \n",
       "3375  [1.6888713837, 2.0935816765, 1.5731861591, 2.0...   130.0  \n",
       "3376  [2.2624211311, 1.8927211761, 2.1232714653, 1.5...   133.0  \n",
       "3377  [2.3049564362, 2.0557906628, 1.3633817434, 2.3...   136.0  \n",
       "3378  [1.7160017490000001, 2.6847505569, 2.003501653...   139.0  \n",
       "\n",
       "[3379 rows x 4 columns]"
      ]
     },
     "execution_count": 5,
     "metadata": {},
     "output_type": "execute_result"
    }
   ],
   "source": [
    "ppo_data"
   ]
  },
  {
   "cell_type": "code",
   "execution_count": null,
   "id": "ae026741-1729-4b0b-b6f4-a49ffac4a4d5",
   "metadata": {},
   "outputs": [],
   "source": []
  }
 ],
 "metadata": {
  "kernelspec": {
   "display_name": "Python 3 (ipykernel)",
   "language": "python",
   "name": "python3"
  },
  "language_info": {
   "codemirror_mode": {
    "name": "ipython",
    "version": 3
   },
   "file_extension": ".py",
   "mimetype": "text/x-python",
   "name": "python",
   "nbconvert_exporter": "python",
   "pygments_lexer": "ipython3",
   "version": "3.9.0"
  }
 },
 "nbformat": 4,
 "nbformat_minor": 5
}
