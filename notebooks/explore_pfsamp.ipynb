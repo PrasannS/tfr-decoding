{
 "cells": [
  {
   "cell_type": "code",
   "execution_count": 1,
   "id": "dbcf9396-bdbe-4f7f-ba68-ba162e784307",
   "metadata": {
    "tags": []
   },
   "outputs": [],
   "source": [
    "from transformers import T5ForConditionalGeneration, T5Tokenizer\n",
    "import torch\n",
    "from datasets import load_dataset\n",
    "import pandas as pd\n",
    "import numpy as np\n",
    "from src.tfr_decoding.finepref_sample import sample # new sampling method\n",
    "from src.utils.samp_utils import inpsampall, dset_randsamp   \n",
    "from src.tfr_decoding.shp_modeling import T5BinaryClassifier\n",
    "from prefix_sampling import PrefixSampler, test_baseline, test_pfsample, test_finesample, test_apsample, test_enhancedsample\n",
    "import matplotlib.pyplot as plt\n",
    "from ast import literal_eval\n",
    "import re"
   ]
  },
  {
   "cell_type": "code",
   "execution_count": 45,
   "id": "2304a6f3-8f16-45c5-9ed6-db20b1789346",
   "metadata": {
    "tags": []
   },
   "outputs": [],
   "source": [
    "ehnew = pd.read_csv(\"/home/prasann/Projects/tfr-decoding//output/hparam_explore5/enhsamp5_14_25_35vpt7.csv\", index_col=False)"
   ]
  },
  {
   "cell_type": "code",
   "execution_count": 46,
   "id": "ef2aec7d-c528-4419-bf75-0b1285a7a6c2",
   "metadata": {
    "tags": []
   },
   "outputs": [
    {
     "data": {
      "text/plain": [
       "0.8453238318430497"
      ]
     },
     "execution_count": 46,
     "metadata": {},
     "output_type": "execute_result"
    }
   ],
   "source": [
    "ehnew.scos.mean()"
   ]
  },
  {
   "cell_type": "code",
   "execution_count": 47,
   "id": "12ee7db6-3e26-45b5-b369-c403523ae5a8",
   "metadata": {
    "tags": []
   },
   "outputs": [
    {
     "data": {
      "text/plain": [
       "149"
      ]
     },
     "execution_count": 47,
     "metadata": {},
     "output_type": "execute_result"
    }
   ],
   "source": [
    "len(ehnew)"
   ]
  },
  {
   "cell_type": "code",
   "execution_count": 48,
   "id": "989cbe20-d5fa-4b7b-8f03-f6dcc30d5e2a",
   "metadata": {
    "tags": []
   },
   "outputs": [],
   "source": [
    "ehnew['sampnum'] = [len(literal_eval(a)) for a in ehnew['allscos']]"
   ]
  },
  {
   "cell_type": "code",
   "execution_count": 40,
   "id": "4298b863-dd23-457c-8e6e-7c70b74ddc05",
   "metadata": {
    "tags": []
   },
   "outputs": [
    {
     "data": {
      "text/plain": [
       "0.8112936641065422"
      ]
     },
     "execution_count": 40,
     "metadata": {},
     "output_type": "execute_result"
    }
   ],
   "source": [
    "pfs.iloc[:300][ehnew.sampnum>1].scos.mean()"
   ]
  },
  {
   "cell_type": "code",
   "execution_count": 53,
   "id": "330e838e-fff0-4c8b-9315-38218ca08622",
   "metadata": {
    "tags": []
   },
   "outputs": [
    {
     "data": {
      "text/plain": [
       "0.8852345901727676"
      ]
     },
     "execution_count": 53,
     "metadata": {},
     "output_type": "execute_result"
    }
   ],
   "source": [
    "ehnew[ehnew.sampnum==1].scos.mean()"
   ]
  },
  {
   "cell_type": "code",
   "execution_count": 22,
   "id": "0591fea1-a87f-4bf6-a4fe-83b4a90647f8",
   "metadata": {
    "tags": []
   },
   "outputs": [],
   "source": [
    "eh1 = pd.read_csv(\"/home/prasann/Projects/tfr-decoding//output/hparam_explore4/enhsamp5_20_30v2.csv\", index_col=False)"
   ]
  },
  {
   "cell_type": "code",
   "execution_count": 116,
   "id": "f40b70cb-7de8-4b43-a5c6-472361ae0295",
   "metadata": {
    "tags": []
   },
   "outputs": [],
   "source": [
    "ehp7 = pd.read_csv(\"/home/prasann/Projects/tfr-decoding//output/hparam_explore4/enhsamp5_20_30vpt7.csv\", index_col=False)"
   ]
  },
  {
   "cell_type": "code",
   "execution_count": 122,
   "id": "440fd4c4-5444-419d-8f2c-92585e86e968",
   "metadata": {
    "tags": []
   },
   "outputs": [
    {
     "data": {
      "text/plain": [
       "137.1505016722408"
      ]
     },
     "execution_count": 122,
     "metadata": {},
     "output_type": "execute_result"
    }
   ],
   "source": [
    "ehp7.budgets.mean()"
   ]
  },
  {
   "cell_type": "code",
   "execution_count": 11,
   "id": "0b88084b-8484-479c-ab1d-e7e53142a3ed",
   "metadata": {
    "tags": []
   },
   "outputs": [
    {
     "data": {
      "text/plain": [
       "0.852865713234"
      ]
     },
     "execution_count": 11,
     "metadata": {},
     "output_type": "execute_result"
    }
   ],
   "source": [
    "b4.iloc[:100].scos.mean()"
   ]
  },
  {
   "cell_type": "code",
   "execution_count": 124,
   "id": "01255bb5-8ac5-45e6-9fe3-b904bf608daa",
   "metadata": {
    "tags": []
   },
   "outputs": [
    {
     "data": {
      "text/plain": [
       "(array([  4.,   9.,  49., 169., 201., 108.,  35.,  17.,   5.,   3.]),\n",
       " array([-0.32428956, -0.24524087, -0.16619217, -0.08714348, -0.00809479,\n",
       "         0.07095391,  0.1500026 ,  0.22905129,  0.30809999,  0.38714868,\n",
       "         0.46619737]),\n",
       " <BarContainer object of 10 artists>)"
      ]
     },
     "execution_count": 124,
     "metadata": {},
     "output_type": "execute_result"
    },
    {
     "data": {
      "image/png": "[encoded data removed]",
      "text/plain": [
       "<Figure size 640x480 with 1 Axes>"
      ]
     },
     "metadata": {},
     "output_type": "display_data"
    }
   ],
   "source": [
    "plt.hist(list(b4.scos-eh1.scos))"
   ]
  },
  {
   "cell_type": "code",
   "execution_count": 29,
   "id": "10807aac-c80d-4c50-936f-386fb966913d",
   "metadata": {
    "tags": []
   },
   "outputs": [
    {
     "data": {
      "text/plain": [
       "115.63265306122449"
      ]
     },
     "execution_count": 29,
     "metadata": {},
     "output_type": "execute_result"
    }
   ],
   "source": [
    "eh1.iloc[:49].budgets.mean()"
   ]
  },
  {
   "cell_type": "code",
   "execution_count": 23,
   "id": "8a8f143e-693b-4a0c-ab0a-724721337abc",
   "metadata": {
    "tags": []
   },
   "outputs": [
    {
     "data": {
      "text/plain": [
       "49"
      ]
     },
     "execution_count": 23,
     "metadata": {},
     "output_type": "execute_result"
    }
   ],
   "source": [
    "len(ehp7)"
   ]
  },
  {
   "cell_type": "code",
   "execution_count": 17,
   "id": "801f3eb0-064d-4855-867b-b2210e41b4be",
   "metadata": {
    "tags": []
   },
   "outputs": [],
   "source": [
    "eh1 = pd.read_csv(\"/home/prasann/Projects/tfr-decoding//output/hparam_explore3/enhsamp10_20_30.csv\", index_col=False)"
   ]
  },
  {
   "cell_type": "code",
   "execution_count": 29,
   "id": "4783cff8-2f46-4d67-be84-56a769944261",
   "metadata": {
    "tags": []
   },
   "outputs": [],
   "source": [
    "eh2 = pd.read_json(\"/home/prasann/Projects/tfr-decoding//output/hparam_explore2/enhsamp7_20.jsonl\", orient=\"records\", lines=True)"
   ]
  },
  {
   "cell_type": "code",
   "execution_count": 11,
   "id": "c3b95c95-1d7d-4200-b47d-7985a3c47c5d",
   "metadata": {
    "tags": []
   },
   "outputs": [
    {
     "data": {
      "text/plain": [
       "0.8313244177897772"
      ]
     },
     "execution_count": 11,
     "metadata": {},
     "output_type": "execute_result"
    }
   ],
   "source": [
    "eh1['scos'].mean()"
   ]
  },
  {
   "cell_type": "code",
   "execution_count": 13,
   "id": "0d71e83e-fb27-45d4-9bf9-948b4ec43b49",
   "metadata": {
    "tags": []
   },
   "outputs": [
    {
     "data": {
      "text/plain": [
       "134.69333333333333"
      ]
     },
     "execution_count": 13,
     "metadata": {},
     "output_type": "execute_result"
    }
   ],
   "source": [
    "eh1['budgets'].mean()"
   ]
  },
  {
   "cell_type": "code",
   "execution_count": 61,
   "id": "19c23569-a8c6-430e-8644-1e6dfe1cd19a",
   "metadata": {
    "tags": []
   },
   "outputs": [],
   "source": [
    "eh1['nsamp'] = [len(literal_eval(a)) for a in eh1['allscos']]"
   ]
  },
  {
   "cell_type": "code",
   "execution_count": 20,
   "id": "0ca9cd98-e7b6-4109-9d96-0efa2294bd4e",
   "metadata": {
    "tags": []
   },
   "outputs": [
    {
     "data": {
      "text/plain": [
       "0.8702718861870937"
      ]
     },
     "execution_count": 20,
     "metadata": {},
     "output_type": "execute_result"
    }
   ],
   "source": [
    "eh1[eh1.samps==1].scos.mean()"
   ]
  },
  {
   "cell_type": "code",
   "execution_count": 22,
   "id": "63826b62-d682-4bc0-a0dd-bfc5a42ff69a",
   "metadata": {
    "tags": []
   },
   "outputs": [
    {
     "data": {
      "text/plain": [
       "444"
      ]
     },
     "execution_count": 22,
     "metadata": {},
     "output_type": "execute_result"
    }
   ],
   "source": [
    "len(eh1[eh1.samps==1])"
   ]
  },
  {
   "cell_type": "code",
   "execution_count": 33,
   "id": "7a8b9a69-499e-4a4d-ad85-3de284ca9e1f",
   "metadata": {
    "tags": []
   },
   "outputs": [
    {
     "ename": "AttributeError",
     "evalue": "'DataFrame' object has no attribute 'nsamp'",
     "output_type": "error",
     "traceback": [
      "\u001b[0;31m---------------------------------------------------------------------------\u001b[0m",
      "\u001b[0;31mAttributeError\u001b[0m                            Traceback (most recent call last)",
      "Cell \u001b[0;32mIn[33], line 1\u001b[0m\n\u001b[0;32m----> 1\u001b[0m b4\u001b[38;5;241m.\u001b[39miloc[:\u001b[38;5;241m300\u001b[39m][\u001b[43mehnew\u001b[49m\u001b[38;5;241;43m.\u001b[39;49m\u001b[43mnsamp\u001b[49m\u001b[38;5;241m==\u001b[39m\u001b[38;5;241m1\u001b[39m]\u001b[38;5;241m.\u001b[39mbudgets\u001b[38;5;241m.\u001b[39mmean()\n",
      "File \u001b[0;32m~/miniconda3/envs/rewardenv/lib/python3.8/site-packages/pandas/core/generic.py:5902\u001b[0m, in \u001b[0;36mNDFrame.__getattr__\u001b[0;34m(self, name)\u001b[0m\n\u001b[1;32m   5895\u001b[0m \u001b[38;5;28;01mif\u001b[39;00m (\n\u001b[1;32m   5896\u001b[0m     name \u001b[38;5;129;01mnot\u001b[39;00m \u001b[38;5;129;01min\u001b[39;00m \u001b[38;5;28mself\u001b[39m\u001b[38;5;241m.\u001b[39m_internal_names_set\n\u001b[1;32m   5897\u001b[0m     \u001b[38;5;129;01mand\u001b[39;00m name \u001b[38;5;129;01mnot\u001b[39;00m \u001b[38;5;129;01min\u001b[39;00m \u001b[38;5;28mself\u001b[39m\u001b[38;5;241m.\u001b[39m_metadata\n\u001b[1;32m   5898\u001b[0m     \u001b[38;5;129;01mand\u001b[39;00m name \u001b[38;5;129;01mnot\u001b[39;00m \u001b[38;5;129;01min\u001b[39;00m \u001b[38;5;28mself\u001b[39m\u001b[38;5;241m.\u001b[39m_accessors\n\u001b[1;32m   5899\u001b[0m     \u001b[38;5;129;01mand\u001b[39;00m \u001b[38;5;28mself\u001b[39m\u001b[38;5;241m.\u001b[39m_info_axis\u001b[38;5;241m.\u001b[39m_can_hold_identifiers_and_holds_name(name)\n\u001b[1;32m   5900\u001b[0m ):\n\u001b[1;32m   5901\u001b[0m     \u001b[38;5;28;01mreturn\u001b[39;00m \u001b[38;5;28mself\u001b[39m[name]\n\u001b[0;32m-> 5902\u001b[0m \u001b[38;5;28;01mreturn\u001b[39;00m \u001b[38;5;28;43mobject\u001b[39;49m\u001b[38;5;241;43m.\u001b[39;49m\u001b[38;5;21;43m__getattribute__\u001b[39;49m\u001b[43m(\u001b[49m\u001b[38;5;28;43mself\u001b[39;49m\u001b[43m,\u001b[49m\u001b[43m \u001b[49m\u001b[43mname\u001b[49m\u001b[43m)\u001b[49m\n",
      "\u001b[0;31mAttributeError\u001b[0m: 'DataFrame' object has no attribute 'nsamp'"
     ]
    }
   ],
   "source": [
    "b4.iloc[:300][ehnew.nsamp==1].budgets.mean()"
   ]
  },
  {
   "cell_type": "code",
   "execution_count": 59,
   "id": "baa52596-ffc6-4054-888a-276d6a1524e2",
   "metadata": {
    "tags": []
   },
   "outputs": [],
   "source": [
    "olens = [len(s.split(\" \")) for s in eh1.outs]\n",
    "eh1['olens'] = olens"
   ]
  },
  {
   "cell_type": "code",
   "execution_count": 96,
   "id": "5ddf85e5-3d60-40dd-a85d-2de963d31ef6",
   "metadata": {
    "tags": []
   },
   "outputs": [],
   "source": [
    "with open('hypexp3cp.txt', 'r') as file:\n",
    "    data = file.read()"
   ]
  },
  {
   "cell_type": "code",
   "execution_count": 97,
   "id": "f2f9935d-b22c-4c6f-94d7-57c04101a943",
   "metadata": {
    "tags": []
   },
   "outputs": [],
   "source": [
    "#data = data.replace(\"0.85\", \"\")\n",
    "#data = data.replace(\"0.75\", \"\")\n",
    "#data = data.replace(\"0.8\", \"\")\n",
    "#data = data.replace(\"0.7\", \"\")\n",
    "data = data.replace(\"[]\", \"\")"
   ]
  },
  {
   "cell_type": "code",
   "execution_count": 98,
   "id": "ffe36f79-15b9-49c8-8759-d6bf19301487",
   "metadata": {
    "tags": []
   },
   "outputs": [],
   "source": [
    "out_inps = data.split(\"start decoding\")"
   ]
  },
  {
   "cell_type": "code",
   "execution_count": 108,
   "id": "ccd956b4-2bcf-4970-8784-79534e0b6145",
   "metadata": {
    "tags": []
   },
   "outputs": [],
   "source": [
    "def get_depth(s):\n",
    "    vals = [float(f) for f in re.findall(\"\\d+\\.\\d+\", s)][2:-2]\n",
    "    d = 0\n",
    "    blind = -1\n",
    "    blcnt = 0\n",
    "    for v in vals:\n",
    "        if v>0.7:\n",
    "            d = d+1\n",
    "            blcnt = 0\n",
    "        else:\n",
    "            blcnt = blcnt +1\n",
    "        if blcnt==12:\n",
    "            blind = d\n",
    "    return d, blind, len(vals)\n",
    "\n",
    "def checkmax(s):\n",
    "    vals = [float(f) for f in re.findall(\"\\d+\\.\\d+\", s)][2:-2]\n",
    "    print(max(vals))\n",
    "    if max(vals)<0.9:\n",
    "        return 1\n",
    "    return 0"
   ]
  },
  {
   "cell_type": "code",
   "execution_count": 100,
   "id": "77721fb4-bca7-4593-a86c-1c8f0d71d093",
   "metadata": {
    "tags": []
   },
   "outputs": [],
   "source": [
    "setv = out_inps[1:601]"
   ]
  },
  {
   "cell_type": "code",
   "execution_count": 101,
   "id": "fe8e087f-9885-415d-9682-3b79d5c63eee",
   "metadata": {
    "tags": []
   },
   "outputs": [
    {
     "data": {
      "text/plain": [
       "'\\n0.7\\n0.8\\nWhile\\ncheckpoint prob is  0.787611186504364\\nWhile licking your\\nWhile licking your lips will\\nWhile licking your lips will hydrate them temporarily\\nWhile licking your lips will hydrate them temporarily, if\\nWhile licking your lips will hydrate them temporarily, if you do it\\ncheckpoint prob is  0.9850274920463562\\nWhile licking your lips will hydrate them temporarily, if you do it too often your\\nWhile licking your lips will hydrate them temporarily, if you do it too often your lips will become\\nWhile licking your lips will hydrate them temporarily, if you do it too often your lips will become dry. The\\nWhile licking your lips will hydrate them temporarily, if you do it too often your lips will become dry. The key is to\\ncheckpoint prob is  0.9970123767852783\\nadaptive, score  tensor([0.8971])   While licking your lips will hydrate them temporarily, if you do it too often your lips will become dry. The key is to lick them when they are dry, not while they are wet.\\n45\\n0.8971308469772339\\n'"
      ]
     },
     "execution_count": 101,
     "metadata": {},
     "output_type": "execute_result"
    }
   ],
   "source": [
    "setv[11]"
   ]
  },
  {
   "cell_type": "code",
   "execution_count": null,
   "id": "2db30fe8-2f5c-4ce7-8263-83b0eaeee8d4",
   "metadata": {
    "tags": []
   },
   "outputs": [],
   "source": [
    "sum([checkmax(m) for m in setv])"
   ]
  },
  {
   "cell_type": "code",
   "execution_count": 105,
   "id": "c0c01b23-cce2-4ec4-bed2-3f7413cd262a",
   "metadata": {
    "tags": []
   },
   "outputs": [],
   "source": [
    "depdata = [get_depth(sv) for sv in setv]"
   ]
  },
  {
   "cell_type": "code",
   "execution_count": 106,
   "id": "954bcdbc-618c-48ec-82c6-f4f934e7c993",
   "metadata": {
    "tags": []
   },
   "outputs": [],
   "source": [
    "eh1['depth'], eh1['maxind'], eh1['samps'] = [d[0] for d in depdata], [d[1] for d in depdata], [d[2] for d in depdata]"
   ]
  },
  {
   "cell_type": "code",
   "execution_count": 107,
   "id": "0de7a83e-091c-49aa-b4be-2a53ea1e746c",
   "metadata": {
    "tags": []
   },
   "outputs": [
    {
     "data": {
      "text/plain": [
       "0      2\n",
       "1      0\n",
       "2      0\n",
       "3      3\n",
       "4      0\n",
       "      ..\n",
       "595    3\n",
       "596    1\n",
       "597    3\n",
       "598    3\n",
       "599    0\n",
       "Name: depth, Length: 600, dtype: int64"
      ]
     },
     "execution_count": 107,
     "metadata": {},
     "output_type": "execute_result"
    }
   ],
   "source": [
    "eh1[eh1.nsamp>]"
   ]
  },
  {
   "cell_type": "code",
   "execution_count": 115,
   "id": "0e43868f-d3b7-4d93-9f33-c76af3f9735a",
   "metadata": {
    "tags": []
   },
   "outputs": [
    {
     "data": {
      "text/plain": [
       "0.6510771387729092"
      ]
     },
     "execution_count": 115,
     "metadata": {},
     "output_type": "execute_result"
    }
   ],
   "source": [
    "tmp = eh1[eh1.nsamp>1]\n",
    "tmp[tmp.depth==0].scos.mean()"
   ]
  },
  {
   "cell_type": "code",
   "execution_count": 63,
   "id": "97d16470-f0a2-463b-b6c5-a873e694f4cf",
   "metadata": {
    "tags": []
   },
   "outputs": [
    {
     "data": {
      "text/html": [
       "<div>\n",
       "<style scoped>\n",
       "    .dataframe tbody tr th:only-of-type {\n",
       "        vertical-align: middle;\n",
       "    }\n",
       "\n",
       "    .dataframe tbody tr th {\n",
       "        vertical-align: top;\n",
       "    }\n",
       "\n",
       "    .dataframe thead th {\n",
       "        text-align: right;\n",
       "    }\n",
       "</style>\n",
       "<table border=\"1\" class=\"dataframe\">\n",
       "  <thead>\n",
       "    <tr style=\"text-align: right;\">\n",
       "      <th></th>\n",
       "      <th>Unnamed: 0</th>\n",
       "      <th>scos</th>\n",
       "      <th>budgets</th>\n",
       "      <th>outs</th>\n",
       "      <th>allscos</th>\n",
       "      <th>allstrs</th>\n",
       "      <th>depth</th>\n",
       "      <th>maxind</th>\n",
       "      <th>samps</th>\n",
       "      <th>olens</th>\n",
       "      <th>nsamp</th>\n",
       "    </tr>\n",
       "  </thead>\n",
       "  <tbody>\n",
       "    <tr>\n",
       "      <th>1</th>\n",
       "      <td>1</td>\n",
       "      <td>0.703003</td>\n",
       "      <td>105</td>\n",
       "      <td>The problem with Eventually, the pressure woul...</td>\n",
       "      <td>[0.6976476907730103, 0.7030027508735657]</td>\n",
       "      <td>['The problem with making a submarine too thic...</td>\n",
       "      <td>1</td>\n",
       "      <td>1</td>\n",
       "      <td>15</td>\n",
       "      <td>24</td>\n",
       "      <td>2</td>\n",
       "    </tr>\n",
       "    <tr>\n",
       "      <th>4</th>\n",
       "      <td>4</td>\n",
       "      <td>0.844910</td>\n",
       "      <td>278</td>\n",
       "      <td>There is no simple is the simplest. Its the ea...</td>\n",
       "      <td>[0.6613632440567017, 0.8449100255966187]</td>\n",
       "      <td>['Some examples of programming languages are B...</td>\n",
       "      <td>1</td>\n",
       "      <td>1</td>\n",
       "      <td>15</td>\n",
       "      <td>139</td>\n",
       "      <td>2</td>\n",
       "    </tr>\n",
       "    <tr>\n",
       "      <th>5</th>\n",
       "      <td>5</td>\n",
       "      <td>0.591316</td>\n",
       "      <td>115</td>\n",
       "      <td>All files on your harddrive have file names an...</td>\n",
       "      <td>[0.5913158655166626, 0.40268614888191223]</td>\n",
       "      <td>['All files on your harddrive have file names ...</td>\n",
       "      <td>1</td>\n",
       "      <td>1</td>\n",
       "      <td>15</td>\n",
       "      <td>32</td>\n",
       "      <td>2</td>\n",
       "    </tr>\n",
       "    <tr>\n",
       "      <th>7</th>\n",
       "      <td>7</td>\n",
       "      <td>0.632880</td>\n",
       "      <td>127</td>\n",
       "      <td>The answer is through a combination of an \"alg...</td>\n",
       "      <td>[0.6328802108764648, 0.5963546633720398]</td>\n",
       "      <td>['The answer is through a combination of an \"a...</td>\n",
       "      <td>1</td>\n",
       "      <td>1</td>\n",
       "      <td>15</td>\n",
       "      <td>18</td>\n",
       "      <td>2</td>\n",
       "    </tr>\n",
       "    <tr>\n",
       "      <th>16</th>\n",
       "      <td>16</td>\n",
       "      <td>0.583863</td>\n",
       "      <td>112</td>\n",
       "      <td>That is, they don't know how to crack it, and ...</td>\n",
       "      <td>[0.5838630199432373, 0.5266185402870178]</td>\n",
       "      <td>[\"That is, they don't know how to crack it, an...</td>\n",
       "      <td>1</td>\n",
       "      <td>1</td>\n",
       "      <td>15</td>\n",
       "      <td>18</td>\n",
       "      <td>2</td>\n",
       "    </tr>\n",
       "    <tr>\n",
       "      <th>...</th>\n",
       "      <td>...</td>\n",
       "      <td>...</td>\n",
       "      <td>...</td>\n",
       "      <td>...</td>\n",
       "      <td>...</td>\n",
       "      <td>...</td>\n",
       "      <td>...</td>\n",
       "      <td>...</td>\n",
       "      <td>...</td>\n",
       "      <td>...</td>\n",
       "      <td>...</td>\n",
       "    </tr>\n",
       "    <tr>\n",
       "      <th>583</th>\n",
       "      <td>583</td>\n",
       "      <td>0.779348</td>\n",
       "      <td>150</td>\n",
       "      <td>The answer is the same, drink it or eat it, th...</td>\n",
       "      <td>[0.7793480157852173, 0.5479886531829834]</td>\n",
       "      <td>['The answer is the same, drink it or eat it, ...</td>\n",
       "      <td>2</td>\n",
       "      <td>1</td>\n",
       "      <td>15</td>\n",
       "      <td>52</td>\n",
       "      <td>2</td>\n",
       "    </tr>\n",
       "    <tr>\n",
       "      <th>585</th>\n",
       "      <td>585</td>\n",
       "      <td>0.767721</td>\n",
       "      <td>183</td>\n",
       "      <td>Unix-like operating systems such as Linux have...</td>\n",
       "      <td>[0.767720639705658, 0.5165828466415405]</td>\n",
       "      <td>['Unix-like operating systems such as Linux ha...</td>\n",
       "      <td>2</td>\n",
       "      <td>1</td>\n",
       "      <td>15</td>\n",
       "      <td>50</td>\n",
       "      <td>2</td>\n",
       "    </tr>\n",
       "    <tr>\n",
       "      <th>589</th>\n",
       "      <td>589</td>\n",
       "      <td>0.739054</td>\n",
       "      <td>96</td>\n",
       "      <td>When you tilt the pitcher of beer, the beer fl...</td>\n",
       "      <td>[0.7390542030334473, 0.6114546656608582]</td>\n",
       "      <td>['When you tilt the pitcher of beer, the beer ...</td>\n",
       "      <td>2</td>\n",
       "      <td>1</td>\n",
       "      <td>15</td>\n",
       "      <td>24</td>\n",
       "      <td>2</td>\n",
       "    </tr>\n",
       "    <tr>\n",
       "      <th>596</th>\n",
       "      <td>596</td>\n",
       "      <td>0.776336</td>\n",
       "      <td>103</td>\n",
       "      <td>Shaking up a soda causes the pressure within i...</td>\n",
       "      <td>[0.7763361930847168, 0.4832739233970642]</td>\n",
       "      <td>['Shaking up a soda causes the pressure within...</td>\n",
       "      <td>2</td>\n",
       "      <td>1</td>\n",
       "      <td>15</td>\n",
       "      <td>24</td>\n",
       "      <td>2</td>\n",
       "    </tr>\n",
       "    <tr>\n",
       "      <th>599</th>\n",
       "      <td>599</td>\n",
       "      <td>0.524582</td>\n",
       "      <td>113</td>\n",
       "      <td>Diesel engines operate at the top of the cylin...</td>\n",
       "      <td>[0.4631933867931366, 0.5245818495750427]</td>\n",
       "      <td>['The first four rows are the cylinders, the l...</td>\n",
       "      <td>1</td>\n",
       "      <td>1</td>\n",
       "      <td>15</td>\n",
       "      <td>19</td>\n",
       "      <td>2</td>\n",
       "    </tr>\n",
       "  </tbody>\n",
       "</table>\n",
       "<p>156 rows × 11 columns</p>\n",
       "</div>"
      ],
      "text/plain": [
       "     Unnamed: 0      scos  budgets  \\\n",
       "1             1  0.703003      105   \n",
       "4             4  0.844910      278   \n",
       "5             5  0.591316      115   \n",
       "7             7  0.632880      127   \n",
       "16           16  0.583863      112   \n",
       "..          ...       ...      ...   \n",
       "583         583  0.779348      150   \n",
       "585         585  0.767721      183   \n",
       "589         589  0.739054       96   \n",
       "596         596  0.776336      103   \n",
       "599         599  0.524582      113   \n",
       "\n",
       "                                                  outs  \\\n",
       "1    The problem with Eventually, the pressure woul...   \n",
       "4    There is no simple is the simplest. Its the ea...   \n",
       "5    All files on your harddrive have file names an...   \n",
       "7    The answer is through a combination of an \"alg...   \n",
       "16   That is, they don't know how to crack it, and ...   \n",
       "..                                                 ...   \n",
       "583  The answer is the same, drink it or eat it, th...   \n",
       "585  Unix-like operating systems such as Linux have...   \n",
       "589  When you tilt the pitcher of beer, the beer fl...   \n",
       "596  Shaking up a soda causes the pressure within i...   \n",
       "599  Diesel engines operate at the top of the cylin...   \n",
       "\n",
       "                                       allscos  \\\n",
       "1     [0.6976476907730103, 0.7030027508735657]   \n",
       "4     [0.6613632440567017, 0.8449100255966187]   \n",
       "5    [0.5913158655166626, 0.40268614888191223]   \n",
       "7     [0.6328802108764648, 0.5963546633720398]   \n",
       "16    [0.5838630199432373, 0.5266185402870178]   \n",
       "..                                         ...   \n",
       "583   [0.7793480157852173, 0.5479886531829834]   \n",
       "585    [0.767720639705658, 0.5165828466415405]   \n",
       "589   [0.7390542030334473, 0.6114546656608582]   \n",
       "596   [0.7763361930847168, 0.4832739233970642]   \n",
       "599   [0.4631933867931366, 0.5245818495750427]   \n",
       "\n",
       "                                               allstrs  depth  maxind  samps  \\\n",
       "1    ['The problem with making a submarine too thic...      1       1     15   \n",
       "4    ['Some examples of programming languages are B...      1       1     15   \n",
       "5    ['All files on your harddrive have file names ...      1       1     15   \n",
       "7    ['The answer is through a combination of an \"a...      1       1     15   \n",
       "16   [\"That is, they don't know how to crack it, an...      1       1     15   \n",
       "..                                                 ...    ...     ...    ...   \n",
       "583  ['The answer is the same, drink it or eat it, ...      2       1     15   \n",
       "585  ['Unix-like operating systems such as Linux ha...      2       1     15   \n",
       "589  ['When you tilt the pitcher of beer, the beer ...      2       1     15   \n",
       "596  ['Shaking up a soda causes the pressure within...      2       1     15   \n",
       "599  ['The first four rows are the cylinders, the l...      1       1     15   \n",
       "\n",
       "     olens  nsamp  \n",
       "1       24      2  \n",
       "4      139      2  \n",
       "5       32      2  \n",
       "7       18      2  \n",
       "16      18      2  \n",
       "..     ...    ...  \n",
       "583     52      2  \n",
       "585     50      2  \n",
       "589     24      2  \n",
       "596     24      2  \n",
       "599     19      2  \n",
       "\n",
       "[156 rows x 11 columns]"
      ]
     },
     "execution_count": 63,
     "metadata": {},
     "output_type": "execute_result"
    }
   ],
   "source": [
    "eh1[eh1.nsamp>1]['']"
   ]
  },
  {
   "cell_type": "code",
   "execution_count": 39,
   "id": "6e5a881b-3bdd-40a3-bbac-2534ac6426f8",
   "metadata": {
    "tags": []
   },
   "outputs": [
    {
     "data": {
      "text/plain": [
       "Unnamed: 0                                                  599\n",
       "scos                                                   0.524582\n",
       "budgets                                                     113\n",
       "outs          Diesel engines operate at the top of the cylin...\n",
       "allscos                [0.4631933867931366, 0.5245818495750427]\n",
       "allstrs       ['The first four rows are the cylinders, the l...\n",
       "Name: 599, dtype: object"
      ]
     },
     "execution_count": 39,
     "metadata": {},
     "output_type": "execute_result"
    }
   ],
   "source": [
    "eh1.loc[599]"
   ]
  },
  {
   "cell_type": "code",
   "execution_count": 8,
   "id": "b684fd79-16fb-43d7-a9f8-0a6b582a78af",
   "metadata": {
    "tags": []
   },
   "outputs": [],
   "source": [
    "eh1['olens'] = olens"
   ]
  },
  {
   "cell_type": "code",
   "execution_count": 32,
   "id": "9a515383-f67b-43d1-81f6-bb992a543547",
   "metadata": {
    "tags": []
   },
   "outputs": [
    {
     "data": {
      "text/plain": [
       "64.79054054054055"
      ]
     },
     "execution_count": 32,
     "metadata": {},
     "output_type": "execute_result"
    }
   ],
   "source": [
    "eh1[eh1.samps==1].olens.mean()"
   ]
  },
  {
   "cell_type": "code",
   "execution_count": 24,
   "id": "2989101a-ae6b-4bba-9d3f-bb02439b3eca",
   "metadata": {
    "tags": []
   },
   "outputs": [],
   "source": [
    "b4 = pd.read_json(\"/home/prasann/Projects/tfr-decoding//output/hparam_explore1/base4.jsonl\", orient=\"records\", lines=True)"
   ]
  },
  {
   "cell_type": "code",
   "execution_count": 29,
   "id": "4d9870b0-3fd3-4b2f-94db-68e1f1228c78",
   "metadata": {
    "tags": []
   },
   "outputs": [],
   "source": [
    "pfs = pd.read_json(\"/home/prasann/Projects/tfr-decoding//output/hparam_explore1/pfsamp_10_20_30.jsonl\", orient=\"records\", lines=True)"
   ]
  },
  {
   "cell_type": "code",
   "execution_count": 33,
   "id": "d6479953-c76e-47d9-af74-914f520ecac9",
   "metadata": {
    "tags": []
   },
   "outputs": [
    {
     "data": {
      "text/plain": [
       "40.3525641025641"
      ]
     },
     "execution_count": 33,
     "metadata": {},
     "output_type": "execute_result"
    }
   ],
   "source": [
    "eh1[eh1.samps>1].olens.mean()"
   ]
  },
  {
   "cell_type": "code",
   "execution_count": null,
   "id": "c27b9d88-7f1a-456e-8ce9-1ba82550d60a",
   "metadata": {},
   "outputs": [],
   "source": [
    "eh2 = pd.read_json(\"/home/prasann/Projects/tfr-decoding//output/hparam_explore2/enhsamp7_20_30.jsonl\", orient=\"records\", lines=True)"
   ]
  },
  {
   "cell_type": "code",
   "execution_count": 2,
   "id": "00c9a28c-0b66-449e-b899-59b699a96c6e",
   "metadata": {
    "tags": []
   },
   "outputs": [],
   "source": [
    "%load_ext autoreload\n",
    "%autoreload 2"
   ]
  },
  {
   "cell_type": "code",
   "execution_count": 3,
   "id": "c49c4aa2-e891-402c-9d20-c71c3a1f2418",
   "metadata": {
    "tags": []
   },
   "outputs": [],
   "source": [
    "# first load relevant models\n",
    "device = 'cuda:0' # if you have a GPU\n",
    "# pfmod_path = \"./lightning_logs/bestmodel/checkpoints/epoch=2-step=23950.ckpt\"\n",
    "pfmod_path = \"./lightning_logs/bestmodel2/checkpoints/epoch=2-step=36436.ckpt\"\n",
    "# get generation model\n",
    "tokenizer = T5Tokenizer.from_pretrained(\"google/flan-t5-xxl\")"
   ]
  },
  {
   "cell_type": "code",
   "execution_count": null,
   "id": "876817f9-8f28-40b5-b7c7-8da1179ff6d7",
   "metadata": {
    "tags": []
   },
   "outputs": [],
   "source": [
    "qpref = T5BinaryClassifier.load_from_checkpoint(pfmod_path)\n",
    "model = T5ForConditionalGeneration.from_pretrained(\"google/flan-t5-xxl\", device_map=\"auto\")#.to(device)\n",
    "#model.sample = sample.__get__(model)\n",
    "model.tokenizer = tokenizer\n",
    "model.tok = tokenizer\n",
    "pfname = 'stanfordnlp/SteamSHP-flan-t5-large'\n",
    "max_len = 512\n",
    "learning_rate = 3e-5\n",
    "preftok = T5Tokenizer.from_pretrained(pfname)\n",
    "\n",
    "model.qualitypref = qpref\n",
    "#model.stdpref = T5BinaryClassifier.load_from_checkpoint(\"./lightning_logs/version_11/checkpoints/epoch=3-step=3359.ckpt\")\n",
    "# set up relevant mdoels\n",
    "model.downmetric = T5ForConditionalGeneration.from_pretrained('stanfordnlp/SteamSHP-flan-t5-xl').to(device)\n",
    "model.downtok = T5Tokenizer.from_pretrained('stanfordnlp/SteamSHP-flan-t5-xl')\n",
    "model.eval()"
   ]
  },
  {
   "cell_type": "code",
   "execution_count": 6,
   "id": "818d366d-de92-40ac-a465-90a28df8a535",
   "metadata": {
    "tags": []
   },
   "outputs": [],
   "source": [
    "# load up our dataset\n",
    "elidf = pd.read_json(\"output/elidataset.jsonl\", orient=\"records\", lines=\"true\")\n",
    "# start from 15000 for latest exploration\n",
    "elidf = elidf.drop_duplicates(subset=\"history\").iloc[15000:15100]\n",
    "\n",
    "pfsampler = PrefixSampler(model)\n",
    "inplist = list(elidf['history'])"
   ]
  },
  {
   "cell_type": "code",
   "execution_count": 15,
   "id": "4774ddcf-025f-4628-9adc-c537d1760361",
   "metadata": {
    "tags": []
   },
   "outputs": [
    {
     "name": "stdout",
     "output_type": "stream",
     "text": [
      "start decoding\n",
      "0.5\n",
      "0.8\n",
      "This depends\n",
      "checkpoint prob is  0.01276630163192749\n",
      "[]\n",
      "The mass\n",
      "checkpoint prob is  0.09227520227432251\n",
      "[]\n",
      "ISON\n",
      "checkpoint prob is  0.9470208287239075\n",
      "ISON, and other\n",
      "ISON, and other Sun-gra\n",
      "ISON, and other Sun-grazing comet\n",
      "ISON, and other Sun-grazing comets, will\n",
      "ISON, and other Sun-grazing comets, will undergo a\n",
      "checkpoint prob is  0.7743089199066162\n",
      "adaptive, score  tensor([0.9424])   ISON, and other Sun-grazing comets, will undergo a process called fragmentation as they approach the Sun. The amount of mass lost is measured by the fraction of the comet that breaks up and enters the inner solar system. Because they've known for decades that this is a possible process, astronomers can predict the Sun's gravitational pull on the comet by knowing this fraction. So, yes, changing the mass of the comet will affect its path. However, the fraction of the comet that reaches the inner solar system is too small to affect the comet's course.\n",
      "141\n",
      "0.9424046874046326\n"
     ]
    }
   ],
   "source": [
    "fname = None\n",
    "finesample_df = test_enhancedsample(inplist[2:3], pfsampler, 18, [5, 20], 3, 1, .5, .8, 2, fname)\n",
    "        "
   ]
  },
  {
   "cell_type": "code",
   "execution_count": null,
   "id": "618952d9-5dda-4a5d-a9c9-acfd217d1c3a",
   "metadata": {
    "tags": []
   },
   "outputs": [],
   "source": [
    "with torch.no_grad():\n",
    "    finesample_df = test_finesample(inplist, pfsampler, 9, 3, 6, 5)\n",
    "    finesample_df.to_json(\"output/hparam_explore/fsamp.jsonl\", orient=\"records\", lines=True)"
   ]
  },
  {
   "cell_type": "code",
   "execution_count": null,
   "id": "3fe83fa7-2bcc-40e6-8fb2-ca9dd2e0e0d4",
   "metadata": {
    "tags": []
   },
   "outputs": [],
   "source": [
    "with torch.no_grad():\n",
    "    finesample_df = test_apsample(inplist[:10], pfsampler, 0.85, 3, 1, 3)\n"
   ]
  },
  {
   "cell_type": "code",
   "execution_count": null,
   "id": "ad03fd2b-0f43-4dc2-925c-8b2fffcad014",
   "metadata": {},
   "outputs": [],
   "source": [
    "with torch.no_grad():\n",
    "    finesample_df = test_pfsample(inplist[:10], pfsampler, 0.85, 3, 1, 3)"
   ]
  },
  {
   "cell_type": "code",
   "execution_count": 12,
   "id": "760a0af6-f037-43c1-b70d-d2c146f8e789",
   "metadata": {
    "tags": []
   },
   "outputs": [
    {
     "name": "stdout",
     "output_type": "stream",
     "text": [
      "start decoding\n",
      "The only\n",
      "The only thing stopping submarine\n",
      "checkpoint prob is  0.19921958446502686\n",
      "[]\n",
      "Pressure on\n",
      "Pressure on submarines is\n",
      "checkpoint prob is  0.005880117416381836\n",
      "[]\n",
      "In order\n",
      "In order to have the\n",
      "checkpoint prob is  0.03429371118545532\n",
      "[]\n",
      "It would\n",
      "It would not work as\n",
      "checkpoint prob is  0.02583026885986328\n",
      "[]\n",
      "The problem\n",
      "The problem is that sub\n",
      "checkpoint prob is  0.6035387516021729\n",
      "[]\n",
      "The pressure\n",
      "The pressure of the sea\n",
      "checkpoint prob is  0.007084548473358154\n",
      "[]\n",
      "The pressure\n",
      "The pressure at the top\n",
      "checkpoint prob is  0.011049389839172363\n",
      "[]\n",
      "You can\n",
      "You cant make\n",
      "checkpoint prob is  0.05515897274017334\n",
      "[]\n",
      "adaptive, score  tensor([0.8301])   <pad> The problem is that subs need to be able to fit through tiny spaces at deep depths, and the thicker your sub, the bigger the space, and the smaller the submarine will be able to go. That said, a ten-foot thick sub would have a size limit of about 5,000 feet deep.</s>\n",
      "adaptive, score  tensor([0.6299])   <pad> The only thing stopping submarineso it's actually possible to make subs much thicker and go deeper.</s>\n",
      "adaptive, score  tensor([0.5563])   <pad> You cant make a submarine could even go down to the moon and return to the surface with the necessary supplies.</s>\n",
      "adaptive, score  tensor([0.5482])   <pad> In order to have the right now the depth limit of a sub is about 2,000 feet.</s>\n",
      "164\n",
      "0.8323884010314941\n"
     ]
    },
    {
     "name": "stderr",
     "output_type": "stream",
     "text": [
      "/home/prasann/miniconda3/envs/rewardenv/lib/python3.8/site-packages/numpy/core/fromnumeric.py:43: FutureWarning: The input object of type 'Tensor' is an array-like implementing one of the corresponding protocols (`__array__`, `__array_interface__` or `__array_struct__`); but not a sequence (or 0-D). In the future, this object will be coerced as if it was first converted using `np.array(obj)`. To retain the old behaviour, you have to either modify the type 'Tensor', or assign to an empty array created with `np.empty(correct_shape, dtype=object)`.\n",
      "  result = getattr(asarray(obj), method)(*args, **kwds)\n",
      "/home/prasann/miniconda3/envs/rewardenv/lib/python3.8/site-packages/numpy/core/fromnumeric.py:43: VisibleDeprecationWarning: Creating an ndarray from ragged nested sequences (which is a list-or-tuple of lists-or-tuples-or ndarrays with different lengths or shapes) is deprecated. If you meant to do this, you must specify 'dtype=object' when creating the ndarray.\n",
      "  result = getattr(asarray(obj), method)(*args, **kwds)\n"
     ]
    }
   ],
   "source": [
    "ind = 1\n",
    "with torch.no_grad():\n",
    "    finesample_df = test_enhancedsample(inplist[ind:ind+1], pfsampler, 18, [7, 20], 3, 3, None)"
   ]
  },
  {
   "cell_type": "code",
   "execution_count": 13,
   "id": "67db2e35-2def-4fc2-ac83-4e2dedbcd87d",
   "metadata": {
    "tags": []
   },
   "outputs": [
    {
     "data": {
      "text/html": [
       "<div>\n",
       "<style scoped>\n",
       "    .dataframe tbody tr th:only-of-type {\n",
       "        vertical-align: middle;\n",
       "    }\n",
       "\n",
       "    .dataframe tbody tr th {\n",
       "        vertical-align: top;\n",
       "    }\n",
       "\n",
       "    .dataframe thead th {\n",
       "        text-align: right;\n",
       "    }\n",
       "</style>\n",
       "<table border=\"1\" class=\"dataframe\">\n",
       "  <thead>\n",
       "    <tr style=\"text-align: right;\">\n",
       "      <th></th>\n",
       "      <th>scos</th>\n",
       "      <th>budgets</th>\n",
       "      <th>outs</th>\n",
       "      <th>allscos</th>\n",
       "      <th>allstrs</th>\n",
       "    </tr>\n",
       "  </thead>\n",
       "  <tbody>\n",
       "    <tr>\n",
       "      <th>0</th>\n",
       "      <td>0.832388</td>\n",
       "      <td>164</td>\n",
       "      <td>The problem is that subs need to be able to fi...</td>\n",
       "      <td>[[tensor(0.8301)], [tensor(0.6299)], [tensor(0...</td>\n",
       "      <td>[&lt;pad&gt; The problem is that subs need to be abl...</td>\n",
       "    </tr>\n",
       "  </tbody>\n",
       "</table>\n",
       "</div>"
      ],
      "text/plain": [
       "       scos  budgets                                               outs  \\\n",
       "0  0.832388      164  The problem is that subs need to be able to fi...   \n",
       "\n",
       "                                             allscos  \\\n",
       "0  [[tensor(0.8301)], [tensor(0.6299)], [tensor(0...   \n",
       "\n",
       "                                             allstrs  \n",
       "0  [<pad> The problem is that subs need to be abl...  "
      ]
     },
     "execution_count": 13,
     "metadata": {},
     "output_type": "execute_result"
    }
   ],
   "source": [
    "finesample_df"
   ]
  },
  {
   "cell_type": "code",
   "execution_count": 69,
   "id": "8cdfbd86-7fe6-41e0-b13b-ddcbc2b55ff5",
   "metadata": {
    "tags": []
   },
   "outputs": [
    {
     "data": {
      "text/plain": [
       "[]"
      ]
     },
     "execution_count": 69,
     "metadata": {},
     "output_type": "execute_result"
    }
   ],
   "source": [
    "a = [1, 2]\n",
    "a[:-3]"
   ]
  },
  {
   "cell_type": "code",
   "execution_count": 36,
   "id": "8cef7622-585b-4340-b08f-68eb9903f01f",
   "metadata": {
    "tags": []
   },
   "outputs": [],
   "source": [
    "resold = pd.read_json(\"output/hparam_explore2/enhsamp7_20.jsonl\", orient='records', lines=True)"
   ]
  },
  {
   "cell_type": "code",
   "execution_count": 32,
   "id": "1f4abf4e-a449-43ba-aef5-6ec492428c35",
   "metadata": {
    "tags": []
   },
   "outputs": [],
   "source": [
    "resold = pd.read_csv(\"output/hparam_explore3/enhsamp10_20_30.csv\", index_col=False)"
   ]
  },
  {
   "cell_type": "code",
   "execution_count": 37,
   "id": "a3c8c88f-e5a8-4cc9-ba73-e66f8713d143",
   "metadata": {
    "tags": []
   },
   "outputs": [
    {
     "name": "stdout",
     "output_type": "stream",
     "text": [
      "0.8172568081813334\n",
      "135.60666666666665\n"
     ]
    }
   ],
   "source": [
    "print(mean(resold.scos))\n",
    "print(mean(resold.budgets))"
   ]
  },
  {
   "cell_type": "code",
   "execution_count": 24,
   "id": "1e990607-bfa3-44f6-955a-f9ab9e22dabc",
   "metadata": {
    "tags": []
   },
   "outputs": [
    {
     "data": {
      "text/html": [
       "<div>\n",
       "<style scoped>\n",
       "    .dataframe tbody tr th:only-of-type {\n",
       "        vertical-align: middle;\n",
       "    }\n",
       "\n",
       "    .dataframe tbody tr th {\n",
       "        vertical-align: top;\n",
       "    }\n",
       "\n",
       "    .dataframe thead th {\n",
       "        text-align: right;\n",
       "    }\n",
       "</style>\n",
       "<table border=\"1\" class=\"dataframe\">\n",
       "  <thead>\n",
       "    <tr style=\"text-align: right;\">\n",
       "      <th></th>\n",
       "      <th>Unnamed: 0</th>\n",
       "      <th>scos</th>\n",
       "      <th>budgets</th>\n",
       "      <th>outs</th>\n",
       "      <th>allscos</th>\n",
       "      <th>allstrs</th>\n",
       "    </tr>\n",
       "  </thead>\n",
       "  <tbody>\n",
       "    <tr>\n",
       "      <th>0</th>\n",
       "      <td>0</td>\n",
       "      <td>0.892315</td>\n",
       "      <td>24</td>\n",
       "      <td>Syria isn't a country. It's a country and it h...</td>\n",
       "      <td>[tensor([0.8578])]</td>\n",
       "      <td>[\"&lt;pad&gt; Syria isn't a country. It's a country ...</td>\n",
       "    </tr>\n",
       "    <tr>\n",
       "      <th>1</th>\n",
       "      <td>1</td>\n",
       "      <td>0.882216</td>\n",
       "      <td>99</td>\n",
       "      <td>You are trying to solve a problem that's how t...</td>\n",
       "      <td>[tensor([0.7405]), tensor([0.8828])]</td>\n",
       "      <td>['&lt;pad&gt; Although thicker subs might be able to...</td>\n",
       "    </tr>\n",
       "    <tr>\n",
       "      <th>2</th>\n",
       "      <td>2</td>\n",
       "      <td>0.804521</td>\n",
       "      <td>98</td>\n",
       "      <td>If you look at the trajectory of Comet ISON, i...</td>\n",
       "      <td>[tensor([0.7971])]</td>\n",
       "      <td>[\"&lt;pad&gt; If you look at the trajectory of Comet...</td>\n",
       "    </tr>\n",
       "    <tr>\n",
       "      <th>3</th>\n",
       "      <td>3</td>\n",
       "      <td>0.874454</td>\n",
       "      <td>69</td>\n",
       "      <td>These are blisters, most commonly caused by fr...</td>\n",
       "      <td>[tensor([0.8676])]</td>\n",
       "      <td>[\"&lt;pad&gt; These are blisters, most commonly caus...</td>\n",
       "    </tr>\n",
       "    <tr>\n",
       "      <th>4</th>\n",
       "      <td>4</td>\n",
       "      <td>0.845007</td>\n",
       "      <td>162</td>\n",
       "      <td>I think you're being overly complicated about ...</td>\n",
       "      <td>[tensor([0.8231])]</td>\n",
       "      <td>[\"&lt;pad&gt; I think you're being overly complicate...</td>\n",
       "    </tr>\n",
       "    <tr>\n",
       "      <th>...</th>\n",
       "      <td>...</td>\n",
       "      <td>...</td>\n",
       "      <td>...</td>\n",
       "      <td>...</td>\n",
       "      <td>...</td>\n",
       "      <td>...</td>\n",
       "    </tr>\n",
       "    <tr>\n",
       "      <th>595</th>\n",
       "      <td>595</td>\n",
       "      <td>0.923366</td>\n",
       "      <td>24</td>\n",
       "      <td>The freezing response is your body's normal re...</td>\n",
       "      <td>[tensor([0.9053])]</td>\n",
       "      <td>[\"&lt;pad&gt; The freezing response is your body's n...</td>\n",
       "    </tr>\n",
       "    <tr>\n",
       "      <th>596</th>\n",
       "      <td>596</td>\n",
       "      <td>0.664646</td>\n",
       "      <td>127</td>\n",
       "      <td>This is due to surface tension, which causes s...</td>\n",
       "      <td>[tensor([0.5764]), tensor([0.4258]), tensor([0...</td>\n",
       "      <td>['&lt;pad&gt; This is due to surface tension, which ...</td>\n",
       "    </tr>\n",
       "    <tr>\n",
       "      <th>597</th>\n",
       "      <td>597</td>\n",
       "      <td>0.940828</td>\n",
       "      <td>223</td>\n",
       "      <td>Cultural appropriation is defined as \"an appro...</td>\n",
       "      <td>[tensor([0.9167])]</td>\n",
       "      <td>['&lt;pad&gt; Cultural appropriation is defined as \"...</td>\n",
       "    </tr>\n",
       "    <tr>\n",
       "      <th>598</th>\n",
       "      <td>598</td>\n",
       "      <td>0.965611</td>\n",
       "      <td>237</td>\n",
       "      <td>There are two things that help a human fetus a...</td>\n",
       "      <td>[tensor([0.9471])]</td>\n",
       "      <td>[\"&lt;pad&gt; There are two things that help a human...</td>\n",
       "    </tr>\n",
       "    <tr>\n",
       "      <th>599</th>\n",
       "      <td>599</td>\n",
       "      <td>0.906998</td>\n",
       "      <td>441</td>\n",
       "      <td>The diesel engine, which derives its name: How...</td>\n",
       "      <td>[tensor([0.6986]), tensor([0.3964]), tensor([0...</td>\n",
       "      <td>['&lt;pad&gt; A diesel engine has a common rail inje...</td>\n",
       "    </tr>\n",
       "  </tbody>\n",
       "</table>\n",
       "<p>600 rows × 6 columns</p>\n",
       "</div>"
      ],
      "text/plain": [
       "     Unnamed: 0      scos  budgets  \\\n",
       "0             0  0.892315       24   \n",
       "1             1  0.882216       99   \n",
       "2             2  0.804521       98   \n",
       "3             3  0.874454       69   \n",
       "4             4  0.845007      162   \n",
       "..          ...       ...      ...   \n",
       "595         595  0.923366       24   \n",
       "596         596  0.664646      127   \n",
       "597         597  0.940828      223   \n",
       "598         598  0.965611      237   \n",
       "599         599  0.906998      441   \n",
       "\n",
       "                                                  outs  \\\n",
       "0    Syria isn't a country. It's a country and it h...   \n",
       "1    You are trying to solve a problem that's how t...   \n",
       "2    If you look at the trajectory of Comet ISON, i...   \n",
       "3    These are blisters, most commonly caused by fr...   \n",
       "4    I think you're being overly complicated about ...   \n",
       "..                                                 ...   \n",
       "595  The freezing response is your body's normal re...   \n",
       "596  This is due to surface tension, which causes s...   \n",
       "597  Cultural appropriation is defined as \"an appro...   \n",
       "598  There are two things that help a human fetus a...   \n",
       "599  The diesel engine, which derives its name: How...   \n",
       "\n",
       "                                               allscos  \\\n",
       "0                                   [tensor([0.8578])]   \n",
       "1                 [tensor([0.7405]), tensor([0.8828])]   \n",
       "2                                   [tensor([0.7971])]   \n",
       "3                                   [tensor([0.8676])]   \n",
       "4                                   [tensor([0.8231])]   \n",
       "..                                                 ...   \n",
       "595                                 [tensor([0.9053])]   \n",
       "596  [tensor([0.5764]), tensor([0.4258]), tensor([0...   \n",
       "597                                 [tensor([0.9167])]   \n",
       "598                                 [tensor([0.9471])]   \n",
       "599  [tensor([0.6986]), tensor([0.3964]), tensor([0...   \n",
       "\n",
       "                                               allstrs  \n",
       "0    [\"<pad> Syria isn't a country. It's a country ...  \n",
       "1    ['<pad> Although thicker subs might be able to...  \n",
       "2    [\"<pad> If you look at the trajectory of Comet...  \n",
       "3    [\"<pad> These are blisters, most commonly caus...  \n",
       "4    [\"<pad> I think you're being overly complicate...  \n",
       "..                                                 ...  \n",
       "595  [\"<pad> The freezing response is your body's n...  \n",
       "596  ['<pad> This is due to surface tension, which ...  \n",
       "597  ['<pad> Cultural appropriation is defined as \"...  \n",
       "598  [\"<pad> There are two things that help a human...  \n",
       "599  ['<pad> A diesel engine has a common rail inje...  \n",
       "\n",
       "[600 rows x 6 columns]"
      ]
     },
     "execution_count": 24,
     "metadata": {},
     "output_type": "execute_result"
    }
   ],
   "source": [
    "resold"
   ]
  },
  {
   "cell_type": "code",
   "execution_count": 14,
   "id": "1f8798d4-b205-4c1d-8bd9-7a36f6113d93",
   "metadata": {
    "tags": []
   },
   "outputs": [
    {
     "data": {
      "text/plain": [
       "(array([  2.,   5.,   9.,  15.,  23.,  60.,  94., 155., 162.,  75.]),\n",
       " array([0.42060399, 0.47777033, 0.53493668, 0.59210302, 0.64926937,\n",
       "        0.70643571, 0.76360205, 0.8207684 , 0.87793474, 0.93510109,\n",
       "        0.99226743]),\n",
       " <BarContainer object of 10 artists>)"
      ]
     },
     "execution_count": 14,
     "metadata": {},
     "output_type": "execute_result"
    },
    {
     "data": {
      "image/png": "[encoded data removed]",
      "text/plain": [
       "<Figure size 640x480 with 1 Axes>"
      ]
     },
     "metadata": {},
     "output_type": "display_data"
    }
   ],
   "source": [
    "plt.hist(resold.scos)"
   ]
  },
  {
   "cell_type": "code",
   "execution_count": 16,
   "id": "c28409e3-d283-480a-ac51-c22cbb3ecda9",
   "metadata": {
    "tags": []
   },
   "outputs": [],
   "source": [
    "from statistics import median, mean"
   ]
  },
  {
   "cell_type": "code",
   "execution_count": 39,
   "id": "3fca3305-7538-4c81-83ef-554502820bf2",
   "metadata": {
    "tags": []
   },
   "outputs": [
    {
     "data": {
      "text/plain": [
       "56.7"
      ]
     },
     "execution_count": 39,
     "metadata": {},
     "output_type": "execute_result"
    }
   ],
   "source": [
    "mean(resold['extra_toks'])"
   ]
  },
  {
   "cell_type": "code",
   "execution_count": 38,
   "id": "cb13d089-068f-4bcf-b955-c538851f7f75",
   "metadata": {
    "tags": []
   },
   "outputs": [],
   "source": [
    "def count_tokens(text):\n",
    "    return len(tokenizer(text).input_ids)\n",
    "\n",
    "resold['extra_toks'] = resold['budgets'] - resold['outs'].apply(count_tokens)"
   ]
  },
  {
   "cell_type": "code",
   "execution_count": 75,
   "id": "ecd26e4e-e8d1-4bff-8859-221b7de6a83b",
   "metadata": {
    "tags": []
   },
   "outputs": [
    {
     "data": {
      "text/plain": [
       "(array([155.,  65.,  53.,  38.,  17.,  23.,  13.,  11.,  14.,  11.]),\n",
       " array([ -1. ,   9.8,  20.6,  31.4,  42.2,  53. ,  63.8,  74.6,  85.4,\n",
       "         96.2, 107. ]),\n",
       " <BarContainer object of 10 artists>)"
      ]
     },
     "execution_count": 75,
     "metadata": {},
     "output_type": "execute_result"
    },
    {
     "data": {
      "image/png": "[encoded data removed]",
      "text/plain": [
       "<Figure size 640x480 with 1 Axes>"
      ]
     },
     "metadata": {},
     "output_type": "display_data"
    }
   ],
   "source": [
    "plt.hist(resold[resold.extra_toks<108].extra_toks)"
   ]
  },
  {
   "cell_type": "code",
   "execution_count": 53,
   "id": "93f6ef35-32aa-4bd1-b930-d483ee7e1fcc",
   "metadata": {
    "tags": []
   },
   "outputs": [
    {
     "data": {
      "text/plain": [
       "400"
      ]
     },
     "execution_count": 53,
     "metadata": {},
     "output_type": "execute_result"
    }
   ],
   "source": [
    "len(resold[resold.extra_toks<108].scos)"
   ]
  },
  {
   "cell_type": "code",
   "execution_count": 40,
   "id": "79b5fe15-998c-4378-b8c3-094b25f4ac83",
   "metadata": {
    "tags": []
   },
   "outputs": [
    {
     "data": {
      "text/plain": [
       "56.7"
      ]
     },
     "execution_count": 40,
     "metadata": {},
     "output_type": "execute_result"
    }
   ],
   "source": [
    "mean(resold.extra_toks)"
   ]
  },
  {
   "cell_type": "code",
   "execution_count": null,
   "id": "286921a0-b473-4773-815a-485cddf4efe6",
   "metadata": {
    "tags": []
   },
   "outputs": [],
   "source": [
    "list(resold.extra_toks)"
   ]
  },
  {
   "cell_type": "code",
   "execution_count": 41,
   "id": "4393403b-768e-41be-8b9a-7207833483a9",
   "metadata": {
    "tags": []
   },
   "outputs": [
    {
     "name": "stdout",
     "output_type": "stream",
     "text": [
      "0.8611249660569975\n"
     ]
    },
    {
     "data": {
      "text/plain": [
       "(array([  2.,   2.,   3.,   4.,  16.,  34.,  67., 114.,  99.,  52.]),\n",
       " array([0.47133097, 0.52397953, 0.57662809, 0.62927665, 0.68192521,\n",
       "        0.73457377, 0.78722233, 0.83987089, 0.89251944, 0.945168  ,\n",
       "        0.99781656]),\n",
       " <BarContainer object of 10 artists>)"
      ]
     },
     "execution_count": 41,
     "metadata": {},
     "output_type": "execute_result"
    },
    {
     "data": {
      "image/png": "[encoded data removed]",
      "text/plain": [
       "<Figure size 640x480 with 1 Axes>"
      ]
     },
     "metadata": {},
     "output_type": "display_data"
    }
   ],
   "source": [
    "sub = resold[resold.extra_toks<100].scos\n",
    "print(mean(sub))\n",
    "plt.hist(sub)"
   ]
  },
  {
   "cell_type": "code",
   "execution_count": 42,
   "id": "f09de3c6-c5d2-4a61-8b01-133a18e8e007",
   "metadata": {
    "tags": []
   },
   "outputs": [
    {
     "data": {
      "text/plain": [
       "(array([220.,  91.,  40.,  25., 170.,  16.,  26.,   5.,   4.,   3.]),\n",
       " array([ -1. ,  21.1,  43.2,  65.3,  87.4, 109.5, 131.6, 153.7, 175.8,\n",
       "        197.9, 220. ]),\n",
       " <BarContainer object of 10 artists>)"
      ]
     },
     "execution_count": 42,
     "metadata": {},
     "output_type": "execute_result"
    },
    {
     "data": {
      "image/png": "[encoded data removed]",
      "text/plain": [
       "<Figure size 640x480 with 1 Axes>"
      ]
     },
     "metadata": {},
     "output_type": "display_data"
    }
   ],
   "source": [
    "plt.hist(resold.extra_toks)"
   ]
  },
  {
   "cell_type": "code",
   "execution_count": 23,
   "id": "30a2c55a-8489-4fc9-81df-312e92cbaa93",
   "metadata": {
    "tags": []
   },
   "outputs": [
    {
     "data": {
      "text/html": [
       "<div>\n",
       "<style scoped>\n",
       "    .dataframe tbody tr th:only-of-type {\n",
       "        vertical-align: middle;\n",
       "    }\n",
       "\n",
       "    .dataframe tbody tr th {\n",
       "        vertical-align: top;\n",
       "    }\n",
       "\n",
       "    .dataframe thead th {\n",
       "        text-align: right;\n",
       "    }\n",
       "</style>\n",
       "<table border=\"1\" class=\"dataframe\">\n",
       "  <thead>\n",
       "    <tr style=\"text-align: right;\">\n",
       "      <th></th>\n",
       "      <th>scos</th>\n",
       "      <th>budgets</th>\n",
       "      <th>outs</th>\n",
       "    </tr>\n",
       "  </thead>\n",
       "  <tbody>\n",
       "    <tr>\n",
       "      <th>0</th>\n",
       "      <td>0.654249</td>\n",
       "      <td>68</td>\n",
       "      <td>I think that is important to understand the si...</td>\n",
       "    </tr>\n",
       "    <tr>\n",
       "      <th>1</th>\n",
       "      <td>0.857752</td>\n",
       "      <td>41</td>\n",
       "      <td>The pressure is not the only issue. The heat g...</td>\n",
       "    </tr>\n",
       "    <tr>\n",
       "      <th>2</th>\n",
       "      <td>0.876001</td>\n",
       "      <td>126</td>\n",
       "      <td>The best we can tell is that ISON will lose ab...</td>\n",
       "    </tr>\n",
       "    <tr>\n",
       "      <th>3</th>\n",
       "      <td>0.879815</td>\n",
       "      <td>49</td>\n",
       "      <td>Blisters are a sign that your skin has broken ...</td>\n",
       "    </tr>\n",
       "    <tr>\n",
       "      <th>4</th>\n",
       "      <td>0.909598</td>\n",
       "      <td>306</td>\n",
       "      <td>Many people are good at explaining things, but...</td>\n",
       "    </tr>\n",
       "    <tr>\n",
       "      <th>5</th>\n",
       "      <td>0.556138</td>\n",
       "      <td>130</td>\n",
       "      <td>An uninstaller is a program that helps with th...</td>\n",
       "    </tr>\n",
       "    <tr>\n",
       "      <th>6</th>\n",
       "      <td>0.909758</td>\n",
       "      <td>67</td>\n",
       "      <td>I was just trying to figure out who in their r...</td>\n",
       "    </tr>\n",
       "    <tr>\n",
       "      <th>7</th>\n",
       "      <td>0.859151</td>\n",
       "      <td>161</td>\n",
       "      <td>To find and index websites, a search engine us...</td>\n",
       "    </tr>\n",
       "    <tr>\n",
       "      <th>8</th>\n",
       "      <td>0.572144</td>\n",
       "      <td>269</td>\n",
       "      <td>The only explanation I can come up with is tha...</td>\n",
       "    </tr>\n",
       "    <tr>\n",
       "      <th>9</th>\n",
       "      <td>0.792256</td>\n",
       "      <td>39</td>\n",
       "      <td>Another article on the subject; _URL_1_. The '...</td>\n",
       "    </tr>\n",
       "  </tbody>\n",
       "</table>\n",
       "</div>"
      ],
      "text/plain": [
       "       scos  budgets                                               outs\n",
       "0  0.654249       68  I think that is important to understand the si...\n",
       "1  0.857752       41  The pressure is not the only issue. The heat g...\n",
       "2  0.876001      126  The best we can tell is that ISON will lose ab...\n",
       "3  0.879815       49  Blisters are a sign that your skin has broken ...\n",
       "4  0.909598      306  Many people are good at explaining things, but...\n",
       "5  0.556138      130  An uninstaller is a program that helps with th...\n",
       "6  0.909758       67  I was just trying to figure out who in their r...\n",
       "7  0.859151      161  To find and index websites, a search engine us...\n",
       "8  0.572144      269  The only explanation I can come up with is tha...\n",
       "9  0.792256       39  Another article on the subject; _URL_1_. The '..."
      ]
     },
     "execution_count": 23,
     "metadata": {},
     "output_type": "execute_result"
    }
   ],
   "source": [
    "finesample_df"
   ]
  },
  {
   "cell_type": "code",
   "execution_count": 9,
   "id": "d396f453-19ed-47f1-b65e-100662ed8c65",
   "metadata": {
    "tags": []
   },
   "outputs": [],
   "source": [
    "a = [1, 2]"
   ]
  },
  {
   "cell_type": "code",
   "execution_count": 20,
   "id": "1ae877c7-eee4-42af-b4cc-9dd5d4d344bd",
   "metadata": {
    "tags": []
   },
   "outputs": [
    {
     "data": {
      "text/plain": [
       "137.4"
      ]
     },
     "execution_count": 20,
     "metadata": {},
     "output_type": "execute_result"
    }
   ],
   "source": [
    "finesample_df['budgets'].mean()"
   ]
  },
  {
   "cell_type": "code",
   "execution_count": 3,
   "id": "31afa11d-e068-4f5e-80ac-a2584187d0fc",
   "metadata": {
    "tags": []
   },
   "outputs": [],
   "source": [
    "a1 = pd.read_json(\"output/pfsample/finesamp.jsonl\", orient=\"records\", lines=True)\n"
   ]
  },
  {
   "cell_type": "code",
   "execution_count": 5,
   "id": "0881e375-7c8d-4a53-b5fb-2dd514ee1fe9",
   "metadata": {
    "tags": []
   },
   "outputs": [
    {
     "data": {
      "text/plain": [
       "115.71"
      ]
     },
     "execution_count": 5,
     "metadata": {},
     "output_type": "execute_result"
    }
   ],
   "source": [
    "a1.budgets.mean()"
   ]
  },
  {
   "cell_type": "code",
   "execution_count": null,
   "id": "53e3bea4-c6cd-42fb-802d-5c648b4bfec0",
   "metadata": {
    "tags": []
   },
   "outputs": [
    {
     "name": "stdout",
     "output_type": "stream",
     "text": [
      "monkeysamp\n",
      "monkeysamp\n",
      "monkeysamp\n",
      "monkeysamp\n",
      "monkeysamp\n",
      "monkeysamp\n",
      "monkeysamp\n",
      "monkeysamp\n",
      "monkeysamp\n",
      "monkeysamp\n",
      "monkeysamp\n",
      "monkeysamp\n",
      "monkeysamp\n",
      "monkeysamp\n",
      "monkeysamp\n",
      "monkeysamp\n",
      "monkeysamp\n",
      "monkeysamp\n",
      "monkeysamp\n",
      "monkeysamp\n",
      "monkeysamp\n",
      "monkeysamp\n",
      "monkeysamp\n",
      "monkeysamp\n",
      "monkeysamp\n",
      "monkeysamp\n",
      "monkeysamp\n",
      "monkeysamp\n",
      "monkeysamp\n",
      "monkeysamp\n",
      "monkeysamp\n",
      "monkeysamp\n",
      "monkeysamp\n",
      "monkeysamp\n",
      "monkeysamp\n",
      "monkeysamp\n",
      "monkeysamp\n",
      "monkeysamp\n",
      "monkeysamp\n",
      "monkeysamp\n",
      "monkeysamp\n",
      "monkeysamp\n",
      "monkeysamp\n",
      "monkeysamp\n",
      "monkeysamp\n",
      "monkeysamp\n",
      "monkeysamp\n"
     ]
    }
   ],
   "source": [
    "adaptbase_df = test_baseline(inplist, pfsampler, .85, 4)\n",
    "pfsample_df = test_pfsample(inplist, pfsampler, 18, [10, 20])\n",
    "\n",
    "adaptbase_df.to_json(\"output/pfsample/abase.jsonl\", lines=True, orient='records')\n",
    "pfsample_df.to_json(\"output/pfsample/pfsample.jsonl\", lines=True, orient='records')"
   ]
  },
  {
   "cell_type": "code",
   "execution_count": 8,
   "id": "0dc29f47-d147-4514-b36f-c9d6a6722167",
   "metadata": {
    "tags": []
   },
   "outputs": [
    {
     "name": "stdout",
     "output_type": "stream",
     "text": [
      "130.4\n",
      "0.809410572052002\n"
     ]
    }
   ],
   "source": [
    "print(adaptbase_df['budgets'].mean())\n",
    "print(adaptbase_df['scos'].mean())"
   ]
  },
  {
   "cell_type": "code",
   "execution_count": 12,
   "id": "dd88b5cf-0f4a-4be8-b020-d8b76d99aa98",
   "metadata": {
    "tags": []
   },
   "outputs": [
    {
     "name": "stdout",
     "output_type": "stream",
     "text": [
      "253.6\n",
      "0.8504377722740173\n"
     ]
    }
   ],
   "source": [
    "print(pfsample_df['budgets'].mean())\n",
    "print(pfsample_df['scos'].mean())"
   ]
  },
  {
   "cell_type": "code",
   "execution_count": 26,
   "id": "024b5380-5722-40a7-b892-0c9b410042de",
   "metadata": {
    "tags": []
   },
   "outputs": [
    {
     "name": "stdout",
     "output_type": "stream",
     "text": [
      "monkeysamp\n",
      "monkeysamp\n",
      "monkeysamp\n",
      "monkeysamp\n",
      "monkeysamp\n",
      "monkeysamp\n",
      "monkeysamp\n",
      "monkeysamp\n",
      "monkeysamp\n",
      "monkeysamp\n",
      "monkeysamp\n",
      "monkeysamp\n",
      "monkeysamp\n",
      "monkeysamp\n",
      "monkeysamp\n",
      "monkeysamp\n",
      "monkeysamp\n",
      "monkeysamp\n"
     ]
    }
   ],
   "source": [
    "adaptbase_df = test_baseline(inplist, pfsampler, .85, 2)"
   ]
  },
  {
   "cell_type": "code",
   "execution_count": 27,
   "id": "e2b42ab9-bbce-4906-8785-cd1c6f0bb6ed",
   "metadata": {},
   "outputs": [
    {
     "name": "stdout",
     "output_type": "stream",
     "text": [
      "129.2\n",
      "0.8531928896903992\n"
     ]
    }
   ],
   "source": [
    "print(adaptbase_df['budgets'].mean())\n",
    "print(adaptbase_df['scos'].mean())"
   ]
  },
  {
   "cell_type": "code",
   "execution_count": null,
   "id": "a9ff40f7-eccb-44b8-b82c-f8948a862c5f",
   "metadata": {},
   "outputs": [],
   "source": []
  }
 ],
 "metadata": {
  "kernelspec": {
   "display_name": "Python 3 (ipykernel)",
   "language": "python",
   "name": "python3"
  },
  "language_info": {
   "codemirror_mode": {
    "name": "ipython",
    "version": 3
   },
   "file_extension": ".py",
   "mimetype": "text/x-python",
   "name": "python",
   "nbconvert_exporter": "python",
   "pygments_lexer": "ipython3",
   "version": "3.8.12"
  }
 },
 "nbformat": 4,
 "nbformat_minor": 5
}
