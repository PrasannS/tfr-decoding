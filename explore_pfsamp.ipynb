{
 "cells": [
  {
   "cell_type": "code",
   "execution_count": 13,
   "id": "dbcf9396-bdbe-4f7f-ba68-ba162e784307",
   "metadata": {
    "tags": []
   },
   "outputs": [],
   "source": [
    "from transformers import T5ForConditionalGeneration, T5Tokenizer\n",
    "import torch\n",
    "from datasets import load_dataset\n",
    "import pandas as pd\n",
    "import numpy as np\n",
    "from src.tfr_decoding.finepref_sample import sample # new sampling method\n",
    "from src.utils.samp_utils import inpsampall, dset_randsamp   \n",
    "from src.tfr_decoding.shp_modeling import T5BinaryClassifier\n",
    "from prefix_sampling import PrefixSampler, test_baseline, test_pfsample, test_finesample, test_apsample, test_enhancedsample\n",
    "import matplotlib.pyplot as plt"
   ]
  },
  {
   "cell_type": "code",
   "execution_count": 62,
   "id": "00c9a28c-0b66-449e-b899-59b699a96c6e",
   "metadata": {
    "tags": []
   },
   "outputs": [
    {
     "name": "stdout",
     "output_type": "stream",
     "text": [
      "The autoreload extension is already loaded. To reload it, use:\n",
      "  %reload_ext autoreload\n"
     ]
    }
   ],
   "source": [
    "%load_ext autoreload\n",
    "%autoreload 2"
   ]
  },
  {
   "cell_type": "code",
   "execution_count": null,
   "id": "7a1ab479-7aed-4d15-8e58-ff17936ed3cb",
   "metadata": {
    "tags": []
   },
   "outputs": [],
   "source": [
    "# first load relevant models\n",
    "device = 'cuda:0' # if you have a GPU\n",
    "pfmod_path = \"./lightning_logs/bestmodel/checkpoints/epoch=2-step=23950.ckpt\"\n",
    "\n",
    "# get generation model\n",
    "tokenizer = T5Tokenizer.from_pretrained(\"google/flan-t5-xxl\")\n",
    "\n",
    "qpref = T5BinaryClassifier.load_from_checkpoint(pfmod_path)\n",
    "model = T5ForConditionalGeneration.from_pretrained(\"google/flan-t5-xxl\", device_map=\"auto\")#.to(device)\n",
    "#model.sample = sample.__get__(model)\n",
    "model.tokenizer = tokenizer\n",
    "model.tok = tokenizer\n",
    "pfname = 'stanfordnlp/SteamSHP-flan-t5-large'\n",
    "max_len = 512\n",
    "learning_rate = 3e-5\n",
    "preftok = T5Tokenizer.from_pretrained(pfname)\n",
    "\n",
    "model.qualitypref = qpref\n",
    "#model.stdpref = T5BinaryClassifier.load_from_checkpoint(\"./lightning_logs/version_11/checkpoints/epoch=3-step=3359.ckpt\")\n",
    "# set up relevant mdoels\n",
    "model.downmetric = T5ForConditionalGeneration.from_pretrained('stanfordnlp/SteamSHP-flan-t5-xl').to(device)\n",
    "model.downtok = T5Tokenizer.from_pretrained('stanfordnlp/SteamSHP-flan-t5-xl')\n",
    "model.eval()"
   ]
  },
  {
   "cell_type": "code",
   "execution_count": 4,
   "id": "818d366d-de92-40ac-a465-90a28df8a535",
   "metadata": {
    "tags": []
   },
   "outputs": [],
   "source": [
    "# load up our dataset\n",
    "elidf = pd.read_json(\"output/elidataset.jsonl\", orient=\"records\", lines=\"true\")\n",
    "# start from 15000 for latest exploration\n",
    "elidf = elidf.drop_duplicates(subset=\"history\").iloc[15000:15100]\n",
    "\n",
    "pfsampler = PrefixSampler(model)\n",
    "inplist = list(elidf['history'])"
   ]
  },
  {
   "cell_type": "code",
   "execution_count": null,
   "id": "618952d9-5dda-4a5d-a9c9-acfd217d1c3a",
   "metadata": {
    "tags": []
   },
   "outputs": [],
   "source": [
    "with torch.no_grad():\n",
    "    finesample_df = test_finesample(inplist, pfsampler, 9, 3, 6, 5)\n",
    "    finesample_df.to_json(\"output/hparam_explore/fsamp.jsonl\", orient=\"records\", lines=True)"
   ]
  },
  {
   "cell_type": "code",
   "execution_count": null,
   "id": "3fe83fa7-2bcc-40e6-8fb2-ca9dd2e0e0d4",
   "metadata": {
    "tags": []
   },
   "outputs": [],
   "source": [
    "with torch.no_grad():\n",
    "    finesample_df = test_apsample(inplist[:10], pfsampler, 0.85, 3, 1, 3)\n"
   ]
  },
  {
   "cell_type": "code",
   "execution_count": null,
   "id": "ad03fd2b-0f43-4dc2-925c-8b2fffcad014",
   "metadata": {},
   "outputs": [],
   "source": [
    "with torch.no_grad():\n",
    "    finesample_df = test_pfsample(inplist[:10], pfsampler, 0.85, 3, 1, 3)"
   ]
  },
  {
   "cell_type": "code",
   "execution_count": null,
   "id": "760a0af6-f037-43c1-b70d-d2c146f8e789",
   "metadata": {
    "tags": []
   },
   "outputs": [],
   "source": [
    "ind = 1\n",
    "with torch.no_grad():\n",
    "    finesample_df = test_enhancedsample(inplist[ind:ind+1], pfsampler, 18, [7, 20], 3, 3, None)"
   ]
  },
  {
   "cell_type": "code",
   "execution_count": 69,
   "id": "8cdfbd86-7fe6-41e0-b13b-ddcbc2b55ff5",
   "metadata": {
    "tags": []
   },
   "outputs": [
    {
     "data": {
      "text/plain": [
       "[]"
      ]
     },
     "execution_count": 69,
     "metadata": {},
     "output_type": "execute_result"
    }
   ],
   "source": [
    "a = [1, 2]\n",
    "a[:-3]"
   ]
  },
  {
   "cell_type": "code",
   "execution_count": 11,
   "id": "8cef7622-585b-4340-b08f-68eb9903f01f",
   "metadata": {
    "tags": []
   },
   "outputs": [],
   "source": [
    "resold = pd.read_json(\"output/hparam_explore2/enhsamp7_20.jsonl\", orient='records', lines=True)"
   ]
  },
  {
   "cell_type": "code",
   "execution_count": 37,
   "id": "c28409e3-d283-480a-ac51-c22cbb3ecda9",
   "metadata": {
    "tags": []
   },
   "outputs": [],
   "source": [
    "from statistics import median, mean"
   ]
  },
  {
   "cell_type": "code",
   "execution_count": 20,
   "id": "3fca3305-7538-4c81-83ef-554502820bf2",
   "metadata": {
    "tags": []
   },
   "outputs": [
    {
     "data": {
      "text/plain": [
       "0.84764552115"
      ]
     },
     "execution_count": 20,
     "metadata": {},
     "output_type": "execute_result"
    }
   ],
   "source": [
    "median(resold['scos'])"
   ]
  },
  {
   "cell_type": "code",
   "execution_count": 26,
   "id": "cb13d089-068f-4bcf-b955-c538851f7f75",
   "metadata": {
    "tags": []
   },
   "outputs": [],
   "source": [
    "def count_tokens(text):\n",
    "    return len(tokenizer(text).input_ids)\n",
    "\n",
    "resold['extra_toks'] = resold['budgets'] - resold['outs'].apply(count_tokens)"
   ]
  },
  {
   "cell_type": "code",
   "execution_count": 75,
   "id": "ecd26e4e-e8d1-4bff-8859-221b7de6a83b",
   "metadata": {
    "tags": []
   },
   "outputs": [
    {
     "data": {
      "text/plain": [
       "(array([155.,  65.,  53.,  38.,  17.,  23.,  13.,  11.,  14.,  11.]),\n",
       " array([ -1. ,   9.8,  20.6,  31.4,  42.2,  53. ,  63.8,  74.6,  85.4,\n",
       "         96.2, 107. ]),\n",
       " <BarContainer object of 10 artists>)"
      ]
     },
     "execution_count": 75,
     "metadata": {},
     "output_type": "execute_result"
    },
    {
     "data": {
      "image/png": "[encoded data removed]",
      "text/plain": [
       "<Figure size 640x480 with 1 Axes>"
      ]
     },
     "metadata": {},
     "output_type": "display_data"
    }
   ],
   "source": [
    "plt.hist(resold[resold.extra_toks<108].extra_toks)"
   ]
  },
  {
   "cell_type": "code",
   "execution_count": 53,
   "id": "93f6ef35-32aa-4bd1-b930-d483ee7e1fcc",
   "metadata": {
    "tags": []
   },
   "outputs": [
    {
     "data": {
      "text/plain": [
       "400"
      ]
     },
     "execution_count": 53,
     "metadata": {},
     "output_type": "execute_result"
    }
   ],
   "source": [
    "len(resold[resold.extra_toks<108].scos)"
   ]
  },
  {
   "cell_type": "code",
   "execution_count": 51,
   "id": "79b5fe15-998c-4378-b8c3-094b25f4ac83",
   "metadata": {
    "tags": []
   },
   "outputs": [
    {
     "data": {
      "text/plain": [
       "56.7"
      ]
     },
     "execution_count": 51,
     "metadata": {},
     "output_type": "execute_result"
    }
   ],
   "source": [
    "mean(resold.extra_toks)"
   ]
  },
  {
   "cell_type": "code",
   "execution_count": 43,
   "id": "286921a0-b473-4773-815a-485cddf4efe6",
   "metadata": {
    "tags": []
   },
   "outputs": [
    {
     "data": {
      "text/plain": [
       "[39,\n",
       " 0,\n",
       " 36,\n",
       " 13,\n",
       " 97,\n",
       " 108,\n",
       " 123,\n",
       " 109,\n",
       " 24,\n",
       " 0,\n",
       " 0,\n",
       " 129,\n",
       " 108,\n",
       " 24,\n",
       " 13,\n",
       " 0,\n",
       " 108,\n",
       " 108,\n",
       " 108,\n",
       " 150,\n",
       " 108,\n",
       " 36,\n",
       " 0,\n",
       " 18,\n",
       " 108,\n",
       " 108,\n",
       " 108,\n",
       " 30,\n",
       " 36,\n",
       " 108,\n",
       " 51,\n",
       " 82,\n",
       " 49,\n",
       " 108,\n",
       " 108,\n",
       " 0,\n",
       " 108,\n",
       " 6,\n",
       " 150,\n",
       " 120,\n",
       " 3,\n",
       " 108,\n",
       " 45,\n",
       " 30,\n",
       " 108,\n",
       " 42,\n",
       " 54,\n",
       " 48,\n",
       " 108,\n",
       " 108,\n",
       " 12,\n",
       " 138,\n",
       " 156,\n",
       " 0,\n",
       " 38,\n",
       " 0,\n",
       " 6,\n",
       " 108,\n",
       " 0,\n",
       " 67,\n",
       " 26,\n",
       " 0,\n",
       " 122,\n",
       " 108,\n",
       " 36,\n",
       " 108,\n",
       " 108,\n",
       " 108,\n",
       " 0,\n",
       " 49,\n",
       " 25,\n",
       " 26,\n",
       " 18,\n",
       " 0,\n",
       " 0,\n",
       " 0,\n",
       " 25,\n",
       " 6,\n",
       " 108,\n",
       " 0,\n",
       " 118,\n",
       " 108,\n",
       " 6,\n",
       " 3,\n",
       " 108,\n",
       " 150,\n",
       " 13,\n",
       " 0,\n",
       " 13,\n",
       " 108,\n",
       " 0,\n",
       " 6,\n",
       " 0,\n",
       " 59,\n",
       " 0,\n",
       " 24,\n",
       " 54,\n",
       " 0,\n",
       " 37,\n",
       " 24,\n",
       " 12,\n",
       " 12,\n",
       " 6,\n",
       " 108,\n",
       " 143,\n",
       " 6,\n",
       " 0,\n",
       " 108,\n",
       " 108,\n",
       " 107,\n",
       " 42,\n",
       " 36,\n",
       " 66,\n",
       " 108,\n",
       " 108,\n",
       " 101,\n",
       " 0,\n",
       " 108,\n",
       " 13,\n",
       " 108,\n",
       " 0,\n",
       " 0,\n",
       " 112,\n",
       " 108,\n",
       " 48,\n",
       " 30,\n",
       " 0,\n",
       " 108,\n",
       " 54,\n",
       " 12,\n",
       " 42,\n",
       " 12,\n",
       " 108,\n",
       " 0,\n",
       " 107,\n",
       " 62,\n",
       " 96,\n",
       " 0,\n",
       " 150,\n",
       " 0,\n",
       " 0,\n",
       " 25,\n",
       " 108,\n",
       " 90,\n",
       " 108,\n",
       " 0,\n",
       " 0,\n",
       " 0,\n",
       " 12,\n",
       " 24,\n",
       " 12,\n",
       " 73,\n",
       " 5,\n",
       " 17,\n",
       " 150,\n",
       " 120,\n",
       " 108,\n",
       " 108,\n",
       " 6,\n",
       " 13,\n",
       " 18,\n",
       " 108,\n",
       " 0,\n",
       " 34,\n",
       " 13,\n",
       " 108,\n",
       " 0,\n",
       " 48,\n",
       " 147,\n",
       " 24,\n",
       " 13,\n",
       " 6,\n",
       " 19,\n",
       " 108,\n",
       " 30,\n",
       " 12,\n",
       " 42,\n",
       " 109,\n",
       " 7,\n",
       " 150,\n",
       " 36,\n",
       " 108,\n",
       " 30,\n",
       " 66,\n",
       " 42,\n",
       " 59,\n",
       " 36,\n",
       " 0,\n",
       " 32,\n",
       " 199,\n",
       " 108,\n",
       " 0,\n",
       " 108,\n",
       " 18,\n",
       " 31,\n",
       " 42,\n",
       " 18,\n",
       " 0,\n",
       " 24,\n",
       " 19,\n",
       " 90,\n",
       " 18,\n",
       " 0,\n",
       " 6,\n",
       " 0,\n",
       " 19,\n",
       " 108,\n",
       " 108,\n",
       " 174,\n",
       " 0,\n",
       " 108,\n",
       " 199,\n",
       " 0,\n",
       " 78,\n",
       " 42,\n",
       " 84,\n",
       " 108,\n",
       " 6,\n",
       " 48,\n",
       " 108,\n",
       " 24,\n",
       " 108,\n",
       " 12,\n",
       " 0,\n",
       " 132,\n",
       " 192,\n",
       " 108,\n",
       " 67,\n",
       " 13,\n",
       " 108,\n",
       " 56,\n",
       " 19,\n",
       " 0,\n",
       " 108,\n",
       " 66,\n",
       " 108,\n",
       " 108,\n",
       " 0,\n",
       " 58,\n",
       " 25,\n",
       " 108,\n",
       " 25,\n",
       " 6,\n",
       " 108,\n",
       " 156,\n",
       " 24,\n",
       " 0,\n",
       " 10,\n",
       " 0,\n",
       " 0,\n",
       " 108,\n",
       " 108,\n",
       " 6,\n",
       " 108,\n",
       " 0,\n",
       " 30,\n",
       " 0,\n",
       " 90,\n",
       " 108,\n",
       " 71,\n",
       " 103,\n",
       " 116,\n",
       " 6,\n",
       " 24,\n",
       " 0,\n",
       " 76,\n",
       " 0,\n",
       " 108,\n",
       " 0,\n",
       " 108,\n",
       " 0,\n",
       " 0,\n",
       " 108,\n",
       " 96,\n",
       " 0,\n",
       " 0,\n",
       " 1,\n",
       " 108,\n",
       " 42,\n",
       " 30,\n",
       " 26,\n",
       " 12,\n",
       " 108,\n",
       " 108,\n",
       " 53,\n",
       " 118,\n",
       " 0,\n",
       " 25,\n",
       " 108,\n",
       " 0,\n",
       " 108,\n",
       " 108,\n",
       " 0,\n",
       " 132,\n",
       " 62,\n",
       " 0,\n",
       " 7,\n",
       " 6,\n",
       " 6,\n",
       " 56,\n",
       " 143,\n",
       " 12,\n",
       " 108,\n",
       " 6,\n",
       " 18,\n",
       " 108,\n",
       " 108,\n",
       " 108,\n",
       " 26,\n",
       " 61,\n",
       " 0,\n",
       " 108,\n",
       " 108,\n",
       " 42,\n",
       " 12,\n",
       " 166,\n",
       " 108,\n",
       " 6,\n",
       " 126,\n",
       " 84,\n",
       " 0,\n",
       " 0,\n",
       " 0,\n",
       " 108,\n",
       " 108,\n",
       " 108,\n",
       " 101,\n",
       " 26,\n",
       " 54,\n",
       " 150,\n",
       " 61,\n",
       " 61,\n",
       " 109,\n",
       " 0,\n",
       " 60,\n",
       " 24,\n",
       " 24,\n",
       " 0,\n",
       " 108,\n",
       " 108,\n",
       " 108,\n",
       " 108,\n",
       " 108,\n",
       " 0,\n",
       " -1,\n",
       " 6,\n",
       " 0,\n",
       " 50,\n",
       " 36,\n",
       " 96,\n",
       " 24,\n",
       " 118,\n",
       " 108,\n",
       " 32,\n",
       " 44,\n",
       " 70,\n",
       " 90,\n",
       " 31,\n",
       " 60,\n",
       " 108,\n",
       " 0,\n",
       " 132,\n",
       " 90,\n",
       " 143,\n",
       " 6,\n",
       " 37,\n",
       " 0,\n",
       " 115,\n",
       " 12,\n",
       " 84,\n",
       " 32,\n",
       " 90,\n",
       " 24,\n",
       " 150,\n",
       " 108,\n",
       " 30,\n",
       " 19,\n",
       " 0,\n",
       " 19,\n",
       " 0,\n",
       " 108,\n",
       " 12,\n",
       " 42,\n",
       " 12,\n",
       " 12,\n",
       " 6,\n",
       " 57,\n",
       " 108,\n",
       " 150,\n",
       " 42,\n",
       " 0,\n",
       " 18,\n",
       " 150,\n",
       " 0,\n",
       " 0,\n",
       " 0,\n",
       " 108,\n",
       " 42,\n",
       " 108,\n",
       " 82,\n",
       " -1,\n",
       " 108,\n",
       " 24,\n",
       " 180,\n",
       " 108,\n",
       " 220,\n",
       " 108,\n",
       " 98,\n",
       " 0,\n",
       " 18,\n",
       " 133,\n",
       " 6,\n",
       " 144,\n",
       " 6,\n",
       " 0,\n",
       " 0,\n",
       " 12,\n",
       " 13,\n",
       " 97,\n",
       " 87,\n",
       " 48,\n",
       " 108,\n",
       " 0,\n",
       " 0,\n",
       " 108,\n",
       " 6,\n",
       " 19,\n",
       " 108,\n",
       " 19,\n",
       " 118,\n",
       " 6,\n",
       " 42,\n",
       " 29,\n",
       " 12,\n",
       " 108,\n",
       " 18,\n",
       " 130,\n",
       " -1,\n",
       " 36,\n",
       " 102,\n",
       " 108,\n",
       " 30,\n",
       " 6,\n",
       " 90,\n",
       " 0,\n",
       " 108,\n",
       " 39,\n",
       " 36,\n",
       " 12,\n",
       " 150,\n",
       " 0,\n",
       " 108,\n",
       " 108,\n",
       " 24,\n",
       " 0,\n",
       " 6,\n",
       " 94,\n",
       " 18,\n",
       " 6,\n",
       " 0,\n",
       " 102,\n",
       " 0,\n",
       " 6,\n",
       " 108,\n",
       " 108,\n",
       " 72,\n",
       " 31,\n",
       " 6,\n",
       " 0,\n",
       " 143,\n",
       " 108,\n",
       " 108,\n",
       " 1,\n",
       " 12,\n",
       " 12,\n",
       " 108,\n",
       " 24,\n",
       " 108,\n",
       " 108,\n",
       " 115,\n",
       " 108,\n",
       " 84,\n",
       " 0,\n",
       " 108,\n",
       " 108,\n",
       " 108,\n",
       " 99,\n",
       " 36,\n",
       " 31,\n",
       " 108,\n",
       " 13,\n",
       " 192,\n",
       " 108,\n",
       " 13,\n",
       " 108,\n",
       " -1,\n",
       " 95,\n",
       " 108,\n",
       " 108,\n",
       " 55,\n",
       " 44,\n",
       " 80,\n",
       " 18,\n",
       " 37,\n",
       " 109,\n",
       " 0,\n",
       " 149,\n",
       " 108,\n",
       " 0,\n",
       " 25,\n",
       " 0,\n",
       " 118,\n",
       " 12,\n",
       " 55,\n",
       " 0,\n",
       " 6,\n",
       " 18,\n",
       " 30,\n",
       " 30,\n",
       " 48,\n",
       " 71,\n",
       " 25,\n",
       " 0,\n",
       " 24,\n",
       " 108,\n",
       " 6,\n",
       " 18,\n",
       " 32,\n",
       " 108,\n",
       " 52,\n",
       " 0,\n",
       " 84,\n",
       " 108,\n",
       " 0,\n",
       " 108,\n",
       " 54,\n",
       " 42,\n",
       " 0,\n",
       " 63,\n",
       " 24,\n",
       " 48,\n",
       " 192,\n",
       " 108,\n",
       " 18,\n",
       " 30,\n",
       " 24,\n",
       " 109,\n",
       " 108,\n",
       " 6,\n",
       " 108,\n",
       " 0,\n",
       " 73,\n",
       " 58,\n",
       " 48,\n",
       " 7,\n",
       " 157,\n",
       " 138,\n",
       " 32,\n",
       " 0,\n",
       " 0,\n",
       " 150,\n",
       " 108,\n",
       " 0,\n",
       " 94,\n",
       " -1,\n",
       " 108,\n",
       " 108,\n",
       " 24,\n",
       " 108,\n",
       " 2,\n",
       " 6,\n",
       " 78,\n",
       " 108,\n",
       " 108,\n",
       " 37,\n",
       " 0,\n",
       " 0,\n",
       " 17,\n",
       " 13,\n",
       " 0,\n",
       " 108,\n",
       " 108,\n",
       " 0,\n",
       " 108,\n",
       " 24,\n",
       " 66,\n",
       " 25,\n",
       " 19,\n",
       " 17,\n",
       " 108,\n",
       " 19,\n",
       " 66,\n",
       " 45,\n",
       " 9,\n",
       " 138,\n",
       " 12,\n",
       " 108,\n",
       " 6,\n",
       " 6,\n",
       " 108]"
      ]
     },
     "execution_count": 43,
     "metadata": {},
     "output_type": "execute_result"
    }
   ],
   "source": [
    "list(resold.extra_toks)"
   ]
  },
  {
   "cell_type": "code",
   "execution_count": 41,
   "id": "4393403b-768e-41be-8b9a-7207833483a9",
   "metadata": {
    "tags": []
   },
   "outputs": [
    {
     "name": "stdout",
     "output_type": "stream",
     "text": [
      "0.8611249660569975\n"
     ]
    },
    {
     "data": {
      "text/plain": [
       "(array([  2.,   2.,   3.,   4.,  16.,  34.,  67., 114.,  99.,  52.]),\n",
       " array([0.47133097, 0.52397953, 0.57662809, 0.62927665, 0.68192521,\n",
       "        0.73457377, 0.78722233, 0.83987089, 0.89251944, 0.945168  ,\n",
       "        0.99781656]),\n",
       " <BarContainer object of 10 artists>)"
      ]
     },
     "execution_count": 41,
     "metadata": {},
     "output_type": "execute_result"
    },
    {
     "data": {
      "image/png": "[encoded data removed]",
      "text/plain": [
       "<Figure size 640x480 with 1 Axes>"
      ]
     },
     "metadata": {},
     "output_type": "display_data"
    }
   ],
   "source": [
    "sub = resold[resold.extra_toks<100].scos\n",
    "print(mean(sub))\n",
    "plt.hist(sub)"
   ]
  },
  {
   "cell_type": "code",
   "execution_count": 42,
   "id": "f09de3c6-c5d2-4a61-8b01-133a18e8e007",
   "metadata": {
    "tags": []
   },
   "outputs": [
    {
     "data": {
      "text/plain": [
       "(array([220.,  91.,  40.,  25., 170.,  16.,  26.,   5.,   4.,   3.]),\n",
       " array([ -1. ,  21.1,  43.2,  65.3,  87.4, 109.5, 131.6, 153.7, 175.8,\n",
       "        197.9, 220. ]),\n",
       " <BarContainer object of 10 artists>)"
      ]
     },
     "execution_count": 42,
     "metadata": {},
     "output_type": "execute_result"
    },
    {
     "data": {
      "image/png": "[encoded data removed]",
      "text/plain": [
       "<Figure size 640x480 with 1 Axes>"
      ]
     },
     "metadata": {},
     "output_type": "display_data"
    }
   ],
   "source": [
    "plt.hist(resold.extra_toks)"
   ]
  },
  {
   "cell_type": "code",
   "execution_count": 23,
   "id": "30a2c55a-8489-4fc9-81df-312e92cbaa93",
   "metadata": {
    "tags": []
   },
   "outputs": [
    {
     "data": {
      "text/html": [
       "<div>\n",
       "<style scoped>\n",
       "    .dataframe tbody tr th:only-of-type {\n",
       "        vertical-align: middle;\n",
       "    }\n",
       "\n",
       "    .dataframe tbody tr th {\n",
       "        vertical-align: top;\n",
       "    }\n",
       "\n",
       "    .dataframe thead th {\n",
       "        text-align: right;\n",
       "    }\n",
       "</style>\n",
       "<table border=\"1\" class=\"dataframe\">\n",
       "  <thead>\n",
       "    <tr style=\"text-align: right;\">\n",
       "      <th></th>\n",
       "      <th>scos</th>\n",
       "      <th>budgets</th>\n",
       "      <th>outs</th>\n",
       "    </tr>\n",
       "  </thead>\n",
       "  <tbody>\n",
       "    <tr>\n",
       "      <th>0</th>\n",
       "      <td>0.654249</td>\n",
       "      <td>68</td>\n",
       "      <td>I think that is important to understand the si...</td>\n",
       "    </tr>\n",
       "    <tr>\n",
       "      <th>1</th>\n",
       "      <td>0.857752</td>\n",
       "      <td>41</td>\n",
       "      <td>The pressure is not the only issue. The heat g...</td>\n",
       "    </tr>\n",
       "    <tr>\n",
       "      <th>2</th>\n",
       "      <td>0.876001</td>\n",
       "      <td>126</td>\n",
       "      <td>The best we can tell is that ISON will lose ab...</td>\n",
       "    </tr>\n",
       "    <tr>\n",
       "      <th>3</th>\n",
       "      <td>0.879815</td>\n",
       "      <td>49</td>\n",
       "      <td>Blisters are a sign that your skin has broken ...</td>\n",
       "    </tr>\n",
       "    <tr>\n",
       "      <th>4</th>\n",
       "      <td>0.909598</td>\n",
       "      <td>306</td>\n",
       "      <td>Many people are good at explaining things, but...</td>\n",
       "    </tr>\n",
       "    <tr>\n",
       "      <th>5</th>\n",
       "      <td>0.556138</td>\n",
       "      <td>130</td>\n",
       "      <td>An uninstaller is a program that helps with th...</td>\n",
       "    </tr>\n",
       "    <tr>\n",
       "      <th>6</th>\n",
       "      <td>0.909758</td>\n",
       "      <td>67</td>\n",
       "      <td>I was just trying to figure out who in their r...</td>\n",
       "    </tr>\n",
       "    <tr>\n",
       "      <th>7</th>\n",
       "      <td>0.859151</td>\n",
       "      <td>161</td>\n",
       "      <td>To find and index websites, a search engine us...</td>\n",
       "    </tr>\n",
       "    <tr>\n",
       "      <th>8</th>\n",
       "      <td>0.572144</td>\n",
       "      <td>269</td>\n",
       "      <td>The only explanation I can come up with is tha...</td>\n",
       "    </tr>\n",
       "    <tr>\n",
       "      <th>9</th>\n",
       "      <td>0.792256</td>\n",
       "      <td>39</td>\n",
       "      <td>Another article on the subject; _URL_1_. The '...</td>\n",
       "    </tr>\n",
       "  </tbody>\n",
       "</table>\n",
       "</div>"
      ],
      "text/plain": [
       "       scos  budgets                                               outs\n",
       "0  0.654249       68  I think that is important to understand the si...\n",
       "1  0.857752       41  The pressure is not the only issue. The heat g...\n",
       "2  0.876001      126  The best we can tell is that ISON will lose ab...\n",
       "3  0.879815       49  Blisters are a sign that your skin has broken ...\n",
       "4  0.909598      306  Many people are good at explaining things, but...\n",
       "5  0.556138      130  An uninstaller is a program that helps with th...\n",
       "6  0.909758       67  I was just trying to figure out who in their r...\n",
       "7  0.859151      161  To find and index websites, a search engine us...\n",
       "8  0.572144      269  The only explanation I can come up with is tha...\n",
       "9  0.792256       39  Another article on the subject; _URL_1_. The '..."
      ]
     },
     "execution_count": 23,
     "metadata": {},
     "output_type": "execute_result"
    }
   ],
   "source": [
    "finesample_df"
   ]
  },
  {
   "cell_type": "code",
   "execution_count": 9,
   "id": "d396f453-19ed-47f1-b65e-100662ed8c65",
   "metadata": {
    "tags": []
   },
   "outputs": [],
   "source": [
    "a = [1, 2]"
   ]
  },
  {
   "cell_type": "code",
   "execution_count": 20,
   "id": "1ae877c7-eee4-42af-b4cc-9dd5d4d344bd",
   "metadata": {
    "tags": []
   },
   "outputs": [
    {
     "data": {
      "text/plain": [
       "137.4"
      ]
     },
     "execution_count": 20,
     "metadata": {},
     "output_type": "execute_result"
    }
   ],
   "source": [
    "finesample_df['budgets'].mean()"
   ]
  },
  {
   "cell_type": "code",
   "execution_count": 3,
   "id": "31afa11d-e068-4f5e-80ac-a2584187d0fc",
   "metadata": {
    "tags": []
   },
   "outputs": [],
   "source": [
    "a1 = pd.read_json(\"output/pfsample/finesamp.jsonl\", orient=\"records\", lines=True)\n"
   ]
  },
  {
   "cell_type": "code",
   "execution_count": 5,
   "id": "0881e375-7c8d-4a53-b5fb-2dd514ee1fe9",
   "metadata": {
    "tags": []
   },
   "outputs": [
    {
     "data": {
      "text/plain": [
       "115.71"
      ]
     },
     "execution_count": 5,
     "metadata": {},
     "output_type": "execute_result"
    }
   ],
   "source": [
    "a1.budgets.mean()"
   ]
  },
  {
   "cell_type": "code",
   "execution_count": null,
   "id": "53e3bea4-c6cd-42fb-802d-5c648b4bfec0",
   "metadata": {
    "tags": []
   },
   "outputs": [
    {
     "name": "stdout",
     "output_type": "stream",
     "text": [
      "monkeysamp\n",
      "monkeysamp\n",
      "monkeysamp\n",
      "monkeysamp\n",
      "monkeysamp\n",
      "monkeysamp\n",
      "monkeysamp\n",
      "monkeysamp\n",
      "monkeysamp\n",
      "monkeysamp\n",
      "monkeysamp\n",
      "monkeysamp\n",
      "monkeysamp\n",
      "monkeysamp\n",
      "monkeysamp\n",
      "monkeysamp\n",
      "monkeysamp\n",
      "monkeysamp\n",
      "monkeysamp\n",
      "monkeysamp\n",
      "monkeysamp\n",
      "monkeysamp\n",
      "monkeysamp\n",
      "monkeysamp\n",
      "monkeysamp\n",
      "monkeysamp\n",
      "monkeysamp\n",
      "monkeysamp\n",
      "monkeysamp\n",
      "monkeysamp\n",
      "monkeysamp\n",
      "monkeysamp\n",
      "monkeysamp\n",
      "monkeysamp\n",
      "monkeysamp\n",
      "monkeysamp\n",
      "monkeysamp\n",
      "monkeysamp\n",
      "monkeysamp\n",
      "monkeysamp\n",
      "monkeysamp\n",
      "monkeysamp\n",
      "monkeysamp\n",
      "monkeysamp\n",
      "monkeysamp\n",
      "monkeysamp\n",
      "monkeysamp\n"
     ]
    }
   ],
   "source": [
    "adaptbase_df = test_baseline(inplist, pfsampler, .85, 4)\n",
    "pfsample_df = test_pfsample(inplist, pfsampler, 18, [10, 20])\n",
    "\n",
    "adaptbase_df.to_json(\"output/pfsample/abase.jsonl\", lines=True, orient='records')\n",
    "pfsample_df.to_json(\"output/pfsample/pfsample.jsonl\", lines=True, orient='records')"
   ]
  },
  {
   "cell_type": "code",
   "execution_count": 8,
   "id": "0dc29f47-d147-4514-b36f-c9d6a6722167",
   "metadata": {
    "tags": []
   },
   "outputs": [
    {
     "name": "stdout",
     "output_type": "stream",
     "text": [
      "130.4\n",
      "0.809410572052002\n"
     ]
    }
   ],
   "source": [
    "print(adaptbase_df['budgets'].mean())\n",
    "print(adaptbase_df['scos'].mean())"
   ]
  },
  {
   "cell_type": "code",
   "execution_count": 12,
   "id": "dd88b5cf-0f4a-4be8-b020-d8b76d99aa98",
   "metadata": {
    "tags": []
   },
   "outputs": [
    {
     "name": "stdout",
     "output_type": "stream",
     "text": [
      "253.6\n",
      "0.8504377722740173\n"
     ]
    }
   ],
   "source": [
    "print(pfsample_df['budgets'].mean())\n",
    "print(pfsample_df['scos'].mean())"
   ]
  },
  {
   "cell_type": "code",
   "execution_count": 26,
   "id": "024b5380-5722-40a7-b892-0c9b410042de",
   "metadata": {
    "tags": []
   },
   "outputs": [
    {
     "name": "stdout",
     "output_type": "stream",
     "text": [
      "monkeysamp\n",
      "monkeysamp\n",
      "monkeysamp\n",
      "monkeysamp\n",
      "monkeysamp\n",
      "monkeysamp\n",
      "monkeysamp\n",
      "monkeysamp\n",
      "monkeysamp\n",
      "monkeysamp\n",
      "monkeysamp\n",
      "monkeysamp\n",
      "monkeysamp\n",
      "monkeysamp\n",
      "monkeysamp\n",
      "monkeysamp\n",
      "monkeysamp\n",
      "monkeysamp\n"
     ]
    }
   ],
   "source": [
    "adaptbase_df = test_baseline(inplist, pfsampler, .85, 2)"
   ]
  },
  {
   "cell_type": "code",
   "execution_count": 27,
   "id": "e2b42ab9-bbce-4906-8785-cd1c6f0bb6ed",
   "metadata": {},
   "outputs": [
    {
     "name": "stdout",
     "output_type": "stream",
     "text": [
      "129.2\n",
      "0.8531928896903992\n"
     ]
    }
   ],
   "source": [
    "print(adaptbase_df['budgets'].mean())\n",
    "print(adaptbase_df['scos'].mean())"
   ]
  },
  {
   "cell_type": "code",
   "execution_count": null,
   "id": "a9ff40f7-eccb-44b8-b82c-f8948a862c5f",
   "metadata": {},
   "outputs": [],
   "source": []
  }
 ],
 "metadata": {
  "kernelspec": {
   "display_name": "Python 3 (ipykernel)",
   "language": "python",
   "name": "python3"
  },
  "language_info": {
   "codemirror_mode": {
    "name": "ipython",
    "version": 3
   },
   "file_extension": ".py",
   "mimetype": "text/x-python",
   "name": "python",
   "nbconvert_exporter": "python",
   "pygments_lexer": "ipython3",
   "version": "3.8.12"
  }
 },
 "nbformat": 4,
 "nbformat_minor": 5
}
