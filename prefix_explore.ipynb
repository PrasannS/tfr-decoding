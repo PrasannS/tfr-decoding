{
 "cells": [
  {
   "cell_type": "code",
   "execution_count": 1,
   "id": "ac9e2f86-5d35-4886-84a6-c338f94b3b96",
   "metadata": {},
   "outputs": [
    {
     "name": "stderr",
     "output_type": "stream",
     "text": [
      "2023-02-06 05:41:26.708999: W tensorflow/stream_executor/platform/default/dso_loader.cc:64] Could not load dynamic library 'libcudart.so.11.0'; dlerror: libcudart.so.11.0: cannot open shared object file: No such file or directory\n",
      "2023-02-06 05:41:26.709028: I tensorflow/stream_executor/cuda/cudart_stub.cc:29] Ignore above cudart dlerror if you do not have a GPU set up on your machine.\n"
     ]
    }
   ],
   "source": [
    "import pandas as pd\n",
    "from transformers import AutoTokenizer\n",
    "from src.utils.score_utils import metrics_mapping\n",
    "import torch"
   ]
  },
  {
   "cell_type": "code",
   "execution_count": 2,
   "id": "ea975e55-7c9c-4f67-bec1-46f3bb380ad2",
   "metadata": {},
   "outputs": [],
   "source": [
    "devcands = pd.read_csv(\"/mnt/data1/prasann/latticegen/lattice-generation/COMET/data/PARPREFIX_DEV.csv\")"
   ]
  },
  {
   "cell_type": "code",
   "execution_count": 3,
   "id": "8f55da39-c479-49ee-a3a9-18c8de084ea5",
   "metadata": {},
   "outputs": [],
   "source": [
    "devcands = devcands.rename(columns={\"mt\":\"hyp\"})"
   ]
  },
  {
   "cell_type": "code",
   "execution_count": 4,
   "id": "2ee6566a-d4b7-418f-87e7-88e259320d6f",
   "metadata": {},
   "outputs": [
    {
     "data": {
      "text/plain": [
       "66814"
      ]
     },
     "execution_count": 4,
     "metadata": {},
     "output_type": "execute_result"
    }
   ],
   "source": [
    "len(devcands)"
   ]
  },
  {
   "cell_type": "code",
   "execution_count": 5,
   "id": "2d3d3f5a-bf71-4ae5-a936-3b382d1d8df7",
   "metadata": {},
   "outputs": [],
   "source": [
    "tmpcands = devcands[devcands['plen']<13]"
   ]
  },
  {
   "cell_type": "code",
   "execution_count": 28,
   "id": "34d66ca0-0ea5-42bb-bcb9-fea4e89b9622",
   "metadata": {},
   "outputs": [
    {
     "name": "stdout",
     "output_type": "stream",
     "text": [
      "81.40172364641126 %\n",
      "82.8052016403149 %\n",
      "84.20867963421856 %\n",
      "85.61215762812219 %\n",
      "87.01563562202583 %\n",
      "88.41911361592948 %\n",
      "89.82259160983311 %\n",
      "91.22606960373676 %\n",
      "92.62954759764041 %\n",
      "94.03302559154405 %\n",
      "95.43650358544768 %\n",
      "96.83998157935133 %\n",
      "98.24345957325498 %\n",
      "99.64693756715862 %\n",
      "TOOK TIME  1841.08\n"
     ]
    },
    {
     "name": "stderr",
     "output_type": "stream",
     "text": [
      "/mnt/data1/prasann/tfr-decoding/src/utils/score_utils.py:313: SettingWithCopyWarning: \n",
      "A value is trying to be set on a copy of a slice from a DataFrame.\n",
      "Try using .loc[row_indexer,col_indexer] = value instead\n",
      "\n",
      "See the caveats in the documentation: https://pandas.pydata.org/pandas-docs/stable/user_guide/indexing.html#returning-a-view-versus-a-copy\n",
      "  tset[metric] = get_scores_auto(hyps, srcs, refs, \"parentqe\", \"comstyle\")\n"
     ]
    }
   ],
   "source": [
    "with torch.no_grad():\n",
    "    metrics_mapping(\"pqe\", tmpcands)"
   ]
  },
  {
   "cell_type": "code",
   "execution_count": 2,
   "id": "2afbc141-1001-455c-a708-ee53d995c237",
   "metadata": {},
   "outputs": [],
   "source": [
    "tmpcands = pd.read_csv(\"prefix_scored.csv\")"
   ]
  },
  {
   "cell_type": "code",
   "execution_count": 6,
   "id": "550047d5-c089-4c34-b46e-730c59d3629d",
   "metadata": {},
   "outputs": [],
   "source": [
    "#allcands = pd.read_csv(\"tmp.csv\", index_col=0)\n",
    "def rer_met(rer, tgt, df, preflen):\n",
    "    N=1\n",
    "    tmp = df[df['plen']==preflen]\n",
    "    print(tmp[tgt].mean())\n",
    "    fsort = tmp.sort_values(by=['ref', rer], ascending=[True, False]).groupby('ref', as_index=False).nth[:N]\n",
    "    return fsort[tgt].mean()"
   ]
  },
  {
   "cell_type": "code",
   "execution_count": 18,
   "id": "655a425f-de3b-4c47-8995-8cf8c1ffb7f2",
   "metadata": {},
   "outputs": [
    {
     "name": "stdout",
     "output_type": "stream",
     "text": [
      "0.6357526586236814\n",
      "0.6622992265826895\n",
      "0.6357526586236814\n",
      "0.6771156381147742\n"
     ]
    }
   ],
   "source": [
    "print(rer_met(\"prefpqe\", \"score\", tmpcands, 9))\n",
    "print(rer_met(\"pqe\", \"score\", tmpcands, 9))"
   ]
  },
  {
   "cell_type": "code",
   "execution_count": 19,
   "id": "2d39af95-8841-4511-b3e3-583b78f96644",
   "metadata": {},
   "outputs": [],
   "source": [
    "#testcands = list(allcands['hyp'][:50])\n",
    "#testscos = list(allcands['precision'][:50])\n",
    "tok = AutoTokenizer.from_pretrained(\"facebook/bart-base\")"
   ]
  },
  {
   "cell_type": "code",
   "execution_count": 13,
   "id": "ecb47fd9-e117-4a78-8097-add1c9e2c464",
   "metadata": {},
   "outputs": [],
   "source": [
    "allcands = allcands.drop(columns=['precision', 'recall', 'f1'])\n",
    "allcands = allcands.loc[allcands.hyp.apply(lambda x: isinstance(x, str))]\n",
    "allcands = allcands.dropna()"
   ]
  },
  {
   "cell_type": "code",
   "execution_count": null,
   "id": "736b2686-5afc-4d09-b175-1a1489e143dc",
   "metadata": {},
   "outputs": [],
   "source": [
    "metrics_mapping(\"parent\", allcands)"
   ]
  },
  {
   "cell_type": "code",
   "execution_count": 18,
   "id": "8b5826d5-85e4-4891-8044-0a57ee7af755",
   "metadata": {},
   "outputs": [],
   "source": [
    "allcands.to_csv(\"updated_dset_full.csv\")"
   ]
  },
  {
   "cell_type": "code",
   "execution_count": 4,
   "id": "1d876e73-ab8c-4f85-a33d-802657afd425",
   "metadata": {},
   "outputs": [],
   "source": [
    "# explore how well scores of prefixes predicts which choice will lead to something good down the line\n",
    "# TODO use Jiacheng's code for beam search latticification?\n",
    "# TODO use the T5 t2t generation model"
   ]
  },
  {
   "cell_type": "code",
   "execution_count": 19,
   "id": "0a0c9fe6-2365-4be4-8e5b-ea6cbdd8d40e",
   "metadata": {},
   "outputs": [],
   "source": [
    "def extract_prefixes(cands, tok):\n",
    "    return None\n",
    "    \n",
    "def tok_str(toks):\n",
    "    s = \"\"\n",
    "    for t in toks:\n",
    "        s = s+str(t)+\"_\"\n",
    "    return s[:-1]\n",
    "\n",
    "def get_prefs_info(pint, tokd, scos):\n",
    "    infos = {}\n",
    "    for t in range(len(tokd)):\n",
    "        if len(tokd[t])<pint:\n",
    "            continue\n",
    "        k = tok_str(tokd[t][:pint]) # get prefix key\n",
    "        # for each prefix, track inds of cands w that prefix\n",
    "        if k in infos:\n",
    "            infos[k].append(scos[t])\n",
    "        else:\n",
    "            infos[k] = [scos[t]]\n",
    "    \n",
    "    return infos\n",
    "\n",
    "def get_prefix_data(tokd, scos, plen, tok):\n",
    "    pinfo = get_prefs_info(plen, tokd, scos)\n",
    "    result = []\n",
    "    for inf in pinfo.keys():\n",
    "        # get usable prefix string\n",
    "        pref = tok.decode([int(f) for f in inf.split(\"_\")])\n",
    "        # each prefix associated with best possibility\n",
    "        result.append({\n",
    "            \"inp\":pref,\n",
    "            \"scos\":pinfo[inf],\n",
    "            \"sco\":max(pinfo[inf]),\n",
    "            \"plen\":plen\n",
    "        })\n",
    "    return result\n",
    "\n",
    "# given selected part of df, get prefix data\n",
    "def ex_dset(exs, plen, tok):\n",
    "    tokd = tok(list(exs['hyp']), add_special_tokens=False).input_ids\n",
    "    maxl = max(len(t) for t in tokd)\n",
    "    pind = plen\n",
    "    pdata = []\n",
    "    while pind<maxl:\n",
    "        pdata.extend(get_prefix_data(tokd, list(exs['precision']), pind, tok))\n",
    "        pind+=plen\n",
    "    result = pd.DataFrame(pdata)\n",
    "    result['src'] = exs['src'].iloc[0]\n",
    "    result['ref'] = exs['ref'].iloc[0]\n",
    "    return result\n",
    "    \n",
    "def get_full_dset(acands, plen, tok):\n",
    "    alldfs = []\n",
    "    uns = acands['ref'].unique()\n",
    "    ind = 0\n",
    "    lens = []\n",
    "    print(len(uns))\n",
    "    for u in uns:\n",
    "        try:\n",
    "            alldfs.append(ex_dset(acands[acands['ref']==u], plen, tok))\n",
    "            ind+=1\n",
    "        except:\n",
    "            print(\"anomaly\")\n",
    "        if ind%1000==0:\n",
    "            print(ind)\n",
    "    return pd.concat(alldfs), [len(adf) for adf in alldfs]\n",
    "\n",
    "# TODO remember to remove add_special_tokens when tokenizing\n",
    "    "
   ]
  },
  {
   "cell_type": "code",
   "execution_count": 20,
   "id": "00d01322-7f0a-4b9a-9f1c-2d67ce110d75",
   "metadata": {},
   "outputs": [
    {
     "name": "stdout",
     "output_type": "stream",
     "text": [
      "16242\n",
      "1000\n",
      "2000\n",
      "3000\n",
      "4000\n",
      "5000\n",
      "6000\n",
      "7000\n",
      "8000\n",
      "9000\n",
      "10000\n",
      "11000\n",
      "12000\n",
      "13000\n",
      "14000\n",
      "15000\n",
      "16000\n"
     ]
    }
   ],
   "source": [
    "fullset, lens = get_full_dset(allcands, 3, tok)"
   ]
  },
  {
   "cell_type": "code",
   "execution_count": 21,
   "id": "9ccbb9a4-0976-4b8b-b7dc-e4662a12ef47",
   "metadata": {},
   "outputs": [],
   "source": [
    "#fullset.to_csv(\"prefix_dset.csv\")"
   ]
  },
  {
   "cell_type": "code",
   "execution_count": 6,
   "id": "bd2b7ae2-ef81-43cc-892b-c81451bd4f11",
   "metadata": {},
   "outputs": [],
   "source": [
    "fullset = pd.read_csv(\"prefix_dset.csv\")"
   ]
  },
  {
   "cell_type": "code",
   "execution_count": 7,
   "id": "dcee2998-21b4-4747-aff0-008871f0c6cb",
   "metadata": {},
   "outputs": [],
   "source": [
    "fullset = fullset.rename(columns={'sco':'score', \"inp\":\"mt\"})"
   ]
  },
  {
   "cell_type": "code",
   "execution_count": 8,
   "id": "a0b9def9-65f4-4b2c-8256-6688b6647871",
   "metadata": {},
   "outputs": [],
   "source": [
    "split = int(len(fullset)*.8)\n",
    "devsize = int(len(fullset)*.95)\n",
    "\n",
    "trainset = fullset.iloc[:split].sample(frac=1).reset_index()\n",
    "devset = fullset.iloc[devsize:].sample(frac=1).reset_index()"
   ]
  },
  {
   "cell_type": "code",
   "execution_count": 9,
   "id": "fa76ec24-1b04-45fb-b7db-4b23f40a0932",
   "metadata": {},
   "outputs": [],
   "source": [
    "trainset.to_csv(\"/mnt/data1/prasann/latticegen/lattice-generation/COMET/data/PARPREFIX_TRAIN.csv\")\n",
    "devset.to_csv(\"/mnt/data1/prasann/latticegen/lattice-generation/COMET/data/PARPREFIX_DEV.csv\")"
   ]
  },
  {
   "cell_type": "code",
   "execution_count": 56,
   "id": "fc68404f-fb6a-423d-a143-b46450dc56a1",
   "metadata": {},
   "outputs": [],
   "source": [
    "infos = get_prefs_info(10, tokd, testscos)"
   ]
  },
  {
   "cell_type": "code",
   "execution_count": 57,
   "id": "60e2fec1-55c3-437f-a7de-0843125c6ba5",
   "metadata": {},
   "outputs": [
    {
     "data": {
      "text/plain": [
       "{'0_287_1843_8_2708_20484_459_9429_446_34_': [0.7275104059794265,\n",
       "  0.8043923419964522,\n",
       "  0.7501542733805745,\n",
       "  0.7022985883539701,\n",
       "  1.0,\n",
       "  0.8043923419964522,\n",
       "  0.791947919692525,\n",
       "  0.6355653131400284,\n",
       "  1.0,\n",
       "  0.8857000285382948,\n",
       "  0.6652049901111008,\n",
       "  0.8881501211769413],\n",
       " '0_20_34177_12270_11_5_496_10315_9_15541_': [1.0,\n",
       "  0.874235093122898,\n",
       "  0.874235093122898,\n",
       "  0.7949253342322761,\n",
       "  0.874235093122898],\n",
       " '0_20_34177_12270_9_287_1843_8_2708_20484_': [0.8560118665583999,\n",
       "  0.8153343052686353,\n",
       "  0.8153551038173115,\n",
       "  0.7328616209964707],\n",
       " '0_287_1843_8_2708_20484_459_9429_446_16_': [0.7679249640195699,\n",
       "  0.6975863464034741,\n",
       "  0.7679249640195699,\n",
       "  0.8012120435729666,\n",
       "  0.781285189930025,\n",
       "  0.7679249640195699,\n",
       "  0.7679249640195699,\n",
       "  0.825189076232105,\n",
       "  0.8043923419964522,\n",
       "  0.8209592487442797,\n",
       "  0.7306804610333764,\n",
       "  0.7679249640195699,\n",
       "  0.7080321137411774,\n",
       "  0.6975863464034741,\n",
       "  0.7679249640195699],\n",
       " '0_20_34177_12270_13_287_1843_8_2708_20484_': [0.8811286209119195],\n",
       " '0_20_34177_12270_9_5_287_1843_8_2708_': [0.7821467668928538],\n",
       " '0_20_34177_12270_13_5_287_1843_8_2708_': [0.7821467668928538],\n",
       " '0_287_1843_8_2708_20484_459_9429_446_34177_': [0.8884549608034874],\n",
       " '0_287_1843_8_2708_20484_459_9429_446_18_': [0.874235093122898],\n",
       " '0_287_1843_8_2708_20484_459_9429_446_21_': [0.6642750214037211],\n",
       " '0_20_5135_346_11_5_496_10315_9_15541_': [0.8065008590125561],\n",
       " '0_287_1843_8_2708_20484_459_9429_446_5135_': [0.7772028634815905],\n",
       " '0_287_1843_8_2708_20484_459_9429_446_36_': [0.6162607099729586],\n",
       " '0_20_5135_346_9_287_1843_8_2708_20484_': [0.7561559858236034],\n",
       " '0_287_1843_8_2708_20484_459_9429_446_6_': [0.6075172081657922],\n",
       " '0_287_1843_8_2708_20484_459_9429_446_64_': [0.4838082460796165,\n",
       "  0.7344197919070947],\n",
       " '0_20_5135_346_13_287_1843_8_2708_20484_': [0.781285189930025]}"
      ]
     },
     "execution_count": 57,
     "metadata": {},
     "output_type": "execute_result"
    }
   ],
   "source": [
    "infos"
   ]
  },
  {
   "cell_type": "code",
   "execution_count": null,
   "id": "39f9c19b-673a-45b0-b415-765226fa9fdf",
   "metadata": {},
   "outputs": [],
   "source": []
  }
 ],
 "metadata": {
  "kernelspec": {
   "display_name": "Python 3 (ipykernel)",
   "language": "python",
   "name": "python3"
  },
  "language_info": {
   "codemirror_mode": {
    "name": "ipython",
    "version": 3
   },
   "file_extension": ".py",
   "mimetype": "text/x-python",
   "name": "python",
   "nbconvert_exporter": "python",
   "pygments_lexer": "ipython3",
   "version": "3.8.12"
  }
 },
 "nbformat": 4,
 "nbformat_minor": 5
}
