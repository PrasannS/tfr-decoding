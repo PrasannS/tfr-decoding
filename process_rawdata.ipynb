{
 "cells": [
  {
   "cell_type": "code",
   "execution_count": 1,
   "id": "c2fe4236-5a5d-452a-aa40-930ee13188ef",
   "metadata": {
    "tags": []
   },
   "outputs": [],
   "source": [
    "import pandas as pd\n",
    "import random\n",
    "import matplotlib.pyplot as plt\n",
    "from itertools import combinations"
   ]
  },
  {
   "cell_type": "code",
   "execution_count": null,
   "id": "7f5b2a89-bcad-42cc-87d6-3833a372e79d",
   "metadata": {},
   "outputs": [],
   "source": [
    "p = pd.read_json(\"pftrain2.jsonl\", orient='records', lines=True)"
   ]
  },
  {
   "cell_type": "code",
   "execution_count": 2,
   "id": "da991205-a06e-4036-a7af-3b04172352d5",
   "metadata": {},
   "outputs": [],
   "source": [
    "test_df = pd.read_json(\"output/testsetlarge.jsonl\", lines=True, orient=\"records\")\n",
    "# crafted to not include stuff from earlier training\n",
    "train_df = pd.read_json(\"output/trainsetlarge.jsonl\", lines=True, orient=\"records\")"
   ]
  },
  {
   "cell_type": "code",
   "execution_count": 10,
   "id": "96fa288d-ea64-4f9b-908b-3b73f5ceb253",
   "metadata": {
    "tags": []
   },
   "outputs": [],
   "source": [
    "train_df['dist'] = (train_df.score_a-train_df.score_b).abs()\n",
    "test_df['dist'] = (test_df.score_a-test_df.score_b).abs()"
   ]
  },
  {
   "cell_type": "code",
   "execution_count": 13,
   "id": "0c87b94c-6f84-43a2-a4f8-a76151f9e6ed",
   "metadata": {
    "tags": []
   },
   "outputs": [],
   "source": [
    "train_df = train_df[train_df.dist>0.05]\n",
    "test_df = test_df[test_df.dist>0.05]"
   ]
  },
  {
   "cell_type": "code",
   "execution_count": 18,
   "id": "5c31a08e-5624-4a29-bc73-c1577d4b2c58",
   "metadata": {
    "tags": []
   },
   "outputs": [
    {
     "data": {
      "text/plain": [
       "(array([8.5606e+04, 4.5215e+04, 2.3596e+04, 1.1905e+04, 5.7720e+03,\n",
       "        2.6680e+03, 1.1490e+03, 3.5700e+02, 8.2000e+01, 1.4000e+01]),\n",
       " array([0.05000001, 0.136257  , 0.22251398, 0.30877097, 0.39502795,\n",
       "        0.48128494, 0.56754192, 0.6537989 , 0.74005589, 0.82631287,\n",
       "        0.91256986]),\n",
       " <BarContainer object of 10 artists>)"
      ]
     },
     "execution_count": 18,
     "metadata": {},
     "output_type": "execute_result"
    },
    {
     "data": {
      "image/png": "[encoded data removed]",
      "text/plain": [
       "<Figure size 640x480 with 1 Axes>"
      ]
     },
     "metadata": {},
     "output_type": "display_data"
    }
   ],
   "source": [
    "plt.hist(train_df.dist)"
   ]
  },
  {
   "cell_type": "code",
   "execution_count": 14,
   "id": "40863cf0-ecfa-4127-bf78-9f505d650edb",
   "metadata": {
    "tags": []
   },
   "outputs": [],
   "source": [
    "train_df.to_json(\"output/trainsetbalanced.jsonl\", lines=True, orient=\"records\")\n",
    "test_df.to_json(\"output/testsetbalanced.jsonl\", lines=True, orient=\"records\")"
   ]
  },
  {
   "cell_type": "code",
   "execution_count": 22,
   "id": "dd947002-c533-40fb-8072-a343520a5674",
   "metadata": {
    "tags": []
   },
   "outputs": [],
   "source": [
    "# A, B, C, D\n",
    "# CLASSES = [71, 272, 205, 309]\n",
    "CLASSES = [71, 272]\n",
    "def getclass(val):\n",
    "    if val<0.65:\n",
    "        return CLASSES[0]\n",
    "    elif val<0.75:\n",
    "        return CLASSES[1]\n",
    "    elif val<0.85:\n",
    "        return CLASSES[2]\n",
    "    else:\n",
    "        return CLASSES[3]\n",
    "    \n",
    "def pairlabel(val):\n",
    "    if val==1:\n",
    "        return CLASSES[0]\n",
    "    return CLASSES[1]"
   ]
  },
  {
   "cell_type": "code",
   "execution_count": null,
   "id": "caea3b35-8ac4-49c4-aca6-1941898661d7",
   "metadata": {},
   "outputs": [],
   "source": [
    "train_df['label'] = [getclass(v) for v in train_df['sco']]\n",
    "test_df['label'] = [getclass(v) for v in test_df['sco']]"
   ]
  },
  {
   "cell_type": "code",
   "execution_count": null,
   "id": "e27b3f49-57cb-4e37-8045-c9eadead719c",
   "metadata": {},
   "outputs": [],
   "source": [
    "train_df.to_json(\"output/trainsetlarge.jsonl\", lines=True, orient=\"records\")\n",
    "test_df.to_json(\"output/testsetlarge.jsonl\", lines=True, orient=\"records\")"
   ]
  },
  {
   "cell_type": "code",
   "execution_count": null,
   "id": "6ee972c9-0c8a-4eed-b8e9-c329dca4c452",
   "metadata": {},
   "outputs": [],
   "source": [
    "len(p['inp'].unique())"
   ]
  },
  {
   "cell_type": "code",
   "execution_count": null,
   "id": "5b728338-b816-4f4b-aae9-3c4e8de1430b",
   "metadata": {},
   "outputs": [],
   "source": [
    "groups = []\n",
    "lens = set()\n",
    "shown = 0\n",
    "for _, d in prefdataset.groupby('inp'):\n",
    "    if len(d)==6:\n",
    "        groups.append(d)\n",
    "    else:\n",
    "        if shown<8:\n",
    "            print(d)\n",
    "            shown = shown+1"
   ]
  },
  {
   "cell_type": "code",
   "execution_count": 4,
   "id": "ad69ef4f-e850-407b-b87f-975ea274cbcc",
   "metadata": {
    "tags": []
   },
   "outputs": [],
   "source": [
    "# process raw data into single uniform file\n",
    "base = \"output/rawdata/\"\n",
    "allfiles = [\n",
    "    \"bigdsetp1\",\n",
    "    \"bigdsetp2\",\n",
    "    \"bigdsetp3\",\n",
    "    \"bigdsetp4\",\n",
    "    \"bigdsetp5\",\n",
    "    \"biggerdset\",\n",
    "    \"biggerdset2\",\n",
    "    \"biggerdset3\",\n",
    "    \"biggerdset4\",\n",
    "    \"biggerdset6\",\n",
    "    \n",
    "]\n",
    "fulldset = pd.concat([pd.read_json(base+f+\".jsonl\", orient='records', lines=True) for f in allfiles])\n",
    "fulldset = fulldset[fulldset['ver']=='first'].drop(columns=['stats', 'ver', 'pref', 'prefix']).reset_index(drop=True)"
   ]
  },
  {
   "cell_type": "code",
   "execution_count": null,
   "id": "d446a251-8d44-4e18-9038-8405af962cec",
   "metadata": {
    "tags": []
   },
   "outputs": [],
   "source": [
    "def random_prefix_dataframe(df: pd.DataFrame) -> pd.DataFrame:\n",
    "    new_rows = []\n",
    "    forbatch = []\n",
    "    skipped = 0\n",
    "    for index, row in df.iterrows():\n",
    "        input_str = row['inp']\n",
    "        # batches of 3 for consistency\n",
    "        hyps = row['hyps'][:3]\n",
    "        scos = row['scos'][:3]\n",
    "        assert len(hyps)==3\n",
    "        # get more than 1 prefix per example for robustness\n",
    "        added = 0\n",
    "        while added<6:\n",
    "            for hyp, sco in zip(hyps, scos):\n",
    "                words = hyp.split(' ')\n",
    "                if len(words)<=3:\n",
    "                    skipped = skipped+1\n",
    "                    continue\n",
    "                prefix_length = random.randint(3, min(len(words), 25))\n",
    "                prefix = ' '.join(words[:prefix_length])\n",
    "\n",
    "                new_row = {\n",
    "                    'inp': input_str,\n",
    "                    'hyp': prefix,\n",
    "                    'pflen':prefix_length,\n",
    "                    'sco': sco\n",
    "                }\n",
    "                new_rows.append(new_row)\n",
    "                added = added+1\n",
    "\n",
    "    print(added)\n",
    "    print(skipped)\n",
    "    new_df = pd.DataFrame(new_rows)\n",
    "    return new_df\n",
    "\n",
    "\n",
    "\n",
    "df = pd.DataFrame({\n",
    "    'inp': ['input1', 'input2', 'input3'],\n",
    "    'hyps': [['hyp1 word1 word2', 'hyp2 word1 word2', 'hyp3 word1 word2'],\n",
    "             ['hyp4 word1 word2', 'hyp5 word1 word2', 'hyp6 word1 word2'],\n",
    "             ['hyp7 word1 word2', 'hyp8 word1 word2', 'hyp9 word1 word2']],\n",
    "    'scos': [[0.1, 0.2, 0.3], [0.4, 0.5, 0.6], [0.7, 0.8, 0.9]],\n",
    "})\n",
    "\n",
    "# Function to construct a DataFrame with pairs\n",
    "def construct_pair_dset(row, k):\n",
    "    all_pairs = list(combinations(range(len(row['hyps'])), 2))\n",
    "    pairs_indices = random.choices(all_pairs, k=k)  # sample n unique pairs\n",
    "    pairs = [(row['hyps'][i], row['hyps'][j]) for i, j in pairs_indices]\n",
    "    scores = [(row['scos'][i], row['scos'][j]) for i, j in pairs_indices]\n",
    "    \n",
    "    # Truncate pairs to 5 to 25 words\n",
    "    truncated_pairs = []\n",
    "    deleted = []\n",
    "    for i in range(len(pairs)):\n",
    "        pair = pairs[i]\n",
    "        splits = [hyp.split() for hyp in pair]\n",
    "        try:\n",
    "            truncation = random.randint(5, min(25, min([len(arr) for arr in splits])))\n",
    "            truncated_pair = []\n",
    "            for hyp in pair:\n",
    "                words = hyp.split()\n",
    "                truncated_words = words[:min(truncation, len(words))]\n",
    "                truncated_hyp = ' '.join(truncated_words)\n",
    "                truncated_pair.append(truncated_hyp)\n",
    "            truncated_pairs.append(tuple(truncated_pair))\n",
    "        except:\n",
    "            print(\"bad pair\")\n",
    "            deleted.append(i)\n",
    "\n",
    "    fscores = []\n",
    "    for i in range(len(pairs)):\n",
    "        if i not in deleted:\n",
    "            fscores.append(scores[i])\n",
    "\n",
    "    label = [score_a > score_b for score_a, score_b in fscores]\n",
    "    df_temp = pd.DataFrame({'inp': row['inp'], 'hyp_pairs': truncated_pairs,\n",
    "                            'score_a': [s[0] for s in fscores],\n",
    "                            'score_b': [s[1] for s in fscores],\n",
    "                            'label': label})\n",
    "    return df_temp\n",
    "\n",
    "k=5\n",
    "# Create the new DataFrame\n",
    "df_new = pd.concat([construct_pair_dset(row, k) for _,row in fulldset.iterrows()]).reset_index(drop=True)\n",
    "\n",
    "# Optionally, split the 'hyp_pairs' column into 'hyp_a' and 'hyp_b'\n",
    "df_new[['hyp_a', 'hyp_b']] = pd.DataFrame(df_new['hyp_pairs'].tolist(), index=df_new.index)\n",
    "df_new = df_new.drop('hyp_pairs', axis=1)"
   ]
  },
  {
   "cell_type": "code",
   "execution_count": 23,
   "id": "fab3c015-fc0e-49fe-9e6e-71a219a0f1c8",
   "metadata": {
    "tags": []
   },
   "outputs": [],
   "source": [
    "df_new['numlab'] = df_new.label"
   ]
  },
  {
   "cell_type": "code",
   "execution_count": 24,
   "id": "a86e72dc-6926-4151-a5bf-0c763d88909e",
   "metadata": {
    "tags": []
   },
   "outputs": [],
   "source": [
    "df_new['label'] = [pairlabel(p) for p in df_new.numlab]"
   ]
  },
  {
   "cell_type": "code",
   "execution_count": 30,
   "id": "7ce64b72-1849-43b0-a4d0-0aab643cb94e",
   "metadata": {
    "tags": []
   },
   "outputs": [],
   "source": [
    "trainset = df_new.iloc[:250000]\n",
    "testset = df_new.iloc[250000:]"
   ]
  },
  {
   "cell_type": "code",
   "execution_count": 7,
   "id": "6c2874b7-413d-4e1b-9b21-a48ba5bc84c2",
   "metadata": {
    "tags": []
   },
   "outputs": [],
   "source": [
    "fulldset = fulldset.drop_duplicates(subset=['inp'])"
   ]
  },
  {
   "cell_type": "code",
   "execution_count": null,
   "id": "3d5d100d-afd7-4806-9a54-54695381732e",
   "metadata": {},
   "outputs": [],
   "source": [
    "prefdataset = random_prefix_dataframe(fulldset)\n",
    "prefdataset['label']=(prefdataset.sco>0.85).astype(int)"
   ]
  },
  {
   "cell_type": "code",
   "execution_count": null,
   "id": "d80330aa-5432-431b-8f37-57534715eec4",
   "metadata": {},
   "outputs": [],
   "source": [
    "len(prefdataset)/len(prefdataset['inp'].unique())"
   ]
  },
  {
   "cell_type": "code",
   "execution_count": null,
   "id": "aba45840-623e-4620-b45c-421ba41c00ff",
   "metadata": {},
   "outputs": [],
   "source": [
    "int((len(prefdataset)/6)*.9)"
   ]
  },
  {
   "cell_type": "code",
   "execution_count": null,
   "id": "9cc7e1ba-1577-4145-b2a6-69c011bd35fc",
   "metadata": {},
   "outputs": [],
   "source": [
    "trainset = prefdataset.iloc[:49687*6]"
   ]
  },
  {
   "cell_type": "code",
   "execution_count": null,
   "id": "376246fb-514e-4ddc-8ec0-49c16b456a15",
   "metadata": {},
   "outputs": [],
   "source": [
    "testset = prefdataset.iloc[49687*6:]"
   ]
  },
  {
   "cell_type": "code",
   "execution_count": 33,
   "id": "0ee3d135-43fc-4df3-a713-4a780423cdb2",
   "metadata": {
    "tags": []
   },
   "outputs": [],
   "source": [
    "trainset.to_json(\"output/trainsetlarge.jsonl\", orient=\"records\", lines=True)"
   ]
  },
  {
   "cell_type": "code",
   "execution_count": 34,
   "id": "b68cb95d-2091-48f5-89ef-c42181505d1a",
   "metadata": {
    "tags": []
   },
   "outputs": [],
   "source": [
    "testset.to_json(\"output/testsetlarge.jsonl\", orient=\"records\", lines=True)"
   ]
  },
  {
   "cell_type": "code",
   "execution_count": null,
   "id": "92375e37-38da-44c4-9409-f6d7ef3aa386",
   "metadata": {},
   "outputs": [],
   "source": [
    "prefdataset.to_json(\"output/largerpfmdataset.jsonl\", orient=\"records\", lines=True)"
   ]
  },
  {
   "cell_type": "code",
   "execution_count": null,
   "id": "01e008db-079d-4387-9de7-30936bb72cb9",
   "metadata": {},
   "outputs": [],
   "source": [
    "prefdataset = pd.read_json(\"output/prefmetricdataset.jsonl\", orient=\"records\", lines=True)\n",
    "test_exs = pd.read_json(\"pftest.jsonl\", orient=\"records\", lines=True)"
   ]
  },
  {
   "cell_type": "code",
   "execution_count": null,
   "id": "e6aa6d19-b048-4495-9d2c-127341d3d82a",
   "metadata": {},
   "outputs": [],
   "source": [
    "test_exs"
   ]
  },
  {
   "cell_type": "code",
   "execution_count": null,
   "id": "bf576004-da84-4388-b526-052cff234e03",
   "metadata": {},
   "outputs": [],
   "source": [
    "merged_df = prefdataset.merge(test_exs, indicator=True, how='outer')\n",
    "train_df = merged_df[merged_df['_merge'] == 'left_only'].reset_index(drop=True)"
   ]
  },
  {
   "cell_type": "code",
   "execution_count": null,
   "id": "745d389d-123c-4ba6-8909-0adeb864d24b",
   "metadata": {},
   "outputs": [],
   "source": [
    "train_df.to_json(\"pftrain.jsonl\", orient='records', lines=True)"
   ]
  },
  {
   "cell_type": "code",
   "execution_count": null,
   "id": "6e8868ac-9617-4cc4-b6e1-44339ff8f07b",
   "metadata": {},
   "outputs": [],
   "source": [
    "train_df"
   ]
  },
  {
   "cell_type": "code",
   "execution_count": null,
   "id": "5ec31b63-4a94-4e52-84a3-febf99d8603d",
   "metadata": {},
   "outputs": [],
   "source": []
  }
 ],
 "metadata": {
  "kernelspec": {
   "display_name": "Python 3 (ipykernel)",
   "language": "python",
   "name": "python3"
  },
  "language_info": {
   "codemirror_mode": {
    "name": "ipython",
    "version": 3
   },
   "file_extension": ".py",
   "mimetype": "text/x-python",
   "name": "python",
   "nbconvert_exporter": "python",
   "pygments_lexer": "ipython3",
   "version": "3.8.16"
  }
 },
 "nbformat": 4,
 "nbformat_minor": 5
}
