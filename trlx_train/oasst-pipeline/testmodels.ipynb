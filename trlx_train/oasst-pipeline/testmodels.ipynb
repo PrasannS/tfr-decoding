{
 "cells": [
  {
   "cell_type": "code",
   "execution_count": 27,
   "id": "4296a5fc-dc65-427a-9cd8-69842127637c",
   "metadata": {},
   "outputs": [],
   "source": [
    "from transformers import AutoModelForSequenceClassification, AutoTokenizer, pipeline\n",
    "from transformers import T5Tokenizer\n",
    "from transformers import T5ForConditionalGeneration\n",
    "import torch"
   ]
  },
  {
   "cell_type": "code",
   "execution_count": 2,
   "id": "d6d9ef84-6513-497e-876d-8d2c0cdcf85f",
   "metadata": {},
   "outputs": [],
   "source": [
    "from transformers import AutoModelForCausalLM"
   ]
  },
  {
   "cell_type": "code",
   "execution_count": 2,
   "id": "1d2fce68-2c0d-4348-8c11-fdb372b4d110",
   "metadata": {},
   "outputs": [],
   "source": [
    "question = \"The Wikipedia official who accused Grant Shapps of doctoring his own online biography was exposed yesterday as a former Liberal Democrat member.\\n\\nThe Tory party chairman had been accused this week of using an anonymous user ID to delete embarrassing facts about his past and add unflattering details about his political rivals.\\n\\nBut yesterday it emerged that the senior Wikipedia administrator who investigated the allegations - following a tip-off from the left-wing Guardian - was a former Lib-Dem member.\\n\\nRichard Symonds, 29, who goes by the online name 'Chase me ladies, I'm the Cavalry', is one of the UK's top administrators for the website. He once described himself as 'Liberal Democrat to the last'.\\n\\nScroll down for video \\n\\nVolunteer: Richard Symonds, who joined the Wikipedia project in 2004, says he was not being political\\n\\nMr Symonds decided to block a user called 'Contribsx' on Tuesday after concluding the account was probably operated either by Mr Shapps or under his 'clear direction'. Mr Shapps angrily denied the claims, insisting the story was 'untrue from start to finish'.\\n\\nMr Symonds' decision was also criticised by other Wikipedia activists, who warned that the site should not be used to 'play politics' and referred the case to an internal arbitration committee.\\n\\nOne user wrote: 'I don't know if 'Chase me ladies, I'm the Cavalry' did anything wrong but it's just rather obscure, and doing this during the peak campaign time for the UK 2015 elections as some sort of assignment from a journalist seems odd.'\\n\\nMr Symonds, from Bow, East London, described himself on Twitter as 'Liberal Democrat (to the last)' before deleting his profile yesterday.\\n\\nHe joined other party members who signed a letter to The Guardian in January last year calling for Lord Rennard to have the Lib-Dem whip withdrawn over his refusal to apologise for making unwanted advances to female activists.\\n\\nThe internet expert, who has served in the Royal Naval Reserve, has been a Wikipedia volunteer since 2004 and became an administrator for the website in 2007.\\n\\nHe is also a paid employee of Wikimedia UK, a charity which promotes the volunteer-written encyclopedia.\\n\\nFurious denials: Grant Shapps yesterday continued to deny he was behind the Wikipedia changes\\n\\nAmong his Facebook friends is Wikipedia co-founder Jimmy Wales, who married Tony Blair's former diary secretary Kate Garvey in 2012.\\n\\nHe was once featured in a BBC profile that called him 'one of the UK's top Wikipedians' and reported that he spent up to eight hours a day working on the site.\\n\\nResponding to the criticism yesterday, Mr Symonds insisted he was not a Lib-Dem activist and said he would never let his political views interfere with his Wikipedia work.\\n\\nHe added: 'I have never considered myself 'active' in any party, although I have been a lapsed member of the Lib Dems on and off, for probably a year in total since 2010.'\\n\\nMr Symonds toned down his conclusions about Mr Shapps' possible connections to 'Contribsx', revisions to one of his Wikipedia pages show.\\n\\nAt first he claimed the Tory chairman ran the account either directly or indirectly, but later he changed this to suggest simply that the account was run by a user called 'Hackneymarsh' who was linked to Mr Shapps' office by The Guardian in 2012.\\n\\nMr Symonds admitted that Wikipedia's top officials had 'chastised' him for his handling of the case, although he refused to back down yesterday.\\n\\nHe said: 'While a link has clearly been drawn between Hackneymarsh and Contribsx, it is impossible to know who was sitting behind the keyboard of Contribsx.\\n\\n'But given the nature of edits, I suspect that it was Mr Shapps or someone close to him.'\\n\\nThe Liberal Democrats used the claims to poke fun at the Tory chairman when the story broke on Tuesday night, and senior figures in the party continued mocking him yesterday.\\n\\nLib-Dem leader Nick Clegg said he believed the denials but then joked that the person behind the account could have been 'Michael Green', the pseudonym used by Mr Shapps to promote get-rich-quick schemes before he became an MP.\\n\\nA Lib-Dem spokesman said Mr Symonds had 'no connection to Lib Dem HQ'.\\n\\n'The first time we saw this story was in the Guardian, and the first time we know about him was when we were asked about him this afternoon,' he added.\\n\\nMinister Justine Greening, left, and Tory election supremo Lynton Crosby, right, were among those mentioned in the Wikipedia edits\\n\\nMr Shapps yesterday continued to furiously deny he was behind the Wikipedia changes, and Tory cabinet ministers rallied behind him.\\n\\nHe said: 'It's categorically untrue. It's absolutely nothing to do with me. It's just ridiculous. It looks like an extreme dirty tricks campaign designed to do anything but talk about policies.'\\n\\nDavid Cameron came to his defence, insisting the Welwyn Hatfield MP was doing a 'great job'.\\n\\nWikimedia UK spokesman Stevie Benton said to the best of his knowledge Mr Symonds did not brief the Liberal Democrats about his actions.\\n\\n'I would be incredibly surprised if he had done and would say it's out of character,' he told the Daily Telegraph.\\n\\n'I've worked with Richard for three and a half years and his politics have never entered into anything in that time.'\\n\\nThe Guardian rejected criticism that its story did not made it plain that it had prompted the Wikipedia inquiry into alleged links between 'Contribsx' and Mr Shapps.\\n\\nA spokeswoman for the paper said: 'The article clearly states that this was a Guardian investigation which brought to light some potential breaches of Wikipedia's own rules, which were then communicated to the site's administrators.'\\n\\nUnite leader Len McCluskey has become embroiled in a claim against his trade union for bullying and sexual harassment.\\n\\nAs part of a constructive dismissal claim under investigation by an employment tribunal, former union official Sally Nailard has accused the Unite general secretary of calling her a 'scab'. The 50-year-old former regional officer based at Heathrow is seeking undisclosed compensation.\\n\\nThe case lifts the lid on alleged 'discrimination, misogyny and bullying' at the hard-Left union. The chairman of the employment tribunal in Watford, Isabel Manley, described the case as a 'sad and sorry tale'. More than half of Labour candidates in its 106 target seats are linked to Unite.\\n\\nMr McCluskey is one of several union officials cited in Miss Nailard's claim.\\n\\nShe resigned from her £47,000 position last August, following an alleged 18-month campaign of bullying and harassment. Her evidence submitted to the tribunal, seen by the Independent, relates to a copy of an interview she gave to Sky News in 1997 after a cabin crew strike which she didn't take part in. Her evidence states: 'If I was such a \\\"scab\\\" as Len McCluskey later said, I would have volunteered to operate as crew over the strike.'\\n\\nThe tribunal continues.\"\n",
    "answer = \"After Tory party member Grant Shapps was accused of deleting compromising information from his wikipedia page, the Wikipedia volunteer who accused him was revealed to be an opposition party supporter, spurring controversy about the relationship of wikipedia with politics.\""
   ]
  },
  {
   "cell_type": "code",
   "execution_count": 3,
   "id": "f168ff8d-bbc5-41bc-a9cf-730b151dba5a",
   "metadata": {},
   "outputs": [],
   "source": [
    "rmpipe = pipeline(\"text-classification\", model=\"OpenAssistant/reward-model-deberta-v3-large-v2\", device_map={\"\": 0})"
   ]
  },
  {
   "cell_type": "code",
   "execution_count": 27,
   "id": "4a9fa46f-1856-4f2a-924b-e3e33255a17a",
   "metadata": {},
   "outputs": [],
   "source": [
    "sent_kwargs = {\"return_all_scores\": True, \"function_to_apply\": \"none\", \"batch_size\": 1, \"truncation\":True}"
   ]
  },
  {
   "cell_type": "code",
   "execution_count": 6,
   "id": "9d967ec9-4b36-4d0e-a7ef-65a59bb083a4",
   "metadata": {},
   "outputs": [
    {
     "name": "stderr",
     "output_type": "stream",
     "text": [
      "/home/prasann/miniconda3/envs/rlenv/lib/python3.9/site-packages/transformers/pipelines/text_classification.py:104: UserWarning: `return_all_scores` is now deprecated,  if want a similar funcionality use `top_k=None` instead of `return_all_scores=True` or `top_k=1` instead of `return_all_scores=False`.\n",
      "  warnings.warn(\n",
      "Asking to truncate to max_length but no maximum length is provided and the model has no predefined maximum length. Default to no truncation.\n"
     ]
    },
    {
     "data": {
      "text/plain": [
       "[[{'label': 'LABEL_0', 'score': 0.23835493624210358}]]"
      ]
     },
     "execution_count": 6,
     "metadata": {},
     "output_type": "execute_result"
    }
   ],
   "source": [
    "rmpipe([question+\" [SEP] \"+answer], **sent_kwargs)"
   ]
  },
  {
   "cell_type": "code",
   "execution_count": 10,
   "id": "215b8b6a-8bf1-4726-8bcf-c487634e66b1",
   "metadata": {},
   "outputs": [],
   "source": [
    "del testmod"
   ]
  },
  {
   "cell_type": "code",
   "execution_count": 4,
   "id": "f714f7da-ec09-427d-9307-fed183828f69",
   "metadata": {},
   "outputs": [
    {
     "name": "stderr",
     "output_type": "stream",
     "text": [
      "Downloading (…)lve/main/config.json: 100%|████████████████████████████████████████████████████████████████| 1.01k/1.01k [00:00<00:00, 144kB/s]\n",
      "Downloading pytorch_model.bin: 100%|███████████████████████████████████████████████████████████████████████| 334M/334M [00:08<00:00, 39.8MB/s]\n"
     ]
    }
   ],
   "source": [
    "testmod = AutoModelForCausalLM.from_pretrained(\"Laurie/eli5_gpt2-model\")"
   ]
  },
  {
   "cell_type": "code",
   "execution_count": 6,
   "id": "fcb7fca2-ca52-481d-aa57-1c1a4909c626",
   "metadata": {},
   "outputs": [],
   "source": [
    "testtok = AutoTokenizer.from_pretrained(\"lxuechen/tldr-gpt2-xl\")"
   ]
  },
  {
   "cell_type": "code",
   "execution_count": null,
   "id": "1324252d-c188-40be-9594-962fd359fe06",
   "metadata": {},
   "outputs": [],
   "source": [
    "testmod.to(\"cuda:1\")"
   ]
  },
  {
   "cell_type": "code",
   "execution_count": 50,
   "id": "581c617b-0537-4365-9637-82487567f378",
   "metadata": {},
   "outputs": [],
   "source": [
    "inpstr = \"I (male, 19) met this girl at collge (19 too) a couple of months ago. At the moment I met her, nothing really special happened between us happened, we just chatted a bit and left as early friends. Then, I entered college (the same where she studies) and we started to connect faster; we have a lot in common, we're both interested in culture and knowledge, and we often tend to play around and have a good time together. Then I found out that a friend of mine (let's call him A) has liked her since before I knew her, about 8 months or so ago. She didn't liked him back, and supposedly they settled as friends. However, it seems that he is still trying something, and whenever I try to be playful with her he seems very uncomfortable about it. Also, I've been supsecting that she likes another friend of mine; but I'm not certain of that. What should I do? I would love to move forward with this girl, but I don't want to hurt any of my friends or her, in any case. TL;DR:\"\n",
    "ans_str = \"I'm in a love triangle, and I don't know who likes who. What should I do?\"\n",
    "inputs = testtok(inpstr, return_tensors='pt').to(testmod.device)"
   ]
  },
  {
   "cell_type": "code",
   "execution_count": 4,
   "id": "d46284b4-b4bd-48dc-ad7f-30e894bf9990",
   "metadata": {},
   "outputs": [
    {
     "ename": "NameError",
     "evalue": "name 'testtok' is not defined",
     "output_type": "error",
     "traceback": [
      "\u001b[0;31m---------------------------------------------------------------------------\u001b[0m",
      "\u001b[0;31mNameError\u001b[0m                                 Traceback (most recent call last)",
      "Cell \u001b[0;32mIn[4], line 2\u001b[0m\n\u001b[1;32m      1\u001b[0m inpstr \u001b[38;5;241m=\u001b[39m \u001b[38;5;124m\"\u001b[39m\u001b[38;5;124mQuestion: Explain like I\u001b[39m\u001b[38;5;124m'\u001b[39m\u001b[38;5;124mm five. Why can\u001b[39m\u001b[38;5;124m'\u001b[39m\u001b[38;5;124mt penguins fly?\u001b[39m\u001b[38;5;124m\"\u001b[39m\n\u001b[0;32m----> 2\u001b[0m inputs \u001b[38;5;241m=\u001b[39m \u001b[43mtesttok\u001b[49m(inpstr, return_tensors\u001b[38;5;241m=\u001b[39m\u001b[38;5;124m'\u001b[39m\u001b[38;5;124mpt\u001b[39m\u001b[38;5;124m'\u001b[39m)\u001b[38;5;241m.\u001b[39mto(testmod\u001b[38;5;241m.\u001b[39mdevice)\n",
      "\u001b[0;31mNameError\u001b[0m: name 'testtok' is not defined"
     ]
    }
   ],
   "source": [
    "inpstr = \"Question: Explain like I'm five. Why can't penguins fly?\"\n",
    "inputs = testtok(inpstr, return_tensors='pt').to(testmod.device)"
   ]
  },
  {
   "cell_type": "code",
   "execution_count": 51,
   "id": "0dee8ced-8c98-4123-b46b-ac0fac3e1431",
   "metadata": {},
   "outputs": [
    {
     "data": {
      "text/plain": [
       "[[{'label': 'LABEL_0', 'score': -1.0841758251190186}]]"
      ]
     },
     "execution_count": 51,
     "metadata": {},
     "output_type": "execute_result"
    }
   ],
   "source": [
    "rmpipe([inpstr+\" [SEP] \"+ans_str], **sent_kwargs)"
   ]
  },
  {
   "cell_type": "code",
   "execution_count": 13,
   "id": "9720cbb7-c655-4964-8f3b-0f99ba380c36",
   "metadata": {},
   "outputs": [
    {
     "name": "stderr",
     "output_type": "stream",
     "text": [
      "Setting `pad_token_id` to `eos_token_id`:50256 for open-end generation.\n"
     ]
    },
    {
     "data": {
      "text/plain": [
       "[\"Question: Explain like I'm five. Why can't penguins fly? \\n\\n Answer:   *F***K*!  We have been in the Atlantic for a very long time, and are a population of millions.  They're not likely to migrate rapidly unless there's more species in our environment that can't.  Can you have one that's on its way to Europe, and not get into the Atlantic itself?\\n\\nFor example, this might require flying, and maybe it could also require one that can use its own resources.  Would there be any other options?  I suppose I don't mind if I could see a plane at that speed: would I actually see any additional species in the Atlantic, or would they take a flight there?  But what would the point be, for them to be able to fly?  (There is absolutely no specific species of penguins to visit, but the point is to be able to fly in the Atlantic and not take flight in the Atlantic, and that is what I'm describing, so flight is not possible\"]"
      ]
     },
     "execution_count": 13,
     "metadata": {},
     "output_type": "execute_result"
    }
   ],
   "source": [
    "testtok.batch_decode(testmod.generate(**inputs, do_sample=True, min_new_tokens=50, max_new_tokens=200))"
   ]
  },
  {
   "cell_type": "code",
   "execution_count": 20,
   "id": "90fe6d2a-8e24-4543-9283-c28ba969761a",
   "metadata": {},
   "outputs": [],
   "source": []
  },
  {
   "cell_type": "code",
   "execution_count": 22,
   "id": "a005b002-b364-4791-bc7a-e5089242dc7e",
   "metadata": {},
   "outputs": [],
   "source": [
    "steamtok = T5Tokenizer.from_pretrained('stanfordnlp/SteamSHP-flan-t5-large')\n",
    "steammod = T5ForConditionalGeneration.from_pretrained('stanfordnlp/SteamSHP-flan-t5-large').to(\"cuda:0\")"
   ]
  },
  {
   "cell_type": "code",
   "execution_count": 29,
   "id": "a4ec68c9-ed08-4289-8dd9-33cd4722ddd2",
   "metadata": {},
   "outputs": [],
   "source": [
    "inp = \"Why can't penguins fly? They have wings. \"\n",
    "response = \"You're actually wrong. Penguins can fly. \"\n",
    "prompt = \"\"\"POST: {context}\n",
    "\n",
    "RESPONSE A: {response}\n",
    "\n",
    "RESPONSE B: .\n",
    "\n",
    "Which response is better? RESPONSE\n",
    "\"\"\"\n",
    "procd = prompt.format(context=inp, response=response)"
   ]
  },
  {
   "cell_type": "code",
   "execution_count": 30,
   "id": "c8f955b3-a67d-45b5-8fc8-b9b0085a2328",
   "metadata": {},
   "outputs": [],
   "source": [
    "device = \"cuda:0\""
   ]
  },
  {
   "cell_type": "code",
   "execution_count": 33,
   "id": "e6eb1433-6ae1-41da-bba4-c8cdb78fc608",
   "metadata": {},
   "outputs": [
    {
     "data": {
      "text/plain": [
       "tensor([0.9517], device='cuda:0')"
      ]
     },
     "execution_count": 33,
     "metadata": {},
     "output_type": "execute_result"
    }
   ],
   "source": [
    "x  = steamtok([procd], return_tensors='pt').input_ids.to(device)\n",
    "outputs = steammod.generate(x, return_dict_in_generate=True, output_scores=True, max_new_tokens=1)\n",
    "torch.exp(outputs.scores[0][:, 71]) / torch.exp(outputs.scores[0][:,:]).sum(axis=1).item() # index 71 corresponds to the token for 'A'"
   ]
  },
  {
   "cell_type": "code",
   "execution_count": null,
   "id": "f3bc864a-2274-4735-9d6a-156568cc3bfb",
   "metadata": {},
   "outputs": [],
   "source": []
  }
 ],
 "metadata": {
  "kernelspec": {
   "display_name": "Python 3 (ipykernel)",
   "language": "python",
   "name": "python3"
  },
  "language_info": {
   "codemirror_mode": {
    "name": "ipython",
    "version": 3
   },
   "file_extension": ".py",
   "mimetype": "text/x-python",
   "name": "python",
   "nbconvert_exporter": "python",
   "pygments_lexer": "ipython3",
   "version": "3.9.0"
  }
 },
 "nbformat": 4,
 "nbformat_minor": 5
}
