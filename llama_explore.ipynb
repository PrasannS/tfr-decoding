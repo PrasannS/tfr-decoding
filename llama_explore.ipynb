{
 "cells": [
  {
   "cell_type": "code",
   "execution_count": 1,
   "id": "49de4dbd-305e-44ed-bc10-2127763131a6",
   "metadata": {},
   "outputs": [],
   "source": [
    "from transformers import LlamaForCausalLM, LlamaTokenizer\n",
    "device = \"cuda:1\""
   ]
  },
  {
   "cell_type": "code",
   "execution_count": 2,
   "id": "acfcfb42-dd4c-4d26-9408-73c9d6a10d26",
   "metadata": {},
   "outputs": [
    {
     "data": {
      "application/json": {
       "ascii": false,
       "bar_format": null,
       "colour": null,
       "elapsed": 0.005542278289794922,
       "initial": 0,
       "n": 0,
       "ncols": null,
       "nrows": 20,
       "postfix": null,
       "prefix": "Loading checkpoint shards",
       "rate": null,
       "total": 2,
       "unit": "it",
       "unit_divisor": 1000,
       "unit_scale": false
      },
      "application/vnd.jupyter.widget-view+json": {
       "model_id": "0798f902a198411fadcdaf811cbe7c42",
       "version_major": 2,
       "version_minor": 0
      },
      "text/plain": [
       "Loading checkpoint shards:   0%|          | 0/2 [00:00<?, ?it/s]"
      ]
     },
     "metadata": {},
     "output_type": "display_data"
    },
    {
     "name": "stderr",
     "output_type": "stream",
     "text": [
      "normalizer.cc(51) LOG(INFO) precompiled_charsmap is empty. use identity normalization.\n"
     ]
    }
   ],
   "source": [
    "genmodel = LlamaForCausalLM.from_pretrained(\"./llama/llama/\").to(device)\n",
    "tokenizer = LlamaTokenizer.from_pretrained(\"./llama/llama/\")"
   ]
  },
  {
   "cell_type": "code",
   "execution_count": 36,
   "id": "28cf490b-771e-4c3a-9b7e-9ad62c63447d",
   "metadata": {},
   "outputs": [],
   "source": [
    "inpstring = \"Question: Why can't penguins fly? \\n Detailed, Long Answer:\"\n",
    "inputs = tokenizer(inpstring, return_tensors=\"pt\").to(device)\n",
    "outs = genmodel.generate(**inputs, min_length=50, max_new_tokens=400, do_sample=True)"
   ]
  },
  {
   "cell_type": "code",
   "execution_count": null,
   "id": "3807da19-4ee3-4e87-872c-7bca3339f630",
   "metadata": {},
   "outputs": [],
   "source": [
    "tokenizer.batch_decode(outs)"
   ]
  },
  {
   "cell_type": "code",
   "execution_count": null,
   "id": "8ed2d979-5702-4dc3-8b37-1eff5edaf6a8",
   "metadata": {},
   "outputs": [],
   "source": []
  }
 ],
 "metadata": {
  "kernelspec": {
   "display_name": "Python 3 (ipykernel)",
   "language": "python",
   "name": "python3"
  },
  "language_info": {
   "codemirror_mode": {
    "name": "ipython",
    "version": 3
   },
   "file_extension": ".py",
   "mimetype": "text/x-python",
   "name": "python",
   "nbconvert_exporter": "python",
   "pygments_lexer": "ipython3",
   "version": "3.8.12"
  }
 },
 "nbformat": 4,
 "nbformat_minor": 5
}
