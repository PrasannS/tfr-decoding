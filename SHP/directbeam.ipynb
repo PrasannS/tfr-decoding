{
 "cells": [
  {
   "cell_type": "code",
   "execution_count": 4,
   "id": "1d6ab8d9-6e2b-41cc-851e-1eb57ccb90b7",
   "metadata": {},
   "outputs": [],
   "source": [
    "from transformers import T5ForConditionalGeneration, T5Tokenizer\n",
    "import torch\n",
    "from datasets import load_dataset\n",
    "import pandas as pd\n",
    "from readability import Readability\n",
    "import numpy as np\n",
    "\n",
    "device = 'cuda:3' # if you have a GPU"
   ]
  },
  {
   "cell_type": "code",
   "execution_count": null,
   "id": "e245dad1-3345-481f-9b98-19b82a9658a8",
   "metadata": {},
   "outputs": [],
   "source": [
    "# get generation model\n",
    "tokenizer = T5Tokenizer.from_pretrained(\"google/flan-t5-xl\")\n",
    "model = T5ForConditionalGeneration.from_pretrained(\"google/flan-t5-xl\").to(device)\n",
    "\n",
    "# get shp model\n",
    "steamtok = T5Tokenizer.from_pretrained('stanfordnlp/SteamSHP-flan-t5-xl')\n",
    "steamshp = T5ForConditionalGeneration.from_pretrained('stanfordnlp/SteamSHP-flan-t5-xl').to(device)"
   ]
  },
  {
   "cell_type": "code",
   "execution_count": 3,
   "id": "4dbd39b1-aaa3-44c2-883d-c430504b986f",
   "metadata": {},
   "outputs": [
    {
     "name": "stderr",
     "output_type": "stream",
     "text": [
      "Using custom data configuration stanfordnlp--shp-9d14343f6fc5ff1a\n",
      "Reusing dataset json (/home/prasann/.cache/huggingface/datasets/stanfordnlp___json/stanfordnlp--shp-9d14343f6fc5ff1a/0.0.0/ac0ca5f5289a6cf108e706efcf040422dbbfa8e658dee6a819f20d76bb84d26b)\n"
     ]
    },
    {
     "data": {
      "application/vnd.jupyter.widget-view+json": {
       "model_id": "7cc88e92179e4366abcc799dc87ecaee",
       "version_major": 2,
       "version_minor": 0
      },
      "text/plain": [
       "  0%|          | 0/3 [00:00<?, ?it/s]"
      ]
     },
     "metadata": {},
     "output_type": "display_data"
    }
   ],
   "source": [
    "eli5 = load_dataset(\"stanfordnlp/shp\", data_dir=\"explainlikeimfive\")"
   ]
  },
  {
   "cell_type": "code",
   "execution_count": null,
   "id": "abf6545d-2fab-4b05-bd56-c49bfef84118",
   "metadata": {},
   "outputs": [],
   "source": [
    "# make prompt for eli5\n",
    "def construct_prompt(row):\n",
    "    template = \\\n",
    "\"\"\"\n",
    "The system will write a detailed and long post to respond to the user's question. Explain like the user is five years old. \n",
    "\n",
    "Question: \"\"\"\n",
    "    inp = template+row['history']+\"\\n Detailed Response:\"\n",
    "    \n",
    "    \n",
    "    return inp\n",
    "\n",
    "# score a single example (I don't think there's enough space to batch this?)\n",
    "def get_reward_single(inpdict):\n",
    "    template = \"POST: {context:s} \\n\\nRESPONSE A:{hyp:s} \\n\\nRESPONSE B: .\\n\\n Which response is better? RESPONSE \"\n",
    "    inp = template.format(context=inpdict['context'], hyp=inpdict['hyp'])\n",
    "    x = steamtok([inp], return_tensors='pt').input_ids.to(device)\n",
    "    outputs = steamshp.generate(x, return_dict_in_generate=True, output_scores=True, max_new_tokens=1)\n",
    "    return torch.exp(outputs.scores[0][:, 71]) / torch.exp(outputs.scores[0][:,:]).sum(axis=1).item() # index 71 corresponds to the token for 'A'\n",
    "\n",
    "# generate output for an input row\n",
    "def gen_row(rw, tok, mod, greedy=False, log=False):\n",
    "    input_text = construct_prompt(rw)\n",
    "    \n",
    "    #print(input_text)\n",
    "    input_ids = tok(input_text, return_tensors=\"pt\").input_ids.to(device)\n",
    "    if greedy:\n",
    "        outputs = mod.generate(input_ids, min_new_tokens=20, max_new_tokens=200)\n",
    "        outs = [tok.decode(outputs[0], skip_special_tokens=True)]\n",
    "    else: \n",
    "        outputs = mod.generate(input_ids, min_new_tokens=20, max_new_tokens=200, do_sample=True, top_p=.9, temperature=.9, num_return_sequences=10)\n",
    "        outs = [tok.decode(o, skip_special_tokens=True) for o in outputs]\n",
    "    if log:\n",
    "        print(input_text+\"\\n\"+str(outs))\n",
    "    return rw['history'], outs\n",
    "\n",
    "def gen_dir_beam(rw, tok, mod, pflen, keepR):\n",
    "    \n",
    "    # generate with initial sample\n",
    "    inp, outs = gen_row(rw, tok, mod, False)\n",
    "    # generate scores to re-rank, only use best options for next step\n",
    "    shp_scores = [float(get_reward_single({\"context\": inp, \"hyp\":o})) for o in outs]\n",
    "    bestopts = list(np.argsort(shp_scores)).reverse()[:keepR]\n",
    "    \n",
    "    \n",
    "    \n",
    "    \n",
    "    \n",
    "    "
   ]
  },
  {
   "cell_type": "code",
   "execution_count": null,
   "id": "c4a572fa-00af-4d81-9a7f-67e121c97c6d",
   "metadata": {},
   "outputs": [],
   "source": []
  }
 ],
 "metadata": {
  "kernelspec": {
   "display_name": "Python 3 (ipykernel)",
   "language": "python",
   "name": "python3"
  },
  "language_info": {
   "codemirror_mode": {
    "name": "ipython",
    "version": 3
   },
   "file_extension": ".py",
   "mimetype": "text/x-python",
   "name": "python",
   "nbconvert_exporter": "python",
   "pygments_lexer": "ipython3",
   "version": "3.8.12"
  }
 },
 "nbformat": 4,
 "nbformat_minor": 5
}
