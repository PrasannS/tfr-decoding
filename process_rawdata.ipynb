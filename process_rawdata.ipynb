{
 "cells": [
  {
   "cell_type": "code",
   "execution_count": 21,
   "id": "c2fe4236-5a5d-452a-aa40-930ee13188ef",
   "metadata": {
    "tags": []
   },
   "outputs": [],
   "source": [
    "import pandas as pd\n",
    "import random\n",
    "import matplotlib.pyplot as plt\n",
    "from itertools import combinations\n",
    "from os import listdir\n",
    "from sklearn.utils import resample"
   ]
  },
  {
   "cell_type": "code",
   "execution_count": 3,
   "id": "3d54cbe8-4a4a-49d1-a889-4357200a949f",
   "metadata": {},
   "outputs": [],
   "source": [
    "dfs = []\n",
    "for dir in listdir(\"alpaca_farm/bon_outs/\"):\n",
    "    if 'eli' in dir:\n",
    "        dfs.append(pd.read_json(\"alpaca_farm/bon_outs/\"+dir, orient='records'))"
   ]
  },
  {
   "cell_type": "code",
   "execution_count": 6,
   "id": "959a1fdf-c76b-495a-949a-25f3d0aaa8e5",
   "metadata": {},
   "outputs": [],
   "source": [
    "alldfs = pd.concat(dfs).reset_index(drop=True).drop(columns=['input', 'scorer_name_or_path'])"
   ]
  },
  {
   "cell_type": "code",
   "execution_count": 7,
   "id": "c2fa1954-407c-4c72-8512-be28b26bca42",
   "metadata": {},
   "outputs": [
    {
     "data": {
      "text/html": [
       "<div>\n",
       "<style scoped>\n",
       "    .dataframe tbody tr th:only-of-type {\n",
       "        vertical-align: middle;\n",
       "    }\n",
       "\n",
       "    .dataframe tbody tr th {\n",
       "        vertical-align: top;\n",
       "    }\n",
       "\n",
       "    .dataframe thead th {\n",
       "        text-align: right;\n",
       "    }\n",
       "</style>\n",
       "<table border=\"1\" class=\"dataframe\">\n",
       "  <thead>\n",
       "    <tr style=\"text-align: right;\">\n",
       "      <th></th>\n",
       "      <th>instruction</th>\n",
       "      <th>output</th>\n",
       "      <th>top_sequence</th>\n",
       "      <th>top_index</th>\n",
       "      <th>top_scores</th>\n",
       "    </tr>\n",
       "  </thead>\n",
       "  <tbody>\n",
       "    <tr>\n",
       "      <th>0</th>\n",
       "      <td>Gorillaz and their virtual band \"history\"I am ...</td>\n",
       "      <td>[Gorillaz is a British virtual band created in...</td>\n",
       "      <td>[Below is an instruction that describes a task...</td>\n",
       "      <td>[1, 0]</td>\n",
       "      <td>[0.39429283142089805, 0.7290570735931391]</td>\n",
       "    </tr>\n",
       "    <tr>\n",
       "      <th>1</th>\n",
       "      <td>If a RAR or ZIP file just make another file/gr...</td>\n",
       "      <td>[Yes, you can keep compressing RAR and ZIP fil...</td>\n",
       "      <td>[Below is an instruction that describes a task...</td>\n",
       "      <td>[1, 0]</td>\n",
       "      <td>[1.037175416946411, 1.441125512123108]</td>\n",
       "    </tr>\n",
       "    <tr>\n",
       "      <th>2</th>\n",
       "      <td>Why do Catalonia and the rest of Spain think e...</td>\n",
       "      <td>[The conflict between Catalonia and the rest o...</td>\n",
       "      <td>[Below is an instruction that describes a task...</td>\n",
       "      <td>[0, 1]</td>\n",
       "      <td>[1.635269045829773, 0.12795141339302002]</td>\n",
       "    </tr>\n",
       "    <tr>\n",
       "      <th>3</th>\n",
       "      <td>Who chooses where the Olympics are going to be...</td>\n",
       "      <td>[The International Olympic Committee (IOC) is ...</td>\n",
       "      <td>[Below is an instruction that describes a task...</td>\n",
       "      <td>[1, 0]</td>\n",
       "      <td>[-0.598800957202911, 2.12459659576416]</td>\n",
       "    </tr>\n",
       "    <tr>\n",
       "      <th>4</th>\n",
       "      <td>How could the governments of USA / UK have giv...</td>\n",
       "      <td>[It is understandable that you may be confused...</td>\n",
       "      <td>[Below is an instruction that describes a task...</td>\n",
       "      <td>[0, 1]</td>\n",
       "      <td>[0.7304080724716181, 0.454102754592895]</td>\n",
       "    </tr>\n",
       "    <tr>\n",
       "      <th>...</th>\n",
       "      <td>...</td>\n",
       "      <td>...</td>\n",
       "      <td>...</td>\n",
       "      <td>...</td>\n",
       "      <td>...</td>\n",
       "    </tr>\n",
       "    <tr>\n",
       "      <th>16695</th>\n",
       "      <td>Pangaea: Why was there just a single giant lan...</td>\n",
       "      <td>[The hypothesis of a single super-continent is...</td>\n",
       "      <td>[Below is an instruction that describes a task...</td>\n",
       "      <td>[0, 1]</td>\n",
       "      <td>[2.8094208240509033, 2.256419658660888]</td>\n",
       "    </tr>\n",
       "    <tr>\n",
       "      <th>16696</th>\n",
       "      <td>All the different FPS \"netcode\" terminology li...</td>\n",
       "      <td>[Netcode is a term used to refer to the networ...</td>\n",
       "      <td>[Below is an instruction that describes a task...</td>\n",
       "      <td>[0, 1]</td>\n",
       "      <td>[1.205457210540771, 0.6027202010154721]</td>\n",
       "    </tr>\n",
       "    <tr>\n",
       "      <th>16697</th>\n",
       "      <td>Where do last names come from?There's a few qu...</td>\n",
       "      <td>[Last names are thought to have originated in ...</td>\n",
       "      <td>[Below is an instruction that describes a task...</td>\n",
       "      <td>[1, 0]</td>\n",
       "      <td>[1.125969529151916, 1.569443464279174]</td>\n",
       "    </tr>\n",
       "    <tr>\n",
       "      <th>16698</th>\n",
       "      <td>Why is the skin on penises so dark, compared t...</td>\n",
       "      <td>[The skin on penises is darker than other area...</td>\n",
       "      <td>[Below is an instruction that describes a task...</td>\n",
       "      <td>[0, 1]</td>\n",
       "      <td>[1.840420961380004, 1.813018083572387]</td>\n",
       "    </tr>\n",
       "    <tr>\n",
       "      <th>16699</th>\n",
       "      <td>Why is 16:9 the standard ratio for visual medi...</td>\n",
       "      <td>[The 16:9 ratio is the most commonly used aspe...</td>\n",
       "      <td>[Below is an instruction that describes a task...</td>\n",
       "      <td>[1, 0]</td>\n",
       "      <td>[1.719490766525268, 1.7504816055297852]</td>\n",
       "    </tr>\n",
       "  </tbody>\n",
       "</table>\n",
       "<p>16700 rows × 5 columns</p>\n",
       "</div>"
      ],
      "text/plain": [
       "                                             instruction  \\\n",
       "0      Gorillaz and their virtual band \"history\"I am ...   \n",
       "1      If a RAR or ZIP file just make another file/gr...   \n",
       "2      Why do Catalonia and the rest of Spain think e...   \n",
       "3      Who chooses where the Olympics are going to be...   \n",
       "4      How could the governments of USA / UK have giv...   \n",
       "...                                                  ...   \n",
       "16695  Pangaea: Why was there just a single giant lan...   \n",
       "16696  All the different FPS \"netcode\" terminology li...   \n",
       "16697  Where do last names come from?There's a few qu...   \n",
       "16698  Why is the skin on penises so dark, compared t...   \n",
       "16699  Why is 16:9 the standard ratio for visual medi...   \n",
       "\n",
       "                                                  output  \\\n",
       "0      [Gorillaz is a British virtual band created in...   \n",
       "1      [Yes, you can keep compressing RAR and ZIP fil...   \n",
       "2      [The conflict between Catalonia and the rest o...   \n",
       "3      [The International Olympic Committee (IOC) is ...   \n",
       "4      [It is understandable that you may be confused...   \n",
       "...                                                  ...   \n",
       "16695  [The hypothesis of a single super-continent is...   \n",
       "16696  [Netcode is a term used to refer to the networ...   \n",
       "16697  [Last names are thought to have originated in ...   \n",
       "16698  [The skin on penises is darker than other area...   \n",
       "16699  [The 16:9 ratio is the most commonly used aspe...   \n",
       "\n",
       "                                            top_sequence top_index  \\\n",
       "0      [Below is an instruction that describes a task...    [1, 0]   \n",
       "1      [Below is an instruction that describes a task...    [1, 0]   \n",
       "2      [Below is an instruction that describes a task...    [0, 1]   \n",
       "3      [Below is an instruction that describes a task...    [1, 0]   \n",
       "4      [Below is an instruction that describes a task...    [0, 1]   \n",
       "...                                                  ...       ...   \n",
       "16695  [Below is an instruction that describes a task...    [0, 1]   \n",
       "16696  [Below is an instruction that describes a task...    [0, 1]   \n",
       "16697  [Below is an instruction that describes a task...    [1, 0]   \n",
       "16698  [Below is an instruction that describes a task...    [0, 1]   \n",
       "16699  [Below is an instruction that describes a task...    [1, 0]   \n",
       "\n",
       "                                      top_scores  \n",
       "0      [0.39429283142089805, 0.7290570735931391]  \n",
       "1         [1.037175416946411, 1.441125512123108]  \n",
       "2       [1.635269045829773, 0.12795141339302002]  \n",
       "3         [-0.598800957202911, 2.12459659576416]  \n",
       "4        [0.7304080724716181, 0.454102754592895]  \n",
       "...                                          ...  \n",
       "16695    [2.8094208240509033, 2.256419658660888]  \n",
       "16696    [1.205457210540771, 0.6027202010154721]  \n",
       "16697     [1.125969529151916, 1.569443464279174]  \n",
       "16698     [1.840420961380004, 1.813018083572387]  \n",
       "16699    [1.719490766525268, 1.7504816055297852]  \n",
       "\n",
       "[16700 rows x 5 columns]"
      ]
     },
     "execution_count": 7,
     "metadata": {},
     "output_type": "execute_result"
    }
   ],
   "source": [
    "alldfs"
   ]
  },
  {
   "cell_type": "code",
   "execution_count": null,
   "id": "7f5b2a89-bcad-42cc-87d6-3833a372e79d",
   "metadata": {},
   "outputs": [],
   "source": [
    "p = pd.read_json(\"pftrain2.jsonl\", orient='records', lines=True)"
   ]
  },
  {
   "cell_type": "code",
   "execution_count": 2,
   "id": "da991205-a06e-4036-a7af-3b04172352d5",
   "metadata": {},
   "outputs": [],
   "source": [
    "test_df = pd.read_json(\"output/testsetlarge.jsonl\", lines=True, orient=\"records\")\n",
    "# crafted to not include stuff from earlier training\n",
    "train_df = pd.read_json(\"output/trainsetlarge.jsonl\", lines=True, orient=\"records\")"
   ]
  },
  {
   "cell_type": "code",
   "execution_count": 10,
   "id": "96fa288d-ea64-4f9b-908b-3b73f5ceb253",
   "metadata": {
    "tags": []
   },
   "outputs": [],
   "source": [
    "train_df['dist'] = (train_df.score_a-train_df.score_b).abs()\n",
    "test_df['dist'] = (test_df.score_a-test_df.score_b).abs()"
   ]
  },
  {
   "cell_type": "code",
   "execution_count": 13,
   "id": "0c87b94c-6f84-43a2-a4f8-a76151f9e6ed",
   "metadata": {
    "tags": []
   },
   "outputs": [],
   "source": [
    "train_df = train_df[train_df.dist>0.05]\n",
    "test_df = test_df[test_df.dist>0.05]"
   ]
  },
  {
   "cell_type": "code",
   "execution_count": 18,
   "id": "5c31a08e-5624-4a29-bc73-c1577d4b2c58",
   "metadata": {
    "tags": []
   },
   "outputs": [
    {
     "data": {
      "text/plain": [
       "(array([8.5606e+04, 4.5215e+04, 2.3596e+04, 1.1905e+04, 5.7720e+03,\n",
       "        2.6680e+03, 1.1490e+03, 3.5700e+02, 8.2000e+01, 1.4000e+01]),\n",
       " array([0.05000001, 0.136257  , 0.22251398, 0.30877097, 0.39502795,\n",
       "        0.48128494, 0.56754192, 0.6537989 , 0.74005589, 0.82631287,\n",
       "        0.91256986]),\n",
       " <BarContainer object of 10 artists>)"
      ]
     },
     "execution_count": 18,
     "metadata": {},
     "output_type": "execute_result"
    },
    {
     "data": {
      "image/png": "[encoded data removed]",
      "text/plain": [
       "<Figure size 640x480 with 1 Axes>"
      ]
     },
     "metadata": {},
     "output_type": "display_data"
    }
   ],
   "source": [
    "plt.hist(train_df.dist)"
   ]
  },
  {
   "cell_type": "code",
   "execution_count": 14,
   "id": "40863cf0-ecfa-4127-bf78-9f505d650edb",
   "metadata": {
    "tags": []
   },
   "outputs": [],
   "source": [
    "train_df.to_json(\"output/trainsetbalanced.jsonl\", lines=True, orient=\"records\")\n",
    "test_df.to_json(\"output/testsetbalanced.jsonl\", lines=True, orient=\"records\")"
   ]
  },
  {
   "cell_type": "code",
   "execution_count": 15,
   "id": "dd947002-c533-40fb-8072-a343520a5674",
   "metadata": {
    "tags": []
   },
   "outputs": [],
   "source": [
    "# A, B, C, D\n",
    "CLASSES = [71, 272, 205, 309]\n",
    "#CLASSES = [71, 272]\n",
    "def getclass(val):\n",
    "    if val<1.1:\n",
    "        return CLASSES[0]\n",
    "    elif val<1.7:\n",
    "        return CLASSES[1]\n",
    "    elif val<2.1:\n",
    "        return CLASSES[2]\n",
    "    else:\n",
    "        return CLASSES[3]\n",
    "    \n",
    "def pairlabel(val):\n",
    "    if val==1:\n",
    "        return CLASSES[0]\n",
    "    return CLASSES[1]"
   ]
  },
  {
   "cell_type": "code",
   "execution_count": null,
   "id": "caea3b35-8ac4-49c4-aca6-1941898661d7",
   "metadata": {},
   "outputs": [],
   "source": [
    "train_df['label'] = [getclass(v) for v in train_df['sco']]\n",
    "test_df['label'] = [getclass(v) for v in test_df['sco']]"
   ]
  },
  {
   "cell_type": "code",
   "execution_count": null,
   "id": "e27b3f49-57cb-4e37-8045-c9eadead719c",
   "metadata": {},
   "outputs": [],
   "source": [
    "train_df.to_json(\"output/trainsetlarge.jsonl\", lines=True, orient=\"records\")\n",
    "test_df.to_json(\"output/testsetlarge.jsonl\", lines=True, orient=\"records\")"
   ]
  },
  {
   "cell_type": "code",
   "execution_count": null,
   "id": "6ee972c9-0c8a-4eed-b8e9-c329dca4c452",
   "metadata": {},
   "outputs": [],
   "source": [
    "len(p['inp'].unique())"
   ]
  },
  {
   "cell_type": "code",
   "execution_count": null,
   "id": "5b728338-b816-4f4b-aae9-3c4e8de1430b",
   "metadata": {},
   "outputs": [],
   "source": [
    "groups = []\n",
    "lens = set()\n",
    "shown = 0\n",
    "for _, d in prefdataset.groupby('inp'):\n",
    "    if len(d)==6:\n",
    "        groups.append(d)\n",
    "    else:\n",
    "        if shown<8:\n",
    "            print(d)\n",
    "            shown = shown+1"
   ]
  },
  {
   "cell_type": "code",
   "execution_count": 6,
   "id": "ad69ef4f-e850-407b-b87f-975ea274cbcc",
   "metadata": {
    "tags": []
   },
   "outputs": [],
   "source": [
    "# process raw data into single uniform file\n",
    "base = \"output/rawdata/\"\n",
    "allfiles = [\n",
    "    \"bigdsetp1\",\n",
    "    \"bigdsetp2\",\n",
    "    \"bigdsetp3\",\n",
    "    \"bigdsetp4\",\n",
    "    \"bigdsetp5\",\n",
    "    \"biggerdset\",\n",
    "    \"biggerdset2\",\n",
    "    \"biggerdset3\",\n",
    "    \"biggerdset4\",\n",
    "    \"biggerdset6\",\n",
    "    \n",
    "]\n",
    "fulldset = pd.concat([pd.read_json(base+f+\".jsonl\", orient='records', lines=True) for f in allfiles])\n",
    "fulldset = fulldset[fulldset['ver']=='first'].drop(columns=['stats', 'ver', 'pref', 'prefix']).reset_index(drop=True)"
   ]
  },
  {
   "cell_type": "code",
   "execution_count": null,
   "id": "87be2527-fac3-4855-873b-3df30a867728",
   "metadata": {},
   "outputs": [],
   "source": []
  },
  {
   "cell_type": "code",
   "execution_count": 7,
   "id": "3fe2198f-31d1-4d99-8cee-749da2eb6549",
   "metadata": {},
   "outputs": [],
   "source": [
    "smallset = fulldset.loc[:2000]"
   ]
  },
  {
   "cell_type": "code",
   "execution_count": 8,
   "id": "b62961a0-4a2c-4dec-a632-4f0accfd8d6f",
   "metadata": {},
   "outputs": [],
   "source": [
    "smallset.to_json(\"output/smallrewset.jsonl\", orient='records', lines=True)"
   ]
  },
  {
   "cell_type": "code",
   "execution_count": 4,
   "id": "03e010e3-d743-4a48-b244-734d5040d0d5",
   "metadata": {},
   "outputs": [
    {
     "data": {
      "text/html": [
       "<div>\n",
       "<style scoped>\n",
       "    .dataframe tbody tr th:only-of-type {\n",
       "        vertical-align: middle;\n",
       "    }\n",
       "\n",
       "    .dataframe tbody tr th {\n",
       "        vertical-align: top;\n",
       "    }\n",
       "\n",
       "    .dataframe thead th {\n",
       "        text-align: right;\n",
       "    }\n",
       "</style>\n",
       "<table border=\"1\" class=\"dataframe\">\n",
       "  <thead>\n",
       "    <tr style=\"text-align: right;\">\n",
       "      <th></th>\n",
       "      <th>inp</th>\n",
       "      <th>hyps</th>\n",
       "      <th>scos</th>\n",
       "    </tr>\n",
       "  </thead>\n",
       "  <tbody>\n",
       "    <tr>\n",
       "      <th>0</th>\n",
       "      <td>Why are different tiers (regular &lt; mid &lt; premi...</td>\n",
       "      <td>[Is this a practical or theoretical issue? I h...</td>\n",
       "      <td>[0.3256509602, 0.9307213426000001, 0.765635073...</td>\n",
       "    </tr>\n",
       "    <tr>\n",
       "      <th>1</th>\n",
       "      <td>Stars and VisibilityWhy do stars in the night'...</td>\n",
       "      <td>[The ephemeris of a star can provide some info...</td>\n",
       "      <td>[0.7836418152, 0.7945138216000001, 0.758988022...</td>\n",
       "    </tr>\n",
       "    <tr>\n",
       "      <th>2</th>\n",
       "      <td>How do we know all the money the government is...</td>\n",
       "      <td>[JPMorgan Chase’s record $13 billion mortgage ...</td>\n",
       "      <td>[0.721021533, 0.7394787073, 0.8426040411, 0.67...</td>\n",
       "    </tr>\n",
       "    <tr>\n",
       "      <th>3</th>\n",
       "      <td>What are good and bad sides of manual and auto...</td>\n",
       "      <td>[The driver has more control over the gearshif...</td>\n",
       "      <td>[0.8687275648, 0.8893937469000001, 0.553276300...</td>\n",
       "    </tr>\n",
       "    <tr>\n",
       "      <th>4</th>\n",
       "      <td>How do muscles grow?I've been working out late...</td>\n",
       "      <td>[Muscles are made up of proteins and the more ...</td>\n",
       "      <td>[0.8180243969000001, 0.7415654063, 0.895186185...</td>\n",
       "    </tr>\n",
       "    <tr>\n",
       "      <th>...</th>\n",
       "      <td>...</td>\n",
       "      <td>...</td>\n",
       "      <td>...</td>\n",
       "    </tr>\n",
       "    <tr>\n",
       "      <th>1996</th>\n",
       "      <td>Why do University computers get a 200+Mbps con...</td>\n",
       "      <td>[If every person had 1Gb of bandwidth, that wo...</td>\n",
       "      <td>[0.892678678, 0.7492083311000001, 0.8366983533...</td>\n",
       "    </tr>\n",
       "    <tr>\n",
       "      <th>1997</th>\n",
       "      <td>so why do companies make mail-in rebates?why d...</td>\n",
       "      <td>[If you can sell more products to people by ha...</td>\n",
       "      <td>[0.49159574510000004, 0.8631223440000001, 0.56...</td>\n",
       "    </tr>\n",
       "    <tr>\n",
       "      <th>1998</th>\n",
       "      <td>Why do people keep buying EA games if they kno...</td>\n",
       "      <td>[I think this is the case in that many people ...</td>\n",
       "      <td>[0.5311492085, 0.8092612624000001, 0.745661974...</td>\n",
       "    </tr>\n",
       "    <tr>\n",
       "      <th>1999</th>\n",
       "      <td>The enormous salaries of professional athletes...</td>\n",
       "      <td>[I think the owners started to pay out more, t...</td>\n",
       "      <td>[0.46389752630000003, 0.8252944350000001, 0.69...</td>\n",
       "    </tr>\n",
       "    <tr>\n",
       "      <th>2000</th>\n",
       "      <td>What's it called when you have a memory of hea...</td>\n",
       "      <td>[It's called a double dissociation. That is, t...</td>\n",
       "      <td>[0.9663690925, 0.9023568630000001, 0.885101139...</td>\n",
       "    </tr>\n",
       "  </tbody>\n",
       "</table>\n",
       "<p>2001 rows × 3 columns</p>\n",
       "</div>"
      ],
      "text/plain": [
       "                                                    inp  \\\n",
       "0     Why are different tiers (regular < mid < premi...   \n",
       "1     Stars and VisibilityWhy do stars in the night'...   \n",
       "2     How do we know all the money the government is...   \n",
       "3     What are good and bad sides of manual and auto...   \n",
       "4     How do muscles grow?I've been working out late...   \n",
       "...                                                 ...   \n",
       "1996  Why do University computers get a 200+Mbps con...   \n",
       "1997  so why do companies make mail-in rebates?why d...   \n",
       "1998  Why do people keep buying EA games if they kno...   \n",
       "1999  The enormous salaries of professional athletes...   \n",
       "2000  What's it called when you have a memory of hea...   \n",
       "\n",
       "                                                   hyps  \\\n",
       "0     [Is this a practical or theoretical issue? I h...   \n",
       "1     [The ephemeris of a star can provide some info...   \n",
       "2     [JPMorgan Chase’s record $13 billion mortgage ...   \n",
       "3     [The driver has more control over the gearshif...   \n",
       "4     [Muscles are made up of proteins and the more ...   \n",
       "...                                                 ...   \n",
       "1996  [If every person had 1Gb of bandwidth, that wo...   \n",
       "1997  [If you can sell more products to people by ha...   \n",
       "1998  [I think this is the case in that many people ...   \n",
       "1999  [I think the owners started to pay out more, t...   \n",
       "2000  [It's called a double dissociation. That is, t...   \n",
       "\n",
       "                                                   scos  \n",
       "0     [0.3256509602, 0.9307213426000001, 0.765635073...  \n",
       "1     [0.7836418152, 0.7945138216000001, 0.758988022...  \n",
       "2     [0.721021533, 0.7394787073, 0.8426040411, 0.67...  \n",
       "3     [0.8687275648, 0.8893937469000001, 0.553276300...  \n",
       "4     [0.8180243969000001, 0.7415654063, 0.895186185...  \n",
       "...                                                 ...  \n",
       "1996  [0.892678678, 0.7492083311000001, 0.8366983533...  \n",
       "1997  [0.49159574510000004, 0.8631223440000001, 0.56...  \n",
       "1998  [0.5311492085, 0.8092612624000001, 0.745661974...  \n",
       "1999  [0.46389752630000003, 0.8252944350000001, 0.69...  \n",
       "2000  [0.9663690925, 0.9023568630000001, 0.885101139...  \n",
       "\n",
       "[2001 rows x 3 columns]"
      ]
     },
     "execution_count": 4,
     "metadata": {},
     "output_type": "execute_result"
    }
   ],
   "source": [
    "smallset"
   ]
  },
  {
   "cell_type": "code",
   "execution_count": 6,
   "id": "cd178ea4-ebd7-47b6-aea7-b11a167065fe",
   "metadata": {},
   "outputs": [
    {
     "data": {
      "text/plain": [
       "55208"
      ]
     },
     "execution_count": 6,
     "metadata": {},
     "output_type": "execute_result"
    }
   ],
   "source": [
    "len(fulldset['inp'].unique())"
   ]
  },
  {
   "cell_type": "code",
   "execution_count": 8,
   "id": "0b0bfba3-3dd9-4bdb-8dd7-24b7a7c96aa1",
   "metadata": {},
   "outputs": [],
   "source": [
    "import numpy as np\n",
    "def get_traindict(row):\n",
    "    inptemplate = \"\"\"\n",
    "    Write a long, detailed, response to properly answer the question. \n",
    "\n",
    "    Question: {inp} \\n\\n\n",
    "    Response:\"\"\"\n",
    "    res = {}\n",
    "    res['input'] = inptemplate.format(inp=row['inp'])\n",
    "    # take hyp with highest steamSHP\n",
    "    res['output'] = row['hyps'][int(np.argmax(row['scos']))]\n",
    "    res['sco'] = max(row['scos'])\n",
    "    return res"
   ]
  },
  {
   "cell_type": "code",
   "execution_count": 18,
   "id": "b00172c6-8621-4f41-a94a-8f2d569f0abd",
   "metadata": {},
   "outputs": [],
   "source": [
    "allres = pd.DataFrame([get_traindict(r) for _, r in fulldset.iterrows()])"
   ]
  },
  {
   "cell_type": "code",
   "execution_count": 23,
   "id": "c9a4f3ec-67cb-4a9e-ad0e-a356ad472c4b",
   "metadata": {},
   "outputs": [],
   "source": [
    "allres = allres.drop_duplicates(subset=['input']).reset_index()"
   ]
  },
  {
   "cell_type": "code",
   "execution_count": 24,
   "id": "e1348e4c-81af-408c-ba5b-b709f8d4a1b6",
   "metadata": {},
   "outputs": [
    {
     "data": {
      "text/plain": [
       "55208"
      ]
     },
     "execution_count": 24,
     "metadata": {},
     "output_type": "execute_result"
    }
   ],
   "source": [
    "len(allres)"
   ]
  },
  {
   "cell_type": "code",
   "execution_count": 26,
   "id": "5658d7da-5842-4a25-9f64-09e84c5a7e95",
   "metadata": {},
   "outputs": [],
   "source": [
    "train = allres.loc[:50000]\n",
    "test = allres.loc[50000:]"
   ]
  },
  {
   "cell_type": "code",
   "execution_count": 27,
   "id": "d884ab81-bd1a-4ed9-9886-ec9dcc94c18a",
   "metadata": {},
   "outputs": [],
   "source": [
    "train.to_json(\"output/llamaftunetrain.jsonl\", lines=True, orient='records')\n",
    "test.to_json(\"output/llamaftunetest.jsonl\", lines=True, orient='records')"
   ]
  },
  {
   "cell_type": "code",
   "execution_count": 28,
   "id": "5f92f97a-89f5-417d-a33f-e8f42b5a1957",
   "metadata": {},
   "outputs": [
    {
     "data": {
      "text/plain": [
       "\"\\n    Write a long, detailed, response to properly answer the question. \\n\\n    Question: Why are different tiers (regular < mid < premium) of gas' prices almost always 10 cents different?I've noticed that the difference in price between regular gas and midrange, and between midrange and premium, is almost always 10 cents. This seems to hold true no matter what the price for regular gas. This doesn't seem to make sense, as the difference between $2 and $2.10 and the difference between $4 and $4.10 /gal are proportionally very different. Is this just an arbitrary convention that undermines arguments of a rational basis for gasoline prices?  \\n\\n\\n    Response:\""
      ]
     },
     "execution_count": 28,
     "metadata": {},
     "output_type": "execute_result"
    }
   ],
   "source": [
    "allres['input'][0]"
   ]
  },
  {
   "cell_type": "code",
   "execution_count": 5,
   "id": "44752299-4448-4df2-8871-98a1df7ec2e7",
   "metadata": {},
   "outputs": [
    {
     "data": {
      "text/plain": [
       "0.8649267119261091"
      ]
     },
     "execution_count": 5,
     "metadata": {},
     "output_type": "execute_result"
    }
   ],
   "source": [
    "sum([max(m) for m in fulldset['scos']])/len(fulldset)"
   ]
  },
  {
   "cell_type": "code",
   "execution_count": 13,
   "id": "88ab709a-6192-4adc-ab39-129ebf5cfc79",
   "metadata": {},
   "outputs": [
    {
     "data": {
      "text/plain": [
       "(array([3.4000e+01, 2.8000e+02, 1.0840e+03, 3.2800e+03, 1.3202e+04,\n",
       "        3.3712e+04, 1.4602e+04, 5.5800e+02, 3.6000e+01, 1.2000e+01]),\n",
       " array([-1.64684582, -1.03905058, -0.43125534,  0.1765399 ,  0.78433514,\n",
       "         1.39213037,  1.99992561,  2.60772085,  3.21551609,  3.82331133,\n",
       "         4.43110657]),\n",
       " <BarContainer object of 10 artists>)"
      ]
     },
     "execution_count": 13,
     "metadata": {},
     "output_type": "execute_result"
    },
    {
     "data": {
      "image/png": "[encoded data removed]",
      "text/plain": [
       "<Figure size 640x480 with 1 Axes>"
      ]
     },
     "metadata": {},
     "output_type": "display_data"
    }
   ],
   "source": [
    "plt.hist(fulldf.sco)"
   ]
  },
  {
   "cell_type": "code",
   "execution_count": 10,
   "id": "5a416ad4-0a83-4905-8347-bd1e821f3826",
   "metadata": {},
   "outputs": [
    {
     "name": "stdout",
     "output_type": "stream",
     "text": [
      "4\n",
      "20\n"
     ]
    }
   ],
   "source": [
    "fulldf = random_prefix_dataframe(alldfs)"
   ]
  },
  {
   "cell_type": "code",
   "execution_count": 11,
   "id": "1157f7d2-3a4f-4a5b-a98e-97ae71747a32",
   "metadata": {},
   "outputs": [
    {
     "data": {
      "text/html": [
       "<div>\n",
       "<style scoped>\n",
       "    .dataframe tbody tr th:only-of-type {\n",
       "        vertical-align: middle;\n",
       "    }\n",
       "\n",
       "    .dataframe tbody tr th {\n",
       "        vertical-align: top;\n",
       "    }\n",
       "\n",
       "    .dataframe thead th {\n",
       "        text-align: right;\n",
       "    }\n",
       "</style>\n",
       "<table border=\"1\" class=\"dataframe\">\n",
       "  <thead>\n",
       "    <tr style=\"text-align: right;\">\n",
       "      <th></th>\n",
       "      <th>inp</th>\n",
       "      <th>hyp</th>\n",
       "      <th>pflen</th>\n",
       "      <th>sco</th>\n",
       "    </tr>\n",
       "  </thead>\n",
       "  <tbody>\n",
       "    <tr>\n",
       "      <th>0</th>\n",
       "      <td>Gorillaz and their virtual band \"history\"I am ...</td>\n",
       "      <td>Gorillaz is a British virtual band created in ...</td>\n",
       "      <td>33</td>\n",
       "      <td>0.394293</td>\n",
       "    </tr>\n",
       "    <tr>\n",
       "      <th>1</th>\n",
       "      <td>Gorillaz and their virtual band \"history\"I am ...</td>\n",
       "      <td>Gorillaz is a virtual band created by Damon Al...</td>\n",
       "      <td>12</td>\n",
       "      <td>0.729057</td>\n",
       "    </tr>\n",
       "    <tr>\n",
       "      <th>2</th>\n",
       "      <td>Gorillaz and their virtual band \"history\"I am ...</td>\n",
       "      <td>Gorillaz is a British virtual band created in ...</td>\n",
       "      <td>29</td>\n",
       "      <td>0.394293</td>\n",
       "    </tr>\n",
       "    <tr>\n",
       "      <th>3</th>\n",
       "      <td>Gorillaz and their virtual band \"history\"I am ...</td>\n",
       "      <td>Gorillaz is a virtual band created by Damon Al...</td>\n",
       "      <td>19</td>\n",
       "      <td>0.729057</td>\n",
       "    </tr>\n",
       "    <tr>\n",
       "      <th>4</th>\n",
       "      <td>If a RAR or ZIP file just make another file/gr...</td>\n",
       "      <td>Yes, you can keep compressing RAR and ZIP file...</td>\n",
       "      <td>13</td>\n",
       "      <td>1.037175</td>\n",
       "    </tr>\n",
       "    <tr>\n",
       "      <th>...</th>\n",
       "      <td>...</td>\n",
       "      <td>...</td>\n",
       "      <td>...</td>\n",
       "      <td>...</td>\n",
       "    </tr>\n",
       "    <tr>\n",
       "      <th>66795</th>\n",
       "      <td>Why is the skin on penises so dark, compared t...</td>\n",
       "      <td>The skin on the penis is darker than other are...</td>\n",
       "      <td>29</td>\n",
       "      <td>1.813018</td>\n",
       "    </tr>\n",
       "    <tr>\n",
       "      <th>66796</th>\n",
       "      <td>Why is 16:9 the standard ratio for visual medi...</td>\n",
       "      <td>The 16:9 ratio is the most commonly used aspec...</td>\n",
       "      <td>35</td>\n",
       "      <td>1.719491</td>\n",
       "    </tr>\n",
       "    <tr>\n",
       "      <th>66797</th>\n",
       "      <td>Why is 16:9 the standard ratio for visual medi...</td>\n",
       "      <td>The 16:9 ratio is the most commonly used ratio...</td>\n",
       "      <td>16</td>\n",
       "      <td>1.750482</td>\n",
       "    </tr>\n",
       "    <tr>\n",
       "      <th>66798</th>\n",
       "      <td>Why is 16:9 the standard ratio for visual medi...</td>\n",
       "      <td>The 16:9 ratio is the most commonly used aspec...</td>\n",
       "      <td>17</td>\n",
       "      <td>1.719491</td>\n",
       "    </tr>\n",
       "    <tr>\n",
       "      <th>66799</th>\n",
       "      <td>Why is 16:9 the standard ratio for visual medi...</td>\n",
       "      <td>The 16:9 ratio is the most commonly used ratio...</td>\n",
       "      <td>26</td>\n",
       "      <td>1.750482</td>\n",
       "    </tr>\n",
       "  </tbody>\n",
       "</table>\n",
       "<p>66800 rows × 4 columns</p>\n",
       "</div>"
      ],
      "text/plain": [
       "                                                     inp  \\\n",
       "0      Gorillaz and their virtual band \"history\"I am ...   \n",
       "1      Gorillaz and their virtual band \"history\"I am ...   \n",
       "2      Gorillaz and their virtual band \"history\"I am ...   \n",
       "3      Gorillaz and their virtual band \"history\"I am ...   \n",
       "4      If a RAR or ZIP file just make another file/gr...   \n",
       "...                                                  ...   \n",
       "66795  Why is the skin on penises so dark, compared t...   \n",
       "66796  Why is 16:9 the standard ratio for visual medi...   \n",
       "66797  Why is 16:9 the standard ratio for visual medi...   \n",
       "66798  Why is 16:9 the standard ratio for visual medi...   \n",
       "66799  Why is 16:9 the standard ratio for visual medi...   \n",
       "\n",
       "                                                     hyp  pflen       sco  \n",
       "0      Gorillaz is a British virtual band created in ...     33  0.394293  \n",
       "1      Gorillaz is a virtual band created by Damon Al...     12  0.729057  \n",
       "2      Gorillaz is a British virtual band created in ...     29  0.394293  \n",
       "3      Gorillaz is a virtual band created by Damon Al...     19  0.729057  \n",
       "4      Yes, you can keep compressing RAR and ZIP file...     13  1.037175  \n",
       "...                                                  ...    ...       ...  \n",
       "66795  The skin on the penis is darker than other are...     29  1.813018  \n",
       "66796  The 16:9 ratio is the most commonly used aspec...     35  1.719491  \n",
       "66797  The 16:9 ratio is the most commonly used ratio...     16  1.750482  \n",
       "66798  The 16:9 ratio is the most commonly used aspec...     17  1.719491  \n",
       "66799  The 16:9 ratio is the most commonly used ratio...     26  1.750482  \n",
       "\n",
       "[66800 rows x 4 columns]"
      ]
     },
     "execution_count": 11,
     "metadata": {},
     "output_type": "execute_result"
    }
   ],
   "source": [
    "fulldf"
   ]
  },
  {
   "cell_type": "code",
   "execution_count": 16,
   "id": "088aaf82-49c4-4572-8a4a-dc5ac63ee26f",
   "metadata": {},
   "outputs": [],
   "source": [
    "fulldf['label'] = [getclass(c) for c in fulldf['sco']]"
   ]
  },
  {
   "cell_type": "code",
   "execution_count": 27,
   "id": "5a167646-8fe9-499c-9e9a-9927c35ddc12",
   "metadata": {},
   "outputs": [],
   "source": [
    "def balance(indf):\n",
    "    # Identify the number of samples for the smallest class\n",
    "    n_samples = indf['label'].value_counts().min()\n",
    "    \n",
    "    # Split the DataFrame per classes\n",
    "    dfs = [indf[indf['label'] == i] for i in indf['label'].unique()]\n",
    "    \n",
    "    # Resample each DataFrame\n",
    "    dfs_resampled = [resample(d, \n",
    "                              replace=True,  # sample with replacement\n",
    "                              n_samples=n_samples,  # to match number in smallest class\n",
    "                              random_state=123  # reproducible results\n",
    "                             ) for d in dfs]\n",
    "    \n",
    "    # Concatenate the DataFrames\n",
    "    res = pd.concat(dfs_resampled)\n",
    "    res = res.sample(frac=1, random_state=123).reset_index(drop=True)\n",
    "\n",
    "    return res"
   ]
  },
  {
   "cell_type": "code",
   "execution_count": 30,
   "id": "de4399f5-c6c2-425a-bd06-d5c58798c798",
   "metadata": {},
   "outputs": [],
   "source": [
    "newtrain = balance(traindf)\n",
    "newtest = balance(testdf)"
   ]
  },
  {
   "cell_type": "code",
   "execution_count": 34,
   "id": "074e0131-d587-4daa-a12b-1915bef87cc4",
   "metadata": {},
   "outputs": [],
   "source": [
    "newtrain.to_json('output/apfarm_ppo_train.jsonl', orient='records', lines=True)\n",
    "newtest.to_json('output/apfarm_ppo_test.jsonl', orient='records', lines=True)"
   ]
  },
  {
   "cell_type": "code",
   "execution_count": 17,
   "id": "13e2e9b0-3b21-4400-afef-22a23ac02c3d",
   "metadata": {},
   "outputs": [
    {
     "data": {
      "text/plain": [
       "(array([ 9194.,     0.,     0.,     0.,     0., 22624.,     0.,     0.,\n",
       "        24368., 10614.]),\n",
       " array([ 71. ,  94.8, 118.6, 142.4, 166.2, 190. , 213.8, 237.6, 261.4,\n",
       "        285.2, 309. ]),\n",
       " <BarContainer object of 10 artists>)"
      ]
     },
     "execution_count": 17,
     "metadata": {},
     "output_type": "execute_result"
    },
    {
     "data": {
      "image/png": "[encoded data removed]",
      "text/plain": [
       "<Figure size 640x480 with 1 Axes>"
      ]
     },
     "metadata": {},
     "output_type": "display_data"
    }
   ],
   "source": [
    "plt.hist(fulldf['label'])"
   ]
  },
  {
   "cell_type": "code",
   "execution_count": 19,
   "id": "8a731c23-0069-45fa-ae0c-e4d4db7f3940",
   "metadata": {},
   "outputs": [],
   "source": [
    "traindf = fulldf.loc[:60000].copy()\n",
    "testdf = fulldf.loc[60000:].copy()"
   ]
  },
  {
   "cell_type": "code",
   "execution_count": 20,
   "id": "590fc92f-d7cc-4c7f-aace-1e5301278d37",
   "metadata": {},
   "outputs": [
    {
     "data": {
      "text/html": [
       "<div>\n",
       "<style scoped>\n",
       "    .dataframe tbody tr th:only-of-type {\n",
       "        vertical-align: middle;\n",
       "    }\n",
       "\n",
       "    .dataframe tbody tr th {\n",
       "        vertical-align: top;\n",
       "    }\n",
       "\n",
       "    .dataframe thead th {\n",
       "        text-align: right;\n",
       "    }\n",
       "</style>\n",
       "<table border=\"1\" class=\"dataframe\">\n",
       "  <thead>\n",
       "    <tr style=\"text-align: right;\">\n",
       "      <th></th>\n",
       "      <th>inp</th>\n",
       "      <th>hyp</th>\n",
       "      <th>pflen</th>\n",
       "      <th>sco</th>\n",
       "      <th>label</th>\n",
       "    </tr>\n",
       "  </thead>\n",
       "  <tbody>\n",
       "    <tr>\n",
       "      <th>0</th>\n",
       "      <td>Gorillaz and their virtual band \"history\"I am ...</td>\n",
       "      <td>Gorillaz is a British virtual band created in ...</td>\n",
       "      <td>33</td>\n",
       "      <td>0.394293</td>\n",
       "      <td>71</td>\n",
       "    </tr>\n",
       "    <tr>\n",
       "      <th>1</th>\n",
       "      <td>Gorillaz and their virtual band \"history\"I am ...</td>\n",
       "      <td>Gorillaz is a virtual band created by Damon Al...</td>\n",
       "      <td>12</td>\n",
       "      <td>0.729057</td>\n",
       "      <td>71</td>\n",
       "    </tr>\n",
       "    <tr>\n",
       "      <th>2</th>\n",
       "      <td>Gorillaz and their virtual band \"history\"I am ...</td>\n",
       "      <td>Gorillaz is a British virtual band created in ...</td>\n",
       "      <td>29</td>\n",
       "      <td>0.394293</td>\n",
       "      <td>71</td>\n",
       "    </tr>\n",
       "    <tr>\n",
       "      <th>3</th>\n",
       "      <td>Gorillaz and their virtual band \"history\"I am ...</td>\n",
       "      <td>Gorillaz is a virtual band created by Damon Al...</td>\n",
       "      <td>19</td>\n",
       "      <td>0.729057</td>\n",
       "      <td>71</td>\n",
       "    </tr>\n",
       "    <tr>\n",
       "      <th>4</th>\n",
       "      <td>If a RAR or ZIP file just make another file/gr...</td>\n",
       "      <td>Yes, you can keep compressing RAR and ZIP file...</td>\n",
       "      <td>13</td>\n",
       "      <td>1.037175</td>\n",
       "      <td>71</td>\n",
       "    </tr>\n",
       "    <tr>\n",
       "      <th>...</th>\n",
       "      <td>...</td>\n",
       "      <td>...</td>\n",
       "      <td>...</td>\n",
       "      <td>...</td>\n",
       "      <td>...</td>\n",
       "    </tr>\n",
       "    <tr>\n",
       "      <th>59996</th>\n",
       "      <td>How do Windfarms work?And how to the wind turb...</td>\n",
       "      <td>Windfarms work by converting the kinetic energ...</td>\n",
       "      <td>31</td>\n",
       "      <td>2.162228</td>\n",
       "      <td>309</td>\n",
       "    </tr>\n",
       "    <tr>\n",
       "      <th>59997</th>\n",
       "      <td>How do Windfarms work?And how to the wind turb...</td>\n",
       "      <td>Windfarms work by converting the kinetic energ...</td>\n",
       "      <td>35</td>\n",
       "      <td>1.834873</td>\n",
       "      <td>205</td>\n",
       "    </tr>\n",
       "    <tr>\n",
       "      <th>59998</th>\n",
       "      <td>How do Windfarms work?And how to the wind turb...</td>\n",
       "      <td>Windfarms work by converting the kinetic energ...</td>\n",
       "      <td>17</td>\n",
       "      <td>2.162228</td>\n",
       "      <td>309</td>\n",
       "    </tr>\n",
       "    <tr>\n",
       "      <th>59999</th>\n",
       "      <td>How do Windfarms work?And how to the wind turb...</td>\n",
       "      <td>Windfarms work by converting the kinetic energ...</td>\n",
       "      <td>17</td>\n",
       "      <td>1.834873</td>\n",
       "      <td>205</td>\n",
       "    </tr>\n",
       "    <tr>\n",
       "      <th>60000</th>\n",
       "      <td>What happens when you melt a magnet.I know tha...</td>\n",
       "      <td>When you melt a magnet, the magnet's north and...</td>\n",
       "      <td>24</td>\n",
       "      <td>1.674818</td>\n",
       "      <td>272</td>\n",
       "    </tr>\n",
       "  </tbody>\n",
       "</table>\n",
       "<p>60001 rows × 5 columns</p>\n",
       "</div>"
      ],
      "text/plain": [
       "                                                     inp  \\\n",
       "0      Gorillaz and their virtual band \"history\"I am ...   \n",
       "1      Gorillaz and their virtual band \"history\"I am ...   \n",
       "2      Gorillaz and their virtual band \"history\"I am ...   \n",
       "3      Gorillaz and their virtual band \"history\"I am ...   \n",
       "4      If a RAR or ZIP file just make another file/gr...   \n",
       "...                                                  ...   \n",
       "59996  How do Windfarms work?And how to the wind turb...   \n",
       "59997  How do Windfarms work?And how to the wind turb...   \n",
       "59998  How do Windfarms work?And how to the wind turb...   \n",
       "59999  How do Windfarms work?And how to the wind turb...   \n",
       "60000  What happens when you melt a magnet.I know tha...   \n",
       "\n",
       "                                                     hyp  pflen       sco  \\\n",
       "0      Gorillaz is a British virtual band created in ...     33  0.394293   \n",
       "1      Gorillaz is a virtual band created by Damon Al...     12  0.729057   \n",
       "2      Gorillaz is a British virtual band created in ...     29  0.394293   \n",
       "3      Gorillaz is a virtual band created by Damon Al...     19  0.729057   \n",
       "4      Yes, you can keep compressing RAR and ZIP file...     13  1.037175   \n",
       "...                                                  ...    ...       ...   \n",
       "59996  Windfarms work by converting the kinetic energ...     31  2.162228   \n",
       "59997  Windfarms work by converting the kinetic energ...     35  1.834873   \n",
       "59998  Windfarms work by converting the kinetic energ...     17  2.162228   \n",
       "59999  Windfarms work by converting the kinetic energ...     17  1.834873   \n",
       "60000  When you melt a magnet, the magnet's north and...     24  1.674818   \n",
       "\n",
       "       label  \n",
       "0         71  \n",
       "1         71  \n",
       "2         71  \n",
       "3         71  \n",
       "4         71  \n",
       "...      ...  \n",
       "59996    309  \n",
       "59997    205  \n",
       "59998    309  \n",
       "59999    205  \n",
       "60000    272  \n",
       "\n",
       "[60001 rows x 5 columns]"
      ]
     },
     "execution_count": 20,
     "metadata": {},
     "output_type": "execute_result"
    }
   ],
   "source": [
    "traindf"
   ]
  },
  {
   "cell_type": "code",
   "execution_count": 9,
   "id": "55062ca2-5ff5-4afc-9db8-52d7a1093789",
   "metadata": {
    "tags": []
   },
   "outputs": [],
   "source": [
    "def random_prefix_dataframe(df: pd.DataFrame) -> pd.DataFrame:\n",
    "    new_rows = []\n",
    "    forbatch = []\n",
    "    skipped = 0\n",
    "    for index, row in df.iterrows():\n",
    "        input_str = row['instruction'] # was inp\n",
    "        # batches of 3 for consistency\n",
    "        hyps = row['output'][:3]\n",
    "        scos = row['top_scores'][:3]\n",
    "        assert len(hyps)==2\n",
    "        # get more than 1 prefix per example for robustness\n",
    "        added = 0\n",
    "        while added<4:\n",
    "            for hyp, sco in zip(hyps, scos):\n",
    "                words = hyp.split(' ')\n",
    "                if len(words)<=10:\n",
    "                    skipped = skipped+1\n",
    "                    continue\n",
    "                prefix_length = random.randint(10, min(len(words), 35))\n",
    "                prefix = ' '.join(words[:prefix_length])\n",
    "\n",
    "                new_row = {\n",
    "                    'inp': input_str,\n",
    "                    'hyp': prefix,\n",
    "                    'pflen':prefix_length,\n",
    "                    'sco': sco\n",
    "                }\n",
    "                new_rows.append(new_row)\n",
    "                added = added+1\n",
    "\n",
    "    print(added)\n",
    "    print(skipped)\n",
    "    new_df = pd.DataFrame(new_rows)\n",
    "    return new_df"
   ]
  },
  {
   "cell_type": "code",
   "execution_count": null,
   "id": "9471c5e1-1937-46c6-a720-c0ff3291a07c",
   "metadata": {
    "tags": []
   },
   "outputs": [],
   "source": [
    "# Function to construct a DataFrame with pairs\n",
    "def construct_pair_dset(row, k):\n",
    "    all_pairs = list(combinations(range(len(row['hyps'])), 2))\n",
    "    pairs_indices = random.choices(all_pairs, k=k)  # sample n unique pairs\n",
    "    pairs = [(row['hyps'][i], row['hyps'][j]) for i, j in pairs_indices]\n",
    "    scores = [(row['scos'][i], row['scos'][j]) for i, j in pairs_indices]\n",
    "    \n",
    "    # Truncate pairs to 5 to 25 words\n",
    "    truncated_pairs = []\n",
    "    deleted = []\n",
    "    for i in range(len(pairs)):\n",
    "        pair = pairs[i]\n",
    "        splits = [hyp.split() for hyp in pair]\n",
    "        try:\n",
    "            truncation = random.randint(5, min(25, min([len(arr) for arr in splits])))\n",
    "            truncated_pair = []\n",
    "            for hyp in pair:\n",
    "                words = hyp.split()\n",
    "                truncated_words = words[:min(truncation, len(words))]\n",
    "                truncated_hyp = ' '.join(truncated_words)\n",
    "                truncated_pair.append(truncated_hyp)\n",
    "            truncated_pairs.append(tuple(truncated_pair))\n",
    "        except:\n",
    "            print(\"bad pair\")\n",
    "            deleted.append(i)\n",
    "\n",
    "    fscores = []\n",
    "    for i in range(len(pairs)):\n",
    "        if i not in deleted:\n",
    "            fscores.append(scores[i])\n",
    "\n",
    "    label = [score_a > score_b for score_a, score_b in fscores]\n",
    "    df_temp = pd.DataFrame({'inp': row['inp'], 'hyp_pairs': truncated_pairs,\n",
    "                            'score_a': [s[0] for s in fscores],\n",
    "                            'score_b': [s[1] for s in fscores],\n",
    "                            'label': label})\n",
    "    return df_temp\n",
    "\n",
    "k=5\n",
    "# Create the new DataFrame\n",
    "df_new = pd.concat([construct_pair_dset(row, k) for _,row in fulldset.iterrows()]).reset_index(drop=True)\n",
    "\n",
    "# Optionally, split the 'hyp_pairs' column into 'hyp_a' and 'hyp_b'\n",
    "df_new[['hyp_a', 'hyp_b']] = pd.DataFrame(df_new['hyp_pairs'].tolist(), index=df_new.index)\n",
    "df_new = df_new.drop('hyp_pairs', axis=1)"
   ]
  },
  {
   "cell_type": "code",
   "execution_count": 23,
   "id": "fab3c015-fc0e-49fe-9e6e-71a219a0f1c8",
   "metadata": {
    "tags": []
   },
   "outputs": [],
   "source": [
    "df_new['numlab'] = df_new.label"
   ]
  },
  {
   "cell_type": "code",
   "execution_count": 24,
   "id": "a86e72dc-6926-4151-a5bf-0c763d88909e",
   "metadata": {
    "tags": []
   },
   "outputs": [],
   "source": [
    "df_new['label'] = [pairlabel(p) for p in df_new.numlab]"
   ]
  },
  {
   "cell_type": "code",
   "execution_count": 30,
   "id": "7ce64b72-1849-43b0-a4d0-0aab643cb94e",
   "metadata": {
    "tags": []
   },
   "outputs": [],
   "source": [
    "trainset = df_new.iloc[:250000]\n",
    "testset = df_new.iloc[250000:]"
   ]
  },
  {
   "cell_type": "code",
   "execution_count": 7,
   "id": "6c2874b7-413d-4e1b-9b21-a48ba5bc84c2",
   "metadata": {
    "tags": []
   },
   "outputs": [],
   "source": [
    "fulldset = fulldset.drop_duplicates(subset=['inp'])"
   ]
  },
  {
   "cell_type": "code",
   "execution_count": null,
   "id": "3d5d100d-afd7-4806-9a54-54695381732e",
   "metadata": {},
   "outputs": [],
   "source": [
    "prefdataset = random_prefix_dataframe(fulldset)\n",
    "prefdataset['label']=(prefdataset.sco>0.85).astype(int)"
   ]
  },
  {
   "cell_type": "code",
   "execution_count": null,
   "id": "d80330aa-5432-431b-8f37-57534715eec4",
   "metadata": {},
   "outputs": [],
   "source": [
    "len(prefdataset)/len(prefdataset['inp'].unique())"
   ]
  },
  {
   "cell_type": "code",
   "execution_count": null,
   "id": "aba45840-623e-4620-b45c-421ba41c00ff",
   "metadata": {},
   "outputs": [],
   "source": [
    "int((len(prefdataset)/6)*.9)"
   ]
  },
  {
   "cell_type": "code",
   "execution_count": null,
   "id": "9cc7e1ba-1577-4145-b2a6-69c011bd35fc",
   "metadata": {},
   "outputs": [],
   "source": [
    "trainset = prefdataset.iloc[:49687*6]"
   ]
  },
  {
   "cell_type": "code",
   "execution_count": null,
   "id": "376246fb-514e-4ddc-8ec0-49c16b456a15",
   "metadata": {},
   "outputs": [],
   "source": [
    "testset = prefdataset.iloc[49687*6:]"
   ]
  },
  {
   "cell_type": "code",
   "execution_count": 33,
   "id": "0ee3d135-43fc-4df3-a713-4a780423cdb2",
   "metadata": {
    "tags": []
   },
   "outputs": [],
   "source": [
    "trainset.to_json(\"output/trainsetlarge.jsonl\", orient=\"records\", lines=True)"
   ]
  },
  {
   "cell_type": "code",
   "execution_count": 34,
   "id": "b68cb95d-2091-48f5-89ef-c42181505d1a",
   "metadata": {
    "tags": []
   },
   "outputs": [],
   "source": [
    "testset.to_json(\"output/testsetlarge.jsonl\", orient=\"records\", lines=True)"
   ]
  },
  {
   "cell_type": "code",
   "execution_count": null,
   "id": "92375e37-38da-44c4-9409-f6d7ef3aa386",
   "metadata": {},
   "outputs": [],
   "source": [
    "prefdataset.to_json(\"output/largerpfmdataset.jsonl\", orient=\"records\", lines=True)"
   ]
  },
  {
   "cell_type": "code",
   "execution_count": null,
   "id": "01e008db-079d-4387-9de7-30936bb72cb9",
   "metadata": {},
   "outputs": [],
   "source": [
    "prefdataset = pd.read_json(\"output/prefmetricdataset.jsonl\", orient=\"records\", lines=True)\n",
    "test_exs = pd.read_json(\"pftest.jsonl\", orient=\"records\", lines=True)"
   ]
  },
  {
   "cell_type": "code",
   "execution_count": null,
   "id": "e6aa6d19-b048-4495-9d2c-127341d3d82a",
   "metadata": {},
   "outputs": [],
   "source": [
    "test_exs"
   ]
  },
  {
   "cell_type": "code",
   "execution_count": null,
   "id": "bf576004-da84-4388-b526-052cff234e03",
   "metadata": {},
   "outputs": [],
   "source": [
    "merged_df = prefdataset.merge(test_exs, indicator=True, how='outer')\n",
    "train_df = merged_df[merged_df['_merge'] == 'left_only'].reset_index(drop=True)"
   ]
  },
  {
   "cell_type": "code",
   "execution_count": null,
   "id": "745d389d-123c-4ba6-8909-0adeb864d24b",
   "metadata": {},
   "outputs": [],
   "source": [
    "train_df.to_json(\"pftrain.jsonl\", orient='records', lines=True)"
   ]
  },
  {
   "cell_type": "code",
   "execution_count": null,
   "id": "6e8868ac-9617-4cc4-b6e1-44339ff8f07b",
   "metadata": {},
   "outputs": [],
   "source": [
    "train_df"
   ]
  },
  {
   "cell_type": "code",
   "execution_count": null,
   "id": "5ec31b63-4a94-4e52-84a3-febf99d8603d",
   "metadata": {},
   "outputs": [],
   "source": []
  }
 ],
 "metadata": {
  "kernelspec": {
   "display_name": "Python 3 (ipykernel)",
   "language": "python",
   "name": "python3"
  },
  "language_info": {
   "codemirror_mode": {
    "name": "ipython",
    "version": 3
   },
   "file_extension": ".py",
   "mimetype": "text/x-python",
   "name": "python",
   "nbconvert_exporter": "python",
   "pygments_lexer": "ipython3",
   "version": "3.9.16"
  }
 },
 "nbformat": 4,
 "nbformat_minor": 5
}
